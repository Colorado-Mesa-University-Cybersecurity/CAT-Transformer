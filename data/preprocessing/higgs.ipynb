{
 "cells": [
  {
   "cell_type": "code",
   "execution_count": 1,
   "metadata": {},
   "outputs": [],
   "source": [
    "import pandas as pd\n",
    "import numpy as np\n",
    "from sklearn.preprocessing import LabelEncoder, StandardScaler\n",
    "from sklearn.model_selection import train_test_split\n",
    "from scipy.io import arff"
   ]
  },
  {
   "cell_type": "markdown",
   "metadata": {},
   "source": [
    "# MAKING TRAIN/TEST/VAL SPLIT"
   ]
  },
  {
   "cell_type": "code",
   "execution_count": 5,
   "metadata": {},
   "outputs": [
    {
     "name": "stdout",
     "output_type": "stream",
     "text": [
      "68634\n",
      "14707\n",
      "14708\n"
     ]
    }
   ],
   "source": [
    "#reading in dataset\n",
    "df = arff.loadarff('../../datasets/higgs/higgs.arff')\n",
    "\n",
    "df = pd.DataFrame(df[0])\n",
    "\n",
    "df = df[~df.isin([np.nan, np.inf, -np.inf]).any(axis=1)]\n",
    "\n",
    "targets = [\n",
    "    'class'\n",
    "]\n",
    "\n",
    "# encode the labels of the targets and create decoding dict\n",
    "label_encoders = []\n",
    "encoded_to_labels = []\n",
    "for x in range(len(targets)):\n",
    "    label_encoders.append(LabelEncoder())\n",
    "    df[targets[x]] = label_encoders[x].fit_transform(df[targets[x]])\n",
    "    encoded_to_labels.append({encoded: label for label, encoded in zip(label_encoders[x].classes_, label_encoders[x].transform(label_encoders[x].classes_))})\n",
    "\n",
    "\n",
    "df_train, df_temp = train_test_split(df, train_size=.7, random_state=12)\n",
    "df_val, df_test = train_test_split(df_temp, train_size=.5, random_state=12)\n",
    "\n",
    "print(df_train.shape[0])\n",
    "print(df_val.shape[0])\n",
    "print(df_test.shape[0])"
   ]
  },
  {
   "cell_type": "code",
   "execution_count": 6,
   "metadata": {},
   "outputs": [
    {
     "data": {
      "text/plain": [
       "class\n",
       "1        36307\n",
       "0        32327\n",
       "dtype: int64"
      ]
     },
     "execution_count": 6,
     "metadata": {},
     "output_type": "execute_result"
    }
   ],
   "source": [
    "df_train[targets].value_counts()"
   ]
  },
  {
   "cell_type": "code",
   "execution_count": 7,
   "metadata": {},
   "outputs": [
    {
     "data": {
      "text/plain": [
       "class\n",
       "1        7679\n",
       "0        7029\n",
       "dtype: int64"
      ]
     },
     "execution_count": 7,
     "metadata": {},
     "output_type": "execute_result"
    }
   ],
   "source": [
    "df_test[targets].value_counts()"
   ]
  },
  {
   "cell_type": "code",
   "execution_count": 8,
   "metadata": {},
   "outputs": [
    {
     "data": {
      "text/plain": [
       "class\n",
       "1        7840\n",
       "0        6867\n",
       "dtype: int64"
      ]
     },
     "execution_count": 8,
     "metadata": {},
     "output_type": "execute_result"
    }
   ],
   "source": [
    "df_val[targets].value_counts()"
   ]
  },
  {
   "cell_type": "code",
   "execution_count": 9,
   "metadata": {},
   "outputs": [],
   "source": [
    "#save csvs in a dataset folder in your directory\n",
    "df_train.to_csv(r'C:\\Users\\smbm2\\projects\\CAT-Transformer\\datasets\\higgs\\train.csv', index=False)\n",
    "df_val.to_csv(r'C:\\Users\\smbm2\\projects\\CAT-Transformer\\datasets\\higgs\\validation.csv', index=False)\n",
    "df_test.to_csv(r'C:\\Users\\smbm2\\projects\\CAT-Transformer\\datasets\\higgs\\test.csv', index=False)"
   ]
  }
 ],
 "metadata": {
  "kernelspec": {
   "display_name": "ml-env",
   "language": "python",
   "name": "python3"
  },
  "language_info": {
   "codemirror_mode": {
    "name": "ipython",
    "version": 3
   },
   "file_extension": ".py",
   "mimetype": "text/x-python",
   "name": "python",
   "nbconvert_exporter": "python",
   "pygments_lexer": "ipython3",
   "version": "3.11.4"
  }
 },
 "nbformat": 4,
 "nbformat_minor": 2
}
