{
 "cells": [
  {
   "cell_type": "code",
   "execution_count": 1,
   "metadata": {},
   "outputs": [],
   "source": [
    "import pandas as pd\n",
    "import numpy as np\n",
    "from sklearn.preprocessing import LabelEncoder, StandardScaler\n",
    "from sklearn.model_selection import train_test_split\n",
    "from ucimlrepo import fetch_ucirepo "
   ]
  },
  {
   "cell_type": "markdown",
   "metadata": {},
   "source": [
    "# MAKING TRAIN/TEST/VAL SPLIT"
   ]
  },
  {
   "cell_type": "code",
   "execution_count": 13,
   "metadata": {},
   "outputs": [
    {
     "name": "stdout",
     "output_type": "stream",
     "text": [
      "non-numeric features Index(['workclass', 'education', 'marital-status', 'occupation',\n",
      "       'relationship', 'race', 'sex', 'native-country', 'income'],\n",
      "      dtype='object')\n",
      "numeric features Index(['age', 'fnlwgt', 'education-num', 'capital-gain', 'capital-loss',\n",
      "       'hours-per-week'],\n",
      "      dtype='object')\n",
      "34189\n",
      "5861\n",
      "8792\n"
     ]
    }
   ],
   "source": [
    " # fetch dataset \n",
    "adult = fetch_ucirepo(id=2) \n",
    "  \n",
    "# data (as pandas dataframes) \n",
    "X = adult.data.features \n",
    "y = adult.data.targets \n",
    "\n",
    "#Placing into just one dataframe\n",
    "df = pd.concat([X,y], axis=1)\n",
    "\n",
    "#Fixing the typos in the target\n",
    "df['income'] = df['income'].str.replace('.', '', regex=True)\n",
    "\n",
    "#identify non-numeric features\n",
    "non_numeric_features = df.select_dtypes(exclude=['number', 'bool']).columns\n",
    "numeric_features = df.select_dtypes(include =['number', 'bool']).columns\n",
    "\n",
    "print(\"non-numeric features\", non_numeric_features)\n",
    "print(\"numeric features\", numeric_features)\n",
    "\n",
    "#label encode all non-numerical features\n",
    "label_encoders = {}\n",
    "\n",
    "for feature in non_numeric_features:\n",
    "    label_encoders[feature] = LabelEncoder()\n",
    "    df[feature] = label_encoders[feature].fit_transform(df[feature])\n",
    "\n",
    "#Train test split (0.70, 0.12, 0.18)\n",
    "df_train, df_temp = train_test_split(df, train_size=0.7, random_state=42)\n",
    "df_val, df_test = train_test_split(df_temp, train_size=0.4, random_state=42)\n",
    "\n",
    "print(df_train.shape[0])\n",
    "print(df_val.shape[0])\n",
    "print(df_test.shape[0])"
   ]
  },
  {
   "cell_type": "code",
   "execution_count": 6,
   "metadata": {},
   "outputs": [],
   "source": [
    "#save csvs in a dataset folder in your directory\n",
    "df_train.to_csv(r'C:\\Users\\smbm2\\projects\\CAT-Transformer\\datasets\\income\\train.csv', index=False)\n",
    "df_val.to_csv(r'C:\\Users\\smbm2\\projects\\CAT-Transformer\\datasets\\income\\validation.csv', index=False)\n",
    "df_test.to_csv(r'C:\\Users\\smbm2\\projects\\CAT-Transformer\\datasets\\income\\test.csv', index=False)"
   ]
  }
 ],
 "metadata": {
  "kernelspec": {
   "display_name": "ml-env",
   "language": "python",
   "name": "python3"
  },
  "language_info": {
   "codemirror_mode": {
    "name": "ipython",
    "version": 3
   },
   "file_extension": ".py",
   "mimetype": "text/x-python",
   "name": "python",
   "nbconvert_exporter": "python",
   "pygments_lexer": "ipython3",
   "version": "3.11.4"
  }
 },
 "nbformat": 4,
 "nbformat_minor": 2
}
