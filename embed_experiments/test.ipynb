{
 "cells": [
  {
   "cell_type": "code",
   "execution_count": 1,
   "metadata": {},
   "outputs": [
    {
     "name": "stdout",
     "output_type": "stream",
     "text": [
      "cuda\n"
     ]
    }
   ],
   "source": [
    "from EvaluationLog import EvaluationLog\n",
    "import torch\n",
    "import pandas as pd\n",
    "import pickle\n",
    "\n",
    "device_in_use = 'cuda' if torch.cuda.is_available() else 'cpu'\n",
    "print(device_in_use)\n",
    "\n",
    "with open(r'C:\\Users\\smbm2\\projects\\CAT-Transformer\\embed_experiments\\evaluation_log.pkl', 'rb') as file:\n",
    "    evaluation_log = pickle.load(file)"
   ]
  },
  {
   "cell_type": "code",
   "execution_count": 6,
   "metadata": {},
   "outputs": [
    {
     "name": "stdout",
     "output_type": "stream",
     "text": [
      "CAT ConstantPL 0 0.25995239955291416\n",
      "CAT ConstantPL 1 0.25843229445449095\n",
      "CAT ConstantPL 2 0.2164390309337984\n",
      "CAT PL 0 0.27134481150853007\n",
      "CAT PL 1 0.33069039018530594\n",
      "CAT PL 2 0.25437717662568676\n",
      "CAT ExpFF 0 0.22752592438145688\n",
      "CAT ExpFF 1 0.45135476453262463\n",
      "CAT ExpFF 2 0.27525616293413596\n",
      "CAT L 0 0.27602279238533556\n",
      "CAT L 1 0.37992415459532486\n",
      "CAT L 2 0.45149143327746477\n",
      "FT ConstantPL 0 0.36731856590823125\n",
      "FT ConstantPL 1 0.22188847237511686\n",
      "FT ConstantPL 2 0.24523525123010603\n",
      "FT PL 0 0.24240655412799433\n",
      "FT PL 1 0.2329726355117664\n",
      "FT PL 2 0.2748236799972099\n",
      "FT ExpFF 0 0.33331259143979924\n",
      "FT ExpFF 1 0.312859669066312\n",
      "FT ExpFF 2 0.2927473286787669\n",
      "FT L 0 0.31277323475009516\n",
      "FT L 1 0.3365540331915805\n",
      "FT L 2 0.4493464916421656\n"
     ]
    }
   ],
   "source": [
    "for model_name in evaluation_log.log:\n",
    "    for embedding_technique in evaluation_log.log[model_name]:\n",
    "        for trial in range(3):\n",
    "            print(model_name, embedding_technique, trial, evaluation_log.get_metric_values(model_name, embedding_technique, 'California', trial, 'Test RMSE')[-1])\n"
   ]
  }
 ],
 "metadata": {
  "kernelspec": {
   "display_name": "Python 3",
   "language": "python",
   "name": "python3"
  },
  "language_info": {
   "codemirror_mode": {
    "name": "ipython",
    "version": 3
   },
   "file_extension": ".py",
   "mimetype": "text/x-python",
   "name": "python",
   "nbconvert_exporter": "python",
   "pygments_lexer": "ipython3",
   "version": "3.11.4"
  }
 },
 "nbformat": 4,
 "nbformat_minor": 2
}
