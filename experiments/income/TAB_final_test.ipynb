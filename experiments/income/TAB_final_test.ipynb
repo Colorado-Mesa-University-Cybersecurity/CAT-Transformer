{
 "cells": [
  {
   "cell_type": "code",
   "execution_count": 1,
   "metadata": {},
   "outputs": [
    {
     "name": "stderr",
     "output_type": "stream",
     "text": [
      "c:\\Users\\smbm2\\AppData\\Local\\miniconda3\\envs\\ml-env\\Lib\\site-packages\\tqdm\\auto.py:21: TqdmWarning: IProgress not found. Please update jupyter and ipywidgets. See https://ipywidgets.readthedocs.io/en/stable/user_install.html\n",
      "  from .autonotebook import tqdm as notebook_tqdm\n"
     ]
    }
   ],
   "source": [
    "import torch\n",
    "import torch.nn as nn\n",
    "import pandas as pd\n",
    "import numpy as np\n",
    "from torch.utils.data import Dataset, DataLoader\n",
    "import matplotlib.pyplot as plt\n",
    "from rff.layers import GaussianEncoding #pip install random-fourier-features-pytorch\n",
    "from sklearn.model_selection import train_test_split\n",
    "from sklearn.metrics import f1_score, confusion_matrix\n",
    "from sklearn.preprocessing import StandardScaler, LabelEncoder\n",
    "import os\n",
    "import optuna\n",
    "from optuna.trial import TrialState\n",
    "from tab_transformer_pytorch import TabTransformer"
   ]
  },
  {
   "cell_type": "code",
   "execution_count": 2,
   "metadata": {},
   "outputs": [
    {
     "name": "stdout",
     "output_type": "stream",
     "text": [
      "GPU is available and being used\n"
     ]
    }
   ],
   "source": [
    "# Run regardless if you do or do not have GPU so all tensors are moved to right location later on\n",
    "if torch.cuda.is_available():\n",
    "    device_in_use = torch.device(\"cuda\")\n",
    "    print(\"GPU is available and being used\")\n",
    "else:\n",
    "    device_in_use = torch.device(\"cpu\")\n",
    "    print(\"GPU is not available, using CPU instead\")"
   ]
  },
  {
   "cell_type": "markdown",
   "metadata": {},
   "source": [
    "# LOAD AND PROCESS DATA\n",
    "**EXAMPLE WITH Income**"
   ]
  },
  {
   "cell_type": "code",
   "execution_count": 3,
   "metadata": {},
   "outputs": [
    {
     "data": {
      "text/plain": [
       "Index(['age', 'workclass', 'fnlwgt', 'education', 'education-num',\n",
       "       'marital-status', 'occupation', 'relationship', 'race', 'sex',\n",
       "       'capital-gain', 'capital-loss', 'hours-per-week', 'native-country',\n",
       "       'income'],\n",
       "      dtype='object')"
      ]
     },
     "execution_count": 3,
     "metadata": {},
     "output_type": "execute_result"
    }
   ],
   "source": [
    "# df_train = pd.read_csv('/home/cscadmin/CyberResearch/CAT-Transformer/datasets/income/train.csv')\n",
    "# df_test = pd.read_csv('/home/cscadmin/CyberResearch/CAT-Transformer/datasets/income/test.csv')\n",
    "# df_val = pd.read_csv('/home/cscadmin/CyberResearch/CAT-Transformer/datasets/income/validation.csv') #READ FROM RIGHT SPOT\n",
    "\n",
    "df_train = pd.read_csv(r'C:\\Users\\smbm2\\projects\\CAT-Transformer\\datasets\\income\\train.csv')\n",
    "df_test = pd.read_csv(r'C:\\Users\\smbm2\\projects\\CAT-Transformer\\datasets\\income\\test.csv')\n",
    "df_val = pd.read_csv(r'C:\\Users\\smbm2\\projects\\CAT-Transformer\\datasets\\income\\validation.csv') #READ FROM RIGHT SPOT\n",
    "\n",
    "#Take a look at what the datasets look like initially to get an idea\n",
    "df_train.columns"
   ]
  },
  {
   "cell_type": "code",
   "execution_count": 4,
   "metadata": {},
   "outputs": [],
   "source": [
    "cont_columns = ['age', 'fnlwgt', 'education-num', 'capital-gain', 'capital-loss',\n",
    "       'hours-per-week']\n",
    "cat_columns = ['workclass', 'education', 'marital-status', 'occupation',\n",
    "       'relationship', 'race', 'sex', 'native-country']\n",
    "target = ['income']\n",
    "\n",
    "#CHECKING TO MAKE SURE YOUR LIST IS CORRECT (NO NEED TO TOUCH)\n",
    "yourlist = cont_columns + cat_columns+target\n",
    "yourlist.sort()\n",
    "oglist = list(df_train.columns)\n",
    "oglist.sort()\n",
    "\n",
    "assert(yourlist == oglist), \"You may of spelled feature name wrong or you forgot to put on of them in the list\"\n"
   ]
  },
  {
   "cell_type": "code",
   "execution_count": 5,
   "metadata": {},
   "outputs": [
    {
     "name": "stdout",
     "output_type": "stream",
     "text": [
      "10\n",
      "16\n",
      "7\n",
      "16\n",
      "6\n",
      "5\n",
      "2\n",
      "43\n"
     ]
    }
   ],
   "source": [
    "#Get class counts and store in a list below\n",
    "\n",
    "for x in cat_columns:\n",
    "    print(max(len(df_train[x].value_counts()), len(df_val[x].value_counts()), len(df_test[x].value_counts())))"
   ]
  },
  {
   "cell_type": "code",
   "execution_count": 6,
   "metadata": {},
   "outputs": [],
   "source": [
    "# Manually enter class counts in the same order\n",
    "cat_features = (10,16,7,16,6,5,2,43)"
   ]
  },
  {
   "cell_type": "code",
   "execution_count": 7,
   "metadata": {},
   "outputs": [],
   "source": [
    "#Getting the number of classes in your classification target\n",
    "target_classes = [max(len(df_train[target].value_counts()), len(df_val[target].value_counts()),len(df_test[target].value_counts()))]\n",
    "target_classes = target_classes[0]"
   ]
  },
  {
   "cell_type": "code",
   "execution_count": 8,
   "metadata": {},
   "outputs": [],
   "source": [
    "# Create a StandardScaler and fit it to the cont features\n",
    "scaler = StandardScaler()\n",
    "scaler.fit(df_train[cont_columns])\n",
    "\n",
    "# Transform the training, test, and validation datasets\n",
    "df_train[cont_columns] = scaler.transform(df_train[cont_columns])\n",
    "df_test[cont_columns] = scaler.transform(df_test[cont_columns])\n",
    "df_val[cont_columns] = scaler.transform(df_val[cont_columns])"
   ]
  },
  {
   "cell_type": "code",
   "execution_count": 9,
   "metadata": {},
   "outputs": [],
   "source": [
    "class SingleTaskDataset(Dataset):\n",
    "    def __init__(self, df : pd.DataFrame, cat_columns, num_columns,task1_column):\n",
    "        self.n = df.shape[0]\n",
    "        \n",
    "        self.task1_labels = df[task1_column].astype(np.float32).values\n",
    "\n",
    "        self.cate = df[cat_columns].astype(np.int64).values\n",
    "        self.num = df[num_columns].astype(np.float32).values\n",
    "\n",
    "\n",
    "    def __len__(self):\n",
    "        return self.n\n",
    "    \n",
    "    def __getitem__(self, idx):\n",
    "        # Retrieve features and labels from the dataframe using column names\n",
    "        cat_features = self.cate[idx]\n",
    "        num_features = self.num[idx]\n",
    "        labels_task1 = self.task1_labels[idx]\n",
    "\n",
    "        return cat_features, num_features, labels_task1\n",
    "\n",
    "#Wrapping in Dataset\n",
    "train_dataset = SingleTaskDataset(df_train, cat_columns, cont_columns, 'income')\n",
    "val_dataset = SingleTaskDataset(df_val, cat_columns, cont_columns, 'income')\n",
    "test_dataset = SingleTaskDataset(df_test, cat_columns, cont_columns, 'income')\n",
    "\n",
    "#This is a hyperparameter that is not tuned. Maybe mess with what makes sense here\n",
    "#Also try looking to see what other papers have done\n",
    "batch_size = 256\n",
    "\n",
    "# Wrapping with DataLoader for easy batch extraction\n",
    "train_dataloader = DataLoader(train_dataset, batch_size=batch_size, shuffle=True)\n",
    "val_dataloader = DataLoader(val_dataset, batch_size=batch_size, shuffle=True)\n",
    "test_dataloader = DataLoader(test_dataset, batch_size=batch_size, shuffle=True)"
   ]
  },
  {
   "cell_type": "code",
   "execution_count": 10,
   "metadata": {},
   "outputs": [],
   "source": [
    "# each task loss is scaled by its own learnable parameter, then regularization is applied \n",
    "class LossFunctions(nn.Module):\n",
    "    def __init__(self, num_tasks):\n",
    "        super(LossFunctions, self).__init__()\n",
    "        self.num_tasks = num_tasks\n",
    "\n",
    "        self.loss_fns = [nn.CrossEntropyLoss() for x in range(num_tasks)] \n",
    "\n",
    "    def forward(self, predictions, labels_task1):\n",
    "\n",
    "        #task 1\n",
    "        target = labels_task1.long()\n",
    "        prediction = predictions\n",
    "        loss_fn = self.loss_fns[0]\n",
    "        task_loss = loss_fn(prediction, target)\n",
    "        \n",
    "        return task_loss\n",
    "    \n",
    "# Training and Testing Loops\n",
    "def train(dataloader, model, loss_function, optimizer, device_in_use):\n",
    "    model.train()\n",
    "\n",
    "    total_loss = 0\n",
    "    total_correct_1 = 0\n",
    "    total_samples_1 = 0\n",
    "    all_targets_1 = []\n",
    "    all_predictions_1 = []\n",
    "\n",
    "    for (categorical, numerical, labels_task1) in dataloader:\n",
    "        categorical, numerical, labels_task1 = categorical.to(device_in_use), numerical.to(device_in_use), labels_task1.to(device_in_use)\n",
    "        \n",
    "        #running them through model and modifying the shape slightly for the loss function\n",
    "        task_predictions = model(categorical, numerical)\n",
    "        task_predictions = task_predictions.squeeze(1)\n",
    "        \n",
    "        loss = loss_function(task_predictions, labels_task1)\n",
    "        total_loss += loss.item()\n",
    "        \n",
    "        #computing accuracy for first target\n",
    "        y_pred_softmax_1 = torch.softmax(task_predictions, dim=1)\n",
    "        _, y_pred_labels_1 = torch.max(y_pred_softmax_1, dim=1)\n",
    "        total_correct_1 += (y_pred_labels_1 == labels_task1).sum().item()\n",
    "        total_samples_1 += labels_task1.size(0)\n",
    "        all_targets_1.extend(labels_task1.cpu().numpy())\n",
    "        all_predictions_1.extend(y_pred_labels_1.cpu().numpy())\n",
    "\n",
    "\n",
    "        loss.backward()\n",
    "        optimizer.step()\n",
    "        optimizer.zero_grad()\n",
    "\n",
    "    avg_loss = total_loss/len(dataloader)\n",
    "    accuracy_1 = total_correct_1 / total_samples_1\n",
    "\n",
    "    return avg_loss, accuracy_1\n",
    "\n",
    "def test(dataloader, model, loss_function, device_in_use):\n",
    "    model.eval()\n",
    "    total_loss = 0\n",
    "    \n",
    "    total_loss = 0\n",
    "    total_correct_1 = 0\n",
    "    total_samples_1 = 0\n",
    "    all_targets_1 = []\n",
    "    all_predictions_1 = []\n",
    "\n",
    "    with torch.no_grad():\n",
    "        for (categorical, numerical, labels_task1) in dataloader:\n",
    "            categorical, numerical, labels_task1 = categorical.to(device_in_use), numerical.to(device_in_use), labels_task1.to(device_in_use)\n",
    "            \n",
    "            #running them through model and modifying the shape slightly for the loss function\n",
    "            task_predictions = model(categorical, numerical)\n",
    "            task_predictions = task_predictions.squeeze(1)\n",
    "            loss = loss_function(task_predictions, labels_task1)\n",
    "            total_loss += loss.item()\n",
    "            \n",
    "            #computing accuracy for first target\n",
    "            y_pred_softmax_1 = torch.softmax(task_predictions, dim=1)\n",
    "            _, y_pred_labels_1 = torch.max(y_pred_softmax_1, dim=1)\n",
    "            total_correct_1 += (y_pred_labels_1 == labels_task1).sum().item()\n",
    "            total_samples_1 += labels_task1.size(0)\n",
    "            all_targets_1.extend(labels_task1.cpu().numpy())\n",
    "            all_predictions_1.extend(y_pred_labels_1.cpu().numpy())\n",
    "\n",
    "    avg = total_loss/len(dataloader)\n",
    "    accuracy_1 = total_correct_1 / total_samples_1\n",
    "    f1_1 = f1_score(all_targets_1, all_predictions_1, average='weighted')\n",
    "\n",
    "    return avg, accuracy_1, all_predictions_1, all_targets_1, f1_1\n",
    "\n",
    "def format_metric(value): # Used to format the metrics output\n",
    "    return f\"{value:.4f}\"\n"
   ]
  },
  {
   "cell_type": "code",
   "execution_count": 11,
   "metadata": {},
   "outputs": [
    {
     "name": "stdout",
     "output_type": "stream",
     "text": [
      "Epoch [ 1/100]       | Train: Loss 0.4400, Accuracy 0.7955                               | Test: Loss 0.3834, Accuracy 0.8252, F1 0.8155\n",
      "Epoch [ 2/100]       | Train: Loss 0.3643, Accuracy 0.8313                               | Test: Loss 0.3753, Accuracy 0.8246, F1 0.8180\n",
      "Epoch [ 3/100]       | Train: Loss 0.3566, Accuracy 0.8330                               | Test: Loss 0.3706, Accuracy 0.8287, F1 0.8158\n",
      "Epoch [ 4/100]       | Train: Loss 0.3523, Accuracy 0.8357                               | Test: Loss 0.3665, Accuracy 0.8305, F1 0.8226\n",
      "Epoch [ 5/100]       | Train: Loss 0.3484, Accuracy 0.8376                               | Test: Loss 0.3641, Accuracy 0.8316, F1 0.8246\n",
      "Epoch [ 6/100]       | Train: Loss 0.3458, Accuracy 0.8380                               | Test: Loss 0.3617, Accuracy 0.8341, F1 0.8248\n",
      "Epoch [ 7/100]       | Train: Loss 0.3434, Accuracy 0.8400                               | Test: Loss 0.3588, Accuracy 0.8337, F1 0.8213\n",
      "Epoch [ 8/100]       | Train: Loss 0.3412, Accuracy 0.8412                               | Test: Loss 0.3560, Accuracy 0.8369, F1 0.8302\n",
      "Epoch [ 9/100]       | Train: Loss 0.3387, Accuracy 0.8430                               | Test: Loss 0.3581, Accuracy 0.8362, F1 0.8315\n",
      "Epoch [10/100]       | Train: Loss 0.3362, Accuracy 0.8440                               | Test: Loss 0.3548, Accuracy 0.8374, F1 0.8296\n",
      "Epoch [11/100]       | Train: Loss 0.3340, Accuracy 0.8446                               | Test: Loss 0.3509, Accuracy 0.8388, F1 0.8325\n",
      "Epoch [12/100]       | Train: Loss 0.3333, Accuracy 0.8445                               | Test: Loss 0.3515, Accuracy 0.8389, F1 0.8322\n",
      "Epoch [13/100]       | Train: Loss 0.3310, Accuracy 0.8450                               | Test: Loss 0.3514, Accuracy 0.8407, F1 0.8355\n",
      "Epoch [14/100]       | Train: Loss 0.3298, Accuracy 0.8458                               | Test: Loss 0.3507, Accuracy 0.8416, F1 0.8341\n",
      "Epoch [15/100]       | Train: Loss 0.3281, Accuracy 0.8472                               | Test: Loss 0.3503, Accuracy 0.8380, F1 0.8349\n",
      "Epoch [16/100]       | Train: Loss 0.3266, Accuracy 0.8487                               | Test: Loss 0.3483, Accuracy 0.8407, F1 0.8297\n",
      "Epoch [17/100]       | Train: Loss 0.3255, Accuracy 0.8481                               | Test: Loss 0.3453, Accuracy 0.8417, F1 0.8361\n",
      "Epoch [18/100]       | Train: Loss 0.3235, Accuracy 0.8490                               | Test: Loss 0.3453, Accuracy 0.8425, F1 0.8352\n",
      "Epoch [19/100]       | Train: Loss 0.3225, Accuracy 0.8515                               | Test: Loss 0.3474, Accuracy 0.8428, F1 0.8405\n",
      "Epoch [20/100]       | Train: Loss 0.3203, Accuracy 0.8510                               | Test: Loss 0.3452, Accuracy 0.8430, F1 0.8392\n",
      "Epoch [21/100]       | Train: Loss 0.3184, Accuracy 0.8520                               | Test: Loss 0.3425, Accuracy 0.8444, F1 0.8396\n",
      "Epoch [22/100]       | Train: Loss 0.3174, Accuracy 0.8540                               | Test: Loss 0.3385, Accuracy 0.8462, F1 0.8388\n",
      "Epoch [23/100]       | Train: Loss 0.3156, Accuracy 0.8535                               | Test: Loss 0.3394, Accuracy 0.8458, F1 0.8403\n",
      "Epoch [24/100]       | Train: Loss 0.3129, Accuracy 0.8550                               | Test: Loss 0.3382, Accuracy 0.8461, F1 0.8393\n",
      "Epoch [25/100]       | Train: Loss 0.3117, Accuracy 0.8554                               | Test: Loss 0.3384, Accuracy 0.8457, F1 0.8435\n",
      "Epoch [26/100]       | Train: Loss 0.3098, Accuracy 0.8561                               | Test: Loss 0.3370, Accuracy 0.8478, F1 0.8436\n",
      "Epoch [27/100]       | Train: Loss 0.3077, Accuracy 0.8566                               | Test: Loss 0.3376, Accuracy 0.8488, F1 0.8430\n",
      "Epoch [28/100]       | Train: Loss 0.3069, Accuracy 0.8563                               | Test: Loss 0.3330, Accuracy 0.8507, F1 0.8445\n"
     ]
    },
    {
     "ename": "KeyboardInterrupt",
     "evalue": "",
     "output_type": "error",
     "traceback": [
      "\u001b[1;31m---------------------------------------------------------------------------\u001b[0m",
      "\u001b[1;31mKeyboardInterrupt\u001b[0m                         Traceback (most recent call last)",
      "\u001b[1;32mc:\\Users\\smbm2\\projects\\CAT-Transformer\\experiments\\income\\TAB_final_test.ipynb Cell 12\u001b[0m line \u001b[0;36m3\n\u001b[0;32m     <a href='vscode-notebook-cell:/c%3A/Users/smbm2/projects/CAT-Transformer/experiments/income/TAB_final_test.ipynb#X14sZmlsZQ%3D%3D?line=30'>31</a>\u001b[0m \u001b[39mfor\u001b[39;00m t \u001b[39min\u001b[39;00m \u001b[39mrange\u001b[39m(epochs):\n\u001b[0;32m     <a href='vscode-notebook-cell:/c%3A/Users/smbm2/projects/CAT-Transformer/experiments/income/TAB_final_test.ipynb#X14sZmlsZQ%3D%3D?line=31'>32</a>\u001b[0m   train_loss, train_accuracy_1 \u001b[39m=\u001b[39m train(train_dataloader, model, loss_functions, optimizer, device_in_use\u001b[39m=\u001b[39mdevice_in_use)\n\u001b[1;32m---> <a href='vscode-notebook-cell:/c%3A/Users/smbm2/projects/CAT-Transformer/experiments/income/TAB_final_test.ipynb#X14sZmlsZQ%3D%3D?line=32'>33</a>\u001b[0m   test_loss, test_accuracy_1, all_predictions_1, all_targets_1, f1_1 \u001b[39m=\u001b[39m test(test_dataloader, model, loss_functions, device_in_use\u001b[39m=\u001b[39;49mdevice_in_use)\n\u001b[0;32m     <a href='vscode-notebook-cell:/c%3A/Users/smbm2/projects/CAT-Transformer/experiments/income/TAB_final_test.ipynb#X14sZmlsZQ%3D%3D?line=33'>34</a>\u001b[0m   train_losses\u001b[39m.\u001b[39mappend(train_loss)\n\u001b[0;32m     <a href='vscode-notebook-cell:/c%3A/Users/smbm2/projects/CAT-Transformer/experiments/income/TAB_final_test.ipynb#X14sZmlsZQ%3D%3D?line=34'>35</a>\u001b[0m   train_accuracies_1\u001b[39m.\u001b[39mappend(train_accuracy_1)\n",
      "\u001b[1;32mc:\\Users\\smbm2\\projects\\CAT-Transformer\\experiments\\income\\TAB_final_test.ipynb Cell 12\u001b[0m line \u001b[0;36m5\n\u001b[0;32m     <a href='vscode-notebook-cell:/c%3A/Users/smbm2/projects/CAT-Transformer/experiments/income/TAB_final_test.ipynb#X14sZmlsZQ%3D%3D?line=52'>53</a>\u001b[0m     accuracy_1 \u001b[39m=\u001b[39m total_correct_1 \u001b[39m/\u001b[39m total_samples_1\n\u001b[0;32m     <a href='vscode-notebook-cell:/c%3A/Users/smbm2/projects/CAT-Transformer/experiments/income/TAB_final_test.ipynb#X14sZmlsZQ%3D%3D?line=54'>55</a>\u001b[0m     \u001b[39mreturn\u001b[39;00m avg_loss, accuracy_1\n\u001b[1;32m---> <a href='vscode-notebook-cell:/c%3A/Users/smbm2/projects/CAT-Transformer/experiments/income/TAB_final_test.ipynb#X14sZmlsZQ%3D%3D?line=56'>57</a>\u001b[0m \u001b[39mdef\u001b[39;00m \u001b[39mtest\u001b[39m(dataloader, model, loss_function, device_in_use):\n\u001b[0;32m     <a href='vscode-notebook-cell:/c%3A/Users/smbm2/projects/CAT-Transformer/experiments/income/TAB_final_test.ipynb#X14sZmlsZQ%3D%3D?line=57'>58</a>\u001b[0m     model\u001b[39m.\u001b[39meval()\n\u001b[0;32m     <a href='vscode-notebook-cell:/c%3A/Users/smbm2/projects/CAT-Transformer/experiments/income/TAB_final_test.ipynb#X14sZmlsZQ%3D%3D?line=58'>59</a>\u001b[0m     total_loss \u001b[39m=\u001b[39m \u001b[39m0\u001b[39m\n",
      "\u001b[1;31mKeyboardInterrupt\u001b[0m: "
     ]
    }
   ],
   "source": [
    "#Testing against the test dataset\n",
    "\n",
    "# hidden (embedding)\n",
    "#dimension, the number of layers and the number of \n",
    "#attention heads are fixed to 32, 6, and 8 respectively. The MLP\n",
    "#layer sizes are set to {4 × l, 2 × l}, where l is the size of its input.\n",
    "model = TabTransformer(categories=cat_features,\n",
    "                       num_continuous=len(cont_columns),\n",
    "                       dim = 32,                           # dimension, paper set at 32\n",
    "                        dim_out = target_classes,                        # binary prediction, but could be anything\n",
    "                        depth = 6,                          # depth, paper recommended 6\n",
    "                        heads = 8,                          # heads, paper recommends 8\n",
    "                        attn_dropout = 0.1,                 # post-attention dropout\n",
    "                        ff_dropout = 0.1,                   # feed forward dropout\n",
    "                        mlp_hidden_mults = (4, 2),          # relative multiples of each hidden dimension of the last mlp to logits\n",
    "                        mlp_act = nn.ReLU(),    \n",
    "                       ).to(device_in_use)\n",
    "loss_functions = LossFunctions(1)\n",
    "optimizer = torch.optim.AdamW(params=model.parameters(), lr = 0.0001, weight_decay=0.000001)\n",
    "epochs = 100\n",
    "\n",
    "train_losses = []\n",
    "train_accuracies_1 = [] \n",
    "\n",
    "test_losses = []\n",
    "test_accuracies_1 = []\n",
    "  \n",
    "test_f1_scores = [] \n",
    "all_attention_scores = []\n",
    "\n",
    "for t in range(epochs):\n",
    "  train_loss, train_accuracy_1 = train(train_dataloader, model, loss_functions, optimizer, device_in_use=device_in_use)\n",
    "  test_loss, test_accuracy_1, all_predictions_1, all_targets_1, f1_1 = test(test_dataloader, model, loss_functions, device_in_use=device_in_use)\n",
    "  train_losses.append(train_loss)\n",
    "  train_accuracies_1.append(train_accuracy_1)\n",
    "  # train_accuracies_2.append(train_accuracy_2)\n",
    "  # train_recalls.append(train_recall) \n",
    "  # train_f1_scores.append(train_f1)\n",
    "  test_losses.append(test_loss)\n",
    "  test_accuracies_1.append(test_accuracy_1)\n",
    "  # test_accuracies_2.append(test_accuracy_2)\n",
    "  # test_recalls.append(test_recall)\n",
    "  # test_f1_scores.append(test_f1)\n",
    "  # Formatting for easier reading\n",
    "  epoch_str = f\"Epoch [{t+1:2}/{epochs}]\"\n",
    "  train_metrics = f\"Train: Loss {format_metric(train_loss)}, Accuracy {format_metric(train_accuracy_1)}\"\n",
    "  test_metrics = f\"Test: Loss {format_metric(test_loss)}, Accuracy {format_metric(test_accuracy_1)}, F1 {format_metric(f1_1)}\"\n",
    "  print(f\"{epoch_str:20} | {train_metrics:65} | {test_metrics}\")\n",
    "\n",
    "\n",
    "# Plotting the loss curves\n",
    "plt.figure(figsize=(15, 5))\n",
    "plt.subplot(1, 1, 1)\n",
    "plt.plot(range(1, epochs+1), train_losses, label='Train Loss')\n",
    "plt.plot(range(1, epochs+1), [l for l in test_losses], label='Test Loss')\n",
    "plt.xlabel('Epoch')\n",
    "plt.ylabel('Loss')\n",
    "plt.title('Training and Test Loss Curve')\n",
    "plt.legend()\n",
    "\n",
    "# Display confusion matrix for the first task (Traffic Type) on test data\n",
    "conf_matrix_1 = confusion_matrix(all_targets_1, all_predictions_1)\n",
    "print(\"Confusion Matrix\")\n",
    "print(conf_matrix_1)"
   ]
  }
 ],
 "metadata": {
  "kernelspec": {
   "display_name": "Python 3",
   "language": "python",
   "name": "python3"
  },
  "language_info": {
   "codemirror_mode": {
    "name": "ipython",
    "version": 3
   },
   "file_extension": ".py",
   "mimetype": "text/x-python",
   "name": "python",
   "nbconvert_exporter": "python",
   "pygments_lexer": "ipython3",
   "version": "3.11.4"
  }
 },
 "nbformat": 4,
 "nbformat_minor": 2
}
