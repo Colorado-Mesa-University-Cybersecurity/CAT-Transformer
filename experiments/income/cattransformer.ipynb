{
 "cells": [
  {
   "cell_type": "code",
   "execution_count": 15,
   "metadata": {},
   "outputs": [],
   "source": [
    "import torch\n",
    "import torch.nn as nn\n",
    "import pandas as pd\n",
    "import numpy as np\n",
    "from torch.utils.data import Dataset,DataLoader\n",
    "import matplotlib.pyplot as plt\n",
    "from rff.layers import GaussianEncoding #pip install random-fourier-features-pytorch\n",
    "from sklearn.model_selection import train_test_split\n",
    "from sklearn.metrics import accuracy_score, f1_score, recall_score, confusion_matrix\n",
    "from sklearn.preprocessing import StandardScaler, LabelEncoder\n",
    "\n",
    "import os\n",
    "\n",
    "import optuna\n",
    "from optuna.trial import TrialState"
   ]
  },
  {
   "cell_type": "code",
   "execution_count": 16,
   "metadata": {},
   "outputs": [
    {
     "name": "stdout",
     "output_type": "stream",
     "text": [
      "GPU is available and being used\n"
     ]
    }
   ],
   "source": [
    "# Run regardless if you do or do not have GPU so all tensors are moved to right location later on\n",
    "if torch.cuda.is_available():\n",
    "    device_in_use = torch.device(\"cuda\")\n",
    "    print(\"GPU is available and being used\")\n",
    "else:\n",
    "    device_in_use = torch.device(\"cpu\")\n",
    "    print(\"GPU is not available, using CPU instead\")"
   ]
  },
  {
   "cell_type": "code",
   "execution_count": 17,
   "metadata": {},
   "outputs": [],
   "source": [
    "df_train = pd.read_csv('train.csv')\n",
    "df_test = pd.read_csv('test.csv')\n",
    "df_val = pd.read_csv('validation.csv') #READ FROM RIGHT SPOT"
   ]
  },
  {
   "cell_type": "code",
   "execution_count": 18,
   "metadata": {},
   "outputs": [
    {
     "data": {
      "text/plain": [
       "Index(['age', 'workclass', 'fnlwgt', 'education', 'education-num',\n",
       "       'marital-status', 'occupation', 'relationship', 'race', 'sex',\n",
       "       'capital-gain', 'capital-loss', 'hours-per-week', 'native-country',\n",
       "       'income'],\n",
       "      dtype='object')"
      ]
     },
     "execution_count": 18,
     "metadata": {},
     "output_type": "execute_result"
    }
   ],
   "source": [
    "df_train.columns"
   ]
  },
  {
   "cell_type": "code",
   "execution_count": 19,
   "metadata": {},
   "outputs": [],
   "source": [
    "class SingleTaskDataset(Dataset):\n",
    "    def __init__(self, df : pd.DataFrame, task1_column):\n",
    "        self.n = df.shape[0]\n",
    "        \n",
    "        self.task1_labels = df[task1_column].astype(np.int64).values\n",
    "\n",
    "        # self.scalar = StandardScaler()\n",
    "        # self.x = self.scalar.fit_transform(df.drop(columns=[task1_column])).astype(np.float32)\n",
    "        self.x = df.drop(task1_column, axis=1).astype(np.float32).values\n",
    "\n",
    "    def __len__(self):\n",
    "        return self.n\n",
    "    \n",
    "    def __getitem__(self, idx):\n",
    "        # Retrieve features and labels from the dataframe using column names\n",
    "        features = self.x[idx]\n",
    "        labels_task1 = self.task1_labels[idx]\n",
    "\n",
    "        return features, labels_task1\n",
    "        # return self.x[index], self.task1_labels[index], self.task2_labels[index]\n",
    "\n",
    "train_dataset = SingleTaskDataset(df_train, 'income')\n",
    "val_dataset = SingleTaskDataset(df_val, 'income')\n",
    "test_dataset = SingleTaskDataset(df_test, 'income')\n",
    "\n",
    "batch_size = 256\n",
    "\n",
    "# Wrapping with DataLoader for easy batch extraction\n",
    "train_dataloader = DataLoader(train_dataset, batch_size=batch_size, shuffle=True)\n",
    "val_dataloader = DataLoader(val_dataset, batch_size=batch_size, shuffle=True)\n",
    "test_dataloader = DataLoader(test_dataset, batch_size=batch_size, shuffle=True)"
   ]
  },
  {
   "cell_type": "code",
   "execution_count": 20,
   "metadata": {},
   "outputs": [],
   "source": [
    "# each task loss is scaled by its own learnable parameter, then regularization is applied \n",
    "class UncertaintyLoss(nn.Module):\n",
    "    def __init__(self, num_tasks):\n",
    "        super(UncertaintyLoss, self).__init__()\n",
    "        self.num_tasks = num_tasks\n",
    "\n",
    "        self.loss_fns = [nn.CrossEntropyLoss() for x in range(num_tasks)] \n",
    "\n",
    "    def forward(self, predictions, labels_task1):\n",
    "\n",
    "        #task 1\n",
    "        target = labels_task1\n",
    "        prediction = predictions[0]\n",
    "        loss_fn = self.loss_fns[0]\n",
    "        task_loss = loss_fn(prediction, target)\n",
    "        \n",
    "        return task_loss\n",
    "    \n",
    "#All layers of the model\n",
    "class MultiHeadAttention(nn.Module):\n",
    "    def __init__(self, embed_size, heads):\n",
    "        super(MultiHeadAttention, self).__init__()\n",
    "\n",
    "        self.embed_size = embed_size\n",
    "        self.heads = heads\n",
    "        self.head_dim = embed_size // heads\n",
    "        assert(self.head_dim * heads == embed_size), \"Embed size needs to be div by heads\"\n",
    "        self.values = nn.Linear(self.head_dim, self.head_dim, bias=False)\n",
    "        self.keys =nn.Linear(self.head_dim, self.head_dim, bias=False)\n",
    "        self.queries = nn.Linear(self.head_dim, self.head_dim, bias=False)\n",
    "        self.fc_out = nn.Linear(heads*self.head_dim, embed_size)\n",
    "\n",
    "\n",
    "    def forward(self, values, keys, query):\n",
    "        N = query.shape[0]\n",
    "        value_len, key_len, query_len = values.shape[1], keys.shape[1], query.shape[1]\n",
    "\n",
    "        values = values.reshape(N, value_len, self.heads, self.head_dim)\n",
    "        keys = keys.reshape(N, key_len, self.heads, self.head_dim)\n",
    "        queries = query.reshape(N, query_len, self.heads, self.head_dim)\n",
    "\n",
    "        values = self.values(values)\n",
    "        keys = self.keys(keys)\n",
    "        queries = self.queries(queries)\n",
    "\n",
    "        energy = torch.einsum(\"nqhd,nkhd->nhqk\", [queries, keys])\n",
    "\n",
    "        attention = torch.softmax(energy / (self.embed_size ** (1/2)), dim=3) #(batch_size, head_dim, #query_embeddings, #key_embeddings)\n",
    "\n",
    "        # Calculate simplified attention scores\n",
    "        avg_attention = attention.mean(dim=0)  # Average across batches\n",
    "        # print(\"batch average\", avg_attention.shape)\n",
    "        avg_attention = avg_attention.mean(dim=0).squeeze(dim=0)\n",
    "        # print(\"head average\", avg_attention.shape)\n",
    "\n",
    "        out = torch.einsum(\"nhql,nlhd->nqhd\", [attention, values]).reshape(N, query_len, self.heads*self.head_dim) #(batch_size, n_features, embed_size)\n",
    "        out = self.fc_out(out)\n",
    "\n",
    "        return out, avg_attention\n",
    "    \n",
    "class TransformerBlock(nn.Module):\n",
    "    def __init__(self, embed_size, heads, dropout, forward_expansion, pre_norm_on):\n",
    "        super(TransformerBlock, self).__init__()\n",
    "\n",
    "        self.pre_norm_on = pre_norm_on\n",
    "        if self.pre_norm_on:\n",
    "            self.pre_norm = nn.LayerNorm(embed_size)\n",
    "        self.attention = MultiHeadAttention(embed_size, heads)\n",
    "        self.norm1 = nn.LayerNorm(embed_size)\n",
    "        self.norm2 = nn.LayerNorm(embed_size)\n",
    "\n",
    "        self.feed_forward = nn.Sequential(nn.Linear(embed_size, forward_expansion*embed_size),\n",
    "                                          nn.ReLU(),\n",
    "                                          nn.Linear(forward_expansion*embed_size, embed_size)\n",
    "                                          )\n",
    "        self.dropout = nn.Dropout(dropout)\n",
    "\n",
    "    def forward(self,value,key,query):\n",
    "        if self.pre_norm_on:\n",
    "            query = self.pre_norm(query)\n",
    "            key = self.pre_norm(key)\n",
    "            value = self.pre_norm(value)\n",
    "            \n",
    "        attention, avg_attention = self.attention(value, key, query)\n",
    "        x = self.dropout(self.norm1(attention + query))\n",
    "        forward = self.feed_forward(x)\n",
    "        out = self.dropout(self.norm2(forward + x))\n",
    "        return out, avg_attention\n",
    "    \n",
    "class DecoderBlock(nn.Module):\n",
    "    def __init__(self, embed_size, heads, forward_expansion, dropout, pre_norm_on):\n",
    "        super(DecoderBlock, self).__init__()\n",
    "\n",
    "        self.attention = MultiHeadAttention(embed_size, heads)\n",
    "        self.norm = nn.LayerNorm(embed_size)\n",
    "        self.transformer_block = TransformerBlock(embed_size, heads, dropout, forward_expansion, pre_norm_on)\n",
    "        self.dropout = nn.Dropout(dropout)\n",
    "\n",
    "    def forward(self, x, value, key):\n",
    "        out, avg_attention = self.transformer_block(value, key, x)\n",
    "\n",
    "        return out, avg_attention\n",
    "\n",
    "class Decoder(nn.Module):\n",
    "    def __init__(self,\n",
    "                 embed_size,\n",
    "                 num_layers,\n",
    "                 heads,\n",
    "                 forward_expansion,\n",
    "                 decoder_dropout,\n",
    "                 pre_norm_on\n",
    "    ):\n",
    "        super(Decoder, self).__init__()\n",
    "\n",
    "        self.layers = nn.ModuleList(\n",
    "                [\n",
    "                    DecoderBlock(\n",
    "                        embed_size,\n",
    "                        heads,\n",
    "                        dropout=decoder_dropout,\n",
    "                        forward_expansion=forward_expansion,\n",
    "                        pre_norm_on=pre_norm_on\n",
    "                    )\n",
    "                    for _ in range(num_layers)\n",
    "                ]\n",
    "            )\n",
    "        self.avg_attention = None\n",
    "\n",
    "    def forward(self, class_embed, context):\n",
    "        for layer in self.layers:\n",
    "            # x is the classification embedding (CLS Token)\n",
    "            # context are the feature embeddings that will be used as key and value\n",
    "            x, self.avg_attention = layer(class_embed, context, context)\n",
    "  \n",
    "        return x \n",
    "\n",
    "class Embeddings(nn.Module):\n",
    "    def __init__(self, sigma, embed_size, input_size, embedding_dropout, n_features, num_target_labels, rff_on):\n",
    "        super(Embeddings, self).__init__()\n",
    "\n",
    "        self.rff_on = rff_on\n",
    "\n",
    "        if self.rff_on:\n",
    "            self.rffs = nn.ModuleList([GaussianEncoding(sigma=sigma, input_size=input_size, encoded_size=embed_size//2) for _ in range(n_features)])\n",
    "            self.dropout = nn.Dropout(embedding_dropout)\n",
    "            self.mlp_in = embed_size\n",
    "        else:\n",
    "            self.mlp_in = input_size\n",
    "\n",
    "        self.embeddings = nn.ModuleList([nn.Linear(in_features=self.mlp_in, out_features=embed_size) for _ in range(n_features)])\n",
    "\n",
    "        # Classifcation Embeddings for each target label\n",
    "        self.target_label_embeddings = nn.ModuleList([nn.Embedding(1, embed_size) for _ in range(num_target_labels)])\n",
    "\n",
    "\n",
    "    def forward(self, x):\n",
    "        x = x.unsqueeze(2) #(batch_size, n_features) -> (batch_size, n_features, 1)\n",
    "        rff_vectors = []\n",
    "        if self.rff_on:\n",
    "            for i, r in enumerate(self.rffs):\n",
    "                input = x[:,i,:]\n",
    "                out = r(input)\n",
    "                rff_vectors.append(out)\n",
    "        \n",
    "            x = torch.stack(rff_vectors, dim=1)\n",
    "        \n",
    "        embeddings = []\n",
    "        for i, e in enumerate(self.embeddings):\n",
    "            goin_in = x[:,i,:]\n",
    "            goin_out = e(goin_in)\n",
    "            embeddings.append(goin_out)\n",
    "\n",
    "        target_label_embeddings_ = []\n",
    "        for e in self.target_label_embeddings:\n",
    "            input = torch.tensor([0], device=x.device)\n",
    "            temp = e(input)\n",
    "            temp = temp.repeat(x.size(0), 1)\n",
    "            tmep = temp.unsqueeze(1)\n",
    "            target_label_embeddings_.append(temp)\n",
    "\n",
    "        class_embeddings = torch.stack(target_label_embeddings_, dim=1)\n",
    "        \n",
    "        # class_embed = self.classification_embedding(torch.tensor([0], device=x.device))  # use index 0 for the classification embedding\n",
    "        # class_embed = class_embed.repeat(x.size(0), 1) # -> (batch_size, embed_size)\n",
    "        # class_embed = class_embed.unsqueeze(1)\n",
    "\n",
    "        context = torch.stack(embeddings, dim=1)\n",
    "\n",
    "        return class_embeddings, context\n",
    "\n",
    "class classificationHead(nn.Module):\n",
    "    def __init__(self, embed_size, dropout, mlp_scale_classification, num_target_classes):\n",
    "        super(classificationHead, self).__init__()\n",
    "        \n",
    "        #flattening the embeddings out so each sample in batch is represented with a 460 dimensional vector\n",
    "        self.input = embed_size\n",
    "        self.lin1 = nn.Linear(self.input, mlp_scale_classification*self.input)\n",
    "        self.drop = nn.Dropout(dropout)\n",
    "        self.lin2 = nn.Linear(mlp_scale_classification*self.input, mlp_scale_classification*self.input)\n",
    "        self.lin3 = nn.Linear(mlp_scale_classification*self.input, self.input)\n",
    "        self.lin4 = nn.Linear(self.input, num_target_classes)\n",
    "        self.relu = nn.ReLU()\n",
    "        self.initialize_weights()\n",
    "\n",
    "    def initialize_weights(self): #he_initialization.\n",
    "        torch.nn.init.kaiming_normal_(self.lin1.weight, nonlinearity='relu')\n",
    "        torch.nn.init.zeros_(self.lin1.bias)\n",
    "\n",
    "        torch.nn.init.kaiming_normal_(self.lin3.weight, nonlinearity='relu')\n",
    "        torch.nn.init.zeros_(self.lin3.bias)\n",
    "\n",
    "    def forward(self, x):\n",
    "\n",
    "        x= torch.reshape(x, (-1, self.input))\n",
    "\n",
    "        x = self.lin1(x)\n",
    "        x = self.relu(x)\n",
    "        x = self.drop(x)\n",
    "        x = self.lin2(x)\n",
    "        x = self.relu(x)\n",
    "        x = self.drop(x)\n",
    "        x = self.lin3(x)\n",
    "        x = self.relu(x)\n",
    "        x = self.drop(x)\n",
    "        x = self.lin4(x)\n",
    "  \n",
    "        return x\n",
    "\n",
    "\n",
    "# DEFAULT PARAMETERS SET UP FOR VPN DATASET. BE CAREFUL AND MAKE SURE YOU SET THEM UP HOW YOU WANT.\n",
    "class Classifier(nn.Module):\n",
    "    def __init__(self, \n",
    "                 rff_on = False,\n",
    "                 sigma=4,\n",
    "                 embed_size=20,\n",
    "                 input_size=1,\n",
    "                 embedding_dropout = 0,\n",
    "                 n_features=23, # YOU WILL PROBABLY NEED TO CHANGE\n",
    "                 num_layers=1,\n",
    "                 heads=1,\n",
    "                 forward_expansion=4, # Determines how wide the MLP is in the encoder. Its a scaling factor. \n",
    "                 decoder_dropout=0,\n",
    "                 classification_dropout = 0,\n",
    "                 pre_norm_on = False,\n",
    "                 mlp_scale_classification = 4,\n",
    "                 targets_classes : list=  [3,8]\n",
    "                 ):\n",
    "        super(Classifier, self).__init__()\n",
    "\n",
    "        self.embeddings = Embeddings(rff_on=rff_on, sigma=sigma, embed_size=embed_size, input_size=input_size, embedding_dropout=embedding_dropout, n_features=n_features, num_target_labels=len(targets_classes))\n",
    "        self.decoder = Decoder(embed_size=embed_size, num_layers=num_layers, heads=heads, forward_expansion=forward_expansion, decoder_dropout=decoder_dropout, pre_norm_on=pre_norm_on)\n",
    "        self.classifying_heads = nn.ModuleList([classificationHead(embed_size=embed_size, dropout=classification_dropout, mlp_scale_classification=mlp_scale_classification, num_target_classes=x) for x in targets_classes])\n",
    "        \n",
    "    def forward(self, x):\n",
    "        class_embed, context = self.embeddings(x)\n",
    "\n",
    "        x = self.decoder(class_embed, context)\n",
    "        \n",
    "        probability_dist_raw = []\n",
    "        for i, e in enumerate(self.classifying_heads):\n",
    "            input = x[:, i,:]\n",
    "            output = e(input)\n",
    "            probability_dist_raw.append(output)\n",
    "        \n",
    "        return probability_dist_raw\n",
    "\n",
    "# Training and Testing Loops\n",
    "def train(dataloader, model, loss_function, optimizer, device_in_use):\n",
    "    model.train()\n",
    "\n",
    "    total_loss = 0\n",
    "\n",
    "    total_correct_1 = 0\n",
    "    total_samples_1 = 0\n",
    "    all_targets_1 = []\n",
    "    all_predictions_1 = []\n",
    "\n",
    "    total_correct_2 = 0\n",
    "    total_samples_2 = 0\n",
    "    all_targets_2 = []\n",
    "    all_predictions_2 = []\n",
    "\n",
    "    for (features,labels_task1) in dataloader:\n",
    "        features,labels_task1 = features.to(device_in_use),labels_task1.to(device_in_use)\n",
    "\n",
    "\n",
    "        task_predictions = model(features) #contains a list of the tensor outputs for each task\n",
    "\n",
    "        loss = loss_function(task_predictions, labels_task1)\n",
    "        total_loss += loss.item()\n",
    "\n",
    "        #computing accuracy for first target\n",
    "        y_pred_softmax_1 = torch.softmax(task_predictions[0], dim=1)\n",
    "        _, y_pred_labels_1 = torch.max(y_pred_softmax_1, dim=1)\n",
    "        total_correct_1 += (y_pred_labels_1 == labels_task1).sum().item()\n",
    "        total_samples_1 += labels_task1.size(0)\n",
    "        all_targets_1.extend(labels_task1.cpu().numpy())\n",
    "        all_predictions_1.extend(y_pred_labels_1.cpu().numpy())\n",
    "\n",
    "        # #computing accuaracy for second target\n",
    "        # y_pred_softmax_2 = torch.softmax(task_predictions[1], dim=1)\n",
    "        # _, y_pred_labels_2 = torch.max(y_pred_softmax_2, dim=1)\n",
    "        # total_correct_2 += (y_pred_labels_2 == labels_task2).sum().item()\n",
    "        # total_samples_2 += labels_task2.size(0)\n",
    "        # all_targets_2.extend(labels_task2.cpu().numpy())\n",
    "        # all_predictions_2.extend(y_pred_labels_2.cpu().numpy())\n",
    "\n",
    "        loss.backward()\n",
    "        optimizer.step()\n",
    "        optimizer.zero_grad()\n",
    "\n",
    "    avg_loss = total_loss/len(dataloader)\n",
    "    accuracy_1 = total_correct_1 / total_samples_1\n",
    "    # accuracy_2 = total_correct_2 / total_samples_2\n",
    "\n",
    "    # # precision = precision_score(all_targets, all_predictions, average='weighted')\n",
    "    # recall = recall_score(all_targets, all_predictions, average='weighted')\n",
    "    # f1 = f1_score(all_targets, all_predictions, average='weighted')\n",
    "\n",
    "    return avg_loss, accuracy_1\n",
    "\n",
    "def test(dataloader, model, loss_function, device_in_use):\n",
    "  model.eval()\n",
    "  total_loss = 0\n",
    "  \n",
    "  total_correct_1 = 0\n",
    "  total_samples_1 = 0\n",
    "  all_targets_1 = []\n",
    "  all_predictions_1 = []\n",
    "\n",
    "  total_correct_2 = 0\n",
    "  total_samples_2 = 0\n",
    "  all_targets_2 = []\n",
    "  all_predictions_2 = []\n",
    "\n",
    "  with torch.no_grad():\n",
    "    for (features,labels_task1) in dataloader:\n",
    "      features,labels_task1 = features.to(device_in_use),labels_task1.to(device_in_use)\n",
    "\n",
    "      #compute prediction error\n",
    "      task_predictions = model(features) #contains a list of the tensor outputs for each task\n",
    "\n",
    "      loss = loss_function(task_predictions, labels_task1)\n",
    "      total_loss += loss.item()\n",
    "\n",
    "      #computing accuracy for first target\n",
    "      y_pred_softmax_1 = torch.softmax(task_predictions[0], dim=1)\n",
    "      _, y_pred_labels_1 = torch.max(y_pred_softmax_1, dim=1)\n",
    "      total_correct_1 += (y_pred_labels_1 == labels_task1).sum().item()\n",
    "      total_samples_1 += labels_task1.size(0)\n",
    "      all_targets_1.extend(labels_task1.cpu().numpy())\n",
    "      all_predictions_1.extend(y_pred_labels_1.cpu().numpy())\n",
    "\n",
    "      # #computing accuaracy for second target\n",
    "      # y_pred_softmax_2 = torch.softmax(task_predictions[1], dim=1)\n",
    "      # _, y_pred_labels_2 = torch.max(y_pred_softmax_2, dim=1)\n",
    "      # total_correct_2 += (y_pred_labels_2 == labels_task2).sum().item()\n",
    "      # total_samples_2 += labels_task2.size(0)\n",
    "      # all_targets_2.extend(labels_task2.cpu().numpy())\n",
    "      # all_predictions_2.extend(y_pred_labels_2.cpu().numpy())\n",
    "\n",
    "  avg = total_loss/len(dataloader)\n",
    "  accuracy_1 = total_correct_1 / total_samples_1\n",
    "  # accuracy_2 = total_correct_2 / total_samples_2\n",
    "  # recall = recall_score(all_targets, all_predictions, average='weighted')\n",
    "  f1_1 = f1_score(all_targets_1, all_predictions_1, average='weighted')\n",
    "  # f1_2 = f1_score(all_targets_2, all_predictions_2, average=\"weighted\")\n",
    "\n",
    "  return avg, accuracy_1, all_predictions_1, all_targets_1, f1_1\n",
    "\n",
    "def format_metric(value): # Used to format the metrics output\n",
    "    return f\"{value:.4f}\""
   ]
  },
  {
   "cell_type": "code",
   "execution_count": 21,
   "metadata": {},
   "outputs": [],
   "source": [
    "# Define the early stopping mechanism\n",
    "class EarlyStopping:\n",
    "    def __init__(self, patience=5):\n",
    "        self.patience = patience\n",
    "        self.counter = 0\n",
    "        self.best_metric = float('-inf')\n",
    "        self.early_stop = False\n",
    "\n",
    "    def __call__(self, metric):\n",
    "        if metric > self.best_metric:\n",
    "            self.best_metric = metric\n",
    "            self.counter = 0\n",
    "        else:\n",
    "            self.counter += 1\n",
    "            if self.counter >= self.patience:\n",
    "                self.early_stop = True\n",
    "\n",
    "# Function to log results to a text file\n",
    "def log_to_file(filename, text):\n",
    "    with open(filename, 'a') as f:\n",
    "        f.write(text + '\\n')\n",
    "\n",
    "def objective(trial):\n",
    "    trial_number = trial.number\n",
    "\n",
    "    # Define hyperparameters to search over\n",
    "    rff_on = trial.suggest_categorical('rff_on', [True]) #rff seems to always help\n",
    "    sigma = trial.suggest_categorical('sigma', [.001, 0.1, 1, 2, 3, 5, 10])\n",
    "    num_layers = trial.suggest_int('num_layers', 1, 2)\n",
    "    # Ensure that embed_size is divisible by num_layers\n",
    "    embed_size = trial.suggest_categorical(\"embed_size\", [50, 60, 70, 80, 90, 100, 120, 140, 160])\n",
    "    heads = trial.suggest_categorical(\"heads\", [1, 5, 10])\n",
    "    forward_expansion = trial.suggest_int('forward_expansion', 1, 8)\n",
    "    prenorm_on = trial.suggest_categorical('prenorm_on', [True, False])\n",
    "    mlp_scale_classification = trial.suggest_int('mlp_scale_classification', 1, 8)\n",
    "    embedding_dropout = trial.suggest_categorical('embedding_dropout', [0, .1, .2, .5])\n",
    "    decoder_dropout = trial.suggest_categorical('decoder_dropout', [0,.1,.2,.5])\n",
    "    classification_dropout = trial.suggest_categorical('class_drop', [0,.1,.2,.5])\n",
    "\n",
    "    learning_rate = trial.suggest_categorical('learning_rate', [0.0001, 0.001, 0.01])\n",
    "\n",
    "    num_epochs = 75\n",
    "\n",
    "    # Create your model with the sampled hyperparameters\n",
    "    model = Classifier(\n",
    "        n_features=len(df_train.columns)-1,\n",
    "        targets_classes=[2],\n",
    "        rff_on=rff_on,\n",
    "        sigma=sigma,\n",
    "        embed_size=embed_size,\n",
    "        num_layers=num_layers,\n",
    "        heads=heads,\n",
    "        forward_expansion=forward_expansion,\n",
    "        pre_norm_on=prenorm_on,\n",
    "        mlp_scale_classification=mlp_scale_classification,\n",
    "        embedding_dropout=embedding_dropout,\n",
    "        decoder_dropout=decoder_dropout,\n",
    "        classification_dropout=classification_dropout\n",
    "    ).to(device_in_use)\n",
    "\n",
    "    # Define loss function and optimizer\n",
    "    loss_function = UncertaintyLoss(1)\n",
    "    optimizer = torch.optim.Adam(model.parameters(), lr=learning_rate)\n",
    "\n",
    "    # Initialize early stopping\n",
    "    early_stopping = EarlyStopping(patience=3)  # Adjust patience as needed\n",
    "\n",
    "    # Training loop with a large number of epochs\n",
    "    for epoch in range(num_epochs):\n",
    "        train_loss, train_accuracy = train(train_dataloader, model, loss_function, optimizer, device_in_use)\n",
    "        \n",
    "        # Validation loop\n",
    "        val_loss, val_accuracy, _, _, _ = test(val_dataloader, model, loss_function, device_in_use)\n",
    "        \n",
    "        # Check if we should early stop based on validation accuracy\n",
    "        if early_stopping(val_accuracy):\n",
    "            break\n",
    "\n",
    "    # # Evaluate the model on the test set\n",
    "    # test_loss, test_accuracy, _, _, _ = test(test_dataloader, model, loss_function, device_in_use)\n",
    "    \n",
    "    # Log the final test accuracy for this trial to a shared log file\n",
    "    final_log = f\"Trial {trial_number} completed. Validation Accuracy = {val_accuracy:.4f}\"\n",
    "    log_to_file('all_trials_log.txt', final_log)\n",
    "\n",
    "    # Return the test accuracy as the objective to optimize\n",
    "    return val_accuracy"
   ]
  },
  {
   "cell_type": "code",
   "execution_count": 22,
   "metadata": {},
   "outputs": [
    {
     "name": "stderr",
     "output_type": "stream",
     "text": [
      "[I 2023-10-05 08:44:02,563] A new study created in memory with name: no-name-94129331-3113-4287-83f7-5bc0ab91bf05\n",
      "Best trial: 0. Best value: 0.810686:   2%|▏         | 1/50 [02:32<2:04:46, 152.79s/it]"
     ]
    },
    {
     "name": "stdout",
     "output_type": "stream",
     "text": [
      "[I 2023-10-05 08:46:35,354] Trial 0 finished with value: 0.8106863196683556 and parameters: {'rff_on': True, 'sigma': 3, 'num_layers': 1, 'embed_size': 90, 'heads': 5, 'forward_expansion': 5, 'prenorm_on': True, 'mlp_scale_classification': 5, 'embedding_dropout': 0.5, 'decoder_dropout': 0.5, 'class_drop': 0.5, 'learning_rate': 0.01}. Best is trial 0 with value: 0.8106863196683556.\n"
     ]
    },
    {
     "name": "stderr",
     "output_type": "stream",
     "text": [
      "Best trial: 0. Best value: 0.810686:   4%|▍         | 2/50 [04:51<1:55:24, 144.25s/it]"
     ]
    },
    {
     "name": "stdout",
     "output_type": "stream",
     "text": [
      "[I 2023-10-05 08:48:53,627] Trial 1 finished with value: 0.7597113465376938 and parameters: {'rff_on': True, 'sigma': 0.001, 'num_layers': 1, 'embed_size': 90, 'heads': 1, 'forward_expansion': 6, 'prenorm_on': False, 'mlp_scale_classification': 8, 'embedding_dropout': 0.2, 'decoder_dropout': 0, 'class_drop': 0, 'learning_rate': 0.01}. Best is trial 0 with value: 0.8106863196683556.\n"
     ]
    },
    {
     "name": "stderr",
     "output_type": "stream",
     "text": [
      "Best trial: 0. Best value: 0.810686:   6%|▌         | 3/50 [07:29<1:58:04, 150.74s/it]"
     ]
    },
    {
     "name": "stdout",
     "output_type": "stream",
     "text": [
      "[I 2023-10-05 08:51:32,089] Trial 2 finished with value: 0.799324428066943 and parameters: {'rff_on': True, 'sigma': 5, 'num_layers': 2, 'embed_size': 70, 'heads': 1, 'forward_expansion': 7, 'prenorm_on': True, 'mlp_scale_classification': 7, 'embedding_dropout': 0, 'decoder_dropout': 0.5, 'class_drop': 0.5, 'learning_rate': 0.01}. Best is trial 0 with value: 0.8106863196683556.\n"
     ]
    },
    {
     "name": "stderr",
     "output_type": "stream",
     "text": [
      "Best trial: 3. Best value: 0.869952:   8%|▊         | 4/50 [10:08<1:58:06, 154.04s/it]"
     ]
    },
    {
     "name": "stdout",
     "output_type": "stream",
     "text": [
      "[I 2023-10-05 08:54:11,198] Trial 3 finished with value: 0.8699524028865346 and parameters: {'rff_on': True, 'sigma': 1, 'num_layers': 2, 'embed_size': 140, 'heads': 10, 'forward_expansion': 1, 'prenorm_on': True, 'mlp_scale_classification': 4, 'embedding_dropout': 0.1, 'decoder_dropout': 0.1, 'class_drop': 0.5, 'learning_rate': 0.0001}. Best is trial 3 with value: 0.8699524028865346.\n"
     ]
    },
    {
     "name": "stderr",
     "output_type": "stream",
     "text": [
      "Best trial: 3. Best value: 0.869952:  10%|█         | 5/50 [12:49<1:57:14, 156.32s/it]"
     ]
    },
    {
     "name": "stdout",
     "output_type": "stream",
     "text": [
      "[I 2023-10-05 08:56:51,566] Trial 4 finished with value: 0.8381698142177184 and parameters: {'rff_on': True, 'sigma': 5, 'num_layers': 2, 'embed_size': 120, 'heads': 10, 'forward_expansion': 4, 'prenorm_on': True, 'mlp_scale_classification': 7, 'embedding_dropout': 0.2, 'decoder_dropout': 0.2, 'class_drop': 0.5, 'learning_rate': 0.001}. Best is trial 3 with value: 0.8699524028865346.\n"
     ]
    },
    {
     "name": "stderr",
     "output_type": "stream",
     "text": [
      "Best trial: 3. Best value: 0.869952:  12%|█▏        | 6/50 [15:24<1:54:20, 155.93s/it]"
     ]
    },
    {
     "name": "stdout",
     "output_type": "stream",
     "text": [
      "[I 2023-10-05 08:59:26,729] Trial 5 finished with value: 0.8633502226316597 and parameters: {'rff_on': True, 'sigma': 5, 'num_layers': 2, 'embed_size': 90, 'heads': 10, 'forward_expansion': 2, 'prenorm_on': False, 'mlp_scale_classification': 8, 'embedding_dropout': 0.1, 'decoder_dropout': 0.5, 'class_drop': 0.2, 'learning_rate': 0.01}. Best is trial 3 with value: 0.8699524028865346.\n"
     ]
    },
    {
     "name": "stderr",
     "output_type": "stream",
     "text": [
      "Best trial: 3. Best value: 0.869952:  14%|█▍        | 7/50 [17:51<1:49:39, 153.01s/it]"
     ]
    },
    {
     "name": "stdout",
     "output_type": "stream",
     "text": [
      "[I 2023-10-05 09:01:53,746] Trial 6 finished with value: 0.8427759864885613 and parameters: {'rff_on': True, 'sigma': 0.001, 'num_layers': 1, 'embed_size': 70, 'heads': 10, 'forward_expansion': 6, 'prenorm_on': False, 'mlp_scale_classification': 8, 'embedding_dropout': 0.1, 'decoder_dropout': 0.1, 'class_drop': 0.5, 'learning_rate': 0.001}. Best is trial 3 with value: 0.8699524028865346.\n"
     ]
    },
    {
     "name": "stderr",
     "output_type": "stream",
     "text": [
      "Best trial: 3. Best value: 0.869952:  16%|█▌        | 8/50 [20:28<1:48:06, 154.45s/it]"
     ]
    },
    {
     "name": "stdout",
     "output_type": "stream",
     "text": [
      "[I 2023-10-05 09:04:31,266] Trial 7 finished with value: 0.8461538461538461 and parameters: {'rff_on': True, 'sigma': 0.001, 'num_layers': 1, 'embed_size': 100, 'heads': 10, 'forward_expansion': 3, 'prenorm_on': True, 'mlp_scale_classification': 2, 'embedding_dropout': 0.5, 'decoder_dropout': 0.2, 'class_drop': 0.1, 'learning_rate': 0.001}. Best is trial 3 with value: 0.8699524028865346.\n"
     ]
    },
    {
     "name": "stderr",
     "output_type": "stream",
     "text": [
      "Best trial: 3. Best value: 0.869952:  18%|█▊        | 9/50 [23:06<1:46:21, 155.64s/it]"
     ]
    },
    {
     "name": "stdout",
     "output_type": "stream",
     "text": [
      "[I 2023-10-05 09:07:09,516] Trial 8 finished with value: 0.8424689083371718 and parameters: {'rff_on': True, 'sigma': 5, 'num_layers': 2, 'embed_size': 160, 'heads': 10, 'forward_expansion': 4, 'prenorm_on': False, 'mlp_scale_classification': 1, 'embedding_dropout': 0, 'decoder_dropout': 0, 'class_drop': 0.5, 'learning_rate': 0.01}. Best is trial 3 with value: 0.8699524028865346.\n"
     ]
    },
    {
     "name": "stderr",
     "output_type": "stream",
     "text": [
      "Best trial: 3. Best value: 0.869952:  20%|██        | 10/50 [25:36<1:42:27, 153.69s/it]"
     ]
    },
    {
     "name": "stdout",
     "output_type": "stream",
     "text": [
      "[I 2023-10-05 09:09:38,843] Trial 9 finished with value: 0.8456932289267619 and parameters: {'rff_on': True, 'sigma': 0.001, 'num_layers': 2, 'embed_size': 90, 'heads': 1, 'forward_expansion': 7, 'prenorm_on': False, 'mlp_scale_classification': 1, 'embedding_dropout': 0.2, 'decoder_dropout': 0.1, 'class_drop': 0, 'learning_rate': 0.0001}. Best is trial 3 with value: 0.8699524028865346.\n"
     ]
    },
    {
     "name": "stderr",
     "output_type": "stream",
     "text": [
      "Best trial: 3. Best value: 0.869952:  22%|██▏       | 11/50 [28:17<1:41:18, 155.85s/it]"
     ]
    },
    {
     "name": "stdout",
     "output_type": "stream",
     "text": [
      "[I 2023-10-05 09:12:19,604] Trial 10 finished with value: 0.866421004145555 and parameters: {'rff_on': True, 'sigma': 1, 'num_layers': 2, 'embed_size': 140, 'heads': 5, 'forward_expansion': 2, 'prenorm_on': True, 'mlp_scale_classification': 4, 'embedding_dropout': 0.1, 'decoder_dropout': 0.1, 'class_drop': 0.1, 'learning_rate': 0.0001}. Best is trial 3 with value: 0.8699524028865346.\n"
     ]
    },
    {
     "name": "stderr",
     "output_type": "stream",
     "text": [
      "Best trial: 3. Best value: 0.869952:  24%|██▍       | 12/50 [31:00<1:40:04, 158.02s/it]"
     ]
    },
    {
     "name": "stdout",
     "output_type": "stream",
     "text": [
      "[I 2023-10-05 09:15:02,586] Trial 11 finished with value: 0.8696453247351451 and parameters: {'rff_on': True, 'sigma': 1, 'num_layers': 2, 'embed_size': 140, 'heads': 5, 'forward_expansion': 1, 'prenorm_on': True, 'mlp_scale_classification': 4, 'embedding_dropout': 0.1, 'decoder_dropout': 0.1, 'class_drop': 0.1, 'learning_rate': 0.0001}. Best is trial 3 with value: 0.8699524028865346.\n"
     ]
    },
    {
     "name": "stderr",
     "output_type": "stream",
     "text": [
      "Best trial: 3. Best value: 0.869952:  26%|██▌       | 13/50 [33:41<1:38:00, 158.92s/it]"
     ]
    },
    {
     "name": "stdout",
     "output_type": "stream",
     "text": [
      "[I 2023-10-05 09:17:43,572] Trial 12 finished with value: 0.8622754491017964 and parameters: {'rff_on': True, 'sigma': 1, 'num_layers': 2, 'embed_size': 140, 'heads': 5, 'forward_expansion': 1, 'prenorm_on': True, 'mlp_scale_classification': 4, 'embedding_dropout': 0.1, 'decoder_dropout': 0.1, 'class_drop': 0.1, 'learning_rate': 0.0001}. Best is trial 3 with value: 0.8699524028865346.\n"
     ]
    },
    {
     "name": "stderr",
     "output_type": "stream",
     "text": [
      "Best trial: 3. Best value: 0.869952:  28%|██▊       | 14/50 [36:23<1:35:57, 159.92s/it]"
     ]
    },
    {
     "name": "stdout",
     "output_type": "stream",
     "text": [
      "[I 2023-10-05 09:20:25,809] Trial 13 finished with value: 0.8624289881774911 and parameters: {'rff_on': True, 'sigma': 10, 'num_layers': 2, 'embed_size': 140, 'heads': 5, 'forward_expansion': 1, 'prenorm_on': True, 'mlp_scale_classification': 3, 'embedding_dropout': 0.1, 'decoder_dropout': 0.1, 'class_drop': 0.2, 'learning_rate': 0.0001}. Best is trial 3 with value: 0.8699524028865346.\n"
     ]
    },
    {
     "name": "stderr",
     "output_type": "stream",
     "text": [
      "Best trial: 3. Best value: 0.869952:  30%|███       | 15/50 [39:04<1:33:35, 160.46s/it]"
     ]
    },
    {
     "name": "stdout",
     "output_type": "stream",
     "text": [
      "[I 2023-10-05 09:23:07,500] Trial 14 finished with value: 0.8667280822969445 and parameters: {'rff_on': True, 'sigma': 1, 'num_layers': 2, 'embed_size': 80, 'heads': 5, 'forward_expansion': 2, 'prenorm_on': True, 'mlp_scale_classification': 5, 'embedding_dropout': 0.1, 'decoder_dropout': 0.1, 'class_drop': 0.1, 'learning_rate': 0.0001}. Best is trial 3 with value: 0.8699524028865346.\n"
     ]
    },
    {
     "name": "stderr",
     "output_type": "stream",
     "text": [
      "Best trial: 3. Best value: 0.869952:  32%|███▏      | 16/50 [41:43<1:30:38, 159.96s/it]"
     ]
    },
    {
     "name": "stdout",
     "output_type": "stream",
     "text": [
      "[I 2023-10-05 09:25:46,318] Trial 15 finished with value: 0.8556732688469215 and parameters: {'rff_on': True, 'sigma': 0.1, 'num_layers': 2, 'embed_size': 60, 'heads': 10, 'forward_expansion': 1, 'prenorm_on': True, 'mlp_scale_classification': 3, 'embedding_dropout': 0.1, 'decoder_dropout': 0.1, 'class_drop': 0.1, 'learning_rate': 0.0001}. Best is trial 3 with value: 0.8699524028865346.\n"
     ]
    },
    {
     "name": "stderr",
     "output_type": "stream",
     "text": [
      "Best trial: 3. Best value: 0.869952:  34%|███▍      | 17/50 [44:26<1:28:25, 160.76s/it]"
     ]
    },
    {
     "name": "stdout",
     "output_type": "stream",
     "text": [
      "[I 2023-10-05 09:28:28,927] Trial 16 finished with value: 0.868417012129587 and parameters: {'rff_on': True, 'sigma': 2, 'num_layers': 2, 'embed_size': 50, 'heads': 5, 'forward_expansion': 3, 'prenorm_on': True, 'mlp_scale_classification': 6, 'embedding_dropout': 0.1, 'decoder_dropout': 0.1, 'class_drop': 0.2, 'learning_rate': 0.0001}. Best is trial 3 with value: 0.8699524028865346.\n"
     ]
    },
    {
     "name": "stderr",
     "output_type": "stream",
     "text": [
      "Best trial: 3. Best value: 0.869952:  36%|███▌      | 18/50 [46:57<1:24:11, 157.87s/it]"
     ]
    },
    {
     "name": "stdout",
     "output_type": "stream",
     "text": [
      "[I 2023-10-05 09:31:00,070] Trial 17 finished with value: 0.8696453247351451 and parameters: {'rff_on': True, 'sigma': 1, 'num_layers': 1, 'embed_size': 140, 'heads': 10, 'forward_expansion': 3, 'prenorm_on': True, 'mlp_scale_classification': 3, 'embedding_dropout': 0.5, 'decoder_dropout': 0.2, 'class_drop': 0, 'learning_rate': 0.0001}. Best is trial 3 with value: 0.8699524028865346.\n"
     ]
    },
    {
     "name": "stderr",
     "output_type": "stream",
     "text": [
      "Best trial: 3. Best value: 0.869952:  38%|███▊      | 19/50 [49:37<1:21:58, 158.65s/it]"
     ]
    },
    {
     "name": "stdout",
     "output_type": "stream",
     "text": [
      "[I 2023-10-05 09:33:40,527] Trial 18 finished with value: 0.8693382465837556 and parameters: {'rff_on': True, 'sigma': 1, 'num_layers': 2, 'embed_size': 140, 'heads': 5, 'forward_expansion': 1, 'prenorm_on': True, 'mlp_scale_classification': 5, 'embedding_dropout': 0, 'decoder_dropout': 0, 'class_drop': 0.5, 'learning_rate': 0.0001}. Best is trial 3 with value: 0.8699524028865346.\n"
     ]
    },
    {
     "name": "stderr",
     "output_type": "stream",
     "text": [
      "Best trial: 3. Best value: 0.869952:  40%|████      | 20/50 [52:17<1:19:27, 158.93s/it]"
     ]
    },
    {
     "name": "stdout",
     "output_type": "stream",
     "text": [
      "[I 2023-10-05 09:36:20,124] Trial 19 finished with value: 0.868417012129587 and parameters: {'rff_on': True, 'sigma': 3, 'num_layers': 2, 'embed_size': 100, 'heads': 1, 'forward_expansion': 2, 'prenorm_on': True, 'mlp_scale_classification': 2, 'embedding_dropout': 0.1, 'decoder_dropout': 0.1, 'class_drop': 0.1, 'learning_rate': 0.0001}. Best is trial 3 with value: 0.8699524028865346.\n"
     ]
    },
    {
     "name": "stderr",
     "output_type": "stream",
     "text": [
      "Best trial: 3. Best value: 0.869952:  42%|████▏     | 21/50 [54:50<1:15:58, 157.19s/it]"
     ]
    },
    {
     "name": "stdout",
     "output_type": "stream",
     "text": [
      "[I 2023-10-05 09:38:53,270] Trial 20 finished with value: 0.8418547520343928 and parameters: {'rff_on': True, 'sigma': 2, 'num_layers': 1, 'embed_size': 160, 'heads': 10, 'forward_expansion': 8, 'prenorm_on': True, 'mlp_scale_classification': 6, 'embedding_dropout': 0.1, 'decoder_dropout': 0.1, 'class_drop': 0.1, 'learning_rate': 0.001}. Best is trial 3 with value: 0.8699524028865346.\n"
     ]
    },
    {
     "name": "stderr",
     "output_type": "stream",
     "text": [
      "Best trial: 21. Best value: 0.871334:  44%|████▍     | 22/50 [57:21<1:12:29, 155.34s/it]"
     ]
    },
    {
     "name": "stdout",
     "output_type": "stream",
     "text": [
      "[I 2023-10-05 09:41:24,292] Trial 21 finished with value: 0.8713342545677875 and parameters: {'rff_on': True, 'sigma': 1, 'num_layers': 1, 'embed_size': 140, 'heads': 10, 'forward_expansion': 3, 'prenorm_on': True, 'mlp_scale_classification': 3, 'embedding_dropout': 0.5, 'decoder_dropout': 0.2, 'class_drop': 0, 'learning_rate': 0.0001}. Best is trial 21 with value: 0.8713342545677875.\n"
     ]
    },
    {
     "name": "stderr",
     "output_type": "stream",
     "text": [
      "Best trial: 21. Best value: 0.871334:  46%|████▌     | 23/50 [59:54<1:09:36, 154.70s/it]"
     ]
    },
    {
     "name": "stdout",
     "output_type": "stream",
     "text": [
      "[I 2023-10-05 09:43:57,503] Trial 22 finished with value: 0.869031168432366 and parameters: {'rff_on': True, 'sigma': 1, 'num_layers': 1, 'embed_size': 140, 'heads': 10, 'forward_expansion': 3, 'prenorm_on': True, 'mlp_scale_classification': 4, 'embedding_dropout': 0.5, 'decoder_dropout': 0.2, 'class_drop': 0, 'learning_rate': 0.0001}. Best is trial 21 with value: 0.8713342545677875.\n"
     ]
    },
    {
     "name": "stderr",
     "output_type": "stream",
     "text": [
      "Best trial: 21. Best value: 0.871334:  48%|████▊     | 24/50 [1:02:28<1:06:56, 154.48s/it]"
     ]
    },
    {
     "name": "stdout",
     "output_type": "stream",
     "text": [
      "[I 2023-10-05 09:46:31,475] Trial 23 finished with value: 0.8708736373407032 and parameters: {'rff_on': True, 'sigma': 1, 'num_layers': 1, 'embed_size': 140, 'heads': 10, 'forward_expansion': 2, 'prenorm_on': True, 'mlp_scale_classification': 2, 'embedding_dropout': 0.5, 'decoder_dropout': 0.2, 'class_drop': 0, 'learning_rate': 0.0001}. Best is trial 21 with value: 0.8713342545677875.\n"
     ]
    },
    {
     "name": "stderr",
     "output_type": "stream",
     "text": [
      "Best trial: 21. Best value: 0.871334:  50%|█████     | 25/50 [1:05:03<1:04:20, 154.43s/it]"
     ]
    },
    {
     "name": "stdout",
     "output_type": "stream",
     "text": [
      "[I 2023-10-05 09:49:05,787] Trial 24 finished with value: 0.8685705512052817 and parameters: {'rff_on': True, 'sigma': 10, 'num_layers': 1, 'embed_size': 80, 'heads': 10, 'forward_expansion': 2, 'prenorm_on': True, 'mlp_scale_classification': 2, 'embedding_dropout': 0.5, 'decoder_dropout': 0.2, 'class_drop': 0, 'learning_rate': 0.0001}. Best is trial 21 with value: 0.8713342545677875.\n"
     ]
    },
    {
     "name": "stderr",
     "output_type": "stream",
     "text": [
      "Best trial: 21. Best value: 0.871334:  52%|█████▏    | 26/50 [1:07:39<1:01:56, 154.84s/it]"
     ]
    },
    {
     "name": "stdout",
     "output_type": "stream",
     "text": [
      "[I 2023-10-05 09:51:41,588] Trial 25 finished with value: 0.8621219100261016 and parameters: {'rff_on': True, 'sigma': 0.1, 'num_layers': 1, 'embed_size': 50, 'heads': 10, 'forward_expansion': 4, 'prenorm_on': True, 'mlp_scale_classification': 3, 'embedding_dropout': 0.5, 'decoder_dropout': 0.2, 'class_drop': 0, 'learning_rate': 0.0001}. Best is trial 21 with value: 0.8713342545677875.\n"
     ]
    },
    {
     "name": "stderr",
     "output_type": "stream",
     "text": [
      "Best trial: 21. Best value: 0.871334:  54%|█████▍    | 27/50 [1:10:05<58:24, 152.37s/it]  "
     ]
    },
    {
     "name": "stdout",
     "output_type": "stream",
     "text": [
      "[I 2023-10-05 09:54:08,179] Trial 26 finished with value: 0.8647320743129127 and parameters: {'rff_on': True, 'sigma': 1, 'num_layers': 1, 'embed_size': 60, 'heads': 10, 'forward_expansion': 3, 'prenorm_on': False, 'mlp_scale_classification': 2, 'embedding_dropout': 0.5, 'decoder_dropout': 0.2, 'class_drop': 0, 'learning_rate': 0.0001}. Best is trial 21 with value: 0.8713342545677875.\n"
     ]
    },
    {
     "name": "stderr",
     "output_type": "stream",
     "text": [
      "Best trial: 21. Best value: 0.871334:  56%|█████▌    | 28/50 [1:12:37<55:49, 152.26s/it]"
     ]
    },
    {
     "name": "stdout",
     "output_type": "stream",
     "text": [
      "[I 2023-10-05 09:56:40,180] Trial 27 finished with value: 0.8697988638108398 and parameters: {'rff_on': True, 'sigma': 1, 'num_layers': 1, 'embed_size': 120, 'heads': 10, 'forward_expansion': 2, 'prenorm_on': True, 'mlp_scale_classification': 1, 'embedding_dropout': 0.5, 'decoder_dropout': 0.2, 'class_drop': 0, 'learning_rate': 0.0001}. Best is trial 21 with value: 0.8713342545677875.\n"
     ]
    },
    {
     "name": "stderr",
     "output_type": "stream",
     "text": [
      "Best trial: 21. Best value: 0.871334:  58%|█████▊    | 29/50 [1:15:10<53:18, 152.33s/it]"
     ]
    },
    {
     "name": "stdout",
     "output_type": "stream",
     "text": [
      "[I 2023-10-05 09:59:12,682] Trial 28 finished with value: 0.8552126516198373 and parameters: {'rff_on': True, 'sigma': 1, 'num_layers': 1, 'embed_size': 140, 'heads': 10, 'forward_expansion': 5, 'prenorm_on': True, 'mlp_scale_classification': 3, 'embedding_dropout': 0.5, 'decoder_dropout': 0.2, 'class_drop': 0, 'learning_rate': 0.001}. Best is trial 21 with value: 0.8713342545677875.\n"
     ]
    },
    {
     "name": "stderr",
     "output_type": "stream",
     "text": [
      "Best trial: 21. Best value: 0.871334:  60%|██████    | 30/50 [1:17:44<50:56, 152.83s/it]"
     ]
    },
    {
     "name": "stdout",
     "output_type": "stream",
     "text": [
      "[I 2023-10-05 10:01:46,684] Trial 29 finished with value: 0.8691847075080608 and parameters: {'rff_on': True, 'sigma': 3, 'num_layers': 1, 'embed_size': 140, 'heads': 10, 'forward_expansion': 4, 'prenorm_on': True, 'mlp_scale_classification': 2, 'embedding_dropout': 0.5, 'decoder_dropout': 0.5, 'class_drop': 0.5, 'learning_rate': 0.0001}. Best is trial 21 with value: 0.8713342545677875.\n"
     ]
    },
    {
     "name": "stderr",
     "output_type": "stream",
     "text": [
      "Best trial: 21. Best value: 0.871334:  62%|██████▏   | 31/50 [1:20:14<48:12, 152.24s/it]"
     ]
    },
    {
     "name": "stdout",
     "output_type": "stream",
     "text": [
      "[I 2023-10-05 10:04:17,539] Trial 30 finished with value: 0.8552126516198373 and parameters: {'rff_on': True, 'sigma': 1, 'num_layers': 1, 'embed_size': 140, 'heads': 10, 'forward_expansion': 3, 'prenorm_on': True, 'mlp_scale_classification': 5, 'embedding_dropout': 0.5, 'decoder_dropout': 0.2, 'class_drop': 0, 'learning_rate': 0.01}. Best is trial 21 with value: 0.8713342545677875.\n"
     ]
    },
    {
     "name": "stderr",
     "output_type": "stream",
     "text": [
      "Best trial: 21. Best value: 0.871334:  64%|██████▍   | 32/50 [1:22:43<45:21, 151.21s/it]"
     ]
    },
    {
     "name": "stdout",
     "output_type": "stream",
     "text": [
      "[I 2023-10-05 10:06:46,364] Trial 31 finished with value: 0.869031168432366 and parameters: {'rff_on': True, 'sigma': 1, 'num_layers': 1, 'embed_size': 120, 'heads': 10, 'forward_expansion': 2, 'prenorm_on': True, 'mlp_scale_classification': 1, 'embedding_dropout': 0.5, 'decoder_dropout': 0.2, 'class_drop': 0, 'learning_rate': 0.0001}. Best is trial 21 with value: 0.8713342545677875.\n"
     ]
    },
    {
     "name": "stderr",
     "output_type": "stream",
     "text": [
      "Best trial: 32. Best value: 0.871641:  66%|██████▌   | 33/50 [1:25:13<42:42, 150.73s/it]"
     ]
    },
    {
     "name": "stdout",
     "output_type": "stream",
     "text": [
      "[I 2023-10-05 10:09:15,952] Trial 32 finished with value: 0.871641332719177 and parameters: {'rff_on': True, 'sigma': 1, 'num_layers': 1, 'embed_size': 120, 'heads': 10, 'forward_expansion': 2, 'prenorm_on': True, 'mlp_scale_classification': 1, 'embedding_dropout': 0.5, 'decoder_dropout': 0.2, 'class_drop': 0, 'learning_rate': 0.0001}. Best is trial 32 with value: 0.871641332719177.\n"
     ]
    },
    {
     "name": "stderr",
     "output_type": "stream",
     "text": [
      "Best trial: 32. Best value: 0.871641:  68%|██████▊   | 34/50 [1:27:35<39:29, 148.11s/it]"
     ]
    },
    {
     "name": "stdout",
     "output_type": "stream",
     "text": [
      "[I 2023-10-05 10:11:37,942] Trial 33 finished with value: 0.8487640104406572 and parameters: {'rff_on': True, 'sigma': 1, 'num_layers': 1, 'embed_size': 120, 'heads': 1, 'forward_expansion': 1, 'prenorm_on': True, 'mlp_scale_classification': 2, 'embedding_dropout': 0.2, 'decoder_dropout': 0, 'class_drop': 0, 'learning_rate': 0.0001}. Best is trial 32 with value: 0.871641332719177.\n"
     ]
    },
    {
     "name": "stderr",
     "output_type": "stream",
     "text": [
      "Best trial: 32. Best value: 0.871641:  70%|███████   | 35/50 [1:30:10<37:33, 150.25s/it]"
     ]
    },
    {
     "name": "stdout",
     "output_type": "stream",
     "text": [
      "[I 2023-10-05 10:14:13,206] Trial 34 finished with value: 0.861200675571933 and parameters: {'rff_on': True, 'sigma': 10, 'num_layers': 1, 'embed_size': 120, 'heads': 10, 'forward_expansion': 2, 'prenorm_on': True, 'mlp_scale_classification': 1, 'embedding_dropout': 0.5, 'decoder_dropout': 0.2, 'class_drop': 0.5, 'learning_rate': 0.0001}. Best is trial 32 with value: 0.871641332719177.\n"
     ]
    },
    {
     "name": "stderr",
     "output_type": "stream",
     "text": [
      "Best trial: 32. Best value: 0.871641:  72%|███████▏  | 36/50 [1:32:38<34:54, 149.61s/it]"
     ]
    },
    {
     "name": "stdout",
     "output_type": "stream",
     "text": [
      "[I 2023-10-05 10:16:41,309] Trial 35 finished with value: 0.8526024873330262 and parameters: {'rff_on': True, 'sigma': 2, 'num_layers': 1, 'embed_size': 70, 'heads': 10, 'forward_expansion': 1, 'prenorm_on': False, 'mlp_scale_classification': 3, 'embedding_dropout': 0, 'decoder_dropout': 0.5, 'class_drop': 0, 'learning_rate': 0.01}. Best is trial 32 with value: 0.871641332719177.\n"
     ]
    },
    {
     "name": "stderr",
     "output_type": "stream",
     "text": [
      "Best trial: 32. Best value: 0.871641:  74%|███████▍  | 37/50 [1:35:08<32:26, 149.73s/it]"
     ]
    },
    {
     "name": "stdout",
     "output_type": "stream",
     "text": [
      "[I 2023-10-05 10:19:11,331] Trial 36 finished with value: 0.8619683709504069 and parameters: {'rff_on': True, 'sigma': 0.1, 'num_layers': 1, 'embed_size': 120, 'heads': 1, 'forward_expansion': 2, 'prenorm_on': True, 'mlp_scale_classification': 4, 'embedding_dropout': 0.2, 'decoder_dropout': 0.2, 'class_drop': 0.2, 'learning_rate': 0.0001}. Best is trial 32 with value: 0.871641332719177.\n"
     ]
    },
    {
     "name": "stderr",
     "output_type": "stream",
     "text": [
      "Best trial: 32. Best value: 0.871641:  76%|███████▌  | 38/50 [1:37:42<30:12, 151.04s/it]"
     ]
    },
    {
     "name": "stdout",
     "output_type": "stream",
     "text": [
      "[I 2023-10-05 10:21:45,432] Trial 37 finished with value: 0.8622754491017964 and parameters: {'rff_on': True, 'sigma': 3, 'num_layers': 1, 'embed_size': 90, 'heads': 10, 'forward_expansion': 3, 'prenorm_on': True, 'mlp_scale_classification': 2, 'embedding_dropout': 0.5, 'decoder_dropout': 0.2, 'class_drop': 0.5, 'learning_rate': 0.001}. Best is trial 32 with value: 0.871641332719177.\n"
     ]
    },
    {
     "name": "stderr",
     "output_type": "stream",
     "text": [
      "Best trial: 32. Best value: 0.871641:  78%|███████▊  | 39/50 [1:40:03<27:07, 147.97s/it]"
     ]
    },
    {
     "name": "stdout",
     "output_type": "stream",
     "text": [
      "[I 2023-10-05 10:24:06,242] Trial 38 finished with value: 0.8473821587594043 and parameters: {'rff_on': True, 'sigma': 5, 'num_layers': 1, 'embed_size': 100, 'heads': 10, 'forward_expansion': 6, 'prenorm_on': False, 'mlp_scale_classification': 1, 'embedding_dropout': 0.5, 'decoder_dropout': 0.5, 'class_drop': 0, 'learning_rate': 0.01}. Best is trial 32 with value: 0.871641332719177.\n"
     ]
    },
    {
     "name": "stderr",
     "output_type": "stream",
     "text": [
      "Best trial: 32. Best value: 0.871641:  80%|████████  | 40/50 [1:42:39<25:03, 150.35s/it]"
     ]
    },
    {
     "name": "stdout",
     "output_type": "stream",
     "text": [
      "[I 2023-10-05 10:26:42,126] Trial 39 finished with value: 0.8674957776754184 and parameters: {'rff_on': True, 'sigma': 1, 'num_layers': 1, 'embed_size': 160, 'heads': 10, 'forward_expansion': 5, 'prenorm_on': True, 'mlp_scale_classification': 3, 'embedding_dropout': 0, 'decoder_dropout': 0, 'class_drop': 0.5, 'learning_rate': 0.0001}. Best is trial 32 with value: 0.871641332719177.\n"
     ]
    },
    {
     "name": "stderr",
     "output_type": "stream",
     "text": [
      "Best trial: 32. Best value: 0.871641:  82%|████████▏ | 41/50 [1:45:06<22:24, 149.44s/it]"
     ]
    },
    {
     "name": "stdout",
     "output_type": "stream",
     "text": [
      "[I 2023-10-05 10:29:09,460] Trial 40 finished with value: 0.8536772608628896 and parameters: {'rff_on': True, 'sigma': 0.001, 'num_layers': 1, 'embed_size': 70, 'heads': 10, 'forward_expansion': 4, 'prenorm_on': False, 'mlp_scale_classification': 2, 'embedding_dropout': 0.5, 'decoder_dropout': 0.2, 'class_drop': 0, 'learning_rate': 0.001}. Best is trial 32 with value: 0.871641332719177.\n"
     ]
    },
    {
     "name": "stderr",
     "output_type": "stream",
     "text": [
      "Best trial: 32. Best value: 0.871641:  84%|████████▍ | 42/50 [1:47:34<19:51, 148.98s/it]"
     ]
    },
    {
     "name": "stdout",
     "output_type": "stream",
     "text": [
      "[I 2023-10-05 10:31:37,350] Trial 41 finished with value: 0.8694917856594503 and parameters: {'rff_on': True, 'sigma': 1, 'num_layers': 1, 'embed_size': 120, 'heads': 10, 'forward_expansion': 2, 'prenorm_on': True, 'mlp_scale_classification': 1, 'embedding_dropout': 0.5, 'decoder_dropout': 0.2, 'class_drop': 0, 'learning_rate': 0.0001}. Best is trial 32 with value: 0.871641332719177.\n"
     ]
    },
    {
     "name": "stderr",
     "output_type": "stream",
     "text": [
      "Best trial: 32. Best value: 0.871641:  86%|████████▌ | 43/50 [1:50:05<17:27, 149.61s/it]"
     ]
    },
    {
     "name": "stdout",
     "output_type": "stream",
     "text": [
      "[I 2023-10-05 10:34:08,450] Trial 42 finished with value: 0.8681099339781975 and parameters: {'rff_on': True, 'sigma': 1, 'num_layers': 1, 'embed_size': 120, 'heads': 10, 'forward_expansion': 2, 'prenorm_on': True, 'mlp_scale_classification': 1, 'embedding_dropout': 0.5, 'decoder_dropout': 0.2, 'class_drop': 0, 'learning_rate': 0.0001}. Best is trial 32 with value: 0.871641332719177.\n"
     ]
    },
    {
     "name": "stderr",
     "output_type": "stream",
     "text": [
      "Best trial: 32. Best value: 0.871641:  88%|████████▊ | 44/50 [1:52:37<15:00, 150.16s/it]"
     ]
    },
    {
     "name": "stdout",
     "output_type": "stream",
     "text": [
      "[I 2023-10-05 10:36:39,868] Trial 43 finished with value: 0.8699524028865346 and parameters: {'rff_on': True, 'sigma': 1, 'num_layers': 1, 'embed_size': 120, 'heads': 10, 'forward_expansion': 1, 'prenorm_on': True, 'mlp_scale_classification': 1, 'embedding_dropout': 0.5, 'decoder_dropout': 0.2, 'class_drop': 0, 'learning_rate': 0.0001}. Best is trial 32 with value: 0.871641332719177.\n"
     ]
    },
    {
     "name": "stderr",
     "output_type": "stream",
     "text": [
      "Best trial: 32. Best value: 0.871641:  90%|█████████ | 45/50 [1:55:08<12:33, 150.61s/it]"
     ]
    },
    {
     "name": "stdout",
     "output_type": "stream",
     "text": [
      "[I 2023-10-05 10:39:11,527] Trial 44 finished with value: 0.8691847075080608 and parameters: {'rff_on': True, 'sigma': 1, 'num_layers': 1, 'embed_size': 140, 'heads': 10, 'forward_expansion': 1, 'prenorm_on': True, 'mlp_scale_classification': 2, 'embedding_dropout': 0.2, 'decoder_dropout': 0.2, 'class_drop': 0, 'learning_rate': 0.0001}. Best is trial 32 with value: 0.871641332719177.\n"
     ]
    },
    {
     "name": "stderr",
     "output_type": "stream",
     "text": [
      "Best trial: 32. Best value: 0.871641:  92%|█████████▏| 46/50 [1:57:37<09:59, 149.87s/it]"
     ]
    },
    {
     "name": "stdout",
     "output_type": "stream",
     "text": [
      "[I 2023-10-05 10:41:39,692] Trial 45 finished with value: 0.8670351604483341 and parameters: {'rff_on': True, 'sigma': 1, 'num_layers': 1, 'embed_size': 80, 'heads': 1, 'forward_expansion': 1, 'prenorm_on': True, 'mlp_scale_classification': 1, 'embedding_dropout': 0.5, 'decoder_dropout': 0.2, 'class_drop': 0.5, 'learning_rate': 0.0001}. Best is trial 32 with value: 0.871641332719177.\n"
     ]
    },
    {
     "name": "stderr",
     "output_type": "stream",
     "text": [
      "Best trial: 32. Best value: 0.871641:  94%|█████████▍| 47/50 [2:00:15<07:37, 152.40s/it]"
     ]
    },
    {
     "name": "stdout",
     "output_type": "stream",
     "text": [
      "[I 2023-10-05 10:44:17,973] Trial 46 finished with value: 0.8547520343927529 and parameters: {'rff_on': True, 'sigma': 5, 'num_layers': 1, 'embed_size': 60, 'heads': 10, 'forward_expansion': 1, 'prenorm_on': True, 'mlp_scale_classification': 4, 'embedding_dropout': 0.5, 'decoder_dropout': 0.2, 'class_drop': 0.2, 'learning_rate': 0.01}. Best is trial 32 with value: 0.871641332719177.\n"
     ]
    },
    {
     "name": "stderr",
     "output_type": "stream",
     "text": [
      "Best trial: 32. Best value: 0.871641:  96%|█████████▌| 48/50 [2:02:47<05:04, 152.31s/it]"
     ]
    },
    {
     "name": "stdout",
     "output_type": "stream",
     "text": [
      "[I 2023-10-05 10:46:50,086] Trial 47 finished with value: 0.8481498541378781 and parameters: {'rff_on': True, 'sigma': 0.001, 'num_layers': 1, 'embed_size': 50, 'heads': 10, 'forward_expansion': 3, 'prenorm_on': True, 'mlp_scale_classification': 3, 'embedding_dropout': 0.5, 'decoder_dropout': 0.5, 'class_drop': 0, 'learning_rate': 0.0001}. Best is trial 32 with value: 0.871641332719177.\n"
     ]
    },
    {
     "name": "stderr",
     "output_type": "stream",
     "text": [
      "Best trial: 32. Best value: 0.871641:  98%|█████████▊| 49/50 [2:05:15<02:31, 151.04s/it]"
     ]
    },
    {
     "name": "stdout",
     "output_type": "stream",
     "text": [
      "[I 2023-10-05 10:49:18,146] Trial 48 finished with value: 0.866421004145555 and parameters: {'rff_on': True, 'sigma': 1, 'num_layers': 2, 'embed_size': 90, 'heads': 10, 'forward_expansion': 1, 'prenorm_on': False, 'mlp_scale_classification': 2, 'embedding_dropout': 0, 'decoder_dropout': 0, 'class_drop': 0, 'learning_rate': 0.0001}. Best is trial 32 with value: 0.871641332719177.\n"
     ]
    },
    {
     "name": "stderr",
     "output_type": "stream",
     "text": [
      "Best trial: 32. Best value: 0.871641: 100%|██████████| 50/50 [2:07:48<00:00, 153.37s/it]"
     ]
    },
    {
     "name": "stdout",
     "output_type": "stream",
     "text": [
      "[I 2023-10-05 10:51:51,226] Trial 49 finished with value: 0.8648856133886074 and parameters: {'rff_on': True, 'sigma': 1, 'num_layers': 1, 'embed_size': 140, 'heads': 10, 'forward_expansion': 2, 'prenorm_on': True, 'mlp_scale_classification': 6, 'embedding_dropout': 0.1, 'decoder_dropout': 0.2, 'class_drop': 0.5, 'learning_rate': 0.0001}. Best is trial 32 with value: 0.871641332719177.\n",
      "Best Hyperparameters: {'rff_on': True, 'sigma': 1, 'num_layers': 1, 'embed_size': 120, 'heads': 10, 'forward_expansion': 2, 'prenorm_on': True, 'mlp_scale_classification': 1, 'embedding_dropout': 0.5, 'decoder_dropout': 0.2, 'class_drop': 0, 'learning_rate': 0.0001}\n",
      "Best Validation Accuracy (at Early Stopping): 0.871641332719177\n"
     ]
    },
    {
     "name": "stderr",
     "output_type": "stream",
     "text": [
      "\n"
     ]
    }
   ],
   "source": [
    "# Set the number of optimization trials\n",
    "num_trials = 50\n",
    "\n",
    "# Create an Optuna study\n",
    "study = optuna.create_study(direction='maximize')  # Maximize validation accuracy\n",
    "\n",
    "# Start the optimization process\n",
    "study.optimize(objective, n_trials=num_trials, show_progress_bar=True)\n",
    "\n",
    "# Get the best hyperparameters and the validation accuracy at the point of early stopping\n",
    "best_params = study.best_params\n",
    "best_val_accuracy = study.best_value\n",
    "\n",
    "print(\"Best Hyperparameters:\", best_params)\n",
    "print(\"Best Validation Accuracy (at Early Stopping):\", best_val_accuracy)"
   ]
  },
  {
   "cell_type": "code",
   "execution_count": 23,
   "metadata": {},
   "outputs": [
    {
     "name": "stdout",
     "output_type": "stream",
     "text": [
      "Epoch [ 1/100]       | Train: Loss 0.5112, income Accuracy 0.7660                        | Test: Loss 0.3874, income Accuracy 0.8131, income F1 0.8151\n",
      "Epoch [ 2/100]       | Train: Loss 0.3578, income Accuracy 0.8332                        | Test: Loss 0.3317, income Accuracy 0.8449, income F1 0.8471\n",
      "Epoch [ 3/100]       | Train: Loss 0.3314, income Accuracy 0.8470                        | Test: Loss 0.3148, income Accuracy 0.8573, income F1 0.8520\n",
      "Epoch [ 4/100]       | Train: Loss 0.3201, income Accuracy 0.8530                        | Test: Loss 0.3120, income Accuracy 0.8583, income F1 0.8568\n",
      "Epoch [ 5/100]       | Train: Loss 0.3149, income Accuracy 0.8545                        | Test: Loss 0.3053, income Accuracy 0.8603, income F1 0.8570\n",
      "Epoch [ 6/100]       | Train: Loss 0.3111, income Accuracy 0.8560                        | Test: Loss 0.3033, income Accuracy 0.8608, income F1 0.8555\n",
      "Epoch [ 7/100]       | Train: Loss 0.3073, income Accuracy 0.8591                        | Test: Loss 0.3047, income Accuracy 0.8587, income F1 0.8492\n",
      "Epoch [ 8/100]       | Train: Loss 0.3045, income Accuracy 0.8597                        | Test: Loss 0.3011, income Accuracy 0.8622, income F1 0.8578\n",
      "Epoch [ 9/100]       | Train: Loss 0.3027, income Accuracy 0.8595                        | Test: Loss 0.2989, income Accuracy 0.8619, income F1 0.8572\n",
      "Epoch [10/100]       | Train: Loss 0.3011, income Accuracy 0.8606                        | Test: Loss 0.2997, income Accuracy 0.8633, income F1 0.8595\n",
      "Epoch [11/100]       | Train: Loss 0.3006, income Accuracy 0.8601                        | Test: Loss 0.2995, income Accuracy 0.8616, income F1 0.8594\n",
      "Epoch [12/100]       | Train: Loss 0.2995, income Accuracy 0.8620                        | Test: Loss 0.2966, income Accuracy 0.8608, income F1 0.8551\n",
      "Epoch [13/100]       | Train: Loss 0.2967, income Accuracy 0.8627                        | Test: Loss 0.3025, income Accuracy 0.8586, income F1 0.8585\n",
      "Epoch [14/100]       | Train: Loss 0.2947, income Accuracy 0.8616                        | Test: Loss 0.2978, income Accuracy 0.8622, income F1 0.8582\n",
      "Epoch [15/100]       | Train: Loss 0.2948, income Accuracy 0.8611                        | Test: Loss 0.2984, income Accuracy 0.8622, income F1 0.8610\n",
      "Epoch [16/100]       | Train: Loss 0.2941, income Accuracy 0.8618                        | Test: Loss 0.3020, income Accuracy 0.8583, income F1 0.8588\n",
      "Epoch [17/100]       | Train: Loss 0.2916, income Accuracy 0.8654                        | Test: Loss 0.2963, income Accuracy 0.8621, income F1 0.8602\n",
      "Epoch [18/100]       | Train: Loss 0.2920, income Accuracy 0.8616                        | Test: Loss 0.2937, income Accuracy 0.8634, income F1 0.8591\n",
      "Epoch [19/100]       | Train: Loss 0.2903, income Accuracy 0.8634                        | Test: Loss 0.2957, income Accuracy 0.8630, income F1 0.8611\n",
      "Epoch [20/100]       | Train: Loss 0.2890, income Accuracy 0.8654                        | Test: Loss 0.2927, income Accuracy 0.8634, income F1 0.8597\n",
      "Epoch [21/100]       | Train: Loss 0.2891, income Accuracy 0.8649                        | Test: Loss 0.2943, income Accuracy 0.8625, income F1 0.8603\n",
      "Epoch [22/100]       | Train: Loss 0.2878, income Accuracy 0.8646                        | Test: Loss 0.2940, income Accuracy 0.8632, income F1 0.8610\n",
      "Epoch [23/100]       | Train: Loss 0.2878, income Accuracy 0.8649                        | Test: Loss 0.3070, income Accuracy 0.8542, income F1 0.8571\n",
      "Epoch [24/100]       | Train: Loss 0.2880, income Accuracy 0.8644                        | Test: Loss 0.2920, income Accuracy 0.8625, income F1 0.8587\n",
      "Epoch [25/100]       | Train: Loss 0.2851, income Accuracy 0.8651                        | Test: Loss 0.2939, income Accuracy 0.8631, income F1 0.8610\n",
      "Epoch [26/100]       | Train: Loss 0.2856, income Accuracy 0.8636                        | Test: Loss 0.2932, income Accuracy 0.8635, income F1 0.8617\n",
      "Epoch [27/100]       | Train: Loss 0.2850, income Accuracy 0.8647                        | Test: Loss 0.2957, income Accuracy 0.8598, income F1 0.8594\n",
      "Epoch [28/100]       | Train: Loss 0.2840, income Accuracy 0.8654                        | Test: Loss 0.2926, income Accuracy 0.8646, income F1 0.8605\n",
      "Epoch [29/100]       | Train: Loss 0.2841, income Accuracy 0.8652                        | Test: Loss 0.2918, income Accuracy 0.8648, income F1 0.8608\n",
      "Epoch [30/100]       | Train: Loss 0.2833, income Accuracy 0.8659                        | Test: Loss 0.2934, income Accuracy 0.8627, income F1 0.8608\n",
      "Epoch [31/100]       | Train: Loss 0.2827, income Accuracy 0.8654                        | Test: Loss 0.2927, income Accuracy 0.8646, income F1 0.8616\n",
      "Epoch [32/100]       | Train: Loss 0.2820, income Accuracy 0.8659                        | Test: Loss 0.2894, income Accuracy 0.8651, income F1 0.8626\n",
      "Epoch [33/100]       | Train: Loss 0.2818, income Accuracy 0.8671                        | Test: Loss 0.2918, income Accuracy 0.8659, income F1 0.8620\n",
      "Epoch [34/100]       | Train: Loss 0.2805, income Accuracy 0.8656                        | Test: Loss 0.2905, income Accuracy 0.8654, income F1 0.8626\n",
      "Epoch [35/100]       | Train: Loss 0.2808, income Accuracy 0.8668                        | Test: Loss 0.2911, income Accuracy 0.8652, income F1 0.8601\n",
      "Epoch [36/100]       | Train: Loss 0.2796, income Accuracy 0.8667                        | Test: Loss 0.2928, income Accuracy 0.8643, income F1 0.8621\n",
      "Epoch [37/100]       | Train: Loss 0.2795, income Accuracy 0.8676                        | Test: Loss 0.2929, income Accuracy 0.8630, income F1 0.8617\n",
      "Epoch [38/100]       | Train: Loss 0.2790, income Accuracy 0.8654                        | Test: Loss 0.2898, income Accuracy 0.8657, income F1 0.8605\n",
      "Epoch [39/100]       | Train: Loss 0.2791, income Accuracy 0.8665                        | Test: Loss 0.2921, income Accuracy 0.8644, income F1 0.8625\n",
      "Epoch [40/100]       | Train: Loss 0.2793, income Accuracy 0.8676                        | Test: Loss 0.2900, income Accuracy 0.8655, income F1 0.8624\n",
      "Epoch [41/100]       | Train: Loss 0.2777, income Accuracy 0.8679                        | Test: Loss 0.2957, income Accuracy 0.8607, income F1 0.8608\n",
      "Epoch [42/100]       | Train: Loss 0.2778, income Accuracy 0.8669                        | Test: Loss 0.2912, income Accuracy 0.8655, income F1 0.8619\n",
      "Epoch [43/100]       | Train: Loss 0.2771, income Accuracy 0.8666                        | Test: Loss 0.2947, income Accuracy 0.8663, income F1 0.8626\n",
      "Epoch [44/100]       | Train: Loss 0.2766, income Accuracy 0.8671                        | Test: Loss 0.2909, income Accuracy 0.8658, income F1 0.8634\n",
      "Epoch [45/100]       | Train: Loss 0.2770, income Accuracy 0.8677                        | Test: Loss 0.2949, income Accuracy 0.8649, income F1 0.8626\n",
      "Epoch [46/100]       | Train: Loss 0.2764, income Accuracy 0.8682                        | Test: Loss 0.2950, income Accuracy 0.8662, income F1 0.8639\n",
      "Epoch [47/100]       | Train: Loss 0.2771, income Accuracy 0.8666                        | Test: Loss 0.2922, income Accuracy 0.8652, income F1 0.8596\n",
      "Epoch [48/100]       | Train: Loss 0.2763, income Accuracy 0.8680                        | Test: Loss 0.2924, income Accuracy 0.8652, income F1 0.8597\n",
      "Epoch [49/100]       | Train: Loss 0.2746, income Accuracy 0.8684                        | Test: Loss 0.2930, income Accuracy 0.8659, income F1 0.8629\n",
      "Epoch [50/100]       | Train: Loss 0.2747, income Accuracy 0.8680                        | Test: Loss 0.2903, income Accuracy 0.8662, income F1 0.8626\n",
      "Epoch [51/100]       | Train: Loss 0.2739, income Accuracy 0.8694                        | Test: Loss 0.2960, income Accuracy 0.8652, income F1 0.8633\n",
      "Epoch [52/100]       | Train: Loss 0.2733, income Accuracy 0.8687                        | Test: Loss 0.2976, income Accuracy 0.8622, income F1 0.8611\n",
      "Epoch [53/100]       | Train: Loss 0.2731, income Accuracy 0.8685                        | Test: Loss 0.2934, income Accuracy 0.8654, income F1 0.8619\n",
      "Epoch [54/100]       | Train: Loss 0.2741, income Accuracy 0.8697                        | Test: Loss 0.2988, income Accuracy 0.8641, income F1 0.8628\n",
      "Epoch [55/100]       | Train: Loss 0.2743, income Accuracy 0.8682                        | Test: Loss 0.2927, income Accuracy 0.8653, income F1 0.8607\n",
      "Epoch [56/100]       | Train: Loss 0.2733, income Accuracy 0.8676                        | Test: Loss 0.2946, income Accuracy 0.8644, income F1 0.8621\n",
      "Epoch [57/100]       | Train: Loss 0.2732, income Accuracy 0.8694                        | Test: Loss 0.2968, income Accuracy 0.8652, income F1 0.8596\n",
      "Epoch [58/100]       | Train: Loss 0.2709, income Accuracy 0.8679                        | Test: Loss 0.2917, income Accuracy 0.8660, income F1 0.8606\n",
      "Epoch [59/100]       | Train: Loss 0.2721, income Accuracy 0.8691                        | Test: Loss 0.2937, income Accuracy 0.8650, income F1 0.8624\n",
      "Epoch [60/100]       | Train: Loss 0.2724, income Accuracy 0.8682                        | Test: Loss 0.2932, income Accuracy 0.8654, income F1 0.8607\n",
      "Epoch [61/100]       | Train: Loss 0.2715, income Accuracy 0.8693                        | Test: Loss 0.2951, income Accuracy 0.8649, income F1 0.8616\n",
      "Epoch [62/100]       | Train: Loss 0.2716, income Accuracy 0.8708                        | Test: Loss 0.2936, income Accuracy 0.8665, income F1 0.8643\n",
      "Epoch [63/100]       | Train: Loss 0.2701, income Accuracy 0.8694                        | Test: Loss 0.2939, income Accuracy 0.8642, income F1 0.8581\n",
      "Epoch [64/100]       | Train: Loss 0.2706, income Accuracy 0.8689                        | Test: Loss 0.2933, income Accuracy 0.8660, income F1 0.8635\n",
      "Epoch [65/100]       | Train: Loss 0.2707, income Accuracy 0.8701                        | Test: Loss 0.2968, income Accuracy 0.8649, income F1 0.8602\n",
      "Epoch [66/100]       | Train: Loss 0.2703, income Accuracy 0.8704                        | Test: Loss 0.2945, income Accuracy 0.8656, income F1 0.8613\n",
      "Epoch [67/100]       | Train: Loss 0.2695, income Accuracy 0.8702                        | Test: Loss 0.2949, income Accuracy 0.8654, income F1 0.8601\n",
      "Epoch [68/100]       | Train: Loss 0.2681, income Accuracy 0.8709                        | Test: Loss 0.2985, income Accuracy 0.8634, income F1 0.8619\n",
      "Epoch [69/100]       | Train: Loss 0.2682, income Accuracy 0.8714                        | Test: Loss 0.2980, income Accuracy 0.8660, income F1 0.8608\n",
      "Epoch [70/100]       | Train: Loss 0.2681, income Accuracy 0.8714                        | Test: Loss 0.2957, income Accuracy 0.8655, income F1 0.8628\n",
      "Epoch [71/100]       | Train: Loss 0.2670, income Accuracy 0.8710                        | Test: Loss 0.2977, income Accuracy 0.8657, income F1 0.8636\n",
      "Epoch [72/100]       | Train: Loss 0.2699, income Accuracy 0.8680                        | Test: Loss 0.2955, income Accuracy 0.8650, income F1 0.8597\n",
      "Epoch [73/100]       | Train: Loss 0.2677, income Accuracy 0.8702                        | Test: Loss 0.2975, income Accuracy 0.8651, income F1 0.8613\n",
      "Epoch [74/100]       | Train: Loss 0.2675, income Accuracy 0.8700                        | Test: Loss 0.2980, income Accuracy 0.8630, income F1 0.8612\n",
      "Epoch [75/100]       | Train: Loss 0.2662, income Accuracy 0.8723                        | Test: Loss 0.3024, income Accuracy 0.8655, income F1 0.8607\n",
      "Epoch [76/100]       | Train: Loss 0.2676, income Accuracy 0.8699                        | Test: Loss 0.2984, income Accuracy 0.8630, income F1 0.8615\n",
      "Epoch [77/100]       | Train: Loss 0.2676, income Accuracy 0.8700                        | Test: Loss 0.3024, income Accuracy 0.8651, income F1 0.8607\n",
      "Epoch [78/100]       | Train: Loss 0.2655, income Accuracy 0.8702                        | Test: Loss 0.2966, income Accuracy 0.8655, income F1 0.8599\n",
      "Epoch [79/100]       | Train: Loss 0.2653, income Accuracy 0.8710                        | Test: Loss 0.2999, income Accuracy 0.8653, income F1 0.8608\n",
      "Epoch [80/100]       | Train: Loss 0.2640, income Accuracy 0.8726                        | Test: Loss 0.2974, income Accuracy 0.8650, income F1 0.8596\n",
      "Epoch [81/100]       | Train: Loss 0.2641, income Accuracy 0.8723                        | Test: Loss 0.3004, income Accuracy 0.8657, income F1 0.8595\n",
      "Epoch [82/100]       | Train: Loss 0.2646, income Accuracy 0.8704                        | Test: Loss 0.3020, income Accuracy 0.8627, income F1 0.8614\n",
      "Epoch [83/100]       | Train: Loss 0.2646, income Accuracy 0.8719                        | Test: Loss 0.3006, income Accuracy 0.8649, income F1 0.8596\n",
      "Epoch [84/100]       | Train: Loss 0.2626, income Accuracy 0.8723                        | Test: Loss 0.3031, income Accuracy 0.8639, income F1 0.8613\n",
      "Epoch [85/100]       | Train: Loss 0.2633, income Accuracy 0.8711                        | Test: Loss 0.3042, income Accuracy 0.8609, income F1 0.8603\n",
      "Epoch [86/100]       | Train: Loss 0.2628, income Accuracy 0.8711                        | Test: Loss 0.3095, income Accuracy 0.8650, income F1 0.8601\n",
      "Epoch [87/100]       | Train: Loss 0.2629, income Accuracy 0.8722                        | Test: Loss 0.3031, income Accuracy 0.8645, income F1 0.8597\n",
      "Epoch [88/100]       | Train: Loss 0.2617, income Accuracy 0.8725                        | Test: Loss 0.3003, income Accuracy 0.8633, income F1 0.8595\n",
      "Epoch [89/100]       | Train: Loss 0.2618, income Accuracy 0.8720                        | Test: Loss 0.3108, income Accuracy 0.8639, income F1 0.8595\n",
      "Epoch [90/100]       | Train: Loss 0.2632, income Accuracy 0.8721                        | Test: Loss 0.3109, income Accuracy 0.8609, income F1 0.8599\n",
      "Epoch [91/100]       | Train: Loss 0.2614, income Accuracy 0.8742                        | Test: Loss 0.3063, income Accuracy 0.8634, income F1 0.8618\n",
      "Epoch [92/100]       | Train: Loss 0.2612, income Accuracy 0.8725                        | Test: Loss 0.3052, income Accuracy 0.8651, income F1 0.8603\n",
      "Epoch [93/100]       | Train: Loss 0.2610, income Accuracy 0.8724                        | Test: Loss 0.3062, income Accuracy 0.8636, income F1 0.8605\n",
      "Epoch [94/100]       | Train: Loss 0.2599, income Accuracy 0.8740                        | Test: Loss 0.3064, income Accuracy 0.8630, income F1 0.8591\n",
      "Epoch [95/100]       | Train: Loss 0.2596, income Accuracy 0.8728                        | Test: Loss 0.3137, income Accuracy 0.8650, income F1 0.8621\n",
      "Epoch [96/100]       | Train: Loss 0.2602, income Accuracy 0.8724                        | Test: Loss 0.3124, income Accuracy 0.8630, income F1 0.8606\n",
      "Epoch [97/100]       | Train: Loss 0.2608, income Accuracy 0.8729                        | Test: Loss 0.3082, income Accuracy 0.8636, income F1 0.8622\n",
      "Epoch [98/100]       | Train: Loss 0.2588, income Accuracy 0.8729                        | Test: Loss 0.3110, income Accuracy 0.8622, income F1 0.8594\n",
      "Epoch [99/100]       | Train: Loss 0.2586, income Accuracy 0.8733                        | Test: Loss 0.3125, income Accuracy 0.8622, income F1 0.8595\n",
      "Epoch [100/100]      | Train: Loss 0.2585, income Accuracy 0.8740                        | Test: Loss 0.3089, income Accuracy 0.8622, income F1 0.8594\n",
      "Confusion Matrix for income\n",
      "[[11458   909]\n",
      " [ 1334  2580]]\n"
     ]
    },
    {
     "data": {
      "image/png": "[encoded data removed]",
      "text/plain": [
       "<Figure size 1500x500 with 2 Axes>"
      ]
     },
     "metadata": {},
     "output_type": "display_data"
    }
   ],
   "source": [
    "model = Classifier(n_features=len(df_train.columns)-1, targets_classes=[2], \n",
    "                   rff_on=best_params['rff_on'], \n",
    "                   sigma=best_params['sigma'],\n",
    "                   embed_size=best_params['embed_size'],\n",
    "                   num_layers=best_params['num_layers'],\n",
    "                   heads=best_params['heads'],\n",
    "                   forward_expansion=best_params['forward_expansion'],\n",
    "                   pre_norm_on=best_params['prenorm_on'],\n",
    "                   mlp_scale_classification=best_params['mlp_scale_classification'],\n",
    "                   embedding_dropout=best_params['embedding_dropout'],\n",
    "                   decoder_dropout=best_params['decoder_dropout'],\n",
    "                   classification_dropout=best_params['class_drop']\n",
    "                   ).to(device_in_use) # Instantiate the model\n",
    "loss_functions = UncertaintyLoss(1)\n",
    "optimizer = torch.optim.Adam(params=model.parameters(), lr = best_params['learning_rate']) # Maybe try messing around with optimizers. try other torch optimizers with different configurations.\n",
    "early_stopping = EarlyStopping(patience=3)\n",
    "epochs = 100 #Set the number of epochs\n",
    "\n",
    "train_losses = []\n",
    "train_accuracies_1 = [] \n",
    "train_accuracies_2 = []\n",
    "train_recalls = [] \n",
    "train_f1_scores = [] \n",
    "test_losses = []\n",
    "test_accuracies_1 = []\n",
    "test_accuracies_2 = []\n",
    "test_recalls = []  \n",
    "test_f1_scores = [] \n",
    "all_attention_scores = []\n",
    "\n",
    "for t in range(epochs):\n",
    "  train_loss, train_accuracy_1 = train(train_dataloader, model, loss_functions, optimizer, device_in_use=device_in_use)\n",
    "  test_loss, test_accuracy_1, all_predictions_1, all_targets_1, f1_1 = test(test_dataloader, model, loss_functions, device_in_use=device_in_use)\n",
    "  train_losses.append(train_loss)\n",
    "  train_accuracies_1.append(train_accuracy_1)\n",
    "  # train_accuracies_2.append(train_accuracy_2)\n",
    "  # train_recalls.append(train_recall) \n",
    "  # train_f1_scores.append(train_f1)\n",
    "  test_losses.append(test_loss)\n",
    "  test_accuracies_1.append(test_accuracy_1)\n",
    "  # test_accuracies_2.append(test_accuracy_2)\n",
    "  # test_recalls.append(test_recall)\n",
    "  # test_f1_scores.append(test_f1)\n",
    "  # Formatting for easier reading\n",
    "  epoch_str = f\"Epoch [{t+1:2}/{epochs}]\"\n",
    "  train_metrics = f\"Train: Loss {format_metric(train_loss)}, income Accuracy {format_metric(train_accuracy_1)}\"\n",
    "  test_metrics = f\"Test: Loss {format_metric(test_loss)}, income Accuracy {format_metric(test_accuracy_1)}, income F1 {format_metric(f1_1)}\"\n",
    "  print(f\"{epoch_str:20} | {train_metrics:65} | {test_metrics}\")\n",
    "\n",
    "  if early_stopping(test_accuracy_1):\n",
    "    break\n",
    "\n",
    "  # total_attention = model.decoder.avg_attention\n",
    "  # all_attention_scores.append(total_attention.tolist()) #UPDATED\n",
    "  # model.decoder.avg_attention = None\n",
    "\n",
    "# Save the model after pre-training\n",
    "torch.save(model.state_dict(), 'final_model_trained.pth')\n",
    "\n",
    "# Plotting the loss curves\n",
    "plt.figure(figsize=(15, 5))\n",
    "plt.subplot(1, 2, 1)\n",
    "plt.plot(range(1, epochs+1), train_losses, label='Train Loss')\n",
    "plt.plot(range(1, epochs+1), [l for l in test_losses], label='Test Loss')\n",
    "plt.xlabel('Epoch')\n",
    "plt.ylabel('Loss')\n",
    "plt.title('Training and Test Loss Curve')\n",
    "plt.legend()\n",
    "\n",
    "# Plotting the accuracy curves\n",
    "plt.subplot(1, 2, 2)\n",
    "plt.plot(range(1, epochs+1), train_accuracies_1, label='Train Accuracy')\n",
    "plt.plot(range(1, epochs+1), test_accuracies_1, label='Test Accuracy')\n",
    "plt.xlabel('Epoch')\n",
    "plt.ylabel('Accuracy')\n",
    "plt.title('Training and Test Accuracy Curve for income')\n",
    "plt.legend()\n",
    "\n",
    "\n",
    "# plt.subplot(1, 3, 3)\n",
    "# plt.plot(range(1, epochs+1), train_accuracies_2, label='Train Accuracy')\n",
    "# plt.plot(range(1, epochs+1), test_accuracies_2, label='Test Accuracy')\n",
    "# plt.xlabel('Epoch')\n",
    "# plt.ylabel('Accuracy')\n",
    "# plt.title('Training and Test Accuracy Curve for Traffic Type')\n",
    "# plt.legend()\n",
    "# plt.tight_layout()\n",
    "# plt.tight_layout()\n",
    "# plt.show()\n",
    "\n",
    "# Display confusion matrix for the first task (Traffic Type) on test data\n",
    "conf_matrix_1 = confusion_matrix(all_targets_1, all_predictions_1)\n",
    "print(\"Confusion Matrix for income\")\n",
    "print(conf_matrix_1)\n",
    "\n",
    "# # Display confusion matrix for the second task (Application Type) on test data\n",
    "# conf_matrix_2 = confusion_matrix(all_targets_2, all_predictions_2)\n",
    "# print(\"Confusion Matrix for Application Type\")\n",
    "# print(conf_matrix_2)\n",
    "\n",
    "# print(f\"Best accuracy: {max(test_accuracies)}\")\n",
    "\n",
    "# # Plot attention scores for each feature over epochs\n",
    "\n",
    "# # all_attention_scores = all_attention_scores.cpu().numpy() #CUDA tensor needs to be converted to cpu tensor\n",
    "# all_attention_scores = torch.tensor(all_attention_scores)\n",
    "# plt.figure(figsize=(10, 6))\n",
    "\n",
    "# features = df.drop(\"class1\", axis=1).columns.tolist()\n",
    "\n",
    "# for feature_idx in range(all_attention_scores.shape[1]):\n",
    "#     plt.plot(all_attention_scores[:, feature_idx], label=features[feature_idx])\n",
    "\n",
    "# plt.xlabel('Epochs')\n",
    "# plt.ylabel('Attention Scores')\n",
    "# plt.title('Attention Scores for Each Feature over Epochs')\n",
    "# plt.legend(loc = 'lower left')\n",
    "# plt.show()\n",
    "\n",
    "# last_epoch_attention_scores = all_attention_scores[-1]\n",
    "# top_scores, top_indices = torch.topk(last_epoch_attention_scores, k=10)\n",
    "\n",
    "# # Display the top 10 attention scores and the corresponding feature\n",
    "# for i in range(10):\n",
    "#     print(f\"{i+1}. {features[int(top_indices[i])]}: {top_scores[i]}\")"
   ]
  }
 ],
 "metadata": {
  "kernelspec": {
   "display_name": "ml-env",
   "language": "python",
   "name": "python3"
  },
  "language_info": {
   "codemirror_mode": {
    "name": "ipython",
    "version": 3
   },
   "file_extension": ".py",
   "mimetype": "text/x-python",
   "name": "python",
   "nbconvert_exporter": "python",
   "pygments_lexer": "ipython3",
   "version": "3.11.4"
  },
  "orig_nbformat": 4
 },
 "nbformat": 4,
 "nbformat_minor": 2
}
