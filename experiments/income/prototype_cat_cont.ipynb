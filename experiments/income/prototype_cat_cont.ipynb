{
 "cells": [
  {
   "cell_type": "code",
   "execution_count": null,
   "metadata": {},
   "outputs": [],
   "source": [
    "import torch\n",
    "import torch.nn as nn\n",
    "import pandas as pd\n",
    "import numpy as np\n",
    "from torch.utils.data import Dataset, DataLoader\n",
    "import matplotlib.pyplot as plt\n",
    "from rff.layers import GaussianEncoding #pip install random-fourier-features-pytorch\n",
    "from sklearn.model_selection import train_test_split\n",
    "from sklearn.metrics import accuracy_score, f1_score, recall_score, confusion_matrix\n",
    "from sklearn.preprocessing import StandardScaler, LabelEncoder\n",
    "import os\n",
    "import optuna\n",
    "from optuna.trial import TrialState"
   ]
  },
  {
   "cell_type": "code",
   "execution_count": null,
   "metadata": {},
   "outputs": [
    {
     "name": "stdout",
     "output_type": "stream",
     "text": [
      "GPU is available and being used\n"
     ]
    }
   ],
   "source": [
    "# Run regardless if you do or do not have GPU so all tensors are moved to right location later on\n",
    "if torch.cuda.is_available():\n",
    "    device_in_use = torch.device(\"cuda\")\n",
    "    print(\"GPU is available and being used\")\n",
    "else:\n",
    "    device_in_use = torch.device(\"cpu\")\n",
    "    print(\"GPU is not available, using CPU instead\")"
   ]
  },
  {
   "cell_type": "markdown",
   "metadata": {},
   "source": [
    "# LOAD AND PROCESS DATA\n",
    "**EXAMPLE WITH ADULT INCOME DATASET**\n",
    "1. Divide features into a set of numerical and a set of categorical.\n",
    "1. Retrieve class counts for each categorical feature (will be used later down the line)\n",
    "1. Standardize or perform quantile transformations to numerical/continuous features.\n",
    "1. Wrap with Dataset and Dataloader."
   ]
  },
  {
   "cell_type": "code",
   "execution_count": null,
   "metadata": {},
   "outputs": [
    {
     "data": {
      "text/html": [
       "<div>\n",
       "<style scoped>\n",
       "    .dataframe tbody tr th:only-of-type {\n",
       "        vertical-align: middle;\n",
       "    }\n",
       "\n",
       "    .dataframe tbody tr th {\n",
       "        vertical-align: top;\n",
       "    }\n",
       "\n",
       "    .dataframe thead th {\n",
       "        text-align: right;\n",
       "    }\n",
       "</style>\n",
       "<table border=\"1\" class=\"dataframe\">\n",
       "  <thead>\n",
       "    <tr style=\"text-align: right;\">\n",
       "      <th></th>\n",
       "      <th>age</th>\n",
       "      <th>workclass</th>\n",
       "      <th>fnlwgt</th>\n",
       "      <th>education</th>\n",
       "      <th>education-num</th>\n",
       "      <th>marital-status</th>\n",
       "      <th>occupation</th>\n",
       "      <th>relationship</th>\n",
       "      <th>race</th>\n",
       "      <th>sex</th>\n",
       "      <th>capital-gain</th>\n",
       "      <th>capital-loss</th>\n",
       "      <th>hours-per-week</th>\n",
       "      <th>native-country</th>\n",
       "      <th>income</th>\n",
       "    </tr>\n",
       "  </thead>\n",
       "  <tbody>\n",
       "    <tr>\n",
       "      <th>0</th>\n",
       "      <td>19</td>\n",
       "      <td>9</td>\n",
       "      <td>171578</td>\n",
       "      <td>15</td>\n",
       "      <td>10</td>\n",
       "      <td>4</td>\n",
       "      <td>15</td>\n",
       "      <td>3</td>\n",
       "      <td>2</td>\n",
       "      <td>1</td>\n",
       "      <td>0</td>\n",
       "      <td>0</td>\n",
       "      <td>40</td>\n",
       "      <td>39</td>\n",
       "      <td>0</td>\n",
       "    </tr>\n",
       "    <tr>\n",
       "      <th>1</th>\n",
       "      <td>32</td>\n",
       "      <td>4</td>\n",
       "      <td>281030</td>\n",
       "      <td>11</td>\n",
       "      <td>9</td>\n",
       "      <td>2</td>\n",
       "      <td>7</td>\n",
       "      <td>0</td>\n",
       "      <td>4</td>\n",
       "      <td>1</td>\n",
       "      <td>0</td>\n",
       "      <td>0</td>\n",
       "      <td>40</td>\n",
       "      <td>39</td>\n",
       "      <td>0</td>\n",
       "    </tr>\n",
       "    <tr>\n",
       "      <th>2</th>\n",
       "      <td>43</td>\n",
       "      <td>4</td>\n",
       "      <td>75993</td>\n",
       "      <td>15</td>\n",
       "      <td>10</td>\n",
       "      <td>2</td>\n",
       "      <td>12</td>\n",
       "      <td>0</td>\n",
       "      <td>4</td>\n",
       "      <td>1</td>\n",
       "      <td>7688</td>\n",
       "      <td>0</td>\n",
       "      <td>40</td>\n",
       "      <td>39</td>\n",
       "      <td>1</td>\n",
       "    </tr>\n",
       "    <tr>\n",
       "      <th>3</th>\n",
       "      <td>37</td>\n",
       "      <td>4</td>\n",
       "      <td>37238</td>\n",
       "      <td>9</td>\n",
       "      <td>13</td>\n",
       "      <td>4</td>\n",
       "      <td>4</td>\n",
       "      <td>1</td>\n",
       "      <td>4</td>\n",
       "      <td>1</td>\n",
       "      <td>0</td>\n",
       "      <td>0</td>\n",
       "      <td>45</td>\n",
       "      <td>39</td>\n",
       "      <td>0</td>\n",
       "    </tr>\n",
       "    <tr>\n",
       "      <th>4</th>\n",
       "      <td>42</td>\n",
       "      <td>1</td>\n",
       "      <td>25240</td>\n",
       "      <td>8</td>\n",
       "      <td>11</td>\n",
       "      <td>0</td>\n",
       "      <td>10</td>\n",
       "      <td>4</td>\n",
       "      <td>0</td>\n",
       "      <td>0</td>\n",
       "      <td>0</td>\n",
       "      <td>0</td>\n",
       "      <td>40</td>\n",
       "      <td>39</td>\n",
       "      <td>0</td>\n",
       "    </tr>\n",
       "    <tr>\n",
       "      <th>...</th>\n",
       "      <td>...</td>\n",
       "      <td>...</td>\n",
       "      <td>...</td>\n",
       "      <td>...</td>\n",
       "      <td>...</td>\n",
       "      <td>...</td>\n",
       "      <td>...</td>\n",
       "      <td>...</td>\n",
       "      <td>...</td>\n",
       "      <td>...</td>\n",
       "      <td>...</td>\n",
       "      <td>...</td>\n",
       "      <td>...</td>\n",
       "      <td>...</td>\n",
       "      <td>...</td>\n",
       "    </tr>\n",
       "    <tr>\n",
       "      <th>34184</th>\n",
       "      <td>35</td>\n",
       "      <td>4</td>\n",
       "      <td>200117</td>\n",
       "      <td>9</td>\n",
       "      <td>13</td>\n",
       "      <td>2</td>\n",
       "      <td>4</td>\n",
       "      <td>0</td>\n",
       "      <td>1</td>\n",
       "      <td>1</td>\n",
       "      <td>0</td>\n",
       "      <td>1887</td>\n",
       "      <td>50</td>\n",
       "      <td>0</td>\n",
       "      <td>1</td>\n",
       "    </tr>\n",
       "    <tr>\n",
       "      <th>34185</th>\n",
       "      <td>21</td>\n",
       "      <td>4</td>\n",
       "      <td>90896</td>\n",
       "      <td>11</td>\n",
       "      <td>9</td>\n",
       "      <td>4</td>\n",
       "      <td>7</td>\n",
       "      <td>3</td>\n",
       "      <td>4</td>\n",
       "      <td>0</td>\n",
       "      <td>0</td>\n",
       "      <td>0</td>\n",
       "      <td>40</td>\n",
       "      <td>39</td>\n",
       "      <td>0</td>\n",
       "    </tr>\n",
       "    <tr>\n",
       "      <th>34186</th>\n",
       "      <td>23</td>\n",
       "      <td>4</td>\n",
       "      <td>370057</td>\n",
       "      <td>11</td>\n",
       "      <td>9</td>\n",
       "      <td>0</td>\n",
       "      <td>1</td>\n",
       "      <td>1</td>\n",
       "      <td>4</td>\n",
       "      <td>0</td>\n",
       "      <td>0</td>\n",
       "      <td>0</td>\n",
       "      <td>40</td>\n",
       "      <td>39</td>\n",
       "      <td>0</td>\n",
       "    </tr>\n",
       "    <tr>\n",
       "      <th>34187</th>\n",
       "      <td>18</td>\n",
       "      <td>4</td>\n",
       "      <td>216284</td>\n",
       "      <td>1</td>\n",
       "      <td>7</td>\n",
       "      <td>4</td>\n",
       "      <td>1</td>\n",
       "      <td>3</td>\n",
       "      <td>4</td>\n",
       "      <td>0</td>\n",
       "      <td>0</td>\n",
       "      <td>0</td>\n",
       "      <td>20</td>\n",
       "      <td>39</td>\n",
       "      <td>0</td>\n",
       "    </tr>\n",
       "    <tr>\n",
       "      <th>34188</th>\n",
       "      <td>50</td>\n",
       "      <td>6</td>\n",
       "      <td>54261</td>\n",
       "      <td>11</td>\n",
       "      <td>9</td>\n",
       "      <td>2</td>\n",
       "      <td>5</td>\n",
       "      <td>0</td>\n",
       "      <td>4</td>\n",
       "      <td>1</td>\n",
       "      <td>0</td>\n",
       "      <td>0</td>\n",
       "      <td>84</td>\n",
       "      <td>39</td>\n",
       "      <td>0</td>\n",
       "    </tr>\n",
       "  </tbody>\n",
       "</table>\n",
       "<p>34189 rows × 15 columns</p>\n",
       "</div>"
      ],
      "text/plain": [
       "       age  workclass  fnlwgt  education  education-num  marital-status  \\\n",
       "0       19          9  171578         15             10               4   \n",
       "1       32          4  281030         11              9               2   \n",
       "2       43          4   75993         15             10               2   \n",
       "3       37          4   37238          9             13               4   \n",
       "4       42          1   25240          8             11               0   \n",
       "...    ...        ...     ...        ...            ...             ...   \n",
       "34184   35          4  200117          9             13               2   \n",
       "34185   21          4   90896         11              9               4   \n",
       "34186   23          4  370057         11              9               0   \n",
       "34187   18          4  216284          1              7               4   \n",
       "34188   50          6   54261         11              9               2   \n",
       "\n",
       "       occupation  relationship  race  sex  capital-gain  capital-loss  \\\n",
       "0              15             3     2    1             0             0   \n",
       "1               7             0     4    1             0             0   \n",
       "2              12             0     4    1          7688             0   \n",
       "3               4             1     4    1             0             0   \n",
       "4              10             4     0    0             0             0   \n",
       "...           ...           ...   ...  ...           ...           ...   \n",
       "34184           4             0     1    1             0          1887   \n",
       "34185           7             3     4    0             0             0   \n",
       "34186           1             1     4    0             0             0   \n",
       "34187           1             3     4    0             0             0   \n",
       "34188           5             0     4    1             0             0   \n",
       "\n",
       "       hours-per-week  native-country  income  \n",
       "0                  40              39       0  \n",
       "1                  40              39       0  \n",
       "2                  40              39       1  \n",
       "3                  45              39       0  \n",
       "4                  40              39       0  \n",
       "...               ...             ...     ...  \n",
       "34184              50               0       1  \n",
       "34185              40              39       0  \n",
       "34186              40              39       0  \n",
       "34187              20              39       0  \n",
       "34188              84              39       0  \n",
       "\n",
       "[34189 rows x 15 columns]"
      ]
     },
     "execution_count": 31,
     "metadata": {},
     "output_type": "execute_result"
    }
   ],
   "source": [
    "# df_train = pd.read_csv('/home/cscadmin/CyberResearch/CAT-Transformer/datasets/income/train.csv')\n",
    "# df_test = pd.read_csv('/home/cscadmin/CyberResearch/CAT-Transformer/datasets/income/test.csv')\n",
    "# df_val = pd.read_csv('/home/cscadmin/CyberResearch/CAT-Transformer/datasets/income/validation.csv') #READ FROM RIGHT SPOT\n",
    "\n",
    "df_train = pd.read_csv(r'C:\\Users\\smbm2\\projects\\CAT-Transformer\\datasets\\income\\train.csv')\n",
    "df_test = pd.read_csv(r'C:\\Users\\smbm2\\projects\\CAT-Transformer\\datasets\\income\\test.csv')\n",
    "df_val = pd.read_csv(r'C:\\Users\\smbm2\\projects\\CAT-Transformer\\datasets\\income\\validation.csv') #READ FROM RIGHT SPOT\n",
    "\n",
    "#Take a look at what the datasets look like initially to get an idea\n",
    "df_train"
   ]
  },
  {
   "cell_type": "code",
   "execution_count": null,
   "metadata": {},
   "outputs": [
    {
     "data": {
      "text/plain": [
       "Index(['age', 'workclass', 'fnlwgt', 'education', 'education-num',\n",
       "       'marital-status', 'occupation', 'relationship', 'race', 'sex',\n",
       "       'capital-gain', 'capital-loss', 'hours-per-week', 'native-country',\n",
       "       'income'],\n",
       "      dtype='object')"
      ]
     },
     "execution_count": 32,
     "metadata": {},
     "output_type": "execute_result"
    }
   ],
   "source": [
    "#Take a look at the feature names\n",
    "df_train.columns"
   ]
  },
  {
   "cell_type": "code",
   "execution_count": null,
   "metadata": {},
   "outputs": [],
   "source": [
    "# Divide the features up (DO THIS MANUALLY TO ENSURE YOU SEPERATE THEM HOW YOU NEED)\n",
    "\n",
    "#SET cat-columns TO NONE IF THERE ARE NO CATEGORICAL FEATURES\n",
    "cat_columns = ['workclass', 'education', 'marital-status', 'occupation', 'relationship', 'race', 'sex', 'native-country']\n",
    "cont_columns = ['age', 'fnlwgt', 'education-num', 'capital-gain', 'capital-loss', 'hours-per-week']\n",
    "target = ['income']\n",
    "\n",
    "#CHECKING TO MAKE SURE YOUR LIST IS CORRECT (NO NEED TO TOUCH)\n",
    "yourlist = cat_columns + cont_columns + target\n",
    "yourlist.sort()\n",
    "oglist = list(df_train.columns)\n",
    "oglist.sort()\n",
    "\n",
    "assert(yourlist == oglist), \"You may of spelled feature name wrong or you forgot to put on of them in the list\""
   ]
  },
  {
   "cell_type": "code",
   "execution_count": null,
   "metadata": {},
   "outputs": [
    {
     "name": "stdout",
     "output_type": "stream",
     "text": [
      "10\n",
      "16\n",
      "7\n",
      "16\n",
      "6\n",
      "5\n",
      "2\n",
      "43\n"
     ]
    }
   ],
   "source": [
    "#Get class counts and store in a list below\n",
    "\n",
    "for x in cat_columns:\n",
    "    print(max(len(df_train[x].value_counts()), len(df_val[x].value_counts()), len(df_test[x].value_counts())))"
   ]
  },
  {
   "cell_type": "code",
   "execution_count": null,
   "metadata": {},
   "outputs": [],
   "source": [
    "cat_feat = [10,16,7,16,6,5,2,43]"
   ]
  },
  {
   "cell_type": "code",
   "execution_count": null,
   "metadata": {},
   "outputs": [],
   "source": [
    "#Getting the number of classes in your classification target\n",
    "target_classes = [max(len(df_train[target].value_counts()), len(df_val[target].value_counts()),len(df_test[target].value_counts()))]"
   ]
  },
  {
   "cell_type": "code",
   "execution_count": null,
   "metadata": {},
   "outputs": [],
   "source": [
    "# Create a StandardScaler and fit it to the cont features\n",
    "scaler = StandardScaler()\n",
    "scaler.fit(df_train[cont_columns])\n",
    "\n",
    "# Transform the training, test, and validation datasets\n",
    "df_train[cont_columns] = scaler.transform(df_train[cont_columns])\n",
    "df_test[cont_columns] = scaler.transform(df_test[cont_columns])\n",
    "df_val[cont_columns] = scaler.transform(df_val[cont_columns])"
   ]
  },
  {
   "cell_type": "code",
   "execution_count": null,
   "metadata": {},
   "outputs": [],
   "source": [
    "class SingleTaskDataset(Dataset):\n",
    "    def __init__(self, df : pd.DataFrame, cat_columns, num_columns,task1_column):\n",
    "        self.n = df.shape[0]\n",
    "        \n",
    "        self.task1_labels = df[task1_column].astype(np.float32).values\n",
    "\n",
    "        self.cate = df[cat_columns].astype(np.int64).values\n",
    "        self.num = df[num_columns].astype(np.float32).values\n",
    "\n",
    "\n",
    "    def __len__(self):\n",
    "        return self.n\n",
    "    \n",
    "    def __getitem__(self, idx):\n",
    "        # Retrieve features and labels from the dataframe using column names\n",
    "        cat_features = self.cate[idx]\n",
    "        num_features = self.num[idx]\n",
    "        labels_task1 = self.task1_labels[idx]\n",
    "\n",
    "        return cat_features, num_features, labels_task1\n",
    "\n",
    "#Wrapping in Dataset\n",
    "train_dataset = SingleTaskDataset(df_train, cat_columns, cont_columns, 'income')\n",
    "val_dataset = SingleTaskDataset(df_val, cat_columns, cont_columns, 'income')\n",
    "test_dataset = SingleTaskDataset(df_test, cat_columns, cont_columns, 'income')\n",
    "\n",
    "#This is a hyperparameter that is not tuned. Maybe mess with what makes sense here\n",
    "#Also try looking to see what other papers have done\n",
    "batch_size = 256\n",
    "\n",
    "# Wrapping with DataLoader for easy batch extraction\n",
    "train_dataloader = DataLoader(train_dataset, batch_size=batch_size, shuffle=True)\n",
    "val_dataloader = DataLoader(val_dataset, batch_size=batch_size, shuffle=True)\n",
    "test_dataloader = DataLoader(test_dataset, batch_size=batch_size, shuffle=True)"
   ]
  },
  {
   "cell_type": "markdown",
   "metadata": {},
   "source": [
    "# MODEL AND HELPERS\n",
    "\n",
    "1. All you should have to do is interact with Classifier()"
   ]
  },
  {
   "cell_type": "code",
   "execution_count": null,
   "metadata": {},
   "outputs": [],
   "source": [
    "# each task loss is scaled by its own learnable parameter, then regularization is applied \n",
    "class UncertaintyLoss(nn.Module):\n",
    "    def __init__(self, num_tasks):\n",
    "        super(UncertaintyLoss, self).__init__()\n",
    "        self.num_tasks = num_tasks\n",
    "\n",
    "        self.loss_fns = [nn.CrossEntropyLoss() for x in range(num_tasks)] \n",
    "\n",
    "    def forward(self, predictions, labels_task1):\n",
    "\n",
    "        #task 1\n",
    "        target = labels_task1.long()\n",
    "        prediction = predictions[0]\n",
    "        loss_fn = self.loss_fns[0]\n",
    "\n",
    "        task_loss = loss_fn(prediction, target)\n",
    "        \n",
    "        return task_loss\n",
    "    \n",
    "#All layers of the model\n",
    "class MultiHeadAttention(nn.Module):\n",
    "    def __init__(self, embed_size, heads):\n",
    "        super(MultiHeadAttention, self).__init__()\n",
    "\n",
    "        self.embed_size = embed_size\n",
    "        self.heads = heads\n",
    "        self.head_dim = embed_size // heads\n",
    "        assert(self.head_dim * heads == embed_size), \"Embed size needs to be div by heads\"\n",
    "        self.values = nn.Linear(self.head_dim, self.head_dim, bias=False)\n",
    "        self.keys =nn.Linear(self.head_dim, self.head_dim, bias=False)\n",
    "        self.queries = nn.Linear(self.head_dim, self.head_dim, bias=False)\n",
    "        self.fc_out = nn.Linear(heads*self.head_dim, embed_size)\n",
    "\n",
    "\n",
    "    def forward(self, values, keys, query):\n",
    "        N = query.shape[0]\n",
    "        value_len, key_len, query_len = values.shape[1], keys.shape[1], query.shape[1]\n",
    "\n",
    "        values = values.reshape(N, value_len, self.heads, self.head_dim)\n",
    "        keys = keys.reshape(N, key_len, self.heads, self.head_dim)\n",
    "        queries = query.reshape(N, query_len, self.heads, self.head_dim)\n",
    "\n",
    "        values = self.values(values)\n",
    "        keys = self.keys(keys)\n",
    "        queries = self.queries(queries)\n",
    "\n",
    "        energy = torch.einsum(\"nqhd,nkhd->nhqk\", [queries, keys])\n",
    "\n",
    "        attention = torch.softmax(energy / (self.embed_size ** (1/2)), dim=3) #(batch_size, head_dim, #query_embeddings, #key_embeddings)\n",
    "\n",
    "        # Calculate simplified attention scores\n",
    "        avg_attention = attention.mean(dim=0)  # Average across batches\n",
    "        # print(\"batch average\", avg_attention.shape)\n",
    "        avg_attention = avg_attention.mean(dim=0).squeeze(dim=0)\n",
    "        # print(\"head average\", avg_attention.shape)\n",
    "\n",
    "        out = torch.einsum(\"nhql,nlhd->nqhd\", [attention, values]).reshape(N, query_len, self.heads*self.head_dim) #(batch_size, n_features, embed_size)\n",
    "        out = self.fc_out(out)\n",
    "\n",
    "        return out, avg_attention\n",
    "    \n",
    "class TransformerBlock(nn.Module):\n",
    "    def __init__(self, embed_size, heads, dropout, forward_expansion, pre_norm_on):\n",
    "        super(TransformerBlock, self).__init__()\n",
    "\n",
    "        self.pre_norm_on = pre_norm_on\n",
    "        if self.pre_norm_on:\n",
    "            self.pre_norm = nn.LayerNorm(embed_size)\n",
    "        self.attention = MultiHeadAttention(embed_size, heads)\n",
    "        self.norm1 = nn.LayerNorm(embed_size)\n",
    "        self.norm2 = nn.LayerNorm(embed_size)\n",
    "\n",
    "        self.feed_forward = nn.Sequential(nn.Linear(embed_size, forward_expansion*embed_size),\n",
    "                                          nn.ReLU(),\n",
    "                                          nn.Linear(forward_expansion*embed_size, embed_size)\n",
    "                                          )\n",
    "        self.dropout = nn.Dropout(dropout)\n",
    "\n",
    "    def forward(self,value,key,query):\n",
    "        if self.pre_norm_on:\n",
    "            query = self.pre_norm(query)\n",
    "            key = self.pre_norm(key)\n",
    "            value = self.pre_norm(value)\n",
    "            \n",
    "        attention, avg_attention = self.attention(value, key, query)\n",
    "        x = self.dropout(self.norm1(attention + query))\n",
    "        forward = self.feed_forward(x)\n",
    "        out = self.dropout(self.norm2(forward + x))\n",
    "        return out, avg_attention\n",
    "    \n",
    "class DecoderBlock(nn.Module):\n",
    "    def __init__(self, embed_size, heads, forward_expansion, dropout, pre_norm_on):\n",
    "        super(DecoderBlock, self).__init__()\n",
    "\n",
    "        self.attention = MultiHeadAttention(embed_size, heads)\n",
    "        self.norm = nn.LayerNorm(embed_size)\n",
    "        self.transformer_block = TransformerBlock(embed_size, heads, dropout, forward_expansion, pre_norm_on)\n",
    "        self.dropout = nn.Dropout(dropout)\n",
    "\n",
    "    def forward(self, x, value, key):\n",
    "        out, avg_attention = self.transformer_block(value, key, x)\n",
    "\n",
    "        return out, avg_attention\n",
    "\n",
    "class Decoder(nn.Module):\n",
    "    def __init__(self,\n",
    "                 embed_size,\n",
    "                 num_layers,\n",
    "                 heads,\n",
    "                 forward_expansion,\n",
    "                 decoder_dropout,\n",
    "                 pre_norm_on\n",
    "    ):\n",
    "        super(Decoder, self).__init__()\n",
    "\n",
    "        self.layers = nn.ModuleList(\n",
    "                [\n",
    "                    DecoderBlock(\n",
    "                        embed_size,\n",
    "                        heads,\n",
    "                        dropout=decoder_dropout,\n",
    "                        forward_expansion=forward_expansion,\n",
    "                        pre_norm_on=pre_norm_on\n",
    "                    )\n",
    "                    for _ in range(num_layers)\n",
    "                ]\n",
    "            )\n",
    "        self.avg_attention = None\n",
    "\n",
    "    def forward(self, class_embed, context):\n",
    "        for layer in self.layers:\n",
    "            # x is the classification embedding (CLS Token)\n",
    "            # context are the feature embeddings that will be used as key and value\n",
    "            x, self.avg_attention = layer(class_embed, context, context)\n",
    "  \n",
    "        return x \n",
    "\n",
    "class Embeddings(nn.Module):\n",
    "    def __init__(self, sigma, embed_size, input_size, embedding_dropout, n_cont, cat_feat, num_target_labels, rff_on):\n",
    "        super(Embeddings, self).__init__()\n",
    "\n",
    "        self.rff_on = rff_on\n",
    "\n",
    "        if self.rff_on:\n",
    "            self.rffs = nn.ModuleList([GaussianEncoding(sigma=sigma, input_size=input_size, encoded_size=embed_size//2) for _ in range(n_cont)])\n",
    "            self.dropout = nn.Dropout(embedding_dropout)\n",
    "            self.mlp_in = embed_size\n",
    "        else:\n",
    "            self.mlp_in = input_size\n",
    "\n",
    "        self.cont_embeddings = nn.ModuleList([nn.Linear(in_features=self.mlp_in, out_features=embed_size) for _ in range(n_cont)])\n",
    "\n",
    "        self.cat_embeddings = nn.ModuleList([nn.Embedding(num_classes, embed_size) for num_classes in cat_feat])\n",
    "\n",
    "        # Classifcation Embeddings for each target label\n",
    "        self.target_label_embeddings = nn.ModuleList([nn.Embedding(1, embed_size) for _ in range(num_target_labels)])\n",
    "\n",
    "\n",
    "    def forward(self, cat_x, cont_x):\n",
    "        x = cont_x.unsqueeze(2) #(batch_size, n_features) -> (batch_size, n_features, 1)\n",
    "        rff_vectors = []\n",
    "        if self.rff_on:\n",
    "            for i, r in enumerate(self.rffs):\n",
    "                input = x[:,i,:]\n",
    "                out = r(input)\n",
    "                rff_vectors.append(out)\n",
    "        \n",
    "            x = torch.stack(rff_vectors, dim=1)\n",
    "        \n",
    "        embeddings = []\n",
    "        for i, e in enumerate(self.cont_embeddings):\n",
    "            goin_in = x[:,i,:]\n",
    "            goin_out = e(goin_in)\n",
    "            embeddings.append(goin_out)\n",
    "\n",
    "        #embedding cat features\n",
    "        cat_x = cat_x.unsqueeze(2)\n",
    "        for i, e in enumerate(self.cat_embeddings):\n",
    "\n",
    "            goin_in = cat_x[:,i,:]\n",
    "  \n",
    "            goin_out = e(goin_in)\n",
    "            goin_out=goin_out.squeeze(1)\n",
    "            embeddings.append(goin_out)\n",
    "\n",
    "        target_label_embeddings_ = []\n",
    "        for e in self.target_label_embeddings:\n",
    "            input = torch.tensor([0], device=x.device)\n",
    "            temp = e(input)\n",
    "            temp = temp.repeat(x.size(0), 1)\n",
    "            tmep = temp.unsqueeze(1)\n",
    "            target_label_embeddings_.append(temp)\n",
    "\n",
    "        class_embeddings = torch.stack(target_label_embeddings_, dim=1)\n",
    "\n",
    "        context = torch.stack(embeddings, dim=1)\n",
    "\n",
    "        return class_embeddings, context\n",
    "\n",
    "class classificationHead(nn.Module):\n",
    "    def __init__(self, embed_size, dropout, mlp_scale_classification, num_target_classes):\n",
    "        super(classificationHead, self).__init__()\n",
    "        \n",
    "        #flattening the embeddings out so each sample in batch is represented with a 460 dimensional vector\n",
    "        self.input = embed_size\n",
    "        self.lin1 = nn.Linear(self.input, mlp_scale_classification*self.input)\n",
    "        self.drop = nn.Dropout(dropout)\n",
    "        self.lin2 = nn.Linear(mlp_scale_classification*self.input, mlp_scale_classification*self.input)\n",
    "        self.lin3 = nn.Linear(mlp_scale_classification*self.input, self.input)\n",
    "        self.lin4 = nn.Linear(self.input, num_target_classes)\n",
    "        self.relu = nn.ReLU()\n",
    "        self.initialize_weights()\n",
    "\n",
    "    def initialize_weights(self): #he_initialization.\n",
    "        torch.nn.init.kaiming_normal_(self.lin1.weight, nonlinearity='relu')\n",
    "        torch.nn.init.zeros_(self.lin1.bias)\n",
    "\n",
    "        torch.nn.init.kaiming_normal_(self.lin3.weight, nonlinearity='relu')\n",
    "        torch.nn.init.zeros_(self.lin3.bias)\n",
    "\n",
    "    def forward(self, x):\n",
    "\n",
    "        x= torch.reshape(x, (-1, self.input))\n",
    "\n",
    "        x = self.lin1(x)\n",
    "        x = self.relu(x)\n",
    "        x = self.drop(x)\n",
    "        x = self.lin2(x)\n",
    "        x = self.relu(x)\n",
    "        x = self.drop(x)\n",
    "        x = self.lin3(x)\n",
    "        x = self.relu(x)\n",
    "        x = self.drop(x)\n",
    "        x = self.lin4(x)\n",
    "  \n",
    "        return x\n",
    "\n",
    "class Classifier(nn.Module):\n",
    "    def __init__(self, \n",
    "                 rff_on = False,\n",
    "                 sigma=4,\n",
    "                 embed_size=20,\n",
    "                 input_size=1,\n",
    "                 embedding_dropout = 0,\n",
    "                 n_cont = 0,\n",
    "                 cat_feat:list = [],\n",
    "                 num_layers=1,\n",
    "                 heads=1,\n",
    "                 forward_expansion=4, # Determines how wide the MLP is in the encoder. Its a scaling factor. \n",
    "                 decoder_dropout=0,\n",
    "                 classification_dropout = 0,\n",
    "                 pre_norm_on = False,\n",
    "                 mlp_scale_classification = 4,\n",
    "                 targets_classes : list=  [3,8]\n",
    "                 ):\n",
    "        super(Classifier, self).__init__()\n",
    "\n",
    "        self.embeddings = Embeddings(rff_on=rff_on, sigma=sigma, embed_size=embed_size, input_size=input_size, \n",
    "                                     embedding_dropout=embedding_dropout,n_cont=n_cont, cat_feat=cat_feat, num_target_labels=len(targets_classes))\n",
    "        self.decoder = Decoder(embed_size=embed_size, num_layers=num_layers, heads=heads, forward_expansion=forward_expansion, \n",
    "                               decoder_dropout=decoder_dropout, pre_norm_on=pre_norm_on)\n",
    "        self.classifying_heads = nn.ModuleList([classificationHead(embed_size=embed_size, dropout=classification_dropout, \n",
    "                                                                   mlp_scale_classification=mlp_scale_classification, \n",
    "                                                                   num_target_classes=x) for x in targets_classes])\n",
    "        \n",
    "    def forward(self, cat_x, cont_x):\n",
    "        class_embed, context = self.embeddings(cat_x, cont_x)\n",
    "\n",
    "        x = self.decoder(class_embed, context)\n",
    "        \n",
    "        probability_dist_raw = []\n",
    "        for i, e in enumerate(self.classifying_heads):\n",
    "            input = x[:, i,:]\n",
    "            output = e(input)\n",
    "            probability_dist_raw.append(output)\n",
    "        \n",
    "        return probability_dist_raw\n",
    "\n",
    "# Training and Testing Loops\n",
    "def train(dataloader, model, loss_function, optimizer, device_in_use):\n",
    "    model.train()\n",
    "\n",
    "    total_loss = 0\n",
    "\n",
    "    total_correct_1 = 0\n",
    "    total_samples_1 = 0\n",
    "    all_targets_1 = []\n",
    "    all_predictions_1 = []\n",
    "\n",
    "    total_correct_2 = 0\n",
    "    total_samples_2 = 0\n",
    "    all_targets_2 = []\n",
    "    all_predictions_2 = []\n",
    "\n",
    "    for (cat_x, cont_x,labels_task1) in dataloader:\n",
    "        cat_x,cont_x,labels_task1 = cat_x.to(device_in_use),cont_x.to(device_in_use),labels_task1.to(device_in_use)\n",
    "\n",
    "\n",
    "        task_predictions = model(cat_x, cont_x) #contains a list of the tensor outputs for each task\n",
    "\n",
    "        loss = loss_function(task_predictions, labels_task1)\n",
    "        total_loss += loss.item()\n",
    "\n",
    "        #computing accuracy for first target\n",
    "        y_pred_softmax_1 = torch.softmax(task_predictions[0], dim=1)\n",
    "        _, y_pred_labels_1 = torch.max(y_pred_softmax_1, dim=1)\n",
    "        total_correct_1 += (y_pred_labels_1 == labels_task1).sum().item()\n",
    "        total_samples_1 += labels_task1.size(0)\n",
    "        all_targets_1.extend(labels_task1.cpu().numpy())\n",
    "        all_predictions_1.extend(y_pred_labels_1.cpu().numpy())\n",
    "\n",
    "\n",
    "        loss.backward()\n",
    "        optimizer.step()\n",
    "        optimizer.zero_grad()\n",
    "\n",
    "    avg_loss = total_loss/len(dataloader)\n",
    "    accuracy_1 = total_correct_1 / total_samples_1\n",
    "    # accuracy_2 = total_correct_2 / total_samples_2\n",
    "\n",
    "    # # precision = precision_score(all_targets, all_predictions, average='weighted')\n",
    "    # recall = recall_score(all_targets, all_predictions, average='weighted')\n",
    "    # f1 = f1_score(all_targets, all_predictions, average='weighted')\n",
    "\n",
    "    return avg_loss, accuracy_1\n",
    "\n",
    "def test(dataloader, model, loss_function, device_in_use):\n",
    "  model.eval()\n",
    "  total_loss = 0\n",
    "  \n",
    "  total_correct_1 = 0\n",
    "  total_samples_1 = 0\n",
    "  all_targets_1 = []\n",
    "  all_predictions_1 = []\n",
    "\n",
    "  total_correct_2 = 0\n",
    "  total_samples_2 = 0\n",
    "  all_targets_2 = []\n",
    "  all_predictions_2 = []\n",
    "\n",
    "  with torch.no_grad():\n",
    "    for (cat_x, cont_x,labels_task1) in dataloader:\n",
    "        cat_x,cont_x,labels_task1 = cat_x.to(device_in_use),cont_x.to(device_in_use),labels_task1.to(device_in_use)\n",
    "\n",
    "\n",
    "        task_predictions = model(cat_x, cont_x) #contains a list of the tensor outputs for each task\n",
    "\n",
    "        loss = loss_function(task_predictions, labels_task1)\n",
    "        total_loss += loss.item()\n",
    "\n",
    "        #computing accuracy for first target\n",
    "        y_pred_softmax_1 = torch.softmax(task_predictions[0], dim=1)\n",
    "        _, y_pred_labels_1 = torch.max(y_pred_softmax_1, dim=1)\n",
    "        total_correct_1 += (y_pred_labels_1 == labels_task1).sum().item()\n",
    "        total_samples_1 += labels_task1.size(0)\n",
    "        all_targets_1.extend(labels_task1.cpu().numpy())\n",
    "        all_predictions_1.extend(y_pred_labels_1.cpu().numpy())\n",
    "\n",
    "\n",
    "  avg = total_loss/len(dataloader)\n",
    "  accuracy_1 = total_correct_1 / total_samples_1\n",
    "  # accuracy_2 = total_correct_2 / total_samples_2\n",
    "  # recall = recall_score(all_targets, all_predictions, average='weighted')\n",
    "  f1_1 = f1_score(all_targets_1, all_predictions_1, average='weighted')\n",
    "  # f1_2 = f1_score(all_targets_2, all_predictions_2, average=\"weighted\")\n",
    "\n",
    "  return avg, accuracy_1, all_predictions_1, all_targets_1, f1_1\n",
    "\n",
    "def format_metric(value): # Used to format the metrics output\n",
    "    return f\"{value:.4f}\""
   ]
  },
  {
   "cell_type": "markdown",
   "metadata": {},
   "source": [
    "# RUN EXPERIMENTS\n",
    "\n",
    "1. Using Optuna to optimize CAT-Transformers hyperparameters for your dataset"
   ]
  },
  {
   "cell_type": "code",
   "execution_count": 42,
   "metadata": {},
   "outputs": [],
   "source": [
    "# Define the early stopping mechanism\n",
    "class EarlyStopping:\n",
    "    def __init__(self, patience=5):\n",
    "        self.patience = patience\n",
    "        self.counter = 0\n",
    "        self.best_metric = float('-inf')\n",
    "        self.early_stop = False\n",
    "\n",
    "    def __call__(self, metric):\n",
    "        if metric > self.best_metric:\n",
    "            self.best_metric = metric\n",
    "            self.counter = 0\n",
    "        else:\n",
    "            self.counter += 1\n",
    "            if self.counter >= self.patience:\n",
    "                self.early_stop = True\n",
    "\n",
    "# Function to log results to a text file\n",
    "def log_to_file(filename, text):\n",
    "    with open(filename, 'a') as f:\n",
    "        f.write(text + '\\n')\n",
    "\n",
    "def objective(trial):\n",
    "    trial_number = trial.number\n",
    "\n",
    "    # Define hyperparameters to search over\n",
    "    sigma = trial.suggest_categorical('sigma', [.001, 0.1, 1, 2, 3, 5, 10])\n",
    "    num_layers = trial.suggest_int('num_layers', 1, 2)\n",
    "    # Ensure that embed_size is divisible by num_layers\n",
    "    embed_size = trial.suggest_categorical(\"embed_size\", [50,100,150,180,200,250,300])\n",
    "    heads = trial.suggest_categorical(\"heads\", [1, 5, 10])\n",
    "    forward_expansion = trial.suggest_int('forward_expansion', 1, 10)\n",
    "    prenorm_on = trial.suggest_categorical('prenorm_on', [True, False])\n",
    "    mlp_scale_classification = trial.suggest_int('mlp_scale_classification', 1, 10)\n",
    "    embedding_dropout = trial.suggest_categorical('embedding_dropout', [0, .1, .2, .5])\n",
    "    decoder_dropout = trial.suggest_categorical('decoder_dropout', [0,.1,.2,.5])\n",
    "    classification_dropout = trial.suggest_categorical('class_drop', [0,.1,.2,.5])\n",
    "\n",
    "    learning_rate = trial.suggest_categorical('learning_rate', [0.00001,0.0001, 0.001, 0.01])\n",
    "\n",
    "    num_epochs = 75\n",
    "\n",
    "    # Create your model with the sampled hyperparameters\n",
    "    model = Classifier(\n",
    "        targets_classes=target_classes,\n",
    "        rff_on=True, #LEAVING ON\n",
    "        n_cont=len(cont_columns),\n",
    "        cat_feat=cat_feat,\n",
    "        sigma=sigma,\n",
    "        embed_size=embed_size,\n",
    "        num_layers=num_layers,\n",
    "        heads=heads,\n",
    "        forward_expansion=forward_expansion,\n",
    "        pre_norm_on=prenorm_on,\n",
    "        mlp_scale_classification=mlp_scale_classification,\n",
    "        embedding_dropout=embedding_dropout,\n",
    "        decoder_dropout=decoder_dropout,\n",
    "        classification_dropout=classification_dropout\n",
    "    ).to(device_in_use)\n",
    "\n",
    "    # Define loss function and optimizer\n",
    "    loss_function = UncertaintyLoss(1)\n",
    "    optimizer = torch.optim.Adam(model.parameters(), lr=learning_rate)\n",
    "\n",
    "    # Initialize early stopping\n",
    "    early_stopping = EarlyStopping(patience=3)  # Adjust patience as needed\n",
    "\n",
    "    # Training loop with a large number of epochs\n",
    "    for epoch in range(num_epochs):\n",
    "        train_loss, train_accuracy = train(train_dataloader, model, loss_function, optimizer, device_in_use)\n",
    "        \n",
    "        # Validation loop\n",
    "        val_loss, val_accuracy, _, _, _ = test(val_dataloader, model, loss_function, device_in_use)\n",
    "        \n",
    "        # Check if we should early stop based on validation accuracy\n",
    "        if early_stopping(val_accuracy):\n",
    "            break\n",
    "\n",
    "    \n",
    "    # Log the final test accuracy for this trial to a shared log file\n",
    "    final_log = f\"Trial {trial_number} completed. Validation Accuracy = {val_accuracy:.4f}\"\n",
    "    log_to_file('all_trials_log.txt', final_log)\n",
    "\n",
    "    # Return the test accuracy as the objective to optimize\n",
    "    return val_accuracy"
   ]
  },
  {
   "cell_type": "code",
   "execution_count": 43,
   "metadata": {},
   "outputs": [
    {
     "name": "stderr",
     "output_type": "stream",
     "text": [
      "[I 2023-11-04 12:58:58,528] A new study created in memory with name: no-name-502c49a1-b21d-4ad3-ae37-46b71eb59094\n",
      "Best trial: 0. Best value: 0.85668:   2%|▏         | 1/50 [03:14<2:38:35, 194.19s/it]"
     ]
    },
    {
     "name": "stdout",
     "output_type": "stream",
     "text": [
      "[I 2023-11-04 13:02:12,728] Trial 0 finished with value: 0.8566797474833646 and parameters: {'sigma': 1, 'num_layers': 1, 'embed_size': 100, 'heads': 1, 'forward_expansion': 1, 'prenorm_on': False, 'mlp_scale_classification': 9, 'embedding_dropout': 0.5, 'decoder_dropout': 0.2, 'class_drop': 0.2, 'learning_rate': 1e-05}. Best is trial 0 with value: 0.8566797474833646.\n"
     ]
    },
    {
     "name": "stderr",
     "output_type": "stream",
     "text": [
      "Best trial: 1. Best value: 0.865381:   4%|▍         | 2/50 [05:36<2:10:58, 163.72s/it]"
     ]
    },
    {
     "name": "stdout",
     "output_type": "stream",
     "text": [
      "[I 2023-11-04 13:04:35,111] Trial 1 finished with value: 0.8653813342433032 and parameters: {'sigma': 1, 'num_layers': 2, 'embed_size': 100, 'heads': 5, 'forward_expansion': 4, 'prenorm_on': True, 'mlp_scale_classification': 1, 'embedding_dropout': 0, 'decoder_dropout': 0.1, 'class_drop': 0.1, 'learning_rate': 0.0001}. Best is trial 1 with value: 0.8653813342433032.\n"
     ]
    },
    {
     "name": "stderr",
     "output_type": "stream",
     "text": [
      "Best trial: 1. Best value: 0.865381:   6%|▌         | 3/50 [07:49<1:57:06, 149.50s/it]"
     ]
    },
    {
     "name": "stdout",
     "output_type": "stream",
     "text": [
      "[I 2023-11-04 13:06:47,688] Trial 2 finished with value: 0.8283569356765057 and parameters: {'sigma': 0.001, 'num_layers': 2, 'embed_size': 100, 'heads': 5, 'forward_expansion': 7, 'prenorm_on': False, 'mlp_scale_classification': 7, 'embedding_dropout': 0.1, 'decoder_dropout': 0.2, 'class_drop': 0.1, 'learning_rate': 0.01}. Best is trial 1 with value: 0.8653813342433032.\n"
     ]
    },
    {
     "name": "stderr",
     "output_type": "stream",
     "text": [
      "Best trial: 3. Best value: 0.866917:   8%|▊         | 4/50 [09:51<1:46:20, 138.71s/it]"
     ]
    },
    {
     "name": "stdout",
     "output_type": "stream",
     "text": [
      "[I 2023-11-04 13:08:49,863] Trial 3 finished with value: 0.86691690837741 and parameters: {'sigma': 3, 'num_layers': 1, 'embed_size': 150, 'heads': 5, 'forward_expansion': 9, 'prenorm_on': True, 'mlp_scale_classification': 10, 'embedding_dropout': 0.2, 'decoder_dropout': 0, 'class_drop': 0.5, 'learning_rate': 0.0001}. Best is trial 3 with value: 0.86691690837741.\n"
     ]
    },
    {
     "name": "stderr",
     "output_type": "stream",
     "text": [
      "Best trial: 3. Best value: 0.866917:  10%|█         | 5/50 [11:58<1:40:55, 134.56s/it]"
     ]
    },
    {
     "name": "stdout",
     "output_type": "stream",
     "text": [
      "[I 2023-11-04 13:10:57,048] Trial 4 finished with value: 0.8597508957515783 and parameters: {'sigma': 3, 'num_layers': 1, 'embed_size': 100, 'heads': 10, 'forward_expansion': 3, 'prenorm_on': True, 'mlp_scale_classification': 4, 'embedding_dropout': 0.2, 'decoder_dropout': 0, 'class_drop': 0.5, 'learning_rate': 1e-05}. Best is trial 3 with value: 0.86691690837741.\n"
     ]
    },
    {
     "name": "stderr",
     "output_type": "stream",
     "text": [
      "Best trial: 3. Best value: 0.866917:  12%|█▏        | 6/50 [13:54<1:33:55, 128.08s/it]"
     ]
    },
    {
     "name": "stdout",
     "output_type": "stream",
     "text": [
      "[I 2023-11-04 13:12:52,565] Trial 5 finished with value: 0.8616277085821532 and parameters: {'sigma': 10, 'num_layers': 1, 'embed_size': 200, 'heads': 10, 'forward_expansion': 2, 'prenorm_on': False, 'mlp_scale_classification': 2, 'embedding_dropout': 0.5, 'decoder_dropout': 0.5, 'class_drop': 0.1, 'learning_rate': 1e-05}. Best is trial 3 with value: 0.86691690837741.\n"
     ]
    },
    {
     "name": "stderr",
     "output_type": "stream",
     "text": [
      "Best trial: 3. Best value: 0.866917:  14%|█▍        | 7/50 [16:03<1:32:04, 128.47s/it]"
     ]
    },
    {
     "name": "stdout",
     "output_type": "stream",
     "text": [
      "[I 2023-11-04 13:15:01,834] Trial 6 finished with value: 0.8641869988056645 and parameters: {'sigma': 3, 'num_layers': 2, 'embed_size': 100, 'heads': 10, 'forward_expansion': 5, 'prenorm_on': False, 'mlp_scale_classification': 10, 'embedding_dropout': 0.2, 'decoder_dropout': 0.2, 'class_drop': 0, 'learning_rate': 0.0001}. Best is trial 3 with value: 0.86691690837741.\n"
     ]
    },
    {
     "name": "stderr",
     "output_type": "stream",
     "text": [
      "Best trial: 3. Best value: 0.866917:  16%|█▌        | 8/50 [18:12<1:30:05, 128.71s/it]"
     ]
    },
    {
     "name": "stdout",
     "output_type": "stream",
     "text": [
      "[I 2023-11-04 13:17:11,061] Trial 7 finished with value: 0.7589148609452312 and parameters: {'sigma': 5, 'num_layers': 2, 'embed_size': 150, 'heads': 1, 'forward_expansion': 8, 'prenorm_on': False, 'mlp_scale_classification': 1, 'embedding_dropout': 0.1, 'decoder_dropout': 0, 'class_drop': 0.1, 'learning_rate': 0.01}. Best is trial 3 with value: 0.86691690837741.\n"
     ]
    },
    {
     "name": "stderr",
     "output_type": "stream",
     "text": [
      "Best trial: 3. Best value: 0.866917:  18%|█▊        | 9/50 [20:07<1:24:56, 124.30s/it]"
     ]
    },
    {
     "name": "stdout",
     "output_type": "stream",
     "text": [
      "[I 2023-11-04 13:19:05,679] Trial 8 finished with value: 0.8604333731445146 and parameters: {'sigma': 0.1, 'num_layers': 1, 'embed_size': 200, 'heads': 10, 'forward_expansion': 10, 'prenorm_on': False, 'mlp_scale_classification': 1, 'embedding_dropout': 0.1, 'decoder_dropout': 0.2, 'class_drop': 0, 'learning_rate': 0.001}. Best is trial 3 with value: 0.86691690837741.\n"
     ]
    },
    {
     "name": "stderr",
     "output_type": "stream",
     "text": [
      "Best trial: 9. Best value: 0.867599:  20%|██        | 10/50 [22:18<1:24:21, 126.55s/it]"
     ]
    },
    {
     "name": "stdout",
     "output_type": "stream",
     "text": [
      "[I 2023-11-04 13:21:17,252] Trial 9 finished with value: 0.8675993857703463 and parameters: {'sigma': 2, 'num_layers': 2, 'embed_size': 180, 'heads': 5, 'forward_expansion': 7, 'prenorm_on': False, 'mlp_scale_classification': 5, 'embedding_dropout': 0.5, 'decoder_dropout': 0.2, 'class_drop': 0.5, 'learning_rate': 0.0001}. Best is trial 9 with value: 0.8675993857703463.\n"
     ]
    },
    {
     "name": "stderr",
     "output_type": "stream",
     "text": [
      "Best trial: 9. Best value: 0.867599:  22%|██▏       | 11/50 [24:31<1:23:34, 128.59s/it]"
     ]
    },
    {
     "name": "stdout",
     "output_type": "stream",
     "text": [
      "[I 2023-11-04 13:23:30,467] Trial 10 finished with value: 0.8628220440197918 and parameters: {'sigma': 2, 'num_layers': 2, 'embed_size': 180, 'heads': 5, 'forward_expansion': 6, 'prenorm_on': True, 'mlp_scale_classification': 5, 'embedding_dropout': 0.5, 'decoder_dropout': 0.5, 'class_drop': 0.5, 'learning_rate': 0.001}. Best is trial 9 with value: 0.8675993857703463.\n"
     ]
    },
    {
     "name": "stderr",
     "output_type": "stream",
     "text": [
      "Best trial: 9. Best value: 0.867599:  24%|██▍       | 12/50 [26:32<1:19:56, 126.23s/it]"
     ]
    },
    {
     "name": "stdout",
     "output_type": "stream",
     "text": [
      "[I 2023-11-04 13:25:31,306] Trial 11 finished with value: 0.8626514246715578 and parameters: {'sigma': 2, 'num_layers': 1, 'embed_size': 250, 'heads': 5, 'forward_expansion': 9, 'prenorm_on': True, 'mlp_scale_classification': 7, 'embedding_dropout': 0.2, 'decoder_dropout': 0, 'class_drop': 0.5, 'learning_rate': 0.0001}. Best is trial 9 with value: 0.8675993857703463.\n"
     ]
    },
    {
     "name": "stderr",
     "output_type": "stream",
     "text": [
      "Best trial: 9. Best value: 0.867599:  26%|██▌       | 13/50 [29:05<1:22:50, 134.34s/it]"
     ]
    },
    {
     "name": "stdout",
     "output_type": "stream",
     "text": [
      "[I 2023-11-04 13:28:04,288] Trial 12 finished with value: 0.8664050503327078 and parameters: {'sigma': 2, 'num_layers': 2, 'embed_size': 50, 'heads': 5, 'forward_expansion': 8, 'prenorm_on': True, 'mlp_scale_classification': 7, 'embedding_dropout': 0, 'decoder_dropout': 0.1, 'class_drop': 0.5, 'learning_rate': 0.0001}. Best is trial 9 with value: 0.8675993857703463.\n"
     ]
    },
    {
     "name": "stderr",
     "output_type": "stream",
     "text": [
      "Best trial: 13. Best value: 0.869988:  28%|██▊       | 14/50 [31:05<1:17:57, 129.94s/it]"
     ]
    },
    {
     "name": "stdout",
     "output_type": "stream",
     "text": [
      "[I 2023-11-04 13:30:04,049] Trial 13 finished with value: 0.8699880566456236 and parameters: {'sigma': 3, 'num_layers': 1, 'embed_size': 150, 'heads': 5, 'forward_expansion': 10, 'prenorm_on': True, 'mlp_scale_classification': 4, 'embedding_dropout': 0.2, 'decoder_dropout': 0, 'class_drop': 0.5, 'learning_rate': 0.0001}. Best is trial 13 with value: 0.8699880566456236.\n"
     ]
    },
    {
     "name": "stderr",
     "output_type": "stream",
     "text": [
      "Best trial: 14. Best value: 0.871865:  30%|███       | 15/50 [32:58<1:12:51, 124.89s/it]"
     ]
    },
    {
     "name": "stdout",
     "output_type": "stream",
     "text": [
      "[I 2023-11-04 13:31:57,228] Trial 14 finished with value: 0.8718648694761986 and parameters: {'sigma': 5, 'num_layers': 1, 'embed_size': 180, 'heads': 5, 'forward_expansion': 10, 'prenorm_on': False, 'mlp_scale_classification': 4, 'embedding_dropout': 0.5, 'decoder_dropout': 0.2, 'class_drop': 0.2, 'learning_rate': 0.0001}. Best is trial 14 with value: 0.8718648694761986.\n"
     ]
    },
    {
     "name": "stderr",
     "output_type": "stream",
     "text": [
      "Best trial: 14. Best value: 0.871865:  32%|███▏      | 16/50 [34:58<1:09:54, 123.36s/it]"
     ]
    },
    {
     "name": "stdout",
     "output_type": "stream",
     "text": [
      "[I 2023-11-04 13:33:57,048] Trial 15 finished with value: 0.8425183415799352 and parameters: {'sigma': 5, 'num_layers': 1, 'embed_size': 300, 'heads': 5, 'forward_expansion': 10, 'prenorm_on': True, 'mlp_scale_classification': 3, 'embedding_dropout': 0.5, 'decoder_dropout': 0, 'class_drop': 0.2, 'learning_rate': 0.0001}. Best is trial 14 with value: 0.8718648694761986.\n"
     ]
    },
    {
     "name": "stderr",
     "output_type": "stream",
     "text": [
      "Best trial: 14. Best value: 0.871865:  34%|███▍      | 17/50 [36:51<1:06:09, 120.30s/it]"
     ]
    },
    {
     "name": "stdout",
     "output_type": "stream",
     "text": [
      "[I 2023-11-04 13:35:50,227] Trial 16 finished with value: 0.8689643405562191 and parameters: {'sigma': 5, 'num_layers': 1, 'embed_size': 150, 'heads': 1, 'forward_expansion': 10, 'prenorm_on': False, 'mlp_scale_classification': 3, 'embedding_dropout': 0.2, 'decoder_dropout': 0.5, 'class_drop': 0.2, 'learning_rate': 0.0001}. Best is trial 14 with value: 0.8718648694761986.\n"
     ]
    },
    {
     "name": "stderr",
     "output_type": "stream",
     "text": [
      "Best trial: 14. Best value: 0.871865:  36%|███▌      | 18/50 [38:52<1:04:17, 120.54s/it]"
     ]
    },
    {
     "name": "stdout",
     "output_type": "stream",
     "text": [
      "[I 2023-11-04 13:37:51,313] Trial 17 finished with value: 0.8571916055280668 and parameters: {'sigma': 10, 'num_layers': 1, 'embed_size': 180, 'heads': 5, 'forward_expansion': 8, 'prenorm_on': True, 'mlp_scale_classification': 4, 'embedding_dropout': 0, 'decoder_dropout': 0.1, 'class_drop': 0.2, 'learning_rate': 0.001}. Best is trial 14 with value: 0.8718648694761986.\n"
     ]
    },
    {
     "name": "stderr",
     "output_type": "stream",
     "text": [
      "Best trial: 14. Best value: 0.871865:  38%|███▊      | 19/50 [40:48<1:01:32, 119.12s/it]"
     ]
    },
    {
     "name": "stdout",
     "output_type": "stream",
     "text": [
      "[I 2023-11-04 13:39:47,146] Trial 18 finished with value: 0.7561849513734857 and parameters: {'sigma': 0.001, 'num_layers': 1, 'embed_size': 250, 'heads': 5, 'forward_expansion': 6, 'prenorm_on': False, 'mlp_scale_classification': 6, 'embedding_dropout': 0.2, 'decoder_dropout': 0, 'class_drop': 0.2, 'learning_rate': 0.01}. Best is trial 14 with value: 0.8718648694761986.\n"
     ]
    },
    {
     "name": "stderr",
     "output_type": "stream",
     "text": [
      "Best trial: 14. Best value: 0.871865:  40%|████      | 20/50 [42:53<1:00:21, 120.72s/it]"
     ]
    },
    {
     "name": "stdout",
     "output_type": "stream",
     "text": [
      "[I 2023-11-04 13:41:51,589] Trial 19 finished with value: 0.8578740829210032 and parameters: {'sigma': 0.1, 'num_layers': 1, 'embed_size': 50, 'heads': 1, 'forward_expansion': 9, 'prenorm_on': True, 'mlp_scale_classification': 3, 'embedding_dropout': 0.5, 'decoder_dropout': 0.2, 'class_drop': 0, 'learning_rate': 0.0001}. Best is trial 14 with value: 0.8718648694761986.\n"
     ]
    },
    {
     "name": "stderr",
     "output_type": "stream",
     "text": [
      "Best trial: 14. Best value: 0.871865:  42%|████▏     | 21/50 [44:50<57:49, 119.65s/it]  "
     ]
    },
    {
     "name": "stdout",
     "output_type": "stream",
     "text": [
      "[I 2023-11-04 13:43:48,734] Trial 20 finished with value: 0.8597508957515783 and parameters: {'sigma': 5, 'num_layers': 1, 'embed_size': 300, 'heads': 5, 'forward_expansion': 7, 'prenorm_on': False, 'mlp_scale_classification': 6, 'embedding_dropout': 0.5, 'decoder_dropout': 0.2, 'class_drop': 0.2, 'learning_rate': 0.0001}. Best is trial 14 with value: 0.8718648694761986.\n"
     ]
    },
    {
     "name": "stderr",
     "output_type": "stream",
     "text": [
      "Best trial: 14. Best value: 0.871865:  44%|████▍     | 22/50 [46:48<55:35, 119.13s/it]"
     ]
    },
    {
     "name": "stdout",
     "output_type": "stream",
     "text": [
      "[I 2023-11-04 13:45:46,651] Trial 21 finished with value: 0.8703292953420918 and parameters: {'sigma': 5, 'num_layers': 1, 'embed_size': 150, 'heads': 1, 'forward_expansion': 10, 'prenorm_on': False, 'mlp_scale_classification': 3, 'embedding_dropout': 0.2, 'decoder_dropout': 0.5, 'class_drop': 0.2, 'learning_rate': 0.0001}. Best is trial 14 with value: 0.8718648694761986.\n"
     ]
    },
    {
     "name": "stderr",
     "output_type": "stream",
     "text": [
      "Best trial: 14. Best value: 0.871865:  46%|████▌     | 23/50 [48:51<54:07, 120.28s/it]"
     ]
    },
    {
     "name": "stdout",
     "output_type": "stream",
     "text": [
      "[I 2023-11-04 13:47:49,605] Trial 22 finished with value: 0.8696468179491554 and parameters: {'sigma': 5, 'num_layers': 1, 'embed_size': 150, 'heads': 1, 'forward_expansion': 10, 'prenorm_on': False, 'mlp_scale_classification': 4, 'embedding_dropout': 0.2, 'decoder_dropout': 0.5, 'class_drop': 0.2, 'learning_rate': 0.0001}. Best is trial 14 with value: 0.8718648694761986.\n"
     ]
    },
    {
     "name": "stderr",
     "output_type": "stream",
     "text": [
      "Best trial: 14. Best value: 0.871865:  48%|████▊     | 24/50 [50:49<51:51, 119.67s/it]"
     ]
    },
    {
     "name": "stdout",
     "output_type": "stream",
     "text": [
      "[I 2023-11-04 13:49:47,856] Trial 23 finished with value: 0.8681112438150487 and parameters: {'sigma': 3, 'num_layers': 1, 'embed_size': 150, 'heads': 1, 'forward_expansion': 9, 'prenorm_on': False, 'mlp_scale_classification': 2, 'embedding_dropout': 0.2, 'decoder_dropout': 0.5, 'class_drop': 0.2, 'learning_rate': 0.0001}. Best is trial 14 with value: 0.8718648694761986.\n"
     ]
    },
    {
     "name": "stderr",
     "output_type": "stream",
     "text": [
      "Best trial: 14. Best value: 0.871865:  50%|█████     | 25/50 [52:47<49:41, 119.26s/it]"
     ]
    },
    {
     "name": "stdout",
     "output_type": "stream",
     "text": [
      "[I 2023-11-04 13:51:46,157] Trial 24 finished with value: 0.8051527043166695 and parameters: {'sigma': 5, 'num_layers': 1, 'embed_size': 180, 'heads': 1, 'forward_expansion': 10, 'prenorm_on': False, 'mlp_scale_classification': 4, 'embedding_dropout': 0.2, 'decoder_dropout': 0.5, 'class_drop': 0.2, 'learning_rate': 0.0001}. Best is trial 14 with value: 0.8718648694761986.\n"
     ]
    },
    {
     "name": "stderr",
     "output_type": "stream",
     "text": [
      "Best trial: 25. Best value: 0.87323:  52%|█████▏    | 26/50 [54:44<47:27, 118.64s/it] "
     ]
    },
    {
     "name": "stdout",
     "output_type": "stream",
     "text": [
      "[I 2023-11-04 13:53:43,340] Trial 25 finished with value: 0.8732298242620713 and parameters: {'sigma': 5, 'num_layers': 1, 'embed_size': 150, 'heads': 1, 'forward_expansion': 8, 'prenorm_on': False, 'mlp_scale_classification': 2, 'embedding_dropout': 0.2, 'decoder_dropout': 0.5, 'class_drop': 0.2, 'learning_rate': 0.0001}. Best is trial 25 with value: 0.8732298242620713.\n"
     ]
    },
    {
     "name": "stderr",
     "output_type": "stream",
     "text": [
      "Best trial: 25. Best value: 0.87323:  54%|█████▍    | 27/50 [56:37<44:50, 116.96s/it]"
     ]
    },
    {
     "name": "stdout",
     "output_type": "stream",
     "text": [
      "[I 2023-11-04 13:55:36,387] Trial 26 finished with value: 0.8633339020644941 and parameters: {'sigma': 5, 'num_layers': 1, 'embed_size': 150, 'heads': 1, 'forward_expansion': 8, 'prenorm_on': False, 'mlp_scale_classification': 2, 'embedding_dropout': 0.1, 'decoder_dropout': 0.5, 'class_drop': 0.2, 'learning_rate': 1e-05}. Best is trial 25 with value: 0.8732298242620713.\n"
     ]
    },
    {
     "name": "stderr",
     "output_type": "stream",
     "text": [
      "Best trial: 25. Best value: 0.87323:  56%|█████▌    | 28/50 [58:34<42:51, 116.90s/it]"
     ]
    },
    {
     "name": "stdout",
     "output_type": "stream",
     "text": [
      "[I 2023-11-04 13:57:33,170] Trial 27 finished with value: 0.7643746800887221 and parameters: {'sigma': 5, 'num_layers': 1, 'embed_size': 180, 'heads': 1, 'forward_expansion': 9, 'prenorm_on': False, 'mlp_scale_classification': 3, 'embedding_dropout': 0, 'decoder_dropout': 0.5, 'class_drop': 0.2, 'learning_rate': 0.001}. Best is trial 25 with value: 0.8732298242620713.\n"
     ]
    },
    {
     "name": "stderr",
     "output_type": "stream",
     "text": [
      "Best trial: 25. Best value: 0.87323:  58%|█████▊    | 29/50 [1:00:26<40:26, 115.54s/it]"
     ]
    },
    {
     "name": "stdout",
     "output_type": "stream",
     "text": [
      "[I 2023-11-04 13:59:25,517] Trial 28 finished with value: 0.7862139566626856 and parameters: {'sigma': 5, 'num_layers': 1, 'embed_size': 150, 'heads': 1, 'forward_expansion': 8, 'prenorm_on': False, 'mlp_scale_classification': 2, 'embedding_dropout': 0.2, 'decoder_dropout': 0.5, 'class_drop': 0.2, 'learning_rate': 0.01}. Best is trial 25 with value: 0.8732298242620713.\n"
     ]
    },
    {
     "name": "stderr",
     "output_type": "stream",
     "text": [
      "Best trial: 25. Best value: 0.87323:  60%|██████    | 30/50 [1:02:21<38:26, 115.35s/it]"
     ]
    },
    {
     "name": "stdout",
     "output_type": "stream",
     "text": [
      "[I 2023-11-04 14:01:20,419] Trial 29 finished with value: 0.7560143320252517 and parameters: {'sigma': 5, 'num_layers': 1, 'embed_size': 200, 'heads': 1, 'forward_expansion': 1, 'prenorm_on': False, 'mlp_scale_classification': 5, 'embedding_dropout': 0.5, 'decoder_dropout': 0.5, 'class_drop': 0.2, 'learning_rate': 1e-05}. Best is trial 25 with value: 0.8732298242620713.\n"
     ]
    },
    {
     "name": "stderr",
     "output_type": "stream",
     "text": [
      "Best trial: 25. Best value: 0.87323:  62%|██████▏   | 31/50 [1:04:18<36:37, 115.68s/it]"
     ]
    },
    {
     "name": "stdout",
     "output_type": "stream",
     "text": [
      "[I 2023-11-04 14:03:16,850] Trial 30 finished with value: 0.8614570892339192 and parameters: {'sigma': 1, 'num_layers': 1, 'embed_size': 50, 'heads': 1, 'forward_expansion': 9, 'prenorm_on': False, 'mlp_scale_classification': 3, 'embedding_dropout': 0.5, 'decoder_dropout': 0.2, 'class_drop': 0.2, 'learning_rate': 0.0001}. Best is trial 25 with value: 0.8732298242620713.\n"
     ]
    },
    {
     "name": "stderr",
     "output_type": "stream",
     "text": [
      "Best trial: 25. Best value: 0.87323:  64%|██████▍   | 32/50 [1:06:14<34:47, 115.96s/it]"
     ]
    },
    {
     "name": "stdout",
     "output_type": "stream",
     "text": [
      "[I 2023-11-04 14:05:13,484] Trial 31 finished with value: 0.8679406244668145 and parameters: {'sigma': 3, 'num_layers': 1, 'embed_size': 150, 'heads': 5, 'forward_expansion': 10, 'prenorm_on': False, 'mlp_scale_classification': 4, 'embedding_dropout': 0.2, 'decoder_dropout': 0, 'class_drop': 0.5, 'learning_rate': 0.0001}. Best is trial 25 with value: 0.8732298242620713.\n"
     ]
    },
    {
     "name": "stderr",
     "output_type": "stream",
     "text": [
      "Best trial: 25. Best value: 0.87323:  66%|██████▌   | 33/50 [1:08:11<32:52, 116.04s/it]"
     ]
    },
    {
     "name": "stdout",
     "output_type": "stream",
     "text": [
      "[I 2023-11-04 14:07:09,700] Trial 32 finished with value: 0.8677700051185805 and parameters: {'sigma': 5, 'num_layers': 1, 'embed_size': 150, 'heads': 1, 'forward_expansion': 10, 'prenorm_on': True, 'mlp_scale_classification': 2, 'embedding_dropout': 0.2, 'decoder_dropout': 0.1, 'class_drop': 0.2, 'learning_rate': 0.0001}. Best is trial 25 with value: 0.8732298242620713.\n"
     ]
    },
    {
     "name": "stderr",
     "output_type": "stream",
     "text": [
      "Best trial: 25. Best value: 0.87323:  68%|██████▊   | 34/50 [1:10:11<31:17, 117.32s/it]"
     ]
    },
    {
     "name": "stdout",
     "output_type": "stream",
     "text": [
      "[I 2023-11-04 14:09:10,002] Trial 33 finished with value: 0.8646988568503668 and parameters: {'sigma': 1, 'num_layers': 1, 'embed_size': 150, 'heads': 5, 'forward_expansion': 9, 'prenorm_on': False, 'mlp_scale_classification': 1, 'embedding_dropout': 0.2, 'decoder_dropout': 0.5, 'class_drop': 0, 'learning_rate': 0.0001}. Best is trial 25 with value: 0.8732298242620713.\n"
     ]
    },
    {
     "name": "stderr",
     "output_type": "stream",
     "text": [
      "Best trial: 25. Best value: 0.87323:  70%|███████   | 35/50 [1:12:09<29:23, 117.54s/it]"
     ]
    },
    {
     "name": "stdout",
     "output_type": "stream",
     "text": [
      "[I 2023-11-04 14:11:08,063] Trial 34 finished with value: 0.8667462890291759 and parameters: {'sigma': 10, 'num_layers': 1, 'embed_size': 150, 'heads': 5, 'forward_expansion': 7, 'prenorm_on': True, 'mlp_scale_classification': 5, 'embedding_dropout': 0.2, 'decoder_dropout': 0.2, 'class_drop': 0.1, 'learning_rate': 0.0001}. Best is trial 25 with value: 0.8732298242620713.\n"
     ]
    },
    {
     "name": "stderr",
     "output_type": "stream",
     "text": [
      "Best trial: 25. Best value: 0.87323:  72%|███████▏  | 36/50 [1:14:24<28:36, 122.64s/it]"
     ]
    },
    {
     "name": "stdout",
     "output_type": "stream",
     "text": [
      "[I 2023-11-04 14:13:22,595] Trial 35 finished with value: 0.8640163794574305 and parameters: {'sigma': 3, 'num_layers': 1, 'embed_size': 300, 'heads': 10, 'forward_expansion': 9, 'prenorm_on': False, 'mlp_scale_classification': 8, 'embedding_dropout': 0.2, 'decoder_dropout': 0, 'class_drop': 0.5, 'learning_rate': 0.0001}. Best is trial 25 with value: 0.8732298242620713.\n"
     ]
    },
    {
     "name": "stderr",
     "output_type": "stream",
     "text": [
      "Best trial: 25. Best value: 0.87323:  74%|███████▍  | 37/50 [1:16:21<26:14, 121.09s/it]"
     ]
    },
    {
     "name": "stdout",
     "output_type": "stream",
     "text": [
      "[I 2023-11-04 14:15:20,063] Trial 36 finished with value: 0.855485412045726 and parameters: {'sigma': 0.001, 'num_layers': 1, 'embed_size': 250, 'heads': 1, 'forward_expansion': 10, 'prenorm_on': True, 'mlp_scale_classification': 3, 'embedding_dropout': 0, 'decoder_dropout': 0.1, 'class_drop': 0.2, 'learning_rate': 0.0001}. Best is trial 25 with value: 0.8732298242620713.\n"
     ]
    },
    {
     "name": "stderr",
     "output_type": "stream",
     "text": [
      "Best trial: 25. Best value: 0.87323:  76%|███████▌  | 38/50 [1:18:17<23:52, 119.40s/it]"
     ]
    },
    {
     "name": "stdout",
     "output_type": "stream",
     "text": [
      "[I 2023-11-04 14:17:15,548] Trial 37 finished with value: 0.8493431155092988 and parameters: {'sigma': 0.1, 'num_layers': 1, 'embed_size': 100, 'heads': 5, 'forward_expansion': 4, 'prenorm_on': False, 'mlp_scale_classification': 4, 'embedding_dropout': 0.2, 'decoder_dropout': 0, 'class_drop': 0.1, 'learning_rate': 0.01}. Best is trial 25 with value: 0.8732298242620713.\n"
     ]
    },
    {
     "name": "stderr",
     "output_type": "stream",
     "text": [
      "Best trial: 25. Best value: 0.87323:  78%|███████▊  | 39/50 [1:20:14<21:46, 118.78s/it]"
     ]
    },
    {
     "name": "stdout",
     "output_type": "stream",
     "text": [
      "[I 2023-11-04 14:19:12,863] Trial 38 finished with value: 0.857362224876301 and parameters: {'sigma': 3, 'num_layers': 1, 'embed_size': 150, 'heads': 10, 'forward_expansion': 8, 'prenorm_on': True, 'mlp_scale_classification': 6, 'embedding_dropout': 0.1, 'decoder_dropout': 0.5, 'class_drop': 0.5, 'learning_rate': 1e-05}. Best is trial 25 with value: 0.8732298242620713.\n"
     ]
    },
    {
     "name": "stderr",
     "output_type": "stream",
     "text": [
      "Best trial: 25. Best value: 0.87323:  80%|████████  | 40/50 [1:22:25<20:23, 122.37s/it]"
     ]
    },
    {
     "name": "stdout",
     "output_type": "stream",
     "text": [
      "[I 2023-11-04 14:21:23,620] Trial 39 finished with value: 0.8635045214127282 and parameters: {'sigma': 1, 'num_layers': 2, 'embed_size': 180, 'heads': 5, 'forward_expansion': 7, 'prenorm_on': False, 'mlp_scale_classification': 2, 'embedding_dropout': 0.2, 'decoder_dropout': 0.2, 'class_drop': 0, 'learning_rate': 0.0001}. Best is trial 25 with value: 0.8732298242620713.\n"
     ]
    },
    {
     "name": "stderr",
     "output_type": "stream",
     "text": [
      "Best trial: 25. Best value: 0.87323:  82%|████████▏ | 41/50 [1:24:33<18:37, 124.18s/it]"
     ]
    },
    {
     "name": "stdout",
     "output_type": "stream",
     "text": [
      "[I 2023-11-04 14:23:32,000] Trial 40 finished with value: 0.8513905476881078 and parameters: {'sigma': 0.001, 'num_layers': 1, 'embed_size': 150, 'heads': 10, 'forward_expansion': 9, 'prenorm_on': False, 'mlp_scale_classification': 1, 'embedding_dropout': 0.5, 'decoder_dropout': 0, 'class_drop': 0.1, 'learning_rate': 0.0001}. Best is trial 25 with value: 0.8732298242620713.\n"
     ]
    },
    {
     "name": "stderr",
     "output_type": "stream",
     "text": [
      "Best trial: 25. Best value: 0.87323:  84%|████████▍ | 42/50 [1:27:00<17:28, 131.05s/it]"
     ]
    },
    {
     "name": "stdout",
     "output_type": "stream",
     "text": [
      "[I 2023-11-04 14:25:59,117] Trial 41 finished with value: 0.8653813342433032 and parameters: {'sigma': 5, 'num_layers': 1, 'embed_size': 150, 'heads': 1, 'forward_expansion': 10, 'prenorm_on': False, 'mlp_scale_classification': 4, 'embedding_dropout': 0.2, 'decoder_dropout': 0.5, 'class_drop': 0.2, 'learning_rate': 0.0001}. Best is trial 25 with value: 0.8732298242620713.\n"
     ]
    },
    {
     "name": "stderr",
     "output_type": "stream",
     "text": [
      "Best trial: 25. Best value: 0.87323:  86%|████████▌ | 43/50 [1:28:53<14:39, 125.68s/it]"
     ]
    },
    {
     "name": "stdout",
     "output_type": "stream",
     "text": [
      "[I 2023-11-04 14:27:52,251] Trial 42 finished with value: 0.86691690837741 and parameters: {'sigma': 5, 'num_layers': 1, 'embed_size': 150, 'heads': 1, 'forward_expansion': 10, 'prenorm_on': False, 'mlp_scale_classification': 4, 'embedding_dropout': 0.2, 'decoder_dropout': 0.5, 'class_drop': 0.2, 'learning_rate': 0.0001}. Best is trial 25 with value: 0.8732298242620713.\n"
     ]
    },
    {
     "name": "stderr",
     "output_type": "stream",
     "text": [
      "Best trial: 25. Best value: 0.87323:  88%|████████▊ | 44/50 [1:30:49<12:16, 122.80s/it]"
     ]
    },
    {
     "name": "stdout",
     "output_type": "stream",
     "text": [
      "[I 2023-11-04 14:29:48,325] Trial 43 finished with value: 0.8682818631632827 and parameters: {'sigma': 5, 'num_layers': 1, 'embed_size': 150, 'heads': 1, 'forward_expansion': 10, 'prenorm_on': False, 'mlp_scale_classification': 5, 'embedding_dropout': 0.2, 'decoder_dropout': 0.5, 'class_drop': 0.2, 'learning_rate': 0.0001}. Best is trial 25 with value: 0.8732298242620713.\n"
     ]
    },
    {
     "name": "stderr",
     "output_type": "stream",
     "text": [
      "Best trial: 25. Best value: 0.87323:  90%|█████████ | 45/50 [1:32:42<09:58, 119.78s/it]"
     ]
    },
    {
     "name": "stdout",
     "output_type": "stream",
     "text": [
      "[I 2023-11-04 14:31:41,076] Trial 44 finished with value: 0.8718648694761986 and parameters: {'sigma': 5, 'num_layers': 1, 'embed_size': 200, 'heads': 1, 'forward_expansion': 5, 'prenorm_on': False, 'mlp_scale_classification': 3, 'embedding_dropout': 0.2, 'decoder_dropout': 0.5, 'class_drop': 0.2, 'learning_rate': 0.0001}. Best is trial 25 with value: 0.8732298242620713.\n"
     ]
    },
    {
     "name": "stderr",
     "output_type": "stream",
     "text": [
      "Best trial: 25. Best value: 0.87323:  92%|█████████▏| 46/50 [1:34:38<07:54, 118.58s/it]"
     ]
    },
    {
     "name": "stdout",
     "output_type": "stream",
     "text": [
      "[I 2023-11-04 14:33:36,842] Trial 45 finished with value: 0.7921856338508787 and parameters: {'sigma': 3, 'num_layers': 1, 'embed_size': 200, 'heads': 1, 'forward_expansion': 5, 'prenorm_on': False, 'mlp_scale_classification': 3, 'embedding_dropout': 0.1, 'decoder_dropout': 0.2, 'class_drop': 0.5, 'learning_rate': 0.001}. Best is trial 25 with value: 0.8732298242620713.\n"
     ]
    },
    {
     "name": "stderr",
     "output_type": "stream",
     "text": [
      "Best trial: 25. Best value: 0.87323:  94%|█████████▍| 47/50 [1:36:46<06:04, 121.44s/it]"
     ]
    },
    {
     "name": "stdout",
     "output_type": "stream",
     "text": [
      "[I 2023-11-04 14:35:44,966] Trial 46 finished with value: 0.8689643405562191 and parameters: {'sigma': 5, 'num_layers': 2, 'embed_size': 200, 'heads': 5, 'forward_expansion': 4, 'prenorm_on': True, 'mlp_scale_classification': 2, 'embedding_dropout': 0.2, 'decoder_dropout': 0.5, 'class_drop': 0.2, 'learning_rate': 0.0001}. Best is trial 25 with value: 0.8732298242620713.\n"
     ]
    },
    {
     "name": "stderr",
     "output_type": "stream",
     "text": [
      "Best trial: 25. Best value: 0.87323:  96%|█████████▌| 48/50 [1:38:41<03:59, 119.64s/it]"
     ]
    },
    {
     "name": "stdout",
     "output_type": "stream",
     "text": [
      "[I 2023-11-04 14:37:40,398] Trial 47 finished with value: 0.7561849513734857 and parameters: {'sigma': 10, 'num_layers': 1, 'embed_size': 200, 'heads': 1, 'forward_expansion': 5, 'prenorm_on': False, 'mlp_scale_classification': 3, 'embedding_dropout': 0.2, 'decoder_dropout': 0.5, 'class_drop': 0.5, 'learning_rate': 0.01}. Best is trial 25 with value: 0.8732298242620713.\n"
     ]
    },
    {
     "name": "stderr",
     "output_type": "stream",
     "text": [
      "Best trial: 25. Best value: 0.87323:  98%|█████████▊| 49/50 [1:40:38<01:58, 118.72s/it]"
     ]
    },
    {
     "name": "stdout",
     "output_type": "stream",
     "text": [
      "[I 2023-11-04 14:39:36,981] Trial 48 finished with value: 0.8600921344480464 and parameters: {'sigma': 5, 'num_layers': 1, 'embed_size': 100, 'heads': 5, 'forward_expansion': 3, 'prenorm_on': True, 'mlp_scale_classification': 9, 'embedding_dropout': 0.5, 'decoder_dropout': 0, 'class_drop': 0.2, 'learning_rate': 1e-05}. Best is trial 25 with value: 0.8732298242620713.\n"
     ]
    },
    {
     "name": "stderr",
     "output_type": "stream",
     "text": [
      "Best trial: 25. Best value: 0.87323: 100%|██████████| 50/50 [1:42:33<00:00, 123.07s/it]"
     ]
    },
    {
     "name": "stdout",
     "output_type": "stream",
     "text": [
      "[I 2023-11-04 14:41:31,834] Trial 49 finished with value: 0.8703292953420918 and parameters: {'sigma': 2, 'num_layers': 1, 'embed_size': 200, 'heads': 10, 'forward_expansion': 6, 'prenorm_on': False, 'mlp_scale_classification': 3, 'embedding_dropout': 0, 'decoder_dropout': 0.2, 'class_drop': 0, 'learning_rate': 0.0001}. Best is trial 25 with value: 0.8732298242620713.\n",
      "Best Hyperparameters: {'sigma': 5, 'num_layers': 1, 'embed_size': 150, 'heads': 1, 'forward_expansion': 8, 'prenorm_on': False, 'mlp_scale_classification': 2, 'embedding_dropout': 0.2, 'decoder_dropout': 0.5, 'class_drop': 0.2, 'learning_rate': 0.0001}\n",
      "Best Validation Accuracy (at Early Stopping): 0.8732298242620713\n"
     ]
    },
    {
     "name": "stderr",
     "output_type": "stream",
     "text": [
      "\n"
     ]
    }
   ],
   "source": [
    "# Set the number of optimization trials\n",
    "num_trials = 50\n",
    "\n",
    "# Create an Optuna study\n",
    "study = optuna.create_study(direction='maximize')  # Maximize validation accuracy\n",
    "\n",
    "# Start the optimization process\n",
    "study.optimize(objective, n_trials=num_trials, show_progress_bar=True)\n",
    "\n",
    "# Get the best hyperparameters and the validation accuracy at the point of early stopping\n",
    "best_params = study.best_params\n",
    "best_val_accuracy = study.best_value\n",
    "\n",
    "print(\"Best Hyperparameters:\", best_params)\n",
    "print(\"Best Validation Accuracy (at Early Stopping):\", best_val_accuracy)"
   ]
  },
  {
   "cell_type": "code",
   "execution_count": 44,
   "metadata": {},
   "outputs": [
    {
     "name": "stdout",
     "output_type": "stream",
     "text": [
      "Epoch [ 1/75]        | Train: Loss 0.5054, Accuracy 0.7530                               | Test: Loss 0.4757, Accuracy 0.7018, F1 0.7233\n",
      "Epoch [ 2/75]        | Train: Loss 0.4374, Accuracy 0.7600                               | Test: Loss 0.4563, Accuracy 0.7575, F1 0.7694\n",
      "Epoch [ 3/75]        | Train: Loss 0.4218, Accuracy 0.7799                               | Test: Loss 0.4302, Accuracy 0.7650, F1 0.7766\n",
      "Epoch [ 4/75]        | Train: Loss 0.4051, Accuracy 0.7951                               | Test: Loss 0.3693, Accuracy 0.8309, F1 0.8252\n",
      "Epoch [ 5/75]        | Train: Loss 0.3681, Accuracy 0.8278                               | Test: Loss 0.3408, Accuracy 0.8430, F1 0.8379\n",
      "Epoch [ 6/75]        | Train: Loss 0.3399, Accuracy 0.8442                               | Test: Loss 0.3353, Accuracy 0.8495, F1 0.8494\n",
      "Epoch [ 7/75]        | Train: Loss 0.3285, Accuracy 0.8514                               | Test: Loss 0.3257, Accuracy 0.8542, F1 0.8528\n",
      "Epoch [ 8/75]        | Train: Loss 0.3160, Accuracy 0.8566                               | Test: Loss 0.3173, Accuracy 0.8603, F1 0.8567\n",
      "Epoch [ 9/75]        | Train: Loss 0.3085, Accuracy 0.8592                               | Test: Loss 0.3175, Accuracy 0.8596, F1 0.8575\n",
      "Epoch [10/75]        | Train: Loss 0.3029, Accuracy 0.8609                               | Test: Loss 0.3175, Accuracy 0.8608, F1 0.8599\n",
      "Epoch [11/75]        | Train: Loss 0.2977, Accuracy 0.8652                               | Test: Loss 0.3156, Accuracy 0.8578, F1 0.8574\n",
      "Epoch [12/75]        | Train: Loss 0.2945, Accuracy 0.8653                               | Test: Loss 0.3213, Accuracy 0.8523, F1 0.8548\n",
      "Epoch [13/75]        | Train: Loss 0.2948, Accuracy 0.8662                               | Test: Loss 0.3112, Accuracy 0.8600, F1 0.8588\n",
      "Epoch [14/75]        | Train: Loss 0.2903, Accuracy 0.8670                               | Test: Loss 0.3110, Accuracy 0.8625, F1 0.8593\n",
      "Epoch [15/75]        | Train: Loss 0.2899, Accuracy 0.8695                               | Test: Loss 0.3114, Accuracy 0.8634, F1 0.8603\n",
      "Epoch [16/75]        | Train: Loss 0.2891, Accuracy 0.8680                               | Test: Loss 0.3047, Accuracy 0.8641, F1 0.8587\n",
      "Epoch [17/75]        | Train: Loss 0.2856, Accuracy 0.8688                               | Test: Loss 0.2987, Accuracy 0.8643, F1 0.8571\n",
      "Epoch [18/75]        | Train: Loss 0.2858, Accuracy 0.8687                               | Test: Loss 0.3028, Accuracy 0.8643, F1 0.8601\n",
      "Epoch [19/75]        | Train: Loss 0.2871, Accuracy 0.8692                               | Test: Loss 0.3075, Accuracy 0.8612, F1 0.8601\n",
      "Epoch [20/75]        | Train: Loss 0.2845, Accuracy 0.8692                               | Test: Loss 0.3009, Accuracy 0.8644, F1 0.8583\n",
      "Epoch [21/75]        | Train: Loss 0.2844, Accuracy 0.8705                               | Test: Loss 0.3079, Accuracy 0.8606, F1 0.8594\n",
      "Epoch [22/75]        | Train: Loss 0.2837, Accuracy 0.8685                               | Test: Loss 0.3127, Accuracy 0.8530, F1 0.8546\n",
      "Epoch [23/75]        | Train: Loss 0.2830, Accuracy 0.8694                               | Test: Loss 0.3101, Accuracy 0.8592, F1 0.8593\n",
      "Epoch [24/75]        | Train: Loss 0.2823, Accuracy 0.8700                               | Test: Loss 0.2996, Accuracy 0.8648, F1 0.8609\n",
      "Epoch [25/75]        | Train: Loss 0.2818, Accuracy 0.8705                               | Test: Loss 0.3123, Accuracy 0.8610, F1 0.8618\n",
      "Epoch [26/75]        | Train: Loss 0.2814, Accuracy 0.8695                               | Test: Loss 0.3000, Accuracy 0.8640, F1 0.8568\n",
      "Epoch [27/75]        | Train: Loss 0.2803, Accuracy 0.8707                               | Test: Loss 0.3046, Accuracy 0.8626, F1 0.8611\n",
      "Epoch [28/75]        | Train: Loss 0.2798, Accuracy 0.8698                               | Test: Loss 0.3124, Accuracy 0.8577, F1 0.8592\n",
      "Epoch [29/75]        | Train: Loss 0.2803, Accuracy 0.8707                               | Test: Loss 0.2994, Accuracy 0.8643, F1 0.8596\n",
      "Epoch [30/75]        | Train: Loss 0.2799, Accuracy 0.8706                               | Test: Loss 0.2990, Accuracy 0.8643, F1 0.8594\n",
      "Epoch [31/75]        | Train: Loss 0.2784, Accuracy 0.8718                               | Test: Loss 0.3022, Accuracy 0.8644, F1 0.8603\n",
      "Epoch [32/75]        | Train: Loss 0.2778, Accuracy 0.8716                               | Test: Loss 0.3006, Accuracy 0.8643, F1 0.8615\n",
      "Epoch [33/75]        | Train: Loss 0.2773, Accuracy 0.8717                               | Test: Loss 0.2991, Accuracy 0.8650, F1 0.8590\n",
      "Epoch [34/75]        | Train: Loss 0.2782, Accuracy 0.8721                               | Test: Loss 0.2994, Accuracy 0.8651, F1 0.8619\n",
      "Epoch [35/75]        | Train: Loss 0.2776, Accuracy 0.8708                               | Test: Loss 0.2934, Accuracy 0.8664, F1 0.8577\n",
      "Epoch [36/75]        | Train: Loss 0.2774, Accuracy 0.8724                               | Test: Loss 0.3013, Accuracy 0.8636, F1 0.8620\n",
      "Epoch [37/75]        | Train: Loss 0.2761, Accuracy 0.8718                               | Test: Loss 0.3027, Accuracy 0.8634, F1 0.8618\n",
      "Epoch [38/75]        | Train: Loss 0.2763, Accuracy 0.8712                               | Test: Loss 0.3017, Accuracy 0.8624, F1 0.8616\n",
      "Epoch [39/75]        | Train: Loss 0.2754, Accuracy 0.8731                               | Test: Loss 0.2942, Accuracy 0.8665, F1 0.8596\n",
      "Epoch [40/75]        | Train: Loss 0.2750, Accuracy 0.8724                               | Test: Loss 0.2984, Accuracy 0.8631, F1 0.8616\n",
      "Epoch [41/75]        | Train: Loss 0.2755, Accuracy 0.8714                               | Test: Loss 0.2940, Accuracy 0.8654, F1 0.8619\n",
      "Epoch [42/75]        | Train: Loss 0.2751, Accuracy 0.8745                               | Test: Loss 0.2998, Accuracy 0.8631, F1 0.8609\n",
      "Epoch [43/75]        | Train: Loss 0.2740, Accuracy 0.8737                               | Test: Loss 0.2932, Accuracy 0.8644, F1 0.8611\n",
      "Epoch [44/75]        | Train: Loss 0.2745, Accuracy 0.8727                               | Test: Loss 0.2966, Accuracy 0.8631, F1 0.8610\n",
      "Epoch [45/75]        | Train: Loss 0.2742, Accuracy 0.8737                               | Test: Loss 0.2946, Accuracy 0.8660, F1 0.8611\n",
      "Epoch [46/75]        | Train: Loss 0.2745, Accuracy 0.8719                               | Test: Loss 0.2984, Accuracy 0.8649, F1 0.8626\n",
      "Epoch [47/75]        | Train: Loss 0.2752, Accuracy 0.8729                               | Test: Loss 0.2937, Accuracy 0.8679, F1 0.8616\n",
      "Epoch [48/75]        | Train: Loss 0.2728, Accuracy 0.8726                               | Test: Loss 0.2920, Accuracy 0.8665, F1 0.8614\n",
      "Epoch [49/75]        | Train: Loss 0.2733, Accuracy 0.8739                               | Test: Loss 0.2923, Accuracy 0.8674, F1 0.8612\n",
      "Epoch [50/75]        | Train: Loss 0.2722, Accuracy 0.8736                               | Test: Loss 0.2955, Accuracy 0.8653, F1 0.8612\n",
      "Epoch [51/75]        | Train: Loss 0.2724, Accuracy 0.8735                               | Test: Loss 0.2963, Accuracy 0.8656, F1 0.8627\n",
      "Epoch [52/75]        | Train: Loss 0.2726, Accuracy 0.8763                               | Test: Loss 0.2987, Accuracy 0.8633, F1 0.8613\n",
      "Epoch [53/75]        | Train: Loss 0.2717, Accuracy 0.8737                               | Test: Loss 0.2914, Accuracy 0.8665, F1 0.8601\n",
      "Epoch [54/75]        | Train: Loss 0.2716, Accuracy 0.8735                               | Test: Loss 0.2931, Accuracy 0.8668, F1 0.8604\n",
      "Epoch [55/75]        | Train: Loss 0.2713, Accuracy 0.8748                               | Test: Loss 0.3005, Accuracy 0.8643, F1 0.8622\n",
      "Epoch [56/75]        | Train: Loss 0.2708, Accuracy 0.8751                               | Test: Loss 0.2908, Accuracy 0.8654, F1 0.8607\n",
      "Epoch [57/75]        | Train: Loss 0.2704, Accuracy 0.8737                               | Test: Loss 0.2951, Accuracy 0.8654, F1 0.8629\n",
      "Epoch [58/75]        | Train: Loss 0.2714, Accuracy 0.8739                               | Test: Loss 0.2930, Accuracy 0.8674, F1 0.8602\n",
      "Epoch [59/75]        | Train: Loss 0.2706, Accuracy 0.8740                               | Test: Loss 0.2952, Accuracy 0.8649, F1 0.8610\n",
      "Epoch [60/75]        | Train: Loss 0.2696, Accuracy 0.8746                               | Test: Loss 0.2969, Accuracy 0.8648, F1 0.8610\n",
      "Epoch [61/75]        | Train: Loss 0.2699, Accuracy 0.8748                               | Test: Loss 0.2914, Accuracy 0.8681, F1 0.8598\n",
      "Epoch [62/75]        | Train: Loss 0.2717, Accuracy 0.8731                               | Test: Loss 0.2901, Accuracy 0.8650, F1 0.8611\n",
      "Epoch [63/75]        | Train: Loss 0.2696, Accuracy 0.8750                               | Test: Loss 0.2922, Accuracy 0.8677, F1 0.8609\n",
      "Epoch [64/75]        | Train: Loss 0.2698, Accuracy 0.8740                               | Test: Loss 0.2927, Accuracy 0.8635, F1 0.8614\n",
      "Epoch [65/75]        | Train: Loss 0.2693, Accuracy 0.8757                               | Test: Loss 0.2974, Accuracy 0.8619, F1 0.8613\n",
      "Epoch [66/75]        | Train: Loss 0.2702, Accuracy 0.8746                               | Test: Loss 0.2916, Accuracy 0.8689, F1 0.8636\n",
      "Epoch [67/75]        | Train: Loss 0.2700, Accuracy 0.8746                               | Test: Loss 0.2915, Accuracy 0.8683, F1 0.8604\n",
      "Epoch [68/75]        | Train: Loss 0.2688, Accuracy 0.8758                               | Test: Loss 0.2948, Accuracy 0.8646, F1 0.8615\n",
      "Epoch [69/75]        | Train: Loss 0.2691, Accuracy 0.8745                               | Test: Loss 0.2929, Accuracy 0.8652, F1 0.8619\n",
      "Epoch [70/75]        | Train: Loss 0.2677, Accuracy 0.8756                               | Test: Loss 0.2940, Accuracy 0.8683, F1 0.8622\n",
      "Epoch [71/75]        | Train: Loss 0.2696, Accuracy 0.8746                               | Test: Loss 0.2927, Accuracy 0.8683, F1 0.8636\n",
      "Epoch [72/75]        | Train: Loss 0.2692, Accuracy 0.8747                               | Test: Loss 0.2954, Accuracy 0.8656, F1 0.8614\n",
      "Epoch [73/75]        | Train: Loss 0.2681, Accuracy 0.8764                               | Test: Loss 0.2934, Accuracy 0.8661, F1 0.8624\n",
      "Epoch [74/75]        | Train: Loss 0.2679, Accuracy 0.8759                               | Test: Loss 0.2960, Accuracy 0.8636, F1 0.8618\n",
      "Epoch [75/75]        | Train: Loss 0.2679, Accuracy 0.8750                               | Test: Loss 0.3015, Accuracy 0.8646, F1 0.8625\n",
      "Confusion Matrix for income\n",
      "[[6175  502]\n",
      " [ 688 1427]]\n"
     ]
    },
    {
     "data": {
      "image/png": "[encoded data removed]",
      "text/plain": [
       "<Figure size 1500x500 with 2 Axes>"
      ]
     },
     "metadata": {},
     "output_type": "display_data"
    }
   ],
   "source": [
    "#Testing against the test dataset\n",
    "model = Classifier(targets_classes=target_classes,\n",
    "                    rff_on=True,\n",
    "                    n_cont=len(cont_columns),\n",
    "                    cat_feat=cat_feat, \n",
    "                   sigma=best_params['sigma'],\n",
    "                   embed_size=best_params['embed_size'],\n",
    "                   num_layers=best_params['num_layers'],\n",
    "                   heads=best_params['heads'],\n",
    "                   forward_expansion=best_params['forward_expansion'],\n",
    "                   pre_norm_on=best_params['prenorm_on'],\n",
    "                   mlp_scale_classification=best_params['mlp_scale_classification'],\n",
    "                   embedding_dropout=best_params['embedding_dropout'],\n",
    "                   decoder_dropout=best_params['decoder_dropout'],\n",
    "                   classification_dropout=best_params['class_drop']\n",
    "                   ).to(device_in_use) # Instantiate the model\n",
    "loss_functions = UncertaintyLoss(1)\n",
    "optimizer = torch.optim.Adam(params=model.parameters(), lr = best_params['learning_rate']) # Maybe try messing around with optimizers. try other torch optimizers with different configurations.\n",
    "early_stopping = EarlyStopping(patience=3)\n",
    "epochs = 75 #Set the number of epochs\n",
    "\n",
    "train_losses = []\n",
    "train_accuracies_1 = [] \n",
    "train_accuracies_2 = []\n",
    "train_recalls = [] \n",
    "train_f1_scores = [] \n",
    "test_losses = []\n",
    "test_accuracies_1 = []\n",
    "test_accuracies_2 = []\n",
    "test_recalls = []  \n",
    "test_f1_scores = [] \n",
    "all_attention_scores = []\n",
    "\n",
    "for t in range(epochs):\n",
    "  train_loss, train_accuracy_1 = train(train_dataloader, model, loss_functions, optimizer, device_in_use=device_in_use)\n",
    "  test_loss, test_accuracy_1, all_predictions_1, all_targets_1, f1_1 = test(test_dataloader, model, loss_functions, device_in_use=device_in_use)\n",
    "  train_losses.append(train_loss)\n",
    "  train_accuracies_1.append(train_accuracy_1)\n",
    "  # train_accuracies_2.append(train_accuracy_2)\n",
    "  # train_recalls.append(train_recall) \n",
    "  # train_f1_scores.append(train_f1)\n",
    "  test_losses.append(test_loss)\n",
    "  test_accuracies_1.append(test_accuracy_1)\n",
    "  # test_accuracies_2.append(test_accuracy_2)\n",
    "  # test_recalls.append(test_recall)\n",
    "  # test_f1_scores.append(test_f1)\n",
    "  # Formatting for easier reading\n",
    "  epoch_str = f\"Epoch [{t+1:2}/{epochs}]\"\n",
    "  train_metrics = f\"Train: Loss {format_metric(train_loss)}, Accuracy {format_metric(train_accuracy_1)}\"\n",
    "  test_metrics = f\"Test: Loss {format_metric(test_loss)}, Accuracy {format_metric(test_accuracy_1)}, F1 {format_metric(f1_1)}\"\n",
    "  print(f\"{epoch_str:20} | {train_metrics:65} | {test_metrics}\")\n",
    "\n",
    "  if early_stopping(test_accuracy_1):\n",
    "    break\n",
    "\n",
    "# Save the model after pre-training\n",
    "torch.save(model.state_dict(), 'final_model_trained.pth')\n",
    "\n",
    "# Plotting the loss curves\n",
    "plt.figure(figsize=(15, 5))\n",
    "plt.subplot(1, 2, 1)\n",
    "plt.plot(range(1, epochs+1), train_losses, label='Train Loss')\n",
    "plt.plot(range(1, epochs+1), [l for l in test_losses], label='Test Loss')\n",
    "plt.xlabel('Epoch')\n",
    "plt.ylabel('Loss')\n",
    "plt.title('Training and Test Loss Curve')\n",
    "plt.legend()\n",
    "\n",
    "# Plotting the accuracy curves\n",
    "plt.subplot(1, 2, 2)\n",
    "plt.plot(range(1, epochs+1), train_accuracies_1, label='Train Accuracy')\n",
    "plt.plot(range(1, epochs+1), test_accuracies_1, label='Test Accuracy')\n",
    "plt.xlabel('Epoch')\n",
    "plt.ylabel('Accuracy')\n",
    "plt.title('Training and Test Accuracy Curve')\n",
    "plt.legend()\n",
    "\n",
    "# Display confusion matrix for the first task (Traffic Type) on test data\n",
    "conf_matrix_1 = confusion_matrix(all_targets_1, all_predictions_1)\n",
    "print(\"Confusion Matrix for income\")\n",
    "print(conf_matrix_1)\n"
   ]
  }
 ],
 "metadata": {
  "kernelspec": {
   "display_name": "ml-env",
   "language": "python",
   "name": "python3"
  },
  "language_info": {
   "codemirror_mode": {
    "name": "ipython",
    "version": 3
   },
   "file_extension": ".py",
   "mimetype": "text/x-python",
   "name": "python",
   "nbconvert_exporter": "python",
   "pygments_lexer": "ipython3",
   "version": "3.11.4"
  }
 },
 "nbformat": 4,
 "nbformat_minor": 2
}
