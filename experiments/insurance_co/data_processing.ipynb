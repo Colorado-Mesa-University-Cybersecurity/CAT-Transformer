{
 "cells": [
  {
   "cell_type": "code",
   "execution_count": 1,
   "metadata": {},
   "outputs": [],
   "source": [
    "import pandas as pd\n",
    "import numpy as np\n",
    "from sklearn.preprocessing import LabelEncoder, StandardScaler\n",
    "from sklearn.model_selection import train_test_split\n",
    "from scipy.io import arff"
   ]
  },
  {
   "cell_type": "markdown",
   "metadata": {},
   "source": [
    "# MAKING TRAIN/TEST/VAL SPLIT\n",
    "**EXAMPLE WITH COVTYPE DATASET**\n",
    "1. Read in dataset\n",
    "1. Remove Nan's\n",
    "2. Label Encode non-numerical features\n",
    "3. Split\n",
    "4. Save datasets"
   ]
  },
  {
   "cell_type": "code",
   "execution_count": 8,
   "metadata": {},
   "outputs": [
    {
     "name": "stdout",
     "output_type": "stream",
     "text": [
      "6875\n",
      "1473\n",
      "1474\n"
     ]
    }
   ],
   "source": [
    "#reading in dataset\n",
    "df = arff.loadarff('../../datasets/insurance/insurance.arff')\n",
    "\n",
    "df = pd.DataFrame(df[0])\n",
    "\n",
    "targets = [\n",
    "    'CARAVAN'\n",
    "]\n",
    "\n",
    "df_train, df_temp = train_test_split(df, train_size=.7, random_state=12)\n",
    "df_val, df_test = train_test_split(df_temp, train_size=.5, random_state=12)\n",
    "\n",
    "print(df_train.shape[0])\n",
    "print(df_val.shape[0])\n",
    "print(df_test.shape[0])"
   ]
  },
  {
   "cell_type": "code",
   "execution_count": 10,
   "metadata": {},
   "outputs": [
    {
     "data": {
      "text/plain": [
       "CARAVAN\n",
       "0.0        6462\n",
       "1.0         413\n",
       "dtype: int64"
      ]
     },
     "execution_count": 10,
     "metadata": {},
     "output_type": "execute_result"
    }
   ],
   "source": [
    "df_train[targets].value_counts()"
   ]
  },
  {
   "cell_type": "code",
   "execution_count": 11,
   "metadata": {},
   "outputs": [
    {
     "data": {
      "text/plain": [
       "CARAVAN\n",
       "0.0        1375\n",
       "1.0          99\n",
       "dtype: int64"
      ]
     },
     "execution_count": 11,
     "metadata": {},
     "output_type": "execute_result"
    }
   ],
   "source": [
    "df_test[targets].value_counts()"
   ]
  },
  {
   "cell_type": "code",
   "execution_count": 12,
   "metadata": {},
   "outputs": [
    {
     "data": {
      "text/plain": [
       "CARAVAN\n",
       "0.0        1399\n",
       "1.0          74\n",
       "dtype: int64"
      ]
     },
     "execution_count": 12,
     "metadata": {},
     "output_type": "execute_result"
    }
   ],
   "source": [
    "df_val[targets].value_counts()"
   ]
  },
  {
   "cell_type": "code",
   "execution_count": 13,
   "metadata": {},
   "outputs": [],
   "source": [
    "#save csvs in a dataset folder in your directory\n",
    "df_train.to_csv(r'C:\\Users\\smbm2\\projects\\CAT-Transformer\\datasets\\insurance\\train.csv', index=False)\n",
    "df_val.to_csv(r'C:\\Users\\smbm2\\projects\\CAT-Transformer\\datasets\\insurance\\validation.csv', index=False)\n",
    "df_test.to_csv(r'C:\\Users\\smbm2\\projects\\CAT-Transformer\\datasets\\insurance\\test.csv', index=False)"
   ]
  }
 ],
 "metadata": {
  "kernelspec": {
   "display_name": "ml-env",
   "language": "python",
   "name": "python3"
  },
  "language_info": {
   "codemirror_mode": {
    "name": "ipython",
    "version": 3
   },
   "file_extension": ".py",
   "mimetype": "text/x-python",
   "name": "python",
   "nbconvert_exporter": "python",
   "pygments_lexer": "ipython3",
   "version": "3.11.4"
  }
 },
 "nbformat": 4,
 "nbformat_minor": 2
}
