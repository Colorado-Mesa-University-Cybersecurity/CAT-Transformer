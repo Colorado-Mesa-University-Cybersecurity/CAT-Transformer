{
 "cells": [
  {
   "cell_type": "code",
   "execution_count": 1,
   "metadata": {},
   "outputs": [
    {
     "name": "stderr",
     "output_type": "stream",
     "text": [
      "/home/cscadmin/miniconda3/envs/torch-env/lib/python3.11/site-packages/tqdm/auto.py:21: TqdmWarning: IProgress not found. Please update jupyter and ipywidgets. See https://ipywidgets.readthedocs.io/en/stable/user_install.html\n",
      "  from .autonotebook import tqdm as notebook_tqdm\n"
     ]
    }
   ],
   "source": [
    "import sys\n",
    "sys.path.insert(0, '/home/cscadmin/CyberResearch/CAT-Transformer/model/')\n",
    "from updatedModel import CATTransformer, Combined_Dataset, train, test\n",
    "import torch\n",
    "import torch.nn as nn\n",
    "import pandas as pd\n",
    "import numpy as np\n",
    "from torch.utils.data import Dataset, DataLoader\n",
    "import matplotlib.pyplot as plt\n",
    "from rff.layers import GaussianEncoding #pip install random-fourier-features-pytorch\n",
    "from sklearn.model_selection import train_test_split\n",
    "from sklearn.metrics import accuracy_score, f1_score, recall_score, confusion_matrix\n",
    "from sklearn.preprocessing import StandardScaler, LabelEncoder\n",
    "import os\n",
    "import optuna\n",
    "from optuna.trial import TrialState"
   ]
  },
  {
   "cell_type": "code",
   "execution_count": 2,
   "metadata": {},
   "outputs": [
    {
     "name": "stdout",
     "output_type": "stream",
     "text": [
      "GPU is available and being used\n"
     ]
    }
   ],
   "source": [
    "# Run regardless if you do or do not have GPU so all tensors are moved to right location later on\n",
    "if torch.cuda.is_available():\n",
    "    device_in_use = torch.device(\"cuda\")\n",
    "    print(\"GPU is available and being used\")\n",
    "else:\n",
    "    device_in_use = torch.device(\"cpu\")\n",
    "    print(\"GPU is not available, using CPU instead\")"
   ]
  },
  {
   "cell_type": "code",
   "execution_count": 3,
   "metadata": {},
   "outputs": [
    {
     "name": "stdout",
     "output_type": "stream",
     "text": [
      "target classes [100]\n"
     ]
    }
   ],
   "source": [
    "# df_train = pd.read_csv(r'C:\\Users\\smbm2\\projects\\CAT-Transformer\\datasets\\helena\\train.csv')\n",
    "# df_test = pd.read_csv(r'C:\\Users\\smbm2\\projects\\CAT-Transformer\\datasets\\helena\\test.csv')\n",
    "# df_val = pd.read_csv(r'C:\\Users\\smbm2\\projects\\CAT-Transformer\\datasets\\helena\\validation.csv') #READ FROM RIGHT SPOT\n",
    "\n",
    "# df_train = pd.read_csv('/home/warin/projects/CAT-Transformer/datasets/helena/train.csv')\n",
    "# df_test = pd.read_csv('/home/warin/projects/CAT-Transformer/datasets/helena/test.csv')\n",
    "# df_val = pd.read_csv('/home/warin/projects/CAT-Transformer/datasets/helena/validation.csv')\n",
    "\n",
    "\n",
    "df_train = pd.read_csv('/home/cscadmin/CyberResearch/CAT-Transformer/datasets/helena/train.csv')\n",
    "df_test = pd.read_csv('/home/cscadmin/CyberResearch/CAT-Transformer/datasets/helena/test.csv')\n",
    "df_val = pd.read_csv('/home/cscadmin/CyberResearch/CAT-Transformer/datasets/helena/validation.csv')\n",
    "\n",
    "\n",
    "# df_train.columns\n",
    "cont_columns = ['V1', 'V2', 'V3', 'V4', 'V5', 'V6', 'V7', 'V8', 'V9', 'V10',\n",
    "       'V11', 'V12', 'V13', 'V14', 'V15', 'V16', 'V17', 'V18', 'V19', 'V20',\n",
    "       'V21', 'V22', 'V23', 'V24', 'V25', 'V26', 'V27']\n",
    "target = ['class']\n",
    "\n",
    "#CHECKING TO MAKE SURE YOUR LIST IS CORRECT (NO NEED TO TOUCH)\n",
    "yourlist = cont_columns + target\n",
    "yourlist.sort()\n",
    "oglist = list(df_train.columns)\n",
    "oglist.sort()\n",
    "\n",
    "assert(yourlist == oglist), \"You may of spelled feature name wrong or you forgot to put one of them in the list\"\n",
    "\n",
    "target_classes = [max(len(df_train[target].value_counts()), len(df_val[target].value_counts()),len(df_test[target].value_counts()))]\n",
    "print(\"target classes\",target_classes)\n",
    "# Create a StandardScaler and fit it to the cont features\n",
    "scaler = StandardScaler()\n",
    "scaler.fit(df_train[cont_columns])\n",
    "\n",
    "# Transform the training, test, and validation datasets\n",
    "df_train[cont_columns] = scaler.transform(df_train[cont_columns])\n",
    "df_test[cont_columns] = scaler.transform(df_test[cont_columns])\n",
    "df_val[cont_columns] = scaler.transform(df_val[cont_columns])\n",
    "\n",
    "#Wrapping in Dataset\n",
    "train_dataset = Combined_Dataset(df_train, cat_columns=[], num_columns=cont_columns, task1_column='class')\n",
    "val_dataset = Combined_Dataset(df_val, cat_columns=[], num_columns=cont_columns, task1_column='class')\n",
    "test_dataset = Combined_Dataset(df_test, cat_columns=[], num_columns=cont_columns, task1_column='class')\n",
    "\n",
    "#This is a hyperparameter that is not tuned. Maybe mess with what makes sense here\n",
    "batch_size = 256\n",
    "\n",
    "# Wrapping with DataLoader for easy batch extraction\n",
    "train_dataloader = DataLoader(train_dataset, batch_size=batch_size, shuffle=True)\n",
    "val_dataloader = DataLoader(val_dataset, batch_size=batch_size, shuffle=True)\n",
    "test_dataloader = DataLoader(test_dataset, batch_size=batch_size, shuffle=True)"
   ]
  },
  {
   "cell_type": "markdown",
   "metadata": {},
   "source": [
    "# RUN EXPERIMENTS\n",
    "\n",
    "1. Using Optuna to optimize CAT-Transformers hyperparameters for your dataset"
   ]
  },
  {
   "cell_type": "code",
   "execution_count": 4,
   "metadata": {},
   "outputs": [],
   "source": [
    "# Define the early stopping mechanism\n",
    "class EarlyStopping:\n",
    "    def __init__(self, patience=5):\n",
    "        self.patience = patience\n",
    "        self.counter = 0\n",
    "        self.best_metric = float('-inf')\n",
    "        self.early_stop = False\n",
    "\n",
    "    def __call__(self, metric):\n",
    "        if metric > self.best_metric:\n",
    "            self.best_metric = metric\n",
    "            self.counter = 0\n",
    "        else:\n",
    "            self.counter += 1\n",
    "            if self.counter >= self.patience:\n",
    "                self.early_stop = True\n",
    "\n",
    "# Function to log results to a text file\n",
    "def log_to_file(filename, text):\n",
    "    with open(filename, 'a') as f:\n",
    "        f.write(text + '\\n')\n",
    "\n",
    "def objective(trial):\n",
    "    trial_number = trial.number\n",
    "\n",
    "    # Define hyperparameters to search over\n",
    "\n",
    "    alpha = trial.suggest_float('alpha', 0.1, 5, step=0.1)\n",
    "    embed_size = trial.suggest_int('embed_size', 100, 320, step=20)\n",
    "    num_layers = trial.suggest_int('num_layers', 1,2)\n",
    "    heads = trial.suggest_categorical('heads', [1,2,5,10,20])\n",
    "    forward_expansion = trial.suggest_int('forward_expansion', 2,8)\n",
    "    decoder_dropout = trial.suggest_float('decoder_dropout', 0, .5, step=.1)\n",
    "    classification_dropout = trial.suggest_float('classificiation_dropout', 0, 0.5, step=0.1)\n",
    "    pre_norm_on = trial.suggest_categorical('pre_norm_on', [True, False])\n",
    "    mlp_scale_classification = trial.suggest_int('mlp_scale_classification', 2, 8)\n",
    "    learning_rate = trial.suggest_float('learning_rate', 0.0001, 0.1, log=True)\n",
    "\n",
    "    num_epochs = 250\n",
    "\n",
    "\n",
    "    # Create your model with the sampled hyperparameters\n",
    "    model = CATTransformer(alpha=alpha,\n",
    "                           embed_size=embed_size,\n",
    "                           n_cont=len(cont_columns),\n",
    "                           cat_feat=[],\n",
    "                           num_layers=num_layers,\n",
    "                           heads=heads,\n",
    "                           forward_expansion=forward_expansion,\n",
    "                           decoder_dropout=decoder_dropout,\n",
    "                           classification_dropout=classification_dropout,\n",
    "                           pre_norm_on=pre_norm_on,\n",
    "                           mlp_scale_classification=mlp_scale_classification,\n",
    "                           regression_on=False,\n",
    "                           targets_classes=target_classes).to(device_in_use)\n",
    "\n",
    "    # Define loss function and optimizer\n",
    "    loss_function = nn.CrossEntropyLoss()\n",
    "    optimizer = torch.optim.Adam(model.parameters(), lr=learning_rate)\n",
    "\n",
    "    # Initialize early stopping\n",
    "    early_stopping = EarlyStopping(patience=5)  # Adjust patience as needed\n",
    "\n",
    "    # Training loop with a large number of epochs\n",
    "    for epoch in range(num_epochs):\n",
    "        train_loss, train_acc = train(regression_on=False, \n",
    "                                   dataloader=train_dataloader, \n",
    "                                   model=model, \n",
    "                                   loss_function=loss_function, \n",
    "                                   optimizer=optimizer, \n",
    "                                   device_in_use=device_in_use)\n",
    "        val_loss, val_acc = test(regression_on=False,\n",
    "                               dataloader=val_dataloader,\n",
    "                               model=model,\n",
    "                               loss_function=loss_function,\n",
    "                               device_in_use=device_in_use)\n",
    "        \n",
    "        # Check if we should early stop based on validation accuracy\n",
    "        if early_stopping(val_acc):\n",
    "            break\n",
    "    \n",
    "    # Log the final test accuracy for this trial to a shared log file\n",
    "    final_log = f\"Trial {trial_number} completed. Validation Accuracy = {val_acc:.4f}\"\n",
    "    log_to_file('all_trials_log.txt', final_log)\n",
    "\n",
    "    # Return the test accuracy as the objective to optimize\n",
    "    return val_acc"
   ]
  },
  {
   "cell_type": "code",
   "execution_count": 5,
   "metadata": {},
   "outputs": [
    {
     "name": "stderr",
     "output_type": "stream",
     "text": [
      "[I 2023-12-04 10:10:24,533] A new study created in memory with name: no-name-c5edabf6-c31e-44d7-b699-aa766de7900b\n",
      "Best trial: 0. Best value: 0.245015:   1%|          | 1/100 [20:20<33:33:07, 1220.07s/it]"
     ]
    },
    {
     "name": "stdout",
     "output_type": "stream",
     "text": [
      "[I 2023-12-04 10:30:44,606] Trial 0 finished with value: 0.24501482769199304 and parameters: {'alpha': 4.3, 'embed_size': 280, 'num_layers': 2, 'heads': 5, 'forward_expansion': 6, 'decoder_dropout': 0.1, 'classificiation_dropout': 0.0, 'pre_norm_on': True, 'mlp_scale_classification': 4, 'learning_rate': 0.015204763373779191}. Best is trial 0 with value: 0.24501482769199304.\n"
     ]
    },
    {
     "name": "stderr",
     "output_type": "stream",
     "text": [
      "Best trial: 1. Best value: 0.350752:   2%|▏         | 2/100 [40:51<33:23:52, 1226.86s/it]"
     ]
    },
    {
     "name": "stdout",
     "output_type": "stream",
     "text": [
      "[I 2023-12-04 10:51:16,224] Trial 1 finished with value: 0.3507516105941303 and parameters: {'alpha': 1.8000000000000003, 'embed_size': 320, 'num_layers': 2, 'heads': 5, 'forward_expansion': 7, 'decoder_dropout': 0.30000000000000004, 'classificiation_dropout': 0.2, 'pre_norm_on': False, 'mlp_scale_classification': 8, 'learning_rate': 0.0002946266171398245}. Best is trial 1 with value: 0.3507516105941303.\n"
     ]
    },
    {
     "name": "stderr",
     "output_type": "stream",
     "text": [
      "Best trial: 2. Best value: 0.366193:   3%|▎         | 3/100 [1:01:16<33:01:58, 1225.96s/it]"
     ]
    },
    {
     "name": "stdout",
     "output_type": "stream",
     "text": [
      "[I 2023-12-04 11:11:41,110] Trial 2 finished with value: 0.3661928622558544 and parameters: {'alpha': 0.2, 'embed_size': 280, 'num_layers': 2, 'heads': 10, 'forward_expansion': 5, 'decoder_dropout': 0.5, 'classificiation_dropout': 0.2, 'pre_norm_on': True, 'mlp_scale_classification': 4, 'learning_rate': 0.00015605980210065074}. Best is trial 2 with value: 0.3661928622558544.\n"
     ]
    },
    {
     "name": "stderr",
     "output_type": "stream",
     "text": [
      "Best trial: 2. Best value: 0.366193:   4%|▍         | 4/100 [1:21:05<32:17:57, 1211.23s/it]"
     ]
    },
    {
     "name": "stdout",
     "output_type": "stream",
     "text": [
      "[I 2023-12-04 11:31:29,755] Trial 3 finished with value: 0.3495244912567747 and parameters: {'alpha': 5.0, 'embed_size': 140, 'num_layers': 2, 'heads': 5, 'forward_expansion': 4, 'decoder_dropout': 0.0, 'classificiation_dropout': 0.30000000000000004, 'pre_norm_on': True, 'mlp_scale_classification': 7, 'learning_rate': 0.00444888696834504}. Best is trial 2 with value: 0.3661928622558544.\n"
     ]
    },
    {
     "name": "stderr",
     "output_type": "stream",
     "text": [
      "Best trial: 2. Best value: 0.366193:   5%|▌         | 5/100 [1:39:25<30:54:12, 1171.08s/it]"
     ]
    },
    {
     "name": "stdout",
     "output_type": "stream",
     "text": [
      "[I 2023-12-04 11:49:49,653] Trial 4 finished with value: 0.05869720830350752 and parameters: {'alpha': 3.9000000000000004, 'embed_size': 120, 'num_layers': 1, 'heads': 2, 'forward_expansion': 8, 'decoder_dropout': 0.4, 'classificiation_dropout': 0.5, 'pre_norm_on': False, 'mlp_scale_classification': 6, 'learning_rate': 0.017851430430389743}. Best is trial 2 with value: 0.3661928622558544.\n"
     ]
    },
    {
     "name": "stderr",
     "output_type": "stream",
     "text": [
      "Best trial: 2. Best value: 0.366193:   6%|▌         | 6/100 [1:59:19<30:46:54, 1178.87s/it]"
     ]
    },
    {
     "name": "stdout",
     "output_type": "stream",
     "text": [
      "[I 2023-12-04 12:09:43,655] Trial 5 finished with value: 0.13917578484507617 and parameters: {'alpha': 2.6, 'embed_size': 160, 'num_layers': 2, 'heads': 1, 'forward_expansion': 5, 'decoder_dropout': 0.1, 'classificiation_dropout': 0.30000000000000004, 'pre_norm_on': True, 'mlp_scale_classification': 6, 'learning_rate': 0.005343496662534427}. Best is trial 2 with value: 0.3661928622558544.\n"
     ]
    },
    {
     "name": "stderr",
     "output_type": "stream",
     "text": [
      "Best trial: 2. Best value: 0.366193:   7%|▋         | 7/100 [2:18:57<30:27:07, 1178.79s/it]"
     ]
    },
    {
     "name": "stdout",
     "output_type": "stream",
     "text": [
      "[I 2023-12-04 12:29:22,258] Trial 6 finished with value: 0.318232948154208 and parameters: {'alpha': 0.8, 'embed_size': 120, 'num_layers': 2, 'heads': 1, 'forward_expansion': 7, 'decoder_dropout': 0.2, 'classificiation_dropout': 0.0, 'pre_norm_on': True, 'mlp_scale_classification': 7, 'learning_rate': 0.00019771433294379882}. Best is trial 2 with value: 0.3661928622558544.\n"
     ]
    },
    {
     "name": "stderr",
     "output_type": "stream",
     "text": [
      "Best trial: 7. Best value: 0.37918:   8%|▊         | 8/100 [2:38:48<30:13:26, 1182.67s/it] "
     ]
    },
    {
     "name": "stdout",
     "output_type": "stream",
     "text": [
      "[I 2023-12-04 12:49:13,258] Trial 7 finished with value: 0.3791798752428674 and parameters: {'alpha': 2.7, 'embed_size': 180, 'num_layers': 2, 'heads': 2, 'forward_expansion': 6, 'decoder_dropout': 0.2, 'classificiation_dropout': 0.4, 'pre_norm_on': True, 'mlp_scale_classification': 5, 'learning_rate': 0.00015978048613425142}. Best is trial 7 with value: 0.3791798752428674.\n"
     ]
    },
    {
     "name": "stderr",
     "output_type": "stream",
     "text": [
      "Best trial: 7. Best value: 0.37918:   9%|▉         | 9/100 [2:58:03<29:40:32, 1173.99s/it]"
     ]
    },
    {
     "name": "stdout",
     "output_type": "stream",
     "text": [
      "[I 2023-12-04 13:08:28,146] Trial 8 finished with value: 0.3213007464975969 and parameters: {'alpha': 4.3999999999999995, 'embed_size': 300, 'num_layers': 2, 'heads': 1, 'forward_expansion': 2, 'decoder_dropout': 0.2, 'classificiation_dropout': 0.1, 'pre_norm_on': False, 'mlp_scale_classification': 7, 'learning_rate': 0.00012408632300668567}. Best is trial 7 with value: 0.3791798752428674.\n"
     ]
    },
    {
     "name": "stderr",
     "output_type": "stream",
     "text": [
      "Best trial: 7. Best value: 0.37918:  10%|█         | 10/100 [3:16:37<28:53:13, 1155.48s/it]"
     ]
    },
    {
     "name": "stdout",
     "output_type": "stream",
     "text": [
      "[I 2023-12-04 13:27:02,195] Trial 9 finished with value: 0.05869720830350752 and parameters: {'alpha': 0.9, 'embed_size': 300, 'num_layers': 1, 'heads': 2, 'forward_expansion': 7, 'decoder_dropout': 0.0, 'classificiation_dropout': 0.30000000000000004, 'pre_norm_on': False, 'mlp_scale_classification': 3, 'learning_rate': 0.026054799615437548}. Best is trial 7 with value: 0.3791798752428674.\n"
     ]
    },
    {
     "name": "stderr",
     "output_type": "stream",
     "text": [
      "Best trial: 7. Best value: 0.37918:  11%|█         | 11/100 [3:35:41<28:28:53, 1152.06s/it]"
     ]
    },
    {
     "name": "stdout",
     "output_type": "stream",
     "text": [
      "[I 2023-12-04 13:46:06,505] Trial 10 finished with value: 0.3728397586665303 and parameters: {'alpha': 2.6, 'embed_size': 200, 'num_layers': 1, 'heads': 20, 'forward_expansion': 3, 'decoder_dropout': 0.30000000000000004, 'classificiation_dropout': 0.5, 'pre_norm_on': True, 'mlp_scale_classification': 2, 'learning_rate': 0.0009932006688458401}. Best is trial 7 with value: 0.3791798752428674.\n"
     ]
    },
    {
     "name": "stderr",
     "output_type": "stream",
     "text": [
      "Best trial: 7. Best value: 0.37918:  12%|█▏        | 12/100 [3:54:38<28:02:57, 1147.47s/it]"
     ]
    },
    {
     "name": "stdout",
     "output_type": "stream",
     "text": [
      "[I 2023-12-04 14:05:03,471] Trial 11 finished with value: 0.37181715921873404 and parameters: {'alpha': 3.0000000000000004, 'embed_size': 200, 'num_layers': 1, 'heads': 20, 'forward_expansion': 3, 'decoder_dropout': 0.30000000000000004, 'classificiation_dropout': 0.5, 'pre_norm_on': True, 'mlp_scale_classification': 2, 'learning_rate': 0.0007641031384598028}. Best is trial 7 with value: 0.3791798752428674.\n"
     ]
    },
    {
     "name": "stderr",
     "output_type": "stream",
     "text": [
      "Best trial: 12. Best value: 0.379691:  13%|█▎        | 13/100 [4:13:50<27:45:49, 1148.84s/it]"
     ]
    },
    {
     "name": "stdout",
     "output_type": "stream",
     "text": [
      "[I 2023-12-04 14:24:15,462] Trial 12 finished with value: 0.3796911749667655 and parameters: {'alpha': 3.1, 'embed_size': 220, 'num_layers': 1, 'heads': 20, 'forward_expansion': 2, 'decoder_dropout': 0.4, 'classificiation_dropout': 0.4, 'pre_norm_on': True, 'mlp_scale_classification': 2, 'learning_rate': 0.0008983313752625082}. Best is trial 12 with value: 0.3796911749667655.\n"
     ]
    },
    {
     "name": "stderr",
     "output_type": "stream",
     "text": [
      "Best trial: 12. Best value: 0.379691:  14%|█▍        | 14/100 [4:32:50<27:22:27, 1145.90s/it]"
     ]
    },
    {
     "name": "stdout",
     "output_type": "stream",
     "text": [
      "[I 2023-12-04 14:43:14,574] Trial 13 finished with value: 0.3781572757950711 and parameters: {'alpha': 3.4000000000000004, 'embed_size': 240, 'num_layers': 1, 'heads': 20, 'forward_expansion': 2, 'decoder_dropout': 0.5, 'classificiation_dropout': 0.4, 'pre_norm_on': True, 'mlp_scale_classification': 4, 'learning_rate': 0.0007604782203135962}. Best is trial 12 with value: 0.3796911749667655.\n"
     ]
    },
    {
     "name": "stderr",
     "output_type": "stream",
     "text": [
      "Best trial: 12. Best value: 0.379691:  15%|█▌        | 15/100 [4:51:51<27:01:39, 1144.70s/it]"
     ]
    },
    {
     "name": "stdout",
     "output_type": "stream",
     "text": [
      "[I 2023-12-04 15:02:16,486] Trial 14 finished with value: 0.379282135187647 and parameters: {'alpha': 1.8000000000000003, 'embed_size': 240, 'num_layers': 1, 'heads': 2, 'forward_expansion': 4, 'decoder_dropout': 0.4, 'classificiation_dropout': 0.4, 'pre_norm_on': True, 'mlp_scale_classification': 5, 'learning_rate': 0.0004531594450622651}. Best is trial 12 with value: 0.3796911749667655.\n"
     ]
    },
    {
     "name": "stderr",
     "output_type": "stream",
     "text": [
      "Best trial: 12. Best value: 0.379691:  16%|█▌        | 16/100 [5:10:53<26:41:09, 1143.68s/it]"
     ]
    },
    {
     "name": "stdout",
     "output_type": "stream",
     "text": [
      "[I 2023-12-04 15:21:17,807] Trial 15 finished with value: 0.3733510583904285 and parameters: {'alpha': 1.9000000000000001, 'embed_size': 240, 'num_layers': 1, 'heads': 10, 'forward_expansion': 3, 'decoder_dropout': 0.4, 'classificiation_dropout': 0.4, 'pre_norm_on': True, 'mlp_scale_classification': 3, 'learning_rate': 0.0018258964561165103}. Best is trial 12 with value: 0.3796911749667655.\n"
     ]
    },
    {
     "name": "stderr",
     "output_type": "stream",
     "text": [
      "Best trial: 16. Best value: 0.381634:  17%|█▋        | 17/100 [5:29:47<26:18:15, 1140.91s/it]"
     ]
    },
    {
     "name": "stdout",
     "output_type": "stream",
     "text": [
      "[I 2023-12-04 15:40:12,285] Trial 16 finished with value: 0.3816341139175785 and parameters: {'alpha': 1.8000000000000003, 'embed_size': 240, 'num_layers': 1, 'heads': 2, 'forward_expansion': 4, 'decoder_dropout': 0.4, 'classificiation_dropout': 0.4, 'pre_norm_on': True, 'mlp_scale_classification': 5, 'learning_rate': 0.0004045699484853333}. Best is trial 16 with value: 0.3816341139175785.\n"
     ]
    },
    {
     "name": "stderr",
     "output_type": "stream",
     "text": [
      "Best trial: 16. Best value: 0.381634:  18%|█▊        | 18/100 [5:48:56<26:02:25, 1143.24s/it]"
     ]
    },
    {
     "name": "stdout",
     "output_type": "stream",
     "text": [
      "[I 2023-12-04 15:59:20,931] Trial 17 finished with value: 0.05869720830350752 and parameters: {'alpha': 3.4000000000000004, 'embed_size': 220, 'num_layers': 1, 'heads': 20, 'forward_expansion': 4, 'decoder_dropout': 0.5, 'classificiation_dropout': 0.4, 'pre_norm_on': True, 'mlp_scale_classification': 3, 'learning_rate': 0.06331543535346168}. Best is trial 16 with value: 0.3816341139175785.\n"
     ]
    },
    {
     "name": "stderr",
     "output_type": "stream",
     "text": [
      "Best trial: 16. Best value: 0.381634:  19%|█▉        | 19/100 [6:07:38<25:34:39, 1136.78s/it]"
     ]
    },
    {
     "name": "stdout",
     "output_type": "stream",
     "text": [
      "[I 2023-12-04 16:18:02,672] Trial 18 finished with value: 0.19194191635136518 and parameters: {'alpha': 1.4000000000000001, 'embed_size': 260, 'num_layers': 1, 'heads': 2, 'forward_expansion': 2, 'decoder_dropout': 0.4, 'classificiation_dropout': 0.30000000000000004, 'pre_norm_on': False, 'mlp_scale_classification': 5, 'learning_rate': 0.0017140357909068429}. Best is trial 16 with value: 0.3816341139175785.\n"
     ]
    },
    {
     "name": "stderr",
     "output_type": "stream",
     "text": [
      "Best trial: 16. Best value: 0.381634:  20%|██        | 20/100 [6:26:40<25:17:53, 1138.42s/it]"
     ]
    },
    {
     "name": "stdout",
     "output_type": "stream",
     "text": [
      "[I 2023-12-04 16:37:04,911] Trial 19 finished with value: 0.3703855199918192 and parameters: {'alpha': 2.1, 'embed_size': 180, 'num_layers': 1, 'heads': 20, 'forward_expansion': 3, 'decoder_dropout': 0.4, 'classificiation_dropout': 0.5, 'pre_norm_on': True, 'mlp_scale_classification': 2, 'learning_rate': 0.0003313405075708988}. Best is trial 16 with value: 0.3816341139175785.\n"
     ]
    },
    {
     "name": "stderr",
     "output_type": "stream",
     "text": [
      "Best trial: 16. Best value: 0.381634:  21%|██        | 21/100 [6:45:59<25:07:12, 1144.71s/it]"
     ]
    },
    {
     "name": "stdout",
     "output_type": "stream",
     "text": [
      "[I 2023-12-04 16:56:24,283] Trial 20 finished with value: 0.3671132017588711 and parameters: {'alpha': 3.3000000000000003, 'embed_size': 220, 'num_layers': 1, 'heads': 10, 'forward_expansion': 4, 'decoder_dropout': 0.5, 'classificiation_dropout': 0.2, 'pre_norm_on': True, 'mlp_scale_classification': 8, 'learning_rate': 0.0004109458498502152}. Best is trial 16 with value: 0.3816341139175785.\n"
     ]
    },
    {
     "name": "stderr",
     "output_type": "stream",
     "text": [
      "Best trial: 16. Best value: 0.381634:  22%|██▏       | 22/100 [7:05:35<25:00:08, 1153.96s/it]"
     ]
    },
    {
     "name": "stdout",
     "output_type": "stream",
     "text": [
      "[I 2023-12-04 17:15:59,820] Trial 21 finished with value: 0.3776459760711729 and parameters: {'alpha': 1.4000000000000001, 'embed_size': 240, 'num_layers': 1, 'heads': 2, 'forward_expansion': 4, 'decoder_dropout': 0.4, 'classificiation_dropout': 0.4, 'pre_norm_on': True, 'mlp_scale_classification': 6, 'learning_rate': 0.0005755991527211236}. Best is trial 16 with value: 0.3816341139175785.\n"
     ]
    },
    {
     "name": "stderr",
     "output_type": "stream",
     "text": [
      "Best trial: 22. Best value: 0.382452:  23%|██▎       | 23/100 [7:25:32<24:57:33, 1166.93s/it]"
     ]
    },
    {
     "name": "stdout",
     "output_type": "stream",
     "text": [
      "[I 2023-12-04 17:35:57,000] Trial 22 finished with value: 0.38245219347581555 and parameters: {'alpha': 2.2, 'embed_size': 260, 'num_layers': 1, 'heads': 2, 'forward_expansion': 5, 'decoder_dropout': 0.30000000000000004, 'classificiation_dropout': 0.4, 'pre_norm_on': True, 'mlp_scale_classification': 5, 'learning_rate': 0.00010001556625194633}. Best is trial 22 with value: 0.38245219347581555.\n"
     ]
    },
    {
     "name": "stderr",
     "output_type": "stream",
     "text": [
      "Best trial: 22. Best value: 0.382452:  24%|██▍       | 24/100 [7:45:19<24:45:46, 1172.98s/it]"
     ]
    },
    {
     "name": "stdout",
     "output_type": "stream",
     "text": [
      "[I 2023-12-04 17:55:44,089] Trial 23 finished with value: 0.3686471009305655 and parameters: {'alpha': 2.3000000000000003, 'embed_size': 260, 'num_layers': 1, 'heads': 2, 'forward_expansion': 6, 'decoder_dropout': 0.30000000000000004, 'classificiation_dropout': 0.30000000000000004, 'pre_norm_on': True, 'mlp_scale_classification': 4, 'learning_rate': 0.00021696446223941156}. Best is trial 22 with value: 0.38245219347581555.\n"
     ]
    },
    {
     "name": "stderr",
     "output_type": "stream",
     "text": [
      "Best trial: 24. Best value: 0.384088:  25%|██▌       | 25/100 [8:05:00<24:29:02, 1175.24s/it]"
     ]
    },
    {
     "name": "stdout",
     "output_type": "stream",
     "text": [
      "[I 2023-12-04 18:15:24,592] Trial 24 finished with value: 0.3840883525922896 and parameters: {'alpha': 3.0000000000000004, 'embed_size': 260, 'num_layers': 1, 'heads': 2, 'forward_expansion': 5, 'decoder_dropout': 0.30000000000000004, 'classificiation_dropout': 0.5, 'pre_norm_on': True, 'mlp_scale_classification': 6, 'learning_rate': 0.00010001711214772144}. Best is trial 24 with value: 0.3840883525922896.\n"
     ]
    },
    {
     "name": "stderr",
     "output_type": "stream",
     "text": [
      "Best trial: 25. Best value: 0.386645:  26%|██▌       | 26/100 [8:25:04<24:20:17, 1184.02s/it]"
     ]
    },
    {
     "name": "stdout",
     "output_type": "stream",
     "text": [
      "[I 2023-12-04 18:35:29,107] Trial 25 finished with value: 0.3866448512117803 and parameters: {'alpha': 1.2000000000000002, 'embed_size': 280, 'num_layers': 1, 'heads': 2, 'forward_expansion': 5, 'decoder_dropout': 0.30000000000000004, 'classificiation_dropout': 0.5, 'pre_norm_on': True, 'mlp_scale_classification': 6, 'learning_rate': 0.00010203591360207313}. Best is trial 25 with value: 0.3866448512117803.\n"
     ]
    },
    {
     "name": "stderr",
     "output_type": "stream",
     "text": [
      "Best trial: 25. Best value: 0.386645:  27%|██▋       | 27/100 [8:44:04<23:44:27, 1170.78s/it]"
     ]
    },
    {
     "name": "stdout",
     "output_type": "stream",
     "text": [
      "[I 2023-12-04 18:54:28,999] Trial 26 finished with value: 0.38050925452500256 and parameters: {'alpha': 1.2000000000000002, 'embed_size': 320, 'num_layers': 1, 'heads': 2, 'forward_expansion': 5, 'decoder_dropout': 0.30000000000000004, 'classificiation_dropout': 0.5, 'pre_norm_on': False, 'mlp_scale_classification': 6, 'learning_rate': 0.0001008771407558167}. Best is trial 25 with value: 0.3866448512117803.\n"
     ]
    },
    {
     "name": "stderr",
     "output_type": "stream",
     "text": [
      "Best trial: 25. Best value: 0.386645:  28%|██▊       | 28/100 [9:03:52<23:31:01, 1175.85s/it]"
     ]
    },
    {
     "name": "stdout",
     "output_type": "stream",
     "text": [
      "[I 2023-12-04 19:14:16,674] Trial 27 finished with value: 0.3789753553533081 and parameters: {'alpha': 0.1, 'embed_size': 280, 'num_layers': 1, 'heads': 2, 'forward_expansion': 6, 'decoder_dropout': 0.2, 'classificiation_dropout': 0.5, 'pre_norm_on': True, 'mlp_scale_classification': 6, 'learning_rate': 0.00011800962877905319}. Best is trial 25 with value: 0.3866448512117803.\n"
     ]
    },
    {
     "name": "stderr",
     "output_type": "stream",
     "text": [
      "Best trial: 25. Best value: 0.386645:  29%|██▉       | 29/100 [9:23:48<23:18:34, 1181.90s/it]"
     ]
    },
    {
     "name": "stdout",
     "output_type": "stream",
     "text": [
      "[I 2023-12-04 19:34:12,692] Trial 28 finished with value: 0.360773085182534 and parameters: {'alpha': 0.7000000000000001, 'embed_size': 260, 'num_layers': 1, 'heads': 2, 'forward_expansion': 5, 'decoder_dropout': 0.1, 'classificiation_dropout': 0.5, 'pre_norm_on': True, 'mlp_scale_classification': 7, 'learning_rate': 0.00024836408092917053}. Best is trial 25 with value: 0.3866448512117803.\n"
     ]
    },
    {
     "name": "stderr",
     "output_type": "stream",
     "text": [
      "Best trial: 25. Best value: 0.386645:  30%|███       | 30/100 [9:43:37<23:01:38, 1184.26s/it]"
     ]
    },
    {
     "name": "stdout",
     "output_type": "stream",
     "text": [
      "[I 2023-12-04 19:54:02,474] Trial 29 finished with value: 0.3815318539727989 and parameters: {'alpha': 3.8000000000000003, 'embed_size': 300, 'num_layers': 1, 'heads': 5, 'forward_expansion': 5, 'decoder_dropout': 0.30000000000000004, 'classificiation_dropout': 0.5, 'pre_norm_on': True, 'mlp_scale_classification': 6, 'learning_rate': 0.00010822730613904577}. Best is trial 25 with value: 0.3866448512117803.\n"
     ]
    },
    {
     "name": "stderr",
     "output_type": "stream",
     "text": [
      "Best trial: 25. Best value: 0.386645:  31%|███       | 31/100 [10:03:21<22:41:36, 1184.01s/it]"
     ]
    },
    {
     "name": "stdout",
     "output_type": "stream",
     "text": [
      "[I 2023-12-04 20:13:45,891] Trial 30 finished with value: 0.36956744043358214 and parameters: {'alpha': 1.4000000000000001, 'embed_size': 280, 'num_layers': 1, 'heads': 2, 'forward_expansion': 6, 'decoder_dropout': 0.2, 'classificiation_dropout': 0.5, 'pre_norm_on': True, 'mlp_scale_classification': 5, 'learning_rate': 0.00020527068347576556}. Best is trial 25 with value: 0.3866448512117803.\n"
     ]
    },
    {
     "name": "stderr",
     "output_type": "stream",
     "text": [
      "Best trial: 25. Best value: 0.386645:  32%|███▏      | 32/100 [10:23:07<22:22:41, 1184.73s/it]"
     ]
    },
    {
     "name": "stdout",
     "output_type": "stream",
     "text": [
      "[I 2023-12-04 20:33:32,310] Trial 31 finished with value: 0.3849064321505266 and parameters: {'alpha': 2.3000000000000003, 'embed_size': 260, 'num_layers': 1, 'heads': 2, 'forward_expansion': 5, 'decoder_dropout': 0.30000000000000004, 'classificiation_dropout': 0.4, 'pre_norm_on': True, 'mlp_scale_classification': 5, 'learning_rate': 0.00010361970875811485}. Best is trial 25 with value: 0.3866448512117803.\n"
     ]
    },
    {
     "name": "stderr",
     "output_type": "stream",
     "text": [
      "Best trial: 25. Best value: 0.386645:  33%|███▎      | 33/100 [10:42:56<22:04:18, 1185.95s/it]"
     ]
    },
    {
     "name": "stdout",
     "output_type": "stream",
     "text": [
      "[I 2023-12-04 20:53:21,085] Trial 32 finished with value: 0.38194089375191737 and parameters: {'alpha': 2.3000000000000003, 'embed_size': 260, 'num_layers': 1, 'heads': 2, 'forward_expansion': 5, 'decoder_dropout': 0.30000000000000004, 'classificiation_dropout': 0.4, 'pre_norm_on': True, 'mlp_scale_classification': 5, 'learning_rate': 0.00010224667986700568}. Best is trial 25 with value: 0.3866448512117803.\n"
     ]
    },
    {
     "name": "stderr",
     "output_type": "stream",
     "text": [
      "Best trial: 25. Best value: 0.386645:  34%|███▍      | 34/100 [11:02:43<21:44:44, 1186.12s/it]"
     ]
    },
    {
     "name": "stdout",
     "output_type": "stream",
     "text": [
      "[I 2023-12-04 21:13:07,621] Trial 33 finished with value: 0.3700787401574803 and parameters: {'alpha': 2.9000000000000004, 'embed_size': 300, 'num_layers': 1, 'heads': 2, 'forward_expansion': 5, 'decoder_dropout': 0.30000000000000004, 'classificiation_dropout': 0.5, 'pre_norm_on': True, 'mlp_scale_classification': 4, 'learning_rate': 0.0002604857784747007}. Best is trial 25 with value: 0.3866448512117803.\n"
     ]
    },
    {
     "name": "stderr",
     "output_type": "stream",
     "text": [
      "Best trial: 25. Best value: 0.386645:  35%|███▌      | 35/100 [11:22:32<21:25:56, 1187.03s/it]"
     ]
    },
    {
     "name": "stdout",
     "output_type": "stream",
     "text": [
      "[I 2023-12-04 21:32:56,766] Trial 34 finished with value: 0.3724307188874118 and parameters: {'alpha': 2.1, 'embed_size': 280, 'num_layers': 1, 'heads': 5, 'forward_expansion': 6, 'decoder_dropout': 0.30000000000000004, 'classificiation_dropout': 0.4, 'pre_norm_on': True, 'mlp_scale_classification': 7, 'learning_rate': 0.00016220637959275225}. Best is trial 25 with value: 0.3866448512117803.\n"
     ]
    },
    {
     "name": "stderr",
     "output_type": "stream",
     "text": [
      "Best trial: 25. Best value: 0.386645:  36%|███▌      | 36/100 [11:41:53<20:57:59, 1179.37s/it]"
     ]
    },
    {
     "name": "stdout",
     "output_type": "stream",
     "text": [
      "[I 2023-12-04 21:52:18,248] Trial 35 finished with value: 0.3368442581041006 and parameters: {'alpha': 2.3000000000000003, 'embed_size': 320, 'num_layers': 1, 'heads': 2, 'forward_expansion': 5, 'decoder_dropout': 0.2, 'classificiation_dropout': 0.1, 'pre_norm_on': False, 'mlp_scale_classification': 5, 'learning_rate': 0.0001788952024609446}. Best is trial 25 with value: 0.3866448512117803.\n"
     ]
    },
    {
     "name": "stderr",
     "output_type": "stream",
     "text": [
      "Best trial: 25. Best value: 0.386645:  37%|███▋      | 37/100 [12:01:38<20:39:57, 1180.91s/it]"
     ]
    },
    {
     "name": "stdout",
     "output_type": "stream",
     "text": [
      "[I 2023-12-04 22:12:02,763] Trial 36 finished with value: 0.35954596584517845 and parameters: {'alpha': 0.4, 'embed_size': 260, 'num_layers': 1, 'heads': 10, 'forward_expansion': 7, 'decoder_dropout': 0.30000000000000004, 'classificiation_dropout': 0.30000000000000004, 'pre_norm_on': True, 'mlp_scale_classification': 6, 'learning_rate': 0.00030158105148577526}. Best is trial 25 with value: 0.3866448512117803.\n"
     ]
    },
    {
     "name": "stderr",
     "output_type": "stream",
     "text": [
      "Best trial: 25. Best value: 0.386645:  38%|███▊      | 38/100 [12:21:49<20:29:45, 1190.08s/it]"
     ]
    },
    {
     "name": "stdout",
     "output_type": "stream",
     "text": [
      "[I 2023-12-04 22:32:14,242] Trial 37 finished with value: 0.3594437059003988 and parameters: {'alpha': 3.8000000000000003, 'embed_size': 100, 'num_layers': 2, 'heads': 2, 'forward_expansion': 4, 'decoder_dropout': 0.2, 'classificiation_dropout': 0.5, 'pre_norm_on': True, 'mlp_scale_classification': 4, 'learning_rate': 0.00015513457222448776}. Best is trial 25 with value: 0.3866448512117803.\n"
     ]
    },
    {
     "name": "stderr",
     "output_type": "stream",
     "text": [
      "Best trial: 25. Best value: 0.386645:  39%|███▉      | 39/100 [12:41:28<20:06:19, 1186.55s/it]"
     ]
    },
    {
     "name": "stdout",
     "output_type": "stream",
     "text": [
      "[I 2023-12-04 22:51:52,564] Trial 38 finished with value: 0.3357193987115247 and parameters: {'alpha': 1.2000000000000002, 'embed_size': 280, 'num_layers': 1, 'heads': 1, 'forward_expansion': 8, 'decoder_dropout': 0.30000000000000004, 'classificiation_dropout': 0.2, 'pre_norm_on': True, 'mlp_scale_classification': 8, 'learning_rate': 0.0002768603879743781}. Best is trial 25 with value: 0.3866448512117803.\n"
     ]
    },
    {
     "name": "stderr",
     "output_type": "stream",
     "text": [
      "Best trial: 25. Best value: 0.386645:  40%|████      | 40/100 [13:01:43<19:55:13, 1195.23s/it]"
     ]
    },
    {
     "name": "stdout",
     "output_type": "stream",
     "text": [
      "[I 2023-12-04 23:12:08,024] Trial 39 finished with value: 0.34410471418345434 and parameters: {'alpha': 4.2, 'embed_size': 300, 'num_layers': 2, 'heads': 5, 'forward_expansion': 6, 'decoder_dropout': 0.1, 'classificiation_dropout': 0.30000000000000004, 'pre_norm_on': False, 'mlp_scale_classification': 6, 'learning_rate': 0.0001400845045148729}. Best is trial 25 with value: 0.3866448512117803.\n"
     ]
    },
    {
     "name": "stderr",
     "output_type": "stream",
     "text": [
      "Best trial: 25. Best value: 0.386645:  41%|████      | 41/100 [13:21:44<19:36:53, 1196.84s/it]"
     ]
    },
    {
     "name": "stdout",
     "output_type": "stream",
     "text": [
      "[I 2023-12-04 23:32:08,645] Trial 40 finished with value: 0.38050925452500256 and parameters: {'alpha': 2.8000000000000003, 'embed_size': 260, 'num_layers': 1, 'heads': 2, 'forward_expansion': 5, 'decoder_dropout': 0.2, 'classificiation_dropout': 0.4, 'pre_norm_on': True, 'mlp_scale_classification': 7, 'learning_rate': 0.00010086161373393507}. Best is trial 25 with value: 0.3866448512117803.\n"
     ]
    },
    {
     "name": "stderr",
     "output_type": "stream",
     "text": [
      "Best trial: 25. Best value: 0.386645:  42%|████▏     | 42/100 [13:41:25<19:12:31, 1192.26s/it]"
     ]
    },
    {
     "name": "stdout",
     "output_type": "stream",
     "text": [
      "[I 2023-12-04 23:51:50,220] Trial 41 finished with value: 0.38245219347581555 and parameters: {'alpha': 2.4000000000000004, 'embed_size': 260, 'num_layers': 1, 'heads': 2, 'forward_expansion': 5, 'decoder_dropout': 0.30000000000000004, 'classificiation_dropout': 0.4, 'pre_norm_on': True, 'mlp_scale_classification': 5, 'learning_rate': 0.00015779346870170067}. Best is trial 25 with value: 0.3866448512117803.\n"
     ]
    },
    {
     "name": "stderr",
     "output_type": "stream",
     "text": [
      "Best trial: 25. Best value: 0.386645:  43%|████▎     | 43/100 [14:01:18<18:52:42, 1192.33s/it]"
     ]
    },
    {
     "name": "stdout",
     "output_type": "stream",
     "text": [
      "[I 2023-12-05 00:11:42,693] Trial 42 finished with value: 0.37713467634727477 and parameters: {'alpha': 2.5000000000000004, 'embed_size': 280, 'num_layers': 1, 'heads': 2, 'forward_expansion': 5, 'decoder_dropout': 0.30000000000000004, 'classificiation_dropout': 0.4, 'pre_norm_on': True, 'mlp_scale_classification': 6, 'learning_rate': 0.0001737602769370539}. Best is trial 25 with value: 0.3866448512117803.\n"
     ]
    },
    {
     "name": "stderr",
     "output_type": "stream",
     "text": [
      "Best trial: 25. Best value: 0.386645:  44%|████▍     | 44/100 [14:20:59<18:29:42, 1188.97s/it]"
     ]
    },
    {
     "name": "stdout",
     "output_type": "stream",
     "text": [
      "[I 2023-12-05 00:31:23,846] Trial 43 finished with value: 0.38500869209530625 and parameters: {'alpha': 1.7000000000000002, 'embed_size': 280, 'num_layers': 1, 'heads': 2, 'forward_expansion': 6, 'decoder_dropout': 0.30000000000000004, 'classificiation_dropout': 0.5, 'pre_norm_on': True, 'mlp_scale_classification': 5, 'learning_rate': 0.00014900669644414983}. Best is trial 25 with value: 0.3866448512117803.\n"
     ]
    },
    {
     "name": "stderr",
     "output_type": "stream",
     "text": [
      "Best trial: 25. Best value: 0.386645:  45%|████▌     | 45/100 [14:40:47<18:09:35, 1188.64s/it]"
     ]
    },
    {
     "name": "stdout",
     "output_type": "stream",
     "text": [
      "[I 2023-12-05 00:51:11,715] Trial 44 finished with value: 0.36506800286327845 and parameters: {'alpha': 2.0, 'embed_size': 320, 'num_layers': 1, 'heads': 1, 'forward_expansion': 7, 'decoder_dropout': 0.2, 'classificiation_dropout': 0.5, 'pre_norm_on': True, 'mlp_scale_classification': 5, 'learning_rate': 0.0002344971897242782}. Best is trial 25 with value: 0.3866448512117803.\n"
     ]
    },
    {
     "name": "stderr",
     "output_type": "stream",
     "text": [
      "Best trial: 25. Best value: 0.386645:  46%|████▌     | 46/100 [15:00:39<17:50:42, 1189.67s/it]"
     ]
    },
    {
     "name": "stdout",
     "output_type": "stream",
     "text": [
      "[I 2023-12-05 01:11:03,790] Trial 45 finished with value: 0.37999795480110443 and parameters: {'alpha': 1.6, 'embed_size': 280, 'num_layers': 1, 'heads': 2, 'forward_expansion': 6, 'decoder_dropout': 0.30000000000000004, 'classificiation_dropout': 0.5, 'pre_norm_on': True, 'mlp_scale_classification': 4, 'learning_rate': 0.00013581709424769707}. Best is trial 25 with value: 0.3866448512117803.\n"
     ]
    },
    {
     "name": "stderr",
     "output_type": "stream",
     "text": [
      "Best trial: 25. Best value: 0.386645:  47%|████▋     | 47/100 [15:20:19<17:28:21, 1186.82s/it]"
     ]
    },
    {
     "name": "stdout",
     "output_type": "stream",
     "text": [
      "[I 2023-12-05 01:30:43,970] Trial 46 finished with value: 0.3822476735862563 and parameters: {'alpha': 5.0, 'embed_size': 300, 'num_layers': 1, 'heads': 2, 'forward_expansion': 6, 'decoder_dropout': 0.4, 'classificiation_dropout': 0.5, 'pre_norm_on': True, 'mlp_scale_classification': 6, 'learning_rate': 0.00020145407381222532}. Best is trial 25 with value: 0.3866448512117803.\n"
     ]
    },
    {
     "name": "stderr",
     "output_type": "stream",
     "text": [
      "Best trial: 25. Best value: 0.386645:  48%|████▊     | 48/100 [15:39:59<17:06:50, 1184.81s/it]"
     ]
    },
    {
     "name": "stdout",
     "output_type": "stream",
     "text": [
      "[I 2023-12-05 01:50:24,086] Trial 47 finished with value: 0.379282135187647 and parameters: {'alpha': 1.1, 'embed_size': 240, 'num_layers': 1, 'heads': 2, 'forward_expansion': 5, 'decoder_dropout': 0.30000000000000004, 'classificiation_dropout': 0.5, 'pre_norm_on': False, 'mlp_scale_classification': 5, 'learning_rate': 0.0001297224029707666}. Best is trial 25 with value: 0.3866448512117803.\n"
     ]
    },
    {
     "name": "stderr",
     "output_type": "stream",
     "text": [
      "Best trial: 25. Best value: 0.386645:  49%|████▉     | 49/100 [16:00:39<17:01:13, 1201.43s/it]"
     ]
    },
    {
     "name": "stdout",
     "output_type": "stream",
     "text": [
      "[I 2023-12-05 02:11:04,307] Trial 48 finished with value: 0.34205951528786177 and parameters: {'alpha': 1.6, 'embed_size': 220, 'num_layers': 2, 'heads': 10, 'forward_expansion': 7, 'decoder_dropout': 0.2, 'classificiation_dropout': 0.1, 'pre_norm_on': True, 'mlp_scale_classification': 6, 'learning_rate': 0.00012836072531968395}. Best is trial 25 with value: 0.3866448512117803.\n"
     ]
    },
    {
     "name": "stderr",
     "output_type": "stream",
     "text": [
      "Best trial: 25. Best value: 0.386645:  50%|█████     | 50/100 [16:20:19<16:35:45, 1194.92s/it]"
     ]
    },
    {
     "name": "stdout",
     "output_type": "stream",
     "text": [
      "[I 2023-12-05 02:30:44,013] Trial 49 finished with value: 0.37785049596073217 and parameters: {'alpha': 3.2, 'embed_size': 200, 'num_layers': 1, 'heads': 2, 'forward_expansion': 6, 'decoder_dropout': 0.4, 'classificiation_dropout': 0.5, 'pre_norm_on': True, 'mlp_scale_classification': 5, 'learning_rate': 0.0003552633069549721}. Best is trial 25 with value: 0.3866448512117803.\n"
     ]
    },
    {
     "name": "stderr",
     "output_type": "stream",
     "text": [
      "Best trial: 25. Best value: 0.386645:  51%|█████     | 51/100 [16:40:01<16:12:45, 1191.13s/it]"
     ]
    },
    {
     "name": "stdout",
     "output_type": "stream",
     "text": [
      "[I 2023-12-05 02:50:26,307] Trial 50 finished with value: 0.3659883423662951 and parameters: {'alpha': 0.6, 'embed_size': 300, 'num_layers': 1, 'heads': 1, 'forward_expansion': 4, 'decoder_dropout': 0.30000000000000004, 'classificiation_dropout': 0.4, 'pre_norm_on': True, 'mlp_scale_classification': 7, 'learning_rate': 0.0005217123888293107}. Best is trial 25 with value: 0.3866448512117803.\n"
     ]
    },
    {
     "name": "stderr",
     "output_type": "stream",
     "text": [
      "Best trial: 25. Best value: 0.386645:  52%|█████▏    | 52/100 [16:59:33<15:48:13, 1185.27s/it]"
     ]
    },
    {
     "name": "stdout",
     "output_type": "stream",
     "text": [
      "[I 2023-12-05 03:09:57,919] Trial 51 finished with value: 0.37427139789344516 and parameters: {'alpha': 2.6, 'embed_size': 260, 'num_layers': 1, 'heads': 2, 'forward_expansion': 5, 'decoder_dropout': 0.30000000000000004, 'classificiation_dropout': 0.30000000000000004, 'pre_norm_on': True, 'mlp_scale_classification': 5, 'learning_rate': 0.00016340797948580512}. Best is trial 25 with value: 0.3866448512117803.\n"
     ]
    },
    {
     "name": "stderr",
     "output_type": "stream",
     "text": [
      "Best trial: 25. Best value: 0.386645:  53%|█████▎    | 53/100 [17:19:05<15:25:27, 1181.44s/it]"
     ]
    },
    {
     "name": "stdout",
     "output_type": "stream",
     "text": [
      "[I 2023-12-05 03:29:30,418] Trial 52 finished with value: 0.38255445342059513 and parameters: {'alpha': 2.4000000000000004, 'embed_size': 240, 'num_layers': 1, 'heads': 2, 'forward_expansion': 5, 'decoder_dropout': 0.30000000000000004, 'classificiation_dropout': 0.4, 'pre_norm_on': True, 'mlp_scale_classification': 4, 'learning_rate': 0.00020782531317744857}. Best is trial 25 with value: 0.3866448512117803.\n"
     ]
    },
    {
     "name": "stderr",
     "output_type": "stream",
     "text": [
      "Best trial: 25. Best value: 0.386645:  54%|█████▍    | 54/100 [17:38:33<15:02:35, 1177.30s/it]"
     ]
    },
    {
     "name": "stdout",
     "output_type": "stream",
     "text": [
      "[I 2023-12-05 03:48:58,057] Trial 53 finished with value: 0.38122507413845996 and parameters: {'alpha': 2.1, 'embed_size': 240, 'num_layers': 1, 'heads': 2, 'forward_expansion': 5, 'decoder_dropout': 0.30000000000000004, 'classificiation_dropout': 0.4, 'pre_norm_on': True, 'mlp_scale_classification': 4, 'learning_rate': 0.00010103867375470995}. Best is trial 25 with value: 0.3866448512117803.\n"
     ]
    },
    {
     "name": "stderr",
     "output_type": "stream",
     "text": [
      "Best trial: 25. Best value: 0.386645:  55%|█████▌    | 55/100 [17:58:14<14:43:50, 1178.46s/it]"
     ]
    },
    {
     "name": "stdout",
     "output_type": "stream",
     "text": [
      "[I 2023-12-05 04:08:39,210] Trial 54 finished with value: 0.376521116678597 and parameters: {'alpha': 1.7000000000000002, 'embed_size': 280, 'num_layers': 1, 'heads': 2, 'forward_expansion': 4, 'decoder_dropout': 0.4, 'classificiation_dropout': 0.5, 'pre_norm_on': True, 'mlp_scale_classification': 3, 'learning_rate': 0.00031540011370742935}. Best is trial 25 with value: 0.3866448512117803.\n"
     ]
    },
    {
     "name": "stderr",
     "output_type": "stream",
     "text": [
      "Best trial: 25. Best value: 0.386645:  56%|█████▌    | 56/100 [18:17:56<14:25:00, 1179.56s/it]"
     ]
    },
    {
     "name": "stdout",
     "output_type": "stream",
     "text": [
      "[I 2023-12-05 04:28:21,352] Trial 55 finished with value: 0.38020247469066365 and parameters: {'alpha': 2.7, 'embed_size': 240, 'num_layers': 1, 'heads': 2, 'forward_expansion': 6, 'decoder_dropout': 0.30000000000000004, 'classificiation_dropout': 0.4, 'pre_norm_on': True, 'mlp_scale_classification': 3, 'learning_rate': 0.00020442794552850654}. Best is trial 25 with value: 0.3866448512117803.\n"
     ]
    },
    {
     "name": "stderr",
     "output_type": "stream",
     "text": [
      "Best trial: 25. Best value: 0.386645:  57%|█████▋    | 57/100 [18:37:26<14:03:11, 1176.55s/it]"
     ]
    },
    {
     "name": "stdout",
     "output_type": "stream",
     "text": [
      "[I 2023-12-05 04:47:50,876] Trial 56 finished with value: 0.3750894774516822 and parameters: {'alpha': 3.0000000000000004, 'embed_size': 220, 'num_layers': 1, 'heads': 2, 'forward_expansion': 4, 'decoder_dropout': 0.4, 'classificiation_dropout': 0.30000000000000004, 'pre_norm_on': True, 'mlp_scale_classification': 4, 'learning_rate': 0.0002591541745592244}. Best is trial 25 with value: 0.3866448512117803.\n"
     ]
    },
    {
     "name": "stderr",
     "output_type": "stream",
     "text": [
      "Best trial: 25. Best value: 0.386645:  58%|█████▊    | 58/100 [18:57:17<13:46:43, 1181.04s/it]"
     ]
    },
    {
     "name": "stdout",
     "output_type": "stream",
     "text": [
      "[I 2023-12-05 05:07:42,377] Trial 57 finished with value: 0.3788730954085285 and parameters: {'alpha': 2.0, 'embed_size': 260, 'num_layers': 1, 'heads': 5, 'forward_expansion': 5, 'decoder_dropout': 0.30000000000000004, 'classificiation_dropout': 0.4, 'pre_norm_on': True, 'mlp_scale_classification': 4, 'learning_rate': 0.000141422616013999}. Best is trial 25 with value: 0.3866448512117803.\n"
     ]
    },
    {
     "name": "stderr",
     "output_type": "stream",
     "text": [
      "Best trial: 25. Best value: 0.386645:  59%|█████▉    | 59/100 [19:16:47<13:24:38, 1177.53s/it]"
     ]
    },
    {
     "name": "stdout",
     "output_type": "stream",
     "text": [
      "[I 2023-12-05 05:27:11,736] Trial 58 finished with value: 0.38214541364147664 and parameters: {'alpha': 3.5000000000000004, 'embed_size': 240, 'num_layers': 1, 'heads': 20, 'forward_expansion': 5, 'decoder_dropout': 0.2, 'classificiation_dropout': 0.5, 'pre_norm_on': False, 'mlp_scale_classification': 5, 'learning_rate': 0.0001290767643912213}. Best is trial 25 with value: 0.3866448512117803.\n"
     ]
    },
    {
     "name": "stderr",
     "output_type": "stream",
     "text": [
      "Best trial: 25. Best value: 0.386645:  60%|██████    | 60/100 [19:36:15<13:03:14, 1174.85s/it]"
     ]
    },
    {
     "name": "stdout",
     "output_type": "stream",
     "text": [
      "[I 2023-12-05 05:46:40,338] Trial 59 finished with value: 0.3178239083750895 and parameters: {'alpha': 1.0, 'embed_size': 260, 'num_layers': 1, 'heads': 2, 'forward_expansion': 4, 'decoder_dropout': 0.0, 'classificiation_dropout': 0.0, 'pre_norm_on': True, 'mlp_scale_classification': 5, 'learning_rate': 0.00019182692957021283}. Best is trial 25 with value: 0.3866448512117803.\n"
     ]
    },
    {
     "name": "stderr",
     "output_type": "stream",
     "text": [
      "Best trial: 25. Best value: 0.386645:  61%|██████    | 61/100 [19:55:50<12:43:35, 1174.75s/it]"
     ]
    },
    {
     "name": "stdout",
     "output_type": "stream",
     "text": [
      "[I 2023-12-05 06:06:14,853] Trial 60 finished with value: 0.3734533183352081 and parameters: {'alpha': 1.9000000000000001, 'embed_size': 140, 'num_layers': 1, 'heads': 2, 'forward_expansion': 6, 'decoder_dropout': 0.4, 'classificiation_dropout': 0.5, 'pre_norm_on': True, 'mlp_scale_classification': 6, 'learning_rate': 0.00048621014891523485}. Best is trial 25 with value: 0.3866448512117803.\n"
     ]
    },
    {
     "name": "stderr",
     "output_type": "stream",
     "text": [
      "Best trial: 25. Best value: 0.386645:  62%|██████▏   | 62/100 [20:15:53<12:29:27, 1183.37s/it]"
     ]
    },
    {
     "name": "stdout",
     "output_type": "stream",
     "text": [
      "[I 2023-12-05 06:26:18,316] Trial 61 finished with value: 0.37856631557418957 and parameters: {'alpha': 2.4000000000000004, 'embed_size': 280, 'num_layers': 1, 'heads': 2, 'forward_expansion': 5, 'decoder_dropout': 0.30000000000000004, 'classificiation_dropout': 0.4, 'pre_norm_on': True, 'mlp_scale_classification': 5, 'learning_rate': 0.00015807816102113276}. Best is trial 25 with value: 0.3866448512117803.\n"
     ]
    },
    {
     "name": "stderr",
     "output_type": "stream",
     "text": [
      "Best trial: 25. Best value: 0.386645:  63%|██████▎   | 63/100 [20:35:36<12:09:36, 1183.16s/it]"
     ]
    },
    {
     "name": "stdout",
     "output_type": "stream",
     "text": [
      "[I 2023-12-05 06:46:00,982] Trial 62 finished with value: 0.37877083546374885 and parameters: {'alpha': 2.5000000000000004, 'embed_size': 260, 'num_layers': 1, 'heads': 2, 'forward_expansion': 5, 'decoder_dropout': 0.30000000000000004, 'classificiation_dropout': 0.4, 'pre_norm_on': True, 'mlp_scale_classification': 5, 'learning_rate': 0.00012461092405930598}. Best is trial 25 with value: 0.3866448512117803.\n"
     ]
    },
    {
     "name": "stderr",
     "output_type": "stream",
     "text": [
      "Best trial: 25. Best value: 0.386645:  64%|██████▍   | 64/100 [20:55:20<11:50:08, 1183.56s/it]"
     ]
    },
    {
     "name": "stdout",
     "output_type": "stream",
     "text": [
      "[I 2023-12-05 07:05:45,476] Trial 63 finished with value: 0.37979343491154516 and parameters: {'alpha': 2.2, 'embed_size': 240, 'num_layers': 1, 'heads': 2, 'forward_expansion': 5, 'decoder_dropout': 0.30000000000000004, 'classificiation_dropout': 0.4, 'pre_norm_on': True, 'mlp_scale_classification': 5, 'learning_rate': 0.00021361899648883256}. Best is trial 25 with value: 0.3866448512117803.\n"
     ]
    },
    {
     "name": "stderr",
     "output_type": "stream",
     "text": [
      "Best trial: 25. Best value: 0.386645:  65%|██████▌   | 65/100 [21:15:16<11:32:33, 1187.25s/it]"
     ]
    },
    {
     "name": "stdout",
     "output_type": "stream",
     "text": [
      "[I 2023-12-05 07:25:41,343] Trial 64 finished with value: 0.3830657531444933 and parameters: {'alpha': 2.8000000000000003, 'embed_size': 280, 'num_layers': 1, 'heads': 2, 'forward_expansion': 5, 'decoder_dropout': 0.30000000000000004, 'classificiation_dropout': 0.4, 'pre_norm_on': True, 'mlp_scale_classification': 6, 'learning_rate': 0.00011541394774186333}. Best is trial 25 with value: 0.3866448512117803.\n"
     ]
    },
    {
     "name": "stderr",
     "output_type": "stream",
     "text": [
      "Best trial: 65. Best value: 0.389713:  66%|██████▌   | 66/100 [21:35:00<11:12:06, 1186.08s/it]"
     ]
    },
    {
     "name": "stdout",
     "output_type": "stream",
     "text": [
      "[I 2023-12-05 07:45:24,698] Trial 65 finished with value: 0.38971264955516927 and parameters: {'alpha': 2.7, 'embed_size': 280, 'num_layers': 1, 'heads': 10, 'forward_expansion': 4, 'decoder_dropout': 0.30000000000000004, 'classificiation_dropout': 0.5, 'pre_norm_on': True, 'mlp_scale_classification': 6, 'learning_rate': 0.00010144310519090549}. Best is trial 65 with value: 0.38971264955516927.\n"
     ]
    },
    {
     "name": "stderr",
     "output_type": "stream",
     "text": [
      "Best trial: 65. Best value: 0.389713:  67%|██████▋   | 67/100 [21:54:43<10:51:52, 1185.23s/it]"
     ]
    },
    {
     "name": "stdout",
     "output_type": "stream",
     "text": [
      "[I 2023-12-05 08:05:07,949] Trial 66 finished with value: 0.3639431434707025 and parameters: {'alpha': 2.8000000000000003, 'embed_size': 280, 'num_layers': 1, 'heads': 10, 'forward_expansion': 4, 'decoder_dropout': 0.2, 'classificiation_dropout': 0.5, 'pre_norm_on': True, 'mlp_scale_classification': 6, 'learning_rate': 0.00035334020481348063}. Best is trial 65 with value: 0.38971264955516927.\n"
     ]
    },
    {
     "name": "stderr",
     "output_type": "stream",
     "text": [
      "Best trial: 65. Best value: 0.389713:  68%|██████▊   | 68/100 [22:14:34<10:32:59, 1186.87s/it]"
     ]
    },
    {
     "name": "stdout",
     "output_type": "stream",
     "text": [
      "[I 2023-12-05 08:24:58,632] Trial 67 finished with value: 0.38562225176398407 and parameters: {'alpha': 3.1, 'embed_size': 300, 'num_layers': 1, 'heads': 10, 'forward_expansion': 3, 'decoder_dropout': 0.30000000000000004, 'classificiation_dropout': 0.5, 'pre_norm_on': True, 'mlp_scale_classification': 7, 'learning_rate': 0.00012146743616861138}. Best is trial 65 with value: 0.38971264955516927.\n"
     ]
    },
    {
     "name": "stderr",
     "output_type": "stream",
     "text": [
      "Best trial: 65. Best value: 0.389713:  69%|██████▉   | 69/100 [22:34:38<10:15:58, 1192.21s/it]"
     ]
    },
    {
     "name": "stdout",
     "output_type": "stream",
     "text": [
      "[I 2023-12-05 08:45:03,313] Trial 68 finished with value: 0.3827589733101544 and parameters: {'alpha': 3.6, 'embed_size': 300, 'num_layers': 1, 'heads': 10, 'forward_expansion': 3, 'decoder_dropout': 0.4, 'classificiation_dropout': 0.5, 'pre_norm_on': True, 'mlp_scale_classification': 7, 'learning_rate': 0.00011725835945312668}. Best is trial 65 with value: 0.38971264955516927.\n"
     ]
    },
    {
     "name": "stderr",
     "output_type": "stream",
     "text": [
      "Best trial: 65. Best value: 0.389713:  70%|███████   | 70/100 [22:54:20<9:54:34, 1189.17s/it] "
     ]
    },
    {
     "name": "stdout",
     "output_type": "stream",
     "text": [
      "[I 2023-12-05 09:04:45,373] Trial 69 finished with value: 0.38817875038347477 and parameters: {'alpha': 3.1, 'embed_size': 320, 'num_layers': 1, 'heads': 10, 'forward_expansion': 3, 'decoder_dropout': 0.30000000000000004, 'classificiation_dropout': 0.5, 'pre_norm_on': True, 'mlp_scale_classification': 8, 'learning_rate': 0.00010039692497265749}. Best is trial 65 with value: 0.38971264955516927.\n"
     ]
    },
    {
     "name": "stderr",
     "output_type": "stream",
     "text": [
      "Best trial: 65. Best value: 0.389713:  71%|███████   | 71/100 [23:13:57<9:32:56, 1185.40s/it]"
     ]
    },
    {
     "name": "stdout",
     "output_type": "stream",
     "text": [
      "[I 2023-12-05 09:24:21,995] Trial 70 finished with value: 0.37785049596073217 and parameters: {'alpha': 3.1, 'embed_size': 320, 'num_layers': 1, 'heads': 10, 'forward_expansion': 3, 'decoder_dropout': 0.30000000000000004, 'classificiation_dropout': 0.5, 'pre_norm_on': False, 'mlp_scale_classification': 8, 'learning_rate': 0.00026192404270251814}. Best is trial 65 with value: 0.38971264955516927.\n"
     ]
    },
    {
     "name": "stderr",
     "output_type": "stream",
     "text": [
      "Best trial: 65. Best value: 0.389713:  72%|███████▏  | 72/100 [23:33:52<9:14:34, 1188.38s/it]"
     ]
    },
    {
     "name": "stdout",
     "output_type": "stream",
     "text": [
      "[I 2023-12-05 09:44:17,309] Trial 71 finished with value: 0.38194089375191737 and parameters: {'alpha': 3.2, 'embed_size': 320, 'num_layers': 1, 'heads': 10, 'forward_expansion': 3, 'decoder_dropout': 0.30000000000000004, 'classificiation_dropout': 0.5, 'pre_norm_on': True, 'mlp_scale_classification': 8, 'learning_rate': 0.0001255612926575149}. Best is trial 65 with value: 0.38971264955516927.\n"
     ]
    },
    {
     "name": "stderr",
     "output_type": "stream",
     "text": [
      "Best trial: 65. Best value: 0.389713:  73%|███████▎  | 73/100 [23:53:44<8:55:14, 1189.44s/it]"
     ]
    },
    {
     "name": "stdout",
     "output_type": "stream",
     "text": [
      "[I 2023-12-05 10:04:09,233] Trial 72 finished with value: 0.3836793128131711 and parameters: {'alpha': 2.9000000000000004, 'embed_size': 300, 'num_layers': 1, 'heads': 10, 'forward_expansion': 2, 'decoder_dropout': 0.30000000000000004, 'classificiation_dropout': 0.5, 'pre_norm_on': True, 'mlp_scale_classification': 7, 'learning_rate': 0.00010170796015937821}. Best is trial 65 with value: 0.38971264955516927.\n"
     ]
    },
    {
     "name": "stderr",
     "output_type": "stream",
     "text": [
      "Best trial: 65. Best value: 0.389713:  74%|███████▍  | 74/100 [24:13:32<8:35:12, 1188.96s/it]"
     ]
    },
    {
     "name": "stdout",
     "output_type": "stream",
     "text": [
      "[I 2023-12-05 10:23:57,069] Trial 73 finished with value: 0.38551999181920443 and parameters: {'alpha': 3.0000000000000004, 'embed_size': 300, 'num_layers': 1, 'heads': 10, 'forward_expansion': 2, 'decoder_dropout': 0.30000000000000004, 'classificiation_dropout': 0.5, 'pre_norm_on': True, 'mlp_scale_classification': 7, 'learning_rate': 0.00010019594163259605}. Best is trial 65 with value: 0.38971264955516927.\n"
     ]
    },
    {
     "name": "stderr",
     "output_type": "stream",
     "text": [
      "Best trial: 65. Best value: 0.389713:  75%|███████▌  | 75/100 [24:33:27<8:16:05, 1190.62s/it]"
     ]
    },
    {
     "name": "stdout",
     "output_type": "stream",
     "text": [
      "[I 2023-12-05 10:43:51,548] Trial 74 finished with value: 0.3796911749667655 and parameters: {'alpha': 3.4000000000000004, 'embed_size': 320, 'num_layers': 1, 'heads': 10, 'forward_expansion': 2, 'decoder_dropout': 0.30000000000000004, 'classificiation_dropout': 0.5, 'pre_norm_on': True, 'mlp_scale_classification': 8, 'learning_rate': 0.00015144259600787538}. Best is trial 65 with value: 0.38971264955516927.\n"
     ]
    },
    {
     "name": "stderr",
     "output_type": "stream",
     "text": [
      "Best trial: 65. Best value: 0.389713:  76%|███████▌  | 76/100 [24:53:32<7:58:03, 1195.14s/it]"
     ]
    },
    {
     "name": "stdout",
     "output_type": "stream",
     "text": [
      "[I 2023-12-05 11:03:57,243] Trial 75 finished with value: 0.3804069945802229 and parameters: {'alpha': 3.6, 'embed_size': 300, 'num_layers': 1, 'heads': 10, 'forward_expansion': 3, 'decoder_dropout': 0.30000000000000004, 'classificiation_dropout': 0.5, 'pre_norm_on': True, 'mlp_scale_classification': 7, 'learning_rate': 0.0001772749120885107}. Best is trial 65 with value: 0.38971264955516927.\n"
     ]
    },
    {
     "name": "stderr",
     "output_type": "stream",
     "text": [
      "Best trial: 65. Best value: 0.389713:  77%|███████▋  | 77/100 [25:13:36<7:39:10, 1197.85s/it]"
     ]
    },
    {
     "name": "stdout",
     "output_type": "stream",
     "text": [
      "[I 2023-12-05 11:24:01,408] Trial 76 finished with value: 0.3798956948563248 and parameters: {'alpha': 3.0000000000000004, 'embed_size': 300, 'num_layers': 1, 'heads': 10, 'forward_expansion': 2, 'decoder_dropout': 0.4, 'classificiation_dropout': 0.5, 'pre_norm_on': True, 'mlp_scale_classification': 7, 'learning_rate': 0.00010033001722732305}. Best is trial 65 with value: 0.38971264955516927.\n"
     ]
    },
    {
     "name": "stderr",
     "output_type": "stream",
     "text": [
      "Best trial: 65. Best value: 0.389713:  78%|███████▊  | 78/100 [25:33:08<7:16:21, 1190.08s/it]"
     ]
    },
    {
     "name": "stdout",
     "output_type": "stream",
     "text": [
      "[I 2023-12-05 11:43:33,368] Trial 77 finished with value: 0.37662337662337664 and parameters: {'alpha': 3.2, 'embed_size': 300, 'num_layers': 1, 'heads': 10, 'forward_expansion': 3, 'decoder_dropout': 0.2, 'classificiation_dropout': 0.5, 'pre_norm_on': True, 'mlp_scale_classification': 8, 'learning_rate': 0.00017995239777885596}. Best is trial 65 with value: 0.38971264955516927.\n"
     ]
    },
    {
     "name": "stderr",
     "output_type": "stream",
     "text": [
      "Best trial: 65. Best value: 0.389713:  79%|███████▉  | 79/100 [25:53:57<7:02:43, 1207.80s/it]"
     ]
    },
    {
     "name": "stdout",
     "output_type": "stream",
     "text": [
      "[I 2023-12-05 12:04:22,529] Trial 78 finished with value: 0.38122507413845996 and parameters: {'alpha': 2.7, 'embed_size': 320, 'num_layers': 2, 'heads': 10, 'forward_expansion': 3, 'decoder_dropout': 0.30000000000000004, 'classificiation_dropout': 0.5, 'pre_norm_on': True, 'mlp_scale_classification': 7, 'learning_rate': 0.00014055478718149564}. Best is trial 65 with value: 0.38971264955516927.\n"
     ]
    },
    {
     "name": "stderr",
     "output_type": "stream",
     "text": [
      "Best trial: 65. Best value: 0.389713:  80%|████████  | 80/100 [26:13:47<6:40:48, 1202.42s/it]"
     ]
    },
    {
     "name": "stdout",
     "output_type": "stream",
     "text": [
      "[I 2023-12-05 12:24:12,398] Trial 79 finished with value: 0.3791798752428674 and parameters: {'alpha': 1.3000000000000003, 'embed_size': 280, 'num_layers': 1, 'heads': 10, 'forward_expansion': 2, 'decoder_dropout': 0.30000000000000004, 'classificiation_dropout': 0.5, 'pre_norm_on': True, 'mlp_scale_classification': 7, 'learning_rate': 0.0002471588638258852}. Best is trial 65 with value: 0.38971264955516927.\n"
     ]
    },
    {
     "name": "stderr",
     "output_type": "stream",
     "text": [
      "Best trial: 65. Best value: 0.389713:  81%|████████  | 81/100 [26:33:25<6:18:23, 1194.91s/it]"
     ]
    },
    {
     "name": "stdout",
     "output_type": "stream",
     "text": [
      "[I 2023-12-05 12:43:49,775] Trial 80 finished with value: 0.36701094181409144 and parameters: {'alpha': 3.0000000000000004, 'embed_size': 180, 'num_layers': 1, 'heads': 10, 'forward_expansion': 3, 'decoder_dropout': 0.4, 'classificiation_dropout': 0.5, 'pre_norm_on': True, 'mlp_scale_classification': 6, 'learning_rate': 0.00011950853559591657}. Best is trial 65 with value: 0.38971264955516927.\n"
     ]
    },
    {
     "name": "stderr",
     "output_type": "stream",
     "text": [
      "Best trial: 65. Best value: 0.389713:  82%|████████▏ | 82/100 [26:53:16<5:58:07, 1193.76s/it]"
     ]
    },
    {
     "name": "stdout",
     "output_type": "stream",
     "text": [
      "[I 2023-12-05 13:03:40,848] Trial 81 finished with value: 0.3836793128131711 and parameters: {'alpha': 2.9000000000000004, 'embed_size': 300, 'num_layers': 1, 'heads': 10, 'forward_expansion': 2, 'decoder_dropout': 0.30000000000000004, 'classificiation_dropout': 0.5, 'pre_norm_on': True, 'mlp_scale_classification': 7, 'learning_rate': 0.00015035604239531242}. Best is trial 65 with value: 0.38971264955516927.\n"
     ]
    },
    {
     "name": "stderr",
     "output_type": "stream",
     "text": [
      "Best trial: 65. Best value: 0.389713:  83%|████████▎ | 83/100 [27:13:05<5:37:50, 1192.36s/it]"
     ]
    },
    {
     "name": "stdout",
     "output_type": "stream",
     "text": [
      "[I 2023-12-05 13:23:29,941] Trial 82 finished with value: 0.38316801308927295 and parameters: {'alpha': 3.3000000000000003, 'embed_size': 300, 'num_layers': 1, 'heads': 10, 'forward_expansion': 2, 'decoder_dropout': 0.30000000000000004, 'classificiation_dropout': 0.5, 'pre_norm_on': True, 'mlp_scale_classification': 8, 'learning_rate': 0.00010006405129987042}. Best is trial 65 with value: 0.38971264955516927.\n"
     ]
    },
    {
     "name": "stderr",
     "output_type": "stream",
     "text": [
      "Best trial: 65. Best value: 0.389713:  84%|████████▍ | 84/100 [27:33:20<5:19:48, 1199.27s/it]"
     ]
    },
    {
     "name": "stdout",
     "output_type": "stream",
     "text": [
      "[I 2023-12-05 13:43:45,331] Trial 83 finished with value: 0.38459965231618776 and parameters: {'alpha': 3.1, 'embed_size': 320, 'num_layers': 1, 'heads': 10, 'forward_expansion': 2, 'decoder_dropout': 0.30000000000000004, 'classificiation_dropout': 0.5, 'pre_norm_on': True, 'mlp_scale_classification': 7, 'learning_rate': 0.00011871380146633483}. Best is trial 65 with value: 0.38971264955516927.\n"
     ]
    },
    {
     "name": "stderr",
     "output_type": "stream",
     "text": [
      "Best trial: 65. Best value: 0.389713:  85%|████████▌ | 85/100 [27:53:31<5:00:39, 1202.63s/it]"
     ]
    },
    {
     "name": "stdout",
     "output_type": "stream",
     "text": [
      "[I 2023-12-05 14:03:55,807] Trial 84 finished with value: 0.3788730954085285 and parameters: {'alpha': 4.6, 'embed_size': 320, 'num_layers': 1, 'heads': 10, 'forward_expansion': 2, 'decoder_dropout': 0.2, 'classificiation_dropout': 0.5, 'pre_norm_on': True, 'mlp_scale_classification': 6, 'learning_rate': 0.0001772345863451365}. Best is trial 65 with value: 0.38971264955516927.\n"
     ]
    },
    {
     "name": "stderr",
     "output_type": "stream",
     "text": [
      "Best trial: 65. Best value: 0.389713:  86%|████████▌ | 86/100 [28:13:22<4:39:49, 1199.23s/it]"
     ]
    },
    {
     "name": "stdout",
     "output_type": "stream",
     "text": [
      "[I 2023-12-05 14:23:47,106] Trial 85 finished with value: 0.38971264955516927 and parameters: {'alpha': 2.6, 'embed_size': 320, 'num_layers': 1, 'heads': 10, 'forward_expansion': 3, 'decoder_dropout': 0.30000000000000004, 'classificiation_dropout': 0.5, 'pre_norm_on': True, 'mlp_scale_classification': 7, 'learning_rate': 0.00011752365412630258}. Best is trial 65 with value: 0.38971264955516927.\n"
     ]
    },
    {
     "name": "stderr",
     "output_type": "stream",
     "text": [
      "Best trial: 65. Best value: 0.389713:  87%|████████▋ | 87/100 [28:33:24<4:20:00, 1200.07s/it]"
     ]
    },
    {
     "name": "stdout",
     "output_type": "stream",
     "text": [
      "[I 2023-12-05 14:43:49,133] Trial 86 finished with value: 0.38562225176398407 and parameters: {'alpha': 2.6, 'embed_size': 320, 'num_layers': 1, 'heads': 10, 'forward_expansion': 3, 'decoder_dropout': 0.30000000000000004, 'classificiation_dropout': 0.5, 'pre_norm_on': True, 'mlp_scale_classification': 7, 'learning_rate': 0.0001211546761616115}. Best is trial 65 with value: 0.38971264955516927.\n"
     ]
    },
    {
     "name": "stderr",
     "output_type": "stream",
     "text": [
      "Best trial: 65. Best value: 0.389713:  88%|████████▊ | 88/100 [28:52:55<3:58:17, 1191.46s/it]"
     ]
    },
    {
     "name": "stdout",
     "output_type": "stream",
     "text": [
      "[I 2023-12-05 15:03:20,498] Trial 87 finished with value: 0.37662337662337664 and parameters: {'alpha': 2.5000000000000004, 'embed_size': 320, 'num_layers': 1, 'heads': 10, 'forward_expansion': 3, 'decoder_dropout': 0.30000000000000004, 'classificiation_dropout': 0.5, 'pre_norm_on': False, 'mlp_scale_classification': 8, 'learning_rate': 0.0002223179994880649}. Best is trial 65 with value: 0.38971264955516927.\n"
     ]
    },
    {
     "name": "stderr",
     "output_type": "stream",
     "text": [
      "Best trial: 65. Best value: 0.389713:  89%|████████▉ | 89/100 [29:12:51<3:38:40, 1192.75s/it]"
     ]
    },
    {
     "name": "stdout",
     "output_type": "stream",
     "text": [
      "[I 2023-12-05 15:23:16,266] Trial 88 finished with value: 0.3841906125370692 and parameters: {'alpha': 2.7, 'embed_size': 320, 'num_layers': 1, 'heads': 10, 'forward_expansion': 3, 'decoder_dropout': 0.30000000000000004, 'classificiation_dropout': 0.5, 'pre_norm_on': True, 'mlp_scale_classification': 7, 'learning_rate': 0.00014151155838715594}. Best is trial 65 with value: 0.38971264955516927.\n"
     ]
    },
    {
     "name": "stderr",
     "output_type": "stream",
     "text": [
      "Best trial: 65. Best value: 0.389713:  90%|█████████ | 90/100 [29:32:43<3:18:43, 1192.38s/it]"
     ]
    },
    {
     "name": "stdout",
     "output_type": "stream",
     "text": [
      "[I 2023-12-05 15:43:07,769] Trial 89 finished with value: 0.38388383270273035 and parameters: {'alpha': 2.6, 'embed_size': 300, 'num_layers': 1, 'heads': 20, 'forward_expansion': 3, 'decoder_dropout': 0.30000000000000004, 'classificiation_dropout': 0.5, 'pre_norm_on': True, 'mlp_scale_classification': 7, 'learning_rate': 0.0001723748922512727}. Best is trial 65 with value: 0.38971264955516927.\n"
     ]
    },
    {
     "name": "stderr",
     "output_type": "stream",
     "text": [
      "Best trial: 65. Best value: 0.389713:  91%|█████████ | 91/100 [29:52:26<2:58:27, 1189.75s/it]"
     ]
    },
    {
     "name": "stdout",
     "output_type": "stream",
     "text": [
      "[I 2023-12-05 16:02:51,402] Trial 90 finished with value: 0.38429287248184885 and parameters: {'alpha': 1.5000000000000002, 'embed_size': 320, 'num_layers': 1, 'heads': 10, 'forward_expansion': 4, 'decoder_dropout': 0.4, 'classificiation_dropout': 0.5, 'pre_norm_on': True, 'mlp_scale_classification': 7, 'learning_rate': 0.0001217114228841975}. Best is trial 65 with value: 0.38971264955516927.\n"
     ]
    },
    {
     "name": "stderr",
     "output_type": "stream",
     "text": [
      "Best trial: 65. Best value: 0.389713:  92%|█████████▏| 92/100 [30:12:32<2:39:16, 1194.57s/it]"
     ]
    },
    {
     "name": "stdout",
     "output_type": "stream",
     "text": [
      "[I 2023-12-05 16:22:57,205] Trial 91 finished with value: 0.382043153696697 and parameters: {'alpha': 3.1, 'embed_size': 320, 'num_layers': 1, 'heads': 10, 'forward_expansion': 3, 'decoder_dropout': 0.30000000000000004, 'classificiation_dropout': 0.5, 'pre_norm_on': True, 'mlp_scale_classification': 7, 'learning_rate': 0.00011738094462395305}. Best is trial 65 with value: 0.38971264955516927.\n"
     ]
    },
    {
     "name": "stderr",
     "output_type": "stream",
     "text": [
      "Best trial: 65. Best value: 0.389713:  93%|█████████▎| 93/100 [30:32:07<2:18:40, 1188.63s/it]"
     ]
    },
    {
     "name": "stdout",
     "output_type": "stream",
     "text": [
      "[I 2023-12-05 16:42:31,990] Trial 92 finished with value: 0.38869005010737295 and parameters: {'alpha': 3.3000000000000003, 'embed_size': 320, 'num_layers': 1, 'heads': 10, 'forward_expansion': 2, 'decoder_dropout': 0.30000000000000004, 'classificiation_dropout': 0.5, 'pre_norm_on': True, 'mlp_scale_classification': 8, 'learning_rate': 0.00014640567155388643}. Best is trial 65 with value: 0.38971264955516927.\n"
     ]
    },
    {
     "name": "stderr",
     "output_type": "stream",
     "text": [
      "Best trial: 65. Best value: 0.389713:  94%|█████████▍| 94/100 [30:51:57<1:58:54, 1189.00s/it]"
     ]
    },
    {
     "name": "stdout",
     "output_type": "stream",
     "text": [
      "[I 2023-12-05 17:02:21,857] Trial 93 finished with value: 0.38459965231618776 and parameters: {'alpha': 3.3000000000000003, 'embed_size': 300, 'num_layers': 1, 'heads': 10, 'forward_expansion': 2, 'decoder_dropout': 0.30000000000000004, 'classificiation_dropout': 0.5, 'pre_norm_on': True, 'mlp_scale_classification': 8, 'learning_rate': 0.0001391751527287822}. Best is trial 65 with value: 0.38971264955516927.\n"
     ]
    },
    {
     "name": "stderr",
     "output_type": "stream",
     "text": [
      "Best trial: 65. Best value: 0.389713:  95%|█████████▌| 95/100 [31:11:50<1:39:11, 1190.21s/it]"
     ]
    },
    {
     "name": "stdout",
     "output_type": "stream",
     "text": [
      "[I 2023-12-05 17:22:14,884] Trial 94 finished with value: 0.3798956948563248 and parameters: {'alpha': 3.5000000000000004, 'embed_size': 280, 'num_layers': 1, 'heads': 1, 'forward_expansion': 4, 'decoder_dropout': 0.30000000000000004, 'classificiation_dropout': 0.5, 'pre_norm_on': True, 'mlp_scale_classification': 8, 'learning_rate': 0.00015644287535219198}. Best is trial 65 with value: 0.38971264955516927.\n"
     ]
    },
    {
     "name": "stderr",
     "output_type": "stream",
     "text": [
      "Best trial: 65. Best value: 0.389713:  96%|█████████▌| 96/100 [31:31:30<1:19:09, 1187.28s/it]"
     ]
    },
    {
     "name": "stdout",
     "output_type": "stream",
     "text": [
      "[I 2023-12-05 17:41:55,313] Trial 95 finished with value: 0.3762143368442581 and parameters: {'alpha': 2.8000000000000003, 'embed_size': 320, 'num_layers': 1, 'heads': 10, 'forward_expansion': 3, 'decoder_dropout': 0.30000000000000004, 'classificiation_dropout': 0.5, 'pre_norm_on': True, 'mlp_scale_classification': 8, 'learning_rate': 0.00029404331124525853}. Best is trial 65 with value: 0.38971264955516927.\n"
     ]
    },
    {
     "name": "stderr",
     "output_type": "stream",
     "text": [
      "Best trial: 65. Best value: 0.389713:  97%|█████████▋| 97/100 [31:51:42<59:43, 1194.62s/it]  "
     ]
    },
    {
     "name": "stdout",
     "output_type": "stream",
     "text": [
      "[I 2023-12-05 18:02:07,081] Trial 96 finished with value: 0.3840883525922896 and parameters: {'alpha': 0.8, 'embed_size': 300, 'num_layers': 1, 'heads': 5, 'forward_expansion': 3, 'decoder_dropout': 0.30000000000000004, 'classificiation_dropout': 0.5, 'pre_norm_on': True, 'mlp_scale_classification': 8, 'learning_rate': 0.00018767524266810587}. Best is trial 65 with value: 0.38971264955516927.\n"
     ]
    },
    {
     "name": "stderr",
     "output_type": "stream",
     "text": [
      "Best trial: 65. Best value: 0.389713:  98%|█████████▊| 98/100 [32:11:30<39:45, 1192.73s/it]"
     ]
    },
    {
     "name": "stdout",
     "output_type": "stream",
     "text": [
      "[I 2023-12-05 18:21:55,400] Trial 97 finished with value: 0.3871561509356785 and parameters: {'alpha': 2.2, 'embed_size': 320, 'num_layers': 1, 'heads': 10, 'forward_expansion': 2, 'decoder_dropout': 0.30000000000000004, 'classificiation_dropout': 0.5, 'pre_norm_on': True, 'mlp_scale_classification': 7, 'learning_rate': 0.00011376389433610611}. Best is trial 65 with value: 0.38971264955516927.\n"
     ]
    },
    {
     "name": "stderr",
     "output_type": "stream",
     "text": [
      "Best trial: 65. Best value: 0.389713:  99%|█████████▉| 99/100 [32:31:29<19:54, 1194.52s/it]"
     ]
    },
    {
     "name": "stdout",
     "output_type": "stream",
     "text": [
      "[I 2023-12-05 18:41:54,082] Trial 98 finished with value: 0.37856631557418957 and parameters: {'alpha': 4.0, 'embed_size': 320, 'num_layers': 1, 'heads': 10, 'forward_expansion': 2, 'decoder_dropout': 0.30000000000000004, 'classificiation_dropout': 0.5, 'pre_norm_on': True, 'mlp_scale_classification': 7, 'learning_rate': 0.00023355115268005778}. Best is trial 65 with value: 0.38971264955516927.\n"
     ]
    },
    {
     "name": "stderr",
     "output_type": "stream",
     "text": [
      "Best trial: 65. Best value: 0.389713: 100%|██████████| 100/100 [32:51:24<00:00, 1182.85s/it]"
     ]
    },
    {
     "name": "stdout",
     "output_type": "stream",
     "text": [
      "[I 2023-12-05 19:01:49,179] Trial 99 finished with value: 0.380100214745884 and parameters: {'alpha': 1.8000000000000003, 'embed_size': 320, 'num_layers': 1, 'heads': 10, 'forward_expansion': 2, 'decoder_dropout': 0.2, 'classificiation_dropout': 0.5, 'pre_norm_on': True, 'mlp_scale_classification': 7, 'learning_rate': 0.0001365457370380453}. Best is trial 65 with value: 0.38971264955516927.\n",
      "Best Hyperparameters: {'alpha': 2.7, 'embed_size': 280, 'num_layers': 1, 'heads': 10, 'forward_expansion': 4, 'decoder_dropout': 0.30000000000000004, 'classificiation_dropout': 0.5, 'pre_norm_on': True, 'mlp_scale_classification': 6, 'learning_rate': 0.00010144310519090549}\n",
      "Best Validation Accuracy (at Early Stopping): 0.38971264955516927\n"
     ]
    },
    {
     "name": "stderr",
     "output_type": "stream",
     "text": [
      "\n"
     ]
    }
   ],
   "source": [
    "# Set the number of optimization trials\n",
    "num_trials = 100\n",
    "\n",
    "# Create an Optuna study\n",
    "study = optuna.create_study(direction='maximize')  # Maximize validation accuracy\n",
    "\n",
    "# Start the optimization process\n",
    "study.optimize(objective, n_trials=num_trials, show_progress_bar=True)\n",
    "\n",
    "# Get the best hyperparameters and the validation accuracy at the point of early stopping\n",
    "best_params = study.best_params\n",
    "best_val_accuracy = study.best_value\n",
    "\n",
    "print(\"Best Hyperparameters:\", best_params)\n",
    "print(\"Best Validation Accuracy (at Early Stopping):\", best_val_accuracy)"
   ]
  },
  {
   "cell_type": "code",
   "execution_count": 6,
   "metadata": {},
   "outputs": [
    {
     "name": "stdout",
     "output_type": "stream",
     "text": [
      "Epoch [ 1/100]  | Train: Loss 4.239916722867742, Accuracy 0.0701842802988803        | Test: Loss 3.8474563574179625, Accuracy 0.11543967280163599      \n",
      "Epoch [ 2/100]  | Train: Loss 3.8419276722316638, Accuracy 0.12119552117799154      | Test: Loss 3.602919101715088, Accuracy 0.182719836400818         \n",
      "Epoch [ 3/100]  | Train: Loss 3.639962846340414, Accuracy 0.15982645660319478       | Test: Loss 3.391449897717207, Accuracy 0.21687116564417178       \n",
      "Epoch [ 4/100]  | Train: Loss 3.4912171390469515, Accuracy 0.19663869228915135      | Test: Loss 3.2826502384283605, Accuracy 0.24519427402862987      \n",
      "Epoch [ 5/100]  | Train: Loss 3.388268264312318, Accuracy 0.2212020947915069        | Test: Loss 3.197267880806556, Accuracy 0.2556237218813906        \n",
      "Epoch [ 6/100]  | Train: Loss 3.312052833301395, Accuracy 0.23752656835462455       | Test: Loss 3.1402253676683474, Accuracy 0.27770961145194273      \n",
      "Epoch [ 7/100]  | Train: Loss 3.2560732271418225, Accuracy 0.24811008611433705      | Test: Loss 3.0799537010681934, Accuracy 0.2829243353783231       \n",
      "Epoch [ 8/100]  | Train: Loss 3.209792725866733, Accuracy 0.25967964590135195       | Test: Loss 3.040692470012567, Accuracy 0.2898773006134969        \n",
      "Epoch [ 9/100]  | Train: Loss 3.1682897000339443, Accuracy 0.26730503757915725      | Test: Loss 2.994763643313677, Accuracy 0.2967280163599182        \n",
      "Epoch [10/100]  | Train: Loss 3.1318387385853175, Accuracy 0.27313364156276704      | Test: Loss 2.97316399598733, Accuracy 0.30030674846625766        \n",
      "Epoch [11/100]  | Train: Loss 3.1000638767327677, Accuracy 0.2793128382671955       | Test: Loss 2.9308489652780385, Accuracy 0.3053169734151329       \n",
      "Epoch [12/100]  | Train: Loss 3.075471582359442, Accuracy 0.28321318228630277       | Test: Loss 2.9020813672970505, Accuracy 0.31022494887525565      \n",
      "Epoch [13/100]  | Train: Loss 3.04968360948829, Accuracy 0.2863904288187217         | Test: Loss 2.8957082613920555, Accuracy 0.31206543967280165      \n",
      "Epoch [14/100]  | Train: Loss 3.0235216377833702, Accuracy 0.29351184346035014      | Test: Loss 2.8931664320138784, Accuracy 0.31758691206543965      \n",
      "Epoch [15/100]  | Train: Loss 3.0019447523788365, Accuracy 0.29568113592041545      | Test: Loss 2.8641918194599643, Accuracy 0.3235173824130879       \n",
      "Epoch [16/100]  | Train: Loss 2.980668712594656, Accuracy 0.29903367881324366       | Test: Loss 2.8401063222151537, Accuracy 0.3229038854805726       \n",
      "Epoch [17/100]  | Train: Loss 2.969123872298768, Accuracy 0.302013716940202         | Test: Loss 2.826076831573095, Accuracy 0.32413087934560325       \n",
      "Epoch [18/100]  | Train: Loss 2.9546962623489637, Accuracy 0.3032846155531696       | Test: Loss 2.826991460262201, Accuracy 0.33026584867075665       \n",
      "Epoch [19/100]  | Train: Loss 2.9407304292284575, Accuracy 0.3078423209238118       | Test: Loss 2.812301904727251, Accuracy 0.3313905930470348        \n",
      "Epoch [20/100]  | Train: Loss 2.9269901094489925, Accuracy 0.3085435063654491       | Test: Loss 2.774864740860768, Accuracy 0.33588957055214724       \n",
      "Epoch [21/100]  | Train: Loss 2.9075729420731187, Accuracy 0.309989701338826        | Test: Loss 2.769398640363644, Accuracy 0.33957055214723925       \n",
      "Epoch [22/100]  | Train: Loss 2.8956563193038853, Accuracy 0.3123123781142494       | Test: Loss 2.7729750535426994, Accuracy 0.3385480572597137       \n",
      "Epoch [23/100]  | Train: Loss 2.883854232020884, Accuracy 0.31516094397090083       | Test: Loss 2.7502352580046043, Accuracy 0.3414110429447853       \n",
      "Epoch [24/100]  | Train: Loss 2.8728332466253357, Accuracy 0.3177684773319894       | Test: Loss 2.753733524909386, Accuracy 0.3360940695296524        \n",
      "Epoch [25/100]  | Train: Loss 2.8643352865506815, Accuracy 0.320244538422771        | Test: Loss 2.741413104228484, Accuracy 0.34202453987730064       \n",
      "Epoch [26/100]  | Train: Loss 2.8580784997460564, Accuracy 0.3192365843504174       | Test: Loss 2.7310447570605154, Accuracy 0.3455010224948875       \n",
      "Epoch [27/100]  | Train: Loss 2.845782325254472, Accuracy 0.31989394570195234       | Test: Loss 2.717250414383717, Accuracy 0.34335378323108384       \n",
      "Epoch [28/100]  | Train: Loss 2.840030523651805, Accuracy 0.32215088634222233       | Test: Loss 2.718917125310653, Accuracy 0.3432515337423313        \n",
      "Epoch [29/100]  | Train: Loss 2.8322979897760145, Accuracy 0.3238162017661108       | Test: Loss 2.722520247483865, Accuracy 0.3407975460122699        \n",
      "Epoch [30/100]  | Train: Loss 2.817166885184176, Accuracy 0.32609505445143194       | Test: Loss 2.7104337949019213, Accuracy 0.349079754601227        \n",
      "Epoch [31/100]  | Train: Loss 2.817793246754055, Accuracy 0.32541578105484587       | Test: Loss 2.6999200918735604, Accuracy 0.3464212678936605       \n",
      "Epoch [32/100]  | Train: Loss 2.810295290121153, Accuracy 0.32725639283914365       | Test: Loss 2.7013200185237785, Accuracy 0.34826175869120657      \n",
      "Epoch [33/100]  | Train: Loss 2.807004884634604, Accuracy 0.32887788417292985       | Test: Loss 2.6905827827942677, Accuracy 0.3488752556237219       \n",
      "Epoch [34/100]  | Train: Loss 2.797566264701289, Accuracy 0.33043363937156256       | Test: Loss 2.697533063399486, Accuracy 0.34948875255623724       \n",
      "Epoch [35/100]  | Train: Loss 2.791544131060552, Accuracy 0.3319017463899906        | Test: Loss 2.6972673611763196, Accuracy 0.3502044989775051       \n",
      "Epoch [36/100]  | Train: Loss 2.7887681382994414, Accuracy 0.332361899336065        | Test: Loss 2.687015790205735, Accuracy 0.350920245398773         \n",
      "Epoch [37/100]  | Train: Loss 2.7798760363509536, Accuracy 0.33209895479545104      | Test: Loss 2.6947146501296606, Accuracy 0.35102249488752557      \n",
      "Epoch [38/100]  | Train: Loss 2.7749864548944227, Accuracy 0.33391765453469774      | Test: Loss 2.688100185149755, Accuracy 0.3512269938650307        \n",
      "Epoch [39/100]  | Train: Loss 2.7684593387156227, Accuracy 0.3359116506343537       | Test: Loss 2.6803329969063783, Accuracy 0.3530674846625767       \n",
      "Epoch [40/100]  | Train: Loss 2.7624073428148663, Accuracy 0.336349891535377        | Test: Loss 2.6794294088314743, Accuracy 0.3558282208588957       \n",
      "Epoch [41/100]  | Train: Loss 2.7573037147521973, Accuracy 0.3342463352104652       | Test: Loss 2.6754992313874073, Accuracy 0.35828220858895704      \n",
      "Epoch [42/100]  | Train: Loss 2.7571978355919184, Accuracy 0.338080943094419        | Test: Loss 2.677221934000651, Accuracy 0.3543967280163599        \n",
      "Epoch [43/100]  | Train: Loss 2.7549991234720754, Accuracy 0.336349891535377        | Test: Loss 2.651347796122233, Accuracy 0.3562372188139059        \n",
      "Epoch [44/100]  | Train: Loss 2.7409931614412275, Accuracy 0.340074939194075        | Test: Loss 2.6682198903499503, Accuracy 0.35664621676891617      \n",
      "Epoch [45/100]  | Train: Loss 2.740245239694691, Accuracy 0.3409514209961216        | Test: Loss 2.667957434287438, Accuracy 0.35357873210633944       \n",
      "Epoch [46/100]  | Train: Loss 2.735901430332461, Accuracy 0.3418717268882705        | Test: Loss 2.667253310863788, Accuracy 0.3570552147239264        \n",
      "Epoch [47/100]  | Train: Loss 2.730616605481622, Accuracy 0.3417840787080658        | Test: Loss 2.6554836432139077, Accuracy 0.3570552147239264       \n",
      "Epoch [48/100]  | Train: Loss 2.725509486384898, Accuracy 0.3408637728159169        | Test: Loss 2.6523408706371603, Accuracy 0.3570552147239264       \n",
      "Epoch [49/100]  | Train: Loss 2.721397501130344, Accuracy 0.34182790279816816       | Test: Loss 2.657726587393345, Accuracy 0.3588957055214724        \n",
      "Epoch [50/100]  | Train: Loss 2.7105007291506125, Accuracy 0.3431645375462892       | Test: Loss 2.6497222582499185, Accuracy 0.3567484662576687       \n",
      "Epoch [51/100]  | Train: Loss 2.713241728990438, Accuracy 0.34165260643775885       | Test: Loss 2.640477724564381, Accuracy 0.3621676891615542        \n",
      "Epoch [52/100]  | Train: Loss 2.7030544187769543, Accuracy 0.3457063347722243       | Test: Loss 2.6421132943569083, Accuracy 0.3586912065439673       \n",
      "Epoch [53/100]  | Train: Loss 2.705033956293287, Accuracy 0.3444573482043079        | Test: Loss 2.639229945647411, Accuracy 0.3586912065439673        \n",
      "Epoch [54/100]  | Train: Loss 2.7054254169570666, Accuracy 0.3445449963845126       | Test: Loss 2.63263960985037, Accuracy 0.35848670756646217        \n",
      "Epoch [55/100]  | Train: Loss 2.6920273277346647, Accuracy 0.34802901154764776      | Test: Loss 2.6387205123901367, Accuracy 0.3647239263803681       \n",
      "Epoch [56/100]  | Train: Loss 2.693958844552493, Accuracy 0.3477660670070338        | Test: Loss 2.633437615174514, Accuracy 0.3591002044989775        \n",
      "Epoch [57/100]  | Train: Loss 2.6885683989391644, Accuracy 0.3492999101606153       | Test: Loss 2.6303638556064706, Accuracy 0.36400817995910023      \n",
      "Epoch [58/100]  | Train: Loss 2.687064811504087, Accuracy 0.34802901154764776       | Test: Loss 2.6258294582366943, Accuracy 0.36349693251533743      \n",
      "Epoch [59/100]  | Train: Loss 2.682854977399943, Accuracy 0.3495847667462804        | Test: Loss 2.624704984518198, Accuracy 0.36063394683026584       \n",
      "Epoch [60/100]  | Train: Loss 2.6791416466569102, Accuracy 0.35070228104388984      | Test: Loss 2.6150393119225135, Accuracy 0.36349693251533743      \n",
      "Epoch [61/100]  | Train: Loss 2.6748002347999447, Accuracy 0.3500449196923549       | Test: Loss 2.6218654803740673, Accuracy 0.36462167689161556      \n",
      "Epoch [62/100]  | Train: Loss 2.6740169605063326, Accuracy 0.34989153537699674      | Test: Loss 2.6419453559777675, Accuracy 0.36789366053169736      \n",
      "Epoch [63/100]  | Train: Loss 2.671546353974156, Accuracy 0.3521703880623179        | Test: Loss 2.6069174913259654, Accuracy 0.3661554192229039       \n",
      "Epoch [64/100]  | Train: Loss 2.660321685854949, Accuracy 0.35539145868483907       | Test: Loss 2.632406534292759, Accuracy 0.36779141104294477       \n",
      "Epoch [65/100]  | Train: Loss 2.658379791835167, Accuracy 0.35392335166641103       | Test: Loss 2.6253941242511454, Accuracy 0.36226993865030677      \n",
      "Epoch [66/100]  | Train: Loss 2.6581226540677374, Accuracy 0.3526524530534435       | Test: Loss 2.608390074509841, Accuracy 0.36881390593047036       \n",
      "Epoch [67/100]  | Train: Loss 2.6503111423726855, Accuracy 0.3559830839012205       | Test: Loss 2.608872340275691, Accuracy 0.36973415132924337       \n",
      "Epoch [68/100]  | Train: Loss 2.648615777159536, Accuracy 0.355917347766067         | Test: Loss 2.6179952927124805, Accuracy 0.36820040899795503      \n",
      "Epoch [69/100]  | Train: Loss 2.6495625586483067, Accuracy 0.35626794048688565      | Test: Loss 2.6018701700063853, Accuracy 0.3685071574642127       \n",
      "Epoch [70/100]  | Train: Loss 2.646911481239276, Accuracy 0.3551723382343274        | Test: Loss 2.615864417491815, Accuracy 0.3652351738241309        \n",
      "Epoch [71/100]  | Train: Loss 2.639407715983897, Accuracy 0.35725398251418805       | Test: Loss 2.60158196473733, Accuracy 0.37208588957055216        \n",
      "Epoch [72/100]  | Train: Loss 2.631994825501682, Accuracy 0.3584591449920021        | Test: Loss 2.5969211749541454, Accuracy 0.3716768916155419       \n",
      "Epoch [73/100]  | Train: Loss 2.6292787823597146, Accuracy 0.35911650634353703      | Test: Loss 2.606688175445948, Accuracy 0.37188139059304703       \n",
      "Epoch [74/100]  | Train: Loss 2.6252581913377986, Accuracy 0.3590069461182812       | Test: Loss 2.6023872326581907, Accuracy 0.3741308793456033       \n",
      "Epoch [75/100]  | Train: Loss 2.626506918635448, Accuracy 0.35786751977562065       | Test: Loss 2.615130650691497, Accuracy 0.37055214723926383       \n",
      "Epoch [76/100]  | Train: Loss 2.6252553702732704, Accuracy 0.3601682845059929       | Test: Loss 2.596399215551523, Accuracy 0.37290388548057257       \n",
      "Epoch [77/100]  | Train: Loss 2.6202633074542, Accuracy 0.36091329403773253         | Test: Loss 2.587401787439982, Accuracy 0.3685071574642127        \n",
      "Epoch [78/100]  | Train: Loss 2.612295216022257, Accuracy 0.36084755790257905       | Test: Loss 2.5982994544200406, Accuracy 0.37443762781186096      \n",
      "Epoch [79/100]  | Train: Loss 2.6128028890940063, Accuracy 0.36183359992988146      | Test: Loss 2.5942339713756857, Accuracy 0.37239263803680983      \n",
      "Epoch [80/100]  | Train: Loss 2.6045034464511128, Accuracy 0.36227184083090475      | Test: Loss 2.6026433675717087, Accuracy 0.37188139059304703      \n",
      "Epoch [81/100]  | Train: Loss 2.604377730598663, Accuracy 0.36073799767732323       | Test: Loss 2.586862032230084, Accuracy 0.36952965235173824       \n",
      "Epoch [82/100]  | Train: Loss 2.6038054660711873, Accuracy 0.36514231873260733      | Test: Loss 2.6020322273939085, Accuracy 0.3726993865030675       \n",
      "Epoch [83/100]  | Train: Loss 2.598827424662073, Accuracy 0.36349891535377          | Test: Loss 2.597154219945272, Accuracy 0.37116564417177916       \n",
      "Epoch [84/100]  | Train: Loss 2.5978569411698667, Accuracy 0.3630606744527467       | Test: Loss 2.589271502617078, Accuracy 0.3758691206543967        \n",
      "Epoch [85/100]  | Train: Loss 2.5902222614714554, Accuracy 0.36676381006639347      | Test: Loss 2.613066942263872, Accuracy 0.37433537832310837       \n",
      "Epoch [86/100]  | Train: Loss 2.5891370040744377, Accuracy 0.36698293051690517      | Test: Loss 2.5811380789830136, Accuracy 0.3768916155419223       \n",
      "Epoch [87/100]  | Train: Loss 2.588258981704712, Accuracy 0.36398098034489557       | Test: Loss 2.6019746217972193, Accuracy 0.3754601226993865       \n",
      "Epoch [88/100]  | Train: Loss 2.5818102199938044, Accuracy 0.36610644871485853      | Test: Loss 2.57846091955136, Accuracy 0.37525562372188137        \n",
      "Epoch [89/100]  | Train: Loss 2.581945291444576, Accuracy 0.36551482349847714       | Test: Loss 2.5720867621592984, Accuracy 0.37535787321063396      \n",
      "Epoch [90/100]  | Train: Loss 2.5749104449202895, Accuracy 0.36691719438175163      | Test: Loss 2.590005391683334, Accuracy 0.37648261758691204       \n",
      "Epoch [91/100]  | Train: Loss 2.5750079141648787, Accuracy 0.3703135613646822       | Test: Loss 2.5811110520974183, Accuracy 0.37719836400817996      \n",
      "Epoch [92/100]  | Train: Loss 2.5715228059438355, Accuracy 0.36810044481451454      | Test: Loss 2.582324621004936, Accuracy 0.37188139059304703       \n",
      "Epoch [93/100]  | Train: Loss 2.56644349391234, Accuracy 0.3663913053005237         | Test: Loss 2.583884832186577, Accuracy 0.3791411042944785        \n",
      "Epoch [94/100]  | Train: Loss 2.571176736714454, Accuracy 0.366435129390626         | Test: Loss 2.5863262445498734, Accuracy 0.3768916155419223       \n",
      "Epoch [95/100]  | Train: Loss 2.5633581696941867, Accuracy 0.3688673663913053       | Test: Loss 2.582805327880077, Accuracy 0.37525562372188137       \n",
      "Epoch [96/100]  | Train: Loss 2.5568927066952156, Accuracy 0.37162828406775206      | Test: Loss 2.5705629067543225, Accuracy 0.3750511247443763       \n",
      "Epoch [97/100]  | Train: Loss 2.5536500448621187, Accuracy 0.3712776913469334       | Test: Loss 2.5798440285218067, Accuracy 0.37975460122699384      \n",
      "Epoch [98/100]  | Train: Loss 2.5528546338640776, Accuracy 0.3707737143107566       | Test: Loss 2.5761487911909056, Accuracy 0.37934560327198363      \n",
      "Epoch [99/100]  | Train: Loss 2.5516385912229227, Accuracy 0.37386331266297085      | Test: Loss 2.6075977790050016, Accuracy 0.37842535787321063      \n",
      "Epoch [100/100] | Train: Loss 2.5479255295332583, Accuracy 0.37386331266297085      | Test: Loss 2.5825210901407094, Accuracy 0.37535787321063396      \n"
     ]
    },
    {
     "data": {
      "image/png": "[encoded data removed]",
      "text/plain": [
       "<Figure size 1500x500 with 2 Axes>"
      ]
     },
     "metadata": {},
     "output_type": "display_data"
    }
   ],
   "source": [
    "#Testing against the test dataset\n",
    "\n",
    "model = CATTransformer(alpha=best_params['alpha'],\n",
    "                           embed_size=best_params['embed_size'],\n",
    "                           n_cont=len(cont_columns),\n",
    "                           cat_feat=[],\n",
    "                           num_layers=best_params['num_layers'],\n",
    "                           heads=best_params['heads'],\n",
    "                           forward_expansion=best_params['forward_expansion'],\n",
    "                           decoder_dropout=best_params['decoder_dropout'],\n",
    "                           classification_dropout=best_params['classificiation_dropout'],\n",
    "                           pre_norm_on=best_params['pre_norm_on'],\n",
    "                           mlp_scale_classification=best_params['mlp_scale_classification'],\n",
    "                           regression_on=False,\n",
    "                           targets_classes=target_classes).to(device_in_use)\n",
    "loss_functions = nn.CrossEntropyLoss()\n",
    "optimizer = torch.optim.Adam(params=model.parameters(), lr = best_params['learning_rate']) # Maybe try messing around with optimizers. try other torch optimizers with different configurations.\n",
    "early_stopping = EarlyStopping(patience=5)\n",
    "epochs = 100 \n",
    "\n",
    "train_losses = []\n",
    "train_accuracies_1 = [] \n",
    "test_losses = []\n",
    "test_accuracies_1 = [] \n",
    "\n",
    "for t in range(epochs):\n",
    "    train_loss, train_acc = train(regression_on=False, \n",
    "                                   dataloader=train_dataloader, \n",
    "                                   model=model, \n",
    "                                   loss_function=loss_functions, \n",
    "                                   optimizer=optimizer, \n",
    "                                   device_in_use=device_in_use)\n",
    "    test_loss, test_acc = test(regression_on=False,\n",
    "                               dataloader=test_dataloader,\n",
    "                               model=model,\n",
    "                               loss_function=loss_functions,\n",
    "                               device_in_use=device_in_use)\n",
    "    train_losses.append(train_loss)\n",
    "    train_accuracies_1.append(train_acc)\n",
    "    test_losses.append(test_loss)\n",
    "    test_accuracies_1.append(test_acc)\n",
    "\n",
    "    epoch_str = f\"Epoch [{t+1:2}/{epochs}]\"\n",
    "    train_metrics = f\"Train: Loss {(train_loss)}, Accuracy {(train_acc)}\"\n",
    "    test_metrics = f\"Test: Loss {(test_loss)}, Accuracy {(test_acc)}\"\n",
    "    print(f\"{epoch_str:15} | {train_metrics:65} | {test_metrics:65}\")\n",
    "\n",
    "\n",
    "# Plotting the loss curves\n",
    "plt.figure(figsize=(15, 5))\n",
    "plt.subplot(1, 2, 1)\n",
    "plt.plot(range(1, epochs+1), train_losses, label='Train Loss')\n",
    "plt.plot(range(1, epochs+1), [l for l in test_losses], label='Test Loss')\n",
    "plt.xlabel('Epoch')\n",
    "plt.ylabel('Loss')\n",
    "plt.title('Training and Test Loss Curve')\n",
    "plt.legend()\n",
    "\n",
    "# Plotting the accuracy curves\n",
    "plt.subplot(1, 2, 2)\n",
    "plt.plot(range(1, epochs+1), train_accuracies_1, label='Train Accuracy')\n",
    "plt.plot(range(1, epochs+1), test_accuracies_1, label='Test Accuracy')\n",
    "plt.xlabel('Epoch')\n",
    "plt.ylabel('Accuracy')\n",
    "plt.title('Training and Test Accuracy Curve')\n",
    "plt.legend()\n",
    "\n",
    "best_index = test_accuracies_1.index(max(test_accuracies_1))\n",
    "print(f\"Best accuracy {test_accuracies_1[best_index]}\\n\",file=open(\"log_2pi.txt\", 'a'))\n"
   ]
  }
 ],
 "metadata": {
  "kernelspec": {
   "display_name": "ml-env",
   "language": "python",
   "name": "python3"
  },
  "language_info": {
   "codemirror_mode": {
    "name": "ipython",
    "version": 3
   },
   "file_extension": ".py",
   "mimetype": "text/x-python",
   "name": "python",
   "nbconvert_exporter": "python",
   "pygments_lexer": "ipython3",
   "version": "3.11.5"
  }
 },
 "nbformat": 4,
 "nbformat_minor": 2
}
