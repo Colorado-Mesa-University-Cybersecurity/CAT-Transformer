{
 "cells": [
  {
   "cell_type": "code",
   "execution_count": 1,
   "metadata": {},
   "outputs": [],
   "source": [
    "import pandas as pd\n",
    "import numpy as np\n",
    "from sklearn.preprocessing import LabelEncoder, StandardScaler\n",
    "from sklearn.model_selection import train_test_split\n",
    "from scipy.io import arff"
   ]
  },
  {
   "cell_type": "markdown",
   "metadata": {},
   "source": [
    "# MAKING TRAIN/TEST/VAL SPLIT\n",
    "**EXAMPLE WITH COVTYPE DATASET**\n",
    "1. Read in dataset\n",
    "1. Remove Nan's\n",
    "2. Label Encode non-numerical features\n",
    "3. Split\n",
    "4. Save datasets"
   ]
  },
  {
   "cell_type": "code",
   "execution_count": 2,
   "metadata": {},
   "outputs": [
    {
     "name": "stdout",
     "output_type": "stream",
     "text": [
      "45637\n",
      "9779\n",
      "9780\n"
     ]
    }
   ],
   "source": [
    "#reading in dataset\n",
    "df = arff.loadarff('../../datasets/helena/helena.arff')\n",
    "\n",
    "df = pd.DataFrame(df[0])\n",
    "\n",
    "df = df[~df.isin([np.nan, np.inf, -np.inf]).any(axis=1)]\n",
    "\n",
    "targets = [\n",
    "    'class'\n",
    "]\n",
    "\n",
    "# encode the labels of the targets and create decoding dict\n",
    "label_encoders = []\n",
    "encoded_to_labels = []\n",
    "for x in range(len(targets)):\n",
    "    label_encoders.append(LabelEncoder())\n",
    "    df[targets[x]] = label_encoders[x].fit_transform(df[targets[x]])\n",
    "    encoded_to_labels.append({encoded: label for label, encoded in zip(label_encoders[x].classes_, label_encoders[x].transform(label_encoders[x].classes_))})\n",
    "\n",
    "\n",
    "df_train, df_temp = train_test_split(df, train_size=.7, random_state=12)\n",
    "df_val, df_test = train_test_split(df_temp, train_size=.5, random_state=12)\n",
    "\n",
    "print(df_train.shape[0])\n",
    "print(df_val.shape[0])\n",
    "print(df_test.shape[0])"
   ]
  },
  {
   "cell_type": "code",
   "execution_count": 3,
   "metadata": {},
   "outputs": [
    {
     "data": {
      "text/plain": [
       "class\n",
       "76       2854\n",
       "51       2113\n",
       "35       2072\n",
       "33       1853\n",
       "32       1548\n",
       "         ... \n",
       "26         88\n",
       "29         85\n",
       "73         84\n",
       "28         79\n",
       "2          78\n",
       "Length: 100, dtype: int64"
      ]
     },
     "execution_count": 3,
     "metadata": {},
     "output_type": "execute_result"
    }
   ],
   "source": [
    "df_train[targets].value_counts()"
   ]
  },
  {
   "cell_type": "code",
   "execution_count": 4,
   "metadata": {},
   "outputs": [
    {
     "data": {
      "text/plain": [
       "class\n",
       "76       577\n",
       "51       493\n",
       "35       440\n",
       "33       385\n",
       "9        351\n",
       "        ... \n",
       "2         18\n",
       "26        18\n",
       "50        17\n",
       "90        14\n",
       "27        13\n",
       "Length: 100, dtype: int64"
      ]
     },
     "execution_count": 4,
     "metadata": {},
     "output_type": "execute_result"
    }
   ],
   "source": [
    "df_test[targets].value_counts()"
   ]
  },
  {
   "cell_type": "code",
   "execution_count": 5,
   "metadata": {},
   "outputs": [
    {
     "data": {
      "text/plain": [
       "class\n",
       "76       574\n",
       "35       480\n",
       "51       457\n",
       "33       385\n",
       "32       343\n",
       "        ... \n",
       "27        15\n",
       "2         15\n",
       "37        14\n",
       "26        13\n",
       "52         9\n",
       "Length: 100, dtype: int64"
      ]
     },
     "execution_count": 5,
     "metadata": {},
     "output_type": "execute_result"
    }
   ],
   "source": [
    "df_val[targets].value_counts()"
   ]
  },
  {
   "cell_type": "code",
   "execution_count": 6,
   "metadata": {},
   "outputs": [],
   "source": [
    "#save csvs in a dataset folder in your directory\n",
    "df_train.to_csv(r'C:\\Users\\smbm2\\projects\\CAT-Transformer\\datasets\\helena\\train.csv', index=False)\n",
    "df_val.to_csv(r'C:\\Users\\smbm2\\projects\\CAT-Transformer\\datasets\\helena\\validation.csv', index=False)\n",
    "df_test.to_csv(r'C:\\Users\\smbm2\\projects\\CAT-Transformer\\datasets\\helena\\test.csv', index=False)"
   ]
  }
 ],
 "metadata": {
  "kernelspec": {
   "display_name": "ml-env",
   "language": "python",
   "name": "python3"
  },
  "language_info": {
   "codemirror_mode": {
    "name": "ipython",
    "version": 3
   },
   "file_extension": ".py",
   "mimetype": "text/x-python",
   "name": "python",
   "nbconvert_exporter": "python",
   "pygments_lexer": "ipython3",
   "version": "3.11.4"
  }
 },
 "nbformat": 4,
 "nbformat_minor": 2
}
