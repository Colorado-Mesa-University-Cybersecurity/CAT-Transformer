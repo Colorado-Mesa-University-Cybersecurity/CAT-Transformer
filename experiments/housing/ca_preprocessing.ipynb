{
 "cells": [
  {
   "cell_type": "markdown",
   "metadata": {},
   "source": [
    "From reviewing other transformer based tabular learners, we seem to be missing out on a big advantage that comes from how we embed the data. "
   ]
  },
  {
   "cell_type": "code",
   "execution_count": 2,
   "metadata": {},
   "outputs": [],
   "source": [
    "import pandas as pd\n",
    "import numpy as np\n",
    "from sklearn.preprocessing import LabelEncoder, StandardScaler\n",
    "from sklearn.compose import ColumnTransformer\n",
    "from sklearn.model_selection import train_test_split"
   ]
  },
  {
   "cell_type": "code",
   "execution_count": 3,
   "metadata": {},
   "outputs": [
    {
     "data": {
      "text/plain": [
       "Index(['longitude', 'latitude', 'housing_median_age', 'total_rooms',\n",
       "       'total_bedrooms', 'population', 'households', 'median_income',\n",
       "       'median_house_value', 'ocean_proximity'],\n",
       "      dtype='object')"
      ]
     },
     "execution_count": 3,
     "metadata": {},
     "output_type": "execute_result"
    }
   ],
   "source": [
    "df = pd.read_csv('../../datasets/housing/housing.csv')\n",
    "df.columns"
   ]
  },
  {
   "cell_type": "code",
   "execution_count": 4,
   "metadata": {},
   "outputs": [],
   "source": [
    "df = df.dropna()"
   ]
  },
  {
   "cell_type": "code",
   "execution_count": 5,
   "metadata": {},
   "outputs": [
    {
     "data": {
      "text/plain": [
       "longitude             False\n",
       "latitude              False\n",
       "housing_median_age    False\n",
       "total_rooms           False\n",
       "total_bedrooms        False\n",
       "population            False\n",
       "households            False\n",
       "median_income         False\n",
       "median_house_value    False\n",
       "ocean_proximity       False\n",
       "dtype: bool"
      ]
     },
     "execution_count": 5,
     "metadata": {},
     "output_type": "execute_result"
    }
   ],
   "source": [
    "df.isna().any()"
   ]
  },
  {
   "cell_type": "markdown",
   "metadata": {},
   "source": [
    "ocean_proximity needs to be encoded"
   ]
  },
  {
   "cell_type": "code",
   "execution_count": 6,
   "metadata": {},
   "outputs": [],
   "source": [
    "le = LabelEncoder()\n",
    "df['ocean_proximity'] = le.fit_transform(df['ocean_proximity'])"
   ]
  },
  {
   "cell_type": "code",
   "execution_count": 7,
   "metadata": {},
   "outputs": [],
   "source": [
    "y = df['median_house_value']\n",
    "X = df.drop(['median_house_value'], axis=1)"
   ]
  },
  {
   "cell_type": "code",
   "execution_count": 8,
   "metadata": {},
   "outputs": [
    {
     "name": "stdout",
     "output_type": "stream",
     "text": [
      "['ocean_proximity']\n",
      "['longitude', 'latitude', 'housing_median_age', 'total_rooms', 'total_bedrooms', 'population', 'households', 'median_income']\n",
      "5\n"
     ]
    }
   ],
   "source": [
    "def categorize_columns(dataframe):\n",
    "    categorical_columns = []\n",
    "    continuous_columns = []\n",
    "\n",
    "    for column in dataframe.columns:\n",
    "        if dataframe[column].dtype == 'object' or len(dataframe[column].unique()) <= 10:\n",
    "            # If the column's data type is 'object' or it has 10 or fewer unique values, consider it categorical.\n",
    "            categorical_columns.append(column)\n",
    "        else:\n",
    "            # Otherwise, consider it continuous.\n",
    "            continuous_columns.append(column)\n",
    "\n",
    "    # Calculate the total number of unique classes across all categorical columns.\n",
    "    total_unique_classes = sum(dataframe[col].nunique() for col in categorical_columns)\n",
    "\n",
    "    return categorical_columns, continuous_columns, total_unique_classes\n",
    "\n",
    "\n",
    "cat_cols, cont_cols, total_unique = categorize_columns(X)\n",
    "print(cat_cols)\n",
    "print(cont_cols)\n",
    "print(total_unique)"
   ]
  },
  {
   "cell_type": "code",
   "execution_count": 23,
   "metadata": {},
   "outputs": [],
   "source": [
    "# First, let's split the data into training (60%) and temp (40%)\n",
    "X_train, X_temp, y_train, y_temp = train_test_split(X, y, test_size=0.4, random_state=42)\n",
    "\n",
    "# Next, we'll split temp into validation (20%) and test (20%)\n",
    "X_val, X_test, y_val, y_test = train_test_split(X_temp, y_temp, test_size=0.5, random_state=42)\n",
    "\n",
    "stand = StandardScaler()\n",
    "\n",
    "# transforms specific columns to standardize the continuous variables\n",
    "ct = ColumnTransformer(\n",
    "    transformers=[\n",
    "        ('stand', stand, cont_cols)  # ('name', transformer, columns)\n",
    "    ],\n",
    "    remainder='passthrough'  # Leave other columns unchanged\n",
    ")\n",
    "\n",
    "# stardardize train values\n",
    "ct.fit(X_train)\n",
    "df_train_scaled = ct.transform(X_train)\n",
    "df_val_scaled = ct.transform(X_val)\n",
    "df_test_scaled = ct.transform(X_test)\n",
    "\n",
    "df_train = pd.DataFrame(df_train_scaled, columns=X_train.columns)\n",
    "df_val = pd.DataFrame(df_val_scaled, columns=X_val.columns)\n",
    "df_test = pd.DataFrame(df_test_scaled, columns=X_test.columns)\n",
    "\n",
    "\n",
    "# stardardize target values\n",
    "def standardize_series(s):\n",
    "    mean = s.mean()\n",
    "    std_dev = s.std()\n",
    "    return ((s - mean) / std_dev), mean, std_dev\n",
    "\n",
    "\n",
    "y_train, train_mean, train_std = standardize_series(y_train)\n",
    "y_val, val_mean, val_std = standardize_series(y_val)\n",
    "y_test, test_mean, test_std = standardize_series(y_test)\n",
    "\n",
    "train_target=y_train.reset_index(drop=True)\n",
    "val_target=y_val.reset_index(drop=True)\n",
    "test_target=y_test.reset_index(drop=True)\n",
    "\n",
    "df_train['median_house_value'] = train_target\n",
    "df_val['median_house_value'] = val_target\n",
    "df_test['median_house_value'] = test_target"
   ]
  },
  {
   "cell_type": "code",
   "execution_count": 18,
   "metadata": {},
   "outputs": [
    {
     "data": {
      "text/html": [
       "<div>\n",
       "<style scoped>\n",
       "    .dataframe tbody tr th:only-of-type {\n",
       "        vertical-align: middle;\n",
       "    }\n",
       "\n",
       "    .dataframe tbody tr th {\n",
       "        vertical-align: top;\n",
       "    }\n",
       "\n",
       "    .dataframe thead th {\n",
       "        text-align: right;\n",
       "    }\n",
       "</style>\n",
       "<table border=\"1\" class=\"dataframe\">\n",
       "  <thead>\n",
       "    <tr style=\"text-align: right;\">\n",
       "      <th></th>\n",
       "      <th>longitude</th>\n",
       "      <th>latitude</th>\n",
       "      <th>housing_median_age</th>\n",
       "      <th>total_rooms</th>\n",
       "      <th>total_bedrooms</th>\n",
       "      <th>population</th>\n",
       "      <th>households</th>\n",
       "      <th>median_income</th>\n",
       "      <th>ocean_proximity</th>\n",
       "      <th>median_house_value</th>\n",
       "    </tr>\n",
       "  </thead>\n",
       "  <tbody>\n",
       "    <tr>\n",
       "      <th>0</th>\n",
       "      <td>1.261189</td>\n",
       "      <td>-0.764261</td>\n",
       "      <td>-0.358478</td>\n",
       "      <td>0.584211</td>\n",
       "      <td>0.643412</td>\n",
       "      <td>0.431828</td>\n",
       "      <td>0.688976</td>\n",
       "      <td>-0.627034</td>\n",
       "      <td>1.0</td>\n",
       "      <td>-0.786025</td>\n",
       "    </tr>\n",
       "    <tr>\n",
       "      <th>1</th>\n",
       "      <td>-0.906340</td>\n",
       "      <td>1.384381</td>\n",
       "      <td>0.355019</td>\n",
       "      <td>0.401362</td>\n",
       "      <td>0.681233</td>\n",
       "      <td>0.077837</td>\n",
       "      <td>0.741252</td>\n",
       "      <td>-0.993331</td>\n",
       "      <td>1.0</td>\n",
       "      <td>-0.764461</td>\n",
       "    </tr>\n",
       "    <tr>\n",
       "      <th>2</th>\n",
       "      <td>-1.425748</td>\n",
       "      <td>1.000528</td>\n",
       "      <td>1.861291</td>\n",
       "      <td>-0.415056</td>\n",
       "      <td>-0.361193</td>\n",
       "      <td>-0.698186</td>\n",
       "      <td>-0.372218</td>\n",
       "      <td>-0.104586</td>\n",
       "      <td>3.0</td>\n",
       "      <td>2.523613</td>\n",
       "    </tr>\n",
       "    <tr>\n",
       "      <th>3</th>\n",
       "      <td>0.581963</td>\n",
       "      <td>-0.689363</td>\n",
       "      <td>0.196464</td>\n",
       "      <td>0.115662</td>\n",
       "      <td>0.258117</td>\n",
       "      <td>0.173441</td>\n",
       "      <td>0.362254</td>\n",
       "      <td>-0.108109</td>\n",
       "      <td>0.0</td>\n",
       "      <td>1.104704</td>\n",
       "    </tr>\n",
       "    <tr>\n",
       "      <th>4</th>\n",
       "      <td>0.936559</td>\n",
       "      <td>-0.736174</td>\n",
       "      <td>0.037909</td>\n",
       "      <td>-0.620761</td>\n",
       "      <td>-0.599934</td>\n",
       "      <td>-0.179689</td>\n",
       "      <td>-0.476769</td>\n",
       "      <td>-0.674510</td>\n",
       "      <td>1.0</td>\n",
       "      <td>-0.630765</td>\n",
       "    </tr>\n",
       "    <tr>\n",
       "      <th>...</th>\n",
       "      <td>...</td>\n",
       "      <td>...</td>\n",
       "      <td>...</td>\n",
       "      <td>...</td>\n",
       "      <td>...</td>\n",
       "      <td>...</td>\n",
       "      <td>...</td>\n",
       "      <td>...</td>\n",
       "      <td>...</td>\n",
       "      <td>...</td>\n",
       "    </tr>\n",
       "    <tr>\n",
       "      <th>12254</th>\n",
       "      <td>0.806707</td>\n",
       "      <td>-0.904695</td>\n",
       "      <td>-0.358478</td>\n",
       "      <td>0.163202</td>\n",
       "      <td>-0.086995</td>\n",
       "      <td>0.010657</td>\n",
       "      <td>-0.118681</td>\n",
       "      <td>0.814126</td>\n",
       "      <td>0.0</td>\n",
       "      <td>0.569055</td>\n",
       "    </tr>\n",
       "    <tr>\n",
       "      <th>12255</th>\n",
       "      <td>1.021462</td>\n",
       "      <td>-0.885971</td>\n",
       "      <td>-1.864750</td>\n",
       "      <td>1.468283</td>\n",
       "      <td>1.177626</td>\n",
       "      <td>1.579069</td>\n",
       "      <td>1.313670</td>\n",
       "      <td>0.481794</td>\n",
       "      <td>0.0</td>\n",
       "      <td>-0.402187</td>\n",
       "    </tr>\n",
       "    <tr>\n",
       "      <th>12256</th>\n",
       "      <td>0.581963</td>\n",
       "      <td>-0.768942</td>\n",
       "      <td>1.068516</td>\n",
       "      <td>-0.475396</td>\n",
       "      <td>-0.396649</td>\n",
       "      <td>-0.407070</td>\n",
       "      <td>-0.356535</td>\n",
       "      <td>-0.410684</td>\n",
       "      <td>0.0</td>\n",
       "      <td>1.103841</td>\n",
       "    </tr>\n",
       "    <tr>\n",
       "      <th>12257</th>\n",
       "      <td>-1.225976</td>\n",
       "      <td>0.897543</td>\n",
       "      <td>-1.309808</td>\n",
       "      <td>1.410229</td>\n",
       "      <td>1.246175</td>\n",
       "      <td>1.732379</td>\n",
       "      <td>1.460041</td>\n",
       "      <td>0.740152</td>\n",
       "      <td>3.0</td>\n",
       "      <td>0.205055</td>\n",
       "    </tr>\n",
       "    <tr>\n",
       "      <th>12258</th>\n",
       "      <td>-1.420754</td>\n",
       "      <td>0.972441</td>\n",
       "      <td>1.861291</td>\n",
       "      <td>0.442503</td>\n",
       "      <td>0.475584</td>\n",
       "      <td>0.728113</td>\n",
       "      <td>0.388392</td>\n",
       "      <td>0.006980</td>\n",
       "      <td>3.0</td>\n",
       "      <td>0.382742</td>\n",
       "    </tr>\n",
       "  </tbody>\n",
       "</table>\n",
       "<p>12259 rows × 10 columns</p>\n",
       "</div>"
      ],
      "text/plain": [
       "       longitude  latitude  housing_median_age  total_rooms  total_bedrooms  \\\n",
       "0       1.261189 -0.764261           -0.358478     0.584211        0.643412   \n",
       "1      -0.906340  1.384381            0.355019     0.401362        0.681233   \n",
       "2      -1.425748  1.000528            1.861291    -0.415056       -0.361193   \n",
       "3       0.581963 -0.689363            0.196464     0.115662        0.258117   \n",
       "4       0.936559 -0.736174            0.037909    -0.620761       -0.599934   \n",
       "...          ...       ...                 ...          ...             ...   \n",
       "12254   0.806707 -0.904695           -0.358478     0.163202       -0.086995   \n",
       "12255   1.021462 -0.885971           -1.864750     1.468283        1.177626   \n",
       "12256   0.581963 -0.768942            1.068516    -0.475396       -0.396649   \n",
       "12257  -1.225976  0.897543           -1.309808     1.410229        1.246175   \n",
       "12258  -1.420754  0.972441            1.861291     0.442503        0.475584   \n",
       "\n",
       "       population  households  median_income  ocean_proximity  \\\n",
       "0        0.431828    0.688976      -0.627034              1.0   \n",
       "1        0.077837    0.741252      -0.993331              1.0   \n",
       "2       -0.698186   -0.372218      -0.104586              3.0   \n",
       "3        0.173441    0.362254      -0.108109              0.0   \n",
       "4       -0.179689   -0.476769      -0.674510              1.0   \n",
       "...           ...         ...            ...              ...   \n",
       "12254    0.010657   -0.118681       0.814126              0.0   \n",
       "12255    1.579069    1.313670       0.481794              0.0   \n",
       "12256   -0.407070   -0.356535      -0.410684              0.0   \n",
       "12257    1.732379    1.460041       0.740152              3.0   \n",
       "12258    0.728113    0.388392       0.006980              3.0   \n",
       "\n",
       "       median_house_value  \n",
       "0               -0.786025  \n",
       "1               -0.764461  \n",
       "2                2.523613  \n",
       "3                1.104704  \n",
       "4               -0.630765  \n",
       "...                   ...  \n",
       "12254            0.569055  \n",
       "12255           -0.402187  \n",
       "12256            1.103841  \n",
       "12257            0.205055  \n",
       "12258            0.382742  \n",
       "\n",
       "[12259 rows x 10 columns]"
      ]
     },
     "execution_count": 18,
     "metadata": {},
     "output_type": "execute_result"
    }
   ],
   "source": [
    "df_train"
   ]
  },
  {
   "cell_type": "code",
   "execution_count": 19,
   "metadata": {},
   "outputs": [],
   "source": [
    "#save csvs\n",
    "df_train.to_csv('../housing/data/train.csv', index=False)\n",
    "df_val.to_csv('../housing/data/validation.csv', index=False)\n",
    "df_test.to_csv('../housing/data/test.csv', index=False)"
   ]
  },
  {
   "cell_type": "code",
   "execution_count": 20,
   "metadata": {},
   "outputs": [],
   "source": [
    "def reverse_standardize_series(s, original_mean, original_std_dev):\n",
    "    return s * original_std_dev + original_mean\n"
   ]
  },
  {
   "cell_type": "code",
   "execution_count": 21,
   "metadata": {},
   "outputs": [
    {
     "name": "stdout",
     "output_type": "stream",
     "text": [
      "0\n"
     ]
    }
   ],
   "source": []
  },
  {
   "cell_type": "code",
   "execution_count": 24,
   "metadata": {},
   "outputs": [
    {
     "data": {
      "text/plain": [
       "312520.2780866431"
      ]
     },
     "execution_count": 24,
     "metadata": {},
     "output_type": "execute_result"
    }
   ],
   "source": [
    "reverse_standardize_series(.90649, train_mean, train_std)"
   ]
  },
  {
   "cell_type": "code",
   "execution_count": null,
   "metadata": {},
   "outputs": [],
   "source": []
  }
 ],
 "metadata": {
  "kernelspec": {
   "display_name": "DL",
   "language": "python",
   "name": "python3"
  },
  "language_info": {
   "codemirror_mode": {
    "name": "ipython",
    "version": 3
   },
   "file_extension": ".py",
   "mimetype": "text/x-python",
   "name": "python",
   "nbconvert_exporter": "python",
   "pygments_lexer": "ipython3",
   "version": "3.9.16"
  },
  "orig_nbformat": 4
 },
 "nbformat": 4,
 "nbformat_minor": 2
}
