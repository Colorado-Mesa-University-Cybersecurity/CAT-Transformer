{
 "cells": [
  {
   "cell_type": "markdown",
   "metadata": {},
   "source": [
    "From reviewing other transformer based tabular learners, we seem to be missing out on a big advantage that comes from how we embed the data. "
   ]
  },
  {
   "cell_type": "code",
   "execution_count": 54,
   "metadata": {},
   "outputs": [],
   "source": [
    "import pandas as pd\n",
    "import numpy as np\n",
    "from sklearn.preprocessing import LabelEncoder, StandardScaler\n",
    "from sklearn.compose import ColumnTransformer\n",
    "from sklearn.model_selection import train_test_split"
   ]
  },
  {
   "cell_type": "code",
   "execution_count": 55,
   "metadata": {},
   "outputs": [
    {
     "data": {
      "text/plain": [
       "Index(['longitude', 'latitude', 'housing_median_age', 'total_rooms',\n",
       "       'total_bedrooms', 'population', 'households', 'median_income',\n",
       "       'median_house_value', 'ocean_proximity'],\n",
       "      dtype='object')"
      ]
     },
     "execution_count": 55,
     "metadata": {},
     "output_type": "execute_result"
    }
   ],
   "source": [
    "df = pd.read_csv('../../datasets/housing/housing.csv')\n",
    "df.columns"
   ]
  },
  {
   "cell_type": "code",
   "execution_count": 56,
   "metadata": {},
   "outputs": [],
   "source": [
    "df = df.dropna()"
   ]
  },
  {
   "cell_type": "code",
   "execution_count": 57,
   "metadata": {},
   "outputs": [
    {
     "data": {
      "text/plain": [
       "longitude             False\n",
       "latitude              False\n",
       "housing_median_age    False\n",
       "total_rooms           False\n",
       "total_bedrooms        False\n",
       "population            False\n",
       "households            False\n",
       "median_income         False\n",
       "median_house_value    False\n",
       "ocean_proximity       False\n",
       "dtype: bool"
      ]
     },
     "execution_count": 57,
     "metadata": {},
     "output_type": "execute_result"
    }
   ],
   "source": [
    "df.isna().any()"
   ]
  },
  {
   "cell_type": "markdown",
   "metadata": {},
   "source": [
    "ocean_proximity needs to be encoded"
   ]
  },
  {
   "cell_type": "code",
   "execution_count": 58,
   "metadata": {},
   "outputs": [],
   "source": [
    "le = LabelEncoder()\n",
    "df['ocean_proximity'] = le.fit_transform(df['ocean_proximity'])"
   ]
  },
  {
   "cell_type": "code",
   "execution_count": 59,
   "metadata": {},
   "outputs": [],
   "source": [
    "y = df['median_house_value']\n",
    "X = df.drop(['median_house_value'], axis=1)"
   ]
  },
  {
   "cell_type": "code",
   "execution_count": 60,
   "metadata": {},
   "outputs": [
    {
     "name": "stdout",
     "output_type": "stream",
     "text": [
      "['ocean_proximity']\n",
      "['longitude', 'latitude', 'housing_median_age', 'total_rooms', 'total_bedrooms', 'population', 'households', 'median_income']\n",
      "5\n"
     ]
    }
   ],
   "source": [
    "def categorize_columns(dataframe):\n",
    "    categorical_columns = []\n",
    "    continuous_columns = []\n",
    "\n",
    "    for column in dataframe.columns:\n",
    "        if dataframe[column].dtype == 'object' or len(dataframe[column].unique()) <= 10:\n",
    "            # If the column's data type is 'object' or it has 10 or fewer unique values, consider it categorical.\n",
    "            categorical_columns.append(column)\n",
    "        else:\n",
    "            # Otherwise, consider it continuous.\n",
    "            continuous_columns.append(column)\n",
    "\n",
    "    # Calculate the total number of unique classes across all categorical columns.\n",
    "    total_unique_classes = sum(dataframe[col].nunique() for col in categorical_columns)\n",
    "\n",
    "    return categorical_columns, continuous_columns, total_unique_classes\n",
    "\n",
    "\n",
    "cat_cols, cont_cols, total_unique = categorize_columns(X)\n",
    "print(cat_cols)\n",
    "print(cont_cols)\n",
    "print(total_unique)"
   ]
  },
  {
   "cell_type": "code",
   "execution_count": 61,
   "metadata": {},
   "outputs": [],
   "source": [
    "# First, let's split the data into training (60%) and temp (40%)\n",
    "X_train, X_temp, y_train, y_temp = train_test_split(X, y, test_size=0.4, random_state=42)\n",
    "\n",
    "# Next, we'll split temp into validation (20%) and test (20%)\n",
    "X_val, X_test, y_val, y_test = train_test_split(X_temp, y_temp, test_size=0.5, random_state=42)\n",
    "\n",
    "stand = StandardScaler()\n",
    "\n",
    "# The transformers argument specifies which columns to apply the scaler to\n",
    "# and which columns to leave unchanged\n",
    "ct = ColumnTransformer(\n",
    "    transformers=[\n",
    "        ('stand', stand, cont_cols)  # ('name', transformer, columns)\n",
    "    ],\n",
    "    remainder='passthrough'  # Leave other columns unchanged\n",
    ")\n",
    "\n",
    "# Fit and transform the training data\n",
    "df_train_scaled = ct.fit_transform(X_train)\n",
    "\n",
    "\n",
    "ct.fit(X_train)\n",
    "df_train_scaled = ct.transform(X_train)\n",
    "df_val_scaled = ct.transform(X_val)\n",
    "df_test_scaled = ct.transform(X_test)\n",
    "\n",
    "df_train = pd.DataFrame(df_train_scaled, columns=X_train.columns)\n",
    "df_val = pd.DataFrame(df_val_scaled, columns=X_val.columns)\n",
    "df_test = pd.DataFrame(df_test_scaled, columns=X_test.columns)\n",
    "\n",
    "train_target=y_train.reset_index(drop=True)\n",
    "val_target=y_val.reset_index(drop=True)\n",
    "test_target=y_test.reset_index(drop=True)\n",
    "\n",
    "df_train['median_house_value'] = train_target\n",
    "df_val['median_house_value'] = val_target\n",
    "df_test['median_house_value'] = test_target"
   ]
  },
  {
   "cell_type": "code",
   "execution_count": 62,
   "metadata": {},
   "outputs": [
    {
     "data": {
      "text/html": [
       "<div>\n",
       "<style scoped>\n",
       "    .dataframe tbody tr th:only-of-type {\n",
       "        vertical-align: middle;\n",
       "    }\n",
       "\n",
       "    .dataframe tbody tr th {\n",
       "        vertical-align: top;\n",
       "    }\n",
       "\n",
       "    .dataframe thead th {\n",
       "        text-align: right;\n",
       "    }\n",
       "</style>\n",
       "<table border=\"1\" class=\"dataframe\">\n",
       "  <thead>\n",
       "    <tr style=\"text-align: right;\">\n",
       "      <th></th>\n",
       "      <th>longitude</th>\n",
       "      <th>latitude</th>\n",
       "      <th>housing_median_age</th>\n",
       "      <th>total_rooms</th>\n",
       "      <th>total_bedrooms</th>\n",
       "      <th>population</th>\n",
       "      <th>households</th>\n",
       "      <th>median_income</th>\n",
       "      <th>ocean_proximity</th>\n",
       "    </tr>\n",
       "  </thead>\n",
       "  <tbody>\n",
       "    <tr>\n",
       "      <th>13778</th>\n",
       "      <td>-117.06</td>\n",
       "      <td>34.02</td>\n",
       "      <td>24.0</td>\n",
       "      <td>3912.0</td>\n",
       "      <td>809.0</td>\n",
       "      <td>1926.0</td>\n",
       "      <td>762.0</td>\n",
       "      <td>2.6875</td>\n",
       "      <td>1</td>\n",
       "    </tr>\n",
       "    <tr>\n",
       "      <th>12764</th>\n",
       "      <td>-121.40</td>\n",
       "      <td>38.61</td>\n",
       "      <td>33.0</td>\n",
       "      <td>3512.0</td>\n",
       "      <td>825.0</td>\n",
       "      <td>1515.0</td>\n",
       "      <td>782.0</td>\n",
       "      <td>1.9908</td>\n",
       "      <td>1</td>\n",
       "    </tr>\n",
       "    <tr>\n",
       "      <th>15712</th>\n",
       "      <td>-122.44</td>\n",
       "      <td>37.79</td>\n",
       "      <td>52.0</td>\n",
       "      <td>1726.0</td>\n",
       "      <td>384.0</td>\n",
       "      <td>614.0</td>\n",
       "      <td>356.0</td>\n",
       "      <td>3.6812</td>\n",
       "      <td>3</td>\n",
       "    </tr>\n",
       "    <tr>\n",
       "      <th>3725</th>\n",
       "      <td>-118.42</td>\n",
       "      <td>34.18</td>\n",
       "      <td>31.0</td>\n",
       "      <td>2887.0</td>\n",
       "      <td>646.0</td>\n",
       "      <td>1626.0</td>\n",
       "      <td>637.0</td>\n",
       "      <td>3.6745</td>\n",
       "      <td>0</td>\n",
       "    </tr>\n",
       "    <tr>\n",
       "      <th>13189</th>\n",
       "      <td>-117.71</td>\n",
       "      <td>34.08</td>\n",
       "      <td>29.0</td>\n",
       "      <td>1276.0</td>\n",
       "      <td>283.0</td>\n",
       "      <td>1216.0</td>\n",
       "      <td>316.0</td>\n",
       "      <td>2.5972</td>\n",
       "      <td>1</td>\n",
       "    </tr>\n",
       "    <tr>\n",
       "      <th>...</th>\n",
       "      <td>...</td>\n",
       "      <td>...</td>\n",
       "      <td>...</td>\n",
       "      <td>...</td>\n",
       "      <td>...</td>\n",
       "      <td>...</td>\n",
       "      <td>...</td>\n",
       "      <td>...</td>\n",
       "      <td>...</td>\n",
       "    </tr>\n",
       "    <tr>\n",
       "      <th>11397</th>\n",
       "      <td>-117.97</td>\n",
       "      <td>33.72</td>\n",
       "      <td>24.0</td>\n",
       "      <td>2991.0</td>\n",
       "      <td>500.0</td>\n",
       "      <td>1437.0</td>\n",
       "      <td>453.0</td>\n",
       "      <td>5.4286</td>\n",
       "      <td>0</td>\n",
       "    </tr>\n",
       "    <tr>\n",
       "      <th>12081</th>\n",
       "      <td>-117.54</td>\n",
       "      <td>33.76</td>\n",
       "      <td>5.0</td>\n",
       "      <td>5846.0</td>\n",
       "      <td>1035.0</td>\n",
       "      <td>3258.0</td>\n",
       "      <td>1001.0</td>\n",
       "      <td>4.7965</td>\n",
       "      <td>0</td>\n",
       "    </tr>\n",
       "    <tr>\n",
       "      <th>5447</th>\n",
       "      <td>-118.42</td>\n",
       "      <td>34.01</td>\n",
       "      <td>42.0</td>\n",
       "      <td>1594.0</td>\n",
       "      <td>369.0</td>\n",
       "      <td>952.0</td>\n",
       "      <td>362.0</td>\n",
       "      <td>3.0990</td>\n",
       "      <td>0</td>\n",
       "    </tr>\n",
       "    <tr>\n",
       "      <th>866</th>\n",
       "      <td>-122.04</td>\n",
       "      <td>37.57</td>\n",
       "      <td>12.0</td>\n",
       "      <td>5719.0</td>\n",
       "      <td>1064.0</td>\n",
       "      <td>3436.0</td>\n",
       "      <td>1057.0</td>\n",
       "      <td>5.2879</td>\n",
       "      <td>3</td>\n",
       "    </tr>\n",
       "    <tr>\n",
       "      <th>15948</th>\n",
       "      <td>-122.43</td>\n",
       "      <td>37.73</td>\n",
       "      <td>52.0</td>\n",
       "      <td>3602.0</td>\n",
       "      <td>738.0</td>\n",
       "      <td>2270.0</td>\n",
       "      <td>647.0</td>\n",
       "      <td>3.8934</td>\n",
       "      <td>3</td>\n",
       "    </tr>\n",
       "  </tbody>\n",
       "</table>\n",
       "<p>12259 rows × 9 columns</p>\n",
       "</div>"
      ],
      "text/plain": [
       "       longitude  latitude  housing_median_age  total_rooms  total_bedrooms  \\\n",
       "13778    -117.06     34.02                24.0       3912.0           809.0   \n",
       "12764    -121.40     38.61                33.0       3512.0           825.0   \n",
       "15712    -122.44     37.79                52.0       1726.0           384.0   \n",
       "3725     -118.42     34.18                31.0       2887.0           646.0   \n",
       "13189    -117.71     34.08                29.0       1276.0           283.0   \n",
       "...          ...       ...                 ...          ...             ...   \n",
       "11397    -117.97     33.72                24.0       2991.0           500.0   \n",
       "12081    -117.54     33.76                 5.0       5846.0          1035.0   \n",
       "5447     -118.42     34.01                42.0       1594.0           369.0   \n",
       "866      -122.04     37.57                12.0       5719.0          1064.0   \n",
       "15948    -122.43     37.73                52.0       3602.0           738.0   \n",
       "\n",
       "       population  households  median_income  ocean_proximity  \n",
       "13778      1926.0       762.0         2.6875                1  \n",
       "12764      1515.0       782.0         1.9908                1  \n",
       "15712       614.0       356.0         3.6812                3  \n",
       "3725       1626.0       637.0         3.6745                0  \n",
       "13189      1216.0       316.0         2.5972                1  \n",
       "...           ...         ...            ...              ...  \n",
       "11397      1437.0       453.0         5.4286                0  \n",
       "12081      3258.0      1001.0         4.7965                0  \n",
       "5447        952.0       362.0         3.0990                0  \n",
       "866        3436.0      1057.0         5.2879                3  \n",
       "15948      2270.0       647.0         3.8934                3  \n",
       "\n",
       "[12259 rows x 9 columns]"
      ]
     },
     "execution_count": 62,
     "metadata": {},
     "output_type": "execute_result"
    }
   ],
   "source": [
    "X_train"
   ]
  },
  {
   "cell_type": "code",
   "execution_count": 63,
   "metadata": {},
   "outputs": [],
   "source": [
    "#save csvs\n",
    "df_train.to_csv('../housing/data/train.csv', index=False)\n",
    "df_val.to_csv('../housing/data/validation.csv', index=False)\n",
    "df_test.to_csv('../housing/data/test.csv', index=False)"
   ]
  },
  {
   "cell_type": "code",
   "execution_count": null,
   "metadata": {},
   "outputs": [],
   "source": []
  }
 ],
 "metadata": {
  "kernelspec": {
   "display_name": "DL",
   "language": "python",
   "name": "python3"
  },
  "language_info": {
   "codemirror_mode": {
    "name": "ipython",
    "version": 3
   },
   "file_extension": ".py",
   "mimetype": "text/x-python",
   "name": "python",
   "nbconvert_exporter": "python",
   "pygments_lexer": "ipython3",
   "version": "3.9.16"
  },
  "orig_nbformat": 4
 },
 "nbformat": 4,
 "nbformat_minor": 2
}
