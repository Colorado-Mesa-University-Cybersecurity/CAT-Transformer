{
 "cells": [
  {
   "cell_type": "code",
   "execution_count": 1,
   "metadata": {},
   "outputs": [
    {
     "name": "stderr",
     "output_type": "stream",
     "text": [
      "/home/cscadmin/miniconda3/envs/torch-env/lib/python3.11/site-packages/tqdm/auto.py:21: TqdmWarning: IProgress not found. Please update jupyter and ipywidgets. See https://ipywidgets.readthedocs.io/en/stable/user_install.html\n",
      "  from .autonotebook import tqdm as notebook_tqdm\n"
     ]
    }
   ],
   "source": [
    "import torch\n",
    "import torch.nn as nn\n",
    "import pandas as pd\n",
    "import numpy as np\n",
    "from torch.utils.data import Dataset, DataLoader\n",
    "import matplotlib.pyplot as plt\n",
    "from rff.layers import GaussianEncoding #pip install random-fourier-features-pytorch\n",
    "from sklearn.model_selection import train_test_split\n",
    "from sklearn.metrics import accuracy_score, f1_score, recall_score, confusion_matrix\n",
    "from sklearn.preprocessing import StandardScaler, LabelEncoder\n",
    "import os\n",
    "import optuna\n",
    "from optuna.trial import TrialState"
   ]
  },
  {
   "cell_type": "code",
   "execution_count": 2,
   "metadata": {},
   "outputs": [
    {
     "name": "stdout",
     "output_type": "stream",
     "text": [
      "GPU is available and being used\n"
     ]
    }
   ],
   "source": [
    "# Run regardless if you do or do not have GPU so all tensors are moved to right location later on\n",
    "if torch.cuda.is_available():\n",
    "    device_in_use = torch.device(\"cuda\")\n",
    "    print(\"GPU is available and being used\")\n",
    "else:\n",
    "    device_in_use = torch.device(\"cpu\")\n",
    "    print(\"GPU is not available, using CPU instead\")"
   ]
  },
  {
   "cell_type": "markdown",
   "metadata": {},
   "source": [
    "# LOAD AND PROCESS DATA\n",
    "**EXAMPLE WITH COVTYPE DATASET**\n",
    "1. Standardize or perform quantile transformations to numerical/continuous features.\n",
    "1. Wrap with Dataset and Dataloader."
   ]
  },
  {
   "cell_type": "code",
   "execution_count": 4,
   "metadata": {},
   "outputs": [
    {
     "data": {
      "text/html": [
       "<div>\n",
       "<style scoped>\n",
       "    .dataframe tbody tr th:only-of-type {\n",
       "        vertical-align: middle;\n",
       "    }\n",
       "\n",
       "    .dataframe tbody tr th {\n",
       "        vertical-align: top;\n",
       "    }\n",
       "\n",
       "    .dataframe thead th {\n",
       "        text-align: right;\n",
       "    }\n",
       "</style>\n",
       "<table border=\"1\" class=\"dataframe\">\n",
       "  <thead>\n",
       "    <tr style=\"text-align: right;\">\n",
       "      <th></th>\n",
       "      <th>Elevation</th>\n",
       "      <th>Aspect</th>\n",
       "      <th>Slope</th>\n",
       "      <th>Horizontal_Distance_To_Hydrology</th>\n",
       "      <th>Vertical_Distance_To_Hydrology</th>\n",
       "      <th>Horizontal_Distance_To_Roadways</th>\n",
       "      <th>Hillshade_9am</th>\n",
       "      <th>Hillshade_Noon</th>\n",
       "      <th>Hillshade_3pm</th>\n",
       "      <th>Horizontal_Distance_To_Fire_Points</th>\n",
       "      <th>...</th>\n",
       "      <th>Soil_Type32</th>\n",
       "      <th>Soil_Type33</th>\n",
       "      <th>Soil_Type34</th>\n",
       "      <th>Soil_Type35</th>\n",
       "      <th>Soil_Type36</th>\n",
       "      <th>Soil_Type37</th>\n",
       "      <th>Soil_Type38</th>\n",
       "      <th>Soil_Type39</th>\n",
       "      <th>Soil_Type40</th>\n",
       "      <th>Cover_Type</th>\n",
       "    </tr>\n",
       "  </thead>\n",
       "  <tbody>\n",
       "    <tr>\n",
       "      <th>0</th>\n",
       "      <td>2909</td>\n",
       "      <td>275</td>\n",
       "      <td>13</td>\n",
       "      <td>30</td>\n",
       "      <td>9</td>\n",
       "      <td>1932</td>\n",
       "      <td>185</td>\n",
       "      <td>243</td>\n",
       "      <td>197</td>\n",
       "      <td>1150</td>\n",
       "      <td>...</td>\n",
       "      <td>0</td>\n",
       "      <td>1</td>\n",
       "      <td>0</td>\n",
       "      <td>0</td>\n",
       "      <td>0</td>\n",
       "      <td>0</td>\n",
       "      <td>0</td>\n",
       "      <td>0</td>\n",
       "      <td>0</td>\n",
       "      <td>1</td>\n",
       "    </tr>\n",
       "    <tr>\n",
       "      <th>1</th>\n",
       "      <td>3185</td>\n",
       "      <td>285</td>\n",
       "      <td>19</td>\n",
       "      <td>210</td>\n",
       "      <td>75</td>\n",
       "      <td>153</td>\n",
       "      <td>163</td>\n",
       "      <td>236</td>\n",
       "      <td>211</td>\n",
       "      <td>571</td>\n",
       "      <td>...</td>\n",
       "      <td>0</td>\n",
       "      <td>0</td>\n",
       "      <td>0</td>\n",
       "      <td>0</td>\n",
       "      <td>0</td>\n",
       "      <td>0</td>\n",
       "      <td>0</td>\n",
       "      <td>0</td>\n",
       "      <td>0</td>\n",
       "      <td>0</td>\n",
       "    </tr>\n",
       "    <tr>\n",
       "      <th>2</th>\n",
       "      <td>2606</td>\n",
       "      <td>324</td>\n",
       "      <td>29</td>\n",
       "      <td>446</td>\n",
       "      <td>222</td>\n",
       "      <td>641</td>\n",
       "      <td>135</td>\n",
       "      <td>196</td>\n",
       "      <td>193</td>\n",
       "      <td>1082</td>\n",
       "      <td>...</td>\n",
       "      <td>0</td>\n",
       "      <td>0</td>\n",
       "      <td>0</td>\n",
       "      <td>0</td>\n",
       "      <td>0</td>\n",
       "      <td>0</td>\n",
       "      <td>0</td>\n",
       "      <td>0</td>\n",
       "      <td>0</td>\n",
       "      <td>1</td>\n",
       "    </tr>\n",
       "    <tr>\n",
       "      <th>3</th>\n",
       "      <td>2629</td>\n",
       "      <td>338</td>\n",
       "      <td>18</td>\n",
       "      <td>150</td>\n",
       "      <td>56</td>\n",
       "      <td>1214</td>\n",
       "      <td>177</td>\n",
       "      <td>211</td>\n",
       "      <td>171</td>\n",
       "      <td>832</td>\n",
       "      <td>...</td>\n",
       "      <td>0</td>\n",
       "      <td>0</td>\n",
       "      <td>0</td>\n",
       "      <td>0</td>\n",
       "      <td>0</td>\n",
       "      <td>0</td>\n",
       "      <td>0</td>\n",
       "      <td>0</td>\n",
       "      <td>0</td>\n",
       "      <td>1</td>\n",
       "    </tr>\n",
       "    <tr>\n",
       "      <th>4</th>\n",
       "      <td>2868</td>\n",
       "      <td>6</td>\n",
       "      <td>10</td>\n",
       "      <td>309</td>\n",
       "      <td>31</td>\n",
       "      <td>1048</td>\n",
       "      <td>208</td>\n",
       "      <td>222</td>\n",
       "      <td>150</td>\n",
       "      <td>2733</td>\n",
       "      <td>...</td>\n",
       "      <td>1</td>\n",
       "      <td>0</td>\n",
       "      <td>0</td>\n",
       "      <td>0</td>\n",
       "      <td>0</td>\n",
       "      <td>0</td>\n",
       "      <td>0</td>\n",
       "      <td>0</td>\n",
       "      <td>0</td>\n",
       "      <td>0</td>\n",
       "    </tr>\n",
       "    <tr>\n",
       "      <th>...</th>\n",
       "      <td>...</td>\n",
       "      <td>...</td>\n",
       "      <td>...</td>\n",
       "      <td>...</td>\n",
       "      <td>...</td>\n",
       "      <td>...</td>\n",
       "      <td>...</td>\n",
       "      <td>...</td>\n",
       "      <td>...</td>\n",
       "      <td>...</td>\n",
       "      <td>...</td>\n",
       "      <td>...</td>\n",
       "      <td>...</td>\n",
       "      <td>...</td>\n",
       "      <td>...</td>\n",
       "      <td>...</td>\n",
       "      <td>...</td>\n",
       "      <td>...</td>\n",
       "      <td>...</td>\n",
       "      <td>...</td>\n",
       "      <td>...</td>\n",
       "    </tr>\n",
       "    <tr>\n",
       "      <th>371842</th>\n",
       "      <td>3182</td>\n",
       "      <td>70</td>\n",
       "      <td>13</td>\n",
       "      <td>362</td>\n",
       "      <td>40</td>\n",
       "      <td>2992</td>\n",
       "      <td>234</td>\n",
       "      <td>214</td>\n",
       "      <td>109</td>\n",
       "      <td>4336</td>\n",
       "      <td>...</td>\n",
       "      <td>0</td>\n",
       "      <td>0</td>\n",
       "      <td>0</td>\n",
       "      <td>0</td>\n",
       "      <td>0</td>\n",
       "      <td>0</td>\n",
       "      <td>0</td>\n",
       "      <td>0</td>\n",
       "      <td>0</td>\n",
       "      <td>0</td>\n",
       "    </tr>\n",
       "    <tr>\n",
       "      <th>371843</th>\n",
       "      <td>3172</td>\n",
       "      <td>156</td>\n",
       "      <td>29</td>\n",
       "      <td>716</td>\n",
       "      <td>291</td>\n",
       "      <td>1154</td>\n",
       "      <td>237</td>\n",
       "      <td>228</td>\n",
       "      <td>98</td>\n",
       "      <td>2837</td>\n",
       "      <td>...</td>\n",
       "      <td>0</td>\n",
       "      <td>0</td>\n",
       "      <td>0</td>\n",
       "      <td>0</td>\n",
       "      <td>0</td>\n",
       "      <td>0</td>\n",
       "      <td>0</td>\n",
       "      <td>0</td>\n",
       "      <td>0</td>\n",
       "      <td>0</td>\n",
       "    </tr>\n",
       "    <tr>\n",
       "      <th>371844</th>\n",
       "      <td>3153</td>\n",
       "      <td>287</td>\n",
       "      <td>17</td>\n",
       "      <td>335</td>\n",
       "      <td>41</td>\n",
       "      <td>1298</td>\n",
       "      <td>171</td>\n",
       "      <td>237</td>\n",
       "      <td>205</td>\n",
       "      <td>2045</td>\n",
       "      <td>...</td>\n",
       "      <td>1</td>\n",
       "      <td>0</td>\n",
       "      <td>0</td>\n",
       "      <td>0</td>\n",
       "      <td>0</td>\n",
       "      <td>0</td>\n",
       "      <td>0</td>\n",
       "      <td>0</td>\n",
       "      <td>0</td>\n",
       "      <td>0</td>\n",
       "    </tr>\n",
       "    <tr>\n",
       "      <th>371845</th>\n",
       "      <td>3065</td>\n",
       "      <td>348</td>\n",
       "      <td>21</td>\n",
       "      <td>124</td>\n",
       "      <td>19</td>\n",
       "      <td>4725</td>\n",
       "      <td>177</td>\n",
       "      <td>202</td>\n",
       "      <td>159</td>\n",
       "      <td>624</td>\n",
       "      <td>...</td>\n",
       "      <td>0</td>\n",
       "      <td>0</td>\n",
       "      <td>0</td>\n",
       "      <td>0</td>\n",
       "      <td>0</td>\n",
       "      <td>0</td>\n",
       "      <td>0</td>\n",
       "      <td>0</td>\n",
       "      <td>0</td>\n",
       "      <td>1</td>\n",
       "    </tr>\n",
       "    <tr>\n",
       "      <th>371846</th>\n",
       "      <td>3021</td>\n",
       "      <td>26</td>\n",
       "      <td>16</td>\n",
       "      <td>60</td>\n",
       "      <td>7</td>\n",
       "      <td>3961</td>\n",
       "      <td>211</td>\n",
       "      <td>204</td>\n",
       "      <td>125</td>\n",
       "      <td>2496</td>\n",
       "      <td>...</td>\n",
       "      <td>0</td>\n",
       "      <td>0</td>\n",
       "      <td>0</td>\n",
       "      <td>0</td>\n",
       "      <td>0</td>\n",
       "      <td>0</td>\n",
       "      <td>0</td>\n",
       "      <td>0</td>\n",
       "      <td>0</td>\n",
       "      <td>0</td>\n",
       "    </tr>\n",
       "  </tbody>\n",
       "</table>\n",
       "<p>371847 rows × 55 columns</p>\n",
       "</div>"
      ],
      "text/plain": [
       "        Elevation  Aspect  Slope  Horizontal_Distance_To_Hydrology  \\\n",
       "0            2909     275     13                                30   \n",
       "1            3185     285     19                               210   \n",
       "2            2606     324     29                               446   \n",
       "3            2629     338     18                               150   \n",
       "4            2868       6     10                               309   \n",
       "...           ...     ...    ...                               ...   \n",
       "371842       3182      70     13                               362   \n",
       "371843       3172     156     29                               716   \n",
       "371844       3153     287     17                               335   \n",
       "371845       3065     348     21                               124   \n",
       "371846       3021      26     16                                60   \n",
       "\n",
       "        Vertical_Distance_To_Hydrology  Horizontal_Distance_To_Roadways  \\\n",
       "0                                    9                             1932   \n",
       "1                                   75                              153   \n",
       "2                                  222                              641   \n",
       "3                                   56                             1214   \n",
       "4                                   31                             1048   \n",
       "...                                ...                              ...   \n",
       "371842                              40                             2992   \n",
       "371843                             291                             1154   \n",
       "371844                              41                             1298   \n",
       "371845                              19                             4725   \n",
       "371846                               7                             3961   \n",
       "\n",
       "        Hillshade_9am  Hillshade_Noon  Hillshade_3pm  \\\n",
       "0                 185             243            197   \n",
       "1                 163             236            211   \n",
       "2                 135             196            193   \n",
       "3                 177             211            171   \n",
       "4                 208             222            150   \n",
       "...               ...             ...            ...   \n",
       "371842            234             214            109   \n",
       "371843            237             228             98   \n",
       "371844            171             237            205   \n",
       "371845            177             202            159   \n",
       "371846            211             204            125   \n",
       "\n",
       "        Horizontal_Distance_To_Fire_Points  ...  Soil_Type32  Soil_Type33  \\\n",
       "0                                     1150  ...            0            1   \n",
       "1                                      571  ...            0            0   \n",
       "2                                     1082  ...            0            0   \n",
       "3                                      832  ...            0            0   \n",
       "4                                     2733  ...            1            0   \n",
       "...                                    ...  ...          ...          ...   \n",
       "371842                                4336  ...            0            0   \n",
       "371843                                2837  ...            0            0   \n",
       "371844                                2045  ...            1            0   \n",
       "371845                                 624  ...            0            0   \n",
       "371846                                2496  ...            0            0   \n",
       "\n",
       "        Soil_Type34  Soil_Type35  Soil_Type36  Soil_Type37  Soil_Type38  \\\n",
       "0                 0            0            0            0            0   \n",
       "1                 0            0            0            0            0   \n",
       "2                 0            0            0            0            0   \n",
       "3                 0            0            0            0            0   \n",
       "4                 0            0            0            0            0   \n",
       "...             ...          ...          ...          ...          ...   \n",
       "371842            0            0            0            0            0   \n",
       "371843            0            0            0            0            0   \n",
       "371844            0            0            0            0            0   \n",
       "371845            0            0            0            0            0   \n",
       "371846            0            0            0            0            0   \n",
       "\n",
       "        Soil_Type39  Soil_Type40  Cover_Type  \n",
       "0                 0            0           1  \n",
       "1                 0            0           0  \n",
       "2                 0            0           1  \n",
       "3                 0            0           1  \n",
       "4                 0            0           0  \n",
       "...             ...          ...         ...  \n",
       "371842            0            0           0  \n",
       "371843            0            0           0  \n",
       "371844            0            0           0  \n",
       "371845            0            0           1  \n",
       "371846            0            0           0  \n",
       "\n",
       "[371847 rows x 55 columns]"
      ]
     },
     "execution_count": 4,
     "metadata": {},
     "output_type": "execute_result"
    }
   ],
   "source": [
    "df_train = pd.read_csv('/home/cscadmin/CyberResearch/CAT-Transformer/datasets/covertype/train.csv')\n",
    "df_test = pd.read_csv('/home/cscadmin/CyberResearch/CAT-Transformer/datasets/covertype/test.csv')\n",
    "df_val = pd.read_csv('/home/cscadmin/CyberResearch/CAT-Transformer/datasets/covertype/validation.csv') #READ FROM RIGHT SPOT\n",
    "\n",
    "# df_train = pd.read_csv(r'C:\\Users\\smbm2\\projects\\CAT-Transformer\\datasets\\covertype\\train.csv')\n",
    "# df_test = pd.read_csv(r'C:\\Users\\smbm2\\projects\\CAT-Transformer\\datasets\\covertype\\test.csv')\n",
    "# df_val = pd.read_csv(r'C:\\Users\\smbm2\\projects\\CAT-Transformer\\datasets\\covertype\\validation.csv') #READ FROM RIGHT SPOT\n",
    "\n",
    "#Take a look at what the datasets look like initially to get an idea\n",
    "df_train"
   ]
  },
  {
   "cell_type": "code",
   "execution_count": 5,
   "metadata": {},
   "outputs": [
    {
     "data": {
      "text/plain": [
       "Index(['Elevation', 'Aspect', 'Slope', 'Horizontal_Distance_To_Hydrology',\n",
       "       'Vertical_Distance_To_Hydrology', 'Horizontal_Distance_To_Roadways',\n",
       "       'Hillshade_9am', 'Hillshade_Noon', 'Hillshade_3pm',\n",
       "       'Horizontal_Distance_To_Fire_Points', 'Wilderness_Area1',\n",
       "       'Wilderness_Area2', 'Wilderness_Area3', 'Wilderness_Area4',\n",
       "       'Soil_Type1', 'Soil_Type2', 'Soil_Type3', 'Soil_Type4', 'Soil_Type5',\n",
       "       'Soil_Type6', 'Soil_Type7', 'Soil_Type8', 'Soil_Type9', 'Soil_Type10',\n",
       "       'Soil_Type11', 'Soil_Type12', 'Soil_Type13', 'Soil_Type14',\n",
       "       'Soil_Type15', 'Soil_Type16', 'Soil_Type17', 'Soil_Type18',\n",
       "       'Soil_Type19', 'Soil_Type20', 'Soil_Type21', 'Soil_Type22',\n",
       "       'Soil_Type23', 'Soil_Type24', 'Soil_Type25', 'Soil_Type26',\n",
       "       'Soil_Type27', 'Soil_Type28', 'Soil_Type29', 'Soil_Type30',\n",
       "       'Soil_Type31', 'Soil_Type32', 'Soil_Type33', 'Soil_Type34',\n",
       "       'Soil_Type35', 'Soil_Type36', 'Soil_Type37', 'Soil_Type38',\n",
       "       'Soil_Type39', 'Soil_Type40', 'Cover_Type'],\n",
       "      dtype='object')"
      ]
     },
     "execution_count": 5,
     "metadata": {},
     "output_type": "execute_result"
    }
   ],
   "source": [
    "#Take a look at the feature names\n",
    "df_train.columns"
   ]
  },
  {
   "cell_type": "code",
   "execution_count": 6,
   "metadata": {},
   "outputs": [],
   "source": [
    "cont_columns = ['Elevation', 'Aspect', 'Slope', 'Horizontal_Distance_To_Hydrology',\n",
    "       'Vertical_Distance_To_Hydrology', 'Horizontal_Distance_To_Roadways',\n",
    "       'Hillshade_9am', 'Hillshade_Noon', 'Hillshade_3pm',\n",
    "       'Horizontal_Distance_To_Fire_Points', 'Wilderness_Area1',\n",
    "       'Wilderness_Area2', 'Wilderness_Area3', 'Wilderness_Area4',\n",
    "       'Soil_Type1', 'Soil_Type2', 'Soil_Type3', 'Soil_Type4', 'Soil_Type5',\n",
    "       'Soil_Type6', 'Soil_Type7', 'Soil_Type8', 'Soil_Type9', 'Soil_Type10',\n",
    "       'Soil_Type11', 'Soil_Type12', 'Soil_Type13', 'Soil_Type14',\n",
    "       'Soil_Type15', 'Soil_Type16', 'Soil_Type17', 'Soil_Type18',\n",
    "       'Soil_Type19', 'Soil_Type20', 'Soil_Type21', 'Soil_Type22',\n",
    "       'Soil_Type23', 'Soil_Type24', 'Soil_Type25', 'Soil_Type26',\n",
    "       'Soil_Type27', 'Soil_Type28', 'Soil_Type29', 'Soil_Type30',\n",
    "       'Soil_Type31', 'Soil_Type32', 'Soil_Type33', 'Soil_Type34',\n",
    "       'Soil_Type35', 'Soil_Type36', 'Soil_Type37', 'Soil_Type38',\n",
    "       'Soil_Type39', 'Soil_Type40']\n",
    "target = ['Cover_Type']\n",
    "\n",
    "#CHECKING TO MAKE SURE YOUR LIST IS CORRECT (NO NEED TO TOUCH)\n",
    "yourlist = cont_columns + target\n",
    "yourlist.sort()\n",
    "oglist = list(df_train.columns)\n",
    "oglist.sort()\n",
    "\n",
    "assert(yourlist == oglist), \"You may of spelled feature name wrong or you forgot to put on of them in the list\""
   ]
  },
  {
   "cell_type": "code",
   "execution_count": 7,
   "metadata": {},
   "outputs": [
    {
     "data": {
      "text/plain": [
       "[7]"
      ]
     },
     "execution_count": 7,
     "metadata": {},
     "output_type": "execute_result"
    }
   ],
   "source": [
    "#Getting the number of classes in your classification target\n",
    "target_classes = [max(len(df_train[target].value_counts()), len(df_val[target].value_counts()),len(df_test[target].value_counts()))]\n",
    "target_classes"
   ]
  },
  {
   "cell_type": "code",
   "execution_count": 8,
   "metadata": {},
   "outputs": [],
   "source": [
    "# Create a StandardScaler and fit it to the cont features\n",
    "scaler = StandardScaler()\n",
    "scaler.fit(df_train[cont_columns])\n",
    "\n",
    "# Transform the training, test, and validation datasets\n",
    "df_train[cont_columns] = scaler.transform(df_train[cont_columns])\n",
    "df_test[cont_columns] = scaler.transform(df_test[cont_columns])\n",
    "df_val[cont_columns] = scaler.transform(df_val[cont_columns])"
   ]
  },
  {
   "cell_type": "code",
   "execution_count": 9,
   "metadata": {},
   "outputs": [],
   "source": [
    "class SingleTaskDataset(Dataset):\n",
    "    def __init__(self, df : pd.DataFrame, num_columns,task1_column):\n",
    "        self.n = df.shape[0]\n",
    "        \n",
    "        self.task1_labels = df[task1_column].astype(np.int64).values\n",
    "\n",
    "        self.num = df[num_columns].astype(np.float32).values\n",
    "\n",
    "\n",
    "    def __len__(self):\n",
    "        return self.n\n",
    "    \n",
    "    def __getitem__(self, idx):\n",
    "        # Retrieve features and labels from the dataframe using column names\n",
    "        num_features = self.num[idx]\n",
    "        labels_task1 = self.task1_labels[idx]\n",
    "\n",
    "        return num_features, labels_task1\n",
    "\n",
    "#Wrapping in Dataset\n",
    "train_dataset = SingleTaskDataset(df_train, cont_columns, 'Cover_Type')\n",
    "val_dataset = SingleTaskDataset(df_val, cont_columns, 'Cover_Type')\n",
    "test_dataset = SingleTaskDataset(df_test, cont_columns, 'Cover_Type')\n",
    "\n",
    "#This is a hyperparameter that is not tuned. Maybe mess with what makes sense here\n",
    "#Also try looking to see what other papers have done\n",
    "batch_size = 256\n",
    "\n",
    "# Wrapping with DataLoader for easy batch extraction\n",
    "train_dataloader = DataLoader(train_dataset, batch_size=batch_size, shuffle=True)\n",
    "val_dataloader = DataLoader(val_dataset, batch_size=batch_size, shuffle=True)\n",
    "test_dataloader = DataLoader(test_dataset, batch_size=batch_size, shuffle=True)"
   ]
  },
  {
   "cell_type": "markdown",
   "metadata": {},
   "source": [
    "# MODEL AND HELPERS\n",
    "\n",
    "1. All you should have to do is interact with Classifier()"
   ]
  },
  {
   "cell_type": "code",
   "execution_count": 10,
   "metadata": {},
   "outputs": [],
   "source": [
    "# each task loss is scaled by its own learnable parameter, then regularization is applied \n",
    "class UncertaintyLoss(nn.Module):\n",
    "    def __init__(self, num_tasks):\n",
    "        super(UncertaintyLoss, self).__init__()\n",
    "        self.num_tasks = num_tasks\n",
    "\n",
    "        self.loss_fns = [nn.CrossEntropyLoss() for x in range(num_tasks)] \n",
    "\n",
    "    def forward(self, predictions, labels_task1):\n",
    "\n",
    "        #task 1\n",
    "        target = labels_task1\n",
    "        prediction = predictions[0]\n",
    "        loss_fn = self.loss_fns[0]\n",
    "        task_loss = loss_fn(prediction, target)\n",
    "        \n",
    "        return task_loss\n",
    "    \n",
    "#All layers of the model\n",
    "class MultiHeadAttention(nn.Module):\n",
    "    def __init__(self, embed_size, heads):\n",
    "        super(MultiHeadAttention, self).__init__()\n",
    "\n",
    "        self.embed_size = embed_size\n",
    "        self.heads = heads\n",
    "        self.head_dim = embed_size // heads\n",
    "        assert(self.head_dim * heads == embed_size), \"Embed size needs to be div by heads\"\n",
    "        self.values = nn.Linear(self.head_dim, self.head_dim, bias=False)\n",
    "        self.keys =nn.Linear(self.head_dim, self.head_dim, bias=False)\n",
    "        self.queries = nn.Linear(self.head_dim, self.head_dim, bias=False)\n",
    "        self.fc_out = nn.Linear(heads*self.head_dim, embed_size)\n",
    "\n",
    "\n",
    "    def forward(self, values, keys, query):\n",
    "        N = query.shape[0]\n",
    "        value_len, key_len, query_len = values.shape[1], keys.shape[1], query.shape[1]\n",
    "\n",
    "        values = values.reshape(N, value_len, self.heads, self.head_dim)\n",
    "        keys = keys.reshape(N, key_len, self.heads, self.head_dim)\n",
    "        queries = query.reshape(N, query_len, self.heads, self.head_dim)\n",
    "\n",
    "        values = self.values(values)\n",
    "        keys = self.keys(keys)\n",
    "        queries = self.queries(queries)\n",
    "\n",
    "        energy = torch.einsum(\"nqhd,nkhd->nhqk\", [queries, keys])\n",
    "\n",
    "        attention = torch.softmax(energy / (self.embed_size ** (1/2)), dim=3) #(batch_size, head_dim, #query_embeddings, #key_embeddings)\n",
    "\n",
    "        # Calculate simplified attention scores\n",
    "        avg_attention = attention.mean(dim=0)  # Average across batches\n",
    "        # print(\"batch average\", avg_attention.shape)\n",
    "        avg_attention = avg_attention.mean(dim=0).squeeze(dim=0)\n",
    "        # print(\"head average\", avg_attention.shape)\n",
    "\n",
    "        out = torch.einsum(\"nhql,nlhd->nqhd\", [attention, values]).reshape(N, query_len, self.heads*self.head_dim) #(batch_size, n_features, embed_size)\n",
    "        out = self.fc_out(out)\n",
    "\n",
    "        return out, avg_attention\n",
    "    \n",
    "class TransformerBlock(nn.Module):\n",
    "    def __init__(self, embed_size, heads, dropout, forward_expansion, pre_norm_on):\n",
    "        super(TransformerBlock, self).__init__()\n",
    "\n",
    "        self.pre_norm_on = pre_norm_on\n",
    "        if self.pre_norm_on:\n",
    "            self.pre_norm = nn.LayerNorm(embed_size)\n",
    "        self.attention = MultiHeadAttention(embed_size, heads)\n",
    "        self.norm1 = nn.LayerNorm(embed_size)\n",
    "        self.norm2 = nn.LayerNorm(embed_size)\n",
    "\n",
    "        self.feed_forward = nn.Sequential(nn.Linear(embed_size, forward_expansion*embed_size),\n",
    "                                          nn.ReLU(),\n",
    "                                          nn.Linear(forward_expansion*embed_size, embed_size)\n",
    "                                          )\n",
    "        self.dropout = nn.Dropout(dropout)\n",
    "\n",
    "    def forward(self,value,key,query):\n",
    "        if self.pre_norm_on:\n",
    "            query = self.pre_norm(query)\n",
    "            key = self.pre_norm(key)\n",
    "            value = self.pre_norm(value)\n",
    "            \n",
    "        attention, avg_attention = self.attention(value, key, query)\n",
    "        x = self.dropout(self.norm1(attention + query))\n",
    "        forward = self.feed_forward(x)\n",
    "        out = self.dropout(self.norm2(forward + x))\n",
    "        return out, avg_attention\n",
    "    \n",
    "class DecoderBlock(nn.Module):\n",
    "    def __init__(self, embed_size, heads, forward_expansion, dropout, pre_norm_on):\n",
    "        super(DecoderBlock, self).__init__()\n",
    "\n",
    "        self.attention = MultiHeadAttention(embed_size, heads)\n",
    "        self.norm = nn.LayerNorm(embed_size)\n",
    "        self.transformer_block = TransformerBlock(embed_size, heads, dropout, forward_expansion, pre_norm_on)\n",
    "        self.dropout = nn.Dropout(dropout)\n",
    "\n",
    "    def forward(self, x, value, key):\n",
    "        out, avg_attention = self.transformer_block(value, key, x)\n",
    "\n",
    "        return out, avg_attention\n",
    "\n",
    "class Decoder(nn.Module):\n",
    "    def __init__(self,\n",
    "                 embed_size,\n",
    "                 num_layers,\n",
    "                 heads,\n",
    "                 forward_expansion,\n",
    "                 decoder_dropout,\n",
    "                 pre_norm_on\n",
    "    ):\n",
    "        super(Decoder, self).__init__()\n",
    "\n",
    "        self.layers = nn.ModuleList(\n",
    "                [\n",
    "                    DecoderBlock(\n",
    "                        embed_size,\n",
    "                        heads,\n",
    "                        dropout=decoder_dropout,\n",
    "                        forward_expansion=forward_expansion,\n",
    "                        pre_norm_on=pre_norm_on\n",
    "                    )\n",
    "                    for _ in range(num_layers)\n",
    "                ]\n",
    "            )\n",
    "        self.avg_attention = None\n",
    "\n",
    "    def forward(self, class_embed, context):\n",
    "        for layer in self.layers:\n",
    "            # x is the classification embedding (CLS Token)\n",
    "            # context are the feature embeddings that will be used as key and value\n",
    "            x, self.avg_attention = layer(class_embed, context, context)\n",
    "  \n",
    "        return x \n",
    "\n",
    "class Embeddings(nn.Module):\n",
    "    def __init__(self, sigma, embed_size, input_size, embedding_dropout, n_features, num_target_labels, rff_on):\n",
    "        super(Embeddings, self).__init__()\n",
    "\n",
    "        self.rff_on = rff_on\n",
    "\n",
    "        if self.rff_on:\n",
    "            self.rffs = nn.ModuleList([GaussianEncoding(sigma=sigma, input_size=input_size, encoded_size=embed_size//2) for _ in range(n_features)])\n",
    "            self.dropout = nn.Dropout(embedding_dropout)\n",
    "            self.mlp_in = embed_size\n",
    "        else:\n",
    "            self.mlp_in = input_size\n",
    "\n",
    "        self.embeddings = nn.ModuleList([nn.Linear(in_features=self.mlp_in, out_features=embed_size) for _ in range(n_features)])\n",
    "\n",
    "        # Classifcation Embeddings for each target label\n",
    "        self.target_label_embeddings = nn.ModuleList([nn.Embedding(1, embed_size) for _ in range(num_target_labels)])\n",
    "\n",
    "\n",
    "    def forward(self, x):\n",
    "        x = x.unsqueeze(2) #(batch_size, n_features) -> (batch_size, n_features, 1)\n",
    "        rff_vectors = []\n",
    "        if self.rff_on:\n",
    "            for i, r in enumerate(self.rffs):\n",
    "                input = x[:,i,:]\n",
    "                out = r(input)\n",
    "                rff_vectors.append(out)\n",
    "        \n",
    "            x = torch.stack(rff_vectors, dim=1)\n",
    "        \n",
    "        embeddings = []\n",
    "        for i, e in enumerate(self.embeddings):\n",
    "            goin_in = x[:,i,:]\n",
    "            goin_out = e(goin_in)\n",
    "            embeddings.append(goin_out)\n",
    "\n",
    "        target_label_embeddings_ = []\n",
    "        for e in self.target_label_embeddings:\n",
    "            input = torch.tensor([0], device=x.device)\n",
    "            temp = e(input)\n",
    "            temp = temp.repeat(x.size(0), 1)\n",
    "            tmep = temp.unsqueeze(1)\n",
    "            target_label_embeddings_.append(temp)\n",
    "\n",
    "        class_embeddings = torch.stack(target_label_embeddings_, dim=1)\n",
    "\n",
    "        context = torch.stack(embeddings, dim=1)\n",
    "\n",
    "        return class_embeddings, context\n",
    "\n",
    "class classificationHead(nn.Module):\n",
    "    def __init__(self, embed_size, dropout, mlp_scale_classification, num_target_classes):\n",
    "        super(classificationHead, self).__init__()\n",
    "        \n",
    "        #flattening the embeddings out so each sample in batch is represented with a 460 dimensional vector\n",
    "        self.input = embed_size\n",
    "        self.lin1 = nn.Linear(self.input, mlp_scale_classification*self.input)\n",
    "        self.drop = nn.Dropout(dropout)\n",
    "        self.lin2 = nn.Linear(mlp_scale_classification*self.input, mlp_scale_classification*self.input)\n",
    "        self.lin3 = nn.Linear(mlp_scale_classification*self.input, self.input)\n",
    "        self.lin4 = nn.Linear(self.input, num_target_classes)\n",
    "        self.relu = nn.ReLU()\n",
    "        self.initialize_weights()\n",
    "\n",
    "    def initialize_weights(self): #he_initialization.\n",
    "        torch.nn.init.kaiming_normal_(self.lin1.weight, nonlinearity='relu')\n",
    "        torch.nn.init.zeros_(self.lin1.bias)\n",
    "\n",
    "        torch.nn.init.kaiming_normal_(self.lin3.weight, nonlinearity='relu')\n",
    "        torch.nn.init.zeros_(self.lin3.bias)\n",
    "\n",
    "    def forward(self, x):\n",
    "\n",
    "        x= torch.reshape(x, (-1, self.input))\n",
    "\n",
    "        x = self.lin1(x)\n",
    "        x = self.relu(x)\n",
    "        x = self.drop(x)\n",
    "        x = self.lin2(x)\n",
    "        x = self.relu(x)\n",
    "        x = self.drop(x)\n",
    "        x = self.lin3(x)\n",
    "        x = self.relu(x)\n",
    "        x = self.drop(x)\n",
    "        x = self.lin4(x)\n",
    "  \n",
    "        return x\n",
    "\n",
    "\n",
    "# DEFAULT PARAMETERS SET UP FOR VPN DATASET. BE CAREFUL AND MAKE SURE YOU SET THEM UP HOW YOU WANT.\n",
    "class Classifier(nn.Module):\n",
    "    def __init__(self, \n",
    "                 rff_on = False,\n",
    "                 sigma=4,\n",
    "                 embed_size=20,\n",
    "                 input_size=1,\n",
    "                 embedding_dropout = 0,\n",
    "                 n_features=23, # YOU WILL PROBABLY NEED TO CHANGE\n",
    "                 num_layers=1,\n",
    "                 heads=1,\n",
    "                 forward_expansion=4, # Determines how wide the MLP is in the encoder. Its a scaling factor. \n",
    "                 decoder_dropout=0,\n",
    "                 classification_dropout = 0,\n",
    "                 pre_norm_on = False,\n",
    "                 mlp_scale_classification = 4,\n",
    "                 targets_classes : list=  [3,8]\n",
    "                 ):\n",
    "        super(Classifier, self).__init__()\n",
    "\n",
    "        self.embeddings = Embeddings(rff_on=rff_on, sigma=sigma, embed_size=embed_size, input_size=input_size, embedding_dropout=embedding_dropout, n_features=n_features, num_target_labels=len(targets_classes))\n",
    "        self.decoder = Decoder(embed_size=embed_size, num_layers=num_layers, heads=heads, forward_expansion=forward_expansion, decoder_dropout=decoder_dropout, pre_norm_on=pre_norm_on)\n",
    "        self.classifying_heads = nn.ModuleList([classificationHead(embed_size=embed_size, dropout=classification_dropout, mlp_scale_classification=mlp_scale_classification, num_target_classes=x) for x in targets_classes])\n",
    "        \n",
    "    def forward(self, x):\n",
    "        class_embed, context = self.embeddings(x)\n",
    "\n",
    "        x = self.decoder(class_embed, context)\n",
    "        \n",
    "        probability_dist_raw = []\n",
    "        for i, e in enumerate(self.classifying_heads):\n",
    "            input = x[:, i,:]\n",
    "            output = e(input)\n",
    "            probability_dist_raw.append(output)\n",
    "        \n",
    "        return probability_dist_raw\n",
    "\n",
    "# Training and Testing Loops\n",
    "def train(dataloader, model, loss_function, optimizer, device_in_use):\n",
    "    model.train()\n",
    "\n",
    "    total_loss = 0\n",
    "\n",
    "    total_correct_1 = 0\n",
    "    total_samples_1 = 0\n",
    "    all_targets_1 = []\n",
    "    all_predictions_1 = []\n",
    "\n",
    "    total_correct_2 = 0\n",
    "    total_samples_2 = 0\n",
    "    all_targets_2 = []\n",
    "    all_predictions_2 = []\n",
    "\n",
    "    for (features,labels_task1) in dataloader:\n",
    "        features,labels_task1 = features.to(device_in_use),labels_task1.to(device_in_use)\n",
    "\n",
    "\n",
    "        task_predictions = model(features) #contains a list of the tensor outputs for each task\n",
    "\n",
    "        loss = loss_function(task_predictions, labels_task1)\n",
    "        total_loss += loss.item()\n",
    "\n",
    "        #computing accuracy for first target\n",
    "        y_pred_softmax_1 = torch.softmax(task_predictions[0], dim=1)\n",
    "        _, y_pred_labels_1 = torch.max(y_pred_softmax_1, dim=1)\n",
    "        total_correct_1 += (y_pred_labels_1 == labels_task1).sum().item()\n",
    "        total_samples_1 += labels_task1.size(0)\n",
    "        all_targets_1.extend(labels_task1.cpu().numpy())\n",
    "        all_predictions_1.extend(y_pred_labels_1.cpu().numpy())\n",
    "\n",
    "        loss.backward()\n",
    "        optimizer.step()\n",
    "        optimizer.zero_grad()\n",
    "\n",
    "    avg_loss = total_loss/len(dataloader)\n",
    "    accuracy_1 = total_correct_1 / total_samples_1\n",
    "    # accuracy_2 = total_correct_2 / total_samples_2\n",
    "\n",
    "    # # precision = precision_score(all_targets, all_predictions, average='weighted')\n",
    "    # recall = recall_score(all_targets, all_predictions, average='weighted')\n",
    "    # f1 = f1_score(all_targets, all_predictions, average='weighted')\n",
    "\n",
    "    return avg_loss, accuracy_1\n",
    "\n",
    "def test(dataloader, model, loss_function, device_in_use):\n",
    "  model.eval()\n",
    "  total_loss = 0\n",
    "  \n",
    "  total_correct_1 = 0\n",
    "  total_samples_1 = 0\n",
    "  all_targets_1 = []\n",
    "  all_predictions_1 = []\n",
    "\n",
    "  total_correct_2 = 0\n",
    "  total_samples_2 = 0\n",
    "  all_targets_2 = []\n",
    "  all_predictions_2 = []\n",
    "\n",
    "  with torch.no_grad():\n",
    "    for (features,labels_task1) in dataloader:\n",
    "      features,labels_task1 = features.to(device_in_use),labels_task1.to(device_in_use)\n",
    "\n",
    "      #compute prediction error\n",
    "      task_predictions = model(features) #contains a list of the tensor outputs for each task\n",
    "\n",
    "      loss = loss_function(task_predictions, labels_task1)\n",
    "      total_loss += loss.item()\n",
    "\n",
    "      #computing accuracy for first target\n",
    "      y_pred_softmax_1 = torch.softmax(task_predictions[0], dim=1)\n",
    "      _, y_pred_labels_1 = torch.max(y_pred_softmax_1, dim=1)\n",
    "      total_correct_1 += (y_pred_labels_1 == labels_task1).sum().item()\n",
    "      total_samples_1 += labels_task1.size(0)\n",
    "      all_targets_1.extend(labels_task1.cpu().numpy())\n",
    "      all_predictions_1.extend(y_pred_labels_1.cpu().numpy())\n",
    "\n",
    "  avg = total_loss/len(dataloader)\n",
    "  accuracy_1 = total_correct_1 / total_samples_1\n",
    "  # accuracy_2 = total_correct_2 / total_samples_2\n",
    "  # recall = recall_score(all_targets, all_predictions, average='weighted')\n",
    "  f1_1 = f1_score(all_targets_1, all_predictions_1, average='weighted')\n",
    "  # f1_2 = f1_score(all_targets_2, all_predictions_2, average=\"weighted\")\n",
    "\n",
    "  return avg, accuracy_1, all_predictions_1, all_targets_1, f1_1\n",
    "\n",
    "def format_metric(value): # Used to format the metrics output\n",
    "    return f\"{value:.4f}\""
   ]
  },
  {
   "cell_type": "markdown",
   "metadata": {},
   "source": [
    "# RUN EXPERIMENTS\n",
    "\n",
    "1. Using Optuna to optimize CAT-Transformers hyperparameters for your dataset"
   ]
  },
  {
   "cell_type": "code",
   "execution_count": 11,
   "metadata": {},
   "outputs": [],
   "source": [
    "# Define the early stopping mechanism\n",
    "class EarlyStopping:\n",
    "    def __init__(self, patience=5):\n",
    "        self.patience = patience\n",
    "        self.counter = 0\n",
    "        self.best_metric = float('-inf')\n",
    "        self.early_stop = False\n",
    "\n",
    "    def __call__(self, metric):\n",
    "        if metric > self.best_metric:\n",
    "            self.best_metric = metric\n",
    "            self.counter = 0\n",
    "        else:\n",
    "            self.counter += 1\n",
    "            if self.counter >= self.patience:\n",
    "                self.early_stop = True\n",
    "\n",
    "# Function to log results to a text file\n",
    "def log_to_file(filename, text):\n",
    "    with open(filename, 'a') as f:\n",
    "        f.write(text + '\\n')\n",
    "\n",
    "def objective(trial):\n",
    "    trial_number = trial.number\n",
    "\n",
    "    # Define hyperparameters to search over\n",
    "    sigma = trial.suggest_categorical('sigma', [.001, 0.1, 1, 2, 3, 5, 10])\n",
    "    num_layers = trial.suggest_int('num_layers', 1, 2)\n",
    "    # Ensure that embed_size is divisible by num_layers\n",
    "    embed_size = trial.suggest_categorical(\"embed_size\", [50, 60, 70, 80, 90, 100, 120, 140, 160])\n",
    "    heads = trial.suggest_categorical(\"heads\", [1, 5, 10])\n",
    "    forward_expansion = trial.suggest_int('forward_expansion', 1, 8)\n",
    "    prenorm_on = trial.suggest_categorical('prenorm_on', [True, False])\n",
    "    mlp_scale_classification = trial.suggest_int('mlp_scale_classification', 1, 8)\n",
    "    embedding_dropout = trial.suggest_categorical('embedding_dropout', [0, .1, .2, .5])\n",
    "    decoder_dropout = trial.suggest_categorical('decoder_dropout', [0,.1,.2,.5])\n",
    "    classification_dropout = trial.suggest_categorical('class_drop', [0,.1,.2,.5])\n",
    "\n",
    "    learning_rate = trial.suggest_categorical('learning_rate', [0.0001, 0.001, 0.01])\n",
    "\n",
    "    num_epochs = 75\n",
    "\n",
    "\n",
    "    # Create your model with the sampled hyperparameters\n",
    "    model = Classifier(\n",
    "        n_features=len(cont_columns),\n",
    "        targets_classes=target_classes,\n",
    "        rff_on=True,\n",
    "        sigma=sigma,\n",
    "        embed_size=embed_size,\n",
    "        num_layers=num_layers,\n",
    "        heads=heads,\n",
    "        forward_expansion=forward_expansion,\n",
    "        pre_norm_on=prenorm_on,\n",
    "        mlp_scale_classification=mlp_scale_classification,\n",
    "        embedding_dropout=embedding_dropout,\n",
    "        decoder_dropout=decoder_dropout,\n",
    "        classification_dropout=classification_dropout\n",
    "    ).to(device_in_use)\n",
    "\n",
    "    # Define loss function and optimizer\n",
    "    loss_function = UncertaintyLoss(1)\n",
    "    optimizer = torch.optim.Adam(model.parameters(), lr=learning_rate)\n",
    "\n",
    "    # Initialize early stopping\n",
    "    early_stopping = EarlyStopping(patience=3)  # Adjust patience as needed\n",
    "\n",
    "    # Training loop with a large number of epochs\n",
    "    for epoch in range(num_epochs):\n",
    "        train_loss, train_accuracy = train(train_dataloader, model, loss_function, optimizer, device_in_use)\n",
    "        \n",
    "        # Validation loop\n",
    "        val_loss, val_accuracy, _, _, _ = test(val_dataloader, model, loss_function, device_in_use)\n",
    "        \n",
    "        # Check if we should early stop based on validation accuracy\n",
    "        if early_stopping(val_accuracy):\n",
    "            break\n",
    "    \n",
    "    # Log the final test accuracy for this trial to a shared log file\n",
    "    final_log = f\"Trial {trial_number} completed. Validation Accuracy = {val_accuracy:.4f}\"\n",
    "    log_to_file('all_trials_log.txt', final_log)\n",
    "\n",
    "    # Return the test accuracy as the objective to optimize\n",
    "    return val_accuracy"
   ]
  },
  {
   "cell_type": "code",
   "execution_count": 12,
   "metadata": {},
   "outputs": [
    {
     "name": "stderr",
     "output_type": "stream",
     "text": [
      "[I 2023-10-20 14:56:49,824] A new study created in memory with name: no-name-283e7d58-c1b8-400f-8aa9-115d3aabce58\n",
      "Best trial: 0. Best value: 0.919311:   2%|▏         | 1/50 [1:13:38<60:08:27, 4418.53s/it]"
     ]
    },
    {
     "name": "stdout",
     "output_type": "stream",
     "text": [
      "[I 2023-10-20 16:10:28,354] Trial 0 finished with value: 0.9193111163701297 and parameters: {'sigma': 0.001, 'num_layers': 2, 'embed_size': 60, 'heads': 1, 'forward_expansion': 8, 'prenorm_on': True, 'mlp_scale_classification': 3, 'embedding_dropout': 0.5, 'decoder_dropout': 0.1, 'class_drop': 0, 'learning_rate': 0.001}. Best is trial 0 with value: 0.9193111163701297.\n"
     ]
    },
    {
     "name": "stderr",
     "output_type": "stream",
     "text": [
      "Best trial: 1. Best value: 0.948613:   4%|▍         | 2/50 [2:26:33<58:34:29, 4393.11s/it]"
     ]
    },
    {
     "name": "stdout",
     "output_type": "stream",
     "text": [
      "[I 2023-10-20 17:23:23,673] Trial 1 finished with value: 0.9486134119317571 and parameters: {'sigma': 2, 'num_layers': 2, 'embed_size': 70, 'heads': 5, 'forward_expansion': 4, 'prenorm_on': False, 'mlp_scale_classification': 5, 'embedding_dropout': 0, 'decoder_dropout': 0.1, 'class_drop': 0, 'learning_rate': 0.0001}. Best is trial 1 with value: 0.9486134119317571.\n"
     ]
    },
    {
     "name": "stderr",
     "output_type": "stream",
     "text": [
      "Best trial: 1. Best value: 0.948613:   6%|▌         | 3/50 [3:36:10<56:03:56, 4294.40s/it]"
     ]
    },
    {
     "name": "stdout",
     "output_type": "stream",
     "text": [
      "[I 2023-10-20 18:33:00,613] Trial 2 finished with value: 0.8188722273617177 and parameters: {'sigma': 0.001, 'num_layers': 1, 'embed_size': 60, 'heads': 10, 'forward_expansion': 2, 'prenorm_on': False, 'mlp_scale_classification': 7, 'embedding_dropout': 0, 'decoder_dropout': 0.2, 'class_drop': 0, 'learning_rate': 0.0001}. Best is trial 1 with value: 0.9486134119317571.\n"
     ]
    },
    {
     "name": "stderr",
     "output_type": "stream",
     "text": [
      "Best trial: 3. Best value: 0.955638:   8%|▊         | 4/50 [4:46:56<54:37:32, 4275.05s/it]"
     ]
    },
    {
     "name": "stdout",
     "output_type": "stream",
     "text": [
      "[I 2023-10-20 19:43:46,003] Trial 3 finished with value: 0.9556377874830576 and parameters: {'sigma': 3, 'num_layers': 1, 'embed_size': 140, 'heads': 5, 'forward_expansion': 6, 'prenorm_on': True, 'mlp_scale_classification': 4, 'embedding_dropout': 0, 'decoder_dropout': 0.2, 'class_drop': 0.5, 'learning_rate': 0.001}. Best is trial 3 with value: 0.9556377874830576.\n"
     ]
    },
    {
     "name": "stderr",
     "output_type": "stream",
     "text": [
      "Best trial: 3. Best value: 0.955638:  10%|█         | 5/50 [5:55:38<52:44:52, 4219.83s/it]"
     ]
    },
    {
     "name": "stdout",
     "output_type": "stream",
     "text": [
      "[I 2023-10-20 20:52:27,926] Trial 4 finished with value: 0.7214883500785267 and parameters: {'sigma': 5, 'num_layers': 1, 'embed_size': 60, 'heads': 10, 'forward_expansion': 1, 'prenorm_on': False, 'mlp_scale_classification': 1, 'embedding_dropout': 0.2, 'decoder_dropout': 0, 'class_drop': 0.5, 'learning_rate': 0.01}. Best is trial 3 with value: 0.9556377874830576.\n"
     ]
    },
    {
     "name": "stderr",
     "output_type": "stream",
     "text": [
      "Best trial: 3. Best value: 0.955638:  12%|█▏        | 6/50 [7:04:43<51:16:01, 4194.59s/it]"
     ]
    },
    {
     "name": "stdout",
     "output_type": "stream",
     "text": [
      "[I 2023-10-20 22:01:33,510] Trial 5 finished with value: 0.4859082205632409 and parameters: {'sigma': 0.001, 'num_layers': 1, 'embed_size': 70, 'heads': 10, 'forward_expansion': 7, 'prenorm_on': False, 'mlp_scale_classification': 1, 'embedding_dropout': 0.2, 'decoder_dropout': 0.5, 'class_drop': 0.5, 'learning_rate': 0.001}. Best is trial 3 with value: 0.9556377874830576.\n"
     ]
    },
    {
     "name": "stderr",
     "output_type": "stream",
     "text": [
      "Best trial: 3. Best value: 0.955638:  14%|█▍        | 7/50 [8:13:44<49:53:30, 4176.99s/it]"
     ]
    },
    {
     "name": "stdout",
     "output_type": "stream",
     "text": [
      "[I 2023-10-20 23:10:34,279] Trial 6 finished with value: 0.9509799703104495 and parameters: {'sigma': 1, 'num_layers': 1, 'embed_size': 60, 'heads': 10, 'forward_expansion': 8, 'prenorm_on': False, 'mlp_scale_classification': 1, 'embedding_dropout': 0.1, 'decoder_dropout': 0.1, 'class_drop': 0.1, 'learning_rate': 0.001}. Best is trial 3 with value: 0.9556377874830576.\n"
     ]
    },
    {
     "name": "stderr",
     "output_type": "stream",
     "text": [
      "Best trial: 3. Best value: 0.955638:  16%|█▌        | 8/50 [9:25:00<49:05:52, 4208.40s/it]"
     ]
    },
    {
     "name": "stdout",
     "output_type": "stream",
     "text": [
      "[I 2023-10-21 00:21:49,937] Trial 7 finished with value: 0.6844732256190702 and parameters: {'sigma': 5, 'num_layers': 2, 'embed_size': 120, 'heads': 10, 'forward_expansion': 1, 'prenorm_on': False, 'mlp_scale_classification': 6, 'embedding_dropout': 0.5, 'decoder_dropout': 0.1, 'class_drop': 0.2, 'learning_rate': 0.01}. Best is trial 3 with value: 0.9556377874830576.\n"
     ]
    },
    {
     "name": "stderr",
     "output_type": "stream",
     "text": [
      "Best trial: 3. Best value: 0.955638:  18%|█▊        | 9/50 [10:33:41<47:37:12, 4181.27s/it]"
     ]
    },
    {
     "name": "stdout",
     "output_type": "stream",
     "text": [
      "[I 2023-10-21 01:30:31,560] Trial 8 finished with value: 0.4859082205632409 and parameters: {'sigma': 3, 'num_layers': 1, 'embed_size': 50, 'heads': 1, 'forward_expansion': 4, 'prenorm_on': False, 'mlp_scale_classification': 2, 'embedding_dropout': 0.5, 'decoder_dropout': 0.1, 'class_drop': 0, 'learning_rate': 0.01}. Best is trial 3 with value: 0.9556377874830576.\n"
     ]
    },
    {
     "name": "stderr",
     "output_type": "stream",
     "text": [
      "Best trial: 3. Best value: 0.955638:  20%|██        | 10/50 [11:46:51<47:10:22, 4245.55s/it]"
     ]
    },
    {
     "name": "stdout",
     "output_type": "stream",
     "text": [
      "[I 2023-10-21 02:43:41,047] Trial 9 finished with value: 0.4859082205632409 and parameters: {'sigma': 0.1, 'num_layers': 2, 'embed_size': 50, 'heads': 1, 'forward_expansion': 1, 'prenorm_on': True, 'mlp_scale_classification': 1, 'embedding_dropout': 0.5, 'decoder_dropout': 0.1, 'class_drop': 0.2, 'learning_rate': 0.01}. Best is trial 3 with value: 0.9556377874830576.\n"
     ]
    },
    {
     "name": "stderr",
     "output_type": "stream",
     "text": [
      "Best trial: 3. Best value: 0.955638:  22%|██▏       | 11/50 [12:58:00<46:04:14, 4252.69s/it]"
     ]
    },
    {
     "name": "stdout",
     "output_type": "stream",
     "text": [
      "[I 2023-10-21 03:54:49,911] Trial 10 finished with value: 0.9540027107850519 and parameters: {'sigma': 3, 'num_layers': 1, 'embed_size': 140, 'heads': 5, 'forward_expansion': 6, 'prenorm_on': True, 'mlp_scale_classification': 8, 'embedding_dropout': 0, 'decoder_dropout': 0.2, 'class_drop': 0.5, 'learning_rate': 0.001}. Best is trial 3 with value: 0.9556377874830576.\n"
     ]
    },
    {
     "name": "stderr",
     "output_type": "stream",
     "text": [
      "Best trial: 3. Best value: 0.955638:  24%|██▍       | 12/50 [14:09:02<44:55:16, 4255.71s/it]"
     ]
    },
    {
     "name": "stdout",
     "output_type": "stream",
     "text": [
      "[I 2023-10-21 05:05:52,526] Trial 11 finished with value: 0.9552505324756352 and parameters: {'sigma': 3, 'num_layers': 1, 'embed_size': 140, 'heads': 5, 'forward_expansion': 6, 'prenorm_on': True, 'mlp_scale_classification': 8, 'embedding_dropout': 0, 'decoder_dropout': 0.2, 'class_drop': 0.5, 'learning_rate': 0.001}. Best is trial 3 with value: 0.9556377874830576.\n"
     ]
    },
    {
     "name": "stderr",
     "output_type": "stream",
     "text": [
      "Best trial: 3. Best value: 0.955638:  26%|██▌       | 13/50 [15:19:59<43:44:37, 4256.14s/it]"
     ]
    },
    {
     "name": "stdout",
     "output_type": "stream",
     "text": [
      "[I 2023-10-21 06:16:49,675] Trial 12 finished with value: 0.9472902906563972 and parameters: {'sigma': 10, 'num_layers': 1, 'embed_size': 140, 'heads': 5, 'forward_expansion': 6, 'prenorm_on': True, 'mlp_scale_classification': 4, 'embedding_dropout': 0, 'decoder_dropout': 0.2, 'class_drop': 0.5, 'learning_rate': 0.001}. Best is trial 3 with value: 0.9556377874830576.\n"
     ]
    },
    {
     "name": "stderr",
     "output_type": "stream",
     "text": [
      "Best trial: 3. Best value: 0.955638:  28%|██▊       | 14/50 [16:30:43<42:31:30, 4252.50s/it]"
     ]
    },
    {
     "name": "stdout",
     "output_type": "stream",
     "text": [
      "[I 2023-10-21 07:27:33,757] Trial 13 finished with value: 0.9548310062175943 and parameters: {'sigma': 3, 'num_layers': 1, 'embed_size': 140, 'heads': 5, 'forward_expansion': 5, 'prenorm_on': True, 'mlp_scale_classification': 5, 'embedding_dropout': 0, 'decoder_dropout': 0.2, 'class_drop': 0.5, 'learning_rate': 0.001}. Best is trial 3 with value: 0.9556377874830576.\n"
     ]
    },
    {
     "name": "stderr",
     "output_type": "stream",
     "text": [
      "Best trial: 3. Best value: 0.955638:  30%|███       | 15/50 [17:41:03<41:14:50, 4242.58s/it]"
     ]
    },
    {
     "name": "stdout",
     "output_type": "stream",
     "text": [
      "[I 2023-10-21 08:37:53,335] Trial 14 finished with value: 0.9508401282244358 and parameters: {'sigma': 3, 'num_layers': 1, 'embed_size': 90, 'heads': 5, 'forward_expansion': 6, 'prenorm_on': True, 'mlp_scale_classification': 8, 'embedding_dropout': 0, 'decoder_dropout': 0.2, 'class_drop': 0.1, 'learning_rate': 0.001}. Best is trial 3 with value: 0.9556377874830576.\n"
     ]
    },
    {
     "name": "stderr",
     "output_type": "stream",
     "text": [
      "Best trial: 3. Best value: 0.955638:  32%|███▏      | 16/50 [18:51:06<39:57:25, 4230.75s/it]"
     ]
    },
    {
     "name": "stdout",
     "output_type": "stream",
     "text": [
      "[I 2023-10-21 09:47:56,615] Trial 15 finished with value: 0.9456874852090101 and parameters: {'sigma': 3, 'num_layers': 1, 'embed_size': 80, 'heads': 5, 'forward_expansion': 3, 'prenorm_on': True, 'mlp_scale_classification': 4, 'embedding_dropout': 0.1, 'decoder_dropout': 0, 'class_drop': 0.5, 'learning_rate': 0.001}. Best is trial 3 with value: 0.9556377874830576.\n"
     ]
    },
    {
     "name": "stderr",
     "output_type": "stream",
     "text": [
      "Best trial: 3. Best value: 0.955638:  34%|███▍      | 17/50 [20:02:15<38:53:08, 4242.08s/it]"
     ]
    },
    {
     "name": "stdout",
     "output_type": "stream",
     "text": [
      "[I 2023-10-21 10:59:05,045] Trial 16 finished with value: 0.8634603386329899 and parameters: {'sigma': 10, 'num_layers': 1, 'embed_size': 160, 'heads': 5, 'forward_expansion': 5, 'prenorm_on': True, 'mlp_scale_classification': 6, 'embedding_dropout': 0, 'decoder_dropout': 0.5, 'class_drop': 0.5, 'learning_rate': 0.0001}. Best is trial 3 with value: 0.9556377874830576.\n"
     ]
    },
    {
     "name": "stderr",
     "output_type": "stream",
     "text": [
      "Best trial: 3. Best value: 0.955638:  36%|███▌      | 18/50 [21:15:17<38:04:51, 4284.12s/it]"
     ]
    },
    {
     "name": "stdout",
     "output_type": "stream",
     "text": [
      "[I 2023-10-21 12:12:07,032] Trial 17 finished with value: 0.9296809449022181 and parameters: {'sigma': 0.1, 'num_layers': 2, 'embed_size': 100, 'heads': 5, 'forward_expansion': 7, 'prenorm_on': True, 'mlp_scale_classification': 3, 'embedding_dropout': 0, 'decoder_dropout': 0.2, 'class_drop': 0.5, 'learning_rate': 0.001}. Best is trial 3 with value: 0.9556377874830576.\n"
     ]
    },
    {
     "name": "stderr",
     "output_type": "stream",
     "text": [
      "Best trial: 18. Best value: 0.960091:  38%|███▊      | 19/50 [22:25:59<36:46:54, 4271.44s/it]"
     ]
    },
    {
     "name": "stdout",
     "output_type": "stream",
     "text": [
      "[I 2023-10-21 13:22:48,942] Trial 18 finished with value: 0.9600912200684151 and parameters: {'sigma': 1, 'num_layers': 1, 'embed_size': 140, 'heads': 5, 'forward_expansion': 7, 'prenorm_on': True, 'mlp_scale_classification': 6, 'embedding_dropout': 0.1, 'decoder_dropout': 0.2, 'class_drop': 0.2, 'learning_rate': 0.001}. Best is trial 18 with value: 0.9600912200684151.\n"
     ]
    },
    {
     "name": "stderr",
     "output_type": "stream",
     "text": [
      "Best trial: 18. Best value: 0.960091:  40%|████      | 20/50 [23:36:33<35:30:06, 4260.21s/it]"
     ]
    },
    {
     "name": "stdout",
     "output_type": "stream",
     "text": [
      "[I 2023-10-21 14:33:22,969] Trial 19 finished with value: 0.9568856091736408 and parameters: {'sigma': 1, 'num_layers': 1, 'embed_size': 140, 'heads': 5, 'forward_expansion': 7, 'prenorm_on': True, 'mlp_scale_classification': 6, 'embedding_dropout': 0.1, 'decoder_dropout': 0.2, 'class_drop': 0.2, 'learning_rate': 0.0001}. Best is trial 18 with value: 0.9600912200684151.\n"
     ]
    },
    {
     "name": "stderr",
     "output_type": "stream",
     "text": [
      "Best trial: 18. Best value: 0.960091:  42%|████▏     | 21/50 [24:49:35<34:36:47, 4296.80s/it]"
     ]
    },
    {
     "name": "stdout",
     "output_type": "stream",
     "text": [
      "[I 2023-10-21 15:46:25,076] Trial 20 finished with value: 0.9019384264538198 and parameters: {'sigma': 1, 'num_layers': 2, 'embed_size': 160, 'heads': 1, 'forward_expansion': 7, 'prenorm_on': True, 'mlp_scale_classification': 6, 'embedding_dropout': 0.1, 'decoder_dropout': 0.5, 'class_drop': 0.2, 'learning_rate': 0.0001}. Best is trial 18 with value: 0.9600912200684151.\n"
     ]
    },
    {
     "name": "stderr",
     "output_type": "stream",
     "text": [
      "Best trial: 18. Best value: 0.960091:  44%|████▍     | 22/50 [26:00:16<33:17:27, 4280.28s/it]"
     ]
    },
    {
     "name": "stdout",
     "output_type": "stream",
     "text": [
      "[I 2023-10-21 16:57:06,819] Trial 21 finished with value: 0.9570899937608915 and parameters: {'sigma': 1, 'num_layers': 1, 'embed_size': 140, 'heads': 5, 'forward_expansion': 8, 'prenorm_on': True, 'mlp_scale_classification': 7, 'embedding_dropout': 0.1, 'decoder_dropout': 0.2, 'class_drop': 0.2, 'learning_rate': 0.0001}. Best is trial 18 with value: 0.9600912200684151.\n"
     ]
    },
    {
     "name": "stderr",
     "output_type": "stream",
     "text": [
      "Best trial: 18. Best value: 0.960091:  46%|████▌     | 23/50 [27:10:53<32:00:15, 4267.22s/it]"
     ]
    },
    {
     "name": "stdout",
     "output_type": "stream",
     "text": [
      "[I 2023-10-21 18:07:43,600] Trial 22 finished with value: 0.9566812245863902 and parameters: {'sigma': 1, 'num_layers': 1, 'embed_size': 140, 'heads': 5, 'forward_expansion': 8, 'prenorm_on': True, 'mlp_scale_classification': 7, 'embedding_dropout': 0.1, 'decoder_dropout': 0.2, 'class_drop': 0.2, 'learning_rate': 0.0001}. Best is trial 18 with value: 0.9600912200684151.\n"
     ]
    },
    {
     "name": "stderr",
     "output_type": "stream",
     "text": [
      "Best trial: 18. Best value: 0.960091:  48%|████▊     | 24/50 [28:21:53<30:48:07, 4264.91s/it]"
     ]
    },
    {
     "name": "stdout",
     "output_type": "stream",
     "text": [
      "[I 2023-10-21 19:18:43,113] Trial 23 finished with value: 0.9564660829155999 and parameters: {'sigma': 1, 'num_layers': 1, 'embed_size': 140, 'heads': 5, 'forward_expansion': 7, 'prenorm_on': True, 'mlp_scale_classification': 7, 'embedding_dropout': 0.1, 'decoder_dropout': 0.2, 'class_drop': 0.2, 'learning_rate': 0.0001}. Best is trial 18 with value: 0.9600912200684151.\n"
     ]
    },
    {
     "name": "stderr",
     "output_type": "stream",
     "text": [
      "Best trial: 24. Best value: 0.965911:  50%|█████     | 25/50 [29:31:42<29:27:34, 4242.18s/it]"
     ]
    },
    {
     "name": "stdout",
     "output_type": "stream",
     "text": [
      "[I 2023-10-21 20:28:32,267] Trial 24 finished with value: 0.9659108022632904 and parameters: {'sigma': 1, 'num_layers': 1, 'embed_size': 80, 'heads': 5, 'forward_expansion': 8, 'prenorm_on': True, 'mlp_scale_classification': 6, 'embedding_dropout': 0.1, 'decoder_dropout': 0, 'class_drop': 0.2, 'learning_rate': 0.0001}. Best is trial 24 with value: 0.9659108022632904.\n"
     ]
    },
    {
     "name": "stderr",
     "output_type": "stream",
     "text": [
      "Best trial: 25. Best value: 0.96633:  52%|█████▏    | 26/50 [30:41:43<28:11:53, 4229.73s/it] "
     ]
    },
    {
     "name": "stdout",
     "output_type": "stream",
     "text": [
      "[I 2023-10-21 21:38:32,964] Trial 25 finished with value: 0.9663303285213313 and parameters: {'sigma': 1, 'num_layers': 1, 'embed_size': 80, 'heads': 5, 'forward_expansion': 8, 'prenorm_on': True, 'mlp_scale_classification': 7, 'embedding_dropout': 0.1, 'decoder_dropout': 0, 'class_drop': 0.2, 'learning_rate': 0.0001}. Best is trial 25 with value: 0.9663303285213313.\n"
     ]
    },
    {
     "name": "stderr",
     "output_type": "stream",
     "text": [
      "Best trial: 25. Best value: 0.96633:  54%|█████▍    | 27/50 [31:51:55<26:59:27, 4224.67s/it]"
     ]
    },
    {
     "name": "stdout",
     "output_type": "stream",
     "text": [
      "[I 2023-10-21 22:48:45,814] Trial 26 finished with value: 0.9647167659904047 and parameters: {'sigma': 1, 'num_layers': 1, 'embed_size': 80, 'heads': 5, 'forward_expansion': 8, 'prenorm_on': True, 'mlp_scale_classification': 5, 'embedding_dropout': 0.1, 'decoder_dropout': 0, 'class_drop': 0.2, 'learning_rate': 0.0001}. Best is trial 25 with value: 0.9663303285213313.\n"
     ]
    },
    {
     "name": "stderr",
     "output_type": "stream",
     "text": [
      "Best trial: 25. Best value: 0.96633:  56%|█████▌    | 28/50 [33:01:24<25:42:51, 4207.79s/it]"
     ]
    },
    {
     "name": "stdout",
     "output_type": "stream",
     "text": [
      "[I 2023-10-21 23:58:14,225] Trial 27 finished with value: 0.9621350659409221 and parameters: {'sigma': 2, 'num_layers': 1, 'embed_size': 80, 'heads': 5, 'forward_expansion': 8, 'prenorm_on': True, 'mlp_scale_classification': 5, 'embedding_dropout': 0.1, 'decoder_dropout': 0, 'class_drop': 0.2, 'learning_rate': 0.0001}. Best is trial 25 with value: 0.9663303285213313.\n"
     ]
    },
    {
     "name": "stderr",
     "output_type": "stream",
     "text": [
      "Best trial: 25. Best value: 0.96633:  58%|█████▊    | 29/50 [34:11:09<24:30:18, 4200.86s/it]"
     ]
    },
    {
     "name": "stdout",
     "output_type": "stream",
     "text": [
      "[I 2023-10-22 01:07:58,908] Trial 28 finished with value: 0.9639960413932575 and parameters: {'sigma': 1, 'num_layers': 1, 'embed_size': 80, 'heads': 1, 'forward_expansion': 8, 'prenorm_on': True, 'mlp_scale_classification': 5, 'embedding_dropout': 0.1, 'decoder_dropout': 0, 'class_drop': 0.2, 'learning_rate': 0.0001}. Best is trial 25 with value: 0.9663303285213313.\n"
     ]
    },
    {
     "name": "stderr",
     "output_type": "stream",
     "text": [
      "Best trial: 25. Best value: 0.96633:  60%|██████    | 30/50 [35:23:50<23:36:21, 4249.10s/it]"
     ]
    },
    {
     "name": "stdout",
     "output_type": "stream",
     "text": [
      "[I 2023-10-22 02:20:40,560] Trial 29 finished with value: 0.9634259159656634 and parameters: {'sigma': 1, 'num_layers': 2, 'embed_size': 80, 'heads': 5, 'forward_expansion': 8, 'prenorm_on': True, 'mlp_scale_classification': 3, 'embedding_dropout': 0.2, 'decoder_dropout': 0, 'class_drop': 0.1, 'learning_rate': 0.0001}. Best is trial 25 with value: 0.9663303285213313.\n"
     ]
    },
    {
     "name": "stderr",
     "output_type": "stream",
     "text": [
      "Best trial: 30. Best value: 0.967352:  62%|██████▏   | 31/50 [36:33:25<22:18:29, 4226.83s/it]"
     ]
    },
    {
     "name": "stdout",
     "output_type": "stream",
     "text": [
      "[I 2023-10-22 03:30:15,426] Trial 30 finished with value: 0.9673522514575849 and parameters: {'sigma': 1, 'num_layers': 1, 'embed_size': 80, 'heads': 1, 'forward_expansion': 8, 'prenorm_on': True, 'mlp_scale_classification': 7, 'embedding_dropout': 0.1, 'decoder_dropout': 0, 'class_drop': 0.2, 'learning_rate': 0.0001}. Best is trial 30 with value: 0.9673522514575849.\n"
     ]
    },
    {
     "name": "stderr",
     "output_type": "stream",
     "text": [
      "Best trial: 31. Best value: 0.968794:  64%|██████▍   | 32/50 [37:43:16<21:04:48, 4216.02s/it]"
     ]
    },
    {
     "name": "stdout",
     "output_type": "stream",
     "text": [
      "[I 2023-10-22 04:40:06,218] Trial 31 finished with value: 0.9687937006518793 and parameters: {'sigma': 1, 'num_layers': 1, 'embed_size': 80, 'heads': 1, 'forward_expansion': 8, 'prenorm_on': True, 'mlp_scale_classification': 7, 'embedding_dropout': 0.1, 'decoder_dropout': 0, 'class_drop': 0.2, 'learning_rate': 0.0001}. Best is trial 31 with value: 0.9687937006518793.\n"
     ]
    },
    {
     "name": "stderr",
     "output_type": "stream",
     "text": [
      "Best trial: 31. Best value: 0.968794:  66%|██████▌   | 33/50 [38:53:04<19:52:08, 4207.53s/it]"
     ]
    },
    {
     "name": "stdout",
     "output_type": "stream",
     "text": [
      "[I 2023-10-22 05:49:53,953] Trial 32 finished with value: 0.9672661947892688 and parameters: {'sigma': 1, 'num_layers': 1, 'embed_size': 80, 'heads': 1, 'forward_expansion': 7, 'prenorm_on': True, 'mlp_scale_classification': 7, 'embedding_dropout': 0.1, 'decoder_dropout': 0, 'class_drop': 0.2, 'learning_rate': 0.0001}. Best is trial 31 with value: 0.9687937006518793.\n"
     ]
    },
    {
     "name": "stderr",
     "output_type": "stream",
     "text": [
      "Best trial: 31. Best value: 0.968794:  68%|██████▊   | 34/50 [40:02:18<18:37:47, 4191.72s/it]"
     ]
    },
    {
     "name": "stdout",
     "output_type": "stream",
     "text": [
      "[I 2023-10-22 06:59:08,779] Trial 33 finished with value: 0.9668359114476883 and parameters: {'sigma': 2, 'num_layers': 1, 'embed_size': 80, 'heads': 1, 'forward_expansion': 7, 'prenorm_on': True, 'mlp_scale_classification': 7, 'embedding_dropout': 0.1, 'decoder_dropout': 0, 'class_drop': 0.2, 'learning_rate': 0.0001}. Best is trial 31 with value: 0.9687937006518793.\n"
     ]
    },
    {
     "name": "stderr",
     "output_type": "stream",
     "text": [
      "Best trial: 31. Best value: 0.968794:  70%|███████   | 35/50 [41:11:14<17:23:45, 4175.01s/it]"
     ]
    },
    {
     "name": "stdout",
     "output_type": "stream",
     "text": [
      "[I 2023-10-22 08:08:04,799] Trial 34 finished with value: 0.9653621910027753 and parameters: {'sigma': 2, 'num_layers': 1, 'embed_size': 80, 'heads': 1, 'forward_expansion': 7, 'prenorm_on': True, 'mlp_scale_classification': 8, 'embedding_dropout': 0.1, 'decoder_dropout': 0, 'class_drop': 0, 'learning_rate': 0.0001}. Best is trial 31 with value: 0.9687937006518793.\n"
     ]
    },
    {
     "name": "stderr",
     "output_type": "stream",
     "text": [
      "Best trial: 31. Best value: 0.968794:  72%|███████▏  | 36/50 [42:20:48<16:14:02, 4174.48s/it]"
     ]
    },
    {
     "name": "stdout",
     "output_type": "stream",
     "text": [
      "[I 2023-10-22 09:17:38,049] Trial 35 finished with value: 0.9662550289365547 and parameters: {'sigma': 2, 'num_layers': 1, 'embed_size': 80, 'heads': 1, 'forward_expansion': 5, 'prenorm_on': True, 'mlp_scale_classification': 7, 'embedding_dropout': 0.1, 'decoder_dropout': 0, 'class_drop': 0.2, 'learning_rate': 0.0001}. Best is trial 31 with value: 0.9687937006518793.\n"
     ]
    },
    {
     "name": "stderr",
     "output_type": "stream",
     "text": [
      "Best trial: 36. Best value: 0.969009:  74%|███████▍  | 37/50 [43:28:35<14:57:31, 4142.45s/it]"
     ]
    },
    {
     "name": "stdout",
     "output_type": "stream",
     "text": [
      "[I 2023-10-22 10:25:25,748] Trial 36 finished with value: 0.9690088423226695 and parameters: {'sigma': 2, 'num_layers': 1, 'embed_size': 120, 'heads': 1, 'forward_expansion': 7, 'prenorm_on': False, 'mlp_scale_classification': 7, 'embedding_dropout': 0.2, 'decoder_dropout': 0, 'class_drop': 0.2, 'learning_rate': 0.0001}. Best is trial 36 with value: 0.9690088423226695.\n"
     ]
    },
    {
     "name": "stderr",
     "output_type": "stream",
     "text": [
      "Best trial: 36. Best value: 0.969009:  76%|███████▌  | 38/50 [44:36:11<13:43:16, 4116.38s/it]"
     ]
    },
    {
     "name": "stdout",
     "output_type": "stream",
     "text": [
      "[I 2023-10-22 11:33:01,302] Trial 37 finished with value: 0.934059077902799 and parameters: {'sigma': 0.001, 'num_layers': 1, 'embed_size': 120, 'heads': 1, 'forward_expansion': 6, 'prenorm_on': False, 'mlp_scale_classification': 8, 'embedding_dropout': 0.2, 'decoder_dropout': 0, 'class_drop': 0, 'learning_rate': 0.0001}. Best is trial 36 with value: 0.9690088423226695.\n"
     ]
    },
    {
     "name": "stderr",
     "output_type": "stream",
     "text": [
      "Best trial: 36. Best value: 0.969009:  78%|███████▊  | 39/50 [45:44:13<12:32:47, 4106.10s/it]"
     ]
    },
    {
     "name": "stdout",
     "output_type": "stream",
     "text": [
      "[I 2023-10-22 12:41:03,406] Trial 38 finished with value: 0.9663841139390289 and parameters: {'sigma': 5, 'num_layers': 1, 'embed_size': 120, 'heads': 1, 'forward_expansion': 3, 'prenorm_on': False, 'mlp_scale_classification': 7, 'embedding_dropout': 0.2, 'decoder_dropout': 0, 'class_drop': 0.2, 'learning_rate': 0.0001}. Best is trial 36 with value: 0.9690088423226695.\n"
     ]
    },
    {
     "name": "stderr",
     "output_type": "stream",
     "text": [
      "Best trial: 36. Best value: 0.969009:  80%|████████  | 40/50 [46:52:28<11:23:46, 4102.65s/it]"
     ]
    },
    {
     "name": "stdout",
     "output_type": "stream",
     "text": [
      "[I 2023-10-22 13:49:18,017] Trial 39 finished with value: 0.4859082205632409 and parameters: {'sigma': 2, 'num_layers': 1, 'embed_size': 100, 'heads': 1, 'forward_expansion': 7, 'prenorm_on': False, 'mlp_scale_classification': 8, 'embedding_dropout': 0.2, 'decoder_dropout': 0, 'class_drop': 0.1, 'learning_rate': 0.01}. Best is trial 36 with value: 0.9690088423226695.\n"
     ]
    },
    {
     "name": "stderr",
     "output_type": "stream",
     "text": [
      "Best trial: 36. Best value: 0.969009:  82%|████████▏ | 41/50 [48:02:32<10:19:59, 4133.29s/it]"
     ]
    },
    {
     "name": "stdout",
     "output_type": "stream",
     "text": [
      "[I 2023-10-22 14:59:22,794] Trial 40 finished with value: 0.9058540048622018 and parameters: {'sigma': 0.001, 'num_layers': 2, 'embed_size': 70, 'heads': 1, 'forward_expansion': 6, 'prenorm_on': False, 'mlp_scale_classification': 6, 'embedding_dropout': 0.2, 'decoder_dropout': 0, 'class_drop': 0.2, 'learning_rate': 0.0001}. Best is trial 36 with value: 0.9690088423226695.\n"
     ]
    },
    {
     "name": "stderr",
     "output_type": "stream",
     "text": [
      "Best trial: 41. Best value: 0.969514:  84%|████████▍ | 42/50 [49:10:43<9:09:22, 4120.36s/it] "
     ]
    },
    {
     "name": "stdout",
     "output_type": "stream",
     "text": [
      "[I 2023-10-22 16:07:32,982] Trial 41 finished with value: 0.9695144252490265 and parameters: {'sigma': 2, 'num_layers': 1, 'embed_size': 120, 'heads': 1, 'forward_expansion': 7, 'prenorm_on': False, 'mlp_scale_classification': 7, 'embedding_dropout': 0.5, 'decoder_dropout': 0, 'class_drop': 0.2, 'learning_rate': 0.0001}. Best is trial 41 with value: 0.9695144252490265.\n"
     ]
    },
    {
     "name": "stderr",
     "output_type": "stream",
     "text": [
      "Best trial: 41. Best value: 0.969514:  86%|████████▌ | 43/50 [50:19:38<8:01:13, 4124.80s/it]"
     ]
    },
    {
     "name": "stdout",
     "output_type": "stream",
     "text": [
      "[I 2023-10-22 17:16:28,146] Trial 42 finished with value: 0.9692992835782362 and parameters: {'sigma': 2, 'num_layers': 1, 'embed_size': 120, 'heads': 1, 'forward_expansion': 8, 'prenorm_on': False, 'mlp_scale_classification': 7, 'embedding_dropout': 0.5, 'decoder_dropout': 0, 'class_drop': 0.2, 'learning_rate': 0.0001}. Best is trial 41 with value: 0.9695144252490265.\n"
     ]
    },
    {
     "name": "stderr",
     "output_type": "stream",
     "text": [
      "Best trial: 43. Best value: 0.97002:  88%|████████▊ | 44/50 [51:27:47<6:51:23, 4113.98s/it] "
     ]
    },
    {
     "name": "stdout",
     "output_type": "stream",
     "text": [
      "[I 2023-10-22 18:24:36,877] Trial 43 finished with value: 0.9700200081753835 and parameters: {'sigma': 2, 'num_layers': 1, 'embed_size': 120, 'heads': 1, 'forward_expansion': 8, 'prenorm_on': False, 'mlp_scale_classification': 8, 'embedding_dropout': 0.5, 'decoder_dropout': 0, 'class_drop': 0.2, 'learning_rate': 0.0001}. Best is trial 43 with value: 0.9700200081753835.\n"
     ]
    },
    {
     "name": "stderr",
     "output_type": "stream",
     "text": [
      "Best trial: 43. Best value: 0.97002:  90%|█████████ | 45/50 [52:36:50<5:43:33, 4122.71s/it]"
     ]
    },
    {
     "name": "stdout",
     "output_type": "stream",
     "text": [
      "[I 2023-10-22 19:33:39,955] Trial 44 finished with value: 0.4859082205632409 and parameters: {'sigma': 2, 'num_layers': 1, 'embed_size': 120, 'heads': 1, 'forward_expansion': 8, 'prenorm_on': False, 'mlp_scale_classification': 8, 'embedding_dropout': 0.5, 'decoder_dropout': 0.5, 'class_drop': 0.2, 'learning_rate': 0.01}. Best is trial 43 with value: 0.9700200081753835.\n"
     ]
    },
    {
     "name": "stderr",
     "output_type": "stream",
     "text": [
      "Best trial: 43. Best value: 0.97002:  92%|█████████▏| 46/50 [53:45:38<4:34:57, 4124.29s/it]"
     ]
    },
    {
     "name": "stdout",
     "output_type": "stream",
     "text": [
      "[I 2023-10-22 20:42:27,950] Trial 45 finished with value: 0.9647813084916418 and parameters: {'sigma': 2, 'num_layers': 1, 'embed_size': 120, 'heads': 10, 'forward_expansion': 8, 'prenorm_on': False, 'mlp_scale_classification': 8, 'embedding_dropout': 0.5, 'decoder_dropout': 0.1, 'class_drop': 0, 'learning_rate': 0.0001}. Best is trial 43 with value: 0.9700200081753835.\n"
     ]
    },
    {
     "name": "stderr",
     "output_type": "stream",
     "text": [
      "Best trial: 46. Best value: 0.970343:  94%|█████████▍| 47/50 [54:53:59<3:25:52, 4117.54s/it]"
     ]
    },
    {
     "name": "stdout",
     "output_type": "stream",
     "text": [
      "[I 2023-10-22 21:50:49,721] Trial 46 finished with value: 0.9703427206815688 and parameters: {'sigma': 2, 'num_layers': 1, 'embed_size': 120, 'heads': 1, 'forward_expansion': 7, 'prenorm_on': False, 'mlp_scale_classification': 8, 'embedding_dropout': 0.5, 'decoder_dropout': 0, 'class_drop': 0.2, 'learning_rate': 0.0001}. Best is trial 46 with value: 0.9703427206815688.\n"
     ]
    },
    {
     "name": "stderr",
     "output_type": "stream",
     "text": [
      "Best trial: 46. Best value: 0.970343:  96%|█████████▌| 48/50 [56:02:18<2:17:03, 4111.74s/it]"
     ]
    },
    {
     "name": "stdout",
     "output_type": "stream",
     "text": [
      "[I 2023-10-22 22:59:07,926] Trial 47 finished with value: 0.970052279426002 and parameters: {'sigma': 2, 'num_layers': 1, 'embed_size': 120, 'heads': 1, 'forward_expansion': 6, 'prenorm_on': False, 'mlp_scale_classification': 8, 'embedding_dropout': 0.5, 'decoder_dropout': 0, 'class_drop': 0.2, 'learning_rate': 0.0001}. Best is trial 46 with value: 0.9703427206815688.\n"
     ]
    },
    {
     "name": "stderr",
     "output_type": "stream",
     "text": [
      "Best trial: 46. Best value: 0.970343:  98%|█████████▊| 49/50 [57:10:49<1:08:31, 4111.57s/it]"
     ]
    },
    {
     "name": "stdout",
     "output_type": "stream",
     "text": [
      "[I 2023-10-23 00:07:39,118] Trial 48 finished with value: 0.4859082205632409 and parameters: {'sigma': 2, 'num_layers': 1, 'embed_size': 120, 'heads': 1, 'forward_expansion': 6, 'prenorm_on': False, 'mlp_scale_classification': 8, 'embedding_dropout': 0.5, 'decoder_dropout': 0, 'class_drop': 0.1, 'learning_rate': 0.01}. Best is trial 46 with value: 0.9703427206815688.\n"
     ]
    },
    {
     "name": "stderr",
     "output_type": "stream",
     "text": [
      "Best trial: 46. Best value: 0.970343: 100%|██████████| 50/50 [58:20:00<00:00, 4200.02s/it]  "
     ]
    },
    {
     "name": "stdout",
     "output_type": "stream",
     "text": [
      "[I 2023-10-23 01:16:50,803] Trial 49 finished with value: 0.9572513500139842 and parameters: {'sigma': 2, 'num_layers': 1, 'embed_size': 120, 'heads': 10, 'forward_expansion': 5, 'prenorm_on': False, 'mlp_scale_classification': 8, 'embedding_dropout': 0.5, 'decoder_dropout': 0.1, 'class_drop': 0.2, 'learning_rate': 0.0001}. Best is trial 46 with value: 0.9703427206815688.\n",
      "Best Hyperparameters: {'sigma': 2, 'num_layers': 1, 'embed_size': 120, 'heads': 1, 'forward_expansion': 7, 'prenorm_on': False, 'mlp_scale_classification': 8, 'embedding_dropout': 0.5, 'decoder_dropout': 0, 'class_drop': 0.2, 'learning_rate': 0.0001}\n",
      "Best Validation Accuracy (at Early Stopping): 0.9703427206815688\n"
     ]
    },
    {
     "name": "stderr",
     "output_type": "stream",
     "text": [
      "\n"
     ]
    }
   ],
   "source": [
    "# Set the number of optimization trials\n",
    "num_trials = 50\n",
    "\n",
    "# Create an Optuna study\n",
    "study = optuna.create_study(direction='maximize')  # Maximize validation accuracy\n",
    "\n",
    "# Start the optimization process\n",
    "study.optimize(objective, n_trials=num_trials, show_progress_bar=True)\n",
    "\n",
    "# Get the best hyperparameters and the validation accuracy at the point of early stopping\n",
    "best_params = study.best_params\n",
    "best_val_accuracy = study.best_value\n",
    "\n",
    "print(\"Best Hyperparameters:\", best_params)\n",
    "print(\"Best Validation Accuracy (at Early Stopping):\", best_val_accuracy)"
   ]
  },
  {
   "cell_type": "code",
   "execution_count": 13,
   "metadata": {},
   "outputs": [
    {
     "name": "stdout",
     "output_type": "stream",
     "text": [
      "Epoch [ 1/75]        | Train: Loss 0.7330, Accuracy 0.6867                               | Test: Loss 0.6257, Accuracy 0.7285, F1 0.7158\n",
      "Epoch [ 2/75]        | Train: Loss 0.6073, Accuracy 0.7403                               | Test: Loss 0.5759, Accuracy 0.7524, F1 0.7428\n",
      "Epoch [ 3/75]        | Train: Loss 0.5621, Accuracy 0.7590                               | Test: Loss 0.5292, Accuracy 0.7750, F1 0.7665\n",
      "Epoch [ 4/75]        | Train: Loss 0.5095, Accuracy 0.7814                               | Test: Loss 0.4669, Accuracy 0.8002, F1 0.7937\n",
      "Epoch [ 5/75]        | Train: Loss 0.4506, Accuracy 0.8068                               | Test: Loss 0.4035, Accuracy 0.8295, F1 0.8273\n",
      "Epoch [ 6/75]        | Train: Loss 0.4001, Accuracy 0.8304                               | Test: Loss 0.3520, Accuracy 0.8545, F1 0.8530\n",
      "Epoch [ 7/75]        | Train: Loss 0.3565, Accuracy 0.8511                               | Test: Loss 0.3117, Accuracy 0.8736, F1 0.8729\n",
      "Epoch [ 8/75]        | Train: Loss 0.3216, Accuracy 0.8680                               | Test: Loss 0.2810, Accuracy 0.8861, F1 0.8849\n",
      "Epoch [ 9/75]        | Train: Loss 0.2918, Accuracy 0.8814                               | Test: Loss 0.2584, Accuracy 0.8967, F1 0.8960\n",
      "Epoch [10/75]        | Train: Loss 0.2663, Accuracy 0.8922                               | Test: Loss 0.2329, Accuracy 0.9074, F1 0.9069\n",
      "Epoch [11/75]        | Train: Loss 0.2455, Accuracy 0.9009                               | Test: Loss 0.2149, Accuracy 0.9140, F1 0.9137\n",
      "Epoch [12/75]        | Train: Loss 0.2276, Accuracy 0.9086                               | Test: Loss 0.1952, Accuracy 0.9226, F1 0.9227\n",
      "Epoch [13/75]        | Train: Loss 0.2120, Accuracy 0.9155                               | Test: Loss 0.1836, Accuracy 0.9274, F1 0.9274\n",
      "Epoch [14/75]        | Train: Loss 0.1988, Accuracy 0.9207                               | Test: Loss 0.1735, Accuracy 0.9304, F1 0.9302\n",
      "Epoch [15/75]        | Train: Loss 0.1874, Accuracy 0.9259                               | Test: Loss 0.1647, Accuracy 0.9355, F1 0.9356\n",
      "Epoch [16/75]        | Train: Loss 0.1768, Accuracy 0.9297                               | Test: Loss 0.1552, Accuracy 0.9383, F1 0.9382\n",
      "Epoch [17/75]        | Train: Loss 0.1688, Accuracy 0.9330                               | Test: Loss 0.1443, Accuracy 0.9432, F1 0.9432\n",
      "Epoch [18/75]        | Train: Loss 0.1606, Accuracy 0.9364                               | Test: Loss 0.1410, Accuracy 0.9434, F1 0.9434\n",
      "Epoch [19/75]        | Train: Loss 0.1526, Accuracy 0.9399                               | Test: Loss 0.1345, Accuracy 0.9462, F1 0.9462\n",
      "Epoch [20/75]        | Train: Loss 0.1462, Accuracy 0.9422                               | Test: Loss 0.1320, Accuracy 0.9479, F1 0.9480\n",
      "Epoch [21/75]        | Train: Loss 0.1414, Accuracy 0.9444                               | Test: Loss 0.1255, Accuracy 0.9502, F1 0.9501\n",
      "Epoch [22/75]        | Train: Loss 0.1344, Accuracy 0.9463                               | Test: Loss 0.1211, Accuracy 0.9523, F1 0.9523\n",
      "Epoch [23/75]        | Train: Loss 0.1304, Accuracy 0.9484                               | Test: Loss 0.1191, Accuracy 0.9529, F1 0.9529\n",
      "Epoch [24/75]        | Train: Loss 0.1253, Accuracy 0.9507                               | Test: Loss 0.1141, Accuracy 0.9552, F1 0.9553\n",
      "Epoch [25/75]        | Train: Loss 0.1220, Accuracy 0.9517                               | Test: Loss 0.1122, Accuracy 0.9557, F1 0.9558\n",
      "Epoch [26/75]        | Train: Loss 0.1176, Accuracy 0.9539                               | Test: Loss 0.1086, Accuracy 0.9564, F1 0.9564\n",
      "Epoch [27/75]        | Train: Loss 0.1136, Accuracy 0.9552                               | Test: Loss 0.1090, Accuracy 0.9566, F1 0.9566\n",
      "Epoch [28/75]        | Train: Loss 0.1104, Accuracy 0.9562                               | Test: Loss 0.1045, Accuracy 0.9583, F1 0.9584\n",
      "Epoch [29/75]        | Train: Loss 0.1072, Accuracy 0.9576                               | Test: Loss 0.1015, Accuracy 0.9595, F1 0.9596\n",
      "Epoch [30/75]        | Train: Loss 0.1038, Accuracy 0.9589                               | Test: Loss 0.1020, Accuracy 0.9591, F1 0.9592\n",
      "Epoch [31/75]        | Train: Loss 0.1015, Accuracy 0.9599                               | Test: Loss 0.1032, Accuracy 0.9592, F1 0.9593\n",
      "Epoch [32/75]        | Train: Loss 0.0986, Accuracy 0.9610                               | Test: Loss 0.0961, Accuracy 0.9618, F1 0.9618\n",
      "Epoch [33/75]        | Train: Loss 0.0957, Accuracy 0.9623                               | Test: Loss 0.0932, Accuracy 0.9632, F1 0.9632\n",
      "Epoch [34/75]        | Train: Loss 0.0935, Accuracy 0.9630                               | Test: Loss 0.0942, Accuracy 0.9626, F1 0.9626\n",
      "Epoch [35/75]        | Train: Loss 0.0911, Accuracy 0.9643                               | Test: Loss 0.0925, Accuracy 0.9628, F1 0.9629\n",
      "Epoch [36/75]        | Train: Loss 0.0896, Accuracy 0.9647                               | Test: Loss 0.0935, Accuracy 0.9624, F1 0.9624\n",
      "Epoch [37/75]        | Train: Loss 0.0871, Accuracy 0.9656                               | Test: Loss 0.0907, Accuracy 0.9643, F1 0.9643\n",
      "Epoch [38/75]        | Train: Loss 0.0851, Accuracy 0.9666                               | Test: Loss 0.0900, Accuracy 0.9648, F1 0.9648\n",
      "Epoch [39/75]        | Train: Loss 0.0841, Accuracy 0.9668                               | Test: Loss 0.0885, Accuracy 0.9644, F1 0.9644\n",
      "Epoch [40/75]        | Train: Loss 0.0823, Accuracy 0.9675                               | Test: Loss 0.0868, Accuracy 0.9653, F1 0.9654\n",
      "Epoch [41/75]        | Train: Loss 0.0801, Accuracy 0.9683                               | Test: Loss 0.0866, Accuracy 0.9662, F1 0.9663\n",
      "Epoch [42/75]        | Train: Loss 0.0782, Accuracy 0.9690                               | Test: Loss 0.0861, Accuracy 0.9657, F1 0.9657\n",
      "Epoch [43/75]        | Train: Loss 0.0772, Accuracy 0.9696                               | Test: Loss 0.0874, Accuracy 0.9648, F1 0.9649\n",
      "Epoch [44/75]        | Train: Loss 0.0751, Accuracy 0.9703                               | Test: Loss 0.0854, Accuracy 0.9661, F1 0.9662\n",
      "Epoch [45/75]        | Train: Loss 0.0741, Accuracy 0.9707                               | Test: Loss 0.0862, Accuracy 0.9659, F1 0.9660\n",
      "Epoch [46/75]        | Train: Loss 0.0723, Accuracy 0.9714                               | Test: Loss 0.0870, Accuracy 0.9659, F1 0.9659\n",
      "Epoch [47/75]        | Train: Loss 0.0713, Accuracy 0.9718                               | Test: Loss 0.0843, Accuracy 0.9669, F1 0.9669\n",
      "Epoch [48/75]        | Train: Loss 0.0704, Accuracy 0.9722                               | Test: Loss 0.0828, Accuracy 0.9672, F1 0.9673\n",
      "Epoch [49/75]        | Train: Loss 0.0685, Accuracy 0.9727                               | Test: Loss 0.0870, Accuracy 0.9666, F1 0.9667\n",
      "Epoch [50/75]        | Train: Loss 0.0672, Accuracy 0.9735                               | Test: Loss 0.0837, Accuracy 0.9680, F1 0.9680\n",
      "Epoch [51/75]        | Train: Loss 0.0666, Accuracy 0.9739                               | Test: Loss 0.0829, Accuracy 0.9680, F1 0.9680\n",
      "Epoch [52/75]        | Train: Loss 0.0650, Accuracy 0.9746                               | Test: Loss 0.0845, Accuracy 0.9673, F1 0.9674\n",
      "Epoch [53/75]        | Train: Loss 0.0636, Accuracy 0.9747                               | Test: Loss 0.0852, Accuracy 0.9678, F1 0.9678\n",
      "Epoch [54/75]        | Train: Loss 0.0627, Accuracy 0.9757                               | Test: Loss 0.0827, Accuracy 0.9686, F1 0.9687\n",
      "Epoch [55/75]        | Train: Loss 0.0621, Accuracy 0.9754                               | Test: Loss 0.0828, Accuracy 0.9686, F1 0.9687\n",
      "Epoch [56/75]        | Train: Loss 0.0613, Accuracy 0.9759                               | Test: Loss 0.0855, Accuracy 0.9675, F1 0.9675\n",
      "Epoch [57/75]        | Train: Loss 0.0600, Accuracy 0.9763                               | Test: Loss 0.0828, Accuracy 0.9682, F1 0.9683\n",
      "Epoch [58/75]        | Train: Loss 0.0585, Accuracy 0.9770                               | Test: Loss 0.0822, Accuracy 0.9685, F1 0.9686\n",
      "Epoch [59/75]        | Train: Loss 0.0579, Accuracy 0.9771                               | Test: Loss 0.0826, Accuracy 0.9688, F1 0.9689\n",
      "Epoch [60/75]        | Train: Loss 0.0575, Accuracy 0.9776                               | Test: Loss 0.0844, Accuracy 0.9681, F1 0.9682\n",
      "Epoch [61/75]        | Train: Loss 0.0562, Accuracy 0.9777                               | Test: Loss 0.0823, Accuracy 0.9684, F1 0.9684\n",
      "Epoch [62/75]        | Train: Loss 0.0554, Accuracy 0.9781                               | Test: Loss 0.0849, Accuracy 0.9680, F1 0.9680\n",
      "Epoch [63/75]        | Train: Loss 0.0553, Accuracy 0.9782                               | Test: Loss 0.0834, Accuracy 0.9683, F1 0.9684\n",
      "Epoch [64/75]        | Train: Loss 0.0544, Accuracy 0.9787                               | Test: Loss 0.0839, Accuracy 0.9684, F1 0.9684\n",
      "Epoch [65/75]        | Train: Loss 0.0533, Accuracy 0.9790                               | Test: Loss 0.0810, Accuracy 0.9692, F1 0.9692\n",
      "Epoch [66/75]        | Train: Loss 0.0522, Accuracy 0.9792                               | Test: Loss 0.0819, Accuracy 0.9693, F1 0.9694\n",
      "Epoch [67/75]        | Train: Loss 0.0517, Accuracy 0.9796                               | Test: Loss 0.0824, Accuracy 0.9695, F1 0.9695\n",
      "Epoch [68/75]        | Train: Loss 0.0511, Accuracy 0.9802                               | Test: Loss 0.0825, Accuracy 0.9693, F1 0.9693\n",
      "Epoch [69/75]        | Train: Loss 0.0509, Accuracy 0.9802                               | Test: Loss 0.0828, Accuracy 0.9688, F1 0.9689\n",
      "Epoch [70/75]        | Train: Loss 0.0498, Accuracy 0.9804                               | Test: Loss 0.0842, Accuracy 0.9689, F1 0.9688\n",
      "Epoch [71/75]        | Train: Loss 0.0492, Accuracy 0.9809                               | Test: Loss 0.0826, Accuracy 0.9701, F1 0.9701\n",
      "Epoch [72/75]        | Train: Loss 0.0485, Accuracy 0.9813                               | Test: Loss 0.0843, Accuracy 0.9697, F1 0.9698\n",
      "Epoch [73/75]        | Train: Loss 0.0482, Accuracy 0.9812                               | Test: Loss 0.0829, Accuracy 0.9701, F1 0.9702\n",
      "Epoch [74/75]        | Train: Loss 0.0468, Accuracy 0.9819                               | Test: Loss 0.0850, Accuracy 0.9697, F1 0.9697\n",
      "Epoch [75/75]        | Train: Loss 0.0470, Accuracy 0.9819                               | Test: Loss 0.0822, Accuracy 0.9702, F1 0.9702\n",
      "Confusion Matrix for income\n",
      "[[41112   985     0     0    17     4    86]\n",
      " [ 1212 55314   101     0   187    73    25]\n",
      " [    1    43  6888    33    10   119     0]\n",
      " [    0     0    49   472     0    12     0]\n",
      " [   12   122    17     0  1797    13     1]\n",
      " [    1    45   131    19     1  3263     0]\n",
      " [  130    11     0     0     1     0  3896]]\n"
     ]
    },
    {
     "data": {
      "image/png": "[encoded data removed]",
      "text/plain": [
       "<Figure size 1500x500 with 2 Axes>"
      ]
     },
     "metadata": {},
     "output_type": "display_data"
    }
   ],
   "source": [
    "#Testing against the test dataset\n",
    "\n",
    "model = Classifier(\n",
    "                    n_features=len(cont_columns),\n",
    "                    targets_classes=target_classes,\n",
    "                    rff_on=True,\n",
    "                   sigma=best_params['sigma'],\n",
    "                   embed_size=best_params['embed_size'],\n",
    "                   num_layers=best_params['num_layers'],\n",
    "                   heads=best_params['heads'],\n",
    "                   forward_expansion=best_params['forward_expansion'],\n",
    "                   pre_norm_on=best_params['prenorm_on'],\n",
    "                   mlp_scale_classification=best_params['mlp_scale_classification'],\n",
    "                   embedding_dropout=best_params['embedding_dropout'],\n",
    "                   decoder_dropout=best_params['decoder_dropout'],\n",
    "                   classification_dropout=best_params['class_drop']\n",
    "                   ).to(device_in_use) # Instantiate the model\n",
    "loss_functions = UncertaintyLoss(1)\n",
    "optimizer = torch.optim.Adam(params=model.parameters(), lr = best_params['learning_rate']) # Maybe try messing around with optimizers. try other torch optimizers with different configurations.\n",
    "early_stopping = EarlyStopping(patience=3)\n",
    "epochs = 75 #Set the number of epochs\n",
    "\n",
    "train_losses = []\n",
    "train_accuracies_1 = [] \n",
    "train_accuracies_2 = []\n",
    "train_recalls = [] \n",
    "train_f1_scores = [] \n",
    "test_losses = []\n",
    "test_accuracies_1 = []\n",
    "test_accuracies_2 = []\n",
    "test_recalls = []  \n",
    "test_f1_scores = [] \n",
    "all_attention_scores = []\n",
    "\n",
    "for t in range(epochs):\n",
    "  train_loss, train_accuracy_1 = train(train_dataloader, model, loss_functions, optimizer, device_in_use=device_in_use)\n",
    "  test_loss, test_accuracy_1, all_predictions_1, all_targets_1, f1_1 = test(test_dataloader, model, loss_functions, device_in_use=device_in_use)\n",
    "  train_losses.append(train_loss)\n",
    "  train_accuracies_1.append(train_accuracy_1)\n",
    "  # train_accuracies_2.append(train_accuracy_2)\n",
    "  # train_recalls.append(train_recall) \n",
    "  # train_f1_scores.append(train_f1)\n",
    "  test_losses.append(test_loss)\n",
    "  test_accuracies_1.append(test_accuracy_1)\n",
    "  # test_accuracies_2.append(test_accuracy_2)\n",
    "  # test_recalls.append(test_recall)\n",
    "  # test_f1_scores.append(test_f1)\n",
    "  # Formatting for easier reading\n",
    "  epoch_str = f\"Epoch [{t+1:2}/{epochs}]\"\n",
    "  train_metrics = f\"Train: Loss {format_metric(train_loss)}, Accuracy {format_metric(train_accuracy_1)}\"\n",
    "  test_metrics = f\"Test: Loss {format_metric(test_loss)}, Accuracy {format_metric(test_accuracy_1)}, F1 {format_metric(f1_1)}\"\n",
    "  print(f\"{epoch_str:20} | {train_metrics:65} | {test_metrics}\")\n",
    "\n",
    "  if early_stopping(test_accuracy_1):\n",
    "    break\n",
    "\n",
    "# Save the model after pre-training\n",
    "torch.save(model.state_dict(), 'final_model_trained.pth')\n",
    "\n",
    "# Plotting the loss curves\n",
    "plt.figure(figsize=(15, 5))\n",
    "plt.subplot(1, 2, 1)\n",
    "plt.plot(range(1, epochs+1), train_losses, label='Train Loss')\n",
    "plt.plot(range(1, epochs+1), [l for l in test_losses], label='Test Loss')\n",
    "plt.xlabel('Epoch')\n",
    "plt.ylabel('Loss')\n",
    "plt.title('Training and Test Loss Curve')\n",
    "plt.legend()\n",
    "\n",
    "# Plotting the accuracy curves\n",
    "plt.subplot(1, 2, 2)\n",
    "plt.plot(range(1, epochs+1), train_accuracies_1, label='Train Accuracy')\n",
    "plt.plot(range(1, epochs+1), test_accuracies_1, label='Test Accuracy')\n",
    "plt.xlabel('Epoch')\n",
    "plt.ylabel('Accuracy')\n",
    "plt.title('Training and Test Accuracy Curve')\n",
    "plt.legend()\n",
    "\n",
    "# Display confusion matrix for the first task (Traffic Type) on test data\n",
    "conf_matrix_1 = confusion_matrix(all_targets_1, all_predictions_1)\n",
    "print(\"Confusion Matrix for income\")\n",
    "print(conf_matrix_1)\n"
   ]
  }
 ],
 "metadata": {
  "kernelspec": {
   "display_name": "ml-env",
   "language": "python",
   "name": "python3"
  },
  "language_info": {
   "codemirror_mode": {
    "name": "ipython",
    "version": 3
   },
   "file_extension": ".py",
   "mimetype": "text/x-python",
   "name": "python",
   "nbconvert_exporter": "python",
   "pygments_lexer": "ipython3",
   "version": "3.11.5"
  }
 },
 "nbformat": 4,
 "nbformat_minor": 2
}
