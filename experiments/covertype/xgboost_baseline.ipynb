{
 "cells": [
  {
   "cell_type": "code",
   "execution_count": 1,
   "metadata": {},
   "outputs": [],
   "source": [
    "import pandas as pd\n",
    "import numpy as np\n",
    "import xgboost as xgb\n",
    "from sklearn.model_selection import train_test_split\n",
    "from sklearn.metrics import confusion_matrix, accuracy_score, recall_score, f1_score, log_loss\n",
    "from sklearn.preprocessing import StandardScaler, LabelEncoder\n",
    "from hyperopt import tpe,hp,Trials, space_eval\n",
    "from hyperopt.fmin import fmin\n",
    "import matplotlib.pyplot as plt"
   ]
  },
  {
   "cell_type": "code",
   "execution_count": 3,
   "metadata": {},
   "outputs": [],
   "source": [
    "df_train = pd.read_csv('train.csv') #REDO\n",
    "df_val = pd.read_csv('validation.csv')\n",
    "df_test = pd.read_csv('test.csv')\n",
    "\n",
    "X_train = df_train.drop('Cover_Type', axis=1)\n",
    "y_train = df_train['Cover_Type']\n",
    "\n",
    "X_val = df_val.drop('Cover_Type', axis=1)\n",
    "y_val = df_val['Cover_Type']\n",
    "\n",
    "X_test = df_test.drop('Cover_Type', axis=1)\n",
    "y_test = df_test['Cover_Type']"
   ]
  },
  {
   "cell_type": "code",
   "execution_count": 4,
   "metadata": {},
   "outputs": [
    {
     "name": "stdout",
     "output_type": "stream",
     "text": [
      "100%|██████████| 100/100 [00:32<00:00,  3.05trial/s, best loss: 0.7597113465376938]\n"
     ]
    }
   ],
   "source": [
    "def objective(params):\n",
    "    lr=int(params['learning_rate'])\n",
    "    md=int(params['max_depth'])\n",
    "    g=int(params['gamma'])\n",
    "    csbt=int(params['colsample_bytree'])\n",
    "    ra=int(params['reg_alpha'])\n",
    "    rl=int(params['reg_lambda'])\n",
    "\n",
    "    model=xgb.XGBClassifier(learning_rate=lr, max_depth=md, gamma=g, colsample_bytree=csbt, reg_alpha=ra, reg_lambda=rl)\n",
    "    model.fit(X_train,y_train)\n",
    "    pred=model.predict(X_val)\n",
    "    acc = accuracy_score(y_val, pred) \n",
    "    return acc\n",
    "\n",
    "def optimize(trial):\n",
    "    params={'learning_rate':hp.choice('learning_rate',[0.0001, 0.001, 0.01, 0.1, 1]),\n",
    "           'max_depth':hp.choice('max_depth',range(3, 21)),\n",
    "           'gamma':hp.choice('gamma',range(0,5)),\n",
    "           'colsample_bytree':hp.choice('colsample_bytree',[i/10 for i in range(3,10)]),\n",
    "           'reg_alpha':hp.choice('reg_alpha',[1e-5, 1e-2, 0.1, 1, 10, 100]),\n",
    "           'reg_lambda':hp.choice('reg_lambda',[1e-5, 1e-2, 0.1, 1, 10, 100])\n",
    "           }\n",
    "    best_indices=fmin(fn=objective,space=params,algo=tpe.suggest,trials=trial,max_evals=100) # Possibly change max_evals and see if the results are much different\n",
    "    \n",
    "    # Convert the best indices to actual values\n",
    "    best_hyperparameters = {\n",
    "        'learning_rate': [0.0001, 0.001, 0.01, 0.1, 1][best_indices['learning_rate']],\n",
    "        'max_depth': range(3, 21)[best_indices['max_depth']],\n",
    "        'gamma': range(0, 5)[best_indices['gamma']],\n",
    "        'colsample_bytree': [i / 10 for i in range(3, 10)][best_indices['colsample_bytree']],\n",
    "        'reg_alpha': [1e-5, 1e-2, 0.1, 1, 10, 100][best_indices['reg_alpha']],\n",
    "        'reg_lambda': [1e-5, 1e-2, 0.1, 1, 10, 100][best_indices['reg_lambda']]\n",
    "    }\n",
    "    \n",
    "    return best_hyperparameters\n",
    "\n",
    "trial=Trials()\n",
    "best=optimize(trial)"
   ]
  },
  {
   "cell_type": "code",
   "execution_count": 15,
   "metadata": {},
   "outputs": [
    {
     "data": {
      "text/plain": [
       "{'learning_rate': 0.01,\n",
       " 'max_depth': 16,\n",
       " 'gamma': 1,\n",
       " 'colsample_bytree': 0.4,\n",
       " 'reg_alpha': 0.01,\n",
       " 'reg_lambda': 10}"
      ]
     },
     "execution_count": 15,
     "metadata": {},
     "output_type": "execute_result"
    }
   ],
   "source": [
    "best"
   ]
  },
  {
   "cell_type": "code",
   "execution_count": 5,
   "metadata": {},
   "outputs": [
    {
     "name": "stdout",
     "output_type": "stream",
     "text": [
      "Loss:  0.6881646137454486\n",
      "Accuracy:  0.85283459246975\n",
      "Recall:  0.85283459246975\n",
      "F1:  0.8368724081814236\n"
     ]
    }
   ],
   "source": [
    "model = xgb.XGBClassifier(\n",
    "    learning_rate=best['learning_rate'],\n",
    "    max_depth=best['max_depth'],\n",
    "    gamma=best['gamma'],\n",
    "    colsample_bytree=best['colsample_bytree'],\n",
    "    reg_alpha=best['reg_alpha'],\n",
    "    reg_lambda=best['reg_lambda']\n",
    ")\n",
    "\n",
    "model.fit(X_train, y_train)\n",
    "\n",
    "yhat = model.predict(X_test)\n",
    "yhat_probabilities = model.predict_proba(X_test)\n",
    "\n",
    "accuracy = accuracy_score(y_test, yhat)\n",
    "recall = recall_score(y_test, yhat, average='weighted')\n",
    "f1 = f1_score(y_test, yhat, average='weighted')\n",
    "loss = log_loss(y_test, yhat_probabilities)\n",
    "\n",
    "print(\"Loss: \", loss)\n",
    "print(\"Accuracy: \", accuracy)\n",
    "print(\"Recall: \", recall)\n",
    "print(\"F1: \", f1)"
   ]
  },
  {
   "cell_type": "code",
   "execution_count": 6,
   "metadata": {},
   "outputs": [
    {
     "name": "stdout",
     "output_type": "stream",
     "text": [
      "Loss:  0.284313711358974\n",
      "Accuracy:  0.8716909280756711\n",
      "Recall:  0.8716909280756711\n",
      "F1:  0.8677917717023028\n"
     ]
    }
   ],
   "source": [
    "model2 = xgb.XGBClassifier()\n",
    "\n",
    "model2.fit(X_train, y_train)\n",
    "yhat = model2.predict(X_test)\n",
    "yhat_probabilities = model2.predict_proba(X_test)\n",
    "\n",
    "accuracy = accuracy_score(y_test, yhat)\n",
    "recall = recall_score(y_test, yhat, average='weighted')\n",
    "f1 = f1_score(y_test, yhat, average='weighted')\n",
    "loss = log_loss(y_test, yhat_probabilities)\n",
    "\n",
    "print(\"Loss: \", loss)\n",
    "print(\"Accuracy: \", accuracy)\n",
    "print(\"Recall: \", recall)\n",
    "print(\"F1: \", f1)"
   ]
  },
  {
   "cell_type": "code",
   "execution_count": 7,
   "metadata": {},
   "outputs": [
    {
     "data": {
      "text/plain": [
       "{'objective': 'binary:logistic',\n",
       " 'use_label_encoder': None,\n",
       " 'base_score': None,\n",
       " 'booster': None,\n",
       " 'callbacks': None,\n",
       " 'colsample_bylevel': None,\n",
       " 'colsample_bynode': None,\n",
       " 'colsample_bytree': None,\n",
       " 'early_stopping_rounds': None,\n",
       " 'enable_categorical': False,\n",
       " 'eval_metric': None,\n",
       " 'feature_types': None,\n",
       " 'gamma': None,\n",
       " 'gpu_id': None,\n",
       " 'grow_policy': None,\n",
       " 'importance_type': None,\n",
       " 'interaction_constraints': None,\n",
       " 'learning_rate': None,\n",
       " 'max_bin': None,\n",
       " 'max_cat_threshold': None,\n",
       " 'max_cat_to_onehot': None,\n",
       " 'max_delta_step': None,\n",
       " 'max_depth': None,\n",
       " 'max_leaves': None,\n",
       " 'min_child_weight': None,\n",
       " 'missing': nan,\n",
       " 'monotone_constraints': None,\n",
       " 'n_estimators': 100,\n",
       " 'n_jobs': None,\n",
       " 'num_parallel_tree': None,\n",
       " 'predictor': None,\n",
       " 'random_state': None,\n",
       " 'reg_alpha': None,\n",
       " 'reg_lambda': None,\n",
       " 'sampling_method': None,\n",
       " 'scale_pos_weight': None,\n",
       " 'subsample': None,\n",
       " 'tree_method': None,\n",
       " 'validate_parameters': None,\n",
       " 'verbosity': None}"
      ]
     },
     "execution_count": 7,
     "metadata": {},
     "output_type": "execute_result"
    }
   ],
   "source": [
    "model2.get_params()"
   ]
  }
 ],
 "metadata": {
  "kernelspec": {
   "display_name": "Python 3",
   "language": "python",
   "name": "python3"
  },
  "language_info": {
   "codemirror_mode": {
    "name": "ipython",
    "version": 3
   },
   "file_extension": ".py",
   "mimetype": "text/x-python",
   "name": "python",
   "nbconvert_exporter": "python",
   "pygments_lexer": "ipython3",
   "version": "3.11.4"
  },
  "orig_nbformat": 4
 },
 "nbformat": 4,
 "nbformat_minor": 2
}
