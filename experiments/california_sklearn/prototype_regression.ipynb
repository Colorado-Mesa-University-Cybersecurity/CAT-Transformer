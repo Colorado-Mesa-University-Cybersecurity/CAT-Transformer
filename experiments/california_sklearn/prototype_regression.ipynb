{
 "cells": [
  {
   "cell_type": "code",
   "execution_count": 4,
   "metadata": {},
   "outputs": [],
   "source": [
    "import torch\n",
    "import torch.nn as nn\n",
    "import pandas as pd\n",
    "import numpy as np\n",
    "from torch.utils.data import Dataset, DataLoader\n",
    "import matplotlib.pyplot as plt\n",
    "from rff.layers import GaussianEncoding #pip install random-fourier-features-pytorch\n",
    "from sklearn.model_selection import train_test_split\n",
    "from sklearn.metrics import r2_score\n",
    "from sklearn.preprocessing import StandardScaler, LabelEncoder\n",
    "import os\n",
    "import optuna\n",
    "from optuna.trial import TrialState"
   ]
  },
  {
   "cell_type": "code",
   "execution_count": 5,
   "metadata": {},
   "outputs": [
    {
     "name": "stdout",
     "output_type": "stream",
     "text": [
      "GPU is available and being used\n"
     ]
    }
   ],
   "source": [
    "# Run regardless if you do or do not have GPU so all tensors are moved to right location later on\n",
    "if torch.cuda.is_available():\n",
    "    device_in_use = torch.device(\"cuda\")\n",
    "    print(\"GPU is available and being used\")\n",
    "else:\n",
    "    device_in_use = torch.device(\"cpu\")\n",
    "    print(\"GPU is not available, using CPU instead\")"
   ]
  },
  {
   "cell_type": "markdown",
   "metadata": {},
   "source": [
    "# LOAD AND PROCESS DATA\n",
    "**EXAMPLE WITH COVTYPE DATASET**\n",
    "1. Standardize or perform quantile transformations to numerical/continuous features.\n",
    "1. Wrap with Dataset and Dataloader."
   ]
  },
  {
   "cell_type": "code",
   "execution_count": 6,
   "metadata": {},
   "outputs": [
    {
     "data": {
      "text/html": [
       "<div>\n",
       "<style scoped>\n",
       "    .dataframe tbody tr th:only-of-type {\n",
       "        vertical-align: middle;\n",
       "    }\n",
       "\n",
       "    .dataframe tbody tr th {\n",
       "        vertical-align: top;\n",
       "    }\n",
       "\n",
       "    .dataframe thead th {\n",
       "        text-align: right;\n",
       "    }\n",
       "</style>\n",
       "<table border=\"1\" class=\"dataframe\">\n",
       "  <thead>\n",
       "    <tr style=\"text-align: right;\">\n",
       "      <th></th>\n",
       "      <th>MedInc</th>\n",
       "      <th>HouseAge</th>\n",
       "      <th>AveRooms</th>\n",
       "      <th>AveBedrms</th>\n",
       "      <th>Population</th>\n",
       "      <th>AveOccup</th>\n",
       "      <th>Latitude</th>\n",
       "      <th>Longitude</th>\n",
       "    </tr>\n",
       "  </thead>\n",
       "  <tbody>\n",
       "    <tr>\n",
       "      <th>0</th>\n",
       "      <td>2.8631</td>\n",
       "      <td>20.0</td>\n",
       "      <td>4.401210</td>\n",
       "      <td>1.076613</td>\n",
       "      <td>999.0</td>\n",
       "      <td>2.014113</td>\n",
       "      <td>32.79</td>\n",
       "      <td>-117.09</td>\n",
       "    </tr>\n",
       "    <tr>\n",
       "      <th>1</th>\n",
       "      <td>4.2026</td>\n",
       "      <td>24.0</td>\n",
       "      <td>5.617544</td>\n",
       "      <td>0.989474</td>\n",
       "      <td>731.0</td>\n",
       "      <td>2.564912</td>\n",
       "      <td>34.59</td>\n",
       "      <td>-120.14</td>\n",
       "    </tr>\n",
       "    <tr>\n",
       "      <th>2</th>\n",
       "      <td>3.1094</td>\n",
       "      <td>14.0</td>\n",
       "      <td>5.869565</td>\n",
       "      <td>1.094203</td>\n",
       "      <td>302.0</td>\n",
       "      <td>2.188406</td>\n",
       "      <td>39.26</td>\n",
       "      <td>-121.00</td>\n",
       "    </tr>\n",
       "    <tr>\n",
       "      <th>3</th>\n",
       "      <td>3.3068</td>\n",
       "      <td>52.0</td>\n",
       "      <td>4.801205</td>\n",
       "      <td>1.066265</td>\n",
       "      <td>1526.0</td>\n",
       "      <td>2.298193</td>\n",
       "      <td>37.77</td>\n",
       "      <td>-122.45</td>\n",
       "    </tr>\n",
       "    <tr>\n",
       "      <th>4</th>\n",
       "      <td>4.0791</td>\n",
       "      <td>11.0</td>\n",
       "      <td>5.878902</td>\n",
       "      <td>1.098493</td>\n",
       "      <td>4773.0</td>\n",
       "      <td>2.568891</td>\n",
       "      <td>33.17</td>\n",
       "      <td>-117.33</td>\n",
       "    </tr>\n",
       "    <tr>\n",
       "      <th>...</th>\n",
       "      <td>...</td>\n",
       "      <td>...</td>\n",
       "      <td>...</td>\n",
       "      <td>...</td>\n",
       "      <td>...</td>\n",
       "      <td>...</td>\n",
       "      <td>...</td>\n",
       "      <td>...</td>\n",
       "    </tr>\n",
       "    <tr>\n",
       "      <th>14442</th>\n",
       "      <td>6.3700</td>\n",
       "      <td>35.0</td>\n",
       "      <td>6.129032</td>\n",
       "      <td>0.926267</td>\n",
       "      <td>658.0</td>\n",
       "      <td>3.032258</td>\n",
       "      <td>33.78</td>\n",
       "      <td>-117.96</td>\n",
       "    </tr>\n",
       "    <tr>\n",
       "      <th>14443</th>\n",
       "      <td>3.0500</td>\n",
       "      <td>33.0</td>\n",
       "      <td>6.868597</td>\n",
       "      <td>1.269488</td>\n",
       "      <td>1753.0</td>\n",
       "      <td>3.904232</td>\n",
       "      <td>34.02</td>\n",
       "      <td>-117.43</td>\n",
       "    </tr>\n",
       "    <tr>\n",
       "      <th>14444</th>\n",
       "      <td>2.9344</td>\n",
       "      <td>36.0</td>\n",
       "      <td>3.986717</td>\n",
       "      <td>1.079696</td>\n",
       "      <td>1756.0</td>\n",
       "      <td>3.332068</td>\n",
       "      <td>34.03</td>\n",
       "      <td>-118.38</td>\n",
       "    </tr>\n",
       "    <tr>\n",
       "      <th>14445</th>\n",
       "      <td>5.7192</td>\n",
       "      <td>15.0</td>\n",
       "      <td>6.395349</td>\n",
       "      <td>1.067979</td>\n",
       "      <td>1777.0</td>\n",
       "      <td>3.178891</td>\n",
       "      <td>37.58</td>\n",
       "      <td>-121.96</td>\n",
       "    </tr>\n",
       "    <tr>\n",
       "      <th>14446</th>\n",
       "      <td>2.5755</td>\n",
       "      <td>52.0</td>\n",
       "      <td>3.402576</td>\n",
       "      <td>1.058776</td>\n",
       "      <td>2619.0</td>\n",
       "      <td>2.108696</td>\n",
       "      <td>37.77</td>\n",
       "      <td>-122.42</td>\n",
       "    </tr>\n",
       "  </tbody>\n",
       "</table>\n",
       "<p>14447 rows × 8 columns</p>\n",
       "</div>"
      ],
      "text/plain": [
       "       MedInc  HouseAge  AveRooms  AveBedrms  Population  AveOccup  Latitude  \\\n",
       "0      2.8631      20.0  4.401210   1.076613       999.0  2.014113     32.79   \n",
       "1      4.2026      24.0  5.617544   0.989474       731.0  2.564912     34.59   \n",
       "2      3.1094      14.0  5.869565   1.094203       302.0  2.188406     39.26   \n",
       "3      3.3068      52.0  4.801205   1.066265      1526.0  2.298193     37.77   \n",
       "4      4.0791      11.0  5.878902   1.098493      4773.0  2.568891     33.17   \n",
       "...       ...       ...       ...        ...         ...       ...       ...   \n",
       "14442  6.3700      35.0  6.129032   0.926267       658.0  3.032258     33.78   \n",
       "14443  3.0500      33.0  6.868597   1.269488      1753.0  3.904232     34.02   \n",
       "14444  2.9344      36.0  3.986717   1.079696      1756.0  3.332068     34.03   \n",
       "14445  5.7192      15.0  6.395349   1.067979      1777.0  3.178891     37.58   \n",
       "14446  2.5755      52.0  3.402576   1.058776      2619.0  2.108696     37.77   \n",
       "\n",
       "       Longitude  \n",
       "0        -117.09  \n",
       "1        -120.14  \n",
       "2        -121.00  \n",
       "3        -122.45  \n",
       "4        -117.33  \n",
       "...          ...  \n",
       "14442    -117.96  \n",
       "14443    -117.43  \n",
       "14444    -118.38  \n",
       "14445    -121.96  \n",
       "14446    -122.42  \n",
       "\n",
       "[14447 rows x 8 columns]"
      ]
     },
     "execution_count": 6,
     "metadata": {},
     "output_type": "execute_result"
    }
   ],
   "source": [
    "df_train = pd.read_csv('/home/cscadmin/CyberResearch/CAT-Transformer/datasets/california/train.csv')\n",
    "df_test = pd.read_csv('/home/cscadmin/CyberResearch/CAT-Transformer/datasets/california/test.csv')\n",
    "df_val = pd.read_csv('/home/cscadmin/CyberResearch/CAT-Transformer/datasets/california/validation.csv') #READ FROM RIGHT SPOT\n",
    "\n",
    "# df_train = pd.read_csv(r'C:\\Users\\smbm2\\projects\\CAT-Transformer\\datasets\\california\\train.csv')\n",
    "# df_test = pd.read_csv(r'C:\\Users\\smbm2\\projects\\CAT-Transformer\\datasets\\california\\test.csv')\n",
    "# df_val = pd.read_csv(r'C:\\Users\\smbm2\\projects\\CAT-Transformer\\datasets\\california\\validation.csv') #READ FROM RIGHT SPOT\n",
    "\n",
    "#Take a look at what the datasets look like initially to get an idea\n",
    "df_train"
   ]
  },
  {
   "cell_type": "code",
   "execution_count": 7,
   "metadata": {},
   "outputs": [
    {
     "data": {
      "text/plain": [
       "Index(['MedInc', 'HouseAge', 'AveRooms', 'AveBedrms', 'Population', 'AveOccup',\n",
       "       'Latitude', 'Longitude'],\n",
       "      dtype='object')"
      ]
     },
     "execution_count": 7,
     "metadata": {},
     "output_type": "execute_result"
    }
   ],
   "source": [
    "#Take a look at the feature names\n",
    "df_train.columns"
   ]
  },
  {
   "cell_type": "code",
   "execution_count": 8,
   "metadata": {},
   "outputs": [],
   "source": [
    "cont_columns = ['HouseAge', 'AveRooms', 'AveBedrms', 'Population', 'AveOccup',\n",
    "       'Latitude', 'Longitude']\n",
    "target = ['MedInc']\n",
    "\n",
    "#CHECKING TO MAKE SURE YOUR LIST IS CORRECT (NO NEED TO TOUCH)\n",
    "yourlist = cont_columns + target\n",
    "yourlist.sort()\n",
    "oglist = list(df_train.columns)\n",
    "oglist.sort()\n",
    "\n",
    "assert(yourlist == oglist), \"You may of spelled feature name wrong or you forgot to put on of them in the list\""
   ]
  },
  {
   "cell_type": "code",
   "execution_count": 9,
   "metadata": {},
   "outputs": [
    {
     "data": {
      "text/plain": [
       "[9851]"
      ]
     },
     "execution_count": 9,
     "metadata": {},
     "output_type": "execute_result"
    }
   ],
   "source": [
    "#Getting the number of classes in your classification target\n",
    "target_classes = [max(len(df_train[target].value_counts()), len(df_val[target].value_counts()),len(df_test[target].value_counts()))]\n",
    "target_classes"
   ]
  },
  {
   "cell_type": "code",
   "execution_count": 10,
   "metadata": {},
   "outputs": [],
   "source": [
    "# Create a StandardScaler and fit it to the cont features\n",
    "scaler = StandardScaler()\n",
    "scaler.fit(df_train[cont_columns])\n",
    "\n",
    "# Transform the training, test, and validation datasets\n",
    "df_train[cont_columns] = scaler.transform(df_train[cont_columns])\n",
    "df_test[cont_columns] = scaler.transform(df_test[cont_columns])\n",
    "df_val[cont_columns] = scaler.transform(df_val[cont_columns])"
   ]
  },
  {
   "cell_type": "code",
   "execution_count": 11,
   "metadata": {},
   "outputs": [],
   "source": [
    "class SingleTaskDataset(Dataset):\n",
    "    def __init__(self, df : pd.DataFrame, num_columns,task1_column):\n",
    "        self.n = df.shape[0]\n",
    "        \n",
    "        self.task1_labels = df[task1_column].astype(np.float32).values\n",
    "\n",
    "        self.num = df[num_columns].astype(np.float32).values\n",
    "\n",
    "\n",
    "    def __len__(self):\n",
    "        return self.n\n",
    "    \n",
    "    def __getitem__(self, idx):\n",
    "        # Retrieve features and labels from the dataframe using column names\n",
    "        num_features = self.num[idx]\n",
    "        labels_task1 = self.task1_labels[idx]\n",
    "\n",
    "        return num_features, labels_task1\n",
    "\n",
    "#Wrapping in Dataset\n",
    "train_dataset = SingleTaskDataset(df_train, cont_columns, 'MedInc')\n",
    "val_dataset = SingleTaskDataset(df_val, cont_columns, 'MedInc')\n",
    "test_dataset = SingleTaskDataset(df_test, cont_columns, 'MedInc')\n",
    "\n",
    "#This is a hyperparameter that is not tuned. Maybe mess with what makes sense here\n",
    "#Also try looking to see what other papers have done\n",
    "batch_size = 256\n",
    "\n",
    "# Wrapping with DataLoader for easy batch extraction\n",
    "train_dataloader = DataLoader(train_dataset, batch_size=batch_size, shuffle=True)\n",
    "val_dataloader = DataLoader(val_dataset, batch_size=batch_size, shuffle=True)\n",
    "test_dataloader = DataLoader(test_dataset, batch_size=batch_size, shuffle=True)"
   ]
  },
  {
   "cell_type": "markdown",
   "metadata": {},
   "source": [
    "# MODEL AND HELPERS\n",
    "\n",
    "1. All you should have to do is interact with Classifier()"
   ]
  },
  {
   "cell_type": "code",
   "execution_count": 12,
   "metadata": {},
   "outputs": [],
   "source": [
    "# each task loss is scaled by its own learnable parameter, then regularization is applied \n",
    "class UncertaintyLoss(nn.Module):\n",
    "    def __init__(self, num_tasks):\n",
    "        super(UncertaintyLoss, self).__init__()\n",
    "        self.num_tasks = num_tasks\n",
    "\n",
    "        self.loss_fns = [nn.MSELoss() for x in range(num_tasks)] \n",
    "\n",
    "    def forward(self, predictions, labels_task1):\n",
    "\n",
    "        #task 1\n",
    "        target = labels_task1\n",
    "        prediction = predictions\n",
    "        loss_fn = self.loss_fns[0]\n",
    "        task_loss = loss_fn(prediction, target)\n",
    "        \n",
    "        return task_loss\n",
    "    \n",
    "#All layers of the model\n",
    "class MultiHeadAttention(nn.Module):\n",
    "    def __init__(self, embed_size, heads):\n",
    "        super(MultiHeadAttention, self).__init__()\n",
    "\n",
    "        self.embed_size = embed_size\n",
    "        self.heads = heads\n",
    "        self.head_dim = embed_size // heads\n",
    "        assert(self.head_dim * heads == embed_size), \"Embed size needs to be div by heads\"\n",
    "        self.values = nn.Linear(self.head_dim, self.head_dim, bias=False)\n",
    "        self.keys =nn.Linear(self.head_dim, self.head_dim, bias=False)\n",
    "        self.queries = nn.Linear(self.head_dim, self.head_dim, bias=False)\n",
    "        self.fc_out = nn.Linear(heads*self.head_dim, embed_size)\n",
    "\n",
    "\n",
    "    def forward(self, values, keys, query):\n",
    "        N = query.shape[0]\n",
    "        value_len, key_len, query_len = values.shape[1], keys.shape[1], query.shape[1]\n",
    "\n",
    "        values = values.reshape(N, value_len, self.heads, self.head_dim)\n",
    "        keys = keys.reshape(N, key_len, self.heads, self.head_dim)\n",
    "        queries = query.reshape(N, query_len, self.heads, self.head_dim)\n",
    "\n",
    "        values = self.values(values)\n",
    "        keys = self.keys(keys)\n",
    "        queries = self.queries(queries)\n",
    "\n",
    "        energy = torch.einsum(\"nqhd,nkhd->nhqk\", [queries, keys])\n",
    "\n",
    "        attention = torch.softmax(energy / (self.embed_size ** (1/2)), dim=3) #(batch_size, head_dim, #query_embeddings, #key_embeddings)\n",
    "\n",
    "        # Calculate simplified attention scores\n",
    "        avg_attention = attention.mean(dim=0)  # Average across batches\n",
    "        # print(\"batch average\", avg_attention.shape)\n",
    "        avg_attention = avg_attention.mean(dim=0).squeeze(dim=0)\n",
    "        # print(\"head average\", avg_attention.shape)\n",
    "\n",
    "        out = torch.einsum(\"nhql,nlhd->nqhd\", [attention, values]).reshape(N, query_len, self.heads*self.head_dim) #(batch_size, n_features, embed_size)\n",
    "        out = self.fc_out(out)\n",
    "\n",
    "        return out, avg_attention\n",
    "    \n",
    "class TransformerBlock(nn.Module):\n",
    "    def __init__(self, embed_size, heads, dropout, forward_expansion, pre_norm_on):\n",
    "        super(TransformerBlock, self).__init__()\n",
    "\n",
    "        self.pre_norm_on = pre_norm_on\n",
    "        if self.pre_norm_on:\n",
    "            self.pre_norm = nn.LayerNorm(embed_size)\n",
    "        self.attention = MultiHeadAttention(embed_size, heads)\n",
    "        self.norm1 = nn.LayerNorm(embed_size)\n",
    "        self.norm2 = nn.LayerNorm(embed_size)\n",
    "\n",
    "        self.feed_forward = nn.Sequential(nn.Linear(embed_size, forward_expansion*embed_size),\n",
    "                                          nn.ReLU(),\n",
    "                                          nn.Linear(forward_expansion*embed_size, embed_size)\n",
    "                                          )\n",
    "        self.dropout = nn.Dropout(dropout)\n",
    "\n",
    "    def forward(self,value,key,query):\n",
    "        if self.pre_norm_on:\n",
    "            query = self.pre_norm(query)\n",
    "            key = self.pre_norm(key)\n",
    "            value = self.pre_norm(value)\n",
    "            \n",
    "        attention, avg_attention = self.attention(value, key, query)\n",
    "        x = self.dropout(self.norm1(attention + query))\n",
    "        forward = self.feed_forward(x)\n",
    "        out = self.dropout(self.norm2(forward + x))\n",
    "        return out, avg_attention\n",
    "    \n",
    "class DecoderBlock(nn.Module):\n",
    "    def __init__(self, embed_size, heads, forward_expansion, dropout, pre_norm_on):\n",
    "        super(DecoderBlock, self).__init__()\n",
    "\n",
    "        self.attention = MultiHeadAttention(embed_size, heads)\n",
    "        self.norm = nn.LayerNorm(embed_size)\n",
    "        self.transformer_block = TransformerBlock(embed_size, heads, dropout, forward_expansion, pre_norm_on)\n",
    "        self.dropout = nn.Dropout(dropout)\n",
    "\n",
    "    def forward(self, x, value, key):\n",
    "        out, avg_attention = self.transformer_block(value, key, x)\n",
    "\n",
    "        return out, avg_attention\n",
    "\n",
    "class Decoder(nn.Module):\n",
    "    def __init__(self,\n",
    "                 embed_size,\n",
    "                 num_layers,\n",
    "                 heads,\n",
    "                 forward_expansion,\n",
    "                 decoder_dropout,\n",
    "                 pre_norm_on\n",
    "    ):\n",
    "        super(Decoder, self).__init__()\n",
    "\n",
    "        self.layers = nn.ModuleList(\n",
    "                [\n",
    "                    DecoderBlock(\n",
    "                        embed_size,\n",
    "                        heads,\n",
    "                        dropout=decoder_dropout,\n",
    "                        forward_expansion=forward_expansion,\n",
    "                        pre_norm_on=pre_norm_on\n",
    "                    )\n",
    "                    for _ in range(num_layers)\n",
    "                ]\n",
    "            )\n",
    "        self.avg_attention = None\n",
    "\n",
    "    def forward(self, class_embed, context):\n",
    "        for layer in self.layers:\n",
    "            # x is the classification embedding (CLS Token)\n",
    "            # context are the feature embeddings that will be used as key and value\n",
    "            x, self.avg_attention = layer(class_embed, context, context)\n",
    "  \n",
    "        return x \n",
    "\n",
    "class Embeddings(nn.Module):\n",
    "    def __init__(self, sigma, embed_size, input_size, embedding_dropout, n_features, num_target_labels, rff_on):\n",
    "        super(Embeddings, self).__init__()\n",
    "\n",
    "        self.rff_on = rff_on\n",
    "\n",
    "        if self.rff_on:\n",
    "            self.rffs = nn.ModuleList([GaussianEncoding(sigma=sigma, input_size=input_size, encoded_size=embed_size//2) for _ in range(n_features)])\n",
    "            self.dropout = nn.Dropout(embedding_dropout)\n",
    "            self.mlp_in = embed_size\n",
    "        else:\n",
    "            self.mlp_in = input_size\n",
    "\n",
    "        self.embeddings = nn.ModuleList([nn.Linear(in_features=self.mlp_in, out_features=embed_size) for _ in range(n_features)])\n",
    "\n",
    "        # Classifcation Embeddings for each target label\n",
    "        self.target_label_embeddings = nn.ModuleList([nn.Embedding(1, embed_size) for _ in range(num_target_labels)])\n",
    "\n",
    "\n",
    "    def forward(self, x):\n",
    "        x = x.unsqueeze(2) #(batch_size, n_features) -> (batch_size, n_features, 1)\n",
    "        rff_vectors = []\n",
    "        if self.rff_on:\n",
    "            for i, r in enumerate(self.rffs):\n",
    "                input = x[:,i,:]\n",
    "                out = r(input)\n",
    "                rff_vectors.append(out)\n",
    "        \n",
    "            x = torch.stack(rff_vectors, dim=1)\n",
    "        \n",
    "        embeddings = []\n",
    "        for i, e in enumerate(self.embeddings):\n",
    "            goin_in = x[:,i,:]\n",
    "            goin_out = e(goin_in)\n",
    "            embeddings.append(goin_out)\n",
    "\n",
    "        target_label_embeddings_ = []\n",
    "        for e in self.target_label_embeddings:\n",
    "            input = torch.tensor([0], device=x.device)\n",
    "            temp = e(input)\n",
    "            temp = temp.repeat(x.size(0), 1)\n",
    "            tmep = temp.unsqueeze(1)\n",
    "            target_label_embeddings_.append(temp)\n",
    "\n",
    "        class_embeddings = torch.stack(target_label_embeddings_, dim=1)\n",
    "\n",
    "        context = torch.stack(embeddings, dim=1)\n",
    "\n",
    "        return class_embeddings, context\n",
    "\n",
    "class classificationHead(nn.Module):\n",
    "    def __init__(self, embed_size, dropout, mlp_scale_classification, num_target_classes):\n",
    "        super(classificationHead, self).__init__()\n",
    "        \n",
    "        #flattening the embeddings out so each sample in batch is represented with a 460 dimensional vector\n",
    "        self.input = embed_size\n",
    "        self.lin1 = nn.Linear(self.input, mlp_scale_classification*self.input)\n",
    "        self.drop = nn.Dropout(dropout)\n",
    "        self.lin2 = nn.Linear(mlp_scale_classification*self.input, mlp_scale_classification*self.input)\n",
    "        self.lin3 = nn.Linear(mlp_scale_classification*self.input, self.input)\n",
    "        self.lin4 = nn.Linear(self.input, 1)\n",
    "        self.relu = nn.ReLU()\n",
    "        self.initialize_weights()\n",
    "\n",
    "    def initialize_weights(self): #he_initialization.\n",
    "        torch.nn.init.kaiming_normal_(self.lin1.weight, nonlinearity='relu')\n",
    "        torch.nn.init.zeros_(self.lin1.bias)\n",
    "\n",
    "        torch.nn.init.kaiming_normal_(self.lin3.weight, nonlinearity='relu')\n",
    "        torch.nn.init.zeros_(self.lin3.bias)\n",
    "\n",
    "    def forward(self, x):\n",
    "\n",
    "        x= torch.reshape(x, (-1, self.input))\n",
    "\n",
    "        x = self.lin1(x)\n",
    "        x = self.relu(x)\n",
    "        x = self.drop(x)\n",
    "        x = self.lin2(x)\n",
    "        x = self.relu(x)\n",
    "        x = self.drop(x)\n",
    "        x = self.lin3(x)\n",
    "        x = self.relu(x)\n",
    "        x = self.drop(x)\n",
    "        x = self.lin4(x)\n",
    "  \n",
    "        return x\n",
    "    \n",
    "# class classificationHead(nn.Module):\n",
    "#     def __init__(self, embed_size, dropout, mlp_scale_classification, num_target_classes):\n",
    "#         super(classificationHead, self).__init__()\n",
    "        \n",
    "#         #flattening the embeddings out so each sample in batch is represented with a 460 dimensional vector\n",
    "#         self.input = embed_size\n",
    "#         self.lin1 = nn.Linear(self.input, mlp_scale_classification*self.input)\n",
    "#         self.drop = nn.Dropout(dropout)\n",
    "#         self.lin2 = nn.Linear(mlp_scale_classification*self.input, mlp_scale_classification*self.input)\n",
    "#         self.lin3 = nn.Linear(mlp_scale_classification*self.input, self.input)\n",
    "#         self.lin4 = nn.Linear(self.input, num_target_classes)\n",
    "#         self.relu = nn.ReLU()\n",
    "#         self.initialize_weights()\n",
    "\n",
    "#     def initialize_weights(self): #he_initialization.\n",
    "#         torch.nn.init.kaiming_normal_(self.lin1.weight, nonlinearity='relu')\n",
    "#         torch.nn.init.zeros_(self.lin1.bias)\n",
    "\n",
    "#         torch.nn.init.kaiming_normal_(self.lin3.weight, nonlinearity='relu')\n",
    "#         torch.nn.init.zeros_(self.lin3.bias)\n",
    "\n",
    "#     def forward(self, x):\n",
    "\n",
    "#         x= torch.reshape(x, (-1, self.input))\n",
    "\n",
    "#         x = self.lin1(x)\n",
    "#         x = self.relu(x)\n",
    "#         x = self.drop(x)\n",
    "#         x = self.lin2(x)\n",
    "#         x = self.relu(x)\n",
    "#         x = self.drop(x)\n",
    "#         x = self.lin3(x)\n",
    "#         x = self.relu(x)\n",
    "#         x = self.drop(x)\n",
    "#         x = self.lin4(x)\n",
    "  \n",
    "#         return x\n",
    "\n",
    "\n",
    "# DEFAULT PARAMETERS SET UP FOR VPN DATASET. BE CAREFUL AND MAKE SURE YOU SET THEM UP HOW YOU WANT.\n",
    "class Classifier(nn.Module):\n",
    "    def __init__(self, \n",
    "                 rff_on = False,\n",
    "                 sigma=4,\n",
    "                 embed_size=20,\n",
    "                 input_size=1,\n",
    "                 embedding_dropout = 0,\n",
    "                 n_features=23, # YOU WILL PROBABLY NEED TO CHANGE\n",
    "                 num_layers=1,\n",
    "                 heads=1,\n",
    "                 forward_expansion=4, # Determines how wide the MLP is in the encoder. Its a scaling factor. \n",
    "                 decoder_dropout=0,\n",
    "                 classification_dropout = 0,\n",
    "                 pre_norm_on = False,\n",
    "                 mlp_scale_classification = 4,\n",
    "                 targets_classes : list=  [3,8]\n",
    "                 ):\n",
    "        super(Classifier, self).__init__()\n",
    "\n",
    "        self.embeddings = Embeddings(rff_on=rff_on, sigma=sigma, embed_size=embed_size, input_size=input_size, embedding_dropout=embedding_dropout, n_features=n_features, num_target_labels=len(targets_classes))\n",
    "        self.decoder = Decoder(embed_size=embed_size, num_layers=num_layers, heads=heads, forward_expansion=forward_expansion, decoder_dropout=decoder_dropout, pre_norm_on=pre_norm_on)\n",
    "        self.classifying_heads = nn.ModuleList([classificationHead(embed_size=embed_size, dropout=classification_dropout, mlp_scale_classification=mlp_scale_classification, num_target_classes=x) for x in targets_classes])\n",
    "        \n",
    "    def forward(self, x):\n",
    "        class_embed, context = self.embeddings(x)\n",
    "\n",
    "        x = self.decoder(class_embed, context)\n",
    "        \n",
    "        probability_dist_raw = []\n",
    "        for i, e in enumerate(self.classifying_heads):\n",
    "            input = x[:, i,:]\n",
    "            output = e(input)\n",
    "            probability_dist_raw.append(output)\n",
    "        \n",
    "        return probability_dist_raw\n",
    "\n",
    "# Training and Testing Loops\n",
    "def train(dataloader, model, loss_function, optimizer, device_in_use):\n",
    "    model.train()\n",
    "\n",
    "    total_loss = 0\n",
    "    total_r2_score = 0\n",
    "    root_mean_squared_error_total = 0\n",
    "\n",
    "    for (features, labels_task1) in dataloader:\n",
    "        features, labels_task1 = features.to(device_in_use), labels_task1.to(device_in_use)\n",
    "\n",
    "        task_predictions = model(features)\n",
    "\n",
    "        loss = loss_function(task_predictions[0].squeeze(1), labels_task1)\n",
    "        total_loss += loss.item()\n",
    "        \n",
    "        # Calculate R^2 score for the regression task\n",
    "        r2 = r2_score_manual(labels_task1, task_predictions[0].squeeze(1))\n",
    "        total_r2_score += r2\n",
    "\n",
    "        # Calculate RMSE score for the regression task\n",
    "        rmse_value = rmse(labels_task1, task_predictions[0].squeeze(1))\n",
    "        root_mean_squared_error_total+=rmse_value\n",
    "\n",
    "        loss.backward()\n",
    "        optimizer.step()\n",
    "        optimizer.zero_grad()\n",
    "\n",
    "    avg_loss = total_loss / len(dataloader)\n",
    "    avg_r2_score = total_r2_score / len(dataloader)\n",
    "    avg_rmse_score = root_mean_squared_error_total / len(dataloader)\n",
    "\n",
    "    return avg_loss, avg_r2_score, avg_rmse_score\n",
    "\n",
    "def test(dataloader, model, loss_function, device_in_use):\n",
    "  model.eval()\n",
    "  total_loss = 0\n",
    "  \n",
    "  total_loss = 0\n",
    "  total_r2_score = 0\n",
    "  root_mean_squared_error_total = 0\n",
    "\n",
    "  with torch.no_grad():\n",
    "    for (features,labels_task1) in dataloader:\n",
    "        features, labels_task1 = features.to(device_in_use), labels_task1.to(device_in_use)\n",
    "\n",
    "        task_predictions = model(features)\n",
    "\n",
    "        loss = loss_function(task_predictions[0].squeeze(1), labels_task1)\n",
    "        total_loss += loss.item()\n",
    "        \n",
    "        # Calculate R^2 score for the regression task\n",
    "        r2 = r2_score_manual(labels_task1, task_predictions[0].squeeze(1))\n",
    "        total_r2_score += r2\n",
    "        \n",
    "        # Calculate RMSE score for the regression task\n",
    "        rmse_value = rmse(labels_task1, task_predictions[0].squeeze(1))\n",
    "        root_mean_squared_error_total+=rmse_value\n",
    "\n",
    "    avg_loss = total_loss / len(dataloader)\n",
    "    avg_r2_score = total_r2_score / len(dataloader)\n",
    "    avg_rmse_score = root_mean_squared_error_total / len(dataloader)\n",
    "\n",
    "    return avg_loss, avg_r2_score, avg_rmse_score\n",
    "\n",
    "def format_metric(value): # Used to format the metrics output\n",
    "    return f\"{value:.4f}\"\n",
    "\n",
    "def r2_score_manual(y_true, y_pred):\n",
    "    # Calculate the mean of true labels\n",
    "    y_mean = torch.mean(y_true)\n",
    "\n",
    "    # Calculate the total sum of squares\n",
    "    total_ss = torch.sum((y_true - y_mean)**2)\n",
    "\n",
    "    # Calculate the residual sum of squares\n",
    "    residual_ss = torch.sum((y_true - y_pred)**2)\n",
    "\n",
    "    # Calculate R-squared\n",
    "    r2 = 1 - (residual_ss / total_ss)\n",
    "\n",
    "    return r2.item()  # Convert to a Python float\n",
    "\n",
    "def rmse(y_true, y_pred):\n",
    "    # Calculate the squared differences\n",
    "    squared_diff = (y_true - y_pred)**2\n",
    "\n",
    "    # Calculate the mean of the squared differences\n",
    "    mean_squared_diff = torch.mean(squared_diff)\n",
    "\n",
    "    # Calculate the square root to obtain RMSE\n",
    "    rmse = torch.sqrt(mean_squared_diff)\n",
    "\n",
    "    return rmse.item()  # Convert to a Python float"
   ]
  },
  {
   "cell_type": "markdown",
   "metadata": {},
   "source": [
    "# RUN EXPERIMENTS\n",
    "\n",
    "1. Using Optuna to optimize CAT-Transformers hyperparameters for your dataset"
   ]
  },
  {
   "cell_type": "code",
   "execution_count": 16,
   "metadata": {},
   "outputs": [],
   "source": [
    "# Define the early stopping mechanism\n",
    "class EarlyStopping:\n",
    "    def __init__(self, patience=5):\n",
    "        self.patience = patience\n",
    "        self.counter = 0\n",
    "        self.best_metric = float('-inf')\n",
    "        self.early_stop = False\n",
    "\n",
    "    def __call__(self, metric):\n",
    "        if metric > self.best_metric:\n",
    "            self.best_metric = metric\n",
    "            self.counter = 0\n",
    "        else:\n",
    "            self.counter += 1\n",
    "            if self.counter >= self.patience:\n",
    "                self.early_stop = True\n",
    "\n",
    "# Function to log results to a text file\n",
    "def log_to_file(filename, text):\n",
    "    with open(filename, 'a') as f:\n",
    "        f.write(text + '\\n')\n",
    "\n",
    "def objective(trial):\n",
    "    trial_number = trial.number\n",
    "\n",
    "    # Define hyperparameters to search over\n",
    "    sigma = trial.suggest_categorical('sigma', [.001, 0.1, 1, 2, 3, 5, 10])\n",
    "    num_layers = trial.suggest_int('num_layers', 1, 2)\n",
    "    # Ensure that embed_size is divisible by num_layers\n",
    "    embed_size = trial.suggest_categorical(\"embed_size\", [50, 60, 70, 80, 90, 100, 120, 140, 160])\n",
    "    heads = trial.suggest_categorical(\"heads\", [1, 5, 10])\n",
    "    forward_expansion = trial.suggest_int('forward_expansion', 1, 8)\n",
    "    prenorm_on = trial.suggest_categorical('prenorm_on', [True, False])\n",
    "    mlp_scale_classification = trial.suggest_int('mlp_scale_classification', 1, 8)\n",
    "    embedding_dropout = trial.suggest_categorical('embedding_dropout', [0, .1, .2, .5])\n",
    "    decoder_dropout = trial.suggest_categorical('decoder_dropout', [0,.1,.2,.5])\n",
    "    classification_dropout = trial.suggest_categorical('class_drop', [0,.1,.2,.5])\n",
    "\n",
    "    learning_rate = trial.suggest_categorical('learning_rate', [0.0001, 0.001, 0.01])\n",
    "\n",
    "    num_epochs = 100\n",
    "\n",
    "\n",
    "    # Create your model with the sampled hyperparameters\n",
    "    model = Classifier(\n",
    "        n_features=len(cont_columns),\n",
    "        targets_classes=[0],\n",
    "        rff_on=True,\n",
    "        sigma=sigma,\n",
    "        embed_size=embed_size,\n",
    "        num_layers=num_layers,\n",
    "        heads=heads,\n",
    "        forward_expansion=forward_expansion,\n",
    "        pre_norm_on=prenorm_on,\n",
    "        mlp_scale_classification=mlp_scale_classification,\n",
    "        embedding_dropout=embedding_dropout,\n",
    "        decoder_dropout=decoder_dropout,\n",
    "        classification_dropout=classification_dropout\n",
    "    ).to(device_in_use)\n",
    "\n",
    "    # Define loss function and optimizer\n",
    "    loss_function = UncertaintyLoss(1)\n",
    "    optimizer = torch.optim.Adam(model.parameters(), lr=learning_rate)\n",
    "\n",
    "    # Initialize early stopping\n",
    "    early_stopping = EarlyStopping(patience=10)  # Adjust patience as needed\n",
    "\n",
    "    # Training loop with a large number of epochs\n",
    "    for epoch in range(num_epochs):\n",
    "        train_loss, r2_train, rmse_train = train(train_dataloader, model, loss_function, optimizer, device_in_use)\n",
    "        \n",
    "        # Validation loop\n",
    "        test_loss, r2_test, rmse_test = test(val_dataloader, model, loss_function, device_in_use)\n",
    "        \n",
    "        # Check if we should early stop based on validation rmse\n",
    "        if early_stopping(rmse_test):\n",
    "            break\n",
    "    \n",
    "    # Log the final test accuracy for this trial to a shared log file\n",
    "    final_log = f\"Trial {trial_number} completed. Validation RMSE = {rmse_test:.4f}\"\n",
    "    log_to_file('all_trials_log.txt', final_log)\n",
    "\n",
    "    # Return the test accuracy as the objective to optimize\n",
    "    return rmse_test"
   ]
  },
  {
   "cell_type": "code",
   "execution_count": 17,
   "metadata": {},
   "outputs": [
    {
     "name": "stderr",
     "output_type": "stream",
     "text": [
      "[I 2023-10-25 10:14:44,746] A new study created in memory with name: no-name-286ad601-56e9-4566-b5e9-cea403e1c5ec\n",
      "Best trial: 0. Best value: 1.57955:   1%|          | 1/100 [01:43<2:50:56, 103.60s/it]"
     ]
    },
    {
     "name": "stdout",
     "output_type": "stream",
     "text": [
      "[I 2023-10-25 10:16:28,350] Trial 0 finished with value: 1.579547460262592 and parameters: {'sigma': 2, 'num_layers': 2, 'embed_size': 140, 'heads': 1, 'forward_expansion': 6, 'prenorm_on': False, 'mlp_scale_classification': 4, 'embedding_dropout': 0.2, 'decoder_dropout': 0.5, 'class_drop': 0.1, 'learning_rate': 0.001}. Best is trial 0 with value: 1.579547460262592.\n"
     ]
    },
    {
     "name": "stderr",
     "output_type": "stream",
     "text": [
      "Best trial: 1. Best value: 0.943888:   2%|▏         | 2/100 [03:25<2:47:48, 102.74s/it]"
     ]
    },
    {
     "name": "stdout",
     "output_type": "stream",
     "text": [
      "[I 2023-10-25 10:18:10,480] Trial 1 finished with value: 0.9438884487518897 and parameters: {'sigma': 3, 'num_layers': 2, 'embed_size': 80, 'heads': 5, 'forward_expansion': 4, 'prenorm_on': False, 'mlp_scale_classification': 3, 'embedding_dropout': 0.5, 'decoder_dropout': 0, 'class_drop': 0.2, 'learning_rate': 0.001}. Best is trial 1 with value: 0.9438884487518897.\n"
     ]
    },
    {
     "name": "stderr",
     "output_type": "stream",
     "text": [
      "Best trial: 2. Best value: 0.891359:   3%|▎         | 3/100 [05:15<2:51:08, 105.86s/it]"
     ]
    },
    {
     "name": "stdout",
     "output_type": "stream",
     "text": [
      "[I 2023-10-25 10:20:00,056] Trial 2 finished with value: 0.8913589670107915 and parameters: {'sigma': 2, 'num_layers': 2, 'embed_size': 50, 'heads': 5, 'forward_expansion': 6, 'prenorm_on': True, 'mlp_scale_classification': 7, 'embedding_dropout': 0, 'decoder_dropout': 0, 'class_drop': 0.2, 'learning_rate': 0.01}. Best is trial 2 with value: 0.8913589670107915.\n"
     ]
    },
    {
     "name": "stderr",
     "output_type": "stream",
     "text": [
      "Best trial: 2. Best value: 0.891359:   4%|▍         | 4/100 [06:51<2:43:25, 102.14s/it]"
     ]
    },
    {
     "name": "stdout",
     "output_type": "stream",
     "text": [
      "[I 2023-10-25 10:21:36,482] Trial 3 finished with value: 1.4150457198803241 and parameters: {'sigma': 10, 'num_layers': 1, 'embed_size': 90, 'heads': 1, 'forward_expansion': 1, 'prenorm_on': True, 'mlp_scale_classification': 5, 'embedding_dropout': 0.5, 'decoder_dropout': 0.2, 'class_drop': 0, 'learning_rate': 0.0001}. Best is trial 2 with value: 0.8913589670107915.\n"
     ]
    },
    {
     "name": "stderr",
     "output_type": "stream",
     "text": [
      "Best trial: 2. Best value: 0.891359:   5%|▌         | 5/100 [08:35<2:42:23, 102.56s/it]"
     ]
    },
    {
     "name": "stdout",
     "output_type": "stream",
     "text": [
      "[I 2023-10-25 10:23:19,804] Trial 4 finished with value: 0.9954944161268381 and parameters: {'sigma': 5, 'num_layers': 2, 'embed_size': 140, 'heads': 5, 'forward_expansion': 6, 'prenorm_on': False, 'mlp_scale_classification': 1, 'embedding_dropout': 0.1, 'decoder_dropout': 0.5, 'class_drop': 0.5, 'learning_rate': 0.001}. Best is trial 2 with value: 0.8913589670107915.\n"
     ]
    },
    {
     "name": "stderr",
     "output_type": "stream",
     "text": [
      "Best trial: 2. Best value: 0.891359:   6%|▌         | 6/100 [10:16<2:40:11, 102.25s/it]"
     ]
    },
    {
     "name": "stdout",
     "output_type": "stream",
     "text": [
      "[I 2023-10-25 10:25:01,450] Trial 5 finished with value: 0.9526558059912461 and parameters: {'sigma': 1, 'num_layers': 2, 'embed_size': 80, 'heads': 5, 'forward_expansion': 4, 'prenorm_on': False, 'mlp_scale_classification': 2, 'embedding_dropout': 0.1, 'decoder_dropout': 0, 'class_drop': 0, 'learning_rate': 0.001}. Best is trial 2 with value: 0.8913589670107915.\n"
     ]
    },
    {
     "name": "stderr",
     "output_type": "stream",
     "text": [
      "Best trial: 2. Best value: 0.891359:   7%|▋         | 7/100 [11:59<2:38:40, 102.37s/it]"
     ]
    },
    {
     "name": "stdout",
     "output_type": "stream",
     "text": [
      "[I 2023-10-25 10:26:44,067] Trial 6 finished with value: 2.4008707266587477 and parameters: {'sigma': 3, 'num_layers': 1, 'embed_size': 160, 'heads': 5, 'forward_expansion': 5, 'prenorm_on': True, 'mlp_scale_classification': 8, 'embedding_dropout': 0.5, 'decoder_dropout': 0.5, 'class_drop': 0.5, 'learning_rate': 0.0001}. Best is trial 2 with value: 0.8913589670107915.\n"
     ]
    },
    {
     "name": "stderr",
     "output_type": "stream",
     "text": [
      "Best trial: 2. Best value: 0.891359:   8%|▊         | 8/100 [13:33<2:32:52, 99.70s/it] "
     ]
    },
    {
     "name": "stdout",
     "output_type": "stream",
     "text": [
      "[I 2023-10-25 10:28:18,040] Trial 7 finished with value: 0.9211305838364822 and parameters: {'sigma': 2, 'num_layers': 1, 'embed_size': 70, 'heads': 5, 'forward_expansion': 7, 'prenorm_on': False, 'mlp_scale_classification': 1, 'embedding_dropout': 0.2, 'decoder_dropout': 0.5, 'class_drop': 0.2, 'learning_rate': 0.01}. Best is trial 2 with value: 0.8913589670107915.\n"
     ]
    },
    {
     "name": "stderr",
     "output_type": "stream",
     "text": [
      "Best trial: 2. Best value: 0.891359:   9%|▉         | 9/100 [15:14<2:31:41, 100.01s/it]"
     ]
    },
    {
     "name": "stdout",
     "output_type": "stream",
     "text": [
      "[I 2023-10-25 10:29:58,751] Trial 8 finished with value: 1.1274813505319448 and parameters: {'sigma': 10, 'num_layers': 2, 'embed_size': 160, 'heads': 10, 'forward_expansion': 5, 'prenorm_on': False, 'mlp_scale_classification': 8, 'embedding_dropout': 0.2, 'decoder_dropout': 0.1, 'class_drop': 0.1, 'learning_rate': 0.01}. Best is trial 2 with value: 0.8913589670107915.\n"
     ]
    },
    {
     "name": "stderr",
     "output_type": "stream",
     "text": [
      "Best trial: 2. Best value: 0.891359:  10%|█         | 10/100 [16:46<2:26:24, 97.61s/it]"
     ]
    },
    {
     "name": "stdout",
     "output_type": "stream",
     "text": [
      "[I 2023-10-25 10:31:30,968] Trial 9 finished with value: 1.7663201827269335 and parameters: {'sigma': 5, 'num_layers': 1, 'embed_size': 140, 'heads': 1, 'forward_expansion': 8, 'prenorm_on': False, 'mlp_scale_classification': 1, 'embedding_dropout': 0, 'decoder_dropout': 0.5, 'class_drop': 0, 'learning_rate': 0.0001}. Best is trial 2 with value: 0.8913589670107915.\n"
     ]
    },
    {
     "name": "stderr",
     "output_type": "stream",
     "text": [
      "Best trial: 2. Best value: 0.891359:  11%|█         | 11/100 [18:32<2:28:31, 100.13s/it]"
     ]
    },
    {
     "name": "stdout",
     "output_type": "stream",
     "text": [
      "[I 2023-10-25 10:33:16,824] Trial 10 finished with value: 0.8974522856565622 and parameters: {'sigma': 0.1, 'num_layers': 2, 'embed_size': 50, 'heads': 10, 'forward_expansion': 2, 'prenorm_on': True, 'mlp_scale_classification': 6, 'embedding_dropout': 0, 'decoder_dropout': 0, 'class_drop': 0.2, 'learning_rate': 0.01}. Best is trial 2 with value: 0.8913589670107915.\n"
     ]
    },
    {
     "name": "stderr",
     "output_type": "stream",
     "text": [
      "Best trial: 2. Best value: 0.891359:  12%|█▏        | 12/100 [20:19<2:29:55, 102.22s/it]"
     ]
    },
    {
     "name": "stdout",
     "output_type": "stream",
     "text": [
      "[I 2023-10-25 10:35:03,836] Trial 11 finished with value: 0.9787112291042621 and parameters: {'sigma': 0.1, 'num_layers': 2, 'embed_size': 50, 'heads': 10, 'forward_expansion': 2, 'prenorm_on': True, 'mlp_scale_classification': 6, 'embedding_dropout': 0, 'decoder_dropout': 0, 'class_drop': 0.2, 'learning_rate': 0.01}. Best is trial 2 with value: 0.8913589670107915.\n"
     ]
    },
    {
     "name": "stderr",
     "output_type": "stream",
     "text": [
      "Best trial: 2. Best value: 0.891359:  13%|█▎        | 13/100 [22:04<2:29:40, 103.23s/it]"
     ]
    },
    {
     "name": "stdout",
     "output_type": "stream",
     "text": [
      "[I 2023-10-25 10:36:49,368] Trial 12 finished with value: 1.0326063082768366 and parameters: {'sigma': 0.001, 'num_layers': 2, 'embed_size': 50, 'heads': 10, 'forward_expansion': 3, 'prenorm_on': True, 'mlp_scale_classification': 6, 'embedding_dropout': 0, 'decoder_dropout': 0, 'class_drop': 0.2, 'learning_rate': 0.01}. Best is trial 2 with value: 0.8913589670107915.\n"
     ]
    },
    {
     "name": "stderr",
     "output_type": "stream",
     "text": [
      "Best trial: 13. Best value: 0.881499:  14%|█▍        | 14/100 [23:50<2:28:56, 103.91s/it]"
     ]
    },
    {
     "name": "stdout",
     "output_type": "stream",
     "text": [
      "[I 2023-10-25 10:38:34,857] Trial 13 finished with value: 0.8814985797955439 and parameters: {'sigma': 0.1, 'num_layers': 2, 'embed_size': 50, 'heads': 10, 'forward_expansion': 1, 'prenorm_on': True, 'mlp_scale_classification': 7, 'embedding_dropout': 0, 'decoder_dropout': 0, 'class_drop': 0.2, 'learning_rate': 0.01}. Best is trial 13 with value: 0.8814985797955439.\n"
     ]
    },
    {
     "name": "stderr",
     "output_type": "stream",
     "text": [
      "Best trial: 13. Best value: 0.881499:  15%|█▌        | 15/100 [25:39<2:29:40, 105.65s/it]"
     ]
    },
    {
     "name": "stdout",
     "output_type": "stream",
     "text": [
      "[I 2023-10-25 10:40:24,536] Trial 14 finished with value: 1.0105721308634832 and parameters: {'sigma': 2, 'num_layers': 2, 'embed_size': 60, 'heads': 10, 'forward_expansion': 1, 'prenorm_on': True, 'mlp_scale_classification': 7, 'embedding_dropout': 0, 'decoder_dropout': 0.1, 'class_drop': 0.2, 'learning_rate': 0.01}. Best is trial 13 with value: 0.8814985797955439.\n"
     ]
    },
    {
     "name": "stderr",
     "output_type": "stream",
     "text": [
      "Best trial: 15. Best value: 0.864968:  16%|█▌        | 16/100 [27:27<2:28:48, 106.29s/it]"
     ]
    },
    {
     "name": "stdout",
     "output_type": "stream",
     "text": [
      "[I 2023-10-25 10:42:12,329] Trial 15 finished with value: 0.8649675433452313 and parameters: {'sigma': 0.1, 'num_layers': 2, 'embed_size': 120, 'heads': 5, 'forward_expansion': 8, 'prenorm_on': True, 'mlp_scale_classification': 7, 'embedding_dropout': 0, 'decoder_dropout': 0.2, 'class_drop': 0.2, 'learning_rate': 0.01}. Best is trial 15 with value: 0.8649675433452313.\n"
     ]
    },
    {
     "name": "stderr",
     "output_type": "stream",
     "text": [
      "Best trial: 15. Best value: 0.864968:  17%|█▋        | 17/100 [29:11<2:26:12, 105.69s/it]"
     ]
    },
    {
     "name": "stdout",
     "output_type": "stream",
     "text": [
      "[I 2023-10-25 10:43:56,611] Trial 16 finished with value: 0.8689053975618802 and parameters: {'sigma': 0.1, 'num_layers': 2, 'embed_size': 120, 'heads': 10, 'forward_expansion': 8, 'prenorm_on': True, 'mlp_scale_classification': 5, 'embedding_dropout': 0, 'decoder_dropout': 0.2, 'class_drop': 0.2, 'learning_rate': 0.01}. Best is trial 15 with value: 0.8649675433452313.\n"
     ]
    },
    {
     "name": "stderr",
     "output_type": "stream",
     "text": [
      "Best trial: 15. Best value: 0.864968:  18%|█▊        | 18/100 [30:53<2:22:49, 104.51s/it]"
     ]
    },
    {
     "name": "stdout",
     "output_type": "stream",
     "text": [
      "[I 2023-10-25 10:45:38,368] Trial 17 finished with value: 0.8654124507537255 and parameters: {'sigma': 0.1, 'num_layers': 1, 'embed_size': 120, 'heads': 5, 'forward_expansion': 8, 'prenorm_on': True, 'mlp_scale_classification': 4, 'embedding_dropout': 0, 'decoder_dropout': 0.2, 'class_drop': 0.5, 'learning_rate': 0.01}. Best is trial 15 with value: 0.8649675433452313.\n"
     ]
    },
    {
     "name": "stderr",
     "output_type": "stream",
     "text": [
      "Best trial: 15. Best value: 0.864968:  19%|█▉        | 19/100 [32:37<2:20:38, 104.18s/it]"
     ]
    },
    {
     "name": "stdout",
     "output_type": "stream",
     "text": [
      "[I 2023-10-25 10:47:21,797] Trial 18 finished with value: 1.0576759989445026 and parameters: {'sigma': 0.1, 'num_layers': 1, 'embed_size': 120, 'heads': 5, 'forward_expansion': 7, 'prenorm_on': True, 'mlp_scale_classification': 4, 'embedding_dropout': 0.1, 'decoder_dropout': 0.2, 'class_drop': 0.5, 'learning_rate': 0.01}. Best is trial 15 with value: 0.8649675433452313.\n"
     ]
    },
    {
     "name": "stderr",
     "output_type": "stream",
     "text": [
      "Best trial: 15. Best value: 0.864968:  20%|██        | 20/100 [34:20<2:18:37, 103.97s/it]"
     ]
    },
    {
     "name": "stdout",
     "output_type": "stream",
     "text": [
      "[I 2023-10-25 10:49:05,265] Trial 19 finished with value: 1.4797649750342736 and parameters: {'sigma': 1, 'num_layers': 1, 'embed_size': 100, 'heads': 5, 'forward_expansion': 8, 'prenorm_on': True, 'mlp_scale_classification': 3, 'embedding_dropout': 0, 'decoder_dropout': 0.2, 'class_drop': 0.5, 'learning_rate': 0.0001}. Best is trial 15 with value: 0.8649675433452313.\n"
     ]
    },
    {
     "name": "stderr",
     "output_type": "stream",
     "text": [
      "Best trial: 15. Best value: 0.864968:  21%|██        | 21/100 [36:03<2:16:22, 103.57s/it]"
     ]
    },
    {
     "name": "stdout",
     "output_type": "stream",
     "text": [
      "[I 2023-10-25 10:50:47,909] Trial 20 finished with value: 1.895534405341515 and parameters: {'sigma': 0.001, 'num_layers': 1, 'embed_size': 120, 'heads': 5, 'forward_expansion': 7, 'prenorm_on': True, 'mlp_scale_classification': 3, 'embedding_dropout': 0, 'decoder_dropout': 0.2, 'class_drop': 0.5, 'learning_rate': 0.01}. Best is trial 15 with value: 0.8649675433452313.\n"
     ]
    },
    {
     "name": "stderr",
     "output_type": "stream",
     "text": [
      "Best trial: 21. Best value: 0.84955:  22%|██▏       | 22/100 [37:42<2:13:02, 102.35s/it] "
     ]
    },
    {
     "name": "stdout",
     "output_type": "stream",
     "text": [
      "[I 2023-10-25 10:52:27,395] Trial 21 finished with value: 0.8495504581011258 and parameters: {'sigma': 0.1, 'num_layers': 1, 'embed_size': 120, 'heads': 5, 'forward_expansion': 8, 'prenorm_on': True, 'mlp_scale_classification': 5, 'embedding_dropout': 0, 'decoder_dropout': 0.2, 'class_drop': 0.1, 'learning_rate': 0.01}. Best is trial 21 with value: 0.8495504581011258.\n"
     ]
    },
    {
     "name": "stderr",
     "output_type": "stream",
     "text": [
      "Best trial: 22. Best value: 0.845318:  23%|██▎       | 23/100 [39:26<2:11:54, 102.78s/it]"
     ]
    },
    {
     "name": "stdout",
     "output_type": "stream",
     "text": [
      "[I 2023-10-25 10:54:11,199] Trial 22 finished with value: 0.8453183449231662 and parameters: {'sigma': 0.1, 'num_layers': 1, 'embed_size': 120, 'heads': 5, 'forward_expansion': 8, 'prenorm_on': True, 'mlp_scale_classification': 5, 'embedding_dropout': 0, 'decoder_dropout': 0.2, 'class_drop': 0.1, 'learning_rate': 0.01}. Best is trial 22 with value: 0.8453183449231662.\n"
     ]
    },
    {
     "name": "stderr",
     "output_type": "stream",
     "text": [
      "Best trial: 22. Best value: 0.845318:  24%|██▍       | 24/100 [41:06<2:09:15, 102.04s/it]"
     ]
    },
    {
     "name": "stdout",
     "output_type": "stream",
     "text": [
      "[I 2023-10-25 10:55:51,516] Trial 23 finished with value: 0.8754452696213355 and parameters: {'sigma': 0.1, 'num_layers': 1, 'embed_size': 120, 'heads': 5, 'forward_expansion': 7, 'prenorm_on': True, 'mlp_scale_classification': 5, 'embedding_dropout': 0, 'decoder_dropout': 0.2, 'class_drop': 0.1, 'learning_rate': 0.01}. Best is trial 22 with value: 0.8453183449231662.\n"
     ]
    },
    {
     "name": "stderr",
     "output_type": "stream",
     "text": [
      "Best trial: 22. Best value: 0.845318:  25%|██▌       | 25/100 [42:46<2:06:31, 101.22s/it]"
     ]
    },
    {
     "name": "stdout",
     "output_type": "stream",
     "text": [
      "[I 2023-10-25 10:57:30,832] Trial 24 finished with value: 0.8731918334960938 and parameters: {'sigma': 0.1, 'num_layers': 1, 'embed_size': 120, 'heads': 5, 'forward_expansion': 8, 'prenorm_on': True, 'mlp_scale_classification': 6, 'embedding_dropout': 0, 'decoder_dropout': 0.2, 'class_drop': 0.1, 'learning_rate': 0.01}. Best is trial 22 with value: 0.8453183449231662.\n"
     ]
    },
    {
     "name": "stderr",
     "output_type": "stream",
     "text": [
      "Best trial: 22. Best value: 0.845318:  26%|██▌       | 26/100 [44:27<2:04:44, 101.14s/it]"
     ]
    },
    {
     "name": "stdout",
     "output_type": "stream",
     "text": [
      "[I 2023-10-25 10:59:11,771] Trial 25 finished with value: 0.8612062289164617 and parameters: {'sigma': 0.1, 'num_layers': 1, 'embed_size': 120, 'heads': 5, 'forward_expansion': 7, 'prenorm_on': True, 'mlp_scale_classification': 5, 'embedding_dropout': 0, 'decoder_dropout': 0.2, 'class_drop': 0.1, 'learning_rate': 0.01}. Best is trial 22 with value: 0.8453183449231662.\n"
     ]
    },
    {
     "name": "stderr",
     "output_type": "stream",
     "text": [
      "Best trial: 22. Best value: 0.845318:  27%|██▋       | 27/100 [46:01<2:00:41, 99.19s/it] "
     ]
    },
    {
     "name": "stdout",
     "output_type": "stream",
     "text": [
      "[I 2023-10-25 11:00:46,427] Trial 26 finished with value: 1.906200069647569 and parameters: {'sigma': 0.1, 'num_layers': 1, 'embed_size': 60, 'heads': 1, 'forward_expansion': 7, 'prenorm_on': True, 'mlp_scale_classification': 5, 'embedding_dropout': 0.2, 'decoder_dropout': 0.2, 'class_drop': 0.1, 'learning_rate': 0.01}. Best is trial 22 with value: 0.8453183449231662.\n"
     ]
    },
    {
     "name": "stderr",
     "output_type": "stream",
     "text": [
      "Best trial: 22. Best value: 0.845318:  28%|██▊       | 28/100 [47:44<2:00:30, 100.42s/it]"
     ]
    },
    {
     "name": "stdout",
     "output_type": "stream",
     "text": [
      "[I 2023-10-25 11:02:29,706] Trial 27 finished with value: 0.9158270634137667 and parameters: {'sigma': 0.1, 'num_layers': 1, 'embed_size': 70, 'heads': 5, 'forward_expansion': 6, 'prenorm_on': True, 'mlp_scale_classification': 4, 'embedding_dropout': 0.1, 'decoder_dropout': 0.1, 'class_drop': 0.1, 'learning_rate': 0.01}. Best is trial 22 with value: 0.8453183449231662.\n"
     ]
    },
    {
     "name": "stderr",
     "output_type": "stream",
     "text": [
      "Best trial: 22. Best value: 0.845318:  29%|██▉       | 29/100 [49:27<1:59:36, 101.08s/it]"
     ]
    },
    {
     "name": "stdout",
     "output_type": "stream",
     "text": [
      "[I 2023-10-25 11:04:12,316] Trial 28 finished with value: 1.3235201560533965 and parameters: {'sigma': 10, 'num_layers': 1, 'embed_size': 90, 'heads': 5, 'forward_expansion': 7, 'prenorm_on': True, 'mlp_scale_classification': 5, 'embedding_dropout': 0.5, 'decoder_dropout': 0.2, 'class_drop': 0.1, 'learning_rate': 0.0001}. Best is trial 22 with value: 0.8453183449231662.\n"
     ]
    },
    {
     "name": "stderr",
     "output_type": "stream",
     "text": [
      "Best trial: 22. Best value: 0.845318:  30%|███       | 30/100 [51:07<1:57:36, 100.81s/it]"
     ]
    },
    {
     "name": "stdout",
     "output_type": "stream",
     "text": [
      "[I 2023-10-25 11:05:52,507] Trial 29 finished with value: 1.1271171386425312 and parameters: {'sigma': 0.001, 'num_layers': 1, 'embed_size': 100, 'heads': 1, 'forward_expansion': 5, 'prenorm_on': True, 'mlp_scale_classification': 3, 'embedding_dropout': 0.2, 'decoder_dropout': 0.2, 'class_drop': 0.1, 'learning_rate': 0.001}. Best is trial 22 with value: 0.8453183449231662.\n"
     ]
    },
    {
     "name": "stderr",
     "output_type": "stream",
     "text": [
      "Best trial: 22. Best value: 0.845318:  31%|███       | 31/100 [52:48<1:55:55, 100.81s/it]"
     ]
    },
    {
     "name": "stdout",
     "output_type": "stream",
     "text": [
      "[I 2023-10-25 11:07:33,315] Trial 30 finished with value: 1.0229045702860906 and parameters: {'sigma': 5, 'num_layers': 1, 'embed_size': 120, 'heads': 5, 'forward_expansion': 6, 'prenorm_on': True, 'mlp_scale_classification': 4, 'embedding_dropout': 0, 'decoder_dropout': 0.2, 'class_drop': 0.1, 'learning_rate': 0.001}. Best is trial 22 with value: 0.8453183449231662.\n"
     ]
    },
    {
     "name": "stderr",
     "output_type": "stream",
     "text": [
      "Best trial: 22. Best value: 0.845318:  32%|███▏      | 32/100 [54:24<1:52:39, 99.41s/it] "
     ]
    },
    {
     "name": "stdout",
     "output_type": "stream",
     "text": [
      "[I 2023-10-25 11:09:09,450] Trial 31 finished with value: 0.8464146852493286 and parameters: {'sigma': 0.1, 'num_layers': 1, 'embed_size': 120, 'heads': 5, 'forward_expansion': 8, 'prenorm_on': True, 'mlp_scale_classification': 6, 'embedding_dropout': 0, 'decoder_dropout': 0.2, 'class_drop': 0.1, 'learning_rate': 0.01}. Best is trial 22 with value: 0.8453183449231662.\n"
     ]
    },
    {
     "name": "stderr",
     "output_type": "stream",
     "text": [
      "Best trial: 22. Best value: 0.845318:  33%|███▎      | 33/100 [56:07<1:52:15, 100.53s/it]"
     ]
    },
    {
     "name": "stdout",
     "output_type": "stream",
     "text": [
      "[I 2023-10-25 11:10:52,602] Trial 32 finished with value: 0.8843777775764465 and parameters: {'sigma': 0.1, 'num_layers': 1, 'embed_size': 120, 'heads': 5, 'forward_expansion': 8, 'prenorm_on': True, 'mlp_scale_classification': 6, 'embedding_dropout': 0, 'decoder_dropout': 0.2, 'class_drop': 0.1, 'learning_rate': 0.01}. Best is trial 22 with value: 0.8453183449231662.\n"
     ]
    },
    {
     "name": "stderr",
     "output_type": "stream",
     "text": [
      "Best trial: 22. Best value: 0.845318:  34%|███▍      | 34/100 [57:49<1:50:49, 100.74s/it]"
     ]
    },
    {
     "name": "stdout",
     "output_type": "stream",
     "text": [
      "[I 2023-10-25 11:12:33,838] Trial 33 finished with value: 0.9042230156751779 and parameters: {'sigma': 3, 'num_layers': 1, 'embed_size': 120, 'heads': 5, 'forward_expansion': 7, 'prenorm_on': True, 'mlp_scale_classification': 5, 'embedding_dropout': 0, 'decoder_dropout': 0.2, 'class_drop': 0.1, 'learning_rate': 0.01}. Best is trial 22 with value: 0.8453183449231662.\n"
     ]
    },
    {
     "name": "stderr",
     "output_type": "stream",
     "text": [
      "Best trial: 22. Best value: 0.845318:  35%|███▌      | 35/100 [59:28<1:48:42, 100.35s/it]"
     ]
    },
    {
     "name": "stdout",
     "output_type": "stream",
     "text": [
      "[I 2023-10-25 11:14:13,269] Trial 34 finished with value: 0.9508700095690213 and parameters: {'sigma': 0.1, 'num_layers': 1, 'embed_size': 80, 'heads': 5, 'forward_expansion': 8, 'prenorm_on': True, 'mlp_scale_classification': 6, 'embedding_dropout': 0.5, 'decoder_dropout': 0.2, 'class_drop': 0.1, 'learning_rate': 0.01}. Best is trial 22 with value: 0.8453183449231662.\n"
     ]
    },
    {
     "name": "stderr",
     "output_type": "stream",
     "text": [
      "Best trial: 22. Best value: 0.845318:  36%|███▌      | 36/100 [1:01:04<1:45:46, 99.16s/it] "
     ]
    },
    {
     "name": "stdout",
     "output_type": "stream",
     "text": [
      "[I 2023-10-25 11:15:49,653] Trial 35 finished with value: 0.9646786772287809 and parameters: {'sigma': 1, 'num_layers': 1, 'embed_size': 120, 'heads': 5, 'forward_expansion': 6, 'prenorm_on': False, 'mlp_scale_classification': 5, 'embedding_dropout': 0, 'decoder_dropout': 0.2, 'class_drop': 0.1, 'learning_rate': 0.01}. Best is trial 22 with value: 0.8453183449231662.\n"
     ]
    },
    {
     "name": "stderr",
     "output_type": "stream",
     "text": [
      "Best trial: 22. Best value: 0.845318:  37%|███▋      | 37/100 [1:02:44<1:44:13, 99.26s/it]"
     ]
    },
    {
     "name": "stdout",
     "output_type": "stream",
     "text": [
      "[I 2023-10-25 11:17:29,153] Trial 36 finished with value: 0.9604285496931809 and parameters: {'sigma': 0.1, 'num_layers': 1, 'embed_size': 120, 'heads': 1, 'forward_expansion': 7, 'prenorm_on': True, 'mlp_scale_classification': 7, 'embedding_dropout': 0, 'decoder_dropout': 0.1, 'class_drop': 0.1, 'learning_rate': 0.001}. Best is trial 22 with value: 0.8453183449231662.\n"
     ]
    },
    {
     "name": "stderr",
     "output_type": "stream",
     "text": [
      "Best trial: 22. Best value: 0.845318:  38%|███▊      | 38/100 [1:04:21<1:41:50, 98.55s/it]"
     ]
    },
    {
     "name": "stdout",
     "output_type": "stream",
     "text": [
      "[I 2023-10-25 11:19:06,059] Trial 37 finished with value: 0.9659987046168401 and parameters: {'sigma': 3, 'num_layers': 1, 'embed_size': 90, 'heads': 5, 'forward_expansion': 8, 'prenorm_on': True, 'mlp_scale_classification': 4, 'embedding_dropout': 0.1, 'decoder_dropout': 0.2, 'class_drop': 0, 'learning_rate': 0.01}. Best is trial 22 with value: 0.8453183449231662.\n"
     ]
    },
    {
     "name": "stderr",
     "output_type": "stream",
     "text": [
      "Best trial: 22. Best value: 0.845318:  39%|███▉      | 39/100 [1:05:59<1:39:56, 98.30s/it]"
     ]
    },
    {
     "name": "stdout",
     "output_type": "stream",
     "text": [
      "[I 2023-10-25 11:20:43,766] Trial 38 finished with value: 2.076985405041621 and parameters: {'sigma': 2, 'num_layers': 1, 'embed_size': 140, 'heads': 5, 'forward_expansion': 6, 'prenorm_on': False, 'mlp_scale_classification': 5, 'embedding_dropout': 0.5, 'decoder_dropout': 0.5, 'class_drop': 0.1, 'learning_rate': 0.0001}. Best is trial 22 with value: 0.8453183449231662.\n"
     ]
    },
    {
     "name": "stderr",
     "output_type": "stream",
     "text": [
      "Best trial: 22. Best value: 0.845318:  40%|████      | 40/100 [1:07:37<1:38:27, 98.45s/it]"
     ]
    },
    {
     "name": "stdout",
     "output_type": "stream",
     "text": [
      "[I 2023-10-25 11:22:22,567] Trial 39 finished with value: 1.1226018529671888 and parameters: {'sigma': 10, 'num_layers': 1, 'embed_size': 160, 'heads': 5, 'forward_expansion': 4, 'prenorm_on': True, 'mlp_scale_classification': 2, 'embedding_dropout': 0, 'decoder_dropout': 0.2, 'class_drop': 0.1, 'learning_rate': 0.001}. Best is trial 22 with value: 0.8453183449231662.\n"
     ]
    },
    {
     "name": "stderr",
     "output_type": "stream",
     "text": [
      "Best trial: 22. Best value: 0.845318:  41%|████      | 41/100 [1:09:11<1:35:29, 97.11s/it]"
     ]
    },
    {
     "name": "stdout",
     "output_type": "stream",
     "text": [
      "[I 2023-10-25 11:23:56,553] Trial 40 finished with value: 0.9736755994650034 and parameters: {'sigma': 5, 'num_layers': 1, 'embed_size': 80, 'heads': 5, 'forward_expansion': 8, 'prenorm_on': False, 'mlp_scale_classification': 6, 'embedding_dropout': 0.2, 'decoder_dropout': 0.2, 'class_drop': 0.1, 'learning_rate': 0.01}. Best is trial 22 with value: 0.8453183449231662.\n"
     ]
    },
    {
     "name": "stderr",
     "output_type": "stream",
     "text": [
      "Best trial: 22. Best value: 0.845318:  42%|████▏     | 42/100 [1:10:51<1:34:37, 97.88s/it]"
     ]
    },
    {
     "name": "stdout",
     "output_type": "stream",
     "text": [
      "[I 2023-10-25 11:25:36,225] Trial 41 finished with value: 0.8759275170472952 and parameters: {'sigma': 0.1, 'num_layers': 1, 'embed_size': 120, 'heads': 5, 'forward_expansion': 8, 'prenorm_on': True, 'mlp_scale_classification': 8, 'embedding_dropout': 0, 'decoder_dropout': 0.2, 'class_drop': 0, 'learning_rate': 0.01}. Best is trial 22 with value: 0.8453183449231662.\n"
     ]
    },
    {
     "name": "stderr",
     "output_type": "stream",
     "text": [
      "Best trial: 22. Best value: 0.845318:  43%|████▎     | 43/100 [1:12:39<1:35:55, 100.98s/it]"
     ]
    },
    {
     "name": "stdout",
     "output_type": "stream",
     "text": [
      "[I 2023-10-25 11:27:24,440] Trial 42 finished with value: 0.8616712414301358 and parameters: {'sigma': 0.1, 'num_layers': 2, 'embed_size': 120, 'heads': 5, 'forward_expansion': 8, 'prenorm_on': True, 'mlp_scale_classification': 7, 'embedding_dropout': 0, 'decoder_dropout': 0.2, 'class_drop': 0.1, 'learning_rate': 0.01}. Best is trial 22 with value: 0.8453183449231662.\n"
     ]
    },
    {
     "name": "stderr",
     "output_type": "stream",
     "text": [
      "Best trial: 22. Best value: 0.845318:  44%|████▍     | 44/100 [1:14:22<1:34:53, 101.67s/it]"
     ]
    },
    {
     "name": "stdout",
     "output_type": "stream",
     "text": [
      "[I 2023-10-25 11:29:07,723] Trial 43 finished with value: 0.9748206734657288 and parameters: {'sigma': 0.1, 'num_layers': 1, 'embed_size': 120, 'heads': 5, 'forward_expansion': 7, 'prenorm_on': True, 'mlp_scale_classification': 7, 'embedding_dropout': 0, 'decoder_dropout': 0.2, 'class_drop': 0.1, 'learning_rate': 0.01}. Best is trial 22 with value: 0.8453183449231662.\n"
     ]
    },
    {
     "name": "stderr",
     "output_type": "stream",
     "text": [
      "Best trial: 22. Best value: 0.845318:  45%|████▌     | 45/100 [1:16:13<1:35:36, 104.31s/it]"
     ]
    },
    {
     "name": "stdout",
     "output_type": "stream",
     "text": [
      "[I 2023-10-25 11:30:58,182] Trial 44 finished with value: 0.9692959556212792 and parameters: {'sigma': 0.1, 'num_layers': 2, 'embed_size': 70, 'heads': 5, 'forward_expansion': 8, 'prenorm_on': True, 'mlp_scale_classification': 6, 'embedding_dropout': 0, 'decoder_dropout': 0.5, 'class_drop': 0.1, 'learning_rate': 0.01}. Best is trial 22 with value: 0.8453183449231662.\n"
     ]
    },
    {
     "name": "stderr",
     "output_type": "stream",
     "text": [
      "Best trial: 22. Best value: 0.845318:  46%|████▌     | 46/100 [1:17:54<1:32:59, 103.32s/it]"
     ]
    },
    {
     "name": "stdout",
     "output_type": "stream",
     "text": [
      "[I 2023-10-25 11:32:39,198] Trial 45 finished with value: 0.8515145549407372 and parameters: {'sigma': 0.1, 'num_layers': 1, 'embed_size': 120, 'heads': 5, 'forward_expansion': 7, 'prenorm_on': True, 'mlp_scale_classification': 8, 'embedding_dropout': 0, 'decoder_dropout': 0.2, 'class_drop': 0.1, 'learning_rate': 0.01}. Best is trial 22 with value: 0.8453183449231662.\n"
     ]
    },
    {
     "name": "stderr",
     "output_type": "stream",
     "text": [
      "Best trial: 22. Best value: 0.845318:  47%|████▋     | 47/100 [1:19:29<1:29:04, 100.84s/it]"
     ]
    },
    {
     "name": "stdout",
     "output_type": "stream",
     "text": [
      "[I 2023-10-25 11:34:14,251] Trial 46 finished with value: 1.8741620045441847 and parameters: {'sigma': 1, 'num_layers': 1, 'embed_size': 140, 'heads': 1, 'forward_expansion': 7, 'prenorm_on': False, 'mlp_scale_classification': 8, 'embedding_dropout': 0, 'decoder_dropout': 0.1, 'class_drop': 0.1, 'learning_rate': 0.01}. Best is trial 22 with value: 0.8453183449231662.\n"
     ]
    },
    {
     "name": "stderr",
     "output_type": "stream",
     "text": [
      "Best trial: 47. Best value: 0.823522:  48%|████▊     | 48/100 [1:21:07<1:26:42, 100.05s/it]"
     ]
    },
    {
     "name": "stdout",
     "output_type": "stream",
     "text": [
      "[I 2023-10-25 11:35:52,474] Trial 47 finished with value: 0.823521994627439 and parameters: {'sigma': 0.1, 'num_layers': 1, 'embed_size': 160, 'heads': 5, 'forward_expansion': 6, 'prenorm_on': True, 'mlp_scale_classification': 5, 'embedding_dropout': 0.1, 'decoder_dropout': 0, 'class_drop': 0.1, 'learning_rate': 0.0001}. Best is trial 47 with value: 0.823521994627439.\n"
     ]
    },
    {
     "name": "stderr",
     "output_type": "stream",
     "text": [
      "Best trial: 47. Best value: 0.823522:  49%|████▉     | 49/100 [1:22:45<1:24:31, 99.43s/it] "
     ]
    },
    {
     "name": "stdout",
     "output_type": "stream",
     "text": [
      "[I 2023-10-25 11:37:30,459] Trial 48 finished with value: 0.9937361891453083 and parameters: {'sigma': 2, 'num_layers': 1, 'embed_size': 160, 'heads': 5, 'forward_expansion': 5, 'prenorm_on': True, 'mlp_scale_classification': 6, 'embedding_dropout': 0.1, 'decoder_dropout': 0, 'class_drop': 0, 'learning_rate': 0.0001}. Best is trial 47 with value: 0.823521994627439.\n"
     ]
    },
    {
     "name": "stderr",
     "output_type": "stream",
     "text": [
      "Best trial: 49. Best value: 0.823486:  50%|█████     | 50/100 [1:24:25<1:22:50, 99.41s/it]"
     ]
    },
    {
     "name": "stdout",
     "output_type": "stream",
     "text": [
      "[I 2023-10-25 11:39:09,798] Trial 49 finished with value: 0.8234860163468581 and parameters: {'sigma': 0.1, 'num_layers': 1, 'embed_size': 160, 'heads': 5, 'forward_expansion': 6, 'prenorm_on': True, 'mlp_scale_classification': 8, 'embedding_dropout': 0.1, 'decoder_dropout': 0, 'class_drop': 0.1, 'learning_rate': 0.0001}. Best is trial 49 with value: 0.8234860163468581.\n"
     ]
    },
    {
     "name": "stderr",
     "output_type": "stream",
     "text": [
      "Best trial: 49. Best value: 0.823486:  51%|█████     | 51/100 [1:26:01<1:20:25, 98.48s/it]"
     ]
    },
    {
     "name": "stdout",
     "output_type": "stream",
     "text": [
      "[I 2023-10-25 11:40:46,118] Trial 50 finished with value: 0.8931739788789016 and parameters: {'sigma': 3, 'num_layers': 1, 'embed_size': 90, 'heads': 10, 'forward_expansion': 5, 'prenorm_on': True, 'mlp_scale_classification': 5, 'embedding_dropout': 0.1, 'decoder_dropout': 0, 'class_drop': 0.1, 'learning_rate': 0.0001}. Best is trial 49 with value: 0.8234860163468581.\n"
     ]
    },
    {
     "name": "stderr",
     "output_type": "stream",
     "text": [
      "Best trial: 49. Best value: 0.823486:  52%|█████▏    | 52/100 [1:27:46<1:20:17, 100.37s/it]"
     ]
    },
    {
     "name": "stdout",
     "output_type": "stream",
     "text": [
      "[I 2023-10-25 11:42:30,911] Trial 51 finished with value: 0.8366258923824017 and parameters: {'sigma': 0.1, 'num_layers': 1, 'embed_size': 160, 'heads': 5, 'forward_expansion': 6, 'prenorm_on': True, 'mlp_scale_classification': 8, 'embedding_dropout': 0.1, 'decoder_dropout': 0, 'class_drop': 0.1, 'learning_rate': 0.0001}. Best is trial 49 with value: 0.8234860163468581.\n"
     ]
    },
    {
     "name": "stderr",
     "output_type": "stream",
     "text": [
      "Best trial: 49. Best value: 0.823486:  53%|█████▎    | 53/100 [1:29:28<1:19:05, 100.97s/it]"
     ]
    },
    {
     "name": "stdout",
     "output_type": "stream",
     "text": [
      "[I 2023-10-25 11:44:13,265] Trial 52 finished with value: 0.8474742265848013 and parameters: {'sigma': 0.1, 'num_layers': 1, 'embed_size': 160, 'heads': 5, 'forward_expansion': 3, 'prenorm_on': True, 'mlp_scale_classification': 8, 'embedding_dropout': 0.1, 'decoder_dropout': 0, 'class_drop': 0.1, 'learning_rate': 0.0001}. Best is trial 49 with value: 0.8234860163468581.\n"
     ]
    },
    {
     "name": "stderr",
     "output_type": "stream",
     "text": [
      "Best trial: 49. Best value: 0.823486:  54%|█████▍    | 54/100 [1:31:06<1:16:43, 100.07s/it]"
     ]
    },
    {
     "name": "stdout",
     "output_type": "stream",
     "text": [
      "[I 2023-10-25 11:45:51,250] Trial 53 finished with value: 0.8351019070698664 and parameters: {'sigma': 0.1, 'num_layers': 1, 'embed_size': 160, 'heads': 5, 'forward_expansion': 3, 'prenorm_on': True, 'mlp_scale_classification': 8, 'embedding_dropout': 0.1, 'decoder_dropout': 0, 'class_drop': 0.1, 'learning_rate': 0.0001}. Best is trial 49 with value: 0.8234860163468581.\n"
     ]
    },
    {
     "name": "stderr",
     "output_type": "stream",
     "text": [
      "Best trial: 49. Best value: 0.823486:  55%|█████▌    | 55/100 [1:32:47<1:15:12, 100.27s/it]"
     ]
    },
    {
     "name": "stdout",
     "output_type": "stream",
     "text": [
      "[I 2023-10-25 11:47:31,974] Trial 54 finished with value: 0.8527317322217501 and parameters: {'sigma': 0.1, 'num_layers': 1, 'embed_size': 160, 'heads': 5, 'forward_expansion': 3, 'prenorm_on': True, 'mlp_scale_classification': 8, 'embedding_dropout': 0.1, 'decoder_dropout': 0, 'class_drop': 0.1, 'learning_rate': 0.0001}. Best is trial 49 with value: 0.8234860163468581.\n"
     ]
    },
    {
     "name": "stderr",
     "output_type": "stream",
     "text": [
      "Best trial: 49. Best value: 0.823486:  56%|█████▌    | 56/100 [1:34:22<1:12:31, 98.90s/it] "
     ]
    },
    {
     "name": "stdout",
     "output_type": "stream",
     "text": [
      "[I 2023-10-25 11:49:07,685] Trial 55 finished with value: 1.0072326889404883 and parameters: {'sigma': 0.001, 'num_layers': 1, 'embed_size': 160, 'heads': 5, 'forward_expansion': 4, 'prenorm_on': True, 'mlp_scale_classification': 8, 'embedding_dropout': 0.1, 'decoder_dropout': 0, 'class_drop': 0.1, 'learning_rate': 0.0001}. Best is trial 49 with value: 0.8234860163468581.\n"
     ]
    },
    {
     "name": "stderr",
     "output_type": "stream",
     "text": [
      "Best trial: 49. Best value: 0.823486:  57%|█████▋    | 57/100 [1:36:03<1:11:12, 99.37s/it]"
     ]
    },
    {
     "name": "stdout",
     "output_type": "stream",
     "text": [
      "[I 2023-10-25 11:50:48,147] Trial 56 finished with value: 0.9224386352759141 and parameters: {'sigma': 0.1, 'num_layers': 1, 'embed_size': 160, 'heads': 5, 'forward_expansion': 6, 'prenorm_on': True, 'mlp_scale_classification': 7, 'embedding_dropout': 0.1, 'decoder_dropout': 0, 'class_drop': 0.5, 'learning_rate': 0.0001}. Best is trial 49 with value: 0.8234860163468581.\n"
     ]
    },
    {
     "name": "stderr",
     "output_type": "stream",
     "text": [
      "Best trial: 49. Best value: 0.823486:  58%|█████▊    | 58/100 [1:37:40<1:09:08, 98.79s/it]"
     ]
    },
    {
     "name": "stdout",
     "output_type": "stream",
     "text": [
      "[I 2023-10-25 11:52:25,569] Trial 57 finished with value: 0.9765268610073969 and parameters: {'sigma': 10, 'num_layers': 1, 'embed_size': 160, 'heads': 10, 'forward_expansion': 5, 'prenorm_on': False, 'mlp_scale_classification': 8, 'embedding_dropout': 0.1, 'decoder_dropout': 0, 'class_drop': 0.1, 'learning_rate': 0.0001}. Best is trial 49 with value: 0.8234860163468581.\n"
     ]
    },
    {
     "name": "stderr",
     "output_type": "stream",
     "text": [
      "Best trial: 49. Best value: 0.823486:  59%|█████▉    | 59/100 [1:39:23<1:08:15, 99.89s/it]"
     ]
    },
    {
     "name": "stdout",
     "output_type": "stream",
     "text": [
      "[I 2023-10-25 11:54:08,041] Trial 58 finished with value: 0.8736719764195956 and parameters: {'sigma': 0.1, 'num_layers': 1, 'embed_size': 160, 'heads': 5, 'forward_expansion': 2, 'prenorm_on': True, 'mlp_scale_classification': 7, 'embedding_dropout': 0.1, 'decoder_dropout': 0, 'class_drop': 0.1, 'learning_rate': 0.0001}. Best is trial 49 with value: 0.8234860163468581.\n"
     ]
    },
    {
     "name": "stderr",
     "output_type": "stream",
     "text": [
      "Best trial: 49. Best value: 0.823486:  60%|██████    | 60/100 [1:40:59<1:05:52, 98.82s/it]"
     ]
    },
    {
     "name": "stdout",
     "output_type": "stream",
     "text": [
      "[I 2023-10-25 11:55:44,346] Trial 59 finished with value: 1.0576425790786743 and parameters: {'sigma': 5, 'num_layers': 1, 'embed_size': 160, 'heads': 1, 'forward_expansion': 2, 'prenorm_on': True, 'mlp_scale_classification': 7, 'embedding_dropout': 0.1, 'decoder_dropout': 0, 'class_drop': 0, 'learning_rate': 0.0001}. Best is trial 49 with value: 0.8234860163468581.\n"
     ]
    },
    {
     "name": "stderr",
     "output_type": "stream",
     "text": [
      "Best trial: 49. Best value: 0.823486:  61%|██████    | 61/100 [1:42:41<1:04:48, 99.72s/it]"
     ]
    },
    {
     "name": "stdout",
     "output_type": "stream",
     "text": [
      "[I 2023-10-25 11:57:26,168] Trial 60 finished with value: 0.8672275818311251 and parameters: {'sigma': 0.1, 'num_layers': 1, 'embed_size': 60, 'heads': 5, 'forward_expansion': 4, 'prenorm_on': True, 'mlp_scale_classification': 8, 'embedding_dropout': 0.1, 'decoder_dropout': 0, 'class_drop': 0.2, 'learning_rate': 0.0001}. Best is trial 49 with value: 0.8234860163468581.\n"
     ]
    },
    {
     "name": "stderr",
     "output_type": "stream",
     "text": [
      "Best trial: 49. Best value: 0.823486:  62%|██████▏   | 62/100 [1:44:22<1:03:25, 100.15s/it]"
     ]
    },
    {
     "name": "stdout",
     "output_type": "stream",
     "text": [
      "[I 2023-10-25 11:59:07,338] Trial 61 finished with value: 0.8745468763204721 and parameters: {'sigma': 0.1, 'num_layers': 1, 'embed_size': 160, 'heads': 5, 'forward_expansion': 3, 'prenorm_on': True, 'mlp_scale_classification': 8, 'embedding_dropout': 0.1, 'decoder_dropout': 0, 'class_drop': 0.1, 'learning_rate': 0.0001}. Best is trial 49 with value: 0.8234860163468581.\n"
     ]
    },
    {
     "name": "stderr",
     "output_type": "stream",
     "text": [
      "Best trial: 49. Best value: 0.823486:  63%|██████▎   | 63/100 [1:46:03<1:01:52, 100.33s/it]"
     ]
    },
    {
     "name": "stdout",
     "output_type": "stream",
     "text": [
      "[I 2023-10-25 12:00:48,092] Trial 62 finished with value: 0.8502797713646522 and parameters: {'sigma': 0.1, 'num_layers': 1, 'embed_size': 160, 'heads': 5, 'forward_expansion': 3, 'prenorm_on': True, 'mlp_scale_classification': 8, 'embedding_dropout': 0.1, 'decoder_dropout': 0, 'class_drop': 0.1, 'learning_rate': 0.0001}. Best is trial 49 with value: 0.8234860163468581.\n"
     ]
    },
    {
     "name": "stderr",
     "output_type": "stream",
     "text": [
      "Best trial: 49. Best value: 0.823486:  64%|██████▍   | 64/100 [1:47:41<59:47, 99.66s/it]   "
     ]
    },
    {
     "name": "stdout",
     "output_type": "stream",
     "text": [
      "[I 2023-10-25 12:02:26,166] Trial 63 finished with value: 0.8290713612849896 and parameters: {'sigma': 0.1, 'num_layers': 1, 'embed_size': 160, 'heads': 5, 'forward_expansion': 4, 'prenorm_on': True, 'mlp_scale_classification': 8, 'embedding_dropout': 0.1, 'decoder_dropout': 0, 'class_drop': 0.1, 'learning_rate': 0.0001}. Best is trial 49 with value: 0.8234860163468581.\n"
     ]
    },
    {
     "name": "stderr",
     "output_type": "stream",
     "text": [
      "Best trial: 64. Best value: 0.818709:  65%|██████▌   | 65/100 [1:49:19<57:48, 99.09s/it]"
     ]
    },
    {
     "name": "stdout",
     "output_type": "stream",
     "text": [
      "[I 2023-10-25 12:04:03,934] Trial 64 finished with value: 0.8187088828820449 and parameters: {'sigma': 0.1, 'num_layers': 1, 'embed_size': 160, 'heads': 5, 'forward_expansion': 4, 'prenorm_on': True, 'mlp_scale_classification': 7, 'embedding_dropout': 0.1, 'decoder_dropout': 0, 'class_drop': 0.1, 'learning_rate': 0.0001}. Best is trial 64 with value: 0.8187088828820449.\n"
     ]
    },
    {
     "name": "stderr",
     "output_type": "stream",
     "text": [
      "Best trial: 64. Best value: 0.818709:  66%|██████▌   | 66/100 [1:50:59<56:22, 99.49s/it]"
     ]
    },
    {
     "name": "stdout",
     "output_type": "stream",
     "text": [
      "[I 2023-10-25 12:05:44,367] Trial 65 finished with value: 0.8566205960053664 and parameters: {'sigma': 0.1, 'num_layers': 1, 'embed_size': 160, 'heads': 5, 'forward_expansion': 4, 'prenorm_on': True, 'mlp_scale_classification': 8, 'embedding_dropout': 0.1, 'decoder_dropout': 0, 'class_drop': 0.1, 'learning_rate': 0.0001}. Best is trial 64 with value: 0.8187088828820449.\n"
     ]
    },
    {
     "name": "stderr",
     "output_type": "stream",
     "text": [
      "Best trial: 64. Best value: 0.818709:  67%|██████▋   | 67/100 [1:52:37<54:27, 99.03s/it]"
     ]
    },
    {
     "name": "stdout",
     "output_type": "stream",
     "text": [
      "[I 2023-10-25 12:07:22,318] Trial 66 finished with value: 0.860509624847999 and parameters: {'sigma': 0.1, 'num_layers': 1, 'embed_size': 160, 'heads': 5, 'forward_expansion': 4, 'prenorm_on': True, 'mlp_scale_classification': 7, 'embedding_dropout': 0.1, 'decoder_dropout': 0, 'class_drop': 0.1, 'learning_rate': 0.0001}. Best is trial 64 with value: 0.8187088828820449.\n"
     ]
    },
    {
     "name": "stderr",
     "output_type": "stream",
     "text": [
      "Best trial: 64. Best value: 0.818709:  68%|██████▊   | 68/100 [1:54:17<52:53, 99.18s/it]"
     ]
    },
    {
     "name": "stdout",
     "output_type": "stream",
     "text": [
      "[I 2023-10-25 12:09:01,844] Trial 67 finished with value: 1.1163101746485784 and parameters: {'sigma': 1, 'num_layers': 1, 'embed_size': 100, 'heads': 5, 'forward_expansion': 5, 'prenorm_on': True, 'mlp_scale_classification': 8, 'embedding_dropout': 0.1, 'decoder_dropout': 0, 'class_drop': 0.5, 'learning_rate': 0.0001}. Best is trial 64 with value: 0.8187088828820449.\n"
     ]
    },
    {
     "name": "stderr",
     "output_type": "stream",
     "text": [
      "Best trial: 64. Best value: 0.818709:  69%|██████▉   | 69/100 [1:55:58<51:31, 99.74s/it]"
     ]
    },
    {
     "name": "stdout",
     "output_type": "stream",
     "text": [
      "[I 2023-10-25 12:10:42,897] Trial 68 finished with value: 0.8859945077162522 and parameters: {'sigma': 2, 'num_layers': 1, 'embed_size': 160, 'heads': 10, 'forward_expansion': 6, 'prenorm_on': True, 'mlp_scale_classification': 7, 'embedding_dropout': 0.1, 'decoder_dropout': 0, 'class_drop': 0.1, 'learning_rate': 0.0001}. Best is trial 64 with value: 0.8187088828820449.\n"
     ]
    },
    {
     "name": "stderr",
     "output_type": "stream",
     "text": [
      "Best trial: 64. Best value: 0.818709:  70%|███████   | 70/100 [1:57:37<49:45, 99.52s/it]"
     ]
    },
    {
     "name": "stdout",
     "output_type": "stream",
     "text": [
      "[I 2023-10-25 12:12:21,891] Trial 69 finished with value: 1.0223631171079783 and parameters: {'sigma': 0.001, 'num_layers': 1, 'embed_size': 50, 'heads': 5, 'forward_expansion': 4, 'prenorm_on': True, 'mlp_scale_classification': 8, 'embedding_dropout': 0.1, 'decoder_dropout': 0, 'class_drop': 0.1, 'learning_rate': 0.0001}. Best is trial 64 with value: 0.8187088828820449.\n"
     ]
    },
    {
     "name": "stderr",
     "output_type": "stream",
     "text": [
      "Best trial: 64. Best value: 0.818709:  71%|███████   | 71/100 [1:59:14<47:49, 98.96s/it]"
     ]
    },
    {
     "name": "stdout",
     "output_type": "stream",
     "text": [
      "[I 2023-10-25 12:13:59,567] Trial 70 finished with value: 0.9007506737342248 and parameters: {'sigma': 0.1, 'num_layers': 1, 'embed_size': 160, 'heads': 5, 'forward_expansion': 3, 'prenorm_on': True, 'mlp_scale_classification': 2, 'embedding_dropout': 0.1, 'decoder_dropout': 0, 'class_drop': 0.2, 'learning_rate': 0.0001}. Best is trial 64 with value: 0.8187088828820449.\n"
     ]
    },
    {
     "name": "stderr",
     "output_type": "stream",
     "text": [
      "Best trial: 64. Best value: 0.818709:  72%|███████▏  | 72/100 [2:00:53<46:07, 98.82s/it]"
     ]
    },
    {
     "name": "stdout",
     "output_type": "stream",
     "text": [
      "[I 2023-10-25 12:15:38,060] Trial 71 finished with value: 0.8410040094302251 and parameters: {'sigma': 0.1, 'num_layers': 1, 'embed_size': 160, 'heads': 5, 'forward_expansion': 6, 'prenorm_on': True, 'mlp_scale_classification': 7, 'embedding_dropout': 0.1, 'decoder_dropout': 0, 'class_drop': 0.1, 'learning_rate': 0.0001}. Best is trial 64 with value: 0.8187088828820449.\n"
     ]
    },
    {
     "name": "stderr",
     "output_type": "stream",
     "text": [
      "Best trial: 64. Best value: 0.818709:  73%|███████▎  | 73/100 [2:02:33<44:36, 99.15s/it]"
     ]
    },
    {
     "name": "stdout",
     "output_type": "stream",
     "text": [
      "[I 2023-10-25 12:17:17,963] Trial 72 finished with value: 0.8754743475180405 and parameters: {'sigma': 0.1, 'num_layers': 1, 'embed_size': 160, 'heads': 5, 'forward_expansion': 6, 'prenorm_on': True, 'mlp_scale_classification': 7, 'embedding_dropout': 0.1, 'decoder_dropout': 0, 'class_drop': 0.1, 'learning_rate': 0.0001}. Best is trial 64 with value: 0.8187088828820449.\n"
     ]
    },
    {
     "name": "stderr",
     "output_type": "stream",
     "text": [
      "Best trial: 73. Best value: 0.815503:  74%|███████▍  | 74/100 [2:04:16<43:27, 100.27s/it]"
     ]
    },
    {
     "name": "stdout",
     "output_type": "stream",
     "text": [
      "[I 2023-10-25 12:19:00,854] Trial 73 finished with value: 0.8155032167067895 and parameters: {'sigma': 0.1, 'num_layers': 1, 'embed_size': 160, 'heads': 5, 'forward_expansion': 6, 'prenorm_on': True, 'mlp_scale_classification': 8, 'embedding_dropout': 0.1, 'decoder_dropout': 0, 'class_drop': 0.1, 'learning_rate': 0.0001}. Best is trial 73 with value: 0.8155032167067895.\n"
     ]
    },
    {
     "name": "stderr",
     "output_type": "stream",
     "text": [
      "Best trial: 73. Best value: 0.815503:  75%|███████▌  | 75/100 [2:05:57<41:53, 100.54s/it]"
     ]
    },
    {
     "name": "stdout",
     "output_type": "stream",
     "text": [
      "[I 2023-10-25 12:20:42,036] Trial 74 finished with value: 0.8508033248094412 and parameters: {'sigma': 0.1, 'num_layers': 1, 'embed_size': 160, 'heads': 5, 'forward_expansion': 6, 'prenorm_on': True, 'mlp_scale_classification': 8, 'embedding_dropout': 0.1, 'decoder_dropout': 0, 'class_drop': 0.1, 'learning_rate': 0.0001}. Best is trial 73 with value: 0.8155032167067895.\n"
     ]
    },
    {
     "name": "stderr",
     "output_type": "stream",
     "text": [
      "Best trial: 73. Best value: 0.815503:  76%|███████▌  | 76/100 [2:07:37<40:09, 100.38s/it]"
     ]
    },
    {
     "name": "stdout",
     "output_type": "stream",
     "text": [
      "[I 2023-10-25 12:22:22,022] Trial 75 finished with value: 0.8590043829037592 and parameters: {'sigma': 0.1, 'num_layers': 1, 'embed_size': 160, 'heads': 5, 'forward_expansion': 5, 'prenorm_on': True, 'mlp_scale_classification': 8, 'embedding_dropout': 0.1, 'decoder_dropout': 0, 'class_drop': 0.1, 'learning_rate': 0.0001}. Best is trial 73 with value: 0.8155032167067895.\n"
     ]
    },
    {
     "name": "stderr",
     "output_type": "stream",
     "text": [
      "Best trial: 73. Best value: 0.815503:  77%|███████▋  | 77/100 [2:09:19<38:37, 100.78s/it]"
     ]
    },
    {
     "name": "stdout",
     "output_type": "stream",
     "text": [
      "[I 2023-10-25 12:24:03,748] Trial 76 finished with value: 0.8251188168158898 and parameters: {'sigma': 0.1, 'num_layers': 1, 'embed_size': 160, 'heads': 5, 'forward_expansion': 6, 'prenorm_on': True, 'mlp_scale_classification': 7, 'embedding_dropout': 0.1, 'decoder_dropout': 0, 'class_drop': 0.1, 'learning_rate': 0.0001}. Best is trial 73 with value: 0.8155032167067895.\n"
     ]
    },
    {
     "name": "stderr",
     "output_type": "stream",
     "text": [
      "Best trial: 73. Best value: 0.815503:  78%|███████▊  | 78/100 [2:10:54<36:22, 99.22s/it] "
     ]
    },
    {
     "name": "stdout",
     "output_type": "stream",
     "text": [
      "[I 2023-10-25 12:25:39,322] Trial 77 finished with value: 0.8675334866230304 and parameters: {'sigma': 0.1, 'num_layers': 1, 'embed_size': 160, 'heads': 1, 'forward_expansion': 5, 'prenorm_on': False, 'mlp_scale_classification': 8, 'embedding_dropout': 0.1, 'decoder_dropout': 0, 'class_drop': 0.1, 'learning_rate': 0.0001}. Best is trial 73 with value: 0.8155032167067895.\n"
     ]
    },
    {
     "name": "stderr",
     "output_type": "stream",
     "text": [
      "Best trial: 73. Best value: 0.815503:  79%|███████▉  | 79/100 [2:12:34<34:45, 99.33s/it]"
     ]
    },
    {
     "name": "stdout",
     "output_type": "stream",
     "text": [
      "[I 2023-10-25 12:27:18,919] Trial 78 finished with value: 0.9015425122701205 and parameters: {'sigma': 3, 'num_layers': 1, 'embed_size': 160, 'heads': 5, 'forward_expansion': 6, 'prenorm_on': True, 'mlp_scale_classification': 8, 'embedding_dropout': 0.5, 'decoder_dropout': 0, 'class_drop': 0.1, 'learning_rate': 0.0001}. Best is trial 73 with value: 0.8155032167067895.\n"
     ]
    },
    {
     "name": "stderr",
     "output_type": "stream",
     "text": [
      "Best trial: 73. Best value: 0.815503:  80%|████████  | 80/100 [2:14:15<33:18, 99.94s/it]"
     ]
    },
    {
     "name": "stdout",
     "output_type": "stream",
     "text": [
      "[I 2023-10-25 12:29:00,279] Trial 79 finished with value: 2.40680899986854 and parameters: {'sigma': 10, 'num_layers': 1, 'embed_size': 80, 'heads': 5, 'forward_expansion': 6, 'prenorm_on': True, 'mlp_scale_classification': 7, 'embedding_dropout': 0.2, 'decoder_dropout': 0.5, 'class_drop': 0.5, 'learning_rate': 0.0001}. Best is trial 73 with value: 0.8155032167067895.\n"
     ]
    },
    {
     "name": "stderr",
     "output_type": "stream",
     "text": [
      "Best trial: 73. Best value: 0.815503:  81%|████████  | 81/100 [2:15:56<31:42, 100.14s/it]"
     ]
    },
    {
     "name": "stdout",
     "output_type": "stream",
     "text": [
      "[I 2023-10-25 12:30:40,897] Trial 80 finished with value: 0.9259136365010188 and parameters: {'sigma': 5, 'num_layers': 1, 'embed_size': 70, 'heads': 5, 'forward_expansion': 5, 'prenorm_on': True, 'mlp_scale_classification': 8, 'embedding_dropout': 0.1, 'decoder_dropout': 0, 'class_drop': 0.1, 'learning_rate': 0.0001}. Best is trial 73 with value: 0.8155032167067895.\n"
     ]
    },
    {
     "name": "stderr",
     "output_type": "stream",
     "text": [
      "Best trial: 73. Best value: 0.815503:  82%|████████▏ | 82/100 [2:17:33<29:49, 99.41s/it] "
     ]
    },
    {
     "name": "stdout",
     "output_type": "stream",
     "text": [
      "[I 2023-10-25 12:32:18,607] Trial 81 finished with value: 0.8162475961905259 and parameters: {'sigma': 0.1, 'num_layers': 1, 'embed_size': 160, 'heads': 5, 'forward_expansion': 6, 'prenorm_on': True, 'mlp_scale_classification': 7, 'embedding_dropout': 0.1, 'decoder_dropout': 0, 'class_drop': 0.1, 'learning_rate': 0.0001}. Best is trial 73 with value: 0.8155032167067895.\n"
     ]
    },
    {
     "name": "stderr",
     "output_type": "stream",
     "text": [
      "Best trial: 73. Best value: 0.815503:  83%|████████▎ | 83/100 [2:19:18<28:39, 101.12s/it]"
     ]
    },
    {
     "name": "stdout",
     "output_type": "stream",
     "text": [
      "[I 2023-10-25 12:34:03,708] Trial 82 finished with value: 0.8181197184782761 and parameters: {'sigma': 0.1, 'num_layers': 1, 'embed_size': 160, 'heads': 5, 'forward_expansion': 6, 'prenorm_on': True, 'mlp_scale_classification': 7, 'embedding_dropout': 0.1, 'decoder_dropout': 0, 'class_drop': 0.1, 'learning_rate': 0.0001}. Best is trial 73 with value: 0.8155032167067895.\n"
     ]
    },
    {
     "name": "stderr",
     "output_type": "stream",
     "text": [
      "Best trial: 73. Best value: 0.815503:  84%|████████▍ | 84/100 [2:21:00<27:02, 101.39s/it]"
     ]
    },
    {
     "name": "stdout",
     "output_type": "stream",
     "text": [
      "[I 2023-10-25 12:35:45,735] Trial 83 finished with value: 0.8296414567874029 and parameters: {'sigma': 0.1, 'num_layers': 1, 'embed_size': 160, 'heads': 5, 'forward_expansion': 6, 'prenorm_on': True, 'mlp_scale_classification': 7, 'embedding_dropout': 0.1, 'decoder_dropout': 0, 'class_drop': 0.1, 'learning_rate': 0.0001}. Best is trial 73 with value: 0.8155032167067895.\n"
     ]
    },
    {
     "name": "stderr",
     "output_type": "stream",
     "text": [
      "Best trial: 73. Best value: 0.815503:  85%|████████▌ | 85/100 [2:22:42<25:23, 101.54s/it]"
     ]
    },
    {
     "name": "stdout",
     "output_type": "stream",
     "text": [
      "[I 2023-10-25 12:37:27,634] Trial 84 finished with value: 0.881424761735476 and parameters: {'sigma': 0.1, 'num_layers': 1, 'embed_size': 60, 'heads': 5, 'forward_expansion': 6, 'prenorm_on': True, 'mlp_scale_classification': 7, 'embedding_dropout': 0.1, 'decoder_dropout': 0, 'class_drop': 0.1, 'learning_rate': 0.0001}. Best is trial 73 with value: 0.8155032167067895.\n"
     ]
    },
    {
     "name": "stderr",
     "output_type": "stream",
     "text": [
      "Best trial: 73. Best value: 0.815503:  86%|████████▌ | 86/100 [2:24:22<23:32, 100.89s/it]"
     ]
    },
    {
     "name": "stdout",
     "output_type": "stream",
     "text": [
      "[I 2023-10-25 12:39:07,004] Trial 85 finished with value: 0.926463260100438 and parameters: {'sigma': 0.1, 'num_layers': 1, 'embed_size': 160, 'heads': 5, 'forward_expansion': 6, 'prenorm_on': True, 'mlp_scale_classification': 6, 'embedding_dropout': 0.1, 'decoder_dropout': 0.1, 'class_drop': 0.1, 'learning_rate': 0.001}. Best is trial 73 with value: 0.8155032167067895.\n"
     ]
    },
    {
     "name": "stderr",
     "output_type": "stream",
     "text": [
      "Best trial: 73. Best value: 0.815503:  87%|████████▋ | 87/100 [2:26:03<21:53, 101.03s/it]"
     ]
    },
    {
     "name": "stdout",
     "output_type": "stream",
     "text": [
      "[I 2023-10-25 12:40:48,340] Trial 86 finished with value: 0.8364755098636334 and parameters: {'sigma': 0.1, 'num_layers': 1, 'embed_size': 160, 'heads': 5, 'forward_expansion': 6, 'prenorm_on': True, 'mlp_scale_classification': 7, 'embedding_dropout': 0.1, 'decoder_dropout': 0, 'class_drop': 0, 'learning_rate': 0.0001}. Best is trial 73 with value: 0.8155032167067895.\n"
     ]
    },
    {
     "name": "stderr",
     "output_type": "stream",
     "text": [
      "Best trial: 73. Best value: 0.815503:  88%|████████▊ | 88/100 [2:27:44<20:13, 101.13s/it]"
     ]
    },
    {
     "name": "stdout",
     "output_type": "stream",
     "text": [
      "[I 2023-10-25 12:42:29,721] Trial 87 finished with value: 0.8797981830743643 and parameters: {'sigma': 0.1, 'num_layers': 1, 'embed_size': 140, 'heads': 5, 'forward_expansion': 5, 'prenorm_on': True, 'mlp_scale_classification': 7, 'embedding_dropout': 0.1, 'decoder_dropout': 0, 'class_drop': 0.1, 'learning_rate': 0.0001}. Best is trial 73 with value: 0.8155032167067895.\n"
     ]
    },
    {
     "name": "stderr",
     "output_type": "stream",
     "text": [
      "Best trial: 73. Best value: 0.815503:  89%|████████▉ | 89/100 [2:29:25<18:31, 101.02s/it]"
     ]
    },
    {
     "name": "stdout",
     "output_type": "stream",
     "text": [
      "[I 2023-10-25 12:44:10,489] Trial 88 finished with value: 0.8360070815453162 and parameters: {'sigma': 0.1, 'num_layers': 1, 'embed_size': 100, 'heads': 10, 'forward_expansion': 6, 'prenorm_on': True, 'mlp_scale_classification': 6, 'embedding_dropout': 0.1, 'decoder_dropout': 0, 'class_drop': 0.1, 'learning_rate': 0.0001}. Best is trial 73 with value: 0.8155032167067895.\n"
     ]
    },
    {
     "name": "stderr",
     "output_type": "stream",
     "text": [
      "Best trial: 73. Best value: 0.815503:  90%|█████████ | 90/100 [2:31:02<16:35, 99.60s/it] "
     ]
    },
    {
     "name": "stdout",
     "output_type": "stream",
     "text": [
      "[I 2023-10-25 12:45:46,754] Trial 89 finished with value: 0.8999874500127939 and parameters: {'sigma': 1, 'num_layers': 1, 'embed_size': 50, 'heads': 5, 'forward_expansion': 7, 'prenorm_on': False, 'mlp_scale_classification': 7, 'embedding_dropout': 0.2, 'decoder_dropout': 0, 'class_drop': 0.2, 'learning_rate': 0.0001}. Best is trial 73 with value: 0.8155032167067895.\n"
     ]
    },
    {
     "name": "stderr",
     "output_type": "stream",
     "text": [
      "Best trial: 73. Best value: 0.815503:  91%|█████████ | 91/100 [2:32:45<15:07, 100.79s/it]"
     ]
    },
    {
     "name": "stdout",
     "output_type": "stream",
     "text": [
      "[I 2023-10-25 12:47:30,337] Trial 90 finished with value: 2.23731882755573 and parameters: {'sigma': 0.1, 'num_layers': 1, 'embed_size': 160, 'heads': 5, 'forward_expansion': 6, 'prenorm_on': True, 'mlp_scale_classification': 7, 'embedding_dropout': 0.5, 'decoder_dropout': 0.5, 'class_drop': 0.1, 'learning_rate': 0.0001}. Best is trial 73 with value: 0.8155032167067895.\n"
     ]
    },
    {
     "name": "stderr",
     "output_type": "stream",
     "text": [
      "Best trial: 73. Best value: 0.815503:  92%|█████████▏| 92/100 [2:34:26<13:27, 100.90s/it]"
     ]
    },
    {
     "name": "stdout",
     "output_type": "stream",
     "text": [
      "[I 2023-10-25 12:49:11,476] Trial 91 finished with value: 0.8506800073843735 and parameters: {'sigma': 0.1, 'num_layers': 1, 'embed_size': 160, 'heads': 5, 'forward_expansion': 4, 'prenorm_on': True, 'mlp_scale_classification': 7, 'embedding_dropout': 0.1, 'decoder_dropout': 0, 'class_drop': 0.1, 'learning_rate': 0.0001}. Best is trial 73 with value: 0.8155032167067895.\n"
     ]
    },
    {
     "name": "stderr",
     "output_type": "stream",
     "text": [
      "Best trial: 73. Best value: 0.815503:  93%|█████████▎| 93/100 [2:36:08<11:49, 101.29s/it]"
     ]
    },
    {
     "name": "stdout",
     "output_type": "stream",
     "text": [
      "[I 2023-10-25 12:50:53,699] Trial 92 finished with value: 0.8244591767971332 and parameters: {'sigma': 0.1, 'num_layers': 1, 'embed_size': 160, 'heads': 5, 'forward_expansion': 6, 'prenorm_on': True, 'mlp_scale_classification': 7, 'embedding_dropout': 0.1, 'decoder_dropout': 0, 'class_drop': 0.1, 'learning_rate': 0.0001}. Best is trial 73 with value: 0.8155032167067895.\n"
     ]
    },
    {
     "name": "stderr",
     "output_type": "stream",
     "text": [
      "Best trial: 73. Best value: 0.815503:  94%|█████████▍| 94/100 [2:37:47<10:02, 100.48s/it]"
     ]
    },
    {
     "name": "stdout",
     "output_type": "stream",
     "text": [
      "[I 2023-10-25 12:52:32,267] Trial 93 finished with value: 0.869461348423591 and parameters: {'sigma': 0.1, 'num_layers': 1, 'embed_size': 160, 'heads': 5, 'forward_expansion': 6, 'prenorm_on': True, 'mlp_scale_classification': 6, 'embedding_dropout': 0.1, 'decoder_dropout': 0, 'class_drop': 0.1, 'learning_rate': 0.0001}. Best is trial 73 with value: 0.8155032167067895.\n"
     ]
    },
    {
     "name": "stderr",
     "output_type": "stream",
     "text": [
      "Best trial: 73. Best value: 0.815503:  95%|█████████▌| 95/100 [2:39:27<08:21, 100.21s/it]"
     ]
    },
    {
     "name": "stdout",
     "output_type": "stream",
     "text": [
      "[I 2023-10-25 12:54:11,850] Trial 94 finished with value: 0.8434383364824148 and parameters: {'sigma': 0.1, 'num_layers': 1, 'embed_size': 160, 'heads': 5, 'forward_expansion': 5, 'prenorm_on': True, 'mlp_scale_classification': 7, 'embedding_dropout': 0.1, 'decoder_dropout': 0, 'class_drop': 0.1, 'learning_rate': 0.0001}. Best is trial 73 with value: 0.8155032167067895.\n"
     ]
    },
    {
     "name": "stderr",
     "output_type": "stream",
     "text": [
      "Best trial: 73. Best value: 0.815503:  96%|█████████▌| 96/100 [2:41:11<06:45, 101.36s/it]"
     ]
    },
    {
     "name": "stdout",
     "output_type": "stream",
     "text": [
      "[I 2023-10-25 12:55:55,883] Trial 95 finished with value: 0.908696330510653 and parameters: {'sigma': 2, 'num_layers': 1, 'embed_size': 90, 'heads': 5, 'forward_expansion': 7, 'prenorm_on': True, 'mlp_scale_classification': 6, 'embedding_dropout': 0.1, 'decoder_dropout': 0, 'class_drop': 0.1, 'learning_rate': 0.001}. Best is trial 73 with value: 0.8155032167067895.\n"
     ]
    },
    {
     "name": "stderr",
     "output_type": "stream",
     "text": [
      "Best trial: 73. Best value: 0.815503:  97%|█████████▋| 97/100 [2:42:53<05:04, 101.67s/it]"
     ]
    },
    {
     "name": "stdout",
     "output_type": "stream",
     "text": [
      "[I 2023-10-25 12:57:38,274] Trial 96 finished with value: 0.9233697102620051 and parameters: {'sigma': 0.001, 'num_layers': 1, 'embed_size': 160, 'heads': 5, 'forward_expansion': 6, 'prenorm_on': True, 'mlp_scale_classification': 7, 'embedding_dropout': 0.1, 'decoder_dropout': 0, 'class_drop': 0.1, 'learning_rate': 0.0001}. Best is trial 73 with value: 0.8155032167067895.\n"
     ]
    },
    {
     "name": "stderr",
     "output_type": "stream",
     "text": [
      "Best trial: 73. Best value: 0.815503:  98%|█████████▊| 98/100 [2:44:32<03:21, 100.78s/it]"
     ]
    },
    {
     "name": "stdout",
     "output_type": "stream",
     "text": [
      "[I 2023-10-25 12:59:16,971] Trial 97 finished with value: 0.9997563866468576 and parameters: {'sigma': 0.1, 'num_layers': 1, 'embed_size': 160, 'heads': 1, 'forward_expansion': 6, 'prenorm_on': True, 'mlp_scale_classification': 7, 'embedding_dropout': 0.1, 'decoder_dropout': 0.1, 'class_drop': 0.1, 'learning_rate': 0.0001}. Best is trial 73 with value: 0.8155032167067895.\n"
     ]
    },
    {
     "name": "stderr",
     "output_type": "stream",
     "text": [
      "Best trial: 73. Best value: 0.815503:  99%|█████████▉| 99/100 [2:46:12<01:40, 100.76s/it]"
     ]
    },
    {
     "name": "stdout",
     "output_type": "stream",
     "text": [
      "[I 2023-10-25 13:00:57,688] Trial 98 finished with value: 0.8172530761131873 and parameters: {'sigma': 0.1, 'num_layers': 1, 'embed_size': 160, 'heads': 5, 'forward_expansion': 7, 'prenorm_on': True, 'mlp_scale_classification': 6, 'embedding_dropout': 0.1, 'decoder_dropout': 0, 'class_drop': 0.1, 'learning_rate': 0.0001}. Best is trial 73 with value: 0.8155032167067895.\n"
     ]
    },
    {
     "name": "stderr",
     "output_type": "stream",
     "text": [
      "Best trial: 73. Best value: 0.815503: 100%|██████████| 100/100 [2:47:49<00:00, 100.69s/it]"
     ]
    },
    {
     "name": "stdout",
     "output_type": "stream",
     "text": [
      "[I 2023-10-25 13:02:33,818] Trial 99 finished with value: 0.9102359826748188 and parameters: {'sigma': 3, 'num_layers': 1, 'embed_size': 70, 'heads': 5, 'forward_expansion': 7, 'prenorm_on': True, 'mlp_scale_classification': 6, 'embedding_dropout': 0.1, 'decoder_dropout': 0, 'class_drop': 0.1, 'learning_rate': 0.0001}. Best is trial 73 with value: 0.8155032167067895.\n",
      "Best Hyperparameters: {'sigma': 0.1, 'num_layers': 1, 'embed_size': 160, 'heads': 5, 'forward_expansion': 6, 'prenorm_on': True, 'mlp_scale_classification': 8, 'embedding_dropout': 0.1, 'decoder_dropout': 0, 'class_drop': 0.1, 'learning_rate': 0.0001}\n",
      "Best Validation RMSE (at Early Stopping): 0.8155032167067895\n"
     ]
    },
    {
     "name": "stderr",
     "output_type": "stream",
     "text": [
      "\n"
     ]
    }
   ],
   "source": [
    "# Set the number of optimization trials\n",
    "num_trials = 100\n",
    "\n",
    "# Create an Optuna study\n",
    "study = optuna.create_study(direction='minimize')  # Maximize validation accuracy\n",
    "\n",
    "# Start the optimization process\n",
    "study.optimize(objective, n_trials=num_trials, show_progress_bar=True)\n",
    "\n",
    "# Get the best hyperparameters and the validation accuracy at the point of early stopping\n",
    "best_params = study.best_params\n",
    "best_val_rmse = study.best_value\n",
    "\n",
    "print(\"Best Hyperparameters:\", best_params)\n",
    "print(\"Best Validation RMSE (at Early Stopping):\", best_val_rmse)"
   ]
  },
  {
   "cell_type": "code",
   "execution_count": 18,
   "metadata": {},
   "outputs": [
    {
     "name": "stdout",
     "output_type": "stream",
     "text": [
      "Epoch [ 1/75]        | Train: Loss 4.2606, R2 -0.2035, RMSE 2.0229                       | Test: Loss 2.8355, R2 0.2110, RMSE 1.6766\n",
      "Epoch [ 2/75]        | Train: Loss 1.7403, R2 0.5148, RMSE 1.3032                        | Test: Loss 1.0974, R2 0.7017, RMSE 1.0347\n",
      "Epoch [ 3/75]        | Train: Loss 1.1830, R2 0.6705, RMSE 1.0836                        | Test: Loss 1.0229, R2 0.7089, RMSE 1.0049\n",
      "Epoch [ 4/75]        | Train: Loss 1.0712, R2 0.7003, RMSE 1.0303                        | Test: Loss 1.0608, R2 0.7231, RMSE 1.0247\n",
      "Epoch [ 5/75]        | Train: Loss 1.0355, R2 0.7122, RMSE 1.0134                        | Test: Loss 0.8938, R2 0.7495, RMSE 0.9386\n",
      "Epoch [ 6/75]        | Train: Loss 1.0010, R2 0.7181, RMSE 0.9959                        | Test: Loss 0.9026, R2 0.7598, RMSE 0.9451\n",
      "Epoch [ 7/75]        | Train: Loss 0.9662, R2 0.7291, RMSE 0.9791                        | Test: Loss 0.8788, R2 0.7648, RMSE 0.9315\n",
      "Epoch [ 8/75]        | Train: Loss 0.9486, R2 0.7324, RMSE 0.9705                        | Test: Loss 0.8552, R2 0.7668, RMSE 0.9165\n",
      "Epoch [ 9/75]        | Train: Loss 0.9430, R2 0.7349, RMSE 0.9686                        | Test: Loss 0.8856, R2 0.7607, RMSE 0.9378\n",
      "Epoch [10/75]        | Train: Loss 0.9634, R2 0.7276, RMSE 0.9777                        | Test: Loss 0.8736, R2 0.7661, RMSE 0.9310\n",
      "Epoch [11/75]        | Train: Loss 0.9492, R2 0.7360, RMSE 0.9710                        | Test: Loss 0.8691, R2 0.7734, RMSE 0.9289\n",
      "Epoch [12/75]        | Train: Loss 0.9338, R2 0.7371, RMSE 0.9628                        | Test: Loss 0.8902, R2 0.7763, RMSE 0.9335\n",
      "Epoch [13/75]        | Train: Loss 0.9422, R2 0.7374, RMSE 0.9664                        | Test: Loss 0.8581, R2 0.7557, RMSE 0.9213\n",
      "Epoch [14/75]        | Train: Loss 0.9177, R2 0.7416, RMSE 0.9539                        | Test: Loss 0.8676, R2 0.7573, RMSE 0.9282\n",
      "Epoch [15/75]        | Train: Loss 0.9071, R2 0.7477, RMSE 0.9491                        | Test: Loss 0.8251, R2 0.7786, RMSE 0.9017\n",
      "Epoch [16/75]        | Train: Loss 0.8981, R2 0.7461, RMSE 0.9446                        | Test: Loss 0.8437, R2 0.7531, RMSE 0.9122\n",
      "Epoch [17/75]        | Train: Loss 0.9177, R2 0.7436, RMSE 0.9554                        | Test: Loss 0.7907, R2 0.7764, RMSE 0.8857\n",
      "Epoch [18/75]        | Train: Loss 0.9014, R2 0.7478, RMSE 0.9453                        | Test: Loss 0.8344, R2 0.7792, RMSE 0.9090\n",
      "Epoch [19/75]        | Train: Loss 0.8915, R2 0.7510, RMSE 0.9391                        | Test: Loss 0.8922, R2 0.7579, RMSE 0.9393\n",
      "Epoch [20/75]        | Train: Loss 0.8858, R2 0.7535, RMSE 0.9369                        | Test: Loss 0.8384, R2 0.7820, RMSE 0.9100\n",
      "Epoch [21/75]        | Train: Loss 0.8936, R2 0.7489, RMSE 0.9414                        | Test: Loss 0.7799, R2 0.7582, RMSE 0.8783\n",
      "Epoch [22/75]        | Train: Loss 0.8628, R2 0.7587, RMSE 0.9257                        | Test: Loss 0.7674, R2 0.7815, RMSE 0.8719\n",
      "Epoch [23/75]        | Train: Loss 0.8822, R2 0.7555, RMSE 0.9354                        | Test: Loss 0.7691, R2 0.7951, RMSE 0.8715\n",
      "Epoch [24/75]        | Train: Loss 0.8771, R2 0.7565, RMSE 0.9316                        | Test: Loss 0.8430, R2 0.7583, RMSE 0.9114\n",
      "Epoch [25/75]        | Train: Loss 0.8682, R2 0.7579, RMSE 0.9268                        | Test: Loss 0.8087, R2 0.7683, RMSE 0.8954\n",
      "Epoch [26/75]        | Train: Loss 0.8710, R2 0.7549, RMSE 0.9300                        | Test: Loss 0.7964, R2 0.7892, RMSE 0.8889\n",
      "Epoch [27/75]        | Train: Loss 0.8566, R2 0.7616, RMSE 0.9216                        | Test: Loss 0.7594, R2 0.7928, RMSE 0.8666\n",
      "Epoch [28/75]        | Train: Loss 0.8327, R2 0.7661, RMSE 0.9095                        | Test: Loss 0.8040, R2 0.7759, RMSE 0.8935\n",
      "Epoch [29/75]        | Train: Loss 0.8645, R2 0.7584, RMSE 0.9262                        | Test: Loss 0.7984, R2 0.7856, RMSE 0.8902\n",
      "Epoch [30/75]        | Train: Loss 0.8346, R2 0.7678, RMSE 0.9087                        | Test: Loss 0.8947, R2 0.6973, RMSE 0.9317\n",
      "Epoch [31/75]        | Train: Loss 0.8437, R2 0.7619, RMSE 0.9149                        | Test: Loss 0.7886, R2 0.7867, RMSE 0.8822\n",
      "Epoch [32/75]        | Train: Loss 0.8556, R2 0.7616, RMSE 0.9202                        | Test: Loss 0.7926, R2 0.7944, RMSE 0.8832\n",
      "Epoch [33/75]        | Train: Loss 0.8305, R2 0.7677, RMSE 0.9072                        | Test: Loss 0.7571, R2 0.7928, RMSE 0.8651\n",
      "Epoch [34/75]        | Train: Loss 0.8332, R2 0.7668, RMSE 0.9089                        | Test: Loss 0.7971, R2 0.7821, RMSE 0.8905\n",
      "Epoch [35/75]        | Train: Loss 0.8279, R2 0.7672, RMSE 0.9059                        | Test: Loss 0.8126, R2 0.7746, RMSE 0.8974\n",
      "Epoch [36/75]        | Train: Loss 0.8193, R2 0.7718, RMSE 0.9011                        | Test: Loss 0.7654, R2 0.7934, RMSE 0.8729\n",
      "Epoch [37/75]        | Train: Loss 0.8303, R2 0.7669, RMSE 0.9082                        | Test: Loss 0.8009, R2 0.7849, RMSE 0.8924\n",
      "Epoch [38/75]        | Train: Loss 0.8236, R2 0.7704, RMSE 0.9028                        | Test: Loss 0.8476, R2 0.7562, RMSE 0.9178\n",
      "Epoch [39/75]        | Train: Loss 0.8200, R2 0.7692, RMSE 0.9034                        | Test: Loss 0.7382, R2 0.7945, RMSE 0.8549\n",
      "Epoch [40/75]        | Train: Loss 0.8172, R2 0.7705, RMSE 0.9008                        | Test: Loss 0.8356, R2 0.7654, RMSE 0.9029\n",
      "Epoch [41/75]        | Train: Loss 0.8308, R2 0.7688, RMSE 0.9068                        | Test: Loss 0.8953, R2 0.7359, RMSE 0.9442\n",
      "Epoch [42/75]        | Train: Loss 0.8045, R2 0.7723, RMSE 0.8928                        | Test: Loss 0.7257, R2 0.7974, RMSE 0.8480\n",
      "Epoch [43/75]        | Train: Loss 0.8106, R2 0.7747, RMSE 0.8962                        | Test: Loss 0.7533, R2 0.7754, RMSE 0.8650\n",
      "Epoch [44/75]        | Train: Loss 0.8316, R2 0.7677, RMSE 0.9090                        | Test: Loss 0.7442, R2 0.7956, RMSE 0.8587\n",
      "Epoch [45/75]        | Train: Loss 0.7995, R2 0.7767, RMSE 0.8891                        | Test: Loss 0.8693, R2 0.7694, RMSE 0.9291\n",
      "Epoch [46/75]        | Train: Loss 0.8011, R2 0.7740, RMSE 0.8918                        | Test: Loss 0.7789, R2 0.7882, RMSE 0.8794\n",
      "Epoch [47/75]        | Train: Loss 0.8106, R2 0.7734, RMSE 0.8972                        | Test: Loss 0.7355, R2 0.8008, RMSE 0.8523\n",
      "Epoch [48/75]        | Train: Loss 0.8203, R2 0.7684, RMSE 0.9014                        | Test: Loss 0.7593, R2 0.7855, RMSE 0.8686\n",
      "Epoch [49/75]        | Train: Loss 0.7829, R2 0.7804, RMSE 0.8819                        | Test: Loss 0.7640, R2 0.7785, RMSE 0.8701\n",
      "Epoch [50/75]        | Train: Loss 0.7775, R2 0.7827, RMSE 0.8788                        | Test: Loss 0.7610, R2 0.7916, RMSE 0.8643\n",
      "Epoch [51/75]        | Train: Loss 0.7838, R2 0.7814, RMSE 0.8814                        | Test: Loss 0.7213, R2 0.7970, RMSE 0.8400\n",
      "Epoch [52/75]        | Train: Loss 0.7746, R2 0.7824, RMSE 0.8769                        | Test: Loss 0.7330, R2 0.8010, RMSE 0.8521\n",
      "Epoch [53/75]        | Train: Loss 0.7803, R2 0.7821, RMSE 0.8795                        | Test: Loss 0.7437, R2 0.7909, RMSE 0.8564\n",
      "Epoch [54/75]        | Train: Loss 0.7795, R2 0.7828, RMSE 0.8779                        | Test: Loss 0.7789, R2 0.7859, RMSE 0.8748\n",
      "Epoch [55/75]        | Train: Loss 0.7677, R2 0.7840, RMSE 0.8733                        | Test: Loss 0.7292, R2 0.7969, RMSE 0.8478\n",
      "Epoch [56/75]        | Train: Loss 0.7818, R2 0.7816, RMSE 0.8797                        | Test: Loss 0.8128, R2 0.7827, RMSE 0.8964\n",
      "Epoch [57/75]        | Train: Loss 0.7721, R2 0.7836, RMSE 0.8758                        | Test: Loss 0.7459, R2 0.7916, RMSE 0.8581\n",
      "Epoch [58/75]        | Train: Loss 0.7699, R2 0.7843, RMSE 0.8737                        | Test: Loss 0.7394, R2 0.7958, RMSE 0.8522\n",
      "Epoch [59/75]        | Train: Loss 0.7755, R2 0.7835, RMSE 0.8766                        | Test: Loss 0.7306, R2 0.7949, RMSE 0.8505\n",
      "Epoch [60/75]        | Train: Loss 0.7675, R2 0.7839, RMSE 0.8724                        | Test: Loss 0.8753, R2 0.7469, RMSE 0.9320\n",
      "Epoch [61/75]        | Train: Loss 0.7579, R2 0.7866, RMSE 0.8674                        | Test: Loss 0.8777, R2 0.7165, RMSE 0.9084\n",
      "Epoch [62/75]        | Train: Loss 0.7890, R2 0.7778, RMSE 0.8845                        | Test: Loss 0.7280, R2 0.7926, RMSE 0.8475\n",
      "Epoch [63/75]        | Train: Loss 0.7570, R2 0.7879, RMSE 0.8660                        | Test: Loss 0.7577, R2 0.7899, RMSE 0.8624\n",
      "Epoch [64/75]        | Train: Loss 0.7512, R2 0.7889, RMSE 0.8629                        | Test: Loss 0.8003, R2 0.7901, RMSE 0.8906\n",
      "Epoch [65/75]        | Train: Loss 0.7705, R2 0.7831, RMSE 0.8738                        | Test: Loss 0.7638, R2 0.7893, RMSE 0.8671\n",
      "Epoch [66/75]        | Train: Loss 0.7795, R2 0.7835, RMSE 0.8793                        | Test: Loss 0.7437, R2 0.7937, RMSE 0.8571\n",
      "Epoch [67/75]        | Train: Loss 0.7706, R2 0.7842, RMSE 0.8749                        | Test: Loss 0.7878, R2 0.8024, RMSE 0.8799\n",
      "Epoch [68/75]        | Train: Loss 0.7664, R2 0.7868, RMSE 0.8716                        | Test: Loss 0.7761, R2 0.7826, RMSE 0.8763\n",
      "Epoch [69/75]        | Train: Loss 0.7349, R2 0.7944, RMSE 0.8542                        | Test: Loss 0.7163, R2 0.7958, RMSE 0.8384\n",
      "Epoch [70/75]        | Train: Loss 0.7403, R2 0.7924, RMSE 0.8576                        | Test: Loss 0.7802, R2 0.7811, RMSE 0.8749\n",
      "Epoch [71/75]        | Train: Loss 0.7430, R2 0.7917, RMSE 0.8587                        | Test: Loss 0.7214, R2 0.8041, RMSE 0.8424\n",
      "Epoch [72/75]        | Train: Loss 0.7396, R2 0.7944, RMSE 0.8560                        | Test: Loss 0.8351, R2 0.7877, RMSE 0.9065\n",
      "Epoch [73/75]        | Train: Loss 0.7270, R2 0.7951, RMSE 0.8495                        | Test: Loss 0.7719, R2 0.8007, RMSE 0.8710\n",
      "Epoch [74/75]        | Train: Loss 0.7384, R2 0.7937, RMSE 0.8565                        | Test: Loss 0.7909, R2 0.7764, RMSE 0.8806\n",
      "Epoch [75/75]        | Train: Loss 0.7597, R2 0.7858, RMSE 0.8678                        | Test: Loss 0.7581, R2 0.7682, RMSE 0.8656\n"
     ]
    },
    {
     "data": {
      "text/plain": [
       "<matplotlib.legend.Legend at 0x7f0b4767b250>"
      ]
     },
     "execution_count": 18,
     "metadata": {},
     "output_type": "execute_result"
    },
    {
     "data": {
      "image/png": "[encoded data removed]",
      "text/plain": [
       "<Figure size 1500x500 with 1 Axes>"
      ]
     },
     "metadata": {},
     "output_type": "display_data"
    }
   ],
   "source": [
    "#Testing against the test dataset\n",
    "\n",
    "model = Classifier(n_features=len(cont_columns),\n",
    "                   targets_classes=[0],\n",
    "                   rff_on=True,\n",
    "                   sigma=best_params['sigma'],\n",
    "                   embed_size=best_params['embed_size'],\n",
    "                   num_layers=best_params['num_layers'],\n",
    "                   heads=best_params['heads'],\n",
    "                   forward_expansion=best_params['forward_expansion'],\n",
    "                   pre_norm_on=best_params['prenorm_on'],\n",
    "                   mlp_scale_classification=best_params['mlp_scale_classification'],\n",
    "                   embedding_dropout=best_params['embedding_dropout'],\n",
    "                   decoder_dropout=best_params['decoder_dropout'],\n",
    "                   classification_dropout=best_params['class_drop']\n",
    "                   ).to(device_in_use) # Instantiate the model\n",
    "loss_functions = UncertaintyLoss(1)\n",
    "optimizer = torch.optim.Adam(params=model.parameters(), lr = best_params['learning_rate']) # Maybe try messing around with optimizers. try other torch optimizers with different configurations.\n",
    "epochs = 75 #Set the number of epochs\n",
    "\n",
    "train_losses = []\n",
    "train_accuracies_1 = [] \n",
    "train_accuracies_2 = []\n",
    "train_recalls = [] \n",
    "train_f1_scores = [] \n",
    "test_losses = []\n",
    "test_accuracies_1 = []\n",
    "test_accuracies_2 = []\n",
    "test_recalls = []  \n",
    "test_f1_scores = [] \n",
    "all_attention_scores = []\n",
    "\n",
    "for t in range(epochs):\n",
    "  train_loss, r2_train, rmse_train = train(train_dataloader, model, loss_functions, optimizer, device_in_use=device_in_use)\n",
    "  test_loss, r2_test, rmse_test = test(test_dataloader, model, loss_functions, device_in_use=device_in_use)\n",
    "  train_losses.append(train_loss)\n",
    "\n",
    "  # train_accuracies_2.append(train_accuracy_2)\n",
    "  # train_recalls.append(train_recall) \n",
    "  # train_f1_scores.append(train_f1)\n",
    "  test_losses.append(test_loss)\n",
    "\n",
    "  # test_accuracies_2.append(test_accuracy_2)\n",
    "  # test_recalls.append(test_recall)\n",
    "  # test_f1_scores.append(test_f1)\n",
    "  # Formatting for easier reading\n",
    "  epoch_str = f\"Epoch [{t+1:2}/{epochs}]\"\n",
    "  train_metrics = f\"Train: Loss {format_metric(train_loss)}, R2 {format_metric(r2_train)}, RMSE {format_metric(rmse_train)}\"\n",
    "  test_metrics = f\"Test: Loss {format_metric(test_loss)}, R2 {format_metric(r2_test)}, RMSE {format_metric(rmse_test)}\"\n",
    "  print(f\"{epoch_str:20} | {train_metrics:65} | {test_metrics}\")\n",
    "\n",
    "\n",
    "torch.save(model.state_dict(), 'final_model_trained.pth')\n",
    "\n",
    "# Plotting the loss curves\n",
    "plt.figure(figsize=(15, 5))\n",
    "plt.subplot(1, 1, 1)\n",
    "plt.plot(range(1, epochs+1), train_losses, label='Train Loss')\n",
    "plt.plot(range(1, epochs+1), [l for l in test_losses], label='Test Loss')\n",
    "plt.xlabel('Epoch')\n",
    "plt.ylabel('Loss')\n",
    "plt.title('Training and Test Loss Curve')\n",
    "plt.legend()\n"
   ]
  }
 ],
 "metadata": {
  "kernelspec": {
   "display_name": "ml-env",
   "language": "python",
   "name": "python3"
  },
  "language_info": {
   "codemirror_mode": {
    "name": "ipython",
    "version": 3
   },
   "file_extension": ".py",
   "mimetype": "text/x-python",
   "name": "python",
   "nbconvert_exporter": "python",
   "pygments_lexer": "ipython3",
   "version": "3.11.4"
  }
 },
 "nbformat": 4,
 "nbformat_minor": 2
}
