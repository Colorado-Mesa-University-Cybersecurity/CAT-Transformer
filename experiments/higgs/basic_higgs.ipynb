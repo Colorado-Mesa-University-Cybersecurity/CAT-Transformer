{
 "cells": [
  {
   "cell_type": "code",
   "execution_count": 2,
   "metadata": {},
   "outputs": [],
   "source": [
    "import pandas as pd\n",
    "import numpy as np\n",
    "from sklearn.preprocessing import LabelEncoder\n",
    "import torch\n",
    "import torch.nn as nn\n",
    "from torch.utils.data import Dataset, DataLoader\n",
    "import torch.nn.functional as F\n",
    "import matplotlib.pyplot as plt\n",
    "#from rff.layers import GaussianEncoding #pip install random-fourier-features-pytorch\n",
    "from sklearn.model_selection import train_test_split\n",
    "from sklearn.metrics import accuracy_score, f1_score, recall_score, confusion_matrix\n",
    "from sklearn.preprocessing import StandardScaler\n",
    "import seaborn as sns\n",
    "from scipy.io import arff\n",
    "\n",
    "import sys\n",
    "import importlib\n",
    "sys.path.append('../../helpers/')\n",
    "import helper\n",
    "sys.path.append('../../model/')\n",
    "from ourModel import Classifier, train, test"
   ]
  },
  {
   "cell_type": "code",
   "execution_count": 3,
   "metadata": {},
   "outputs": [
    {
     "name": "stdout",
     "output_type": "stream",
     "text": [
      "GPU is available and being used\n"
     ]
    }
   ],
   "source": [
    "# Run regardless if you do or do not have GPU so all tensors are moved to right location later on\n",
    "if torch.cuda.is_available():\n",
    "    device_in_use = torch.device(\"cuda\")\n",
    "    print(\"GPU is available and being used\")\n",
    "else:\n",
    "    device_in_use = torch.device(\"cpu\")\n",
    "    print(\"GPU is not available, using CPU instead\")"
   ]
  },
  {
   "cell_type": "code",
   "execution_count": 4,
   "metadata": {},
   "outputs": [
    {
     "name": "stdout",
     "output_type": "stream",
     "text": [
      "Number of GPUs available: 1\n",
      "Current GPU name: NVIDIA GeForce RTX 3060 Laptop GPU\n"
     ]
    }
   ],
   "source": [
    "# Check if CUDA (GPU support) is available\n",
    "if torch.cuda.is_available():\n",
    "    # Get the number of available GPUs\n",
    "    num_gpus = torch.cuda.device_count()\n",
    "\n",
    "    # Get the name of the current GPU (device 0 in this example)\n",
    "    current_gpu_name = torch.cuda.get_device_name(0)\n",
    "\n",
    "    print(f\"Number of GPUs available: {num_gpus}\")\n",
    "    print(f\"Current GPU name: {current_gpu_name}\")\n",
    "else:\n",
    "    print(\"CUDA is not available. Running on CPU.\")\n"
   ]
  },
  {
   "cell_type": "markdown",
   "metadata": {},
   "source": [
    "# Prepare Dataset "
   ]
  },
  {
   "cell_type": "markdown",
   "metadata": {},
   "source": [
    "Load Dataset"
   ]
  },
  {
   "cell_type": "code",
   "execution_count": 3,
   "metadata": {},
   "outputs": [
    {
     "name": "stdout",
     "output_type": "stream",
     "text": [
      "<class 'pandas.core.frame.DataFrame'>\n",
      "RangeIndex: 98050 entries, 0 to 98049\n",
      "Data columns (total 29 columns):\n",
      " #   Column                    Non-Null Count  Dtype  \n",
      "---  ------                    --------------  -----  \n",
      " 0   class                     98050 non-null  float64\n",
      " 1   lepton_pT                 98050 non-null  float64\n",
      " 2   lepton_eta                98050 non-null  float64\n",
      " 3   lepton_phi                98050 non-null  float64\n",
      " 4   missing_energy_magnitude  98050 non-null  float64\n",
      " 5   missing_energy_phi        98050 non-null  float64\n",
      " 6   jet1pt                    98050 non-null  float64\n",
      " 7   jet1eta                   98050 non-null  float64\n",
      " 8   jet1phi                   98050 non-null  float64\n",
      " 9   jet1b-tag                 98050 non-null  float64\n",
      " 10  jet2pt                    98050 non-null  float64\n",
      " 11  jet2eta                   98050 non-null  float64\n",
      " 12  jet2phi                   98050 non-null  float64\n",
      " 13  jet2b-tag                 98050 non-null  float64\n",
      " 14  jet3pt                    98050 non-null  float64\n",
      " 15  jet3eta                   98050 non-null  float64\n",
      " 16  jet3phi                   98050 non-null  float64\n",
      " 17  jet3b-tag                 98050 non-null  float64\n",
      " 18  jet4pt                    98050 non-null  float64\n",
      " 19  jet4eta                   98050 non-null  float64\n",
      " 20  jet4phi                   98049 non-null  float64\n",
      " 21  jet4b-tag                 98049 non-null  float64\n",
      " 22  m_jj                      98049 non-null  float64\n",
      " 23  m_jjj                     98049 non-null  float64\n",
      " 24  m_lv                      98049 non-null  float64\n",
      " 25  m_jlv                     98049 non-null  float64\n",
      " 26  m_bb                      98049 non-null  float64\n",
      " 27  m_wbb                     98049 non-null  float64\n",
      " 28  m_wwbb                    98049 non-null  float64\n",
      "dtypes: float64(29)\n",
      "memory usage: 21.7 MB\n"
     ]
    }
   ],
   "source": [
    "data_file_path = '../../datasets/higgs/Higgs.arff'\n",
    "df = arff.loadarff(data_file_path)\n",
    "df = pd.DataFrame(df[0])\n",
    "df.info()"
   ]
  },
  {
   "cell_type": "markdown",
   "metadata": {},
   "source": [
    "Clean Data"
   ]
  },
  {
   "cell_type": "code",
   "execution_count": 4,
   "metadata": {},
   "outputs": [
    {
     "data": {
      "text/html": [
       "<div>\n",
       "<style scoped>\n",
       "    .dataframe tbody tr th:only-of-type {\n",
       "        vertical-align: middle;\n",
       "    }\n",
       "\n",
       "    .dataframe tbody tr th {\n",
       "        vertical-align: top;\n",
       "    }\n",
       "\n",
       "    .dataframe thead th {\n",
       "        text-align: right;\n",
       "    }\n",
       "</style>\n",
       "<table border=\"1\" class=\"dataframe\">\n",
       "  <thead>\n",
       "    <tr style=\"text-align: right;\">\n",
       "      <th></th>\n",
       "      <th>class</th>\n",
       "      <th>lepton_pT</th>\n",
       "      <th>lepton_eta</th>\n",
       "      <th>lepton_phi</th>\n",
       "      <th>missing_energy_magnitude</th>\n",
       "      <th>missing_energy_phi</th>\n",
       "      <th>jet1pt</th>\n",
       "      <th>jet1eta</th>\n",
       "      <th>jet1phi</th>\n",
       "      <th>jet1b-tag</th>\n",
       "      <th>...</th>\n",
       "      <th>jet4eta</th>\n",
       "      <th>jet4phi</th>\n",
       "      <th>jet4b-tag</th>\n",
       "      <th>m_jj</th>\n",
       "      <th>m_jjj</th>\n",
       "      <th>m_lv</th>\n",
       "      <th>m_jlv</th>\n",
       "      <th>m_bb</th>\n",
       "      <th>m_wbb</th>\n",
       "      <th>m_wwbb</th>\n",
       "    </tr>\n",
       "  </thead>\n",
       "  <tbody>\n",
       "    <tr>\n",
       "      <th>0</th>\n",
       "      <td>1.0</td>\n",
       "      <td>0.907542</td>\n",
       "      <td>0.329147</td>\n",
       "      <td>0.359412</td>\n",
       "      <td>1.497970</td>\n",
       "      <td>-0.313010</td>\n",
       "      <td>1.095531</td>\n",
       "      <td>-0.557525</td>\n",
       "      <td>-1.588230</td>\n",
       "      <td>2.173076</td>\n",
       "      <td>...</td>\n",
       "      <td>-1.138930</td>\n",
       "      <td>-0.000819</td>\n",
       "      <td>0.000000</td>\n",
       "      <td>0.302220</td>\n",
       "      <td>0.833048</td>\n",
       "      <td>0.985700</td>\n",
       "      <td>0.978098</td>\n",
       "      <td>0.779732</td>\n",
       "      <td>0.992356</td>\n",
       "      <td>0.798343</td>\n",
       "    </tr>\n",
       "    <tr>\n",
       "      <th>1</th>\n",
       "      <td>1.0</td>\n",
       "      <td>0.798835</td>\n",
       "      <td>1.470639</td>\n",
       "      <td>-1.635975</td>\n",
       "      <td>0.453773</td>\n",
       "      <td>0.425629</td>\n",
       "      <td>1.104875</td>\n",
       "      <td>1.282322</td>\n",
       "      <td>1.381664</td>\n",
       "      <td>0.000000</td>\n",
       "      <td>...</td>\n",
       "      <td>1.128848</td>\n",
       "      <td>0.900461</td>\n",
       "      <td>0.000000</td>\n",
       "      <td>0.909753</td>\n",
       "      <td>1.108330</td>\n",
       "      <td>0.985692</td>\n",
       "      <td>0.951331</td>\n",
       "      <td>0.803252</td>\n",
       "      <td>0.865924</td>\n",
       "      <td>0.780118</td>\n",
       "    </tr>\n",
       "    <tr>\n",
       "      <th>2</th>\n",
       "      <td>0.0</td>\n",
       "      <td>1.344385</td>\n",
       "      <td>-0.876626</td>\n",
       "      <td>0.935913</td>\n",
       "      <td>1.992050</td>\n",
       "      <td>0.882454</td>\n",
       "      <td>1.786066</td>\n",
       "      <td>-1.646778</td>\n",
       "      <td>-0.942383</td>\n",
       "      <td>0.000000</td>\n",
       "      <td>...</td>\n",
       "      <td>-0.678379</td>\n",
       "      <td>-1.360356</td>\n",
       "      <td>0.000000</td>\n",
       "      <td>0.946652</td>\n",
       "      <td>1.028704</td>\n",
       "      <td>0.998656</td>\n",
       "      <td>0.728281</td>\n",
       "      <td>0.869200</td>\n",
       "      <td>1.026736</td>\n",
       "      <td>0.957904</td>\n",
       "    </tr>\n",
       "    <tr>\n",
       "      <th>3</th>\n",
       "      <td>1.0</td>\n",
       "      <td>1.105009</td>\n",
       "      <td>0.321356</td>\n",
       "      <td>1.522401</td>\n",
       "      <td>0.882808</td>\n",
       "      <td>-1.205349</td>\n",
       "      <td>0.681466</td>\n",
       "      <td>-1.070464</td>\n",
       "      <td>-0.921871</td>\n",
       "      <td>0.000000</td>\n",
       "      <td>...</td>\n",
       "      <td>-0.373566</td>\n",
       "      <td>0.113041</td>\n",
       "      <td>0.000000</td>\n",
       "      <td>0.755856</td>\n",
       "      <td>1.361057</td>\n",
       "      <td>0.986610</td>\n",
       "      <td>0.838085</td>\n",
       "      <td>1.133295</td>\n",
       "      <td>0.872245</td>\n",
       "      <td>0.808487</td>\n",
       "    </tr>\n",
       "    <tr>\n",
       "      <th>4</th>\n",
       "      <td>0.0</td>\n",
       "      <td>1.595839</td>\n",
       "      <td>-0.607811</td>\n",
       "      <td>0.007075</td>\n",
       "      <td>1.818450</td>\n",
       "      <td>-0.111906</td>\n",
       "      <td>0.847550</td>\n",
       "      <td>-0.566437</td>\n",
       "      <td>1.581239</td>\n",
       "      <td>2.173076</td>\n",
       "      <td>...</td>\n",
       "      <td>-0.654227</td>\n",
       "      <td>-1.274345</td>\n",
       "      <td>3.101961</td>\n",
       "      <td>0.823761</td>\n",
       "      <td>0.938191</td>\n",
       "      <td>0.971758</td>\n",
       "      <td>0.789176</td>\n",
       "      <td>0.430553</td>\n",
       "      <td>0.961357</td>\n",
       "      <td>0.957818</td>\n",
       "    </tr>\n",
       "  </tbody>\n",
       "</table>\n",
       "<p>5 rows × 29 columns</p>\n",
       "</div>"
      ],
      "text/plain": [
       "   class  lepton_pT  lepton_eta  lepton_phi  missing_energy_magnitude  \\\n",
       "0    1.0   0.907542    0.329147    0.359412                  1.497970   \n",
       "1    1.0   0.798835    1.470639   -1.635975                  0.453773   \n",
       "2    0.0   1.344385   -0.876626    0.935913                  1.992050   \n",
       "3    1.0   1.105009    0.321356    1.522401                  0.882808   \n",
       "4    0.0   1.595839   -0.607811    0.007075                  1.818450   \n",
       "\n",
       "   missing_energy_phi    jet1pt   jet1eta   jet1phi  jet1b-tag  ...   jet4eta  \\\n",
       "0           -0.313010  1.095531 -0.557525 -1.588230   2.173076  ... -1.138930   \n",
       "1            0.425629  1.104875  1.282322  1.381664   0.000000  ...  1.128848   \n",
       "2            0.882454  1.786066 -1.646778 -0.942383   0.000000  ... -0.678379   \n",
       "3           -1.205349  0.681466 -1.070464 -0.921871   0.000000  ... -0.373566   \n",
       "4           -0.111906  0.847550 -0.566437  1.581239   2.173076  ... -0.654227   \n",
       "\n",
       "    jet4phi  jet4b-tag      m_jj     m_jjj      m_lv     m_jlv      m_bb  \\\n",
       "0 -0.000819   0.000000  0.302220  0.833048  0.985700  0.978098  0.779732   \n",
       "1  0.900461   0.000000  0.909753  1.108330  0.985692  0.951331  0.803252   \n",
       "2 -1.360356   0.000000  0.946652  1.028704  0.998656  0.728281  0.869200   \n",
       "3  0.113041   0.000000  0.755856  1.361057  0.986610  0.838085  1.133295   \n",
       "4 -1.274345   3.101961  0.823761  0.938191  0.971758  0.789176  0.430553   \n",
       "\n",
       "      m_wbb    m_wwbb  \n",
       "0  0.992356  0.798343  \n",
       "1  0.865924  0.780118  \n",
       "2  1.026736  0.957904  \n",
       "3  0.872245  0.808487  \n",
       "4  0.961357  0.957818  \n",
       "\n",
       "[5 rows x 29 columns]"
      ]
     },
     "execution_count": 4,
     "metadata": {},
     "output_type": "execute_result"
    }
   ],
   "source": [
    "df = df[~df.isin([np.nan, np.inf, -np.inf]).any(axis=1)]\n",
    "df.head()"
   ]
  },
  {
   "cell_type": "code",
   "execution_count": 5,
   "metadata": {},
   "outputs": [
    {
     "name": "stdout",
     "output_type": "stream",
     "text": [
      "1.0    51826\n",
      "0.0    46223\n",
      "Name: class, dtype: int64\n"
     ]
    }
   ],
   "source": [
    "targets = [\n",
    "    'class'\n",
    "]\n",
    "\n",
    "for x in targets:\n",
    "    print(df[x].value_counts())\n"
   ]
  },
  {
   "cell_type": "code",
   "execution_count": 7,
   "metadata": {},
   "outputs": [],
   "source": [
    "# encode the labels of the targets and create decoding dict\n",
    "label_encoders = []\n",
    "encoded_to_labels = []\n",
    "for x in range(len(targets)):\n",
    "    label_encoders.append(LabelEncoder())\n",
    "    df[targets[x]] = label_encoders[x].fit_transform(df[targets[x]])\n",
    "    encoded_to_labels.append({encoded: label for label, encoded in zip(label_encoders[x].classes_, label_encoders[x].transform(label_encoders[x].classes_))})\n",
    "\n"
   ]
  },
  {
   "cell_type": "code",
   "execution_count": 8,
   "metadata": {},
   "outputs": [
    {
     "name": "stdout",
     "output_type": "stream",
     "text": [
      "1    51826\n",
      "0    46223\n",
      "Name: class, dtype: int64\n",
      "[{0: 0.0, 1: 1.0}]\n"
     ]
    }
   ],
   "source": [
    "for x in targets:\n",
    "    print(df[x].value_counts())\n",
    "print(encoded_to_labels)"
   ]
  },
  {
   "cell_type": "markdown",
   "metadata": {},
   "source": [
    "# Beyond here you dont have to mess with the dataframe anymore."
   ]
  },
  {
   "cell_type": "markdown",
   "metadata": {},
   "source": [
    "### Structure data for pytorch and split into training and testing splits"
   ]
  },
  {
   "cell_type": "code",
   "execution_count": 9,
   "metadata": {},
   "outputs": [
    {
     "name": "stdout",
     "output_type": "stream",
     "text": [
      "Train length: 78439, Test length: 19610\n"
     ]
    }
   ],
   "source": [
    "# dataset wrapper for the dataframe. Just a way to structure the data that pytorch likes and needs to then wrap with dataloader.\n",
    "\n",
    "class DatasetWrapper(Dataset):\n",
    "    def __init__(self, df : pd.DataFrame, target : str):\n",
    "        self.n = df.shape[0]\n",
    "        \n",
    "        self.y = df[target].astype(np.int64).values\n",
    "\n",
    "        self.scalar = StandardScaler()\n",
    "        self.x = self.scalar.fit_transform(df.drop(columns=targets)).astype(np.float32)\n",
    "\n",
    "    def __len__(self):\n",
    "        return self.n\n",
    "    \n",
    "    def __getitem__(self, index):\n",
    "        return self.x[index], self.y[index]\n",
    "    \n",
    "exp_dataset = DatasetWrapper(df, target=targets) # UPDATE for your experiments\n",
    "\n",
    "# Split training and testing samples\n",
    "train_size = int(0.8*len(exp_dataset)) # Use a different ratio if you want\n",
    "test_size = len(exp_dataset) - train_size\n",
    "train_dataset, test_dataset = torch.utils.data.random_split(exp_dataset, [train_size, test_size])\n",
    "\n",
    "print(f\"Train length: {len(train_dataset)}, Test length: {len(test_dataset)}\") # See the ratios\n",
    "\n",
    "batch_size = 256 #Hyperparameter that you should try messing with depending on the size of your dataset. The smaller it is, the more stochastic and chaotic the training gets.\n",
    "\n",
    "# Wrapping with dataloader so that its easy to extract batches from the train and test subsets\n",
    "train_dataloader = DataLoader(train_dataset, batch_size=batch_size, shuffle=True) \n",
    "test_dataloader = DataLoader(test_dataset, batch_size=batch_size, shuffle=True) "
   ]
  },
  {
   "cell_type": "markdown",
   "metadata": {},
   "source": [
    "## Model instantiation"
   ]
  },
  {
   "cell_type": "code",
   "execution_count": 10,
   "metadata": {},
   "outputs": [
    {
     "name": "stdout",
     "output_type": "stream",
     "text": [
      "Features: 28\n",
      "Targets: 1\n",
      "Classes per Target: [2]\n"
     ]
    }
   ],
   "source": [
    "num_features =  len(train_dataset[0][0])\n",
    "num_targets =   len(train_dataset[0][1])\n",
    "classes_per_target = [len(df[t].unique()) for t in targets ]\n",
    "\n",
    "print(f\"Features: {num_features}\")\n",
    "print(f\"Targets: {num_targets}\")\n",
    "print(f\"Classes per Target: {classes_per_target}\")"
   ]
  },
  {
   "cell_type": "code",
   "execution_count": 11,
   "metadata": {},
   "outputs": [],
   "source": [
    "#Updated with f1\n",
    "model = Classifier(n_features=num_features, \n",
    "                                   pre_norm_on=True, \n",
    "                                   rff_on=True, \n",
    "                                   forward_expansion=1, \n",
    "                                   mlp_scale_classification=2, \n",
    "                                   targets_classes=classes_per_target\n",
    "                                   ).to(device_in_use) # Instantiate the model\n"
   ]
  },
  {
   "cell_type": "markdown",
   "metadata": {},
   "source": [
    "## Loss functions"
   ]
  },
  {
   "cell_type": "code",
   "execution_count": 12,
   "metadata": {},
   "outputs": [],
   "source": [
    "loss_functions = []\n",
    "#This loop could easily be adapted to us BinaryCrossEntropy for binary class and Cross for multi class\n",
    "for x in targets:\n",
    "    loss_functions.append(nn.CrossEntropyLoss())\n",
    "\n",
    "optimizer = torch.optim.Adam(params=model.parameters(), lr = 0.001) # Maybe try messing around with optimizers. try other torch optimizers with different configurations.\n"
   ]
  },
  {
   "cell_type": "markdown",
   "metadata": {},
   "source": [
    "## Train Test Loop"
   ]
  },
  {
   "cell_type": "code",
   "execution_count": 13,
   "metadata": {},
   "outputs": [],
   "source": [
    "epochs = 40 #Set the number of epochs"
   ]
  },
  {
   "cell_type": "code",
   "execution_count": 14,
   "metadata": {},
   "outputs": [
    {
     "name": "stdout",
     "output_type": "stream",
     "text": [
      "Epoch [ 1/40]   | Train: Loss 0.65, class Accuracy: 0.61 | Test: Loss 0.61, class Accuracy: 0.66, class F1: 0.66\n",
      "Epoch [ 2/40]   | Train: Loss 0.60, class Accuracy: 0.67 | Test: Loss 0.60, class Accuracy: 0.67, class F1: 0.67\n",
      "Epoch [ 3/40]   | Train: Loss 0.59, class Accuracy: 0.68 | Test: Loss 0.59, class Accuracy: 0.68, class F1: 0.68\n",
      "Epoch [ 4/40]   | Train: Loss 0.59, class Accuracy: 0.68 | Test: Loss 0.59, class Accuracy: 0.68, class F1: 0.68\n",
      "Epoch [ 5/40]   | Train: Loss 0.58, class Accuracy: 0.68 | Test: Loss 0.58, class Accuracy: 0.68, class F1: 0.68\n",
      "Epoch [ 6/40]   | Train: Loss 0.58, class Accuracy: 0.68 | Test: Loss 0.58, class Accuracy: 0.68, class F1: 0.68\n",
      "Epoch [ 7/40]   | Train: Loss 0.58, class Accuracy: 0.68 | Test: Loss 0.58, class Accuracy: 0.68, class F1: 0.68\n",
      "Epoch [ 8/40]   | Train: Loss 0.58, class Accuracy: 0.68 | Test: Loss 0.58, class Accuracy: 0.68, class F1: 0.68\n",
      "Epoch [ 9/40]   | Train: Loss 0.58, class Accuracy: 0.69 | Test: Loss 0.58, class Accuracy: 0.68, class F1: 0.68\n",
      "Epoch [10/40]   | Train: Loss 0.58, class Accuracy: 0.69 | Test: Loss 0.58, class Accuracy: 0.68, class F1: 0.68\n",
      "Epoch [11/40]   | Train: Loss 0.57, class Accuracy: 0.69 | Test: Loss 0.58, class Accuracy: 0.68, class F1: 0.68\n",
      "Epoch [12/40]   | Train: Loss 0.57, class Accuracy: 0.69 | Test: Loss 0.58, class Accuracy: 0.68, class F1: 0.68\n",
      "Epoch [13/40]   | Train: Loss 0.57, class Accuracy: 0.69 | Test: Loss 0.58, class Accuracy: 0.69, class F1: 0.69\n",
      "Epoch [14/40]   | Train: Loss 0.57, class Accuracy: 0.69 | Test: Loss 0.58, class Accuracy: 0.69, class F1: 0.69\n",
      "Epoch [15/40]   | Train: Loss 0.57, class Accuracy: 0.69 | Test: Loss 0.58, class Accuracy: 0.69, class F1: 0.68\n",
      "Epoch [16/40]   | Train: Loss 0.57, class Accuracy: 0.70 | Test: Loss 0.58, class Accuracy: 0.69, class F1: 0.69\n",
      "Epoch [17/40]   | Train: Loss 0.56, class Accuracy: 0.70 | Test: Loss 0.57, class Accuracy: 0.69, class F1: 0.69\n",
      "Epoch [18/40]   | Train: Loss 0.56, class Accuracy: 0.70 | Test: Loss 0.57, class Accuracy: 0.69, class F1: 0.69\n",
      "Epoch [19/40]   | Train: Loss 0.56, class Accuracy: 0.70 | Test: Loss 0.57, class Accuracy: 0.69, class F1: 0.69\n",
      "Epoch [20/40]   | Train: Loss 0.56, class Accuracy: 0.70 | Test: Loss 0.57, class Accuracy: 0.69, class F1: 0.69\n",
      "Epoch [21/40]   | Train: Loss 0.56, class Accuracy: 0.70 | Test: Loss 0.57, class Accuracy: 0.69, class F1: 0.69\n",
      "Epoch [22/40]   | Train: Loss 0.56, class Accuracy: 0.70 | Test: Loss 0.58, class Accuracy: 0.69, class F1: 0.69\n",
      "Epoch [23/40]   | Train: Loss 0.56, class Accuracy: 0.70 | Test: Loss 0.57, class Accuracy: 0.69, class F1: 0.69\n",
      "Epoch [24/40]   | Train: Loss 0.55, class Accuracy: 0.71 | Test: Loss 0.57, class Accuracy: 0.69, class F1: 0.69\n",
      "Epoch [25/40]   | Train: Loss 0.55, class Accuracy: 0.71 | Test: Loss 0.57, class Accuracy: 0.69, class F1: 0.69\n",
      "Epoch [26/40]   | Train: Loss 0.55, class Accuracy: 0.71 | Test: Loss 0.57, class Accuracy: 0.69, class F1: 0.69\n",
      "Epoch [27/40]   | Train: Loss 0.55, class Accuracy: 0.71 | Test: Loss 0.57, class Accuracy: 0.70, class F1: 0.70\n",
      "Epoch [28/40]   | Train: Loss 0.55, class Accuracy: 0.71 | Test: Loss 0.57, class Accuracy: 0.69, class F1: 0.69\n",
      "Epoch [29/40]   | Train: Loss 0.55, class Accuracy: 0.71 | Test: Loss 0.57, class Accuracy: 0.69, class F1: 0.69\n",
      "Epoch [30/40]   | Train: Loss 0.55, class Accuracy: 0.71 | Test: Loss 0.57, class Accuracy: 0.70, class F1: 0.70\n",
      "Epoch [31/40]   | Train: Loss 0.55, class Accuracy: 0.71 | Test: Loss 0.57, class Accuracy: 0.69, class F1: 0.69\n",
      "Epoch [32/40]   | Train: Loss 0.55, class Accuracy: 0.71 | Test: Loss 0.57, class Accuracy: 0.69, class F1: 0.69\n",
      "Epoch [33/40]   | Train: Loss 0.55, class Accuracy: 0.71 | Test: Loss 0.57, class Accuracy: 0.69, class F1: 0.69\n",
      "Epoch [34/40]   | Train: Loss 0.55, class Accuracy: 0.71 | Test: Loss 0.57, class Accuracy: 0.70, class F1: 0.70\n",
      "Epoch [35/40]   | Train: Loss 0.54, class Accuracy: 0.71 | Test: Loss 0.57, class Accuracy: 0.70, class F1: 0.70\n",
      "Epoch [36/40]   | Train: Loss 0.54, class Accuracy: 0.71 | Test: Loss 0.58, class Accuracy: 0.69, class F1: 0.69\n",
      "Epoch [37/40]   | Train: Loss 0.54, class Accuracy: 0.71 | Test: Loss 0.58, class Accuracy: 0.69, class F1: 0.69\n",
      "Epoch [38/40]   | Train: Loss 0.54, class Accuracy: 0.71 | Test: Loss 0.58, class Accuracy: 0.69, class F1: 0.69\n",
      "Epoch [39/40]   | Train: Loss 0.54, class Accuracy: 0.71 | Test: Loss 0.58, class Accuracy: 0.69, class F1: 0.69\n",
      "Epoch [40/40]   | Train: Loss 0.54, class Accuracy: 0.72 | Test: Loss 0.58, class Accuracy: 0.69, class F1: 0.69\n"
     ]
    }
   ],
   "source": [
    "train_losses = []\n",
    "test_losses = []\n",
    "train_accuracies = [[] for _ in range(num_targets)]\n",
    "test_accuracies =  [[] for _ in range(num_targets)]\n",
    "\n",
    "for t in range(epochs):\n",
    "  train_loss, train_accuracy= train(train_dataloader, model, loss_functions, optimizer, device_in_use=device_in_use)\n",
    "  test_loss, test_accuracy, all_predictions, all_targets, f1 = test(test_dataloader, model, loss_functions, device_in_use=device_in_use)\n",
    "\n",
    "  #Losses\n",
    "  train_losses.append(train_loss)\n",
    "  test_losses.append(test_loss)\n",
    "  #Accuracies\n",
    "  for i in range(num_targets):\n",
    "    train_accuracies[i].append(train_accuracy[i])\n",
    "    test_accuracies[i].append(test_accuracy[i])\n",
    " \n",
    "  # Formatting for easier reading\n",
    "  epoch_str = f\"Epoch [{t+1:2}/{epochs}]\"\n",
    "\n",
    "  train_metrics = f\"Train: Loss {train_loss:.2f}\"\n",
    "  for target, Acc in zip(targets, train_accuracy):\n",
    "    train_metrics += f\", {target} Accuracy: {Acc:.2f}\"\n",
    "  \n",
    "  test_metrics = f\"Test: Loss {test_loss:.2f}\"\n",
    "  for target, Acc, fone in zip(targets, test_accuracy, f1):\n",
    "    test_metrics += f\", {target} Accuracy: {Acc:.2f}, {target} F1: {fone:.2f}\"\n",
    "\n",
    "  print(f\"{epoch_str:15} | {train_metrics} | {test_metrics}\")\n"
   ]
  },
  {
   "cell_type": "code",
   "execution_count": 15,
   "metadata": {},
   "outputs": [
    {
     "data": {
      "image/png": "[encoded data removed]",
      "text/plain": [
       "<Figure size 1500x500 with 2 Axes>"
      ]
     },
     "metadata": {},
     "output_type": "display_data"
    }
   ],
   "source": [
    "plot_num = 1\n",
    "# Plotting the loss curves\n",
    "plt.figure(figsize=(15, 5))\n",
    "plt.subplot(1, 3, plot_num)\n",
    "plt.plot(range(1, epochs+1), train_losses, label='Train Loss')\n",
    "plt.plot(range(1, epochs+1), [l for l in test_losses], label='Test Loss')\n",
    "plt.xlabel('Epoch')\n",
    "plt.ylabel('Loss')\n",
    "plt.title('Training and Test Loss Curve')\n",
    "plt.legend()\n",
    "plot_num+=1\n",
    "\n",
    "for i in range(num_targets):\n",
    "    plt.subplot(1, 3, plot_num)\n",
    "    plt.plot(range(1, epochs+1), train_accuracies[i], label='Train Accuracy')\n",
    "    plt.plot(range(1, epochs+1), test_accuracies[i], label='Test Accuracy')\n",
    "    plt.xlabel('Epoch')\n",
    "    plt.ylabel('Accuracy')\n",
    "    plt.title(f'Training and Test Accuracy Curve for {targets[i]}')\n",
    "    plt.legend()\n",
    "    plot_num+=1\n",
    "\n",
    "\n",
    "plt.tight_layout()\n",
    "plt.tight_layout()\n",
    "plt.show()\n"
   ]
  },
  {
   "cell_type": "code",
   "execution_count": 15,
   "metadata": {},
   "outputs": [
    {
     "data": {
      "image/png": "[encoded data removed]",
      "text/plain": [
       "<Figure size 1600x1000 with 1 Axes>"
      ]
     },
     "metadata": {},
     "output_type": "display_data"
    }
   ],
   "source": [
    "conf_matrix = confusion_matrix(all_targets[0], all_predictions[0])\n",
    "plt.figure(figsize=(16, 10))\n",
    "sns.heatmap(conf_matrix, annot=True, fmt=\"d\", cmap=\"Blues\", cbar=False)\n",
    "plt.xlabel('Predicted')\n",
    "plt.ylabel('Actual')\n",
    "plt.title(f'Confusion Matrix for {targets[0]}')\n",
    "plt.show()"
   ]
  },
  {
   "cell_type": "code",
   "execution_count": null,
   "metadata": {},
   "outputs": [],
   "source": []
  },
  {
   "cell_type": "code",
   "execution_count": null,
   "metadata": {},
   "outputs": [],
   "source": []
  }
 ],
 "metadata": {
  "kernelspec": {
   "display_name": "ml-env",
   "language": "python",
   "name": "python3"
  },
  "language_info": {
   "codemirror_mode": {
    "name": "ipython",
    "version": 3
   },
   "file_extension": ".py",
   "mimetype": "text/x-python",
   "name": "python",
   "nbconvert_exporter": "python",
   "pygments_lexer": "ipython3",
   "version": "3.11.4"
  },
  "orig_nbformat": 4
 },
 "nbformat": 4,
 "nbformat_minor": 2
}
