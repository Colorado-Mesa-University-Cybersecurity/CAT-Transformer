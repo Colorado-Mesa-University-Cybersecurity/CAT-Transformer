{
 "cells": [
  {
   "cell_type": "code",
   "execution_count": 2,
   "metadata": {},
   "outputs": [],
   "source": [
    "import torch\n",
    "import torch.nn as nn\n",
    "import numpy as np\n",
    "import pandas as pd\n",
    "import torch.nn\n",
    "import os\n",
    "import sys\n",
    "import importlib\n",
    "from torch.utils.data import Dataset, DataLoader\n",
    "import matplotlib.pyplot as plt\n",
    "from rff.layers import GaussianEncoding #pip install random-fourier-features-pytorch\n",
    "from sklearn.model_selection import train_test_split\n",
    "from sklearn.metrics import accuracy_score, f1_score, recall_score, confusion_matrix\n",
    "from sklearn.preprocessing import StandardScaler, LabelEncoder\n",
    "sys.path.append('../../model/')\n",
    "from tab_transformer_pytorch import FTTransformer\n",
    "import importlib\n",
    "import modelAdjustments\n",
    "from modelAdjustments import Combined_Dataset, train, test, categorize_columns \n",
    "import time"
   ]
  },
  {
   "cell_type": "markdown",
   "metadata": {},
   "source": [
    "data loaders for both"
   ]
  },
  {
   "cell_type": "code",
   "execution_count": 3,
   "metadata": {},
   "outputs": [
    {
     "name": "stdout",
     "output_type": "stream",
     "text": [
      "GPU is not available, using CPU instead\n",
      "Target: class\n",
      "Categorical:  ['jet1b-tag', 'jet2b-tag', 'jet3b-tag', 'jet4b-tag'] 4\n",
      "Continous:  ['lepton_pT', 'lepton_eta', 'lepton_phi', 'missing_energy_magnitude', 'missing_energy_phi', 'jet1pt', 'jet1eta', 'jet1phi', 'jet2pt', 'jet2eta', 'jet2phi', 'jet3pt', 'jet3eta', 'jet3phi', 'jet4pt', 'jet4eta', 'jet4phi', 'm_jj', 'm_jjj', 'm_lv', 'm_jlv', 'm_bb', 'm_wbb', 'm_wwbb'] 24\n",
      "Unique Classes per Column:  [3, 3, 3, 3]\n",
      "target classes:  [2]\n"
     ]
    }
   ],
   "source": [
    "# Run regardless if you do or do not have GPU so all tensors are moved to right location later on\n",
    "if torch.cuda.is_available():\n",
    "    device_in_use = torch.device(\"cuda\")\n",
    "    print(\"GPU is available and being used\")\n",
    "else:\n",
    "    device_in_use = torch.device(\"cpu\")\n",
    "    print(\"GPU is not available, using CPU instead\")\n",
    "\n",
    "device_in_use='cpu'\n",
    "\n",
    "df_train = pd.read_csv('../../datasets/higgs/train.csv')\n",
    "df_test = pd.read_csv('../../datasets/higgs/test.csv')\n",
    "df_val = pd.read_csv('../../datasets/higgs/validation.csv') #READ FROM RIGHT SPOT\n",
    "\n",
    "target = 'class'\n",
    "cat_columns, cont_columns, unique_classes_per_column = categorize_columns(df_train, target)\n",
    "\n",
    "if target in cont_columns:\n",
    "    print(\"Warning: CONT \")\n",
    "    cont_columns.remove(target)\n",
    "elif target in cat_columns:\n",
    "    print(\"Warning: CAT \")\n",
    "    cat_columns.remove(target)\n",
    "\n",
    "print(\"Target:\", target)\n",
    "print(\"Categorical: \", cat_columns, len(cat_columns))\n",
    "print(\"Continous: \", cont_columns, len(cont_columns))\n",
    "print(\"Unique Classes per Column: \", unique_classes_per_column)\n",
    "\n",
    "#CHECKING TO MAKE SURE YOUR LIST IS CORRECT (NO NEED TO TOUCH)\n",
    "yourlist = cat_columns + cont_columns + [target]\n",
    "yourlist.sort()\n",
    "oglist = list(df_train.columns)\n",
    "oglist.sort()\n",
    "\n",
    "assert(yourlist == oglist), \"You may of spelled feature name wrong or you forgot to put on of them in the list\"\n",
    "\n",
    "target_classes = [max(len(df_train[target].value_counts()), len(df_val[target].value_counts()),len(df_test[target].value_counts()))]\n",
    "print('target classes: ', target_classes)\n",
    "# Create a StandardScaler and fit it to the cont features\n",
    "scaler = StandardScaler()\n",
    "scaler.fit(df_train[cont_columns])\n",
    "\n",
    "# Transform the training, test, and validation datasets\n",
    "df_train[cont_columns] = scaler.transform(df_train[cont_columns])\n",
    "df_test[cont_columns] = scaler.transform(df_test[cont_columns])\n",
    "df_val[cont_columns] = scaler.transform(df_val[cont_columns])\n",
    "\n",
    "# label encode target...\n",
    "le = LabelEncoder()\n",
    "df_train[target] = le.fit_transform(df_train[target])\n",
    "df_test[target] = le.fit_transform(df_test[target])\n",
    "df_val[target] = le.fit_transform(df_val[target])\n",
    "\n",
    "# ...and categorical features\n",
    "for feature in cat_columns:\n",
    "    # print(feature)\n",
    "    df_train[feature] = le.fit_transform(df_train[feature])\n",
    "    df_test[feature] = le.fit_transform(df_test[feature])\n",
    "    df_val[feature] = le.fit_transform(df_val[feature])\n",
    "\n",
    "\n",
    "#Wrapping in Dataset\n",
    "train_dataset = Combined_Dataset(df_train, cat_columns, cont_columns, target)\n",
    "val_dataset = Combined_Dataset(df_val, cat_columns, cont_columns, target)\n",
    "test_dataset = Combined_Dataset(df_test, cat_columns, cont_columns, target)\n",
    "\n",
    "#This is a hyperparameter that is not tuned. Maybe mess with what makes sense here\n",
    "#Also try looking to see what other papers have done\n",
    "batch_size = 256\n",
    "\n",
    "# Wrapping with DataLoader for easy batch extraction\n",
    "train_dataloader = DataLoader(train_dataset, batch_size=batch_size, shuffle=True)\n",
    "val_dataloader = DataLoader(val_dataset, batch_size=batch_size, shuffle=True)\n",
    "test_dataloader = DataLoader(test_dataset, batch_size=batch_size, shuffle=True)"
   ]
  },
  {
   "cell_type": "markdown",
   "metadata": {},
   "source": [
    "model for CAT"
   ]
  },
  {
   "cell_type": "code",
   "execution_count": 4,
   "metadata": {},
   "outputs": [],
   "source": [
    "import torch\n",
    "import torch.nn as nn\n",
    "import pandas as pd\n",
    "import numpy as np\n",
    "from torch.utils.data import Dataset, DataLoader\n",
    "    \n",
    "#All layers of the model\n",
    "class MultiHeadAttention(nn.Module):\n",
    "    def __init__(self, embed_size, heads):\n",
    "        super(MultiHeadAttention, self).__init__()\n",
    "\n",
    "        self.embed_size = embed_size\n",
    "        self.heads = heads\n",
    "        self.head_dim = embed_size // heads\n",
    "        assert(self.head_dim * heads == embed_size), \"Embed size needs to be div by heads\"\n",
    "        self.values = nn.Linear(self.head_dim, self.head_dim, bias=False)\n",
    "        self.keys =nn.Linear(self.head_dim, self.head_dim, bias=False)\n",
    "        self.queries = nn.Linear(self.head_dim, self.head_dim, bias=False)\n",
    "        self.fc_out = nn.Linear(heads*self.head_dim, embed_size)\n",
    "\n",
    "\n",
    "    def forward(self, values, keys, query):\n",
    "        N = query.shape[0]\n",
    "        value_len, key_len, query_len = values.shape[1], keys.shape[1], query.shape[1]\n",
    "\n",
    "        values = values.reshape(N, value_len, self.heads, self.head_dim)\n",
    "        keys = keys.reshape(N, key_len, self.heads, self.head_dim)\n",
    "        queries = query.reshape(N, query_len, self.heads, self.head_dim)\n",
    "\n",
    "        values = self.values(values)\n",
    "        keys = self.keys(keys)\n",
    "        queries = self.queries(queries)\n",
    "\n",
    "        energy = torch.einsum(\"nqhd,nkhd->nhqk\", [queries, keys])\n",
    "\n",
    "        attention_score = torch.softmax(energy / (self.embed_size ** (1/2)), dim=3) #(batch_size, head_dim, #query_embeddings, #key_embeddings)\n",
    "\n",
    "        # print('attention score shape: ', attention_score.shape)\n",
    "        # Calculate simplified attention scores\n",
    "        # avg_attention = attention.mean(dim=0)  # Average across batches\n",
    "        # print(\"batch average\", avg_attention.shape)\n",
    "        # avg_attention = avg_attention.mean(dim=0).squeeze(dim=0)\n",
    "        # print(\"head average\", avg_attention.shape)\n",
    "\n",
    "        out = torch.einsum(\"nhql,nlhd->nqhd\", [attention_score, values]).reshape(N, query_len, self.heads*self.head_dim) #(batch_size, n_features, embed_size)\n",
    "        out = self.fc_out(out)\n",
    "\n",
    "        return out, attention_score\n",
    "    \n",
    "class TransformerBlock(nn.Module):\n",
    "    def __init__(self, embed_size, heads, dropout, forward_expansion, pre_norm_on):\n",
    "        super(TransformerBlock, self).__init__()\n",
    "\n",
    "        self.pre_norm_on = pre_norm_on\n",
    "        if self.pre_norm_on:\n",
    "            self.pre_norm = nn.LayerNorm(embed_size)\n",
    "        self.attention = MultiHeadAttention(embed_size, heads)\n",
    "        self.norm1 = nn.LayerNorm(embed_size)\n",
    "        self.norm2 = nn.LayerNorm(embed_size)\n",
    "\n",
    "        self.feed_forward = nn.Sequential(nn.Linear(embed_size, forward_expansion*embed_size),\n",
    "                                          nn.ReLU(),\n",
    "                                          nn.Linear(forward_expansion*embed_size, embed_size)\n",
    "                                          )\n",
    "        self.dropout = nn.Dropout(dropout)\n",
    "\n",
    "    def forward(self,value,key,query):\n",
    "        if self.pre_norm_on:\n",
    "            query = self.pre_norm(query)\n",
    "            key = self.pre_norm(key)\n",
    "            value = self.pre_norm(value)\n",
    "            \n",
    "        attention, attention_score = self.attention(value, key, query)\n",
    "        x = self.dropout(self.norm1(attention + query))\n",
    "        forward = self.feed_forward(x)\n",
    "        out = self.dropout(self.norm2(forward + x))\n",
    "        return out, attention_score\n",
    "    \n",
    "class DecoderBlock(nn.Module):\n",
    "    def __init__(self, embed_size, heads, forward_expansion, dropout, pre_norm_on):\n",
    "        super(DecoderBlock, self).__init__()\n",
    "\n",
    "        self.attention = MultiHeadAttention(embed_size, heads)\n",
    "        self.norm = nn.LayerNorm(embed_size)\n",
    "        self.transformer_block = TransformerBlock(embed_size, heads, dropout, forward_expansion, pre_norm_on)\n",
    "        self.dropout = nn.Dropout(dropout)\n",
    "\n",
    "    def forward(self, x, value, key):\n",
    "        out, avg_attention = self.transformer_block(value, key, x)\n",
    "\n",
    "        return out, avg_attention\n",
    "\n",
    "class Decoder(nn.Module):\n",
    "    def __init__(self,\n",
    "                 embed_size,\n",
    "                 num_layers,\n",
    "                 heads,\n",
    "                 forward_expansion,\n",
    "                 decoder_dropout,\n",
    "                 pre_norm_on\n",
    "    ):\n",
    "        super(Decoder, self).__init__()\n",
    "\n",
    "        self.layers = nn.ModuleList(\n",
    "                [\n",
    "                    DecoderBlock(\n",
    "                        embed_size,\n",
    "                        heads,\n",
    "                        dropout=decoder_dropout,\n",
    "                        forward_expansion=forward_expansion,\n",
    "                        pre_norm_on=pre_norm_on\n",
    "                    )\n",
    "                    for _ in range(num_layers)\n",
    "                ]\n",
    "            )\n",
    "        self.attention_scores = None\n",
    "\n",
    "    def forward(self, class_embed, context):\n",
    "        attention_scores = []\n",
    "        for layer in self.layers:\n",
    "            # x is the classification embedding (CLS Token)\n",
    "            # context are the feature embeddings that will be used as key and value\n",
    "            x, attention = layer(class_embed, context, context)\n",
    "            attention_scores.append(attention)\n",
    "\n",
    "        # print('length: ', len(attention_scores))\n",
    "  \n",
    "        return x, torch.stack(attention_scores) \n",
    "\n",
    "class ExpFF(nn.Module):\n",
    "    def __init__(self, alpha, embed_size, n_cont, cat_feat, num_target_labels):\n",
    "        super(ExpFF, self).__init__()\n",
    "\n",
    "        self.alpha = alpha\n",
    "        self.embed_size = embed_size\n",
    "        self.n_cont = n_cont\n",
    "        self.cat_feat_on = False\n",
    "        if len(cat_feat)!=0:\n",
    "            self.cat_feat_on=True\n",
    "        else:\n",
    "            self.cat_feat_on = False\n",
    "\n",
    "        coefficients = self.alpha ** (torch.arange(self.embed_size//2) / self.embed_size//2) #Each feature shares the same set of scaling factors\n",
    "        coefficients = coefficients.unsqueeze(0)\n",
    "\n",
    "        self.register_buffer('embedding_coefficients', coefficients)\n",
    "\n",
    "        self.lin_embed = nn.ModuleList([nn.Linear(in_features=self.embed_size, out_features=self.embed_size) for _ in range(n_cont)]) # each feature gets its own linear layer\n",
    "\n",
    "        if self.cat_feat_on:\n",
    "            self.cat_embeddings = nn.ModuleList([nn.Embedding(num_classes, embed_size) for num_classes in cat_feat])\n",
    "            \n",
    "        #CLS Token\n",
    "        self.target_label_embed = nn.ModuleList([nn.Embedding(1, self.embed_size) for _ in range(num_target_labels)])\n",
    "\n",
    "    def forward(self, x_cat, x_cont):\n",
    "        x = x_cont.unsqueeze(2) #(batch_size, n_features) -> (batch_size, n_features, 1)\n",
    "\n",
    "        temp = []\n",
    "        for i in range(self.n_cont):\n",
    "            input = x[:,i,:]\n",
    "            # print('x: ', x.shape)\n",
    "            #(1,80)x(256,1)\n",
    "            out = torch.cat([torch.cos(2* torch.pi * self.embedding_coefficients * input), torch.sin(2 * torch.pi * self.embedding_coefficients * input)], dim=-1)\n",
    "            temp.append(out)\n",
    "        \n",
    "        embeddings = []\n",
    "        x = torch.stack(temp, dim=1)\n",
    "        for i, e in enumerate(self.lin_embed):\n",
    "            goin_in = x[:,i,:]\n",
    "            goin_out = e(goin_in)\n",
    "            embeddings.append(goin_out)\n",
    "\n",
    "        if self.cat_feat_on:\n",
    "            cat_x = x_cat.unsqueeze(2)\n",
    "            for i, e in enumerate(self.cat_embeddings):\n",
    "                goin_in = cat_x[:,i,:]\n",
    "                goin_out = e(goin_in)\n",
    "                goin_out=goin_out.squeeze(1)\n",
    "                embeddings.append(goin_out)\n",
    "\n",
    "        target_label_embeddings_ = []\n",
    "        for e in self.target_label_embed:\n",
    "            input = torch.tensor([0], device=x.device)\n",
    "            temp = e(input)\n",
    "            temp = temp.repeat(x.size(0), 1)\n",
    "            target_label_embeddings_.append(temp)\n",
    "\n",
    "        class_embeddings = torch.stack(target_label_embeddings_, dim=1)\n",
    "\n",
    "        context = torch.stack(embeddings, dim=1)\n",
    "\n",
    "        return class_embeddings, context\n",
    "\n",
    "class ClassificationHead(nn.Module):\n",
    "    def __init__(self, embed_size, dropout, mlp_scale_classification, num_target_classes):\n",
    "        super(ClassificationHead, self).__init__()\n",
    "        \n",
    "        #flattening the embeddings out so each sample in batch is represented with a 460 dimensional vector\n",
    "        self.input = embed_size\n",
    "        self.lin1 = nn.Linear(self.input, mlp_scale_classification*self.input)\n",
    "        self.drop = nn.Dropout(dropout)\n",
    "        self.lin2 = nn.Linear(mlp_scale_classification*self.input, mlp_scale_classification*self.input)\n",
    "        self.lin3 = nn.Linear(mlp_scale_classification*self.input, self.input)\n",
    "        self.lin4 = nn.Linear(self.input, num_target_classes)\n",
    "        self.relu = nn.ReLU()\n",
    "        self.initialize_weights()\n",
    "\n",
    "    def initialize_weights(self): #he_initialization.\n",
    "        torch.nn.init.kaiming_normal_(self.lin1.weight, nonlinearity='relu')\n",
    "        torch.nn.init.zeros_(self.lin1.bias)\n",
    "\n",
    "        torch.nn.init.kaiming_normal_(self.lin3.weight, nonlinearity='relu')\n",
    "        torch.nn.init.zeros_(self.lin3.bias)\n",
    "\n",
    "    def forward(self, x):\n",
    "\n",
    "        x= torch.reshape(x, (-1, self.input))\n",
    "\n",
    "        x = self.lin1(x)\n",
    "        x = self.relu(x)\n",
    "        x = self.drop(x)\n",
    "        x = self.lin2(x)\n",
    "        x = self.relu(x)\n",
    "        x = self.drop(x)\n",
    "        x = self.lin3(x)\n",
    "        x = self.relu(x)\n",
    "        x = self.drop(x)\n",
    "        x = self.lin4(x)\n",
    "  \n",
    "        return x\n",
    "\n",
    "class RegressionHead(nn.Module):\n",
    "    def __init__(self, embed_size, dropout, mlp_scale_classification):\n",
    "        super(RegressionHead, self).__init__()\n",
    "        \n",
    "        #flattening the embeddings out so each sample in batch is represented with a 460 dimensional vector\n",
    "        self.input = embed_size\n",
    "        self.lin1 = nn.Linear(self.input, mlp_scale_classification*self.input)\n",
    "        self.drop = nn.Dropout(dropout)\n",
    "        self.lin2 = nn.Linear(mlp_scale_classification*self.input, mlp_scale_classification*self.input)\n",
    "        self.lin3 = nn.Linear(mlp_scale_classification*self.input, self.input)\n",
    "        self.lin4 = nn.Linear(self.input, 1)\n",
    "        self.relu = nn.ReLU()\n",
    "        self.initialize_weights()\n",
    "\n",
    "    def initialize_weights(self): #he_initialization.\n",
    "        torch.nn.init.kaiming_normal_(self.lin1.weight, nonlinearity='relu')\n",
    "        torch.nn.init.zeros_(self.lin1.bias)\n",
    "\n",
    "        torch.nn.init.kaiming_normal_(self.lin3.weight, nonlinearity='relu')\n",
    "        torch.nn.init.zeros_(self.lin3.bias)\n",
    "\n",
    "    def forward(self, x):\n",
    "\n",
    "        x= torch.reshape(x, (-1, self.input))\n",
    "\n",
    "        x = self.lin1(x)\n",
    "        x = self.relu(x)\n",
    "        x = self.drop(x)\n",
    "        x = self.lin2(x)\n",
    "        x = self.relu(x)\n",
    "        x = self.drop(x)\n",
    "        x = self.lin3(x)\n",
    "        x = self.relu(x)\n",
    "        x = self.drop(x)\n",
    "        x = self.lin4(x)\n",
    "  \n",
    "        return x\n",
    "\n",
    "class CATTransformer(nn.Module):\n",
    "    def __init__(self, \n",
    "                 alpha=0.5, # Used to initialize the coefficients for the Exponential FF \n",
    "                 embed_size=160,\n",
    "                 n_cont = 0,\n",
    "                 cat_feat:list = [], # ex: [10,4] - 10 categories in the first column, 4 categories in the second column\n",
    "                 num_layers=1, #Transformer layers\n",
    "                 heads=5, \n",
    "                 forward_expansion=8, # Determines how wide the Linear Layers are the encoder. Its a scaling factor. \n",
    "                 decoder_dropout=0.1,\n",
    "                 classification_dropout = 0.1,\n",
    "                 pre_norm_on = False,\n",
    "                 mlp_scale_classification = 8, #Scaling factor for linear layers in head\n",
    "                 regression_on = False,\n",
    "                 targets_classes : list=  [3]\n",
    "                 ):\n",
    "        super(CATTransformer, self).__init__()\n",
    "\n",
    "        self.regression_on = regression_on\n",
    "\n",
    "        self.embeddings = ExpFF(alpha=alpha, embed_size=embed_size, n_cont=n_cont, cat_feat=cat_feat,\n",
    "                                num_target_labels=len(targets_classes))\n",
    "        self.decoder = Decoder(embed_size=embed_size, num_layers=num_layers, heads=heads, forward_expansion=forward_expansion, \n",
    "                               decoder_dropout=decoder_dropout, pre_norm_on=pre_norm_on)\n",
    "        if not regression_on:\n",
    "            self.out_head = ClassificationHead(embed_size=embed_size, dropout=classification_dropout, \n",
    "                                                                   mlp_scale_classification=mlp_scale_classification, \n",
    "                                                                   num_target_classes=targets_classes[0])\n",
    "        else:\n",
    "            self.out_head = RegressionHead(embed_size=embed_size, dropout=classification_dropout, mlp_scale_classification=mlp_scale_classification)\n",
    "\n",
    "    def forward(self, cat_x, cont_x):\n",
    "        class_embed, context = self.embeddings(cat_x, cont_x)\n",
    "\n",
    "        x, avg_attention = self.decoder(class_embed, context)\n",
    "        \n",
    "        # for i, e in enumerate(self.heads):\n",
    "        #     input = x[:, i,:]\n",
    "        #     output = e(input)\n",
    "           \n",
    "        output = self.out_head(x)\n",
    "\n",
    "        return output, avg_attention\n",
    "\n",
    "\n"
   ]
  },
  {
   "cell_type": "markdown",
   "metadata": {},
   "source": [
    "## FT Training"
   ]
  },
  {
   "cell_type": "markdown",
   "metadata": {},
   "source": [
    "ft train loops"
   ]
  },
  {
   "cell_type": "code",
   "execution_count": 5,
   "metadata": {},
   "outputs": [],
   "source": [
    "# each task loss is scaled by its own learnable parameter, then regularization is applied \n",
    "class LossFunctions(nn.Module):\n",
    "    def __init__(self, num_tasks):\n",
    "        super(LossFunctions, self).__init__()\n",
    "        self.num_tasks = num_tasks\n",
    "\n",
    "        self.loss_fns = [nn.CrossEntropyLoss() for x in range(num_tasks)] \n",
    "\n",
    "    def forward(self, predictions, labels_task1):\n",
    "\n",
    "        #task 1\n",
    "        target = labels_task1.long()\n",
    "        prediction = predictions\n",
    "        loss_fn = self.loss_fns[0]\n",
    "        task_loss = loss_fn(prediction, target)\n",
    "        \n",
    "        return task_loss\n",
    "    \n",
    "def train(regression_on, dataloader, model, loss_function, optimizer, device_in_use):\n",
    "    model.train()\n",
    "\n",
    "    total_loss=0\n",
    "    total_correct_1 = 0\n",
    "    total_samples_1 = 0\n",
    "    all_targets_1 = []\n",
    "    all_predictions_1 = []\n",
    "\n",
    "    attention_ovr_batch = []\n",
    "\n",
    "    total_rmse = 0\n",
    "\n",
    "    if not regression_on:\n",
    "        for (cat_x, cont_x, labels) in dataloader:\n",
    "            cat_x,cont_x,labels=cat_x.to(device_in_use),cont_x.to(device_in_use),labels.to(device_in_use)\n",
    "\n",
    "            predictions, attn = model(cat_x, cont_x, return_attn =True)\n",
    "            attention_ovr_batch.append(attn)\n",
    "            \n",
    "            loss = loss_function(predictions, labels.long())\n",
    "            total_loss+=loss.item()\n",
    "\n",
    "            #computing accuracy\n",
    "            y_pred_softmax_1 = torch.softmax(predictions, dim=1)\n",
    "            _, y_pred_labels_1 = torch.max(y_pred_softmax_1, dim=1)\n",
    "            total_correct_1 += (y_pred_labels_1 == labels).sum().item()\n",
    "            total_samples_1 += labels.size(0)\n",
    "            all_targets_1.extend(labels.cpu().numpy())\n",
    "            all_predictions_1.extend(y_pred_labels_1.cpu().numpy())\n",
    "\n",
    "            \n",
    "\n",
    "            loss.backward()\n",
    "            optimizer.step()\n",
    "            optimizer.zero_grad()\n",
    "\n",
    "        avg_loss = total_loss/len(dataloader)\n",
    "        accuracy = total_correct_1 / total_samples_1\n",
    "\n",
    "        return avg_loss, accuracy, attention_ovr_batch\n",
    "    \n",
    "    else:\n",
    "        for (cat_x, cont_x, labels) in dataloader:\n",
    "            cat_x,cont_x,labels=cat_x.to(device_in_use),cont_x.to(device_in_use),labels.to(device_in_use)\n",
    "\n",
    "            predictions, attn = model(cat_x, cont_x, return_attn =True)\n",
    "            attention_ovr_batch.append(attn)\n",
    "\n",
    "            loss = loss_function(predictions, labels.unsqueeze(1))\n",
    "            total_loss+=loss.item()\n",
    "\n",
    "            rmse_value = rmse(labels.unsqueeze(1), predictions)\n",
    "            total_rmse+=rmse_value\n",
    "\n",
    "            loss.backward()\n",
    "            optimizer.step()\n",
    "            optimizer.zero_grad()\n",
    "\n",
    "        avg_loss = total_loss/len(dataloader)\n",
    "        avg_rmse = total_rmse/len(dataloader)\n",
    "\n",
    "        return avg_loss, avg_rmse, attention_ovr_batch\n",
    "\n",
    "def test(regression_on, dataloader, model, loss_function, device_in_use):\n",
    "    model.eval()\n",
    "\n",
    "    total_loss=0\n",
    "    total_correct_1 = 0\n",
    "    total_samples_1 = 0\n",
    "    all_targets_1 = []\n",
    "    all_predictions_1 = []\n",
    "\n",
    "    attention_ovr_batch = []\n",
    "\n",
    "    total_rmse = 0\n",
    "\n",
    "    if not regression_on:\n",
    "        with torch.no_grad():\n",
    "            for (cat_x, cont_x, labels) in dataloader:\n",
    "                cat_x,cont_x,labels=cat_x.to(device_in_use),cont_x.to(device_in_use),labels.to(device_in_use)\n",
    "\n",
    "                predictions, attn = model(cat_x, cont_x, return_attn =True)\n",
    "                attention_ovr_batch.append(attn)\n",
    "\n",
    "                loss = loss_function(predictions, labels.long())\n",
    "                \n",
    "                total_loss+=loss.item()\n",
    "\n",
    "                #computing accuracy\n",
    "                y_pred_softmax_1 = torch.softmax(predictions, dim=1)\n",
    "                _, y_pred_labels_1 = torch.max(y_pred_softmax_1, dim=1)\n",
    "                total_correct_1 += (y_pred_labels_1 == labels).sum().item()\n",
    "                total_samples_1 += labels.size(0)\n",
    "                all_targets_1.extend(labels.cpu().numpy())\n",
    "                all_predictions_1.extend(y_pred_labels_1.cpu().numpy())\n",
    "\n",
    "\n",
    "            avg_loss = total_loss/len(dataloader)\n",
    "            accuracy = total_correct_1 / total_samples_1\n",
    "\n",
    "\n",
    "            return avg_loss, accuracy, attention_ovr_batch\n",
    "    \n",
    "    else:\n",
    "        with torch.no_grad():\n",
    "            for (cat_x, cont_x, labels) in dataloader:\n",
    "                cat_x,cont_x,labels=cat_x.to(device_in_use),cont_x.to(device_in_use),labels.to(device_in_use)\n",
    "\n",
    "                predictions, attn = model(cat_x, cont_x, return_attn =True)\n",
    "                attention_ovr_batch.append(attn)\n",
    "\n",
    "                loss = loss_function(predictions, labels.unsqueeze(1))\n",
    "                total_loss+=loss.item()\n",
    "\n",
    "                rmse_value = rmse(labels.unsqueeze(1), predictions)\n",
    "                total_rmse+=rmse_value\n",
    "\n",
    "               \n",
    "\n",
    "            avg_loss = total_loss/len(dataloader)\n",
    "            avg_rmse = total_rmse/len(dataloader)\n",
    "\n",
    "            return avg_loss, avg_rmse, attention_ovr_batch"
   ]
  },
  {
   "cell_type": "markdown",
   "metadata": {},
   "source": [
    "training"
   ]
  },
  {
   "cell_type": "code",
   "execution_count": 6,
   "metadata": {},
   "outputs": [
    {
     "name": "stdout",
     "output_type": "stream",
     "text": [
      "Epoch [ 1/1]         | Train: Loss 0.6203836847415201, Accuracy 0.6441996678031296      \n"
     ]
    },
    {
     "data": {
      "text/plain": [
       "<matplotlib.legend.Legend at 0x20090a24f70>"
      ]
     },
     "execution_count": 6,
     "metadata": {},
     "output_type": "execute_result"
    },
    {
     "data": {
      "image/png": "[encoded data removed]",
      "text/plain": [
       "<Figure size 1500x500 with 1 Axes>"
      ]
     },
     "metadata": {},
     "output_type": "display_data"
    }
   ],
   "source": [
    "#Testing against the test dataset\n",
    "regression_on = False\n",
    "\n",
    "model = FTTransformer(categories=tuple(unique_classes_per_column),\n",
    "                          num_continuous=len(cont_columns),\n",
    "                          dim=192,\n",
    "                          depth=3,\n",
    "                          heads=8,\n",
    "                          dim_out=target_classes[0],\n",
    "                          attn_dropout=0.2,\n",
    "                          ff_dropout=0.1).to(device_in_use)\n",
    "loss_functions = nn.CrossEntropyLoss()\n",
    "optimizer = torch.optim.AdamW(params=model.parameters(), lr = 0.0001, weight_decay=0.00001)\n",
    "epochs = 1\n",
    "\n",
    "train_losses = []\n",
    "train_accuracies_1 = [] \n",
    "\n",
    "test_losses = []\n",
    "test_accuracies_1 = []\n",
    "  \n",
    "test_f1_scores = [] \n",
    "all_attention_scores = []\n",
    "\n",
    "train_attentions_ft = []\n",
    "test_attentions_ft = []\n",
    "\n",
    "#Time will be recorded for all 100 epochs - This means the results will not be comparable to Xgboost but that is ok, we will only compare between transformer models who will also train for 100 epochs\n",
    "start_time = time.process_time()\n",
    "\n",
    "for t in range(epochs):\n",
    "    train_loss, train_acc, attention_train = train(regression_on=False, \n",
    "                                   dataloader=train_dataloader, \n",
    "                                   model=model, \n",
    "                                   loss_function=loss_functions, \n",
    "                                   optimizer=optimizer, \n",
    "                                   device_in_use=device_in_use)\n",
    "    train_attentions_ft.append(attention_train)\n",
    "\n",
    "    test_loss, test_acc, attention_test = test(regression_on=False, dataloader=test_dataloader, model=model, loss_function=loss_functions, device_in_use=device_in_use)\n",
    "    test_attentions_ft.append(attention_test)\n",
    "\n",
    "    train_losses.append(train_loss)\n",
    "    train_accuracies_1.append(train_acc)\n",
    "\n",
    "    test_losses.append(test_loss)\n",
    "    test_accuracies_1.append(test_acc)\n",
    "\n",
    "    epoch_str = f\"Epoch [{t+1:2}/{epochs}]\"\n",
    "    train_metrics = f\"Train: Loss {(train_loss)}, Accuracy {(train_acc)}\"\n",
    "    print(f\"{epoch_str:20} | {train_metrics:65}\")\n",
    "\n",
    "total_time = time.process_time() - start_time\n",
    "\n",
    "# Plotting the loss curves\n",
    "plt.figure(figsize=(15, 5))\n",
    "plt.subplot(1, 2, 1)\n",
    "plt.plot(range(1, epochs+1), train_losses, label='Train Loss')\n",
    "plt.plot(range(1, epochs+1), [l for l in test_losses], label='Test Loss')\n",
    "plt.xlabel('Epoch')\n",
    "plt.ylabel('Loss')\n",
    "plt.title('Training and Test Loss Curve')\n",
    "plt.legend()"
   ]
  },
  {
   "cell_type": "markdown",
   "metadata": {},
   "source": [
    "## CAT Training"
   ]
  },
  {
   "cell_type": "markdown",
   "metadata": {},
   "source": [
    "cat train loops"
   ]
  },
  {
   "cell_type": "code",
   "execution_count": 7,
   "metadata": {},
   "outputs": [],
   "source": [
    "def rmse(y_true, y_pred):\n",
    "    # Calculate the squared differences\n",
    "    squared_diff = (y_true - y_pred)**2\n",
    "\n",
    "    # Calculate the mean of the squared differences\n",
    "    mean_squared_diff = torch.mean(squared_diff)\n",
    "\n",
    "    # Calculate the square root to obtain RMSE\n",
    "    rmse = torch.sqrt(mean_squared_diff)\n",
    "\n",
    "    return rmse.item()  # Convert to a Python float\n",
    "\n",
    "#Training and Testing Loops for Different Cases\n",
    "def train(regression_on, dataloader, model, loss_function, optimizer, device_in_use):\n",
    "    model.train()\n",
    "\n",
    "    total_loss=0\n",
    "    total_correct_1 = 0\n",
    "    total_samples_1 = 0\n",
    "    all_targets_1 = []\n",
    "    all_predictions_1 = []\n",
    "\n",
    "    total_rmse = 0\n",
    "\n",
    "    attention_ovr_batch = []\n",
    "\n",
    "    if not regression_on:\n",
    "        for (cat_x, cont_x, labels) in dataloader:\n",
    "            cat_x,cont_x,labels=cat_x.to(device_in_use),cont_x.to(device_in_use),labels.to(device_in_use)\n",
    "            # print(cont_x.shape)\n",
    "\n",
    "            predictions, attention = model(cat_x, cont_x)\n",
    "            attention_ovr_batch.append(attention)\n",
    "\n",
    "            loss = loss_function(predictions, labels.long())\n",
    "            total_loss+=loss.item()\n",
    "\n",
    "            #computing accuracy\n",
    "            y_pred_softmax_1 = torch.softmax(predictions, dim=1)\n",
    "            _, y_pred_labels_1 = torch.max(y_pred_softmax_1, dim=1)\n",
    "            total_correct_1 += (y_pred_labels_1 == labels).sum().item()\n",
    "            total_samples_1 += labels.size(0)\n",
    "            all_targets_1.extend(labels.cpu().numpy())\n",
    "            all_predictions_1.extend(y_pred_labels_1.cpu().numpy())\n",
    "\n",
    "            loss.backward()\n",
    "            optimizer.step()\n",
    "            optimizer.zero_grad()\n",
    "\n",
    "        avg_loss = total_loss/len(dataloader)\n",
    "        accuracy = total_correct_1 / total_samples_1\n",
    "\n",
    "        return avg_loss, accuracy, attention_ovr_batch\n",
    "    \n",
    "    else:\n",
    "        for (cat_x, cont_x, labels) in dataloader:\n",
    "            cat_x,cont_x,labels=cat_x.to(device_in_use),cont_x.to(device_in_use),labels.to(device_in_use)\n",
    "\n",
    "            predictions, attention = model(cat_x, cont_x)\n",
    "            attention_ovr_batch.append(attention)\n",
    "\n",
    "            loss = loss_function(predictions, labels.unsqueeze(1))\n",
    "            total_loss+=loss.item()\n",
    "\n",
    "            rmse_value = rmse(labels.unsqueeze(1), predictions)\n",
    "            total_rmse+=rmse_value\n",
    "\n",
    "            loss.backward()\n",
    "            optimizer.step()\n",
    "            optimizer.zero_grad()\n",
    "\n",
    "        avg_loss = total_loss/len(dataloader)\n",
    "        avg_rmse = total_rmse/len(dataloader)\n",
    "\n",
    "        return avg_loss, avg_rmse, attention_ovr_batch\n",
    "\n",
    "def test(regression_on, dataloader, model, loss_function, device_in_use):\n",
    "    model.eval()\n",
    "\n",
    "    total_loss=0\n",
    "    total_correct_1 = 0\n",
    "    total_samples_1 = 0\n",
    "    all_targets_1 = []\n",
    "    all_predictions_1 = []\n",
    "\n",
    "    total_rmse = 0\n",
    "\n",
    "    attention_ovr_batch = []\n",
    "\n",
    "    if not regression_on:\n",
    "        with torch.no_grad():\n",
    "            for (cat_x, cont_x, labels) in dataloader:\n",
    "                cat_x,cont_x,labels=cat_x.to(device_in_use),cont_x.to(device_in_use),labels.to(device_in_use)\n",
    "                # print(cont_x.shape)\n",
    "\n",
    "                predictions, attention = model(cat_x, cont_x)\n",
    "                attention_ovr_batch.append(attention)\n",
    "\n",
    "                loss = loss_function(predictions, labels.long())\n",
    "                total_loss+=loss.item()\n",
    "\n",
    "                #computing accuracy\n",
    "                y_pred_softmax_1 = torch.softmax(predictions, dim=1)\n",
    "                _, y_pred_labels_1 = torch.max(y_pred_softmax_1, dim=1)\n",
    "                total_correct_1 += (y_pred_labels_1 == labels).sum().item()\n",
    "                total_samples_1 += labels.size(0)\n",
    "                all_targets_1.extend(labels.cpu().numpy())\n",
    "                all_predictions_1.extend(y_pred_labels_1.cpu().numpy())\n",
    "\n",
    "            avg_loss = total_loss/len(dataloader)\n",
    "            accuracy = total_correct_1 / total_samples_1\n",
    "\n",
    "            return avg_loss, accuracy, attention_ovr_batch\n",
    "    \n",
    "    else:\n",
    "        with torch.no_grad():\n",
    "            for (cat_x, cont_x, labels) in dataloader:\n",
    "                cat_x,cont_x,labels=cat_x.to(device_in_use),cont_x.to(device_in_use),labels.to(device_in_use)\n",
    "\n",
    "                predictions, attention = model(cat_x, cont_x)\n",
    "                attention_ovr_batch.append(attention)\n",
    "\n",
    "                loss = loss_function(predictions, labels.unsqueeze(1))\n",
    "                total_loss+=loss.item()\n",
    "\n",
    "                rmse_value = rmse(labels.unsqueeze(1), predictions)\n",
    "                total_rmse+=rmse_value\n",
    "\n",
    "            avg_loss = total_loss/len(dataloader)\n",
    "            avg_rmse = total_rmse/len(dataloader)\n",
    "\n",
    "            return avg_loss, avg_rmse, attention_ovr_batch\n",
    "        \n",
    "# helpers \n",
    "\n",
    "def categorize_columns(dataframe, target):\n",
    "    categorical_columns = []\n",
    "    continuous_columns = []\n",
    "    unique_classes_per_column = []  # To hold the number of unique classes for each categorical column\n",
    "\n",
    "    for column in dataframe.columns:\n",
    "        if dataframe[column].dtype == 'object' or len(dataframe[column].unique()) <= 10:\n",
    "            # If the column's data type is 'object' or it has 10 or fewer unique values, consider it categorical.\n",
    "            if column != target:\n",
    "                categorical_columns.append(column)\n",
    "                unique_classes_per_column.append(dataframe[column].nunique())  # Store the number of unique classes\n",
    "        else:\n",
    "            # Otherwise, consider it continuous.\n",
    "            continuous_columns.append(column)\n",
    "\n",
    "    return categorical_columns, continuous_columns, unique_classes_per_column\n"
   ]
  },
  {
   "cell_type": "markdown",
   "metadata": {},
   "source": [
    "cat training"
   ]
  },
  {
   "cell_type": "code",
   "execution_count": 8,
   "metadata": {},
   "outputs": [
    {
     "name": "stdout",
     "output_type": "stream",
     "text": [
      "Epoch [ 1/2]         | Train: Loss 0.6849171410705963, Accuracy 0.5446571670017776      \n",
      "Epoch [ 2/2]         | Train: Loss 0.6693505704624502, Accuracy 0.5804994609085876      \n"
     ]
    },
    {
     "data": {
      "text/plain": [
       "<matplotlib.legend.Legend at 0x200e3ec1580>"
      ]
     },
     "execution_count": 8,
     "metadata": {},
     "output_type": "execute_result"
    },
    {
     "data": {
      "image/png": "[encoded data removed]",
      "text/plain": [
       "<Figure size 1500x500 with 1 Axes>"
      ]
     },
     "metadata": {},
     "output_type": "display_data"
    }
   ],
   "source": [
    "regression_on = False\n",
    "\n",
    "model = CATTransformer(alpha = 0.5,\n",
    "                       embed_size=160,\n",
    "                       n_cont=len(cont_columns),\n",
    "                       num_layers=3,\n",
    "                       cat_feat=unique_classes_per_column,\n",
    "                       targets_classes=target_classes,\n",
    "                       regression_on=regression_on\n",
    "                       ).to(device_in_use)\n",
    "\n",
    "loss_function = nn.CrossEntropyLoss()\n",
    "optimizer = torch.optim.Adam(params=model.parameters(), lr = 0.0001) # Maybe try messing around with optimizers. try other torch optimizers with different configurations.\n",
    "epochs = 2 #Set the number of epochs\n",
    "\n",
    "train_losses = []\n",
    "train_accuracies_1 = [] \n",
    "test_losses = []\n",
    "test_accuracies_1 = [] \n",
    "test_f1_scores = [] \n",
    "\n",
    "train_attentions_cat = []\n",
    "test_attentions_cat = []\n",
    "\n",
    "#Time will be recorded for all 100 epochs - This means the results will not be comparable to Xgboost but that is ok, we will only compare between transformer models who will also train for 100 epochs\n",
    "start_time = time.process_time()\n",
    "\n",
    "for t in range(epochs):\n",
    "    train_loss, train_acc, attention_train = train(regression_on=False, \n",
    "                                   dataloader=train_dataloader, \n",
    "                                   model=model, \n",
    "                                   loss_function=loss_function, \n",
    "                                   optimizer=optimizer, \n",
    "                                   device_in_use=device_in_use)\n",
    "    train_attentions_cat.append(attention_train)\n",
    "\n",
    "    test_loss, test_acc, attention_test = test(regression_on=False, dataloader=test_dataloader, model=model, loss_function=loss_function, device_in_use=device_in_use)\n",
    "    test_attentions_cat.append(attention_test)\n",
    "\n",
    "    train_losses.append(train_loss)\n",
    "    train_accuracies_1.append(train_acc)\n",
    "\n",
    "    test_losses.append(test_loss)\n",
    "    test_accuracies_1.append(test_acc)\n",
    "\n",
    "    epoch_str = f\"Epoch [{t+1:2}/{epochs}]\"\n",
    "    train_metrics = f\"Train: Loss {(train_loss)}, Accuracy {(train_acc)}\"\n",
    "    print(f\"{epoch_str:20} | {train_metrics:65}\")\n",
    "\n",
    "total_time = time.process_time() - start_time\n",
    "\n",
    "# Plotting the loss curves\n",
    "plt.figure(figsize=(15, 5))\n",
    "plt.subplot(1, 2, 1)\n",
    "plt.plot(range(1, epochs+1), train_losses, label='Train Loss')\n",
    "plt.plot(range(1, epochs+1), [l for l in test_losses], label='Test Loss')\n",
    "plt.xlabel('Epoch')\n",
    "plt.ylabel('Loss')\n",
    "plt.title('Training and Test Loss Curve')\n",
    "plt.legend()"
   ]
  },
  {
   "cell_type": "markdown",
   "metadata": {},
   "source": [
    "# Attention Eval"
   ]
  },
  {
   "cell_type": "code",
   "execution_count": 10,
   "metadata": {},
   "outputs": [
    {
     "name": "stdout",
     "output_type": "stream",
     "text": [
      "FT:  1\n",
      "CAT:  2\n"
     ]
    }
   ],
   "source": [
    "print('FT: ', len(test_attentions_ft))\n",
    "print('CAT: ' , len(test_attentions_cat))"
   ]
  },
  {
   "cell_type": "code",
   "execution_count": 11,
   "metadata": {},
   "outputs": [
    {
     "data": {
      "text/plain": [
       "torch.Size([3, 256, 8, 29, 29])"
      ]
     },
     "execution_count": 11,
     "metadata": {},
     "output_type": "execute_result"
    }
   ],
   "source": [
    "test_attentions_ft[0][0].shape"
   ]
  },
  {
   "cell_type": "code",
   "execution_count": 17,
   "metadata": {},
   "outputs": [
    {
     "data": {
      "text/plain": [
       "tensor([0.0241, 0.0349, 0.0392, 0.0340, 0.0324, 0.0396, 0.0272, 0.0183, 0.0289,\n",
       "        0.0399, 0.0363, 0.0382, 0.0418, 0.0346, 0.0241, 0.0442, 0.0258, 0.0445,\n",
       "        0.0422, 0.0410, 0.0300, 0.0322, 0.0338, 0.0415, 0.0406, 0.0332, 0.0415,\n",
       "        0.0275, 0.0285])"
      ]
     },
     "execution_count": 17,
     "metadata": {},
     "output_type": "execute_result"
    }
   ],
   "source": [
    "test_attentions_ft[0][0][0, 0, 0, 28, :]"
   ]
  },
  {
   "cell_type": "code",
   "execution_count": 12,
   "metadata": {},
   "outputs": [
    {
     "data": {
      "text/plain": [
       "torch.Size([3, 256, 5, 1, 28])"
      ]
     },
     "execution_count": 12,
     "metadata": {},
     "output_type": "execute_result"
    }
   ],
   "source": [
    "test_attentions_cat[0][0].shape"
   ]
  },
  {
   "cell_type": "code",
   "execution_count": 13,
   "metadata": {},
   "outputs": [
    {
     "data": {
      "text/plain": [
       "tensor([[0.0371, 0.0357, 0.0399, 0.0342, 0.0337, 0.0346, 0.0347, 0.0380, 0.0358,\n",
       "         0.0352, 0.0366, 0.0336, 0.0380, 0.0384, 0.0354, 0.0365, 0.0320, 0.0341,\n",
       "         0.0360, 0.0336, 0.0307, 0.0353, 0.0371, 0.0389, 0.0345, 0.0379, 0.0407,\n",
       "         0.0318]])"
      ]
     },
     "execution_count": 13,
     "metadata": {},
     "output_type": "execute_result"
    }
   ],
   "source": [
    "test_attentions_cat[0][0][0, 0, 0, :, :]"
   ]
  },
  {
   "cell_type": "code",
   "execution_count": 15,
   "metadata": {},
   "outputs": [
    {
     "data": {
      "text/plain": [
       "tensor([[0.0339, 0.0349, 0.0386, 0.0367, 0.0325, 0.0358, 0.0367, 0.0366, 0.0353,\n",
       "         0.0343, 0.0358, 0.0351, 0.0385, 0.0350, 0.0366, 0.0363, 0.0358, 0.0357,\n",
       "         0.0340, 0.0358, 0.0416, 0.0371, 0.0367, 0.0354, 0.0336, 0.0310, 0.0398,\n",
       "         0.0311]])"
      ]
     },
     "execution_count": 15,
     "metadata": {},
     "output_type": "execute_result"
    }
   ],
   "source": [
    "test_attentions_cat[0][5][0, 0, 0, :, :]"
   ]
  },
  {
   "cell_type": "code",
   "execution_count": 19,
   "metadata": {},
   "outputs": [
    {
     "data": {
      "text/plain": [
       "tensor([0.0325, 0.0303, 0.0376, 0.0426, 0.0400, 0.0356, 0.0298, 0.0251, 0.0369,\n",
       "        0.0300, 0.0428, 0.0273, 0.0268, 0.0237, 0.0307, 0.0285, 0.0390, 0.0325,\n",
       "        0.0415, 0.0383, 0.0420, 0.0363, 0.0315, 0.0346, 0.0355, 0.0387, 0.0529,\n",
       "        0.0270, 0.0301])"
      ]
     },
     "execution_count": 19,
     "metadata": {},
     "output_type": "execute_result"
    }
   ],
   "source": [
    "test_attentions_ft[0][5][0, 0, 0, 28, :]"
   ]
  },
  {
   "cell_type": "code",
   "execution_count": 20,
   "metadata": {},
   "outputs": [
    {
     "data": {
      "text/plain": [
       "tensor([0.1126, 0.0326, 0.0312, 0.0303, 0.0427, 0.0220, 0.0339, 0.0366, 0.0171,\n",
       "        0.0411, 0.0318, 0.0313, 0.0380, 0.0283, 0.0296, 0.0271, 0.0449, 0.0389,\n",
       "        0.0275, 0.0252, 0.0449, 0.0461, 0.0160, 0.0244, 0.0374, 0.0377, 0.0552,\n",
       "        0.0319, 0.0301])"
      ]
     },
     "execution_count": 20,
     "metadata": {},
     "output_type": "execute_result"
    }
   ],
   "source": [
    "test_attentions_ft[0][5][0, 0, 0, :, 28]"
   ]
  },
  {
   "cell_type": "code",
   "execution_count": 30,
   "metadata": {},
   "outputs": [
    {
     "data": {
      "text/plain": [
       "torch.Size([1, 28])"
      ]
     },
     "execution_count": 30,
     "metadata": {},
     "output_type": "execute_result"
    }
   ],
   "source": [
    "test_attentions_cat[0][50][0, 0, 0, :, :]"
   ]
  },
  {
   "cell_type": "code",
   "execution_count": 31,
   "metadata": {},
   "outputs": [
    {
     "data": {
      "text/plain": [
       "torch.Size([29])"
      ]
     },
     "execution_count": 31,
     "metadata": {},
     "output_type": "execute_result"
    }
   ],
   "source": [
    "test_attentions_ft[0][50][0, 0, 0, 28, :]"
   ]
  },
  {
   "cell_type": "code",
   "execution_count": 26,
   "metadata": {},
   "outputs": [],
   "source": [
    "tensor = train_attentions_cat[0][50][0, 0, 0, :, :]"
   ]
  },
  {
   "cell_type": "code",
   "execution_count": 27,
   "metadata": {},
   "outputs": [
    {
     "data": {
      "image/png": "[encoded data removed]",
      "text/plain": [
       "<Figure size 640x480 with 1 Axes>"
      ]
     },
     "metadata": {},
     "output_type": "display_data"
    }
   ],
   "source": [
    "numpy_array = tensor.detach().numpy().flatten()\n",
    "\n",
    "# Plot histogram\n",
    "plt.hist(numpy_array, bins='auto')  # 'auto' lets matplotlib decide the number of bins\n",
    "plt.title('Histogram of Tensor Values')\n",
    "plt.xlabel('Value')\n",
    "plt.ylabel('Frequency')\n",
    "plt.show()"
   ]
  },
  {
   "cell_type": "code",
   "execution_count": 28,
   "metadata": {},
   "outputs": [],
   "source": [
    "tensor2 = train_attentions_ft[0][50][0, 0, 0, 28, :]"
   ]
  },
  {
   "cell_type": "code",
   "execution_count": 29,
   "metadata": {},
   "outputs": [
    {
     "data": {
      "image/png": "[encoded data removed]",
      "text/plain": [
       "<Figure size 640x480 with 1 Axes>"
      ]
     },
     "metadata": {},
     "output_type": "display_data"
    }
   ],
   "source": [
    "numpy_array = tensor2.detach().numpy().flatten()\n",
    "\n",
    "# Plot histogram\n",
    "plt.hist(numpy_array, bins='auto')  # 'auto' lets matplotlib decide the number of bins\n",
    "plt.title('Histogram of Tensor Values')\n",
    "plt.xlabel('Value')\n",
    "plt.ylabel('Frequency')\n",
    "plt.show()"
   ]
  },
  {
   "cell_type": "code",
   "execution_count": null,
   "metadata": {},
   "outputs": [],
   "source": []
  }
 ],
 "metadata": {
  "kernelspec": {
   "display_name": "DL",
   "language": "python",
   "name": "python3"
  },
  "language_info": {
   "codemirror_mode": {
    "name": "ipython",
    "version": 3
   },
   "file_extension": ".py",
   "mimetype": "text/x-python",
   "name": "python",
   "nbconvert_exporter": "python",
   "pygments_lexer": "ipython3",
   "version": "3.9.16"
  }
 },
 "nbformat": 4,
 "nbformat_minor": 2
}
