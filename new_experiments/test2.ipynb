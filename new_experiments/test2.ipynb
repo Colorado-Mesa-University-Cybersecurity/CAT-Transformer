{
 "cells": [
  {
   "cell_type": "code",
   "execution_count": 1,
   "metadata": {},
   "outputs": [],
   "source": [
    "import pandas as pd\n",
    "import pickle\n",
    "import numpy as np\n",
    "\n",
    "# Assuming you've already loaded your data into performance_log\n",
    "with open('/home/wdwatson2/projects/CAT-Transformer/new_experiments/performance_log.pkl', 'rb') as file:\n",
    "    performance_log = pickle.load(file)"
   ]
  },
  {
   "cell_type": "code",
   "execution_count": 4,
   "metadata": {},
   "outputs": [
    {
     "data": {
      "text/plain": [
       "[0.8547799970740859,\n",
       " 0.8997960465736685,\n",
       " 0.9163016445358554,\n",
       " 0.9271017099386418,\n",
       " 0.9343734671221914,\n",
       " 0.9395712675232137,\n",
       " 0.943202843300087,\n",
       " 0.9441838850976308,\n",
       " 0.9471270104902627,\n",
       " 0.949751727580183,\n",
       " 0.9508790650843782,\n",
       " 0.9513523747235442,\n",
       " 0.9519117406607402,\n",
       " 0.9523936559297093,\n",
       " 0.9546827534573118,\n",
       " 0.95681694964846,\n",
       " 0.9554228376203713,\n",
       " 0.9564296963073242,\n",
       " 0.9566018089033846,\n",
       " 0.9575312169221104,\n",
       " 0.9594158498489712,\n",
       " 0.9579098646334432,\n",
       " 0.959321187921138,\n",
       " 0.9592523428827139,\n",
       " 0.9589769627290173,\n",
       " 0.4897636033493111,\n",
       " 0.4897636033493111,\n",
       " 0.4897636033493111,\n",
       " 0.4897636033493111,\n",
       " 0.4897636033493111,\n",
       " 0.4897636033493111]"
      ]
     },
     "execution_count": 4,
     "metadata": {},
     "output_type": "execute_result"
    }
   ],
   "source": [
    "acc1 = performance_log.get_metric_values('SAINT', 'Covertype', 'Test Accuracy', trial=2)\n",
    "acc1"
   ]
  }
 ],
 "metadata": {
  "kernelspec": {
   "display_name": "ml-env",
   "language": "python",
   "name": "python3"
  },
  "language_info": {
   "codemirror_mode": {
    "name": "ipython",
    "version": 3
   },
   "file_extension": ".py",
   "mimetype": "text/x-python",
   "name": "python",
   "nbconvert_exporter": "python",
   "pygments_lexer": "ipython3",
   "version": "3.11.5"
  }
 },
 "nbformat": 4,
 "nbformat_minor": 2
}
