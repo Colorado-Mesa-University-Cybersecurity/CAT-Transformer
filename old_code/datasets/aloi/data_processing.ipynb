{
 "cells": [
  {
   "cell_type": "code",
   "execution_count": 1,
   "metadata": {},
   "outputs": [],
   "source": [
    "import pandas as pd\n",
    "import numpy as np\n",
    "from sklearn.preprocessing import LabelEncoder, StandardScaler\n",
    "from sklearn.model_selection import train_test_split\n",
    "from scipy.io import arff"
   ]
  },
  {
   "cell_type": "markdown",
   "metadata": {},
   "source": [
    "# MAKING TRAIN/TEST/VAL SPLIT\n",
    "**EXAMPLE WITH COVTYPE DATASET**\n",
    "1. Read in dataset\n",
    "1. Remove Nan's\n",
    "2. Label Encode non-numerical features\n",
    "3. Split\n",
    "4. Save datasets"
   ]
  },
  {
   "cell_type": "code",
   "execution_count": 5,
   "metadata": {},
   "outputs": [
    {
     "name": "stdout",
     "output_type": "stream",
     "text": [
      "75600\n",
      "16200\n",
      "16200\n"
     ]
    }
   ],
   "source": [
    "#reading in dataset\n",
    "df = arff.loadarff(r'C:\\Users\\smbm2\\projects\\CAT-Transformer\\datasets\\aloi\\dataset.arff')\n",
    "\n",
    "df = pd.DataFrame(df[0])\n",
    "\n",
    "df = df[~df.isin([np.nan, np.inf, -np.inf]).any(axis=1)]\n",
    "\n",
    "targets = [\n",
    "    'target'\n",
    "]\n",
    "\n",
    "# encode the labels of the targets and create decoding dict\n",
    "label_encoders = []\n",
    "encoded_to_labels = []\n",
    "for x in range(len(targets)):\n",
    "    label_encoders.append(LabelEncoder())\n",
    "    df[targets[x]] = label_encoders[x].fit_transform(df[targets[x]])\n",
    "    encoded_to_labels.append({encoded: label for label, encoded in zip(label_encoders[x].classes_, label_encoders[x].transform(label_encoders[x].classes_))})\n",
    "\n",
    "\n",
    "df_train, df_temp = train_test_split(df, train_size=.7, random_state=12)\n",
    "df_val, df_test = train_test_split(df_temp, train_size=.5, random_state=12)\n",
    "\n",
    "print(df_train.shape[0])\n",
    "print(df_val.shape[0])\n",
    "print(df_test.shape[0])"
   ]
  },
  {
   "cell_type": "code",
   "execution_count": 6,
   "metadata": {},
   "outputs": [
    {
     "data": {
      "text/plain": [
       "target\n",
       "193       91\n",
       "302       89\n",
       "839       89\n",
       "573       88\n",
       "947       87\n",
       "          ..\n",
       "503       63\n",
       "330       62\n",
       "747       61\n",
       "959       60\n",
       "166       60\n",
       "Length: 1000, dtype: int64"
      ]
     },
     "execution_count": 6,
     "metadata": {},
     "output_type": "execute_result"
    }
   ],
   "source": [
    "df_train[targets].value_counts()"
   ]
  },
  {
   "cell_type": "code",
   "execution_count": 7,
   "metadata": {},
   "outputs": [
    {
     "data": {
      "text/plain": [
       "target\n",
       "959       29\n",
       "711       28\n",
       "522       28\n",
       "405       27\n",
       "842       27\n",
       "          ..\n",
       "352        7\n",
       "974        7\n",
       "402        7\n",
       "193        7\n",
       "830        6\n",
       "Length: 1000, dtype: int64"
      ]
     },
     "execution_count": 7,
     "metadata": {},
     "output_type": "execute_result"
    }
   ],
   "source": [
    "df_test[targets].value_counts()"
   ]
  },
  {
   "cell_type": "code",
   "execution_count": 8,
   "metadata": {},
   "outputs": [
    {
     "data": {
      "text/plain": [
       "target\n",
       "827       28\n",
       "108       28\n",
       "748       27\n",
       "402       26\n",
       "756       26\n",
       "          ..\n",
       "632        8\n",
       "818        8\n",
       "449        8\n",
       "227        7\n",
       "507        6\n",
       "Length: 1000, dtype: int64"
      ]
     },
     "execution_count": 8,
     "metadata": {},
     "output_type": "execute_result"
    }
   ],
   "source": [
    "df_val[targets].value_counts()"
   ]
  },
  {
   "cell_type": "code",
   "execution_count": 9,
   "metadata": {},
   "outputs": [],
   "source": [
    "#save csvs in a dataset folder in your directory\n",
    "df_train.to_csv(r'C:\\Users\\smbm2\\projects\\CAT-Transformer\\datasets\\aloi\\train.csv', index=False)\n",
    "df_val.to_csv(r'C:\\Users\\smbm2\\projects\\CAT-Transformer\\datasets\\aloi\\validation.csv', index=False)\n",
    "df_test.to_csv(r'C:\\Users\\smbm2\\projects\\CAT-Transformer\\datasets\\aloi\\test.csv', index=False)"
   ]
  }
 ],
 "metadata": {
  "kernelspec": {
   "display_name": "ml-env",
   "language": "python",
   "name": "python3"
  },
  "language_info": {
   "codemirror_mode": {
    "name": "ipython",
    "version": 3
   },
   "file_extension": ".py",
   "mimetype": "text/x-python",
   "name": "python",
   "nbconvert_exporter": "python",
   "pygments_lexer": "ipython3",
   "version": "3.11.4"
  }
 },
 "nbformat": 4,
 "nbformat_minor": 2
}
