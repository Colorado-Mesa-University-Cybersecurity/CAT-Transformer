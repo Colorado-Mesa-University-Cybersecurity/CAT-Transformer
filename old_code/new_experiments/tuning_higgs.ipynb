{
 "cells": [
  {
   "cell_type": "code",
   "execution_count": 1,
   "metadata": {},
   "outputs": [
    {
     "name": "stdout",
     "output_type": "stream",
     "text": [
      "cuda\n"
     ]
    },
    {
     "name": "stderr",
     "output_type": "stream",
     "text": [
      "/home/cscadmin/miniconda3/envs/torch-env/lib/python3.11/site-packages/tqdm/auto.py:21: TqdmWarning: IProgress not found. Please update jupyter and ipywidgets. See https://ipywidgets.readthedocs.io/en/stable/user_install.html\n",
      "  from .autonotebook import tqdm as notebook_tqdm\n"
     ]
    }
   ],
   "source": [
    "import sys\n",
    "# sys.path.insert(0, '/home/wdwatson2/projects/CAT-Transformer/model')\n",
    "# sys.path.insert(0, r'C:\\Users\\smbm2\\projects\\CAT-Transformer\\model')\n",
    "sys.path.insert(0, '/home/cscadmin/CyberResearch/CAT-Transformer/model')\n",
    "from testingModel import CATTransformer, MyFTTransformer, Combined_Dataset, train, test, EarlyStopping\n",
    "import pandas as pd\n",
    "import numpy as np\n",
    "from torch.utils.data import Dataset, DataLoader\n",
    "import matplotlib.pyplot as plt\n",
    "from sklearn.metrics import accuracy_score, f1_score, recall_score, confusion_matrix\n",
    "from sklearn.preprocessing import StandardScaler\n",
    "import torch\n",
    "import torch.nn as nn\n",
    "import optuna\n",
    "from optuna.trial import TrialState\n",
    "\n",
    "device_in_use = 'cuda' if torch.cuda.is_available() else 'cpu'\n",
    "print(device_in_use)"
   ]
  },
  {
   "cell_type": "code",
   "execution_count": 2,
   "metadata": {},
   "outputs": [
    {
     "name": "stdout",
     "output_type": "stream",
     "text": [
      "[2]\n"
     ]
    }
   ],
   "source": [
    "# df_train = pd.read_csv('/home/wdwatson2/projects/CAT-Transformer/datasets/higgs/train.csv')\n",
    "# df_test = pd.read_csv('/home/wdwatson2/projects/CAT-Transformer/datasets/higgs/test.csv')\n",
    "# df_val = pd.read_csv('/home/wdwatson2/projects/CAT-Transformer/datasets/higgs/validation.csv') \n",
    "\n",
    "df_train = pd.read_csv('/home/cscadmin/CyberResearch/CAT-Transformer/datasets/higgs/train.csv')\n",
    "df_test = pd.read_csv('/home/cscadmin/CyberResearch/CAT-Transformer/datasets/higgs/test.csv')\n",
    "df_val = pd.read_csv('/home/cscadmin/CyberResearch/CAT-Transformer/datasets/higgs/validation.csv') \n",
    "\n",
    "cont_columns = ['lepton_pT', 'lepton_eta', 'lepton_phi',\n",
    "       'missing_energy_magnitude', 'missing_energy_phi', 'jet1pt', 'jet1eta',\n",
    "       'jet1phi', 'jet1b-tag', 'jet2pt', 'jet2eta', 'jet2phi', 'jet2b-tag',\n",
    "       'jet3pt', 'jet3eta', 'jet3phi', 'jet3b-tag', 'jet4pt', 'jet4eta',\n",
    "       'jet4phi', 'jet4b-tag', 'm_jj', 'm_jjj', 'm_lv', 'm_jlv', 'm_bb',\n",
    "       'm_wbb', 'm_wwbb']\n",
    "target = ['class']\n",
    "cat_columns = []\n",
    "\n",
    "\n",
    "#CHECKING TO MAKE SURE YOUR LIST IS CORRECT (NO NEED TO TOUCH)\n",
    "yourlist = cont_columns + cat_columns+target\n",
    "yourlist.sort()\n",
    "oglist = list(df_train.columns)\n",
    "oglist.sort()\n",
    "\n",
    "assert(yourlist == oglist), \"You may of spelled feature name wrong or you forgot to put on of them in the list\"\n",
    "\n",
    "cat_features = ()\n",
    "\n",
    "target_classes = [max(len(df_train[target].value_counts()), len(df_val[target].value_counts()),len(df_test[target].value_counts()))]\n",
    "print(target_classes)\n",
    "# Create a StandardScaler and fit it to the cont features\n",
    "scaler = StandardScaler()\n",
    "scaler.fit(df_train[cont_columns])\n",
    "\n",
    "# Transform the training, test, and validation datasets\n",
    "df_train[cont_columns] = scaler.transform(df_train[cont_columns])\n",
    "df_test[cont_columns] = scaler.transform(df_test[cont_columns])\n",
    "df_val[cont_columns] = scaler.transform(df_val[cont_columns])\n",
    "\n",
    "#Wrapping in Dataset\n",
    "train_dataset = Combined_Dataset(df_train, cat_columns=cat_columns, num_columns=cont_columns, task1_column=target[0])\n",
    "val_dataset = Combined_Dataset(df_val, cat_columns=cat_columns, num_columns=cont_columns, task1_column=target[0])\n",
    "test_dataset = Combined_Dataset(df_test, cat_columns=cat_columns, num_columns=cont_columns, task1_column=target[0])\n",
    "\n",
    "batch_size = 256\n",
    "\n",
    "# Wrapping with DataLoader for easy batch extraction\n",
    "train_dataloader = DataLoader(train_dataset, batch_size=batch_size, shuffle=True)\n",
    "val_dataloader = DataLoader(val_dataset, batch_size=batch_size, shuffle=True)\n",
    "test_dataloader = DataLoader(test_dataset, batch_size=batch_size, shuffle=True)"
   ]
  },
  {
   "cell_type": "code",
   "execution_count": 3,
   "metadata": {},
   "outputs": [],
   "source": [
    "def objective(trial):\n",
    "    trial_number = trial.number\n",
    "\n",
    "    # Define hyperparameters to search over\n",
    "    alpha = trial.suggest_float('sigma', 0.001, 5, log=True)\n",
    "    num_layers = trial.suggest_int('num_layers', 1, 5)\n",
    "    # Ensure that embed_size is divisible by num_layers\n",
    "    embed_size = trial.suggest_categorical(\"embed_size\", [50, 60, 70, 80, 90, 100, 120, 140, 160, 180, 200, 250, 350, 500])\n",
    "    heads = trial.suggest_categorical(\"heads\", [1, 5, 10])\n",
    "    forward_expansion = trial.suggest_int('forward_expansion', 1, 8)\n",
    "    pre_norm_on = trial.suggest_categorical('prenorm_on', [True, False])\n",
    "    mlp_scale_classification = trial.suggest_int('mlp_scale_classification', 1, 8)\n",
    "    decoder_dropout = trial.suggest_categorical('decoder_dropout', [0,.1,.2,.5])\n",
    "    classification_dropout = trial.suggest_categorical('class_drop', [0,.1,.2,.5])\n",
    "\n",
    "    learning_rate = trial.suggest_float('learning_rate', 0.00001, 0.001, log=True)\n",
    "    weight_decay = trial.suggest_float('weight_decay', 0.000001, 0.001, log=True)\n",
    "\n",
    "    num_epochs = 400\n",
    "\n",
    "    # Create your model with the sampled hyperparameters\n",
    "    model = CATTransformer(alpha = alpha,\n",
    "                           embed_size= embed_size,\n",
    "                           n_cont = len(cont_columns),\n",
    "                           cat_feat=cat_columns,\n",
    "                           num_layers=num_layers,\n",
    "                           heads=heads,\n",
    "                           forward_expansion=forward_expansion,\n",
    "                           decoder_dropout=decoder_dropout,\n",
    "                           classification_dropout=classification_dropout,\n",
    "                           pre_norm_on=pre_norm_on,\n",
    "                           mlp_scale_classification=mlp_scale_classification,\n",
    "                           targets_classes=target_classes,\n",
    "                           ).to(device_in_use)\n",
    "\n",
    "    # Define loss function and optimizer\n",
    "    loss_function = nn.CrossEntropyLoss()\n",
    "    optimizer = torch.optim.AdamW(model.parameters(), lr = learning_rate, weight_decay=weight_decay)\n",
    "\n",
    "    # Initialize early stopping\n",
    "    early_stopping = EarlyStopping(patience=10)  # Adjust patience as needed\n",
    "\n",
    "    # Training loop with a large number of epochs\n",
    "    for epoch in range(num_epochs):\n",
    "        train_loss, train_acc, train_f1= train(regression_on=False, \n",
    "                                  get_attn=False,\n",
    "                                   dataloader=train_dataloader, \n",
    "                                   model=model, \n",
    "                                   loss_function=loss_function, \n",
    "                                   optimizer=optimizer, \n",
    "                                   device_in_use=device_in_use)\n",
    "        val_loss, val_acc, val_f1 = test(regression_on=False,\n",
    "                               get_attn=False,\n",
    "                               dataloader=val_dataloader,\n",
    "                               model=model,\n",
    "                               loss_function=loss_function,\n",
    "                               device_in_use=device_in_use)\n",
    "        # Check if we should early stop based on validation accuracy\n",
    "        if early_stopping(val_acc):\n",
    "            break\n",
    "\n",
    "    \n",
    "    # Log the final test accuracy for this trial to a shared log file\n",
    "    final_log = f\"Trial {trial_number} completed. Validation Accuracy = {val_acc:.4f}\"\n",
    "\n",
    "    # Return the test accuracy as the objective to optimize\n",
    "    return val_acc"
   ]
  },
  {
   "cell_type": "code",
   "execution_count": 4,
   "metadata": {},
   "outputs": [
    {
     "name": "stderr",
     "output_type": "stream",
     "text": [
      "[I 2024-01-06 16:20:51,819] A new study created in memory with name: no-name-0e35e79d-ca18-44d7-b5ae-2a45e9f4203b\n",
      "Best trial: 0. Best value: 0.682736:   1%|          | 1/100 [55:27<91:30:09, 3327.37s/it]"
     ]
    },
    {
     "name": "stdout",
     "output_type": "stream",
     "text": [
      "[I 2024-01-06 17:16:19,193] Trial 0 finished with value: 0.6827361120554838 and parameters: {'sigma': 0.05734860207327919, 'num_layers': 2, 'embed_size': 100, 'heads': 5, 'forward_expansion': 1, 'prenorm_on': False, 'mlp_scale_classification': 8, 'decoder_dropout': 0.5, 'class_drop': 0.2, 'learning_rate': 1.2928913088829067e-05, 'weight_decay': 0.0002301621325063564}. Best is trial 0 with value: 0.6827361120554838.\n"
     ]
    },
    {
     "name": "stderr",
     "output_type": "stream",
     "text": [
      "Best trial: 0. Best value: 0.682736:   2%|▏         | 2/100 [1:57:26<96:51:18, 3557.95s/it]"
     ]
    },
    {
     "name": "stdout",
     "output_type": "stream",
     "text": [
      "[I 2024-01-06 18:18:18,542] Trial 1 finished with value: 0.6745767321683552 and parameters: {'sigma': 0.5211549566727209, 'num_layers': 2, 'embed_size': 160, 'heads': 5, 'forward_expansion': 2, 'prenorm_on': True, 'mlp_scale_classification': 7, 'decoder_dropout': 0.1, 'class_drop': 0.1, 'learning_rate': 0.0009952319555457472, 'weight_decay': 0.00012104854989983931}. Best is trial 0 with value: 0.6827361120554838.\n"
     ]
    },
    {
     "name": "stderr",
     "output_type": "stream",
     "text": [
      "Best trial: 0. Best value: 0.682736:   3%|▎         | 3/100 [3:06:36<103:08:55, 3828.20s/it]"
     ]
    },
    {
     "name": "stdout",
     "output_type": "stream",
     "text": [
      "[I 2024-01-06 19:27:28,336] Trial 2 finished with value: 0.6818521792343782 and parameters: {'sigma': 0.16167505266391363, 'num_layers': 3, 'embed_size': 180, 'heads': 5, 'forward_expansion': 5, 'prenorm_on': False, 'mlp_scale_classification': 1, 'decoder_dropout': 0.1, 'class_drop': 0, 'learning_rate': 0.0009148300471685442, 'weight_decay': 5.410879620992679e-05}. Best is trial 0 with value: 0.6827361120554838.\n"
     ]
    },
    {
     "name": "stderr",
     "output_type": "stream",
     "text": [
      "Best trial: 3. Best value: 0.71075:   4%|▍         | 4/100 [4:10:25<102:05:31, 3828.45s/it] "
     ]
    },
    {
     "name": "stdout",
     "output_type": "stream",
     "text": [
      "[I 2024-01-06 20:31:17,171] Trial 3 finished with value: 0.7107499830012919 and parameters: {'sigma': 0.40794632243841555, 'num_layers': 3, 'embed_size': 70, 'heads': 1, 'forward_expansion': 8, 'prenorm_on': False, 'mlp_scale_classification': 8, 'decoder_dropout': 0.5, 'class_drop': 0.2, 'learning_rate': 3.689005865173411e-05, 'weight_decay': 6.726503936095475e-06}. Best is trial 3 with value: 0.7107499830012919.\n"
     ]
    },
    {
     "name": "stderr",
     "output_type": "stream",
     "text": [
      "Best trial: 4. Best value: 0.720269:   5%|▌         | 5/100 [5:46:54<119:41:26, 4535.65s/it]"
     ]
    },
    {
     "name": "stdout",
     "output_type": "stream",
     "text": [
      "[I 2024-01-06 22:07:46,762] Trial 4 finished with value: 0.7202692595362753 and parameters: {'sigma': 0.17118936207286012, 'num_layers': 4, 'embed_size': 250, 'heads': 10, 'forward_expansion': 6, 'prenorm_on': False, 'mlp_scale_classification': 1, 'decoder_dropout': 0.5, 'class_drop': 0.5, 'learning_rate': 2.822308210754446e-05, 'weight_decay': 0.00017832605332178592}. Best is trial 4 with value: 0.7202692595362753.\n"
     ]
    },
    {
     "name": "stderr",
     "output_type": "stream",
     "text": [
      "Best trial: 4. Best value: 0.720269:   6%|▌         | 6/100 [6:34:16<103:23:18, 3959.56s/it]"
     ]
    },
    {
     "name": "stdout",
     "output_type": "stream",
     "text": [
      "[I 2024-01-06 22:55:08,029] Trial 5 finished with value: 0.7042224790915891 and parameters: {'sigma': 0.015866281955608585, 'num_layers': 1, 'embed_size': 180, 'heads': 10, 'forward_expansion': 1, 'prenorm_on': False, 'mlp_scale_classification': 7, 'decoder_dropout': 0, 'class_drop': 0.5, 'learning_rate': 1.4511867918822234e-05, 'weight_decay': 0.0001216433895223854}. Best is trial 4 with value: 0.7202692595362753.\n"
     ]
    },
    {
     "name": "stderr",
     "output_type": "stream",
     "text": [
      "Best trial: 6. Best value: 0.725437:   7%|▋         | 7/100 [8:09:31<117:06:58, 4533.53s/it]"
     ]
    },
    {
     "name": "stdout",
     "output_type": "stream",
     "text": [
      "[I 2024-01-07 00:30:23,267] Trial 6 finished with value: 0.7254368667981234 and parameters: {'sigma': 0.003992974505444413, 'num_layers': 5, 'embed_size': 160, 'heads': 10, 'forward_expansion': 7, 'prenorm_on': True, 'mlp_scale_classification': 4, 'decoder_dropout': 0.1, 'class_drop': 0.1, 'learning_rate': 4.2914301696359765e-05, 'weight_decay': 3.580582099225506e-06}. Best is trial 6 with value: 0.7254368667981234.\n"
     ]
    },
    {
     "name": "stderr",
     "output_type": "stream",
     "text": [
      "Best trial: 6. Best value: 0.725437:   8%|▊         | 8/100 [9:05:03<106:04:48, 4150.96s/it]"
     ]
    },
    {
     "name": "stdout",
     "output_type": "stream",
     "text": [
      "[I 2024-01-07 01:25:55,076] Trial 7 finished with value: 0.6636975589855171 and parameters: {'sigma': 2.2079517915780285, 'num_layers': 2, 'embed_size': 60, 'heads': 5, 'forward_expansion': 1, 'prenorm_on': True, 'mlp_scale_classification': 7, 'decoder_dropout': 0, 'class_drop': 0, 'learning_rate': 0.0003067306080853117, 'weight_decay': 0.00014142364240557557}. Best is trial 6 with value: 0.7254368667981234.\n"
     ]
    },
    {
     "name": "stderr",
     "output_type": "stream",
     "text": [
      "Best trial: 8. Best value: 0.734888:   9%|▉         | 9/100 [10:01:55<99:05:17, 3919.97s/it] "
     ]
    },
    {
     "name": "stdout",
     "output_type": "stream",
     "text": [
      "[I 2024-01-07 02:22:47,144] Trial 8 finished with value: 0.7348881485007139 and parameters: {'sigma': 0.02247218458508478, 'num_layers': 2, 'embed_size': 70, 'heads': 5, 'forward_expansion': 6, 'prenorm_on': True, 'mlp_scale_classification': 2, 'decoder_dropout': 0.1, 'class_drop': 0, 'learning_rate': 4.857253773800948e-05, 'weight_decay': 6.853700287640523e-05}. Best is trial 8 with value: 0.7348881485007139.\n"
     ]
    },
    {
     "name": "stderr",
     "output_type": "stream",
     "text": [
      "Best trial: 8. Best value: 0.734888:  10%|█         | 10/100 [11:06:00<97:25:31, 3897.01s/it]"
     ]
    },
    {
     "name": "stdout",
     "output_type": "stream",
     "text": [
      "[I 2024-01-07 03:26:52,748] Trial 9 finished with value: 0.7210851975249881 and parameters: {'sigma': 0.13779600645925064, 'num_layers': 3, 'embed_size': 100, 'heads': 1, 'forward_expansion': 7, 'prenorm_on': False, 'mlp_scale_classification': 3, 'decoder_dropout': 0.2, 'class_drop': 0, 'learning_rate': 2.905648852882075e-05, 'weight_decay': 4.249567700975481e-06}. Best is trial 8 with value: 0.7348881485007139.\n"
     ]
    },
    {
     "name": "stderr",
     "output_type": "stream",
     "text": [
      "Best trial: 8. Best value: 0.734888:  11%|█         | 11/100 [12:04:35<93:26:54, 3779.93s/it]"
     ]
    },
    {
     "name": "stdout",
     "output_type": "stream",
     "text": [
      "[I 2024-01-07 04:25:27,215] Trial 10 finished with value: 0.6794723601006324 and parameters: {'sigma': 0.002086750985998909, 'num_layers': 1, 'embed_size': 350, 'heads': 5, 'forward_expansion': 4, 'prenorm_on': True, 'mlp_scale_classification': 3, 'decoder_dropout': 0.2, 'class_drop': 0, 'learning_rate': 0.00010930625301898547, 'weight_decay': 0.0007821044234381329}. Best is trial 8 with value: 0.7348881485007139.\n"
     ]
    },
    {
     "name": "stderr",
     "output_type": "stream",
     "text": [
      "Best trial: 8. Best value: 0.734888:  12%|█▏        | 12/100 [14:49:16<137:46:03, 5635.94s/it]"
     ]
    },
    {
     "name": "stdout",
     "output_type": "stream",
     "text": [
      "[I 2024-01-07 07:10:08,218] Trial 11 finished with value: 0.6792003807710614 and parameters: {'sigma': 0.005197870842382298, 'num_layers': 5, 'embed_size': 500, 'heads': 10, 'forward_expansion': 8, 'prenorm_on': True, 'mlp_scale_classification': 4, 'decoder_dropout': 0.1, 'class_drop': 0.1, 'learning_rate': 6.856525756211442e-05, 'weight_decay': 1.312613210408419e-06}. Best is trial 8 with value: 0.7348881485007139.\n"
     ]
    },
    {
     "name": "stderr",
     "output_type": "stream",
     "text": [
      "Best trial: 8. Best value: 0.734888:  13%|█▎        | 13/100 [16:17:48<133:49:46, 5537.78s/it]"
     ]
    },
    {
     "name": "stdout",
     "output_type": "stream",
     "text": [
      "[I 2024-01-07 08:38:40,118] Trial 12 finished with value: 0.7268647582783708 and parameters: {'sigma': 0.0010533316179078048, 'num_layers': 5, 'embed_size': 120, 'heads': 10, 'forward_expansion': 6, 'prenorm_on': True, 'mlp_scale_classification': 5, 'decoder_dropout': 0.1, 'class_drop': 0.1, 'learning_rate': 8.43398984633514e-05, 'weight_decay': 1.9554811851401684e-05}. Best is trial 8 with value: 0.7348881485007139.\n"
     ]
    },
    {
     "name": "stderr",
     "output_type": "stream",
     "text": [
      "Best trial: 8. Best value: 0.734888:  14%|█▍        | 14/100 [17:37:48<126:58:10, 5315.01s/it]"
     ]
    },
    {
     "name": "stdout",
     "output_type": "stream",
     "text": [
      "[I 2024-01-07 09:58:40,363] Trial 13 finished with value: 0.7241449649826613 and parameters: {'sigma': 0.0010496458890897787, 'num_layers': 4, 'embed_size': 120, 'heads': 10, 'forward_expansion': 4, 'prenorm_on': True, 'mlp_scale_classification': 5, 'decoder_dropout': 0.1, 'class_drop': 0.1, 'learning_rate': 0.00013234704439372226, 'weight_decay': 2.025381179229565e-05}. Best is trial 8 with value: 0.7348881485007139.\n"
     ]
    },
    {
     "name": "stderr",
     "output_type": "stream",
     "text": [
      "Best trial: 8. Best value: 0.734888:  15%|█▌        | 15/100 [18:56:06<121:05:57, 5128.92s/it]"
     ]
    },
    {
     "name": "stdout",
     "output_type": "stream",
     "text": [
      "[I 2024-01-07 11:16:58,011] Trial 14 finished with value: 0.6881077038145101 and parameters: {'sigma': 0.01520910892170462, 'num_layers': 4, 'embed_size': 120, 'heads': 1, 'forward_expansion': 5, 'prenorm_on': True, 'mlp_scale_classification': 5, 'decoder_dropout': 0.1, 'class_drop': 0.1, 'learning_rate': 0.00016479108071864272, 'weight_decay': 1.7076669265797435e-05}. Best is trial 8 with value: 0.7348881485007139.\n"
     ]
    },
    {
     "name": "stderr",
     "output_type": "stream",
     "text": [
      "Best trial: 8. Best value: 0.734888:  16%|█▌        | 16/100 [20:26:37<121:48:06, 5220.07s/it]"
     ]
    },
    {
     "name": "stdout",
     "output_type": "stream",
     "text": [
      "[I 2024-01-07 12:47:29,771] Trial 15 finished with value: 0.694907187053784 and parameters: {'sigma': 0.015869698353871132, 'num_layers': 5, 'embed_size': 140, 'heads': 5, 'forward_expansion': 6, 'prenorm_on': True, 'mlp_scale_classification': 2, 'decoder_dropout': 0.1, 'class_drop': 0, 'learning_rate': 6.975715029257106e-05, 'weight_decay': 3.95020431461074e-05}. Best is trial 8 with value: 0.7348881485007139.\n"
     ]
    },
    {
     "name": "stderr",
     "output_type": "stream",
     "text": [
      "Best trial: 8. Best value: 0.734888:  17%|█▋        | 17/100 [21:22:25<107:21:59, 4656.86s/it]"
     ]
    },
    {
     "name": "stdout",
     "output_type": "stream",
     "text": [
      "[I 2024-01-07 13:43:16,842] Trial 16 finished with value: 0.7206772285306317 and parameters: {'sigma': 0.0010125102422740132, 'num_layers': 2, 'embed_size': 50, 'heads': 10, 'forward_expansion': 3, 'prenorm_on': True, 'mlp_scale_classification': 6, 'decoder_dropout': 0.1, 'class_drop': 0.2, 'learning_rate': 0.00025408932668029895, 'weight_decay': 1.5220274297837133e-05}. Best is trial 8 with value: 0.7348881485007139.\n"
     ]
    },
    {
     "name": "stderr",
     "output_type": "stream",
     "text": [
      "Best trial: 8. Best value: 0.734888:  18%|█▊        | 18/100 [22:40:45<106:22:29, 4670.12s/it]"
     ]
    },
    {
     "name": "stdout",
     "output_type": "stream",
     "text": [
      "[I 2024-01-07 15:01:37,811] Trial 17 finished with value: 0.6991908614945264 and parameters: {'sigma': 0.005329951967760889, 'num_layers': 4, 'embed_size': 90, 'heads': 5, 'forward_expansion': 6, 'prenorm_on': True, 'mlp_scale_classification': 3, 'decoder_dropout': 0, 'class_drop': 0.5, 'learning_rate': 6.339132868502339e-05, 'weight_decay': 3.99148120554399e-05}. Best is trial 8 with value: 0.7348881485007139.\n"
     ]
    },
    {
     "name": "stderr",
     "output_type": "stream",
     "text": [
      "Best trial: 8. Best value: 0.734888:  19%|█▉        | 19/100 [23:31:10<93:57:25, 4175.87s/it] "
     ]
    },
    {
     "name": "stdout",
     "output_type": "stream",
     "text": [
      "[I 2024-01-07 15:52:02,323] Trial 18 finished with value: 0.6935472904059291 and parameters: {'sigma': 0.030020222704733337, 'num_layers': 1, 'embed_size': 200, 'heads': 10, 'forward_expansion': 7, 'prenorm_on': True, 'mlp_scale_classification': 2, 'decoder_dropout': 0.2, 'class_drop': 0.1, 'learning_rate': 8.167367703698483e-05, 'weight_decay': 1.1251220051192572e-05}. Best is trial 8 with value: 0.7348881485007139.\n"
     ]
    },
    {
     "name": "stderr",
     "output_type": "stream",
     "text": [
      "Best trial: 8. Best value: 0.734888:  20%|██        | 20/100 [24:28:13<87:46:37, 3949.97s/it]"
     ]
    },
    {
     "name": "stdout",
     "output_type": "stream",
     "text": [
      "[I 2024-01-07 16:49:05,779] Trial 19 finished with value: 0.7223091045080574 and parameters: {'sigma': 0.009470782953440659, 'num_layers': 2, 'embed_size': 80, 'heads': 1, 'forward_expansion': 5, 'prenorm_on': True, 'mlp_scale_classification': 6, 'decoder_dropout': 0.1, 'class_drop': 0, 'learning_rate': 2.055108201420295e-05, 'weight_decay': 7.274160093095696e-05}. Best is trial 8 with value: 0.7348881485007139.\n"
     ]
    },
    {
     "name": "stderr",
     "output_type": "stream",
     "text": [
      "Best trial: 8. Best value: 0.734888:  21%|██        | 21/100 [25:36:11<87:31:15, 3988.30s/it]"
     ]
    },
    {
     "name": "stdout",
     "output_type": "stream",
     "text": [
      "[I 2024-01-07 17:57:03,437] Trial 20 finished with value: 0.7084381586999388 and parameters: {'sigma': 0.0031241262785901562, 'num_layers': 3, 'embed_size': 70, 'heads': 10, 'forward_expansion': 6, 'prenorm_on': True, 'mlp_scale_classification': 2, 'decoder_dropout': 0.1, 'class_drop': 0.1, 'learning_rate': 4.6015726813497515e-05, 'weight_decay': 2.3994029181145714e-05}. Best is trial 8 with value: 0.7348881485007139.\n"
     ]
    },
    {
     "name": "stderr",
     "output_type": "stream",
     "text": [
      "Best trial: 8. Best value: 0.734888:  22%|██▏       | 22/100 [27:09:52<97:01:55, 4478.40s/it]"
     ]
    },
    {
     "name": "stdout",
     "output_type": "stream",
     "text": [
      "[I 2024-01-07 19:30:44,773] Trial 21 finished with value: 0.7230570476643775 and parameters: {'sigma': 0.002448542339475787, 'num_layers': 5, 'embed_size': 160, 'heads': 10, 'forward_expansion': 7, 'prenorm_on': True, 'mlp_scale_classification': 4, 'decoder_dropout': 0.1, 'class_drop': 0.1, 'learning_rate': 4.4404573772121426e-05, 'weight_decay': 4.139011184843384e-06}. Best is trial 8 with value: 0.7348881485007139.\n"
     ]
    },
    {
     "name": "stderr",
     "output_type": "stream",
     "text": [
      "Best trial: 8. Best value: 0.734888:  23%|██▎       | 23/100 [28:38:31<101:10:56, 4730.61s/it]"
     ]
    },
    {
     "name": "stdout",
     "output_type": "stream",
     "text": [
      "[I 2024-01-07 20:59:23,632] Trial 22 finished with value: 0.725776840960087 and parameters: {'sigma': 0.00606833464884753, 'num_layers': 5, 'embed_size': 120, 'heads': 10, 'forward_expansion': 7, 'prenorm_on': True, 'mlp_scale_classification': 4, 'decoder_dropout': 0.1, 'class_drop': 0.1, 'learning_rate': 4.849901061075406e-05, 'weight_decay': 1.0502208646927874e-06}. Best is trial 8 with value: 0.7348881485007139.\n"
     ]
    },
    {
     "name": "stderr",
     "output_type": "stream",
     "text": [
      "Best trial: 8. Best value: 0.734888:  24%|██▍       | 24/100 [30:08:51<104:14:09, 4937.50s/it]"
     ]
    },
    {
     "name": "stdout",
     "output_type": "stream",
     "text": [
      "[I 2024-01-07 22:29:43,743] Trial 23 finished with value: 0.7162575644251037 and parameters: {'sigma': 0.007258390723323273, 'num_layers': 5, 'embed_size': 120, 'heads': 10, 'forward_expansion': 6, 'prenorm_on': True, 'mlp_scale_classification': 5, 'decoder_dropout': 0.1, 'class_drop': 0.1, 'learning_rate': 2.1474418546522725e-05, 'weight_decay': 1.675703182364884e-06}. Best is trial 8 with value: 0.7348881485007139.\n"
     ]
    },
    {
     "name": "stderr",
     "output_type": "stream",
     "text": [
      "Best trial: 8. Best value: 0.734888:  25%|██▌       | 25/100 [31:29:18<102:10:22, 4904.31s/it]"
     ]
    },
    {
     "name": "stdout",
     "output_type": "stream",
     "text": [
      "[I 2024-01-07 23:50:10,619] Trial 24 finished with value: 0.7223770993404501 and parameters: {'sigma': 0.0019530614134580988, 'num_layers': 4, 'embed_size': 120, 'heads': 10, 'forward_expansion': 8, 'prenorm_on': True, 'mlp_scale_classification': 6, 'decoder_dropout': 0.1, 'class_drop': 0.1, 'learning_rate': 5.639279056468801e-05, 'weight_decay': 9.538641738724477e-06}. Best is trial 8 with value: 0.7348881485007139.\n"
     ]
    },
    {
     "name": "stderr",
     "output_type": "stream",
     "text": [
      "Best trial: 8. Best value: 0.734888:  26%|██▌       | 26/100 [32:55:58<102:37:49, 4992.84s/it]"
     ]
    },
    {
     "name": "stdout",
     "output_type": "stream",
     "text": [
      "[I 2024-01-08 01:16:49,995] Trial 25 finished with value: 0.7241449649826613 and parameters: {'sigma': 0.028139293172631946, 'num_layers': 5, 'embed_size': 70, 'heads': 5, 'forward_expansion': 7, 'prenorm_on': True, 'mlp_scale_classification': 3, 'decoder_dropout': 0.1, 'class_drop': 0, 'learning_rate': 9.70791854692878e-05, 'weight_decay': 1.0601848568373386e-06}. Best is trial 8 with value: 0.7348881485007139.\n"
     ]
    },
    {
     "name": "stderr",
     "output_type": "stream",
     "text": [
      "Best trial: 8. Best value: 0.734888:  27%|██▋       | 27/100 [34:16:40<100:19:35, 4947.61s/it]"
     ]
    },
    {
     "name": "stdout",
     "output_type": "stream",
     "text": [
      "[I 2024-01-08 02:37:32,091] Trial 26 finished with value: 0.7112259468280411 and parameters: {'sigma': 0.007822812403729245, 'num_layers': 4, 'embed_size': 120, 'heads': 10, 'forward_expansion': 5, 'prenorm_on': True, 'mlp_scale_classification': 4, 'decoder_dropout': 0.5, 'class_drop': 0.2, 'learning_rate': 3.087688547219441e-05, 'weight_decay': 2.1524766152096675e-06}. Best is trial 8 with value: 0.7348881485007139.\n"
     ]
    },
    {
     "name": "stderr",
     "output_type": "stream",
     "text": [
      "Best trial: 8. Best value: 0.734888:  28%|██▊       | 28/100 [35:31:11<96:05:42, 4804.76s/it] "
     ]
    },
    {
     "name": "stdout",
     "output_type": "stream",
     "text": [
      "[I 2024-01-08 03:52:03,567] Trial 27 finished with value: 0.6851159311892296 and parameters: {'sigma': 0.0017744045284953736, 'num_layers': 3, 'embed_size': 200, 'heads': 10, 'forward_expansion': 4, 'prenorm_on': True, 'mlp_scale_classification': 5, 'decoder_dropout': 0, 'class_drop': 0.5, 'learning_rate': 4.814173917493982e-05, 'weight_decay': 2.92006019279927e-05}. Best is trial 8 with value: 0.7348881485007139.\n"
     ]
    },
    {
     "name": "stderr",
     "output_type": "stream",
     "text": [
      "Best trial: 8. Best value: 0.734888:  29%|██▉       | 29/100 [37:48:59<115:14:52, 5843.56s/it]"
     ]
    },
    {
     "name": "stdout",
     "output_type": "stream",
     "text": [
      "[I 2024-01-08 06:09:50,880] Trial 28 finished with value: 0.701366696131094 and parameters: {'sigma': 0.0038172182951658933, 'num_layers': 5, 'embed_size': 350, 'heads': 1, 'forward_expansion': 6, 'prenorm_on': True, 'mlp_scale_classification': 2, 'decoder_dropout': 0.2, 'class_drop': 0.1, 'learning_rate': 8.837792748768013e-05, 'weight_decay': 2.816535098397119e-06}. Best is trial 8 with value: 0.7348881485007139.\n"
     ]
    },
    {
     "name": "stderr",
     "output_type": "stream",
     "text": [
      "Best trial: 8. Best value: 0.734888:  30%|███       | 30/100 [39:17:09<110:23:59, 5677.71s/it]"
     ]
    },
    {
     "name": "stdout",
     "output_type": "stream",
     "text": [
      "[I 2024-01-08 07:38:01,605] Trial 29 finished with value: 0.726048820289658 and parameters: {'sigma': 0.04267458508392092, 'num_layers': 2, 'embed_size': 500, 'heads': 5, 'forward_expansion': 8, 'prenorm_on': False, 'mlp_scale_classification': 1, 'decoder_dropout': 0.5, 'class_drop': 0.2, 'learning_rate': 1.3015070730319406e-05, 'weight_decay': 6.6170402708418916e-06}. Best is trial 8 with value: 0.7348881485007139.\n"
     ]
    },
    {
     "name": "stderr",
     "output_type": "stream",
     "text": [
      "Best trial: 8. Best value: 0.734888:  31%|███       | 31/100 [40:47:00<107:10:24, 5591.66s/it]"
     ]
    },
    {
     "name": "stdout",
     "output_type": "stream",
     "text": [
      "[I 2024-01-08 09:07:52,509] Trial 30 finished with value: 0.7253688719657306 and parameters: {'sigma': 0.047297067232733477, 'num_layers': 2, 'embed_size': 500, 'heads': 5, 'forward_expansion': 8, 'prenorm_on': False, 'mlp_scale_classification': 1, 'decoder_dropout': 0.5, 'class_drop': 0.2, 'learning_rate': 1.4327858338075836e-05, 'weight_decay': 6.352038770309661e-06}. Best is trial 8 with value: 0.7348881485007139.\n"
     ]
    },
    {
     "name": "stderr",
     "output_type": "stream",
     "text": [
      "Best trial: 8. Best value: 0.734888:  32%|███▏      | 32/100 [41:57:36<97:56:20, 5185.01s/it] "
     ]
    },
    {
     "name": "stdout",
     "output_type": "stream",
     "text": [
      "[I 2024-01-08 10:18:28,663] Trial 31 finished with value: 0.7244169443122322 and parameters: {'sigma': 0.05083517289772565, 'num_layers': 1, 'embed_size': 500, 'heads': 5, 'forward_expansion': 7, 'prenorm_on': False, 'mlp_scale_classification': 1, 'decoder_dropout': 0.5, 'class_drop': 0.2, 'learning_rate': 1.0081204566444891e-05, 'weight_decay': 1.9891985219620947e-06}. Best is trial 8 with value: 0.7348881485007139.\n"
     ]
    },
    {
     "name": "stderr",
     "output_type": "stream",
     "text": [
      "Best trial: 8. Best value: 0.734888:  33%|███▎      | 33/100 [42:59:37<88:19:16, 4745.62s/it]"
     ]
    },
    {
     "name": "stdout",
     "output_type": "stream",
     "text": [
      "[I 2024-01-08 11:20:29,069] Trial 32 finished with value: 0.711497926157612 and parameters: {'sigma': 0.009252913767707168, 'num_layers': 2, 'embed_size': 250, 'heads': 5, 'forward_expansion': 8, 'prenorm_on': False, 'mlp_scale_classification': 2, 'decoder_dropout': 0.5, 'class_drop': 0.2, 'learning_rate': 2.000273698099663e-05, 'weight_decay': 1.3677721012001019e-05}. Best is trial 8 with value: 0.7348881485007139.\n"
     ]
    },
    {
     "name": "stderr",
     "output_type": "stream",
     "text": [
      "Best trial: 8. Best value: 0.734888:  34%|███▍      | 34/100 [43:53:30<78:41:05, 4291.90s/it]"
     ]
    },
    {
     "name": "stdout",
     "output_type": "stream",
     "text": [
      "[I 2024-01-08 12:14:22,274] Trial 33 finished with value: 0.6264363908342966 and parameters: {'sigma': 0.025886693992021356, 'num_layers': 2, 'embed_size': 50, 'heads': 5, 'forward_expansion': 7, 'prenorm_on': False, 'mlp_scale_classification': 1, 'decoder_dropout': 0.5, 'class_drop': 0.2, 'learning_rate': 1.0027065778745448e-05, 'weight_decay': 6.968687312859088e-05}. Best is trial 8 with value: 0.7348881485007139.\n"
     ]
    },
    {
     "name": "stderr",
     "output_type": "stream",
     "text": [
      "Best trial: 8. Best value: 0.734888:  35%|███▌      | 35/100 [44:58:13<75:16:44, 4169.30s/it]"
     ]
    },
    {
     "name": "stdout",
     "output_type": "stream",
     "text": [
      "[I 2024-01-08 13:19:05,502] Trial 34 finished with value: 0.7206772285306317 and parameters: {'sigma': 0.08229142459932505, 'num_layers': 3, 'embed_size': 70, 'heads': 5, 'forward_expansion': 8, 'prenorm_on': False, 'mlp_scale_classification': 3, 'decoder_dropout': 0.1, 'class_drop': 0, 'learning_rate': 3.809743122269375e-05, 'weight_decay': 7.5408858700771e-06}. Best is trial 8 with value: 0.7348881485007139.\n"
     ]
    },
    {
     "name": "stderr",
     "output_type": "stream",
     "text": [
      "Best trial: 8. Best value: 0.734888:  36%|███▌      | 36/100 [46:05:35<73:26:34, 4131.16s/it]"
     ]
    },
    {
     "name": "stdout",
     "output_type": "stream",
     "text": [
      "[I 2024-01-08 14:26:27,669] Trial 35 finished with value: 0.7186373835588495 and parameters: {'sigma': 0.012030239413987322, 'num_layers': 3, 'embed_size': 140, 'heads': 5, 'forward_expansion': 6, 'prenorm_on': False, 'mlp_scale_classification': 1, 'decoder_dropout': 0.5, 'class_drop': 0.2, 'learning_rate': 5.265871146098626e-05, 'weight_decay': 1.0200803197661356e-06}. Best is trial 8 with value: 0.7348881485007139.\n"
     ]
    },
    {
     "name": "stderr",
     "output_type": "stream",
     "text": [
      "Best trial: 8. Best value: 0.734888:  37%|███▋      | 37/100 [46:59:53<67:42:24, 3868.96s/it]"
     ]
    },
    {
     "name": "stdout",
     "output_type": "stream",
     "text": [
      "[I 2024-01-08 15:20:44,836] Trial 36 finished with value: 0.6896715849595431 and parameters: {'sigma': 0.005742552739232667, 'num_layers': 2, 'embed_size': 60, 'heads': 5, 'forward_expansion': 5, 'prenorm_on': False, 'mlp_scale_classification': 8, 'decoder_dropout': 0.1, 'class_drop': 0.1, 'learning_rate': 3.2112251173708914e-05, 'weight_decay': 5.81465911767739e-06}. Best is trial 8 with value: 0.7348881485007139.\n"
     ]
    },
    {
     "name": "stderr",
     "output_type": "stream",
     "text": [
      "Best trial: 8. Best value: 0.734888:  38%|███▊      | 38/100 [47:45:50<60:53:30, 3535.66s/it]"
     ]
    },
    {
     "name": "stdout",
     "output_type": "stream",
     "text": [
      "[I 2024-01-08 16:06:42,797] Trial 37 finished with value: 0.7152376419392126 and parameters: {'sigma': 0.021362317196907163, 'num_layers': 1, 'embed_size': 80, 'heads': 10, 'forward_expansion': 7, 'prenorm_on': True, 'mlp_scale_classification': 6, 'decoder_dropout': 0.1, 'class_drop': 0.5, 'learning_rate': 1.6462647887971695e-05, 'weight_decay': 9.887580386151128e-06}. Best is trial 8 with value: 0.7348881485007139.\n"
     ]
    },
    {
     "name": "stderr",
     "output_type": "stream",
     "text": [
      "Best trial: 8. Best value: 0.734888:  39%|███▉      | 39/100 [49:05:55<66:21:28, 3916.21s/it]"
     ]
    },
    {
     "name": "stdout",
     "output_type": "stream",
     "text": [
      "[I 2024-01-08 17:26:46,950] Trial 38 finished with value: 0.7106819881688992 and parameters: {'sigma': 0.036880429276442216, 'num_layers': 4, 'embed_size': 180, 'heads': 5, 'forward_expansion': 8, 'prenorm_on': False, 'mlp_scale_classification': 4, 'decoder_dropout': 0.5, 'class_drop': 0, 'learning_rate': 2.75975443994414e-05, 'weight_decay': 2.1929188026327895e-05}. Best is trial 8 with value: 0.7348881485007139.\n"
     ]
    },
    {
     "name": "stderr",
     "output_type": "stream",
     "text": [
      "Best trial: 8. Best value: 0.734888:  40%|████      | 40/100 [50:29:33<70:46:43, 4246.73s/it]"
     ]
    },
    {
     "name": "stdout",
     "output_type": "stream",
     "text": [
      "[I 2024-01-08 18:50:24,903] Trial 39 finished with value: 0.6809682464132726 and parameters: {'sigma': 0.07641739995325003, 'num_layers': 5, 'embed_size': 100, 'heads': 1, 'forward_expansion': 3, 'prenorm_on': True, 'mlp_scale_classification': 2, 'decoder_dropout': 0, 'class_drop': 0.1, 'learning_rate': 3.710311099827998e-05, 'weight_decay': 3.574451224095931e-06}. Best is trial 8 with value: 0.7348881485007139.\n"
     ]
    },
    {
     "name": "stderr",
     "output_type": "stream",
     "text": [
      "Best trial: 8. Best value: 0.734888:  41%|████      | 41/100 [51:24:06<64:48:58, 3954.89s/it]"
     ]
    },
    {
     "name": "stdout",
     "output_type": "stream",
     "text": [
      "[I 2024-01-08 19:44:58,816] Trial 40 finished with value: 0.7140137349561433 and parameters: {'sigma': 0.019730723111443547, 'num_layers': 2, 'embed_size': 90, 'heads': 10, 'forward_expansion': 7, 'prenorm_on': False, 'mlp_scale_classification': 1, 'decoder_dropout': 0.1, 'class_drop': 0.2, 'learning_rate': 2.565668487977799e-05, 'weight_decay': 2.940479002632032e-06}. Best is trial 8 with value: 0.7348881485007139.\n"
     ]
    },
    {
     "name": "stderr",
     "output_type": "stream",
     "text": [
      "Best trial: 8. Best value: 0.734888:  42%|████▏     | 42/100 [52:57:12<71:35:52, 4444.01s/it]"
     ]
    },
    {
     "name": "stdout",
     "output_type": "stream",
     "text": [
      "[I 2024-01-08 21:18:04,128] Trial 41 finished with value: 0.7326443190317535 and parameters: {'sigma': 0.004322915634260101, 'num_layers': 5, 'embed_size': 160, 'heads': 10, 'forward_expansion': 6, 'prenorm_on': True, 'mlp_scale_classification': 4, 'decoder_dropout': 0.1, 'class_drop': 0.1, 'learning_rate': 4.005447244186043e-05, 'weight_decay': 4.678383518446188e-06}. Best is trial 8 with value: 0.7348881485007139.\n"
     ]
    },
    {
     "name": "stderr",
     "output_type": "stream",
     "text": [
      "Best trial: 8. Best value: 0.734888:  43%|████▎     | 43/100 [54:29:29<75:33:27, 4772.06s/it]"
     ]
    },
    {
     "name": "stdout",
     "output_type": "stream",
     "text": [
      "[I 2024-01-08 22:50:21,614] Trial 42 finished with value: 0.7049024274155165 and parameters: {'sigma': 0.011615322667033962, 'num_layers': 5, 'embed_size': 160, 'heads': 10, 'forward_expansion': 6, 'prenorm_on': True, 'mlp_scale_classification': 5, 'decoder_dropout': 0.1, 'class_drop': 0.1, 'learning_rate': 5.6449021911124785e-05, 'weight_decay': 5.7242105180230025e-06}. Best is trial 8 with value: 0.7348881485007139.\n"
     ]
    },
    {
     "name": "stderr",
     "output_type": "stream",
     "text": [
      "Best trial: 8. Best value: 0.734888:  44%|████▍     | 44/100 [57:09:48<96:50:50, 6225.91s/it]"
     ]
    },
    {
     "name": "stdout",
     "output_type": "stream",
     "text": [
      "[I 2024-01-09 01:30:39,840] Trial 43 finished with value: 0.6775005099612429 and parameters: {'sigma': 0.0036536753372639107, 'num_layers': 5, 'embed_size': 500, 'heads': 10, 'forward_expansion': 6, 'prenorm_on': True, 'mlp_scale_classification': 4, 'decoder_dropout': 0.1, 'class_drop': 0.1, 'learning_rate': 3.780417158770619e-05, 'weight_decay': 1.4987471369565537e-06}. Best is trial 8 with value: 0.7348881485007139.\n"
     ]
    },
    {
     "name": "stderr",
     "output_type": "stream",
     "text": [
      "Best trial: 8. Best value: 0.734888:  45%|████▌     | 45/100 [58:43:04<92:14:04, 6037.18s/it]"
     ]
    },
    {
     "name": "stdout",
     "output_type": "stream",
     "text": [
      "[I 2024-01-09 03:03:56,647] Trial 44 finished with value: 0.7129258176378596 and parameters: {'sigma': 0.0013997372985644018, 'num_layers': 5, 'embed_size': 160, 'heads': 10, 'forward_expansion': 5, 'prenorm_on': True, 'mlp_scale_classification': 3, 'decoder_dropout': 0.1, 'class_drop': 0.1, 'learning_rate': 7.565578284569839e-05, 'weight_decay': 2.556204761056401e-06}. Best is trial 8 with value: 0.7348881485007139.\n"
     ]
    },
    {
     "name": "stderr",
     "output_type": "stream",
     "text": [
      "Best trial: 8. Best value: 0.734888:  46%|████▌     | 46/100 [60:03:16<85:02:29, 5669.43s/it]"
     ]
    },
    {
     "name": "stdout",
     "output_type": "stream",
     "text": [
      "[I 2024-01-09 04:24:07,997] Trial 45 finished with value: 0.7283606445910111 and parameters: {'sigma': 0.0020585775482686347, 'num_layers': 4, 'embed_size': 120, 'heads': 10, 'forward_expansion': 7, 'prenorm_on': True, 'mlp_scale_classification': 5, 'decoder_dropout': 0.2, 'class_drop': 0, 'learning_rate': 6.213313960058609e-05, 'weight_decay': 4.657391245182728e-06}. Best is trial 8 with value: 0.7348881485007139.\n"
     ]
    },
    {
     "name": "stderr",
     "output_type": "stream",
     "text": [
      "Best trial: 8. Best value: 0.734888:  47%|████▋     | 47/100 [61:21:35<79:10:48, 5378.28s/it]"
     ]
    },
    {
     "name": "stdout",
     "output_type": "stream",
     "text": [
      "[I 2024-01-09 05:42:26,932] Trial 46 finished with value: 0.7259808254572653 and parameters: {'sigma': 0.002632841294096696, 'num_layers': 4, 'embed_size': 70, 'heads': 5, 'forward_expansion': 8, 'prenorm_on': True, 'mlp_scale_classification': 5, 'decoder_dropout': 0.2, 'class_drop': 0, 'learning_rate': 0.00010732851840571666, 'weight_decay': 4.363176337369716e-06}. Best is trial 8 with value: 0.7348881485007139.\n"
     ]
    },
    {
     "name": "stderr",
     "output_type": "stream",
     "text": [
      "Best trial: 8. Best value: 0.734888:  48%|████▊     | 48/100 [62:53:48<78:21:31, 5424.83s/it]"
     ]
    },
    {
     "name": "stdout",
     "output_type": "stream",
     "text": [
      "[I 2024-01-09 07:14:40,372] Trial 47 finished with value: 0.7259128306248726 and parameters: {'sigma': 0.001299686878277658, 'num_layers': 3, 'embed_size': 250, 'heads': 10, 'forward_expansion': 6, 'prenorm_on': True, 'mlp_scale_classification': 6, 'decoder_dropout': 0.2, 'class_drop': 0, 'learning_rate': 6.510661277964876e-05, 'weight_decay': 1.3275421222141317e-05}. Best is trial 8 with value: 0.7348881485007139.\n"
     ]
    },
    {
     "name": "stderr",
     "output_type": "stream",
     "text": [
      "Best trial: 8. Best value: 0.734888:  49%|████▉     | 49/100 [64:12:06<73:45:50, 5206.87s/it]"
     ]
    },
    {
     "name": "stdout",
     "output_type": "stream",
     "text": [
      "[I 2024-01-09 08:32:58,675] Trial 48 finished with value: 0.7097980553477936 and parameters: {'sigma': 0.0015413699109481538, 'num_layers': 4, 'embed_size': 120, 'heads': 1, 'forward_expansion': 5, 'prenorm_on': True, 'mlp_scale_classification': 7, 'decoder_dropout': 0.2, 'class_drop': 0, 'learning_rate': 8.062693231607301e-05, 'weight_decay': 1.7185509754043842e-05}. Best is trial 8 with value: 0.7348881485007139.\n"
     ]
    },
    {
     "name": "stderr",
     "output_type": "stream",
     "text": [
      "Best trial: 8. Best value: 0.734888:  50%|█████     | 50/100 [65:29:44<70:01:49, 5042.18s/it]"
     ]
    },
    {
     "name": "stdout",
     "output_type": "stream",
     "text": [
      "[I 2024-01-09 09:50:36,592] Trial 49 finished with value: 0.7220371251784864 and parameters: {'sigma': 0.002243000977555298, 'num_layers': 4, 'embed_size': 160, 'heads': 10, 'forward_expansion': 7, 'prenorm_on': False, 'mlp_scale_classification': 5, 'decoder_dropout': 0.2, 'class_drop': 0, 'learning_rate': 0.0001347774593760826, 'weight_decay': 8.408221589069854e-06}. Best is trial 8 with value: 0.7348881485007139.\n"
     ]
    },
    {
     "name": "stderr",
     "output_type": "stream",
     "text": [
      "Best trial: 8. Best value: 0.734888:  51%|█████     | 51/100 [66:42:47<65:56:14, 4844.38s/it]"
     ]
    },
    {
     "name": "stdout",
     "output_type": "stream",
     "text": [
      "[I 2024-01-09 11:03:39,414] Trial 50 finished with value: 0.7165975385870674 and parameters: {'sigma': 0.0010724799504270382, 'num_layers': 3, 'embed_size': 180, 'heads': 5, 'forward_expansion': 4, 'prenorm_on': True, 'mlp_scale_classification': 7, 'decoder_dropout': 0.2, 'class_drop': 0, 'learning_rate': 2.4622603766204363e-05, 'weight_decay': 1.1789232509589702e-05}. Best is trial 8 with value: 0.7348881485007139.\n"
     ]
    },
    {
     "name": "stderr",
     "output_type": "stream",
     "text": [
      "Best trial: 8. Best value: 0.734888:  52%|█████▏    | 52/100 [68:00:44<63:55:22, 4794.21s/it]"
     ]
    },
    {
     "name": "stdout",
     "output_type": "stream",
     "text": [
      "[I 2024-01-09 12:21:36,578] Trial 51 finished with value: 0.7250288978037669 and parameters: {'sigma': 0.002788728608314809, 'num_layers': 4, 'embed_size': 70, 'heads': 5, 'forward_expansion': 8, 'prenorm_on': True, 'mlp_scale_classification': 5, 'decoder_dropout': 0.2, 'class_drop': 0, 'learning_rate': 0.00010024105311188944, 'weight_decay': 5.396881348797676e-06}. Best is trial 8 with value: 0.7348881485007139.\n"
     ]
    },
    {
     "name": "stderr",
     "output_type": "stream",
     "text": [
      "Best trial: 8. Best value: 0.734888:  53%|█████▎    | 53/100 [69:19:02<62:12:47, 4765.27s/it]"
     ]
    },
    {
     "name": "stdout",
     "output_type": "stream",
     "text": [
      "[I 2024-01-09 13:39:54,329] Trial 52 finished with value: 0.7193853267151696 and parameters: {'sigma': 0.003860088020160274, 'num_layers': 4, 'embed_size': 70, 'heads': 5, 'forward_expansion': 8, 'prenorm_on': True, 'mlp_scale_classification': 6, 'decoder_dropout': 0.2, 'class_drop': 0, 'learning_rate': 6.328880956078377e-05, 'weight_decay': 4.611147225920267e-06}. Best is trial 8 with value: 0.7348881485007139.\n"
     ]
    },
    {
     "name": "stderr",
     "output_type": "stream",
     "text": [
      "Best trial: 8. Best value: 0.734888:  54%|█████▍    | 54/100 [70:16:19<55:47:57, 4366.91s/it]"
     ]
    },
    {
     "name": "stdout",
     "output_type": "stream",
     "text": [
      "[I 2024-01-09 14:37:11,718] Trial 53 finished with value: 0.7267287686135854 and parameters: {'sigma': 0.002773521686711457, 'num_layers': 2, 'embed_size': 70, 'heads': 5, 'forward_expansion': 8, 'prenorm_on': True, 'mlp_scale_classification': 5, 'decoder_dropout': 0.2, 'class_drop': 0, 'learning_rate': 0.00012788135339302339, 'weight_decay': 7.90088488599559e-06}. Best is trial 8 with value: 0.7348881485007139.\n"
     ]
    },
    {
     "name": "stderr",
     "output_type": "stream",
     "text": [
      "Best trial: 8. Best value: 0.734888:  55%|█████▌    | 55/100 [71:12:09<50:46:22, 4061.83s/it]"
     ]
    },
    {
     "name": "stdout",
     "output_type": "stream",
     "text": [
      "[I 2024-01-09 15:33:01,691] Trial 54 finished with value: 0.7175494662405657 and parameters: {'sigma': 0.0017748114971219496, 'num_layers': 2, 'embed_size': 60, 'heads': 5, 'forward_expansion': 7, 'prenorm_on': True, 'mlp_scale_classification': 5, 'decoder_dropout': 0.2, 'class_drop': 0, 'learning_rate': 7.631375517590938e-05, 'weight_decay': 9.101475494646949e-06}. Best is trial 8 with value: 0.7348881485007139.\n"
     ]
    },
    {
     "name": "stderr",
     "output_type": "stream",
     "text": [
      "Best trial: 8. Best value: 0.734888:  56%|█████▌    | 56/100 [73:01:37<58:49:51, 4813.45s/it]"
     ]
    },
    {
     "name": "stdout",
     "output_type": "stream",
     "text": [
      "[I 2024-01-09 17:22:28,916] Trial 55 finished with value: 0.6768885564697082 and parameters: {'sigma': 0.004549812850592464, 'num_layers': 2, 'embed_size': 500, 'heads': 5, 'forward_expansion': 6, 'prenorm_on': True, 'mlp_scale_classification': 4, 'decoder_dropout': 0, 'class_drop': 0.5, 'learning_rate': 0.00012646486513461926, 'weight_decay': 7.274606177376719e-06}. Best is trial 8 with value: 0.7348881485007139.\n"
     ]
    },
    {
     "name": "stderr",
     "output_type": "stream",
     "text": [
      "Best trial: 8. Best value: 0.734888:  57%|█████▋    | 57/100 [73:47:44<50:09:42, 4199.59s/it]"
     ]
    },
    {
     "name": "stdout",
     "output_type": "stream",
     "text": [
      "[I 2024-01-09 18:08:36,176] Trial 56 finished with value: 0.734616169171143 and parameters: {'sigma': 0.0029969709983994506, 'num_layers': 1, 'embed_size': 100, 'heads': 10, 'forward_expansion': 7, 'prenorm_on': True, 'mlp_scale_classification': 6, 'decoder_dropout': 0.2, 'class_drop': 0, 'learning_rate': 4.237520025037535e-05, 'weight_decay': 1.7567290576307393e-05}. Best is trial 8 with value: 0.7348881485007139.\n"
     ]
    },
    {
     "name": "stderr",
     "output_type": "stream",
     "text": [
      "Best trial: 8. Best value: 0.734888:  58%|█████▊    | 58/100 [74:35:18<44:17:07, 3795.90s/it]"
     ]
    },
    {
     "name": "stdout",
     "output_type": "stream",
     "text": [
      "[I 2024-01-09 18:56:10,122] Trial 57 finished with value: 0.7315564017134698 and parameters: {'sigma': 0.0033537888893677027, 'num_layers': 1, 'embed_size': 120, 'heads': 10, 'forward_expansion': 7, 'prenorm_on': True, 'mlp_scale_classification': 6, 'decoder_dropout': 0.2, 'class_drop': 0, 'learning_rate': 4.373044075687737e-05, 'weight_decay': 1.6468393582150397e-05}. Best is trial 8 with value: 0.7348881485007139.\n"
     ]
    },
    {
     "name": "stderr",
     "output_type": "stream",
     "text": [
      "Best trial: 8. Best value: 0.734888:  59%|█████▉    | 59/100 [75:21:24<39:42:43, 3486.92s/it]"
     ]
    },
    {
     "name": "stdout",
     "output_type": "stream",
     "text": [
      "[I 2024-01-09 19:42:16,086] Trial 58 finished with value: 0.72734072210512 and parameters: {'sigma': 0.00577256449132567, 'num_layers': 1, 'embed_size': 100, 'heads': 10, 'forward_expansion': 6, 'prenorm_on': True, 'mlp_scale_classification': 7, 'decoder_dropout': 0.2, 'class_drop': 0, 'learning_rate': 3.357990141046687e-05, 'weight_decay': 3.045386240519885e-05}. Best is trial 8 with value: 0.7348881485007139.\n"
     ]
    },
    {
     "name": "stderr",
     "output_type": "stream",
     "text": [
      "Best trial: 8. Best value: 0.734888:  60%|██████    | 60/100 [76:07:48<36:24:04, 3276.11s/it]"
     ]
    },
    {
     "name": "stdout",
     "output_type": "stream",
     "text": [
      "[I 2024-01-09 20:28:40,310] Trial 59 finished with value: 0.7338002311824301 and parameters: {'sigma': 0.004958814184452609, 'num_layers': 1, 'embed_size': 100, 'heads': 10, 'forward_expansion': 6, 'prenorm_on': True, 'mlp_scale_classification': 8, 'decoder_dropout': 0.2, 'class_drop': 0, 'learning_rate': 4.020625891169164e-05, 'weight_decay': 3.773538255531452e-05}. Best is trial 8 with value: 0.7348881485007139.\n"
     ]
    },
    {
     "name": "stderr",
     "output_type": "stream",
     "text": [
      "Best trial: 8. Best value: 0.734888:  61%|██████    | 61/100 [76:53:12<33:41:43, 3110.33s/it]"
     ]
    },
    {
     "name": "stdout",
     "output_type": "stream",
     "text": [
      "[I 2024-01-09 21:14:03,839] Trial 60 finished with value: 0.7294485619092949 and parameters: {'sigma': 0.007518352511997134, 'num_layers': 1, 'embed_size': 100, 'heads': 10, 'forward_expansion': 7, 'prenorm_on': True, 'mlp_scale_classification': 8, 'decoder_dropout': 0.2, 'class_drop': 0, 'learning_rate': 5.4038451073377435e-05, 'weight_decay': 5.413247899481122e-05}. Best is trial 8 with value: 0.7348881485007139.\n"
     ]
    },
    {
     "name": "stderr",
     "output_type": "stream",
     "text": [
      "Best trial: 8. Best value: 0.734888:  62%|██████▏   | 62/100 [77:39:09<31:42:46, 3004.37s/it]"
     ]
    },
    {
     "name": "stdout",
     "output_type": "stream",
     "text": [
      "[I 2024-01-09 22:00:00,951] Trial 61 finished with value: 0.7259808254572653 and parameters: {'sigma': 0.004209697058201246, 'num_layers': 1, 'embed_size': 100, 'heads': 10, 'forward_expansion': 7, 'prenorm_on': True, 'mlp_scale_classification': 8, 'decoder_dropout': 0.2, 'class_drop': 0, 'learning_rate': 4.193687638277413e-05, 'weight_decay': 4.7079437878191044e-05}. Best is trial 8 with value: 0.7348881485007139.\n"
     ]
    },
    {
     "name": "stderr",
     "output_type": "stream",
     "text": [
      "Best trial: 8. Best value: 0.734888:  63%|██████▎   | 63/100 [78:25:19<30:09:28, 2934.29s/it]"
     ]
    },
    {
     "name": "stdout",
     "output_type": "stream",
     "text": [
      "[I 2024-01-09 22:46:11,737] Trial 62 finished with value: 0.7245529339770177 and parameters: {'sigma': 0.006960942849045966, 'num_layers': 1, 'embed_size': 100, 'heads': 10, 'forward_expansion': 7, 'prenorm_on': True, 'mlp_scale_classification': 7, 'decoder_dropout': 0.2, 'class_drop': 0, 'learning_rate': 4.500481456197143e-05, 'weight_decay': 3.619228581588585e-05}. Best is trial 8 with value: 0.7348881485007139.\n"
     ]
    },
    {
     "name": "stderr",
     "output_type": "stream",
     "text": [
      "Best trial: 8. Best value: 0.734888:  64%|██████▍   | 64/100 [79:11:01<28:45:55, 2876.54s/it]"
     ]
    },
    {
     "name": "stdout",
     "output_type": "stream",
     "text": [
      "[I 2024-01-09 23:31:53,511] Trial 63 finished with value: 0.7310124430543279 and parameters: {'sigma': 0.004789976212933306, 'num_layers': 1, 'embed_size': 100, 'heads': 10, 'forward_expansion': 6, 'prenorm_on': True, 'mlp_scale_classification': 8, 'decoder_dropout': 0.2, 'class_drop': 0, 'learning_rate': 5.5063559065690265e-05, 'weight_decay': 6.775617531431723e-05}. Best is trial 8 with value: 0.7348881485007139.\n"
     ]
    },
    {
     "name": "stderr",
     "output_type": "stream",
     "text": [
      "Best trial: 8. Best value: 0.734888:  65%|██████▌   | 65/100 [79:57:01<27:37:37, 2841.63s/it]"
     ]
    },
    {
     "name": "stdout",
     "output_type": "stream",
     "text": [
      "[I 2024-01-10 00:17:53,703] Trial 64 finished with value: 0.7341402053443938 and parameters: {'sigma': 0.0048783882511832365, 'num_layers': 1, 'embed_size': 100, 'heads': 10, 'forward_expansion': 6, 'prenorm_on': True, 'mlp_scale_classification': 8, 'decoder_dropout': 0.2, 'class_drop': 0, 'learning_rate': 5.3451969250628997e-05, 'weight_decay': 8.319431605045454e-05}. Best is trial 8 with value: 0.7348881485007139.\n"
     ]
    },
    {
     "name": "stderr",
     "output_type": "stream",
     "text": [
      "Best trial: 8. Best value: 0.734888:  66%|██████▌   | 66/100 [80:43:44<26:43:36, 2829.90s/it]"
     ]
    },
    {
     "name": "stdout",
     "output_type": "stream",
     "text": [
      "[I 2024-01-10 01:04:36,221] Trial 65 finished with value: 0.7302644998980078 and parameters: {'sigma': 0.005606352580750194, 'num_layers': 1, 'embed_size': 100, 'heads': 10, 'forward_expansion': 5, 'prenorm_on': True, 'mlp_scale_classification': 8, 'decoder_dropout': 0.2, 'class_drop': 0, 'learning_rate': 3.305850788646015e-05, 'weight_decay': 9.495121144923542e-05}. Best is trial 8 with value: 0.7348881485007139.\n"
     ]
    },
    {
     "name": "stderr",
     "output_type": "stream",
     "text": [
      "Best trial: 8. Best value: 0.734888:  67%|██████▋   | 67/100 [81:29:43<25:44:48, 2808.74s/it]"
     ]
    },
    {
     "name": "stdout",
     "output_type": "stream",
     "text": [
      "[I 2024-01-10 01:50:35,575] Trial 66 finished with value: 0.7287006187529748 and parameters: {'sigma': 0.0032973070974095116, 'num_layers': 1, 'embed_size': 100, 'heads': 10, 'forward_expansion': 6, 'prenorm_on': True, 'mlp_scale_classification': 8, 'decoder_dropout': 0.2, 'class_drop': 0, 'learning_rate': 4.006324748869737e-05, 'weight_decay': 2.580662314125384e-05}. Best is trial 8 with value: 0.7348881485007139.\n"
     ]
    },
    {
     "name": "stderr",
     "output_type": "stream",
     "text": [
      "Best trial: 8. Best value: 0.734888:  68%|██████▊   | 68/100 [82:15:43<24:50:04, 2793.89s/it]"
     ]
    },
    {
     "name": "stdout",
     "output_type": "stream",
     "text": [
      "[I 2024-01-10 02:36:34,834] Trial 67 finished with value: 0.7282246549262256 and parameters: {'sigma': 0.00956149239119756, 'num_layers': 1, 'embed_size': 100, 'heads': 10, 'forward_expansion': 6, 'prenorm_on': True, 'mlp_scale_classification': 8, 'decoder_dropout': 0.2, 'class_drop': 0, 'learning_rate': 4.765522293998357e-05, 'weight_decay': 0.00014060498588984986}. Best is trial 8 with value: 0.7348881485007139.\n"
     ]
    },
    {
     "name": "stderr",
     "output_type": "stream",
     "text": [
      "Best trial: 8. Best value: 0.734888:  69%|██████▉   | 69/100 [83:01:59<24:00:49, 2788.69s/it]"
     ]
    },
    {
     "name": "stdout",
     "output_type": "stream",
     "text": [
      "[I 2024-01-10 03:22:51,370] Trial 68 finished with value: 0.7295165567416876 and parameters: {'sigma': 0.0048238107005843765, 'num_layers': 1, 'embed_size': 100, 'heads': 10, 'forward_expansion': 6, 'prenorm_on': True, 'mlp_scale_classification': 7, 'decoder_dropout': 0.2, 'class_drop': 0, 'learning_rate': 5.360219779126815e-05, 'weight_decay': 9.32278652807466e-05}. Best is trial 8 with value: 0.7348881485007139.\n"
     ]
    },
    {
     "name": "stderr",
     "output_type": "stream",
     "text": [
      "Best trial: 8. Best value: 0.734888:  70%|███████   | 70/100 [83:52:20<23:49:10, 2858.36s/it]"
     ]
    },
    {
     "name": "stdout",
     "output_type": "stream",
     "text": [
      "[I 2024-01-10 04:13:12,308] Trial 69 finished with value: 0.7306724688923641 and parameters: {'sigma': 0.0031203644830951442, 'num_layers': 1, 'embed_size': 200, 'heads': 10, 'forward_expansion': 1, 'prenorm_on': True, 'mlp_scale_classification': 8, 'decoder_dropout': 0.2, 'class_drop': 0, 'learning_rate': 3.0199080043666777e-05, 'weight_decay': 3.476592069638926e-05}. Best is trial 8 with value: 0.7348881485007139.\n"
     ]
    },
    {
     "name": "stderr",
     "output_type": "stream",
     "text": [
      "Best trial: 8. Best value: 0.734888:  71%|███████   | 71/100 [84:38:29<22:48:38, 2831.68s/it]"
     ]
    },
    {
     "name": "stdout",
     "output_type": "stream",
     "text": [
      "[I 2024-01-10 04:59:21,725] Trial 70 finished with value: 0.7329842931937173 and parameters: {'sigma': 0.014793584778446759, 'num_layers': 1, 'embed_size': 100, 'heads': 10, 'forward_expansion': 5, 'prenorm_on': True, 'mlp_scale_classification': 7, 'decoder_dropout': 0.2, 'class_drop': 0, 'learning_rate': 4.247422614013708e-05, 'weight_decay': 4.4911917254892406e-05}. Best is trial 8 with value: 0.7348881485007139.\n"
     ]
    },
    {
     "name": "stderr",
     "output_type": "stream",
     "text": [
      "Best trial: 8. Best value: 0.734888:  72%|███████▏  | 72/100 [85:37:41<23:42:12, 3047.60s/it]"
     ]
    },
    {
     "name": "stdout",
     "output_type": "stream",
     "text": [
      "[I 2024-01-10 05:58:33,153] Trial 71 finished with value: 0.6865438226694771 and parameters: {'sigma': 0.01479494915885897, 'num_layers': 1, 'embed_size': 350, 'heads': 10, 'forward_expansion': 5, 'prenorm_on': True, 'mlp_scale_classification': 7, 'decoder_dropout': 0.2, 'class_drop': 0, 'learning_rate': 4.477947168341111e-05, 'weight_decay': 4.753232369960854e-05}. Best is trial 8 with value: 0.7348881485007139.\n"
     ]
    },
    {
     "name": "stderr",
     "output_type": "stream",
     "text": [
      "Best trial: 8. Best value: 0.734888:  73%|███████▎  | 73/100 [86:23:33<22:11:32, 2959.00s/it]"
     ]
    },
    {
     "name": "stdout",
     "output_type": "stream",
     "text": [
      "[I 2024-01-10 06:44:25,406] Trial 72 finished with value: 0.7281566600938328 and parameters: {'sigma': 0.004948096532217277, 'num_layers': 1, 'embed_size': 100, 'heads': 10, 'forward_expansion': 5, 'prenorm_on': True, 'mlp_scale_classification': 7, 'decoder_dropout': 0.2, 'class_drop': 0, 'learning_rate': 3.504234641143807e-05, 'weight_decay': 2.7311728480878573e-05}. Best is trial 8 with value: 0.7348881485007139.\n"
     ]
    },
    {
     "name": "stderr",
     "output_type": "stream",
     "text": [
      "Best trial: 8. Best value: 0.734888:  74%|███████▍  | 74/100 [87:10:13<21:01:36, 2911.41s/it]"
     ]
    },
    {
     "name": "stdout",
     "output_type": "stream",
     "text": [
      "[I 2024-01-10 07:31:05,763] Trial 73 finished with value: 0.7346841640035358 and parameters: {'sigma': 0.008718133782113483, 'num_layers': 1, 'embed_size': 100, 'heads': 10, 'forward_expansion': 6, 'prenorm_on': True, 'mlp_scale_classification': 8, 'decoder_dropout': 0.2, 'class_drop': 0, 'learning_rate': 4.0046266830856566e-05, 'weight_decay': 6.453076123576005e-05}. Best is trial 8 with value: 0.7348881485007139.\n"
     ]
    },
    {
     "name": "stderr",
     "output_type": "stream",
     "text": [
      "Best trial: 8. Best value: 0.734888:  75%|███████▌  | 75/100 [87:56:05<19:53:05, 2863.41s/it]"
     ]
    },
    {
     "name": "stdout",
     "output_type": "stream",
     "text": [
      "[I 2024-01-10 08:16:57,189] Trial 74 finished with value: 0.7169375127490311 and parameters: {'sigma': 0.012175747778587997, 'num_layers': 1, 'embed_size': 50, 'heads': 10, 'forward_expansion': 5, 'prenorm_on': True, 'mlp_scale_classification': 6, 'decoder_dropout': 0.2, 'class_drop': 0, 'learning_rate': 3.9193541358110516e-05, 'weight_decay': 1.982262647562979e-05}. Best is trial 8 with value: 0.7348881485007139.\n"
     ]
    },
    {
     "name": "stderr",
     "output_type": "stream",
     "text": [
      "Best trial: 8. Best value: 0.734888:  76%|███████▌  | 76/100 [88:41:21<18:47:39, 2819.14s/it]"
     ]
    },
    {
     "name": "stdout",
     "output_type": "stream",
     "text": [
      "[I 2024-01-10 09:02:13,031] Trial 75 finished with value: 0.7173454817433875 and parameters: {'sigma': 0.007884242560287366, 'num_layers': 1, 'embed_size': 80, 'heads': 10, 'forward_expansion': 6, 'prenorm_on': True, 'mlp_scale_classification': 8, 'decoder_dropout': 0, 'class_drop': 0.5, 'learning_rate': 2.8311200268248966e-05, 'weight_decay': 5.89307477547012e-05}. Best is trial 8 with value: 0.7348881485007139.\n"
     ]
    },
    {
     "name": "stderr",
     "output_type": "stream",
     "text": [
      "Best trial: 8. Best value: 0.734888:  77%|███████▋  | 77/100 [89:27:31<17:55:04, 2804.55s/it]"
     ]
    },
    {
     "name": "stdout",
     "output_type": "stream",
     "text": [
      "[I 2024-01-10 09:48:23,532] Trial 76 finished with value: 0.7329842931937173 and parameters: {'sigma': 0.006460571039187072, 'num_layers': 1, 'embed_size': 100, 'heads': 10, 'forward_expansion': 4, 'prenorm_on': True, 'mlp_scale_classification': 7, 'decoder_dropout': 0.2, 'class_drop': 0, 'learning_rate': 3.5164984670014495e-05, 'weight_decay': 2.222787317881924e-05}. Best is trial 8 with value: 0.7348881485007139.\n"
     ]
    },
    {
     "name": "stderr",
     "output_type": "stream",
     "text": [
      "Best trial: 8. Best value: 0.734888:  78%|███████▊  | 78/100 [90:13:11<17:01:10, 2785.00s/it]"
     ]
    },
    {
     "name": "stdout",
     "output_type": "stream",
     "text": [
      "[I 2024-01-10 10:34:02,933] Trial 77 finished with value: 0.7276127014346909 and parameters: {'sigma': 0.008946476252528673, 'num_layers': 1, 'embed_size': 100, 'heads': 1, 'forward_expansion': 4, 'prenorm_on': True, 'mlp_scale_classification': 7, 'decoder_dropout': 0.2, 'class_drop': 0, 'learning_rate': 3.463623741201922e-05, 'weight_decay': 4.348757693510492e-05}. Best is trial 8 with value: 0.7348881485007139.\n"
     ]
    },
    {
     "name": "stderr",
     "output_type": "stream",
     "text": [
      "Best trial: 8. Best value: 0.734888:  79%|███████▉  | 79/100 [90:58:48<16:09:48, 2770.87s/it]"
     ]
    },
    {
     "name": "stdout",
     "output_type": "stream",
     "text": [
      "[I 2024-01-10 11:19:40,811] Trial 78 finished with value: 0.7337322363500374 and parameters: {'sigma': 0.006683607637163189, 'num_layers': 1, 'embed_size': 100, 'heads': 10, 'forward_expansion': 3, 'prenorm_on': True, 'mlp_scale_classification': 8, 'decoder_dropout': 0.2, 'class_drop': 0, 'learning_rate': 4.916872541650664e-05, 'weight_decay': 3.311042036775414e-05}. Best is trial 8 with value: 0.7348881485007139.\n"
     ]
    },
    {
     "name": "stderr",
     "output_type": "stream",
     "text": [
      "Best trial: 8. Best value: 0.734888:  80%|████████  | 80/100 [91:44:29<15:20:33, 2761.65s/it]"
     ]
    },
    {
     "name": "stdout",
     "output_type": "stream",
     "text": [
      "[I 2024-01-10 12:05:20,958] Trial 79 finished with value: 0.7308084585571497 and parameters: {'sigma': 0.0175123182637445, 'num_layers': 1, 'embed_size': 100, 'heads': 10, 'forward_expansion': 3, 'prenorm_on': True, 'mlp_scale_classification': 8, 'decoder_dropout': 0.2, 'class_drop': 0, 'learning_rate': 5.0390829428099245e-05, 'weight_decay': 3.3134017149391985e-05}. Best is trial 8 with value: 0.7348881485007139.\n"
     ]
    },
    {
     "name": "stderr",
     "output_type": "stream",
     "text": [
      "Best trial: 8. Best value: 0.734888:  81%|████████  | 81/100 [92:30:02<14:31:52, 2753.29s/it]"
     ]
    },
    {
     "name": "stdout",
     "output_type": "stream",
     "text": [
      "[I 2024-01-10 12:50:54,722] Trial 80 finished with value: 0.731760386210648 and parameters: {'sigma': 0.011281768827813683, 'num_layers': 1, 'embed_size': 100, 'heads': 10, 'forward_expansion': 2, 'prenorm_on': True, 'mlp_scale_classification': 8, 'decoder_dropout': 0.2, 'class_drop': 0, 'learning_rate': 7.117153348272044e-05, 'weight_decay': 4.080062628055214e-05}. Best is trial 8 with value: 0.7348881485007139.\n"
     ]
    },
    {
     "name": "stderr",
     "output_type": "stream",
     "text": [
      "Best trial: 8. Best value: 0.734888:  82%|████████▏ | 82/100 [93:16:26<13:48:41, 2762.30s/it]"
     ]
    },
    {
     "name": "stdout",
     "output_type": "stream",
     "text": [
      "[I 2024-01-10 13:37:18,052] Trial 81 finished with value: 0.722921057999592 and parameters: {'sigma': 0.007227650177859841, 'num_layers': 1, 'embed_size': 90, 'heads': 10, 'forward_expansion': 2, 'prenorm_on': True, 'mlp_scale_classification': 7, 'decoder_dropout': 0.2, 'class_drop': 0, 'learning_rate': 4.0462330298112395e-05, 'weight_decay': 2.4279593479240736e-05}. Best is trial 8 with value: 0.7348881485007139.\n"
     ]
    },
    {
     "name": "stderr",
     "output_type": "stream",
     "text": [
      "Best trial: 8. Best value: 0.734888:  83%|████████▎ | 83/100 [94:01:19<12:56:44, 2741.44s/it]"
     ]
    },
    {
     "name": "stdout",
     "output_type": "stream",
     "text": [
      "[I 2024-01-10 14:22:10,824] Trial 82 finished with value: 0.7206092336982389 and parameters: {'sigma': 0.006682158276943148, 'num_layers': 1, 'embed_size': 100, 'heads': 10, 'forward_expansion': 3, 'prenorm_on': True, 'mlp_scale_classification': 8, 'decoder_dropout': 0.1, 'class_drop': 0, 'learning_rate': 4.876243427709682e-05, 'weight_decay': 5.9200193669497054e-05}. Best is trial 8 with value: 0.7348881485007139.\n"
     ]
    },
    {
     "name": "stderr",
     "output_type": "stream",
     "text": [
      "Best trial: 8. Best value: 0.734888:  84%|████████▍ | 84/100 [94:48:52<12:20:01, 2775.10s/it]"
     ]
    },
    {
     "name": "stdout",
     "output_type": "stream",
     "text": [
      "[I 2024-01-10 15:09:44,472] Trial 83 finished with value: 0.7291085877473312 and parameters: {'sigma': 0.014004849984276629, 'num_layers': 1, 'embed_size': 140, 'heads': 10, 'forward_expansion': 4, 'prenorm_on': True, 'mlp_scale_classification': 8, 'decoder_dropout': 0.2, 'class_drop': 0, 'learning_rate': 3.0377321733082668e-05, 'weight_decay': 3.1008873065409795e-05}. Best is trial 8 with value: 0.7348881485007139.\n"
     ]
    },
    {
     "name": "stderr",
     "output_type": "stream",
     "text": [
      "Best trial: 8. Best value: 0.734888:  85%|████████▌ | 85/100 [95:37:05<11:42:36, 2810.44s/it]"
     ]
    },
    {
     "name": "stdout",
     "output_type": "stream",
     "text": [
      "[I 2024-01-10 15:57:57,379] Trial 84 finished with value: 0.7228530631671993 and parameters: {'sigma': 0.009831867271686093, 'num_layers': 1, 'embed_size': 160, 'heads': 10, 'forward_expansion': 4, 'prenorm_on': True, 'mlp_scale_classification': 7, 'decoder_dropout': 0.2, 'class_drop': 0, 'learning_rate': 5.9516978751588996e-05, 'weight_decay': 8.081533853859179e-05}. Best is trial 8 with value: 0.7348881485007139.\n"
     ]
    },
    {
     "name": "stderr",
     "output_type": "stream",
     "text": [
      "Best trial: 8. Best value: 0.734888:  86%|████████▌ | 86/100 [96:34:13<11:38:57, 2995.57s/it]"
     ]
    },
    {
     "name": "stdout",
     "output_type": "stream",
     "text": [
      "[I 2024-01-10 16:55:04,900] Trial 85 finished with value: 0.7313524172162915 and parameters: {'sigma': 0.022719045625933795, 'num_layers': 2, 'embed_size': 100, 'heads': 10, 'forward_expansion': 3, 'prenorm_on': True, 'mlp_scale_classification': 8, 'decoder_dropout': 0.1, 'class_drop': 0, 'learning_rate': 3.716261193738419e-05, 'weight_decay': 5.2316896540977476e-05}. Best is trial 8 with value: 0.7348881485007139.\n"
     ]
    },
    {
     "name": "stderr",
     "output_type": "stream",
     "text": [
      "Best trial: 8. Best value: 0.734888:  87%|████████▋ | 87/100 [97:19:59<10:32:50, 2920.79s/it]"
     ]
    },
    {
     "name": "stdout",
     "output_type": "stream",
     "text": [
      "[I 2024-01-10 17:40:51,196] Trial 86 finished with value: 0.7191133473855987 and parameters: {'sigma': 0.004111370640428701, 'num_layers': 1, 'embed_size': 100, 'heads': 10, 'forward_expansion': 5, 'prenorm_on': True, 'mlp_scale_classification': 7, 'decoder_dropout': 0.2, 'class_drop': 0, 'learning_rate': 2.5604995268086693e-05, 'weight_decay': 3.7512898021366913e-05}. Best is trial 8 with value: 0.7348881485007139.\n"
     ]
    },
    {
     "name": "stderr",
     "output_type": "stream",
     "text": [
      "Best trial: 8. Best value: 0.734888:  88%|████████▊ | 88/100 [98:14:26<10:04:54, 3024.55s/it]"
     ]
    },
    {
     "name": "stdout",
     "output_type": "stream",
     "text": [
      "[I 2024-01-10 18:35:17,865] Trial 87 finished with value: 0.6854559053511933 and parameters: {'sigma': 0.006077514708072436, 'num_layers': 1, 'embed_size': 250, 'heads': 1, 'forward_expansion': 6, 'prenorm_on': True, 'mlp_scale_classification': 8, 'decoder_dropout': 0, 'class_drop': 0.5, 'learning_rate': 6.0906599745641655e-05, 'weight_decay': 2.3807667772784975e-05}. Best is trial 8 with value: 0.7348881485007139.\n"
     ]
    },
    {
     "name": "stderr",
     "output_type": "stream",
     "text": [
      "Best trial: 8. Best value: 0.734888:  89%|████████▉ | 89/100 [99:11:06<9:35:08, 3137.18s/it] "
     ]
    },
    {
     "name": "stdout",
     "output_type": "stream",
     "text": [
      "[I 2024-01-10 19:31:57,833] Trial 88 finished with value: 0.729924525736044 and parameters: {'sigma': 0.016926023765917217, 'num_layers': 2, 'embed_size': 100, 'heads': 10, 'forward_expansion': 5, 'prenorm_on': True, 'mlp_scale_classification': 7, 'decoder_dropout': 0.1, 'class_drop': 0.1, 'learning_rate': 4.304795406975277e-05, 'weight_decay': 4.222803500547291e-05}. Best is trial 8 with value: 0.7348881485007139.\n"
     ]
    },
    {
     "name": "stderr",
     "output_type": "stream",
     "text": [
      "Best trial: 8. Best value: 0.734888:  90%|█████████ | 90/100 [100:00:02<8:32:48, 3076.85s/it]"
     ]
    },
    {
     "name": "stdout",
     "output_type": "stream",
     "text": [
      "[I 2024-01-10 20:20:53,914] Trial 89 finished with value: 0.7194533215475624 and parameters: {'sigma': 0.008833811623816147, 'num_layers': 1, 'embed_size': 160, 'heads': 10, 'forward_expansion': 3, 'prenorm_on': True, 'mlp_scale_classification': 8, 'decoder_dropout': 0.2, 'class_drop': 0, 'learning_rate': 6.868781262339897e-05, 'weight_decay': 2.0236113355322014e-05}. Best is trial 8 with value: 0.7348881485007139.\n"
     ]
    },
    {
     "name": "stderr",
     "output_type": "stream",
     "text": [
      "Best trial: 8. Best value: 0.734888:  91%|█████████ | 91/100 [100:58:41<8:01:26, 3209.58s/it]"
     ]
    },
    {
     "name": "stdout",
     "output_type": "stream",
     "text": [
      "[I 2024-01-10 21:19:33,213] Trial 90 finished with value: 0.6956551302101041 and parameters: {'sigma': 0.002297747110990003, 'num_layers': 1, 'embed_size': 350, 'heads': 10, 'forward_expansion': 4, 'prenorm_on': True, 'mlp_scale_classification': 6, 'decoder_dropout': 0.2, 'class_drop': 0, 'learning_rate': 4.8805113056526114e-05, 'weight_decay': 0.00011253239697573382}. Best is trial 8 with value: 0.7348881485007139.\n"
     ]
    },
    {
     "name": "stderr",
     "output_type": "stream",
     "text": [
      "Best trial: 8. Best value: 0.734888:  92%|█████████▏| 92/100 [101:43:47<6:47:48, 3058.58s/it]"
     ]
    },
    {
     "name": "stdout",
     "output_type": "stream",
     "text": [
      "[I 2024-01-10 22:04:39,451] Trial 91 finished with value: 0.7332562725232882 and parameters: {'sigma': 0.011315375014260089, 'num_layers': 1, 'embed_size': 100, 'heads': 10, 'forward_expansion': 2, 'prenorm_on': True, 'mlp_scale_classification': 8, 'decoder_dropout': 0.2, 'class_drop': 0, 'learning_rate': 5.628469606281672e-05, 'weight_decay': 3.850051143547991e-05}. Best is trial 8 with value: 0.7348881485007139.\n"
     ]
    },
    {
     "name": "stderr",
     "output_type": "stream",
     "text": [
      "Best trial: 8. Best value: 0.734888:  93%|█████████▎| 93/100 [102:29:05<5:44:54, 2956.37s/it]"
     ]
    },
    {
     "name": "stdout",
     "output_type": "stream",
     "text": [
      "[I 2024-01-10 22:49:57,332] Trial 92 finished with value: 0.724484939144625 and parameters: {'sigma': 0.013691046210622882, 'num_layers': 1, 'embed_size': 100, 'heads': 10, 'forward_expansion': 2, 'prenorm_on': True, 'mlp_scale_classification': 8, 'decoder_dropout': 0.2, 'class_drop': 0, 'learning_rate': 3.531144756678839e-05, 'weight_decay': 6.563176533530741e-05}. Best is trial 8 with value: 0.7348881485007139.\n"
     ]
    },
    {
     "name": "stderr",
     "output_type": "stream",
     "text": [
      "Best trial: 8. Best value: 0.734888:  94%|█████████▍| 94/100 [103:14:40<4:49:00, 2890.09s/it]"
     ]
    },
    {
     "name": "stdout",
     "output_type": "stream",
     "text": [
      "[I 2024-01-10 23:35:32,773] Trial 93 finished with value: 0.7329162983613245 and parameters: {'sigma': 0.006424020896859262, 'num_layers': 1, 'embed_size': 100, 'heads': 10, 'forward_expansion': 2, 'prenorm_on': True, 'mlp_scale_classification': 3, 'decoder_dropout': 0.2, 'class_drop': 0, 'learning_rate': 5.712044905395815e-05, 'weight_decay': 4.960906995928308e-05}. Best is trial 8 with value: 0.7348881485007139.\n"
     ]
    },
    {
     "name": "stderr",
     "output_type": "stream",
     "text": [
      "Best trial: 8. Best value: 0.734888:  95%|█████████▌| 95/100 [104:00:30<3:57:19, 2847.80s/it]"
     ]
    },
    {
     "name": "stdout",
     "output_type": "stream",
     "text": [
      "[I 2024-01-11 00:21:21,895] Trial 94 finished with value: 0.7294485619092949 and parameters: {'sigma': 0.006165110510859629, 'num_layers': 1, 'embed_size': 100, 'heads': 10, 'forward_expansion': 2, 'prenorm_on': True, 'mlp_scale_classification': 8, 'decoder_dropout': 0.2, 'class_drop': 0, 'learning_rate': 5.501250351589262e-05, 'weight_decay': 5.00587598165029e-05}. Best is trial 8 with value: 0.7348881485007139.\n"
     ]
    },
    {
     "name": "stderr",
     "output_type": "stream",
     "text": [
      "Best trial: 8. Best value: 0.734888:  96%|█████████▌| 96/100 [104:46:02<3:07:32, 2813.06s/it]"
     ]
    },
    {
     "name": "stdout",
     "output_type": "stream",
     "text": [
      "[I 2024-01-11 01:06:53,891] Trial 95 finished with value: 0.7283606445910111 and parameters: {'sigma': 0.018118964971891555, 'num_layers': 1, 'embed_size': 100, 'heads': 10, 'forward_expansion': 1, 'prenorm_on': True, 'mlp_scale_classification': 2, 'decoder_dropout': 0.2, 'class_drop': 0, 'learning_rate': 5.991132892112134e-05, 'weight_decay': 3.156347466963044e-05}. Best is trial 8 with value: 0.7348881485007139.\n"
     ]
    },
    {
     "name": "stderr",
     "output_type": "stream",
     "text": [
      "Best trial: 8. Best value: 0.734888:  97%|█████████▋| 97/100 [105:32:20<2:20:07, 2802.53s/it]"
     ]
    },
    {
     "name": "stdout",
     "output_type": "stream",
     "text": [
      "[I 2024-01-11 01:53:11,868] Trial 96 finished with value: 0.7327123138641464 and parameters: {'sigma': 0.010804797666928195, 'num_layers': 1, 'embed_size': 100, 'heads': 10, 'forward_expansion': 2, 'prenorm_on': True, 'mlp_scale_classification': 3, 'decoder_dropout': 0.2, 'class_drop': 0, 'learning_rate': 5.058426699626973e-05, 'weight_decay': 5.896869525934648e-05}. Best is trial 8 with value: 0.7348881485007139.\n"
     ]
    },
    {
     "name": "stderr",
     "output_type": "stream",
     "text": [
      "Best trial: 8. Best value: 0.734888:  98%|█████████▊| 98/100 [106:17:43<1:32:37, 2778.76s/it]"
     ]
    },
    {
     "name": "stdout",
     "output_type": "stream",
     "text": [
      "[I 2024-01-11 02:38:35,151] Trial 97 finished with value: 0.7248249133065887 and parameters: {'sigma': 0.008266731664182285, 'num_layers': 1, 'embed_size': 60, 'heads': 10, 'forward_expansion': 1, 'prenorm_on': True, 'mlp_scale_classification': 8, 'decoder_dropout': 0.2, 'class_drop': 0, 'learning_rate': 6.66585426705999e-05, 'weight_decay': 3.872274137064446e-05}. Best is trial 8 with value: 0.7348881485007139.\n"
     ]
    },
    {
     "name": "stderr",
     "output_type": "stream",
     "text": [
      "Best trial: 8. Best value: 0.734888:  99%|█████████▉| 99/100 [107:03:21<46:06, 2766.72s/it]  "
     ]
    },
    {
     "name": "stdout",
     "output_type": "stream",
     "text": [
      "[I 2024-01-11 03:24:13,767] Trial 98 finished with value: 0.7296525464064731 and parameters: {'sigma': 0.012633702553838338, 'num_layers': 1, 'embed_size': 100, 'heads': 10, 'forward_expansion': 3, 'prenorm_on': True, 'mlp_scale_classification': 8, 'decoder_dropout': 0.2, 'class_drop': 0, 'learning_rate': 4.606435560401083e-05, 'weight_decay': 7.676447320745607e-05}. Best is trial 8 with value: 0.7348881485007139.\n"
     ]
    },
    {
     "name": "stderr",
     "output_type": "stream",
     "text": [
      "Best trial: 8. Best value: 0.734888: 100%|██████████| 100/100 [108:04:25<00:00, 3890.66s/it]"
     ]
    },
    {
     "name": "stdout",
     "output_type": "stream",
     "text": [
      "[I 2024-01-11 04:25:17,610] Trial 99 finished with value: 0.7261848099544435 and parameters: {'sigma': 0.009952717161968877, 'num_layers': 2, 'embed_size': 180, 'heads': 10, 'forward_expansion': 2, 'prenorm_on': True, 'mlp_scale_classification': 7, 'decoder_dropout': 0.2, 'class_drop': 0, 'learning_rate': 3.170065337440393e-05, 'weight_decay': 2.901399552417328e-05}. Best is trial 8 with value: 0.7348881485007139.\n",
      "Best Hyperparameters: {'sigma': 0.02247218458508478, 'num_layers': 2, 'embed_size': 70, 'heads': 5, 'forward_expansion': 6, 'prenorm_on': True, 'mlp_scale_classification': 2, 'decoder_dropout': 0.1, 'class_drop': 0, 'learning_rate': 4.857253773800948e-05, 'weight_decay': 6.853700287640523e-05}\n",
      "Best Validation Accuracy (at Early Stopping): 0.7348881485007139\n"
     ]
    },
    {
     "name": "stderr",
     "output_type": "stream",
     "text": [
      "\n"
     ]
    }
   ],
   "source": [
    "# Set the number of optimization trials\n",
    "num_trials = 100\n",
    "\n",
    "# Create an Optuna study\n",
    "study = optuna.create_study(direction='maximize')  # Maximize validation accuracy\n",
    "\n",
    "# Start the optimization process\n",
    "study.optimize(objective, n_trials=num_trials, show_progress_bar=True)\n",
    "\n",
    "# Get the best hyperparameters and the validation accuracy at the point of early stopping\n",
    "best_params = study.best_params\n",
    "best_val_accuracy = study.best_value\n",
    "\n",
    "print(\"Best Hyperparameters:\", best_params)\n",
    "print(\"Best Validation Accuracy (at Early Stopping):\", best_val_accuracy)"
   ]
  }
 ],
 "metadata": {
  "kernelspec": {
   "display_name": "ml-env",
   "language": "python",
   "name": "python3"
  },
  "language_info": {
   "codemirror_mode": {
    "name": "ipython",
    "version": 3
   },
   "file_extension": ".py",
   "mimetype": "text/x-python",
   "name": "python",
   "nbconvert_exporter": "python",
   "pygments_lexer": "ipython3",
   "version": "3.11.5"
  }
 },
 "nbformat": 4,
 "nbformat_minor": 2
}
