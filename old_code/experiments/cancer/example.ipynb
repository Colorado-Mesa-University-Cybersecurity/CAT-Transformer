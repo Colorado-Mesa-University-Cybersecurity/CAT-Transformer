{
 "cells": [
  {
   "cell_type": "code",
   "execution_count": 1,
   "metadata": {},
   "outputs": [],
   "source": [
    "import pandas as pd\n",
    "import numpy as np\n",
    "from sklearn.preprocessing import LabelEncoder\n",
    "import torch\n",
    "import torch.nn as nn\n",
    "from torch.utils.data import Dataset, DataLoader\n",
    "import torch.nn.functional as F\n",
    "import matplotlib.pyplot as plt\n",
    "#from rff.layers import GaussianEncoding #pip install random-fourier-features-pytorch\n",
    "from sklearn.model_selection import train_test_split\n",
    "from sklearn.metrics import accuracy_score, f1_score, recall_score, confusion_matrix\n",
    "from sklearn.preprocessing import StandardScaler\n",
    "import seaborn as sns\n",
    "\n",
    "\n",
    "import sys\n",
    "import importlib\n",
    "sys.path.append('../../helpers/')\n",
    "import helper\n",
    "sys.path.append('../../model/')\n",
    "from ourModel import Classifier, train, test"
   ]
  },
  {
   "cell_type": "code",
   "execution_count": 2,
   "metadata": {},
   "outputs": [
    {
     "name": "stdout",
     "output_type": "stream",
     "text": [
      "GPU is available and being used\n"
     ]
    }
   ],
   "source": [
    "# Run regardless if you do or do not have GPU so all tensors are moved to right location later on\n",
    "if torch.cuda.is_available():\n",
    "    device_in_use = torch.device(\"cuda\")\n",
    "    print(\"GPU is available and being used\")\n",
    "else:\n",
    "    device_in_use = torch.device(\"cpu\")\n",
    "    print(\"GPU is not available, using CPU instead\")"
   ]
  },
  {
   "cell_type": "markdown",
   "metadata": {},
   "source": [
    "# Prepare Dataset "
   ]
  },
  {
   "cell_type": "markdown",
   "metadata": {},
   "source": [
    "Load Dataset"
   ]
  },
  {
   "cell_type": "code",
   "execution_count": 3,
   "metadata": {},
   "outputs": [
    {
     "name": "stdout",
     "output_type": "stream",
     "text": [
      "<class 'pandas.core.frame.DataFrame'>\n",
      "RangeIndex: 569 entries, 0 to 568\n",
      "Data columns (total 33 columns):\n",
      " #   Column                   Non-Null Count  Dtype  \n",
      "---  ------                   --------------  -----  \n",
      " 0   id                       569 non-null    int64  \n",
      " 1   diagnosis                569 non-null    object \n",
      " 2   radius_mean              569 non-null    float64\n",
      " 3   texture_mean             569 non-null    float64\n",
      " 4   perimeter_mean           569 non-null    float64\n",
      " 5   area_mean                569 non-null    float64\n",
      " 6   smoothness_mean          569 non-null    float64\n",
      " 7   compactness_mean         569 non-null    float64\n",
      " 8   concavity_mean           569 non-null    float64\n",
      " 9   concave points_mean      569 non-null    float64\n",
      " 10  symmetry_mean            569 non-null    float64\n",
      " 11  fractal_dimension_mean   569 non-null    float64\n",
      " 12  radius_se                569 non-null    float64\n",
      " 13  texture_se               569 non-null    float64\n",
      " 14  perimeter_se             569 non-null    float64\n",
      " 15  area_se                  569 non-null    float64\n",
      " 16  smoothness_se            569 non-null    float64\n",
      " 17  compactness_se           569 non-null    float64\n",
      " 18  concavity_se             569 non-null    float64\n",
      " 19  concave points_se        569 non-null    float64\n",
      " 20  symmetry_se              569 non-null    float64\n",
      " 21  fractal_dimension_se     569 non-null    float64\n",
      " 22  radius_worst             569 non-null    float64\n",
      " 23  texture_worst            569 non-null    float64\n",
      " 24  perimeter_worst          569 non-null    float64\n",
      " 25  area_worst               569 non-null    float64\n",
      " 26  smoothness_worst         569 non-null    float64\n",
      " 27  compactness_worst        569 non-null    float64\n",
      " 28  concavity_worst          569 non-null    float64\n",
      " 29  concave points_worst     569 non-null    float64\n",
      " 30  symmetry_worst           569 non-null    float64\n",
      " 31  fractal_dimension_worst  569 non-null    float64\n",
      " 32  Unnamed: 32              0 non-null      float64\n",
      "dtypes: float64(31), int64(1), object(1)\n",
      "memory usage: 146.8+ KB\n"
     ]
    }
   ],
   "source": [
    "importlib.reload(helper)\n",
    "df = pd.read_csv('../../datasets/cancer/data.csv')\n",
    "df.info()"
   ]
  },
  {
   "cell_type": "markdown",
   "metadata": {},
   "source": [
    "Clean Data"
   ]
  },
  {
   "cell_type": "code",
   "execution_count": 4,
   "metadata": {},
   "outputs": [
    {
     "data": {
      "text/html": [
       "<div>\n",
       "<style scoped>\n",
       "    .dataframe tbody tr th:only-of-type {\n",
       "        vertical-align: middle;\n",
       "    }\n",
       "\n",
       "    .dataframe tbody tr th {\n",
       "        vertical-align: top;\n",
       "    }\n",
       "\n",
       "    .dataframe thead th {\n",
       "        text-align: right;\n",
       "    }\n",
       "</style>\n",
       "<table border=\"1\" class=\"dataframe\">\n",
       "  <thead>\n",
       "    <tr style=\"text-align: right;\">\n",
       "      <th></th>\n",
       "      <th>diagnosis</th>\n",
       "      <th>radius_mean</th>\n",
       "      <th>texture_mean</th>\n",
       "      <th>perimeter_mean</th>\n",
       "      <th>area_mean</th>\n",
       "      <th>smoothness_mean</th>\n",
       "      <th>compactness_mean</th>\n",
       "      <th>concavity_mean</th>\n",
       "      <th>concave points_mean</th>\n",
       "      <th>symmetry_mean</th>\n",
       "      <th>...</th>\n",
       "      <th>radius_worst</th>\n",
       "      <th>texture_worst</th>\n",
       "      <th>perimeter_worst</th>\n",
       "      <th>area_worst</th>\n",
       "      <th>smoothness_worst</th>\n",
       "      <th>compactness_worst</th>\n",
       "      <th>concavity_worst</th>\n",
       "      <th>concave points_worst</th>\n",
       "      <th>symmetry_worst</th>\n",
       "      <th>fractal_dimension_worst</th>\n",
       "    </tr>\n",
       "  </thead>\n",
       "  <tbody>\n",
       "    <tr>\n",
       "      <th>0</th>\n",
       "      <td>M</td>\n",
       "      <td>17.99</td>\n",
       "      <td>10.38</td>\n",
       "      <td>122.80</td>\n",
       "      <td>1001.0</td>\n",
       "      <td>0.11840</td>\n",
       "      <td>0.27760</td>\n",
       "      <td>0.3001</td>\n",
       "      <td>0.14710</td>\n",
       "      <td>0.2419</td>\n",
       "      <td>...</td>\n",
       "      <td>25.38</td>\n",
       "      <td>17.33</td>\n",
       "      <td>184.60</td>\n",
       "      <td>2019.0</td>\n",
       "      <td>0.1622</td>\n",
       "      <td>0.6656</td>\n",
       "      <td>0.7119</td>\n",
       "      <td>0.2654</td>\n",
       "      <td>0.4601</td>\n",
       "      <td>0.11890</td>\n",
       "    </tr>\n",
       "    <tr>\n",
       "      <th>1</th>\n",
       "      <td>M</td>\n",
       "      <td>20.57</td>\n",
       "      <td>17.77</td>\n",
       "      <td>132.90</td>\n",
       "      <td>1326.0</td>\n",
       "      <td>0.08474</td>\n",
       "      <td>0.07864</td>\n",
       "      <td>0.0869</td>\n",
       "      <td>0.07017</td>\n",
       "      <td>0.1812</td>\n",
       "      <td>...</td>\n",
       "      <td>24.99</td>\n",
       "      <td>23.41</td>\n",
       "      <td>158.80</td>\n",
       "      <td>1956.0</td>\n",
       "      <td>0.1238</td>\n",
       "      <td>0.1866</td>\n",
       "      <td>0.2416</td>\n",
       "      <td>0.1860</td>\n",
       "      <td>0.2750</td>\n",
       "      <td>0.08902</td>\n",
       "    </tr>\n",
       "    <tr>\n",
       "      <th>2</th>\n",
       "      <td>M</td>\n",
       "      <td>19.69</td>\n",
       "      <td>21.25</td>\n",
       "      <td>130.00</td>\n",
       "      <td>1203.0</td>\n",
       "      <td>0.10960</td>\n",
       "      <td>0.15990</td>\n",
       "      <td>0.1974</td>\n",
       "      <td>0.12790</td>\n",
       "      <td>0.2069</td>\n",
       "      <td>...</td>\n",
       "      <td>23.57</td>\n",
       "      <td>25.53</td>\n",
       "      <td>152.50</td>\n",
       "      <td>1709.0</td>\n",
       "      <td>0.1444</td>\n",
       "      <td>0.4245</td>\n",
       "      <td>0.4504</td>\n",
       "      <td>0.2430</td>\n",
       "      <td>0.3613</td>\n",
       "      <td>0.08758</td>\n",
       "    </tr>\n",
       "    <tr>\n",
       "      <th>3</th>\n",
       "      <td>M</td>\n",
       "      <td>11.42</td>\n",
       "      <td>20.38</td>\n",
       "      <td>77.58</td>\n",
       "      <td>386.1</td>\n",
       "      <td>0.14250</td>\n",
       "      <td>0.28390</td>\n",
       "      <td>0.2414</td>\n",
       "      <td>0.10520</td>\n",
       "      <td>0.2597</td>\n",
       "      <td>...</td>\n",
       "      <td>14.91</td>\n",
       "      <td>26.50</td>\n",
       "      <td>98.87</td>\n",
       "      <td>567.7</td>\n",
       "      <td>0.2098</td>\n",
       "      <td>0.8663</td>\n",
       "      <td>0.6869</td>\n",
       "      <td>0.2575</td>\n",
       "      <td>0.6638</td>\n",
       "      <td>0.17300</td>\n",
       "    </tr>\n",
       "    <tr>\n",
       "      <th>4</th>\n",
       "      <td>M</td>\n",
       "      <td>20.29</td>\n",
       "      <td>14.34</td>\n",
       "      <td>135.10</td>\n",
       "      <td>1297.0</td>\n",
       "      <td>0.10030</td>\n",
       "      <td>0.13280</td>\n",
       "      <td>0.1980</td>\n",
       "      <td>0.10430</td>\n",
       "      <td>0.1809</td>\n",
       "      <td>...</td>\n",
       "      <td>22.54</td>\n",
       "      <td>16.67</td>\n",
       "      <td>152.20</td>\n",
       "      <td>1575.0</td>\n",
       "      <td>0.1374</td>\n",
       "      <td>0.2050</td>\n",
       "      <td>0.4000</td>\n",
       "      <td>0.1625</td>\n",
       "      <td>0.2364</td>\n",
       "      <td>0.07678</td>\n",
       "    </tr>\n",
       "  </tbody>\n",
       "</table>\n",
       "<p>5 rows × 31 columns</p>\n",
       "</div>"
      ],
      "text/plain": [
       "  diagnosis  radius_mean  texture_mean  perimeter_mean  area_mean  \\\n",
       "0         M        17.99         10.38          122.80     1001.0   \n",
       "1         M        20.57         17.77          132.90     1326.0   \n",
       "2         M        19.69         21.25          130.00     1203.0   \n",
       "3         M        11.42         20.38           77.58      386.1   \n",
       "4         M        20.29         14.34          135.10     1297.0   \n",
       "\n",
       "   smoothness_mean  compactness_mean  concavity_mean  concave points_mean  \\\n",
       "0          0.11840           0.27760          0.3001              0.14710   \n",
       "1          0.08474           0.07864          0.0869              0.07017   \n",
       "2          0.10960           0.15990          0.1974              0.12790   \n",
       "3          0.14250           0.28390          0.2414              0.10520   \n",
       "4          0.10030           0.13280          0.1980              0.10430   \n",
       "\n",
       "   symmetry_mean  ...  radius_worst  texture_worst  perimeter_worst  \\\n",
       "0         0.2419  ...         25.38          17.33           184.60   \n",
       "1         0.1812  ...         24.99          23.41           158.80   \n",
       "2         0.2069  ...         23.57          25.53           152.50   \n",
       "3         0.2597  ...         14.91          26.50            98.87   \n",
       "4         0.1809  ...         22.54          16.67           152.20   \n",
       "\n",
       "   area_worst  smoothness_worst  compactness_worst  concavity_worst  \\\n",
       "0      2019.0            0.1622             0.6656           0.7119   \n",
       "1      1956.0            0.1238             0.1866           0.2416   \n",
       "2      1709.0            0.1444             0.4245           0.4504   \n",
       "3       567.7            0.2098             0.8663           0.6869   \n",
       "4      1575.0            0.1374             0.2050           0.4000   \n",
       "\n",
       "   concave points_worst  symmetry_worst  fractal_dimension_worst  \n",
       "0                0.2654          0.4601                  0.11890  \n",
       "1                0.1860          0.2750                  0.08902  \n",
       "2                0.2430          0.3613                  0.08758  \n",
       "3                0.2575          0.6638                  0.17300  \n",
       "4                0.1625          0.2364                  0.07678  \n",
       "\n",
       "[5 rows x 31 columns]"
      ]
     },
     "execution_count": 4,
     "metadata": {},
     "output_type": "execute_result"
    }
   ],
   "source": [
    "remove_columns = ['id','Unnamed: 32']\n",
    "df.drop(columns=remove_columns, inplace=True)\n",
    "df = df[~df.isin([np.nan, np.inf, -np.inf]).any(axis=1)]\n",
    "df.head()"
   ]
  },
  {
   "cell_type": "code",
   "execution_count": 6,
   "metadata": {},
   "outputs": [
    {
     "name": "stdout",
     "output_type": "stream",
     "text": [
      "B    357\n",
      "M    212\n",
      "Name: diagnosis, dtype: int64\n"
     ]
    }
   ],
   "source": [
    "targets = [\n",
    "    'diagnosis'\n",
    "]\n",
    "\n",
    "for x in targets:\n",
    "    print(df[x].value_counts())\n"
   ]
  },
  {
   "cell_type": "code",
   "execution_count": 7,
   "metadata": {},
   "outputs": [],
   "source": [
    "# encode the labels of the targets and create decoding dict\n",
    "label_encoders = []\n",
    "encoded_to_labels = []\n",
    "for x in range(len(targets)):\n",
    "    label_encoders.append(LabelEncoder())\n",
    "    df[targets[x]] = label_encoders[x].fit_transform(df[targets[x]])\n",
    "    encoded_to_labels.append({encoded: label for label, encoded in zip(label_encoders[x].classes_, label_encoders[x].transform(label_encoders[x].classes_))})\n",
    "\n"
   ]
  },
  {
   "cell_type": "code",
   "execution_count": 8,
   "metadata": {},
   "outputs": [
    {
     "name": "stdout",
     "output_type": "stream",
     "text": [
      "[{0: 'B', 1: 'M'}]\n"
     ]
    }
   ],
   "source": [
    "print(encoded_to_labels)"
   ]
  },
  {
   "cell_type": "markdown",
   "metadata": {},
   "source": [
    "# Beyond here you dont have to mess with the dataframe anymore."
   ]
  },
  {
   "cell_type": "markdown",
   "metadata": {},
   "source": [
    "### Structure data for pytorch and split into training and testing splits"
   ]
  },
  {
   "cell_type": "code",
   "execution_count": 9,
   "metadata": {},
   "outputs": [
    {
     "name": "stdout",
     "output_type": "stream",
     "text": [
      "Train length: 455, Test length: 114\n"
     ]
    }
   ],
   "source": [
    "# dataset wrapper for the dataframe. Just a way to structure the data that pytorch likes and needs to then wrap with dataloader.\n",
    "\n",
    "class DatasetWrapper(Dataset):\n",
    "    def __init__(self, df : pd.DataFrame, target : str):\n",
    "        self.n = df.shape[0]\n",
    "        \n",
    "        self.y = df[target].astype(np.int64).values\n",
    "\n",
    "        self.scalar = StandardScaler()\n",
    "        self.x = self.scalar.fit_transform(df.drop(columns=targets)).astype(np.float32)\n",
    "\n",
    "    def __len__(self):\n",
    "        return self.n\n",
    "    \n",
    "    def __getitem__(self, index):\n",
    "        return self.x[index], self.y[index]\n",
    "    \n",
    "exp_dataset = DatasetWrapper(df, target=targets) # UPDATE for your experiments\n",
    "\n",
    "# Split training and testing samples\n",
    "train_size = int(0.8*len(exp_dataset)) # Use a different ratio if you want\n",
    "test_size = len(exp_dataset) - train_size\n",
    "train_dataset, test_dataset = torch.utils.data.random_split(exp_dataset, [train_size, test_size])\n",
    "\n",
    "print(f\"Train length: {len(train_dataset)}, Test length: {len(test_dataset)}\") # See the ratios\n",
    "\n",
    "batch_size = 256 #Hyperparameter that you should try messing with depending on the size of your dataset. The smaller it is, the more stochastic and chaotic the training gets.\n",
    "\n",
    "# Wrapping with dataloader so that its easy to extract batches from the train and test subsets\n",
    "train_dataloader = DataLoader(train_dataset, batch_size=batch_size, shuffle=True) \n",
    "test_dataloader = DataLoader(test_dataset, batch_size=batch_size, shuffle=True) "
   ]
  },
  {
   "cell_type": "markdown",
   "metadata": {},
   "source": [
    "## Model instantiation"
   ]
  },
  {
   "cell_type": "code",
   "execution_count": 10,
   "metadata": {},
   "outputs": [
    {
     "name": "stdout",
     "output_type": "stream",
     "text": [
      "Features: 30\n",
      "Targets: 1\n",
      "Classes per Target: [2]\n"
     ]
    }
   ],
   "source": [
    "num_features =  len(train_dataset[0][0])\n",
    "num_targets =   len(train_dataset[0][1])\n",
    "classes_per_target = [len(df[t].unique()) for t in targets ]\n",
    "\n",
    "print(f\"Features: {num_features}\")\n",
    "print(f\"Targets: {num_targets}\")\n",
    "print(f\"Classes per Target: {classes_per_target}\")"
   ]
  },
  {
   "cell_type": "code",
   "execution_count": 11,
   "metadata": {},
   "outputs": [],
   "source": [
    "#Updated with f1\n",
    "model = Classifier(n_features=num_features, \n",
    "                                   pre_norm_on=True, \n",
    "                                   rff_on=True, \n",
    "                                   forward_expansion=1, \n",
    "                                   mlp_scale_classification=2, \n",
    "                                   targets_classes=classes_per_target\n",
    "                                   ).to(device_in_use) # Instantiate the model\n"
   ]
  },
  {
   "cell_type": "markdown",
   "metadata": {},
   "source": [
    "## Loss functions"
   ]
  },
  {
   "cell_type": "code",
   "execution_count": 12,
   "metadata": {},
   "outputs": [],
   "source": [
    "loss_functions = []\n",
    "#This loop could easily be adapted to us BinaryCrossEntropy for binary class and Cross for multi class\n",
    "for x in targets:\n",
    "    loss_functions.append(nn.CrossEntropyLoss())\n",
    "\n",
    "optimizer = torch.optim.Adam(params=model.parameters(), lr = 0.001) # Maybe try messing around with optimizers. try other torch optimizers with different configurations.\n"
   ]
  },
  {
   "cell_type": "markdown",
   "metadata": {},
   "source": [
    "## Train Test Loop"
   ]
  },
  {
   "cell_type": "code",
   "execution_count": 13,
   "metadata": {},
   "outputs": [],
   "source": [
    "epochs = 40 #Set the number of epochs"
   ]
  },
  {
   "cell_type": "code",
   "execution_count": 14,
   "metadata": {},
   "outputs": [
    {
     "name": "stdout",
     "output_type": "stream",
     "text": [
      "Epoch [ 1/40]   | Train: Loss 0.76, diagnosis Accuracy: 0.38 | Test: Loss 0.72, diagnosis Accuracy: 0.33, diagnosis F1: 0.17\n",
      "Epoch [ 2/40]   | Train: Loss 0.70, diagnosis Accuracy: 0.48 | Test: Loss 0.66, diagnosis Accuracy: 0.67, diagnosis F1: 0.53\n",
      "Epoch [ 3/40]   | Train: Loss 0.66, diagnosis Accuracy: 0.62 | Test: Loss 0.64, diagnosis Accuracy: 0.67, diagnosis F1: 0.53\n",
      "Epoch [ 4/40]   | Train: Loss 0.67, diagnosis Accuracy: 0.62 | Test: Loss 0.63, diagnosis Accuracy: 0.67, diagnosis F1: 0.53\n",
      "Epoch [ 5/40]   | Train: Loss 0.67, diagnosis Accuracy: 0.62 | Test: Loss 0.63, diagnosis Accuracy: 0.67, diagnosis F1: 0.53\n",
      "Epoch [ 6/40]   | Train: Loss 0.67, diagnosis Accuracy: 0.62 | Test: Loss 0.63, diagnosis Accuracy: 0.67, diagnosis F1: 0.53\n",
      "Epoch [ 7/40]   | Train: Loss 0.66, diagnosis Accuracy: 0.62 | Test: Loss 0.63, diagnosis Accuracy: 0.67, diagnosis F1: 0.53\n",
      "Epoch [ 8/40]   | Train: Loss 0.66, diagnosis Accuracy: 0.62 | Test: Loss 0.63, diagnosis Accuracy: 0.67, diagnosis F1: 0.53\n",
      "Epoch [ 9/40]   | Train: Loss 0.65, diagnosis Accuracy: 0.62 | Test: Loss 0.63, diagnosis Accuracy: 0.67, diagnosis F1: 0.53\n",
      "Epoch [10/40]   | Train: Loss 0.65, diagnosis Accuracy: 0.62 | Test: Loss 0.63, diagnosis Accuracy: 0.67, diagnosis F1: 0.53\n",
      "Epoch [11/40]   | Train: Loss 0.64, diagnosis Accuracy: 0.62 | Test: Loss 0.63, diagnosis Accuracy: 0.67, diagnosis F1: 0.53\n",
      "Epoch [12/40]   | Train: Loss 0.63, diagnosis Accuracy: 0.62 | Test: Loss 0.63, diagnosis Accuracy: 0.67, diagnosis F1: 0.53\n",
      "Epoch [13/40]   | Train: Loss 0.63, diagnosis Accuracy: 0.62 | Test: Loss 0.62, diagnosis Accuracy: 0.67, diagnosis F1: 0.53\n",
      "Epoch [14/40]   | Train: Loss 0.61, diagnosis Accuracy: 0.63 | Test: Loss 0.61, diagnosis Accuracy: 0.67, diagnosis F1: 0.53\n",
      "Epoch [15/40]   | Train: Loss 0.60, diagnosis Accuracy: 0.63 | Test: Loss 0.59, diagnosis Accuracy: 0.67, diagnosis F1: 0.53\n",
      "Epoch [16/40]   | Train: Loss 0.59, diagnosis Accuracy: 0.63 | Test: Loss 0.58, diagnosis Accuracy: 0.67, diagnosis F1: 0.53\n",
      "Epoch [17/40]   | Train: Loss 0.57, diagnosis Accuracy: 0.65 | Test: Loss 0.56, diagnosis Accuracy: 0.68, diagnosis F1: 0.55\n",
      "Epoch [18/40]   | Train: Loss 0.54, diagnosis Accuracy: 0.67 | Test: Loss 0.53, diagnosis Accuracy: 0.70, diagnosis F1: 0.61\n",
      "Epoch [19/40]   | Train: Loss 0.50, diagnosis Accuracy: 0.78 | Test: Loss 0.51, diagnosis Accuracy: 0.78, diagnosis F1: 0.75\n",
      "Epoch [20/40]   | Train: Loss 0.46, diagnosis Accuracy: 0.89 | Test: Loss 0.48, diagnosis Accuracy: 0.87, diagnosis F1: 0.86\n",
      "Epoch [21/40]   | Train: Loss 0.42, diagnosis Accuracy: 0.90 | Test: Loss 0.45, diagnosis Accuracy: 0.86, diagnosis F1: 0.86\n",
      "Epoch [22/40]   | Train: Loss 0.38, diagnosis Accuracy: 0.91 | Test: Loss 0.42, diagnosis Accuracy: 0.87, diagnosis F1: 0.87\n",
      "Epoch [23/40]   | Train: Loss 0.33, diagnosis Accuracy: 0.92 | Test: Loss 0.40, diagnosis Accuracy: 0.85, diagnosis F1: 0.85\n",
      "Epoch [24/40]   | Train: Loss 0.29, diagnosis Accuracy: 0.93 | Test: Loss 0.38, diagnosis Accuracy: 0.87, diagnosis F1: 0.87\n",
      "Epoch [25/40]   | Train: Loss 0.25, diagnosis Accuracy: 0.94 | Test: Loss 0.37, diagnosis Accuracy: 0.87, diagnosis F1: 0.87\n",
      "Epoch [26/40]   | Train: Loss 0.21, diagnosis Accuracy: 0.94 | Test: Loss 0.36, diagnosis Accuracy: 0.89, diagnosis F1: 0.89\n",
      "Epoch [27/40]   | Train: Loss 0.17, diagnosis Accuracy: 0.96 | Test: Loss 0.35, diagnosis Accuracy: 0.87, diagnosis F1: 0.87\n",
      "Epoch [28/40]   | Train: Loss 0.14, diagnosis Accuracy: 0.96 | Test: Loss 0.36, diagnosis Accuracy: 0.87, diagnosis F1: 0.87\n",
      "Epoch [29/40]   | Train: Loss 0.11, diagnosis Accuracy: 0.97 | Test: Loss 0.36, diagnosis Accuracy: 0.86, diagnosis F1: 0.86\n",
      "Epoch [30/40]   | Train: Loss 0.09, diagnosis Accuracy: 0.98 | Test: Loss 0.37, diagnosis Accuracy: 0.88, diagnosis F1: 0.88\n",
      "Epoch [31/40]   | Train: Loss 0.07, diagnosis Accuracy: 0.99 | Test: Loss 0.39, diagnosis Accuracy: 0.87, diagnosis F1: 0.87\n",
      "Epoch [32/40]   | Train: Loss 0.06, diagnosis Accuracy: 0.99 | Test: Loss 0.41, diagnosis Accuracy: 0.87, diagnosis F1: 0.87\n",
      "Epoch [33/40]   | Train: Loss 0.05, diagnosis Accuracy: 1.00 | Test: Loss 0.43, diagnosis Accuracy: 0.86, diagnosis F1: 0.86\n",
      "Epoch [34/40]   | Train: Loss 0.04, diagnosis Accuracy: 1.00 | Test: Loss 0.45, diagnosis Accuracy: 0.85, diagnosis F1: 0.85\n",
      "Epoch [35/40]   | Train: Loss 0.04, diagnosis Accuracy: 1.00 | Test: Loss 0.47, diagnosis Accuracy: 0.85, diagnosis F1: 0.85\n",
      "Epoch [36/40]   | Train: Loss 0.03, diagnosis Accuracy: 1.00 | Test: Loss 0.49, diagnosis Accuracy: 0.85, diagnosis F1: 0.85\n",
      "Epoch [37/40]   | Train: Loss 0.03, diagnosis Accuracy: 1.00 | Test: Loss 0.51, diagnosis Accuracy: 0.86, diagnosis F1: 0.86\n",
      "Epoch [38/40]   | Train: Loss 0.03, diagnosis Accuracy: 1.00 | Test: Loss 0.52, diagnosis Accuracy: 0.86, diagnosis F1: 0.86\n",
      "Epoch [39/40]   | Train: Loss 0.03, diagnosis Accuracy: 1.00 | Test: Loss 0.53, diagnosis Accuracy: 0.86, diagnosis F1: 0.86\n",
      "Epoch [40/40]   | Train: Loss 0.03, diagnosis Accuracy: 1.00 | Test: Loss 0.55, diagnosis Accuracy: 0.87, diagnosis F1: 0.87\n"
     ]
    }
   ],
   "source": [
    "train_losses = []\n",
    "test_losses = []\n",
    "train_accuracies = [[] for _ in range(num_targets)]\n",
    "test_accuracies =  [[] for _ in range(num_targets)]\n",
    "\n",
    "for t in range(epochs):\n",
    "  train_loss, train_accuracy= train(train_dataloader, model, loss_functions, optimizer, device_in_use=device_in_use)\n",
    "  test_loss, test_accuracy, all_predictions, all_targets, f1 = test(test_dataloader, model, loss_functions, device_in_use=device_in_use)\n",
    "\n",
    "  #Losses\n",
    "  train_losses.append(train_loss)\n",
    "  test_losses.append(test_loss)\n",
    "  #Accuracies\n",
    "  for i in range(num_targets):\n",
    "    train_accuracies[i].append(train_accuracy[i])\n",
    "    test_accuracies[i].append(test_accuracy[i])\n",
    " \n",
    "  # Formatting for easier reading\n",
    "  epoch_str = f\"Epoch [{t+1:2}/{epochs}]\"\n",
    "\n",
    "  train_metrics = f\"Train: Loss {train_loss:.2f}\"\n",
    "  for target, Acc in zip(targets, train_accuracy):\n",
    "    train_metrics += f\", {target} Accuracy: {Acc:.2f}\"\n",
    "  \n",
    "  test_metrics = f\"Test: Loss {test_loss:.2f}\"\n",
    "  for target, Acc, fone in zip(targets, test_accuracy, f1):\n",
    "    test_metrics += f\", {target} Accuracy: {Acc:.2f}, {target} F1: {fone:.2f}\"\n",
    "\n",
    "  print(f\"{epoch_str:15} | {train_metrics} | {test_metrics}\")\n"
   ]
  },
  {
   "cell_type": "code",
   "execution_count": 15,
   "metadata": {},
   "outputs": [
    {
     "data": {
      "image/png": "[encoded data removed]",
      "text/plain": [
       "<Figure size 1500x500 with 2 Axes>"
      ]
     },
     "metadata": {},
     "output_type": "display_data"
    }
   ],
   "source": [
    "plot_num = 1\n",
    "# Plotting the loss curves\n",
    "plt.figure(figsize=(15, 5))\n",
    "plt.subplot(1, 3, plot_num)\n",
    "plt.plot(range(1, epochs+1), train_losses, label='Train Loss')\n",
    "plt.plot(range(1, epochs+1), [l for l in test_losses], label='Test Loss')\n",
    "plt.xlabel('Epoch')\n",
    "plt.ylabel('Loss')\n",
    "plt.title('Training and Test Loss Curve')\n",
    "plt.legend()\n",
    "plot_num+=1\n",
    "\n",
    "for i in range(num_targets):\n",
    "    plt.subplot(1, 3, plot_num)\n",
    "    plt.plot(range(1, epochs+1), train_accuracies[i], label='Train Accuracy')\n",
    "    plt.plot(range(1, epochs+1), test_accuracies[i], label='Test Accuracy')\n",
    "    plt.xlabel('Epoch')\n",
    "    plt.ylabel('Accuracy')\n",
    "    plt.title(f'Training and Test Accuracy Curve for {targets[i]}')\n",
    "    plt.legend()\n",
    "    plot_num+=1\n",
    "\n",
    "\n",
    "plt.tight_layout()\n",
    "plt.tight_layout()\n",
    "plt.show()\n"
   ]
  },
  {
   "cell_type": "code",
   "execution_count": 16,
   "metadata": {},
   "outputs": [],
   "source": [
    "# actual_labels = [encoded_to_labels[i] for i in sorted(list(set(all_targets[i] + all_predictions[i])))]\n",
    "# conf_matrix_1 = confusion_matrix(all_targets[i], all_predictions[i])\n",
    "# plt.figure(figsize=(8, 6))\n",
    "# sns.heatmap(conf_matrix_1, annot=True, fmt=\"d\", cmap=\"Blues\", cbar=False,\n",
    "#             xticklabels=actual_labels, yticklabels=actual_labels)\n",
    "# plt.xlabel('Predicted')\n",
    "# plt.ylabel('Actual')\n",
    "# plt.title(f'Confusion Matrix for {targets[0]}')\n",
    "# plt.show()"
   ]
  },
  {
   "cell_type": "code",
   "execution_count": null,
   "metadata": {},
   "outputs": [],
   "source": []
  },
  {
   "cell_type": "code",
   "execution_count": null,
   "metadata": {},
   "outputs": [],
   "source": []
  }
 ],
 "metadata": {
  "kernelspec": {
   "display_name": "ml-env",
   "language": "python",
   "name": "python3"
  },
  "language_info": {
   "codemirror_mode": {
    "name": "ipython",
    "version": 3
   },
   "file_extension": ".py",
   "mimetype": "text/x-python",
   "name": "python",
   "nbconvert_exporter": "python",
   "pygments_lexer": "ipython3",
   "version": "3.11.4"
  },
  "orig_nbformat": 4
 },
 "nbformat": 4,
 "nbformat_minor": 2
}
