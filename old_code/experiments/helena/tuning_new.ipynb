{
 "cells": [
  {
   "cell_type": "code",
   "execution_count": 1,
   "metadata": {},
   "outputs": [
    {
     "name": "stderr",
     "output_type": "stream",
     "text": [
      "/home/cscadmin/miniconda3/envs/torch-env/lib/python3.11/site-packages/tqdm/auto.py:21: TqdmWarning: IProgress not found. Please update jupyter and ipywidgets. See https://ipywidgets.readthedocs.io/en/stable/user_install.html\n",
      "  from .autonotebook import tqdm as notebook_tqdm\n"
     ]
    }
   ],
   "source": [
    "import sys\n",
    "sys.path.insert(0, '/home/cscadmin/CyberResearch/CAT-Transformer/model/')\n",
    "from updatedModel import CATTransformer, Combined_Dataset, train, test\n",
    "import torch\n",
    "import torch.nn as nn\n",
    "import pandas as pd\n",
    "import numpy as np\n",
    "from torch.utils.data import Dataset, DataLoader\n",
    "import matplotlib.pyplot as plt\n",
    "from rff.layers import GaussianEncoding #pip install random-fourier-features-pytorch\n",
    "from sklearn.model_selection import train_test_split\n",
    "from sklearn.metrics import accuracy_score, f1_score, recall_score, confusion_matrix\n",
    "from sklearn.preprocessing import StandardScaler, LabelEncoder\n",
    "import os\n",
    "import optuna\n",
    "from optuna.trial import TrialState"
   ]
  },
  {
   "cell_type": "code",
   "execution_count": 2,
   "metadata": {},
   "outputs": [
    {
     "name": "stdout",
     "output_type": "stream",
     "text": [
      "GPU is available and being used\n"
     ]
    }
   ],
   "source": [
    "# Run regardless if you do or do not have GPU so all tensors are moved to right location later on\n",
    "if torch.cuda.is_available():\n",
    "    device_in_use = torch.device(\"cuda\")\n",
    "    print(\"GPU is available and being used\")\n",
    "else:\n",
    "    device_in_use = torch.device(\"cpu\")\n",
    "    print(\"GPU is not available, using CPU instead\")"
   ]
  },
  {
   "cell_type": "code",
   "execution_count": 4,
   "metadata": {},
   "outputs": [
    {
     "name": "stdout",
     "output_type": "stream",
     "text": [
      "target classes [100]\n"
     ]
    }
   ],
   "source": [
    "# df_train = pd.read_csv(r'C:\\Users\\smbm2\\projects\\CAT-Transformer\\datasets\\helena\\train.csv')\n",
    "# df_test = pd.read_csv(r'C:\\Users\\smbm2\\projects\\CAT-Transformer\\datasets\\helena\\test.csv')\n",
    "# df_val = pd.read_csv(r'C:\\Users\\smbm2\\projects\\CAT-Transformer\\datasets\\helena\\validation.csv') #READ FROM RIGHT SPOT\n",
    "\n",
    "# df_train = pd.read_csv('/home/warin/projects/CAT-Transformer/datasets/helena/train.csv')\n",
    "# df_test = pd.read_csv('/home/warin/projects/CAT-Transformer/datasets/helena/test.csv')\n",
    "# df_val = pd.read_csv('/home/warin/projects/CAT-Transformer/datasets/helena/validation.csv')\n",
    "\n",
    "\n",
    "df_train = pd.read_csv('/home/cscadmin/CyberResearch/CAT-Transformer/datasets/helena/train.csv')\n",
    "df_test = pd.read_csv('/home/cscadmin/CyberResearch/CAT-Transformer/datasets/helena/test.csv')\n",
    "df_val = pd.read_csv('/home/cscadmin/CyberResearch/CAT-Transformer/datasets/helena/validation.csv')\n",
    "\n",
    "\n",
    "# df_train.columns\n",
    "cont_columns = ['V1', 'V2', 'V3', 'V4', 'V5', 'V6', 'V7', 'V8', 'V9', 'V10',\n",
    "       'V11', 'V12', 'V13', 'V14', 'V15', 'V16', 'V17', 'V18', 'V19', 'V20',\n",
    "       'V21', 'V22', 'V23', 'V24', 'V25', 'V26', 'V27']\n",
    "target = ['class']\n",
    "\n",
    "#CHECKING TO MAKE SURE YOUR LIST IS CORRECT (NO NEED TO TOUCH)\n",
    "yourlist = cont_columns + target\n",
    "yourlist.sort()\n",
    "oglist = list(df_train.columns)\n",
    "oglist.sort()\n",
    "\n",
    "assert(yourlist == oglist), \"You may of spelled feature name wrong or you forgot to put one of them in the list\"\n",
    "\n",
    "target_classes = [max(len(df_train[target].value_counts()), len(df_val[target].value_counts()),len(df_test[target].value_counts()))]\n",
    "print(\"target classes\",target_classes)\n",
    "# Create a StandardScaler and fit it to the cont features\n",
    "scaler = StandardScaler()\n",
    "scaler.fit(df_train[cont_columns])\n",
    "\n",
    "# Transform the training, test, and validation datasets\n",
    "df_train[cont_columns] = scaler.transform(df_train[cont_columns])\n",
    "df_test[cont_columns] = scaler.transform(df_test[cont_columns])\n",
    "df_val[cont_columns] = scaler.transform(df_val[cont_columns])\n",
    "\n",
    "#Wrapping in Dataset\n",
    "train_dataset = Combined_Dataset(df_train, cat_columns=[], num_columns=cont_columns, task1_column='class')\n",
    "val_dataset = Combined_Dataset(df_val, cat_columns=[], num_columns=cont_columns, task1_column='class')\n",
    "test_dataset = Combined_Dataset(df_test, cat_columns=[], num_columns=cont_columns, task1_column='class')\n",
    "\n",
    "#This is a hyperparameter that is not tuned. Maybe mess with what makes sense here\n",
    "batch_size = 256\n",
    "\n",
    "# Wrapping with DataLoader for easy batch extraction\n",
    "train_dataloader = DataLoader(train_dataset, batch_size=batch_size, shuffle=True)\n",
    "val_dataloader = DataLoader(val_dataset, batch_size=batch_size, shuffle=True)\n",
    "test_dataloader = DataLoader(test_dataset, batch_size=batch_size, shuffle=True)"
   ]
  },
  {
   "cell_type": "markdown",
   "metadata": {},
   "source": [
    "# RUN EXPERIMENTS\n",
    "\n",
    "1. Using Optuna to optimize CAT-Transformers hyperparameters for your dataset"
   ]
  },
  {
   "cell_type": "code",
   "execution_count": 5,
   "metadata": {},
   "outputs": [],
   "source": [
    "# Define the early stopping mechanism\n",
    "class EarlyStopping:\n",
    "    def __init__(self, patience=5):\n",
    "        self.patience = patience\n",
    "        self.counter = 0\n",
    "        self.best_metric = float('-inf')\n",
    "        self.early_stop = False\n",
    "\n",
    "    def __call__(self, metric):\n",
    "        if metric > self.best_metric:\n",
    "            self.best_metric = metric\n",
    "            self.counter = 0\n",
    "        else:\n",
    "            self.counter += 1\n",
    "            if self.counter >= self.patience:\n",
    "                self.early_stop = True\n",
    "\n",
    "# Function to log results to a text file\n",
    "def log_to_file(filename, text):\n",
    "    with open(filename, 'a') as f:\n",
    "        f.write(text + '\\n')\n",
    "\n",
    "def objective(trial):\n",
    "    trial_number = trial.number\n",
    "\n",
    "    # Define hyperparameters to search over\n",
    "\n",
    "    alpha = trial.suggest_float('alpha', 0.1, 5, step=0.1)\n",
    "    embed_size = trial.suggest_int('embed_size', 100, 320, step=20)\n",
    "    num_layers = trial.suggest_int('num_layers', 1,2)\n",
    "    heads = trial.suggest_categorical('heads', [1,2,5,10,20])\n",
    "    forward_expansion = trial.suggest_int('forward_expansion', 2,8)\n",
    "    decoder_dropout = trial.suggest_float('decoder_dropout', 0, .5, step=.1)\n",
    "    classification_dropout = trial.suggest_float('classificiation_dropout', 0, 0.5, step=0.1)\n",
    "    pre_norm_on = trial.suggest_categorical('pre_norm_on', [True, False])\n",
    "    mlp_scale_classification = trial.suggest_int('mlp_scale_classification', 2, 8)\n",
    "    learning_rate = trial.suggest_float('learning_rate', 0.00001, 0.1, log=True)\n",
    "\n",
    "    num_epochs = 100\n",
    "\n",
    "\n",
    "    # Create your model with the sampled hyperparameters\n",
    "    model = CATTransformer(alpha=alpha,\n",
    "                           embed_size=embed_size,\n",
    "                           n_cont=len(cont_columns),\n",
    "                           cat_feat=[],\n",
    "                           num_layers=num_layers,\n",
    "                           heads=heads,\n",
    "                           forward_expansion=forward_expansion,\n",
    "                           decoder_dropout=decoder_dropout,\n",
    "                           classification_dropout=classification_dropout,\n",
    "                           pre_norm_on=pre_norm_on,\n",
    "                           mlp_scale_classification=mlp_scale_classification,\n",
    "                           regression_on=False,\n",
    "                           targets_classes=target_classes).to(device_in_use)\n",
    "\n",
    "    # Define loss function and optimizer\n",
    "    loss_function = nn.CrossEntropyLoss()\n",
    "    optimizer = torch.optim.Adam(model.parameters(), lr=learning_rate)\n",
    "\n",
    "    # Initialize early stopping\n",
    "    early_stopping = EarlyStopping(patience=5)  # Adjust patience as needed\n",
    "\n",
    "    # Training loop with a large number of epochs\n",
    "    for epoch in range(num_epochs):\n",
    "        train_loss, train_acc = train(regression_on=False, \n",
    "                                   dataloader=train_dataloader, \n",
    "                                   model=model, \n",
    "                                   loss_function=loss_function, \n",
    "                                   optimizer=optimizer, \n",
    "                                   device_in_use=device_in_use)\n",
    "        val_loss, val_acc = test(regression_on=False,\n",
    "                               dataloader=val_dataloader,\n",
    "                               model=model,\n",
    "                               loss_function=loss_function,\n",
    "                               device_in_use=device_in_use)\n",
    "        \n",
    "        # Check if we should early stop based on validation accuracy\n",
    "        if early_stopping(val_acc):\n",
    "            break\n",
    "    \n",
    "    # Log the final test accuracy for this trial to a shared log file\n",
    "    final_log = f\"Trial {trial_number} completed. Validation Accuracy = {val_acc:.4f}\"\n",
    "    log_to_file('all_trials_log.txt', final_log)\n",
    "\n",
    "    # Return the test accuracy as the objective to optimize\n",
    "    return val_acc"
   ]
  },
  {
   "cell_type": "code",
   "execution_count": 6,
   "metadata": {},
   "outputs": [
    {
     "name": "stderr",
     "output_type": "stream",
     "text": [
      "[I 2023-12-03 21:38:41,082] A new study created in memory with name: no-name-833634f7-15b0-44dc-9800-23d9b267b04a\n",
      "Best trial: 0. Best value: 0.0595153:   2%|▏         | 1/50 [07:14<5:54:44, 434.38s/it]"
     ]
    },
    {
     "name": "stdout",
     "output_type": "stream",
     "text": [
      "[I 2023-12-03 21:45:55,463] Trial 0 finished with value: 0.05951528786174456 and parameters: {'alpha': 2.1, 'embed_size': 260, 'num_layers': 1, 'heads': 1, 'forward_expansion': 8, 'decoder_dropout': 0.1, 'classificiation_dropout': 0.4, 'pre_norm_on': False, 'mlp_scale_classification': 6, 'learning_rate': 0.0009529101776362234}. Best is trial 0 with value: 0.05951528786174456.\n"
     ]
    },
    {
     "name": "stderr",
     "output_type": "stream",
     "text": [
      "Best trial: 1. Best value: 0.178137:   4%|▍         | 2/50 [14:35<5:50:31, 438.15s/it] "
     ]
    },
    {
     "name": "stdout",
     "output_type": "stream",
     "text": [
      "[I 2023-12-03 21:53:16,255] Trial 1 finished with value: 0.17813682380611515 and parameters: {'alpha': 4.2, 'embed_size': 160, 'num_layers': 1, 'heads': 2, 'forward_expansion': 2, 'decoder_dropout': 0.0, 'classificiation_dropout': 0.30000000000000004, 'pre_norm_on': True, 'mlp_scale_classification': 7, 'learning_rate': 0.001436091622596107}. Best is trial 1 with value: 0.17813682380611515.\n"
     ]
    },
    {
     "name": "stderr",
     "output_type": "stream",
     "text": [
      "Best trial: 2. Best value: 0.198487:   6%|▌         | 3/50 [22:02<5:46:26, 442.27s/it]"
     ]
    },
    {
     "name": "stdout",
     "output_type": "stream",
     "text": [
      "[I 2023-12-03 22:00:43,428] Trial 2 finished with value: 0.1984865528172615 and parameters: {'alpha': 0.2, 'embed_size': 120, 'num_layers': 2, 'heads': 1, 'forward_expansion': 6, 'decoder_dropout': 0.4, 'classificiation_dropout': 0.1, 'pre_norm_on': False, 'mlp_scale_classification': 8, 'learning_rate': 0.0007296000591897836}. Best is trial 2 with value: 0.1984865528172615.\n"
     ]
    },
    {
     "name": "stderr",
     "output_type": "stream",
     "text": [
      "Best trial: 2. Best value: 0.198487:   8%|▊         | 4/50 [29:18<5:37:22, 440.05s/it]"
     ]
    },
    {
     "name": "stdout",
     "output_type": "stream",
     "text": [
      "[I 2023-12-03 22:08:00,078] Trial 3 finished with value: 0.13457408732999285 and parameters: {'alpha': 4.0, 'embed_size': 260, 'num_layers': 1, 'heads': 20, 'forward_expansion': 5, 'decoder_dropout': 0.5, 'classificiation_dropout': 0.4, 'pre_norm_on': False, 'mlp_scale_classification': 2, 'learning_rate': 2.0762602578884446e-05}. Best is trial 2 with value: 0.1984865528172615.\n"
     ]
    },
    {
     "name": "stderr",
     "output_type": "stream",
     "text": [
      "Best trial: 2. Best value: 0.198487:  10%|█         | 5/50 [36:27<5:26:47, 435.71s/it]"
     ]
    },
    {
     "name": "stdout",
     "output_type": "stream",
     "text": [
      "[I 2023-12-03 22:15:08,101] Trial 4 finished with value: 0.19224869618570406 and parameters: {'alpha': 3.5000000000000004, 'embed_size': 280, 'num_layers': 1, 'heads': 10, 'forward_expansion': 3, 'decoder_dropout': 0.5, 'classificiation_dropout': 0.1, 'pre_norm_on': False, 'mlp_scale_classification': 2, 'learning_rate': 0.00011566830457013527}. Best is trial 2 with value: 0.1984865528172615.\n"
     ]
    },
    {
     "name": "stderr",
     "output_type": "stream",
     "text": [
      "Best trial: 2. Best value: 0.198487:  12%|█▏        | 6/50 [43:52<5:21:59, 439.08s/it]"
     ]
    },
    {
     "name": "stdout",
     "output_type": "stream",
     "text": [
      "[I 2023-12-03 22:22:33,719] Trial 5 finished with value: 0.1611616729726966 and parameters: {'alpha': 3.2, 'embed_size': 120, 'num_layers': 2, 'heads': 1, 'forward_expansion': 4, 'decoder_dropout': 0.2, 'classificiation_dropout': 0.30000000000000004, 'pre_norm_on': False, 'mlp_scale_classification': 6, 'learning_rate': 4.6051080241159945e-05}. Best is trial 2 with value: 0.1984865528172615.\n"
     ]
    },
    {
     "name": "stderr",
     "output_type": "stream",
     "text": [
      "Best trial: 2. Best value: 0.198487:  14%|█▍        | 7/50 [51:18<5:16:17, 441.33s/it]"
     ]
    },
    {
     "name": "stdout",
     "output_type": "stream",
     "text": [
      "[I 2023-12-03 22:29:59,687] Trial 6 finished with value: 0.16739952960425403 and parameters: {'alpha': 3.1, 'embed_size': 320, 'num_layers': 1, 'heads': 5, 'forward_expansion': 5, 'decoder_dropout': 0.0, 'classificiation_dropout': 0.1, 'pre_norm_on': True, 'mlp_scale_classification': 7, 'learning_rate': 0.00010385752116457836}. Best is trial 2 with value: 0.1984865528172615.\n"
     ]
    },
    {
     "name": "stderr",
     "output_type": "stream",
     "text": [
      "Best trial: 2. Best value: 0.198487:  16%|█▌        | 8/50 [58:33<5:07:34, 439.39s/it]"
     ]
    },
    {
     "name": "stdout",
     "output_type": "stream",
     "text": [
      "[I 2023-12-03 22:37:14,929] Trial 7 finished with value: 0.14316392269148176 and parameters: {'alpha': 4.8, 'embed_size': 100, 'num_layers': 1, 'heads': 1, 'forward_expansion': 7, 'decoder_dropout': 0.5, 'classificiation_dropout': 0.30000000000000004, 'pre_norm_on': True, 'mlp_scale_classification': 7, 'learning_rate': 5.3482338706294464e-05}. Best is trial 2 with value: 0.1984865528172615.\n"
     ]
    },
    {
     "name": "stderr",
     "output_type": "stream",
     "text": [
      "Best trial: 8. Best value: 0.205645:  18%|█▊        | 9/50 [1:06:19<5:05:55, 447.69s/it]"
     ]
    },
    {
     "name": "stdout",
     "output_type": "stream",
     "text": [
      "[I 2023-12-03 22:45:00,866] Trial 8 finished with value: 0.20564474895183557 and parameters: {'alpha': 3.0000000000000004, 'embed_size': 260, 'num_layers': 2, 'heads': 5, 'forward_expansion': 6, 'decoder_dropout': 0.30000000000000004, 'classificiation_dropout': 0.30000000000000004, 'pre_norm_on': True, 'mlp_scale_classification': 4, 'learning_rate': 7.159074097620244e-05}. Best is trial 8 with value: 0.20564474895183557.\n"
     ]
    },
    {
     "name": "stderr",
     "output_type": "stream",
     "text": [
      "Best trial: 8. Best value: 0.205645:  20%|██        | 10/50 [1:13:31<4:55:13, 442.84s/it]"
     ]
    },
    {
     "name": "stdout",
     "output_type": "stream",
     "text": [
      "[I 2023-12-03 22:52:12,832] Trial 9 finished with value: 0.15942325391144288 and parameters: {'alpha': 0.4, 'embed_size': 180, 'num_layers': 1, 'heads': 5, 'forward_expansion': 7, 'decoder_dropout': 0.4, 'classificiation_dropout': 0.30000000000000004, 'pre_norm_on': False, 'mlp_scale_classification': 2, 'learning_rate': 2.9063166346033356e-05}. Best is trial 8 with value: 0.20564474895183557.\n"
     ]
    },
    {
     "name": "stderr",
     "output_type": "stream",
     "text": [
      "Best trial: 8. Best value: 0.205645:  22%|██▏       | 11/50 [1:21:20<4:53:04, 450.89s/it]"
     ]
    },
    {
     "name": "stdout",
     "output_type": "stream",
     "text": [
      "[I 2023-12-03 23:00:01,995] Trial 10 finished with value: 0.05869720830350752 and parameters: {'alpha': 1.7000000000000002, 'embed_size': 220, 'num_layers': 2, 'heads': 5, 'forward_expansion': 8, 'decoder_dropout': 0.30000000000000004, 'classificiation_dropout': 0.5, 'pre_norm_on': True, 'mlp_scale_classification': 4, 'learning_rate': 0.07235591567032836}. Best is trial 8 with value: 0.20564474895183557.\n"
     ]
    },
    {
     "name": "stderr",
     "output_type": "stream",
     "text": [
      "Best trial: 8. Best value: 0.205645:  24%|██▍       | 12/50 [1:29:02<4:47:33, 454.04s/it]"
     ]
    },
    {
     "name": "stdout",
     "output_type": "stream",
     "text": [
      "[I 2023-12-03 23:07:43,232] Trial 11 finished with value: 0.15737805501585028 and parameters: {'alpha': 0.1, 'embed_size': 200, 'num_layers': 2, 'heads': 2, 'forward_expansion': 6, 'decoder_dropout': 0.30000000000000004, 'classificiation_dropout': 0.0, 'pre_norm_on': True, 'mlp_scale_classification': 4, 'learning_rate': 0.0006129036904236925}. Best is trial 8 with value: 0.20564474895183557.\n"
     ]
    },
    {
     "name": "stderr",
     "output_type": "stream",
     "text": [
      "Best trial: 8. Best value: 0.205645:  26%|██▌       | 13/50 [1:36:47<4:42:08, 457.54s/it]"
     ]
    },
    {
     "name": "stdout",
     "output_type": "stream",
     "text": [
      "[I 2023-12-03 23:15:28,825] Trial 12 finished with value: 0.14224358318846508 and parameters: {'alpha': 1.1, 'embed_size': 140, 'num_layers': 2, 'heads': 20, 'forward_expansion': 6, 'decoder_dropout': 0.4, 'classificiation_dropout': 0.1, 'pre_norm_on': True, 'mlp_scale_classification': 4, 'learning_rate': 1.1290106567762538e-05}. Best is trial 8 with value: 0.20564474895183557.\n"
     ]
    },
    {
     "name": "stderr",
     "output_type": "stream",
     "text": [
      "Best trial: 8. Best value: 0.205645:  28%|██▊       | 14/50 [1:44:27<4:34:50, 458.07s/it]"
     ]
    },
    {
     "name": "stdout",
     "output_type": "stream",
     "text": [
      "[I 2023-12-03 23:23:08,125] Trial 13 finished with value: 0.17885264341957255 and parameters: {'alpha': 2.4000000000000004, 'embed_size': 220, 'num_layers': 2, 'heads': 10, 'forward_expansion': 6, 'decoder_dropout': 0.2, 'classificiation_dropout': 0.2, 'pre_norm_on': False, 'mlp_scale_classification': 8, 'learning_rate': 0.0002645512118646647}. Best is trial 8 with value: 0.20564474895183557.\n"
     ]
    },
    {
     "name": "stderr",
     "output_type": "stream",
     "text": [
      "Best trial: 8. Best value: 0.205645:  30%|███       | 15/50 [1:51:59<4:26:08, 456.23s/it]"
     ]
    },
    {
     "name": "stdout",
     "output_type": "stream",
     "text": [
      "[I 2023-12-03 23:30:40,087] Trial 14 finished with value: 0.10543000306779834 and parameters: {'alpha': 1.4000000000000001, 'embed_size': 320, 'num_layers': 2, 'heads': 5, 'forward_expansion': 4, 'decoder_dropout': 0.4, 'classificiation_dropout': 0.0, 'pre_norm_on': False, 'mlp_scale_classification': 5, 'learning_rate': 0.00495524547888603}. Best is trial 8 with value: 0.20564474895183557.\n"
     ]
    },
    {
     "name": "stderr",
     "output_type": "stream",
     "text": [
      "Best trial: 8. Best value: 0.205645:  32%|███▏      | 16/50 [1:59:48<4:20:44, 460.13s/it]"
     ]
    },
    {
     "name": "stdout",
     "output_type": "stream",
     "text": [
      "[I 2023-12-03 23:38:29,279] Trial 15 finished with value: 0.19143061662746702 and parameters: {'alpha': 2.7, 'embed_size': 280, 'num_layers': 2, 'heads': 1, 'forward_expansion': 7, 'decoder_dropout': 0.30000000000000004, 'classificiation_dropout': 0.2, 'pre_norm_on': True, 'mlp_scale_classification': 3, 'learning_rate': 0.00023990642819153671}. Best is trial 8 with value: 0.20564474895183557.\n"
     ]
    },
    {
     "name": "stderr",
     "output_type": "stream",
     "text": [
      "Best trial: 8. Best value: 0.205645:  34%|███▍      | 17/50 [2:07:34<4:14:08, 462.07s/it]"
     ]
    },
    {
     "name": "stdout",
     "output_type": "stream",
     "text": [
      "[I 2023-12-03 23:46:15,869] Trial 16 finished with value: 0.19327129563350035 and parameters: {'alpha': 0.8, 'embed_size': 240, 'num_layers': 2, 'heads': 5, 'forward_expansion': 4, 'decoder_dropout': 0.4, 'classificiation_dropout': 0.2, 'pre_norm_on': True, 'mlp_scale_classification': 5, 'learning_rate': 0.002890617526382663}. Best is trial 8 with value: 0.20564474895183557.\n"
     ]
    },
    {
     "name": "stderr",
     "output_type": "stream",
     "text": [
      "Best trial: 8. Best value: 0.205645:  36%|███▌      | 18/50 [2:15:02<4:04:09, 457.81s/it]"
     ]
    },
    {
     "name": "stdout",
     "output_type": "stream",
     "text": [
      "[I 2023-12-03 23:53:43,758] Trial 17 finished with value: 0.1309949892627058 and parameters: {'alpha': 1.9000000000000001, 'embed_size': 180, 'num_layers': 2, 'heads': 1, 'forward_expansion': 6, 'decoder_dropout': 0.2, 'classificiation_dropout': 0.4, 'pre_norm_on': False, 'mlp_scale_classification': 8, 'learning_rate': 1.1371057925550409e-05}. Best is trial 8 with value: 0.20564474895183557.\n"
     ]
    },
    {
     "name": "stderr",
     "output_type": "stream",
     "text": [
      "Best trial: 8. Best value: 0.205645:  38%|███▊      | 19/50 [2:22:36<3:55:53, 456.57s/it]"
     ]
    },
    {
     "name": "stdout",
     "output_type": "stream",
     "text": [
      "[I 2023-12-04 00:01:17,450] Trial 18 finished with value: 0.20513344922793741 and parameters: {'alpha': 2.8000000000000003, 'embed_size': 100, 'num_layers': 2, 'heads': 20, 'forward_expansion': 5, 'decoder_dropout': 0.1, 'classificiation_dropout': 0.1, 'pre_norm_on': False, 'mlp_scale_classification': 3, 'learning_rate': 0.0002576818495223017}. Best is trial 8 with value: 0.20564474895183557.\n"
     ]
    },
    {
     "name": "stderr",
     "output_type": "stream",
     "text": [
      "Best trial: 19. Best value: 0.214848:  40%|████      | 20/50 [2:30:21<3:49:34, 459.16s/it]"
     ]
    },
    {
     "name": "stdout",
     "output_type": "stream",
     "text": [
      "[I 2023-12-04 00:09:02,635] Trial 19 finished with value: 0.21484814398200225 and parameters: {'alpha': 2.8000000000000003, 'embed_size': 300, 'num_layers': 2, 'heads': 20, 'forward_expansion': 3, 'decoder_dropout': 0.1, 'classificiation_dropout': 0.5, 'pre_norm_on': True, 'mlp_scale_classification': 3, 'learning_rate': 9.916654074254129e-05}. Best is trial 19 with value: 0.21484814398200225.\n"
     ]
    },
    {
     "name": "stderr",
     "output_type": "stream",
     "text": [
      "Best trial: 19. Best value: 0.214848:  42%|████▏     | 21/50 [2:38:08<3:43:00, 461.39s/it]"
     ]
    },
    {
     "name": "stdout",
     "output_type": "stream",
     "text": [
      "[I 2023-12-04 00:16:49,223] Trial 20 finished with value: 0.2125984251968504 and parameters: {'alpha': 3.9000000000000004, 'embed_size': 300, 'num_layers': 2, 'heads': 20, 'forward_expansion': 2, 'decoder_dropout': 0.1, 'classificiation_dropout': 0.5, 'pre_norm_on': True, 'mlp_scale_classification': 3, 'learning_rate': 7.910790137565525e-05}. Best is trial 19 with value: 0.21484814398200225.\n"
     ]
    },
    {
     "name": "stderr",
     "output_type": "stream",
     "text": [
      "Best trial: 19. Best value: 0.214848:  44%|████▍     | 22/50 [2:45:50<3:35:25, 461.63s/it]"
     ]
    },
    {
     "name": "stdout",
     "output_type": "stream",
     "text": [
      "[I 2023-12-04 00:24:31,423] Trial 21 finished with value: 0.19777073320380406 and parameters: {'alpha': 3.9000000000000004, 'embed_size': 300, 'num_layers': 2, 'heads': 20, 'forward_expansion': 2, 'decoder_dropout': 0.1, 'classificiation_dropout': 0.5, 'pre_norm_on': True, 'mlp_scale_classification': 3, 'learning_rate': 4.6280859347429124e-05}. Best is trial 19 with value: 0.21484814398200225.\n"
     ]
    },
    {
     "name": "stderr",
     "output_type": "stream",
     "text": [
      "Best trial: 22. Best value: 0.216791:  46%|████▌     | 23/50 [2:53:43<3:29:18, 465.12s/it]"
     ]
    },
    {
     "name": "stdout",
     "output_type": "stream",
     "text": [
      "[I 2023-12-04 00:32:24,679] Trial 22 finished with value: 0.2167910829328152 and parameters: {'alpha': 4.6, 'embed_size': 300, 'num_layers': 2, 'heads': 20, 'forward_expansion': 3, 'decoder_dropout': 0.1, 'classificiation_dropout': 0.5, 'pre_norm_on': True, 'mlp_scale_classification': 3, 'learning_rate': 9.662984046505598e-05}. Best is trial 22 with value: 0.2167910829328152.\n"
     ]
    },
    {
     "name": "stderr",
     "output_type": "stream",
     "text": [
      "Best trial: 22. Best value: 0.216791:  48%|████▊     | 24/50 [3:01:28<3:21:35, 465.20s/it]"
     ]
    },
    {
     "name": "stdout",
     "output_type": "stream",
     "text": [
      "[I 2023-12-04 00:40:10,066] Trial 23 finished with value: 0.172103487064117 and parameters: {'alpha': 4.9, 'embed_size': 300, 'num_layers': 2, 'heads': 20, 'forward_expansion': 3, 'decoder_dropout': 0.1, 'classificiation_dropout': 0.5, 'pre_norm_on': True, 'mlp_scale_classification': 3, 'learning_rate': 2.0522125373430514e-05}. Best is trial 22 with value: 0.2167910829328152.\n"
     ]
    },
    {
     "name": "stderr",
     "output_type": "stream",
     "text": [
      "Best trial: 22. Best value: 0.216791:  50%|█████     | 25/50 [3:09:07<3:12:58, 463.16s/it]"
     ]
    },
    {
     "name": "stdout",
     "output_type": "stream",
     "text": [
      "[I 2023-12-04 00:47:48,452] Trial 24 finished with value: 0.19725943347990593 and parameters: {'alpha': 4.3999999999999995, 'embed_size': 300, 'num_layers': 2, 'heads': 20, 'forward_expansion': 3, 'decoder_dropout': 0.0, 'classificiation_dropout': 0.5, 'pre_norm_on': True, 'mlp_scale_classification': 3, 'learning_rate': 0.0001383726824017234}. Best is trial 22 with value: 0.2167910829328152.\n"
     ]
    },
    {
     "name": "stderr",
     "output_type": "stream",
     "text": [
      "Best trial: 22. Best value: 0.216791:  52%|█████▏    | 26/50 [3:16:50<3:05:17, 463.24s/it]"
     ]
    },
    {
     "name": "stdout",
     "output_type": "stream",
     "text": [
      "[I 2023-12-04 00:55:31,889] Trial 25 finished with value: 0.21597300337457817 and parameters: {'alpha': 4.6, 'embed_size': 320, 'num_layers': 2, 'heads': 20, 'forward_expansion': 2, 'decoder_dropout': 0.1, 'classificiation_dropout': 0.4, 'pre_norm_on': True, 'mlp_scale_classification': 2, 'learning_rate': 0.00015184134830873946}. Best is trial 22 with value: 0.2167910829328152.\n"
     ]
    },
    {
     "name": "stderr",
     "output_type": "stream",
     "text": [
      "Best trial: 22. Best value: 0.216791:  54%|█████▍    | 27/50 [3:24:35<2:57:43, 463.64s/it]"
     ]
    },
    {
     "name": "stdout",
     "output_type": "stream",
     "text": [
      "[I 2023-12-04 01:03:16,456] Trial 26 finished with value: 0.1869311790571633 and parameters: {'alpha': 4.5, 'embed_size': 320, 'num_layers': 2, 'heads': 20, 'forward_expansion': 3, 'decoder_dropout': 0.0, 'classificiation_dropout': 0.4, 'pre_norm_on': True, 'mlp_scale_classification': 2, 'learning_rate': 0.00016957962294702396}. Best is trial 22 with value: 0.2167910829328152.\n"
     ]
    },
    {
     "name": "stderr",
     "output_type": "stream",
     "text": [
      "Best trial: 22. Best value: 0.216791:  56%|█████▌    | 28/50 [3:32:23<2:50:28, 464.92s/it]"
     ]
    },
    {
     "name": "stdout",
     "output_type": "stream",
     "text": [
      "[I 2023-12-04 01:11:04,358] Trial 27 finished with value: 0.18294304121075775 and parameters: {'alpha': 3.5000000000000004, 'embed_size': 280, 'num_layers': 2, 'heads': 20, 'forward_expansion': 2, 'decoder_dropout': 0.2, 'classificiation_dropout': 0.4, 'pre_norm_on': True, 'mlp_scale_classification': 2, 'learning_rate': 3.340325945806249e-05}. Best is trial 22 with value: 0.2167910829328152.\n"
     ]
    },
    {
     "name": "stderr",
     "output_type": "stream",
     "text": [
      "Best trial: 22. Best value: 0.216791:  58%|█████▊    | 29/50 [3:40:11<2:43:03, 465.90s/it]"
     ]
    },
    {
     "name": "stdout",
     "output_type": "stream",
     "text": [
      "[I 2023-12-04 01:18:52,538] Trial 28 finished with value: 0.20083853154719297 and parameters: {'alpha': 5.0, 'embed_size': 240, 'num_layers': 2, 'heads': 20, 'forward_expansion': 3, 'decoder_dropout': 0.1, 'classificiation_dropout': 0.5, 'pre_norm_on': True, 'mlp_scale_classification': 5, 'learning_rate': 0.0003984790065010421}. Best is trial 22 with value: 0.2167910829328152.\n"
     ]
    },
    {
     "name": "stderr",
     "output_type": "stream",
     "text": [
      "Best trial: 22. Best value: 0.216791:  60%|██████    | 30/50 [3:47:54<2:35:03, 465.19s/it]"
     ]
    },
    {
     "name": "stdout",
     "output_type": "stream",
     "text": [
      "[I 2023-12-04 01:26:36,078] Trial 29 finished with value: 0.1769097044687596 and parameters: {'alpha': 2.4000000000000004, 'embed_size': 320, 'num_layers': 2, 'heads': 10, 'forward_expansion': 4, 'decoder_dropout': 0.0, 'classificiation_dropout': 0.4, 'pre_norm_on': True, 'mlp_scale_classification': 4, 'learning_rate': 0.00015546387993318214}. Best is trial 22 with value: 0.2167910829328152.\n"
     ]
    },
    {
     "name": "stderr",
     "output_type": "stream",
     "text": [
      "Best trial: 22. Best value: 0.216791:  62%|██████▏   | 31/50 [3:55:42<2:27:33, 465.98s/it]"
     ]
    },
    {
     "name": "stdout",
     "output_type": "stream",
     "text": [
      "[I 2023-12-04 01:34:23,918] Trial 30 finished with value: 0.20042949176807445 and parameters: {'alpha': 3.6, 'embed_size': 280, 'num_layers': 2, 'heads': 2, 'forward_expansion': 2, 'decoder_dropout': 0.2, 'classificiation_dropout': 0.4, 'pre_norm_on': True, 'mlp_scale_classification': 2, 'learning_rate': 7.602830193386872e-05}. Best is trial 22 with value: 0.2167910829328152.\n"
     ]
    },
    {
     "name": "stderr",
     "output_type": "stream",
     "text": [
      "Best trial: 22. Best value: 0.216791:  64%|██████▍   | 32/50 [4:03:24<2:19:24, 464.70s/it]"
     ]
    },
    {
     "name": "stdout",
     "output_type": "stream",
     "text": [
      "[I 2023-12-04 01:42:05,612] Trial 31 finished with value: 0.21372328458942633 and parameters: {'alpha': 4.6, 'embed_size': 300, 'num_layers': 2, 'heads': 20, 'forward_expansion': 2, 'decoder_dropout': 0.1, 'classificiation_dropout': 0.5, 'pre_norm_on': True, 'mlp_scale_classification': 3, 'learning_rate': 7.684725263853323e-05}. Best is trial 22 with value: 0.2167910829328152.\n"
     ]
    },
    {
     "name": "stderr",
     "output_type": "stream",
     "text": [
      "Best trial: 22. Best value: 0.216791:  66%|██████▌   | 33/50 [4:11:16<2:12:15, 466.82s/it]"
     ]
    },
    {
     "name": "stdout",
     "output_type": "stream",
     "text": [
      "[I 2023-12-04 01:49:57,381] Trial 32 finished with value: 0.21648430309847633 and parameters: {'alpha': 4.6, 'embed_size': 300, 'num_layers': 2, 'heads': 20, 'forward_expansion': 2, 'decoder_dropout': 0.1, 'classificiation_dropout': 0.5, 'pre_norm_on': True, 'mlp_scale_classification': 3, 'learning_rate': 8.89072463619069e-05}. Best is trial 22 with value: 0.2167910829328152.\n"
     ]
    },
    {
     "name": "stderr",
     "output_type": "stream",
     "text": [
      "Best trial: 22. Best value: 0.216791:  68%|██████▊   | 34/50 [4:19:06<2:04:44, 467.75s/it]"
     ]
    },
    {
     "name": "stdout",
     "output_type": "stream",
     "text": [
      "[I 2023-12-04 01:57:47,308] Trial 33 finished with value: 0.20083853154719297 and parameters: {'alpha': 4.2, 'embed_size': 260, 'num_layers': 2, 'heads': 20, 'forward_expansion': 3, 'decoder_dropout': 0.1, 'classificiation_dropout': 0.5, 'pre_norm_on': True, 'mlp_scale_classification': 2, 'learning_rate': 0.00040029376957881167}. Best is trial 22 with value: 0.2167910829328152.\n"
     ]
    },
    {
     "name": "stderr",
     "output_type": "stream",
     "text": [
      "Best trial: 22. Best value: 0.216791:  70%|███████   | 35/50 [4:26:56<1:57:06, 468.45s/it]"
     ]
    },
    {
     "name": "stdout",
     "output_type": "stream",
     "text": [
      "[I 2023-12-04 02:05:37,378] Trial 34 finished with value: 0.2033950301666837 and parameters: {'alpha': 4.2, 'embed_size': 320, 'num_layers': 2, 'heads': 20, 'forward_expansion': 2, 'decoder_dropout': 0.0, 'classificiation_dropout': 0.4, 'pre_norm_on': True, 'mlp_scale_classification': 3, 'learning_rate': 0.00012411701893589347}. Best is trial 22 with value: 0.2167910829328152.\n"
     ]
    },
    {
     "name": "stderr",
     "output_type": "stream",
     "text": [
      "Best trial: 22. Best value: 0.216791:  72%|███████▏  | 36/50 [4:34:17<1:47:24, 460.32s/it]"
     ]
    },
    {
     "name": "stdout",
     "output_type": "stream",
     "text": [
      "[I 2023-12-04 02:12:58,740] Trial 35 finished with value: 0.16197975253093364 and parameters: {'alpha': 4.7, 'embed_size': 280, 'num_layers': 1, 'heads': 20, 'forward_expansion': 3, 'decoder_dropout': 0.2, 'classificiation_dropout': 0.5, 'pre_norm_on': True, 'mlp_scale_classification': 2, 'learning_rate': 2.3865396301256964e-05}. Best is trial 22 with value: 0.2167910829328152.\n"
     ]
    },
    {
     "name": "stderr",
     "output_type": "stream",
     "text": [
      "Best trial: 22. Best value: 0.216791:  74%|███████▍  | 37/50 [4:42:02<1:40:00, 461.60s/it]"
     ]
    },
    {
     "name": "stdout",
     "output_type": "stream",
     "text": [
      "[I 2023-12-04 02:20:43,320] Trial 36 finished with value: 0.20871254729522445 and parameters: {'alpha': 3.8000000000000003, 'embed_size': 300, 'num_layers': 2, 'heads': 2, 'forward_expansion': 2, 'decoder_dropout': 0.1, 'classificiation_dropout': 0.4, 'pre_norm_on': True, 'mlp_scale_classification': 4, 'learning_rate': 4.895901601048282e-05}. Best is trial 22 with value: 0.2167910829328152.\n"
     ]
    },
    {
     "name": "stderr",
     "output_type": "stream",
     "text": [
      "Best trial: 22. Best value: 0.216791:  76%|███████▌  | 38/50 [4:49:42<1:32:14, 461.23s/it]"
     ]
    },
    {
     "name": "stdout",
     "output_type": "stream",
     "text": [
      "[I 2023-12-04 02:28:23,704] Trial 37 finished with value: 0.17977298292258923 and parameters: {'alpha': 4.3, 'embed_size': 240, 'num_layers': 2, 'heads': 20, 'forward_expansion': 4, 'decoder_dropout': 0.0, 'classificiation_dropout': 0.5, 'pre_norm_on': True, 'mlp_scale_classification': 3, 'learning_rate': 0.00102627718235159}. Best is trial 22 with value: 0.2167910829328152.\n"
     ]
    },
    {
     "name": "stderr",
     "output_type": "stream",
     "text": [
      "Best trial: 22. Best value: 0.216791:  78%|███████▊  | 39/50 [4:57:10<1:23:50, 457.31s/it]"
     ]
    },
    {
     "name": "stdout",
     "output_type": "stream",
     "text": [
      "[I 2023-12-04 02:35:51,862] Trial 38 finished with value: 0.2160752633193578 and parameters: {'alpha': 5.0, 'embed_size': 260, 'num_layers': 1, 'heads': 20, 'forward_expansion': 3, 'decoder_dropout': 0.1, 'classificiation_dropout': 0.4, 'pre_norm_on': True, 'mlp_scale_classification': 2, 'learning_rate': 0.00010025092236715996}. Best is trial 22 with value: 0.2167910829328152.\n"
     ]
    },
    {
     "name": "stderr",
     "output_type": "stream",
     "text": [
      "Best trial: 22. Best value: 0.216791:  80%|████████  | 40/50 [5:04:32<1:15:27, 452.78s/it]"
     ]
    },
    {
     "name": "stdout",
     "output_type": "stream",
     "text": [
      "[I 2023-12-04 02:43:14,055] Trial 39 finished with value: 0.18866959811841702 and parameters: {'alpha': 5.0, 'embed_size': 260, 'num_layers': 1, 'heads': 10, 'forward_expansion': 2, 'decoder_dropout': 0.2, 'classificiation_dropout': 0.4, 'pre_norm_on': True, 'mlp_scale_classification': 2, 'learning_rate': 3.965943741428902e-05}. Best is trial 22 with value: 0.2167910829328152.\n"
     ]
    },
    {
     "name": "stderr",
     "output_type": "stream",
     "text": [
      "Best trial: 22. Best value: 0.216791:  82%|████████▏ | 41/50 [5:11:58<1:07:34, 450.54s/it]"
     ]
    },
    {
     "name": "stdout",
     "output_type": "stream",
     "text": [
      "[I 2023-12-04 02:50:39,377] Trial 40 finished with value: 0.18427242049289294 and parameters: {'alpha': 4.7, 'embed_size': 280, 'num_layers': 1, 'heads': 20, 'forward_expansion': 3, 'decoder_dropout': 0.0, 'classificiation_dropout': 0.30000000000000004, 'pre_norm_on': True, 'mlp_scale_classification': 2, 'learning_rate': 0.00018748096256888667}. Best is trial 22 with value: 0.2167910829328152.\n"
     ]
    },
    {
     "name": "stderr",
     "output_type": "stream",
     "text": [
      "Best trial: 22. Best value: 0.216791:  84%|████████▍ | 42/50 [5:19:27<1:00:02, 450.27s/it]"
     ]
    },
    {
     "name": "stdout",
     "output_type": "stream",
     "text": [
      "[I 2023-12-04 02:58:09,011] Trial 41 finished with value: 0.21576848348501892 and parameters: {'alpha': 4.3999999999999995, 'embed_size': 320, 'num_layers': 1, 'heads': 20, 'forward_expansion': 3, 'decoder_dropout': 0.1, 'classificiation_dropout': 0.5, 'pre_norm_on': True, 'mlp_scale_classification': 6, 'learning_rate': 0.00011200991154207573}. Best is trial 22 with value: 0.2167910829328152.\n"
     ]
    },
    {
     "name": "stderr",
     "output_type": "stream",
     "text": [
      "Best trial: 22. Best value: 0.216791:  86%|████████▌ | 43/50 [5:26:52<52:19, 448.50s/it]  "
     ]
    },
    {
     "name": "stdout",
     "output_type": "stream",
     "text": [
      "[I 2023-12-04 03:05:33,398] Trial 42 finished with value: 0.20983740668780038 and parameters: {'alpha': 4.5, 'embed_size': 320, 'num_layers': 1, 'heads': 20, 'forward_expansion': 4, 'decoder_dropout': 0.1, 'classificiation_dropout': 0.5, 'pre_norm_on': True, 'mlp_scale_classification': 6, 'learning_rate': 0.00012156304121844645}. Best is trial 22 with value: 0.2167910829328152.\n"
     ]
    },
    {
     "name": "stderr",
     "output_type": "stream",
     "text": [
      "Best trial: 43. Best value: 0.217302:  88%|████████▊ | 44/50 [5:34:23<44:55, 449.22s/it]"
     ]
    },
    {
     "name": "stdout",
     "output_type": "stream",
     "text": [
      "[I 2023-12-04 03:13:04,302] Trial 43 finished with value: 0.21730238265671337 and parameters: {'alpha': 4.2, 'embed_size': 320, 'num_layers': 1, 'heads': 20, 'forward_expansion': 2, 'decoder_dropout': 0.1, 'classificiation_dropout': 0.4, 'pre_norm_on': True, 'mlp_scale_classification': 6, 'learning_rate': 5.969008073055464e-05}. Best is trial 43 with value: 0.21730238265671337.\n"
     ]
    },
    {
     "name": "stderr",
     "output_type": "stream",
     "text": [
      "Best trial: 43. Best value: 0.217302:  90%|█████████ | 45/50 [5:41:50<37:23, 448.73s/it]"
     ]
    },
    {
     "name": "stdout",
     "output_type": "stream",
     "text": [
      "[I 2023-12-04 03:20:31,882] Trial 44 finished with value: 0.20728090806830965 and parameters: {'alpha': 4.8, 'embed_size': 260, 'num_layers': 1, 'heads': 20, 'forward_expansion': 2, 'decoder_dropout': 0.2, 'classificiation_dropout': 0.30000000000000004, 'pre_norm_on': True, 'mlp_scale_classification': 7, 'learning_rate': 7.018840308162283e-05}. Best is trial 43 with value: 0.21730238265671337.\n"
     ]
    },
    {
     "name": "stderr",
     "output_type": "stream",
     "text": [
      "Best trial: 43. Best value: 0.217302:  92%|█████████▏| 46/50 [5:49:14<29:49, 447.31s/it]"
     ]
    },
    {
     "name": "stdout",
     "output_type": "stream",
     "text": [
      "[I 2023-12-04 03:27:55,891] Trial 45 finished with value: 0.21505266387156152 and parameters: {'alpha': 5.0, 'embed_size': 280, 'num_layers': 1, 'heads': 20, 'forward_expansion': 2, 'decoder_dropout': 0.1, 'classificiation_dropout': 0.4, 'pre_norm_on': True, 'mlp_scale_classification': 6, 'learning_rate': 5.236225005750091e-05}. Best is trial 43 with value: 0.21730238265671337.\n"
     ]
    },
    {
     "name": "stderr",
     "output_type": "stream",
     "text": [
      "Best trial: 43. Best value: 0.217302:  94%|█████████▍| 47/50 [5:56:35<22:16, 445.35s/it]"
     ]
    },
    {
     "name": "stdout",
     "output_type": "stream",
     "text": [
      "[I 2023-12-04 03:35:16,646] Trial 46 finished with value: 0.2012475713263115 and parameters: {'alpha': 4.1, 'embed_size': 320, 'num_layers': 1, 'heads': 2, 'forward_expansion': 2, 'decoder_dropout': 0.0, 'classificiation_dropout': 0.30000000000000004, 'pre_norm_on': True, 'mlp_scale_classification': 2, 'learning_rate': 1.9427379866387307e-05}. Best is trial 43 with value: 0.21730238265671337.\n"
     ]
    },
    {
     "name": "stderr",
     "output_type": "stream",
     "text": [
      "Best trial: 43. Best value: 0.217302:  96%|█████████▌| 48/50 [6:03:49<14:44, 442.02s/it]"
     ]
    },
    {
     "name": "stdout",
     "output_type": "stream",
     "text": [
      "[I 2023-12-04 03:42:30,908] Trial 47 finished with value: 0.1841701605481133 and parameters: {'alpha': 3.3000000000000003, 'embed_size': 300, 'num_layers': 1, 'heads': 1, 'forward_expansion': 3, 'decoder_dropout': 0.1, 'classificiation_dropout': 0.4, 'pre_norm_on': False, 'mlp_scale_classification': 7, 'learning_rate': 2.9502293852705687e-05}. Best is trial 43 with value: 0.21730238265671337.\n"
     ]
    },
    {
     "name": "stderr",
     "output_type": "stream",
     "text": [
      "Best trial: 43. Best value: 0.217302:  98%|█████████▊| 49/50 [6:11:22<07:25, 445.28s/it]"
     ]
    },
    {
     "name": "stdout",
     "output_type": "stream",
     "text": [
      "[I 2023-12-04 03:50:03,787] Trial 48 finished with value: 0.20799672768176705 and parameters: {'alpha': 3.7, 'embed_size': 320, 'num_layers': 1, 'heads': 10, 'forward_expansion': 2, 'decoder_dropout': 0.2, 'classificiation_dropout': 0.30000000000000004, 'pre_norm_on': True, 'mlp_scale_classification': 5, 'learning_rate': 6.555528805814662e-05}. Best is trial 43 with value: 0.21730238265671337.\n"
     ]
    },
    {
     "name": "stderr",
     "output_type": "stream",
     "text": [
      "Best trial: 43. Best value: 0.217302: 100%|██████████| 50/50 [6:18:45<00:00, 454.52s/it]"
     ]
    },
    {
     "name": "stdout",
     "output_type": "stream",
     "text": [
      "[I 2023-12-04 03:57:26,899] Trial 49 finished with value: 0.17905716330913182 and parameters: {'alpha': 4.0, 'embed_size': 260, 'num_layers': 1, 'heads': 20, 'forward_expansion': 5, 'decoder_dropout': 0.0, 'classificiation_dropout': 0.4, 'pre_norm_on': True, 'mlp_scale_classification': 4, 'learning_rate': 0.00020400011972463317}. Best is trial 43 with value: 0.21730238265671337.\n",
      "Best Hyperparameters: {'alpha': 4.2, 'embed_size': 320, 'num_layers': 1, 'heads': 20, 'forward_expansion': 2, 'decoder_dropout': 0.1, 'classificiation_dropout': 0.4, 'pre_norm_on': True, 'mlp_scale_classification': 6, 'learning_rate': 5.969008073055464e-05}\n",
      "Best Validation Accuracy (at Early Stopping): 0.21730238265671337\n"
     ]
    },
    {
     "name": "stderr",
     "output_type": "stream",
     "text": [
      "\n"
     ]
    }
   ],
   "source": [
    "# Set the number of optimization trials\n",
    "num_trials = 50\n",
    "\n",
    "# Create an Optuna study\n",
    "study = optuna.create_study(direction='maximize')  # Maximize validation accuracy\n",
    "\n",
    "# Start the optimization process\n",
    "study.optimize(objective, n_trials=num_trials, show_progress_bar=True)\n",
    "\n",
    "# Get the best hyperparameters and the validation accuracy at the point of early stopping\n",
    "best_params = study.best_params\n",
    "best_val_accuracy = study.best_value\n",
    "\n",
    "print(\"Best Hyperparameters:\", best_params)\n",
    "print(\"Best Validation Accuracy (at Early Stopping):\", best_val_accuracy)"
   ]
  },
  {
   "cell_type": "code",
   "execution_count": 7,
   "metadata": {},
   "outputs": [
    {
     "name": "stdout",
     "output_type": "stream",
     "text": [
      "Epoch [ 1/100]  | Train: Loss 4.284565851009092, Accuracy 0.0525889081227951        | Test: Loss 4.120020157251602, Accuracy 0.08292433537832311       \n",
      "Epoch [ 2/100]  | Train: Loss 4.096100490186467, Accuracy 0.0852378552490304        | Test: Loss 3.954211467351669, Accuracy 0.1149284253578732        \n",
      "Epoch [ 3/100]  | Train: Loss 3.9736705439050772, Accuracy 0.11023949865240923      | Test: Loss 3.8846280452532644, Accuracy 0.12576687116564417      \n",
      "Epoch [ 4/100]  | Train: Loss 3.925480903859911, Accuracy 0.11758003374454938       | Test: Loss 3.8569679871583595, Accuracy 0.13047034764826176      \n",
      "Epoch [ 5/100]  | Train: Loss 3.8958438508337436, Accuracy 0.11963976597935885      | Test: Loss 3.8403975474528775, Accuracy 0.13650306748466257      \n",
      "Epoch [ 6/100]  | Train: Loss 3.871533540374074, Accuracy 0.12478909656638254       | Test: Loss 3.8180032265491977, Accuracy 0.13732106339468303      \n",
      "Epoch [ 7/100]  | Train: Loss 3.845321895023964, Accuracy 0.12726515765716415       | Test: Loss 3.799938672628158, Accuracy 0.14008179959100203       \n",
      "Epoch [ 8/100]  | Train: Loss 3.828503687288508, Accuracy 0.13313758573087625       | Test: Loss 3.7715182854579044, Accuracy 0.14202453987730063      \n",
      "Epoch [ 9/100]  | Train: Loss 3.8127901101245563, Accuracy 0.13537261432609504      | Test: Loss 3.752534731840476, Accuracy 0.14519427402862986       \n",
      "Epoch [10/100]  | Train: Loss 3.789982622562174, Accuracy 0.13876898130902557       | Test: Loss 3.740441640218099, Accuracy 0.1488752556237219        \n",
      "Epoch [11/100]  | Train: Loss 3.772737135434284, Accuracy 0.14242829283257005       | Test: Loss 3.7322551164871607, Accuracy 0.15010224948875256      \n",
      "Epoch [12/100]  | Train: Loss 3.7595702815988212, Accuracy 0.144948178013454        | Test: Loss 3.7369511616535678, Accuracy 0.15460122699386503      \n",
      "Epoch [13/100]  | Train: Loss 3.7435692941676306, Accuracy 0.14659158139229134      | Test: Loss 3.7010134978172107, Accuracy 0.15408997955010226      \n",
      "Epoch [14/100]  | Train: Loss 3.730355108250453, Accuracy 0.14906764248307294       | Test: Loss 3.6966817562396708, Accuracy 0.15879345603271983      \n",
      "Epoch [15/100]  | Train: Loss 3.7184160141971523, Accuracy 0.15296798650218024      | Test: Loss 3.6814551536853495, Accuracy 0.16002044989775052      \n",
      "Epoch [16/100]  | Train: Loss 3.705617110822454, Accuracy 0.15555360781821767       | Test: Loss 3.6729045708974204, Accuracy 0.16584867075664622      \n",
      "Epoch [17/100]  | Train: Loss 3.6900116105319403, Accuracy 0.15859938208032956      | Test: Loss 3.667875485542493, Accuracy 0.16482617586912066       \n",
      "Epoch [18/100]  | Train: Loss 3.6791807379802512, Accuracy 0.15921291934176215      | Test: Loss 3.6597241927415896, Accuracy 0.16758691206543969      \n",
      "Epoch [19/100]  | Train: Loss 3.6685854149930304, Accuracy 0.16230251769397638      | Test: Loss 3.6610484979091544, Accuracy 0.16676891615541922      \n",
      "Epoch [20/100]  | Train: Loss 3.6626076525150064, Accuracy 0.16223678155882287      | Test: Loss 3.643107744363638, Accuracy 0.16983640081799592       \n",
      "Epoch [21/100]  | Train: Loss 3.651515385292096, Accuracy 0.16572079672195805       | Test: Loss 3.6346049369909825, Accuracy 0.17402862985685072      \n",
      "Epoch [22/100]  | Train: Loss 3.6422553342147914, Accuracy 0.16738611214584656      | Test: Loss 3.634783005103087, Accuracy 0.17494887525562372       \n",
      "Epoch [23/100]  | Train: Loss 3.6346158062279557, Accuracy 0.16918289984004206      | Test: Loss 3.619020407016461, Accuracy 0.17709611451942742       \n",
      "Epoch [24/100]  | Train: Loss 3.62443234001458, Accuracy 0.1706510068584701         | Test: Loss 3.6056099916115785, Accuracy 0.17638036809815952      \n",
      "Epoch [25/100]  | Train: Loss 3.6134951847225594, Accuracy 0.17161513684072136      | Test: Loss 3.6025324051196757, Accuracy 0.17730061349693252      \n",
      "Epoch [26/100]  | Train: Loss 3.6004259146791595, Accuracy 0.17472664723798673      | Test: Loss 3.6019378503163657, Accuracy 0.17975460122699385      \n",
      "Epoch [27/100]  | Train: Loss 3.5927671440486804, Accuracy 0.17731226855402415      | Test: Loss 3.5942555024073672, Accuracy 0.17914110429447852      \n",
      "Epoch [28/100]  | Train: Loss 3.5878494771499208, Accuracy 0.17891184784275915      | Test: Loss 3.577135893014761, Accuracy 0.18190184049079755       \n",
      "Epoch [29/100]  | Train: Loss 3.576744870766581, Accuracy 0.17768477331989393       | Test: Loss 3.573978222333468, Accuracy 0.18302658486707565       \n",
      "Epoch [30/100]  | Train: Loss 3.5625530301525608, Accuracy 0.18171658960930823      | Test: Loss 3.5706374522967215, Accuracy 0.18343558282208589      \n",
      "Epoch [31/100]  | Train: Loss 3.553792539255579, Accuracy 0.1824177750509455        | Test: Loss 3.582027013485248, Accuracy 0.18721881390593048       \n",
      "Epoch [32/100]  | Train: Loss 3.54705802954775, Accuracy 0.18526634090759692        | Test: Loss 3.5571607870933337, Accuracy 0.18640081799591002      \n",
      "Epoch [33/100]  | Train: Loss 3.5387957255933538, Accuracy 0.18318469662773626      | Test: Loss 3.557352671256432, Accuracy 0.1901840490797546        \n",
      "Epoch [34/100]  | Train: Loss 3.525904010794016, Accuracy 0.18815873085435064       | Test: Loss 3.5410508070236597, Accuracy 0.18895705521472392      \n",
      "Epoch [35/100]  | Train: Loss 3.515211907178996, Accuracy 0.18846549948506694       | Test: Loss 3.536306075560741, Accuracy 0.1918200408997955        \n",
      "Epoch [36/100]  | Train: Loss 3.508099547977554, Accuracy 0.18870653198062975       | Test: Loss 3.541718128399971, Accuracy 0.19161554192229038       \n",
      "Epoch [37/100]  | Train: Loss 3.496816660438836, Accuracy 0.19230010736902076       | Test: Loss 3.5192046837928967, Accuracy 0.19519427402862985      \n",
      "Epoch [38/100]  | Train: Loss 3.4880541583013267, Accuracy 0.1940749830181651       | Test: Loss 3.5211053444789004, Accuracy 0.19488752556237218      \n",
      "Epoch [39/100]  | Train: Loss 3.474533739036688, Accuracy 0.1959813309376164        | Test: Loss 3.5160876481960983, Accuracy 0.19826175869120655      \n",
      "Epoch [40/100]  | Train: Loss 3.4686988132625984, Accuracy 0.19738370182089093      | Test: Loss 3.517784344844329, Accuracy 0.19468302658486708       \n",
      "Epoch [41/100]  | Train: Loss 3.4594068473943786, Accuracy 0.19775620658676074      | Test: Loss 3.497637222974728, Accuracy 0.19846625766871165       \n",
      "Epoch [42/100]  | Train: Loss 3.4481171655921297, Accuracy 0.19924622565023994      | Test: Loss 3.498600348448142, Accuracy 0.19734151329243355       \n",
      "Epoch [43/100]  | Train: Loss 3.4378698298385024, Accuracy 0.20229199991235183      | Test: Loss 3.49048113822937, Accuracy 0.20051124744376278        \n",
      "Epoch [44/100]  | Train: Loss 3.430962444017719, Accuracy 0.20345333830006354       | Test: Loss 3.483458787966997, Accuracy 0.20194274028629858       \n",
      "Epoch [45/100]  | Train: Loss 3.418837568613404, Accuracy 0.2052063019041567        | Test: Loss 3.4793787002563477, Accuracy 0.20132924335378324      \n",
      "Epoch [46/100]  | Train: Loss 3.408335479278138, Accuracy 0.20790148344544995       | Test: Loss 3.4885271268013196, Accuracy 0.2002044989775051       \n",
      "Epoch [47/100]  | Train: Loss 3.402204674715436, Accuracy 0.20693735346319872       | Test: Loss 3.4763444509261694, Accuracy 0.20429447852760735      \n",
      "Epoch [48/100]  | Train: Loss 3.3901984145521453, Accuracy 0.20851502070688258      | Test: Loss 3.4723128416599374, Accuracy 0.20357873210633948      \n",
      "Epoch [49/100]  | Train: Loss 3.378574974710049, Accuracy 0.2089970856980082        | Test: Loss 3.4680828742491894, Accuracy 0.19948875255623721      \n",
      "Epoch [50/100]  | Train: Loss 3.372986172830592, Accuracy 0.21134167451848282       | Test: Loss 3.4609641967675624, Accuracy 0.20685071574642128      \n",
      "Epoch [51/100]  | Train: Loss 3.365399304714949, Accuracy 0.21362052720380392       | Test: Loss 3.456825708731627, Accuracy 0.20725971370143148       \n",
      "Epoch [52/100]  | Train: Loss 3.3540518337121887, Accuracy 0.21377391151916209      | Test: Loss 3.455014455012786, Accuracy 0.20449897750511248       \n",
      "Epoch [53/100]  | Train: Loss 3.347190605195541, Accuracy 0.21412450423998072       | Test: Loss 3.4441271133911915, Accuracy 0.2074642126789366       \n",
      "Epoch [54/100]  | Train: Loss 3.3353535130037275, Accuracy 0.21618423647479018      | Test: Loss 3.4478884782546606, Accuracy 0.21083844580777097      \n",
      "Epoch [55/100]  | Train: Loss 3.32746489887131, Accuracy 0.21861647347546947        | Test: Loss 3.4356993100582023, Accuracy 0.20889570552147238      \n",
      "Epoch [56/100]  | Train: Loss 3.3209410899178278, Accuracy 0.2183535289348555       | Test: Loss 3.445753421538915, Accuracy 0.2083844580777096        \n",
      "Epoch [57/100]  | Train: Loss 3.316021329197804, Accuracy 0.21855073734031596       | Test: Loss 3.4353145024715324, Accuracy 0.21032719836400818      \n",
      "Epoch [58/100]  | Train: Loss 3.3029690055207834, Accuracy 0.22356859565703266      | Test: Loss 3.433593132557013, Accuracy 0.2076687116564417        \n",
      "Epoch [59/100]  | Train: Loss 3.2928868325728944, Accuracy 0.22214431272870697      | Test: Loss 3.431849167897151, Accuracy 0.21083844580777097       \n",
      "Epoch [60/100]  | Train: Loss 3.2849146081082647, Accuracy 0.22516817494576769      | Test: Loss 3.425920205238538, Accuracy 0.21247443762781187       \n",
      "Epoch [61/100]  | Train: Loss 3.276990163259666, Accuracy 0.22716217104542366       | Test: Loss 3.427810889024001, Accuracy 0.2118609406952965        \n",
      "Epoch [62/100]  | Train: Loss 3.270373119322281, Accuracy 0.22792909262221442       | Test: Loss 3.4309457754477477, Accuracy 0.2118609406952965       \n",
      "Epoch [63/100]  | Train: Loss 3.2617434722751213, Accuracy 0.22663628196419572      | Test: Loss 3.415110172369541, Accuracy 0.2116564417177914        \n",
      "Epoch [64/100]  | Train: Loss 3.2525808438242483, Accuracy 0.23104060301947982      | Test: Loss 3.4152929966266337, Accuracy 0.21288343558282208      \n",
      "Epoch [65/100]  | Train: Loss 3.2427102507159695, Accuracy 0.23171987641606592      | Test: Loss 3.4151349679017677, Accuracy 0.21298568507157464      \n",
      "Epoch [66/100]  | Train: Loss 3.235777824284644, Accuracy 0.2333413677498521        | Test: Loss 3.425539976511246, Accuracy 0.21288343558282208       \n",
      "Epoch [67/100]  | Train: Loss 3.2243269235728174, Accuracy 0.23353857615531257      | Test: Loss 3.4230995972951255, Accuracy 0.21390593047034764      \n",
      "Epoch [68/100]  | Train: Loss 3.2199407982426647, Accuracy 0.2332756316146986       | Test: Loss 3.414134826415624, Accuracy 0.21411042944785277       \n",
      "Epoch [69/100]  | Train: Loss 3.2123993242253137, Accuracy 0.23437123386725683      | Test: Loss 3.414289706792587, Accuracy 0.2125766871165644        \n",
      "Epoch [70/100]  | Train: Loss 3.201327957920522, Accuracy 0.2372417117689594        | Test: Loss 3.3973163763682046, Accuracy 0.21431492842535788      \n",
      "Epoch [71/100]  | Train: Loss 3.192161568050278, Accuracy 0.239454828319127         | Test: Loss 3.4181414873172073, Accuracy 0.21206543967280164      \n",
      "Epoch [72/100]  | Train: Loss 3.1829917976976105, Accuracy 0.23952056445428052      | Test: Loss 3.415851794756376, Accuracy 0.21216768916155418       \n",
      "Epoch [73/100]  | Train: Loss 3.1778224233808463, Accuracy 0.2413392641935272       | Test: Loss 3.410876995477921, Accuracy 0.21574642126789367       \n",
      "Epoch [74/100]  | Train: Loss 3.166465443605817, Accuracy 0.24394679755461576       | Test: Loss 3.412477798950978, Accuracy 0.2156441717791411        \n",
      "Epoch [75/100]  | Train: Loss 3.157587859883655, Accuracy 0.243311348248132         | Test: Loss 3.418462423177866, Accuracy 0.2142126789366053        \n",
      "Epoch [76/100]  | Train: Loss 3.150789856244732, Accuracy 0.2453491684378903        | Test: Loss 3.4004769997719007, Accuracy 0.21554192229038854      \n",
      "Epoch [77/100]  | Train: Loss 3.1429584039656144, Accuracy 0.24637903455529506      | Test: Loss 3.407780488332113, Accuracy 0.2174846625766871        \n",
      "Epoch [78/100]  | Train: Loss 3.1291265474351424, Accuracy 0.24892083178123015      | Test: Loss 3.3970372676849365, Accuracy 0.21615541922290388      \n",
      "Epoch [79/100]  | Train: Loss 3.1234086692000234, Accuracy 0.24791287770887657      | Test: Loss 3.404859707905696, Accuracy 0.21554192229038854       \n",
      "Epoch [80/100]  | Train: Loss 3.1180994910234845, Accuracy 0.2487017113307185       | Test: Loss 3.400270095238319, Accuracy 0.2196319018404908        \n",
      "Epoch [81/100]  | Train: Loss 3.104054564204296, Accuracy 0.25027937857440236       | Test: Loss 3.4011369179456663, Accuracy 0.21697341513292434      \n",
      "Epoch [82/100]  | Train: Loss 3.1022006945903073, Accuracy 0.2519885180883932       | Test: Loss 3.386279045007168, Accuracy 0.2198364008179959        \n",
      "Epoch [83/100]  | Train: Loss 3.0911295134262, Accuracy 0.2549904682604027          | Test: Loss 3.404817501703898, Accuracy 0.21758691206543967       \n",
      "Epoch [84/100]  | Train: Loss 3.0744477290680954, Accuracy 0.2562394548283191       | Test: Loss 3.4115881430797086, Accuracy 0.21605316973415134      \n",
      "Epoch [85/100]  | Train: Loss 3.0708272763470696, Accuracy 0.2577513859368495       | Test: Loss 3.4105965968890066, Accuracy 0.2142126789366053       \n",
      "Epoch [86/100]  | Train: Loss 3.0582325245415034, Accuracy 0.25851830751364024      | Test: Loss 3.4058086016239266, Accuracy 0.21482617586912064      \n",
      "Epoch [87/100]  | Train: Loss 3.0549893978587743, Accuracy 0.259416701360738        | Test: Loss 3.3908684865022316, Accuracy 0.21901840490797547      \n",
      "Epoch [88/100]  | Train: Loss 3.0450800197750496, Accuracy 0.2602712711177334       | Test: Loss 3.402343370975592, Accuracy 0.21850715746421268       \n",
      "Epoch [89/100]  | Train: Loss 3.0333956153699138, Accuracy 0.2636895501457151       | Test: Loss 3.399654131669265, Accuracy 0.21779141104294478       \n",
      "Epoch [90/100]  | Train: Loss 3.026939266886791, Accuracy 0.2627911562986173        | Test: Loss 3.402877006775294, Accuracy 0.2198364008179959        \n",
      "Epoch [91/100]  | Train: Loss 3.0172309169556177, Accuracy 0.26533295352455244      | Test: Loss 3.407574549699441, Accuracy 0.219120654396728         \n",
      "Epoch [92/100]  | Train: Loss 3.0049549321222573, Accuracy 0.2674803339395666       | Test: Loss 3.4082533701872215, Accuracy 0.2198364008179959       \n",
      "Epoch [93/100]  | Train: Loss 3.004776244722931, Accuracy 0.266998268948441         | Test: Loss 3.4129684277069874, Accuracy 0.21881390593047034      \n",
      "Epoch [94/100]  | Train: Loss 2.998377709415372, Accuracy 0.2666476762276223        | Test: Loss 3.409063131381304, Accuracy 0.220040899795501         \n",
      "Epoch [95/100]  | Train: Loss 2.9876276434466824, Accuracy 0.2712492056883669       | Test: Loss 3.406583364193256, Accuracy 0.22106339468302658       \n",
      "Epoch [96/100]  | Train: Loss 2.9753225116090403, Accuracy 0.27173127067949254      | Test: Loss 3.404445990537986, Accuracy 0.219120654396728         \n",
      "Epoch [97/100]  | Train: Loss 2.969472799887204, Accuracy 0.2718627429497995        | Test: Loss 3.4035742099468527, Accuracy 0.21881390593047034      \n",
      "Epoch [98/100]  | Train: Loss 2.9565076388460296, Accuracy 0.2740977715450183       | Test: Loss 3.396350622177124, Accuracy 0.2205521472392638        \n",
      "Epoch [99/100]  | Train: Loss 2.9460529308745316, Accuracy 0.2762670640050836       | Test: Loss 3.4136491555434008, Accuracy 0.21942740286298568      \n",
      "Epoch [100/100] | Train: Loss 2.9369663033405495, Accuracy 0.27953195871770714      | Test: Loss 3.4125815293727775, Accuracy 0.22300613496932514      \n"
     ]
    },
    {
     "data": {
      "image/png": "[encoded data removed]",
      "text/plain": [
       "<Figure size 1500x500 with 2 Axes>"
      ]
     },
     "metadata": {},
     "output_type": "display_data"
    }
   ],
   "source": [
    "#Testing against the test dataset\n",
    "\n",
    "model = CATTransformer(alpha=best_params['alpha'],\n",
    "                           embed_size=best_params['embed_size'],\n",
    "                           n_cont=len(cont_columns),\n",
    "                           cat_feat=[],\n",
    "                           num_layers=best_params['num_layers'],\n",
    "                           heads=best_params['heads'],\n",
    "                           forward_expansion=best_params['forward_expansion'],\n",
    "                           decoder_dropout=best_params['decoder_dropout'],\n",
    "                           classification_dropout=best_params['classificiation_dropout'],\n",
    "                           pre_norm_on=best_params['pre_norm_on'],\n",
    "                           mlp_scale_classification=best_params['mlp_scale_classification'],\n",
    "                           regression_on=False,\n",
    "                           targets_classes=target_classes).to(device_in_use)\n",
    "loss_functions = nn.CrossEntropyLoss()\n",
    "optimizer = torch.optim.Adam(params=model.parameters(), lr = best_params['learning_rate']) # Maybe try messing around with optimizers. try other torch optimizers with different configurations.\n",
    "early_stopping = EarlyStopping(patience=5)\n",
    "epochs = 100 \n",
    "\n",
    "train_losses = []\n",
    "train_accuracies_1 = [] \n",
    "test_losses = []\n",
    "test_accuracies_1 = [] \n",
    "\n",
    "for t in range(epochs):\n",
    "    train_loss, train_acc = train(regression_on=False, \n",
    "                                   dataloader=train_dataloader, \n",
    "                                   model=model, \n",
    "                                   loss_function=loss_functions, \n",
    "                                   optimizer=optimizer, \n",
    "                                   device_in_use=device_in_use)\n",
    "    test_loss, test_acc = test(regression_on=False,\n",
    "                               dataloader=test_dataloader,\n",
    "                               model=model,\n",
    "                               loss_function=loss_functions,\n",
    "                               device_in_use=device_in_use)\n",
    "    train_losses.append(train_loss)\n",
    "    train_accuracies_1.append(train_acc)\n",
    "    test_losses.append(test_loss)\n",
    "    test_accuracies_1.append(test_acc)\n",
    "\n",
    "    epoch_str = f\"Epoch [{t+1:2}/{epochs}]\"\n",
    "    train_metrics = f\"Train: Loss {(train_loss)}, Accuracy {(train_acc)}\"\n",
    "    test_metrics = f\"Test: Loss {(test_loss)}, Accuracy {(test_acc)}\"\n",
    "    print(f\"{epoch_str:15} | {train_metrics:65} | {test_metrics:65}\")\n",
    "\n",
    "\n",
    "# Plotting the loss curves\n",
    "plt.figure(figsize=(15, 5))\n",
    "plt.subplot(1, 2, 1)\n",
    "plt.plot(range(1, epochs+1), train_losses, label='Train Loss')\n",
    "plt.plot(range(1, epochs+1), [l for l in test_losses], label='Test Loss')\n",
    "plt.xlabel('Epoch')\n",
    "plt.ylabel('Loss')\n",
    "plt.title('Training and Test Loss Curve')\n",
    "plt.legend()\n",
    "\n",
    "# Plotting the accuracy curves\n",
    "plt.subplot(1, 2, 2)\n",
    "plt.plot(range(1, epochs+1), train_accuracies_1, label='Train Accuracy')\n",
    "plt.plot(range(1, epochs+1), test_accuracies_1, label='Test Accuracy')\n",
    "plt.xlabel('Epoch')\n",
    "plt.ylabel('Accuracy')\n",
    "plt.title('Training and Test Accuracy Curve')\n",
    "plt.legend()\n",
    "\n",
    "best_index = test_accuracies_1.index(max(test_accuracies_1))\n",
    "print(f\"Best accuracy {test_accuracies_1[best_index]}\\n\",file=open(\"log_2pi.txt\", 'a'))\n"
   ]
  }
 ],
 "metadata": {
  "kernelspec": {
   "display_name": "ml-env",
   "language": "python",
   "name": "python3"
  },
  "language_info": {
   "codemirror_mode": {
    "name": "ipython",
    "version": 3
   },
   "file_extension": ".py",
   "mimetype": "text/x-python",
   "name": "python",
   "nbconvert_exporter": "python",
   "pygments_lexer": "ipython3",
   "version": "3.11.5"
  }
 },
 "nbformat": 4,
 "nbformat_minor": 2
}
