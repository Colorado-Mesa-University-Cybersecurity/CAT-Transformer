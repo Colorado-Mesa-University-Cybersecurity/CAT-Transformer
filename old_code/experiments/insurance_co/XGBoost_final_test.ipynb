{
 "cells": [
  {
   "cell_type": "code",
   "execution_count": 17,
   "metadata": {},
   "outputs": [],
   "source": [
    "import pandas as pd\n",
    "import numpy as np\n",
    "import xgboost as xgb\n",
    "from sklearn.model_selection import train_test_split\n",
    "from sklearn.metrics import mean_squared_error, confusion_matrix, accuracy_score, recall_score, f1_score, log_loss\n",
    "from sklearn.preprocessing import StandardScaler, LabelEncoder\n",
    "from hyperopt import tpe,hp,Trials, space_eval\n",
    "from hyperopt.fmin import fmin\n",
    "import matplotlib.pyplot as plt"
   ]
  },
  {
   "cell_type": "code",
   "execution_count": 18,
   "metadata": {},
   "outputs": [],
   "source": [
    "df_train = pd.read_csv('../../datasets/insurance/train.csv')\n",
    "df_test = pd.read_csv('../../datasets/insurance/test.csv')\n",
    "df_val = pd.read_csv('../../datasets/insurance/validation.csv')\n",
    "\n",
    "X_train = df_train.drop('MOSTYPE', axis=1)\n",
    "y_train = df_train['MOSTYPE']\n",
    "\n",
    "X_val = df_val.drop('MOSTYPE', axis=1)\n",
    "y_val = df_val['MOSTYPE']\n",
    "\n",
    "X_test = df_test.drop('MOSTYPE', axis=1)\n",
    "y_test = df_test['MOSTYPE']"
   ]
  },
  {
   "cell_type": "code",
   "execution_count": 19,
   "metadata": {},
   "outputs": [
    {
     "name": "stdout",
     "output_type": "stream",
     "text": [
      "MSE :  0.967980\n"
     ]
    }
   ],
   "source": [
    "# Instantiation \n",
    "model = xgb.XGBRegressor(objective ='reg:squarederror', \n",
    "                  n_estimators = 10, seed = 123) \n",
    "  \n",
    "# Fitting the model \n",
    "model.fit(X_train, y_train) \n",
    "  \n",
    "# Predict the model \n",
    "pred = model.predict(X_test) \n",
    "  \n",
    "# RMSE Computation \n",
    "mse = mean_squared_error(y_test, pred) \n",
    "print(\"MSE : % f\" %(mse)) "
   ]
  },
  {
   "cell_type": "code",
   "execution_count": null,
   "metadata": {},
   "outputs": [],
   "source": []
  }
 ],
 "metadata": {
  "kernelspec": {
   "display_name": "Python 3",
   "language": "python",
   "name": "python3"
  },
  "language_info": {
   "codemirror_mode": {
    "name": "ipython",
    "version": 3
   },
   "file_extension": ".py",
   "mimetype": "text/x-python",
   "name": "python",
   "nbconvert_exporter": "python",
   "pygments_lexer": "ipython3",
   "version": "3.9.16"
  },
  "orig_nbformat": 4
 },
 "nbformat": 4,
 "nbformat_minor": 2
}
