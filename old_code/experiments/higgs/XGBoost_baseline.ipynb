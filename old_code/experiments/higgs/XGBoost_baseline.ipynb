{
 "cells": [
  {
   "cell_type": "code",
   "execution_count": 1,
   "metadata": {},
   "outputs": [],
   "source": [
    "import pandas as pd\n",
    "import numpy as np\n",
    "import xgboost as xgb\n",
    "from sklearn.model_selection import train_test_split\n",
    "from sklearn.metrics import confusion_matrix, accuracy_score, recall_score, f1_score, log_loss\n",
    "from sklearn.preprocessing import StandardScaler, LabelEncoder\n",
    "\n",
    "import matplotlib.pyplot as plt"
   ]
  },
  {
   "cell_type": "code",
   "execution_count": 2,
   "metadata": {},
   "outputs": [],
   "source": [
    "# df_train = pd.read_csv('/home/cscadmin/CyberResearch/CAT-Transformer/datasets/covertype/train.csv') #REDO\n",
    "# df_val = pd.read_csv('/home/cscadmin/CyberResearch/CAT-Transformer/datasets/covertype/validation.csv')\n",
    "# df_test = pd.read_csv('/home/cscadmin/CyberResearch/CAT-Transformer/datasets/covertype/test.csv')\n",
    "\n",
    "df_train = pd.read_csv('../../datasets/higgs/train.csv')\n",
    "df_test = pd.read_csv('../../datasets/higgs/test.csv')\n",
    "df_val = pd.read_csv('../../datasets/higgs/validation.csv') #READ FROM RIGHT SPOT\n",
    "\n",
    "X_train = df_train.drop('class', axis=1)\n",
    "y_train = df_train['class']\n",
    "\n",
    "X_val = df_val.drop('class', axis=1)\n",
    "y_val = df_val['class']\n",
    "\n",
    "X_test = df_test.drop('class', axis=1)\n",
    "y_test = df_test['class']"
   ]
  },
  {
   "cell_type": "code",
   "execution_count": 3,
   "metadata": {},
   "outputs": [
    {
     "name": "stdout",
     "output_type": "stream",
     "text": [
      "Loss:  0.5446734743840069\n",
      "Accuracy:  0.715800924666848\n",
      "Recall:  0.715800924666848\n",
      "F1:  0.7156198225951491\n"
     ]
    }
   ],
   "source": [
    "model = xgb.XGBClassifier()\n",
    "\n",
    "model.fit(X_train, y_train)\n",
    "\n",
    "yhat = model.predict(X_test)\n",
    "yhat_probabilities = model.predict_proba(X_test)\n",
    "\n",
    "accuracy = accuracy_score(y_test, yhat)\n",
    "recall = recall_score(y_test, yhat, average='weighted')\n",
    "f1 = f1_score(y_test, yhat, average='weighted')\n",
    "loss = log_loss(y_test, yhat_probabilities)\n",
    "\n",
    "print(\"Loss: \", loss)\n",
    "print(\"Accuracy: \", accuracy)\n",
    "print(\"Recall: \", recall)\n",
    "print(\"F1: \", f1)"
   ]
  },
  {
   "cell_type": "code",
   "execution_count": null,
   "metadata": {},
   "outputs": [],
   "source": []
  }
 ],
 "metadata": {
  "kernelspec": {
   "display_name": "Python 3",
   "language": "python",
   "name": "python3"
  },
  "language_info": {
   "codemirror_mode": {
    "name": "ipython",
    "version": 3
   },
   "file_extension": ".py",
   "mimetype": "text/x-python",
   "name": "python",
   "nbconvert_exporter": "python",
   "pygments_lexer": "ipython3",
   "version": "3.9.16"
  },
  "orig_nbformat": 4
 },
 "nbformat": 4,
 "nbformat_minor": 2
}
