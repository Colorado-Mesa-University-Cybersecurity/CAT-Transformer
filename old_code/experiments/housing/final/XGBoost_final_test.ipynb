{
 "cells": [
  {
   "cell_type": "code",
   "execution_count": 1,
   "metadata": {},
   "outputs": [],
   "source": [
    "import pandas as pd\n",
    "import numpy as np\n",
    "import xgboost as xgb\n",
    "from sklearn.model_selection import train_test_split\n",
    "from sklearn.metrics import mean_squared_error, confusion_matrix, accuracy_score, recall_score, f1_score, log_loss\n",
    "from sklearn.preprocessing import StandardScaler, LabelEncoder\n",
    "from hyperopt import tpe,hp,Trials, space_eval\n",
    "from hyperopt.fmin import fmin\n",
    "import matplotlib.pyplot as plt"
   ]
  },
  {
   "cell_type": "code",
   "execution_count": 2,
   "metadata": {},
   "outputs": [],
   "source": [
    "df_train = pd.read_csv('./data/train.csv')\n",
    "df_test = pd.read_csv('./data/test.csv')\n",
    "df_val = pd.read_csv('./data/validation.csv') #READ FROM RIGHT SPOT\n",
    "\n",
    "X_train = df_train.drop('median_house_value', axis=1)\n",
    "y_train = df_train['median_house_value']\n",
    "\n",
    "X_val = df_val.drop('median_house_value', axis=1)\n",
    "y_val = df_val['median_house_value']\n",
    "\n",
    "X_test = df_test.drop('median_house_value', axis=1)\n",
    "y_test = df_test['median_house_value']"
   ]
  },
  {
   "cell_type": "code",
   "execution_count": 3,
   "metadata": {},
   "outputs": [
    {
     "name": "stdout",
     "output_type": "stream",
     "text": [
      "MSE :  0.234581\n"
     ]
    }
   ],
   "source": [
    "# Instantiation \n",
    "model = xgb.XGBRegressor(objective ='reg:squarederror', \n",
    "                  n_estimators = 10, seed = 123) \n",
    "  \n",
    "# Fitting the model \n",
    "model.fit(X_train, y_train) \n",
    "  \n",
    "# Predict the model \n",
    "pred = model.predict(X_test) \n",
    "  \n",
    "# RMSE Computation \n",
    "mse = mean_squared_error(y_test, pred) \n",
    "print(\"MSE : % f\" %(mse)) "
   ]
  },
  {
   "cell_type": "code",
   "execution_count": null,
   "metadata": {},
   "outputs": [],
   "source": []
  }
 ],
 "metadata": {
  "kernelspec": {
   "display_name": "Python 3",
   "language": "python",
   "name": "python3"
  },
  "language_info": {
   "codemirror_mode": {
    "name": "ipython",
    "version": 3
   },
   "file_extension": ".py",
   "mimetype": "text/x-python",
   "name": "python",
   "nbconvert_exporter": "python",
   "pygments_lexer": "ipython3",
   "version": "3.9.16"
  },
  "orig_nbformat": 4
 },
 "nbformat": 4,
 "nbformat_minor": 2
}
